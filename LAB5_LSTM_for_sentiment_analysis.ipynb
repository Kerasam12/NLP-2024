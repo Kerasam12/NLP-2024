{
 "cells": [
  {
   "cell_type": "markdown",
   "metadata": {},
   "source": [
    "# LAB 5. LSTM FOR TEXT CLASSIFICATION & SENTIMENT ANALYSIS"
   ]
  },
  {
   "cell_type": "code",
   "execution_count": 1,
   "metadata": {},
   "outputs": [
    {
     "data": {
      "text/plain": [
       "'1. Load the pipeline and the en_core_web_md modules\\n2. Show the components considered in the pipeline\\n3. Load the SA dataset from Campus Virtual\\n4. Explore the dataset to describe it\\n5. Add the text categorizer component (using a multilabel model) to the pipeline\\n6. Add two labels: positive and negative sentiments\\n7. Create the comments’ samples\\n8. Initialize the pipeline\\n9. Enable the text categorizer component to be trained\\n10. Create an optimizer object (resume_training) to keep weights of existing statistical\\nmodels\\n11. Set 5 training epochs, and loss values\\n12. Test new data'"
      ]
     },
     "execution_count": 1,
     "metadata": {},
     "output_type": "execute_result"
    }
   ],
   "source": [
    "\"\"\"1. Load the pipeline and the en_core_web_md modules\n",
    "2. Show the components considered in the pipeline\n",
    "3. Load the SA dataset from Campus Virtual\n",
    "4. Explore the dataset to describe it\n",
    "5. Add the text categorizer component (using a multilabel model) to the pipeline\n",
    "6. Add two labels: positive and negative sentiments\n",
    "7. Create the comments’ samples\n",
    "8. Initialize the pipeline\n",
    "9. Enable the text categorizer component to be trained\n",
    "10. Create an optimizer object (resume_training) to keep weights of existing statistical\n",
    "models\n",
    "11. Set 5 training epochs, and loss values\n",
    "12. Test new data\"\"\""
   ]
  },
  {
   "cell_type": "markdown",
   "metadata": {},
   "source": [
    "### 1. Load the pipeline and the en_core_web_md modules"
   ]
  },
  {
   "cell_type": "code",
   "execution_count": 2,
   "metadata": {},
   "outputs": [
    {
     "name": "stdout",
     "output_type": "stream",
     "text": [
      "\u001b[38;5;2m✔ Download and installation successful\u001b[0m\n",
      "You can now load the package via spacy.load('en_core_web_sm')\n",
      "\u001b[38;5;3m⚠ Restart to reload dependencies\u001b[0m\n",
      "If you are in a Jupyter or Colab notebook, you may need to restart Python in\n",
      "order to load all the package's dependencies. You can do this by selecting the\n",
      "'Restart kernel' or 'Restart runtime' option.\n"
     ]
    }
   ],
   "source": [
    "#Load the pipeline and the en_core_web_md modules\n",
    "import spacy\n",
    "\n",
    "spacy.cli.download(\"en_core_web_sm\")\n",
    "nlp = spacy.load(\"en_core_web_sm\")\n",
    "\n"
   ]
  },
  {
   "cell_type": "markdown",
   "metadata": {},
   "source": [
    "### 2. Show the components considered in the pipeline"
   ]
  },
  {
   "cell_type": "code",
   "execution_count": 3,
   "metadata": {},
   "outputs": [
    {
     "name": "stdout",
     "output_type": "stream",
     "text": [
      "['tok2vec', 'tagger', 'parser', 'attribute_ruler', 'lemmatizer', 'ner']\n"
     ]
    }
   ],
   "source": [
    "#Show the components considered in the pipeline\n",
    "print(nlp.pipe_names)"
   ]
  },
  {
   "cell_type": "markdown",
   "metadata": {},
   "source": [
    "### 3. Load the SA dataset from Campus Virtual"
   ]
  },
  {
   "cell_type": "code",
   "execution_count": 4,
   "metadata": {},
   "outputs": [],
   "source": [
    "#Load the SA dataset from Campus Virtual\n",
    "import pandas as pd\n",
    "\n",
    "sadataset = pd.read_csv(\"./contents/SA_dataset.csv\")"
   ]
  },
  {
   "cell_type": "code",
   "execution_count": 5,
   "metadata": {},
   "outputs": [
    {
     "data": {
      "text/html": [
       "<div>\n",
       "<style scoped>\n",
       "    .dataframe tbody tr th:only-of-type {\n",
       "        vertical-align: middle;\n",
       "    }\n",
       "\n",
       "    .dataframe tbody tr th {\n",
       "        vertical-align: top;\n",
       "    }\n",
       "\n",
       "    .dataframe thead th {\n",
       "        text-align: right;\n",
       "    }\n",
       "</style>\n",
       "<table border=\"1\" class=\"dataframe\">\n",
       "  <thead>\n",
       "    <tr style=\"text-align: right;\">\n",
       "      <th></th>\n",
       "      <th>Review</th>\n",
       "      <th>Rating</th>\n",
       "      <th>Sentiment</th>\n",
       "    </tr>\n",
       "  </thead>\n",
       "  <tbody>\n",
       "    <tr>\n",
       "      <th>0</th>\n",
       "      <td>**Possible Spoilers**</td>\n",
       "      <td>1</td>\n",
       "      <td>0</td>\n",
       "    </tr>\n",
       "    <tr>\n",
       "      <th>1</th>\n",
       "      <td>Read the book, forget the movie!</td>\n",
       "      <td>2</td>\n",
       "      <td>0</td>\n",
       "    </tr>\n",
       "    <tr>\n",
       "      <th>2</th>\n",
       "      <td>**Possible Spoilers Ahead**</td>\n",
       "      <td>2</td>\n",
       "      <td>0</td>\n",
       "    </tr>\n",
       "    <tr>\n",
       "      <th>3</th>\n",
       "      <td>What a script, what a story, what a mess!</td>\n",
       "      <td>2</td>\n",
       "      <td>0</td>\n",
       "    </tr>\n",
       "    <tr>\n",
       "      <th>4</th>\n",
       "      <td>I hope this group of film-makers never re-unites.</td>\n",
       "      <td>1</td>\n",
       "      <td>0</td>\n",
       "    </tr>\n",
       "  </tbody>\n",
       "</table>\n",
       "</div>"
      ],
      "text/plain": [
       "                                              Review  Rating  Sentiment\n",
       "0                              **Possible Spoilers**       1          0\n",
       "1                   Read the book, forget the movie!       2          0\n",
       "2                        **Possible Spoilers Ahead**       2          0\n",
       "3          What a script, what a story, what a mess!       2          0\n",
       "4  I hope this group of film-makers never re-unites.       1          0"
      ]
     },
     "execution_count": 5,
     "metadata": {},
     "output_type": "execute_result"
    }
   ],
   "source": [
    "sadataset.head()"
   ]
  },
  {
   "cell_type": "markdown",
   "metadata": {},
   "source": [
    "### 4. Explore the dataset to describe it"
   ]
  },
  {
   "cell_type": "code",
   "execution_count": 6,
   "metadata": {},
   "outputs": [
    {
     "name": "stdout",
     "output_type": "stream",
     "text": [
      "            Rating    Sentiment\n",
      "count  5000.000000  5000.000000\n",
      "mean      5.902200     0.550000\n",
      "std       3.653944     0.497543\n",
      "min       1.000000     0.000000\n",
      "25%       2.000000     0.000000\n",
      "50%       7.000000     1.000000\n",
      "75%      10.000000     1.000000\n",
      "max      10.000000     1.000000\n"
     ]
    }
   ],
   "source": [
    "#Explore the dataset to describe it\n",
    "print(sadataset.describe())\n"
   ]
  },
  {
   "cell_type": "code",
   "execution_count": 7,
   "metadata": {},
   "outputs": [
    {
     "name": "stdout",
     "output_type": "stream",
     "text": [
      "Rating\n",
      "10    1385\n",
      "1     1061\n",
      "8      520\n",
      "9      472\n",
      "3      401\n",
      "4      401\n",
      "2      387\n",
      "7      373\n",
      "Name: count, dtype: int64\n",
      "Rating\n",
      "10    0.2770\n",
      "1     0.2122\n",
      "8     0.1040\n",
      "9     0.0944\n",
      "3     0.0802\n",
      "4     0.0802\n",
      "2     0.0774\n",
      "7     0.0746\n",
      "Name: proportion, dtype: float64\n"
     ]
    }
   ],
   "source": [
    "#Get rating distribution\n",
    "rating_distribution = sadataset['Rating'].value_counts()\n",
    "print(rating_distribution)\n",
    "#Now print it in percentages \n",
    "rating_distribution = sadataset['Rating'].value_counts(normalize=True)\n",
    "print(rating_distribution)"
   ]
  },
  {
   "cell_type": "markdown",
   "metadata": {},
   "source": [
    "### 5. Add the text categorizer component (using a multilabel model) to the pipeline"
   ]
  },
  {
   "cell_type": "code",
   "execution_count": 8,
   "metadata": {},
   "outputs": [
    {
     "name": "stdout",
     "output_type": "stream",
     "text": [
      "['tok2vec', 'tagger', 'parser', 'attribute_ruler', 'lemmatizer', 'ner', 'textcat']\n"
     ]
    }
   ],
   "source": [
    "# Add the text categorizer component (using a multilabel model) to the pipeline\n",
    "nlp.add_pipe(\"textcat\")\n",
    "\n",
    "print(nlp.pipe_names)"
   ]
  },
  {
   "cell_type": "markdown",
   "metadata": {},
   "source": [
    "### 6. Add two labels: positive and negative sentiments"
   ]
  },
  {
   "cell_type": "code",
   "execution_count": 9,
   "metadata": {},
   "outputs": [
    {
     "data": {
      "text/plain": [
       "1"
      ]
     },
     "execution_count": 9,
     "metadata": {},
     "output_type": "execute_result"
    }
   ],
   "source": [
    "#Add two labels: positive and negative sentiments\n",
    "nlp.get_pipe(\"textcat\").add_label(\"positive\")\n",
    "nlp.get_pipe(\"textcat\").add_label(\"negative\")\n"
   ]
  },
  {
   "cell_type": "markdown",
   "metadata": {},
   "source": [
    "### 7. Create the comments’ samples"
   ]
  },
  {
   "cell_type": "code",
   "execution_count": 10,
   "metadata": {},
   "outputs": [
    {
     "data": {
      "text/html": [
       "<div>\n",
       "<style scoped>\n",
       "    .dataframe tbody tr th:only-of-type {\n",
       "        vertical-align: middle;\n",
       "    }\n",
       "\n",
       "    .dataframe tbody tr th {\n",
       "        vertical-align: top;\n",
       "    }\n",
       "\n",
       "    .dataframe thead th {\n",
       "        text-align: right;\n",
       "    }\n",
       "</style>\n",
       "<table border=\"1\" class=\"dataframe\">\n",
       "  <thead>\n",
       "    <tr style=\"text-align: right;\">\n",
       "      <th></th>\n",
       "      <th>Review</th>\n",
       "      <th>Rating</th>\n",
       "      <th>Sentiment</th>\n",
       "    </tr>\n",
       "  </thead>\n",
       "  <tbody>\n",
       "    <tr>\n",
       "      <th>4995</th>\n",
       "      <td>I have only seen this once--in 1986, at an \"ar...</td>\n",
       "      <td>10</td>\n",
       "      <td>1</td>\n",
       "    </tr>\n",
       "    <tr>\n",
       "      <th>4996</th>\n",
       "      <td>This being my first John Carpenter film, I mus...</td>\n",
       "      <td>9</td>\n",
       "      <td>1</td>\n",
       "    </tr>\n",
       "    <tr>\n",
       "      <th>4997</th>\n",
       "      <td>This is kind of a weird movie, given that Sant...</td>\n",
       "      <td>1</td>\n",
       "      <td>0</td>\n",
       "    </tr>\n",
       "    <tr>\n",
       "      <th>4998</th>\n",
       "      <td>Vic (Richard Dreyfuss) is a mob boss, leaving ...</td>\n",
       "      <td>4</td>\n",
       "      <td>0</td>\n",
       "    </tr>\n",
       "    <tr>\n",
       "      <th>4999</th>\n",
       "      <td>Yup, that's right folks, this is undoubtedly t...</td>\n",
       "      <td>1</td>\n",
       "      <td>0</td>\n",
       "    </tr>\n",
       "  </tbody>\n",
       "</table>\n",
       "</div>"
      ],
      "text/plain": [
       "                                                 Review  Rating  Sentiment\n",
       "4995  I have only seen this once--in 1986, at an \"ar...      10          1\n",
       "4996  This being my first John Carpenter film, I mus...       9          1\n",
       "4997  This is kind of a weird movie, given that Sant...       1          0\n",
       "4998  Vic (Richard Dreyfuss) is a mob boss, leaving ...       4          0\n",
       "4999  Yup, that's right folks, this is undoubtedly t...       1          0"
      ]
     },
     "execution_count": 10,
     "metadata": {},
     "output_type": "execute_result"
    }
   ],
   "source": [
    "sadataset.tail()"
   ]
  },
  {
   "cell_type": "code",
   "execution_count": 21,
   "metadata": {},
   "outputs": [
    {
     "data": {
      "text/plain": [
       "[('This movie is funny in more ways than one. It\\'s got action. It\\'s got humour. It\\'s got attitude. It\\'s got Dolemite\\'s all girl army of kung-fu hos! And that\\'s just what the movie offers as a film. It\\'s also badly acted by some, the mic makes more than one cameo appearance, and some \"punches\" miss by feet. But when you make a movie this cool, who\\'s got time to pay attention to those \"details\"? This movie rocks. Rent it tonight, if you can find it... I had to buy it to see it, but I don\\'t regret it!',\n",
       "  {'cats': {'negative': False, 'positive': True}}),\n",
       " ('I am sick of series with young and clueless people, talking about their \"problems\" all the time, self centered, boring and absolutely annoying (Popular; Dawson\\'s Creek; Beverly Hills; etc). \"Hack\" is a breath of fresh air, with a great actor (David Morse), a completely different plot, credible people with REAL problems (thank God !!) and very, very good histories. I just love it!! I hope \"Hack\" will go on for a long time, because it is a great television series for grown up people, for a change.',\n",
       "  {'cats': {'negative': False, 'positive': True}}),\n",
       " ('This is a bizarre oddity, directed by the guy who edited \"The Texas Chainsaw Massacre.\" Chuck Conners gives a hilariously over-the-top performance as the owner of a roadside \"wax\" museum which our doomed teenagers happen to break down near. The wax figures look \"so real,\" one of the teen\\'s points out. Heh, heh, heh...Not so much a slasher film as a weird mix of psychological horror and old fashioned \"House of Wax\"-style terror. I can think of many, many horror films that are worse than this one.',\n",
       "  {'cats': {'negative': False, 'positive': True}}),\n",
       " (\"The songs are fantastic and the story-line is good. Like many other acting schools, mine also produced HAIR. For most hair production it's a golden opportunity to do nude, but my production was fully dressed... I don't think full frontal nudity in a movie or a play guarantees artistic quality... And so did the creators of the movie. The movie version is great with classic hits following each other while letting the plot develop to the chilling climax. A great cast of actors, dancers and singers.\",\n",
       "  {'cats': {'negative': False, 'positive': True}}),\n",
       " (\"Wow. I've never seen nor heard of this film. It just came on tv (2:00 am) and I am in complete awe. Setup: a bunch of rich fat cats are out golfing. One knocks a ball into the rough. It lands by a NINJA!!!! A tuxedoed man walks over to pick the ball up. The ninja grabs it. Crushes it in his hand. Man pulls gun. Ninja pulls blowgun. Ninja blows dart into gun barrel. GUN EXPLODES!!!! This is just the beginning of the greatness, people. Everyone must see this movie. 10 big ol fat stars from trusty.\",\n",
       "  {'cats': {'negative': False, 'positive': True}}),\n",
       " ('I have only seen this once--in 1986, at an \"artsy\" theater in Minneapolis...but I remember it like I saw it a thousand times this morning. Hilarious (\"Sawing for Teens\", playing Scrabble with all \"e\" tiles), beautifully animated (taking off her eyes, shaking them back into position, then putting them back on), and poignant (the end of the world, the pettiness of a snit)...Required viewing for the human race. Calling this simply a cartoon is like calling THE GREAT GATSBY nifty typing.',\n",
       "  {'cats': {'negative': False, 'positive': True}}),\n",
       " (\"This being my first John Carpenter film, I must say I was very impressed by The Thing. Right from the beginning, the film draws you in, and never lets up on the tension. The film's special effects and models hold up well even today. Other than Kurt Russell, I wasn't familiar with any of the cast members but they were all exceptional in imparting fear, paranoia, and the desperation to survive. The Universal DVD has a wealth of very interesting behind the scenes extras. Strongly recommended, 9/10.\",\n",
       "  {'cats': {'negative': False, 'positive': True}}),\n",
       " ('This is kind of a weird movie, given that Santa Claus lives on a cloud in outer space and fights against Satan and his minions...but it\\'s still kinda fun.It has some genuine laughs...whether all of them were intentional is certainly debatable, though. This movie is not good, but I can say I really enjoyed watching it.I would recommend this movie over \"Santa Claus Conquers the Martians\", \"Santa Claus\" with Dudley Moore and John Lithgow, or \"The Santa Clause\" with Tim Allen.',\n",
       "  {'cats': {'negative': True, 'positive': False}}),\n",
       " (\"Vic (Richard Dreyfuss) is a mob boss, leaving a mental institution, back to his world of gangsters. How can a director have a cast with Richard Dreyfuss, Ellen Barkin, Jeff Goldblum, Diane Lane (very gorgeous), Gabriel Byrne, Gregory Hines, Kyle MacLachlan, Burt Reynolds, Billy Idol and a make such a waste of time? This movie is a comedy that is not funny, having a constellation in the cast. My vote is four.Title (Brazil):' Prazer em Matar-te!' ('Pleasure in Killing You!')\",\n",
       "  {'cats': {'negative': True, 'positive': False}}),\n",
       " (\"Yup, that's right folks, this is undoubtedly the worst show in the history of television. If you want to watch a sad, lonely and unfunny hack comedian attempt to entertain the masses with a half hour of pale and tired social ramblings that your mildly retarded cousin commented on at the Thanksgiving dinner table then this might be the show for you. This is billed as edgy comedy my friends but to be honest this makes Tim Allen look like Richard Pryor. Avoid at all costs. Unless you're a masochist.\",\n",
       "  {'cats': {'negative': True, 'positive': False}})]"
      ]
     },
     "execution_count": 21,
     "metadata": {},
     "output_type": "execute_result"
    }
   ],
   "source": [
    "#Create the comments’ samples\n",
    "train_texts = sadataset[\"Review\"].values\n",
    "train_sentiments = sadataset[\"Sentiment\"].values\n",
    "train_labels = [{\"cats\": {\"negative\": label == 0,\n",
    "                          \"positive\": label == 1}} \n",
    "                for label in sadataset[\"Sentiment\"]]\n",
    "train_data = list(zip(train_texts, train_labels))\n",
    "\n",
    "train_data[-10:]"
   ]
  },
  {
   "cell_type": "markdown",
   "metadata": {},
   "source": [
    "### 8. Initialize the pipeline"
   ]
  },
  {
   "cell_type": "code",
   "execution_count": 34,
   "metadata": {},
   "outputs": [
    {
     "data": {
      "text/plain": [
       "<thinc.optimizers.Optimizer at 0x21a95fa0c20>"
      ]
     },
     "execution_count": 34,
     "metadata": {},
     "output_type": "execute_result"
    }
   ],
   "source": [
    "nlp.initialize()"
   ]
  },
  {
   "cell_type": "code",
   "execution_count": 35,
   "metadata": {},
   "outputs": [
    {
     "data": {
      "text/plain": [
       "<thinc.optimizers.Optimizer at 0x21a95f9cb80>"
      ]
     },
     "execution_count": 35,
     "metadata": {},
     "output_type": "execute_result"
    }
   ],
   "source": [
    "#Initialize the pipeline\n",
    "nlp.begin_training()"
   ]
  },
  {
   "cell_type": "markdown",
   "metadata": {},
   "source": [
    "### 9. Enable the text categorizer component to be trained"
   ]
  },
  {
   "cell_type": "code",
   "execution_count": 36,
   "metadata": {},
   "outputs": [
    {
     "ename": "AttributeError",
     "evalue": "'TextCategorizer' object has no attribute 'begin_training'",
     "output_type": "error",
     "traceback": [
      "\u001b[1;31m---------------------------------------------------------------------------\u001b[0m",
      "\u001b[1;31mAttributeError\u001b[0m                            Traceback (most recent call last)",
      "Cell \u001b[1;32mIn[36], line 3\u001b[0m\n\u001b[0;32m      1\u001b[0m \u001b[38;5;66;03m#enable the text categorizer to be trained\u001b[39;00m\n\u001b[0;32m      2\u001b[0m textcat \u001b[38;5;241m=\u001b[39m nlp\u001b[38;5;241m.\u001b[39mget_pipe(\u001b[38;5;124m\"\u001b[39m\u001b[38;5;124mtextcat\u001b[39m\u001b[38;5;124m\"\u001b[39m)\n\u001b[1;32m----> 3\u001b[0m \u001b[43mtextcat\u001b[49m\u001b[38;5;241;43m.\u001b[39;49m\u001b[43mbegin_training\u001b[49m()\n\u001b[0;32m      4\u001b[0m \u001b[38;5;66;03m#textcat = select_pipes(nlp, include=[\"textcat\"])\u001b[39;00m\n",
      "\u001b[1;31mAttributeError\u001b[0m: 'TextCategorizer' object has no attribute 'begin_training'"
     ]
    }
   ],
   "source": [
    "#enable the text categorizer to be trained\n",
    "\n",
    "#textcat = select_pipes(nlp, include=[\"textcat\"])\n"
   ]
  },
  {
   "cell_type": "markdown",
   "metadata": {},
   "source": [
    "### 10. Create an optimizer object (resume_training) to keep weights of existing statistical models"
   ]
  },
  {
   "cell_type": "code",
   "execution_count": 37,
   "metadata": {},
   "outputs": [],
   "source": [
    "\n",
    "#Create an optimizer object (resume_training) to keep weights of existing statistical models\n",
    "from spacy.util import minibatch\n",
    "import random\n",
    "\n",
    "random.seed(1)\n",
    "spacy.util.fix_random_seed(1)\n",
    "optimizer = nlp.begin_training()"
   ]
  },
  {
   "cell_type": "markdown",
   "metadata": {},
   "source": [
    "### 11. Set 5 training epochs, and loss values"
   ]
  },
  {
   "cell_type": "code",
   "execution_count": 71,
   "metadata": {},
   "outputs": [
    {
     "name": "stdout",
     "output_type": "stream",
     "text": [
      "{'textcat': 5.334400889761559e-12}\n",
      "{'textcat': 4.876033040876471e-11}\n",
      "{'textcat': 1.2085375885803606e-10}\n",
      "{'textcat': 5.084640360662751e-10}\n",
      "{'textcat': 5.412476660436594e-10}\n",
      "{'textcat': 5.657594752926653e-10}\n",
      "{'textcat': 8.385492105376924e-10}\n",
      "{'textcat': 8.843528769529596e-10}\n",
      "{'textcat': 8.906727898619349e-10}\n",
      "{'textcat': 1.0187475767489684e-09}\n",
      "{'textcat': 1.018941960700178e-09}\n",
      "{'textcat': 1.1774469198581015e-09}\n",
      "{'textcat': 2.7044896343578727e-09}\n",
      "{'textcat': 2.770514500487816e-09}\n",
      "{'textcat': 2.8280362170444127e-09}\n",
      "{'textcat': 3.3933637795849868e-09}\n",
      "{'textcat': 3.440805163739454e-09}\n",
      "{'textcat': 4.672704635060639e-09}\n",
      "{'textcat': 4.960498645905417e-09}\n",
      "{'textcat': 4.981613956794081e-09}\n",
      "{'textcat': 4.989639662761943e-09}\n",
      "{'textcat': 5.015806316675028e-09}\n",
      "{'textcat': 5.391022952214771e-09}\n",
      "{'textcat': 5.398915613565643e-09}\n",
      "{'textcat': 5.420785692230364e-09}\n",
      "{'textcat': 6.408289548694764e-09}\n",
      "{'textcat': 6.6722800725802466e-09}\n",
      "{'textcat': 6.810642310913547e-09}\n",
      "{'textcat': 6.907510879635478e-09}\n",
      "{'textcat': 6.92910613126407e-09}\n",
      "{'textcat': 7.065225330509569e-09}\n",
      "{'textcat': 7.135879042557188e-09}\n",
      "{'textcat': 7.190709949732917e-09}\n",
      "{'textcat': 7.201805836962779e-09}\n",
      "{'textcat': 7.203421971055651e-09}\n",
      "{'textcat': 8.271893726572149e-09}\n",
      "{'textcat': 8.279800075758608e-09}\n",
      "{'textcat': 8.289904243261297e-09}\n",
      "{'textcat': 8.298798118480926e-09}\n",
      "{'textcat': 8.334309705207692e-09}\n",
      "{'textcat': 8.429030505855122e-09}\n",
      "{'textcat': 8.439947016606036e-09}\n",
      "{'textcat': 8.532853046697413e-09}\n",
      "{'textcat': 8.534054105914773e-09}\n",
      "{'textcat': 9.243297880736061e-09}\n",
      "{'textcat': 9.379312802283973e-09}\n",
      "{'textcat': 9.44122352882935e-09}\n",
      "{'textcat': 9.446278944984492e-09}\n",
      "{'textcat': 1.4252199051305574e-08}\n",
      "{'textcat': 1.4256344654437186e-08}\n",
      "{'textcat': 1.4330323144437756e-08}\n",
      "{'textcat': 1.4646243684166265e-08}\n",
      "{'textcat': 1.4714904101795472e-08}\n",
      "{'textcat': 1.480335866491404e-08}\n",
      "{'textcat': 1.4977059468654613e-08}\n",
      "{'textcat': 1.498490703673609e-08}\n",
      "{'textcat': 1.4985670478563206e-08}\n",
      "{'textcat': 1.5000408390842667e-08}\n",
      "{'textcat': 1.5008026661440365e-08}\n",
      "{'textcat': 1.5396042281074895e-08}\n",
      "{'textcat': 1.5574988097572916e-08}\n",
      "{'textcat': 1.5585926863958665e-08}\n",
      "{'textcat': 1.563344724742023e-08}\n",
      "{'textcat': 1.5639229105051788e-08}\n",
      "{'textcat': 1.5639856574265528e-08}\n",
      "{'textcat': 1.5800656669726684e-08}\n",
      "{'textcat': 1.586874566250401e-08}\n",
      "{'textcat': 1.5903626351119245e-08}\n",
      "{'textcat': 1.5954342896665804e-08}\n",
      "{'textcat': 1.5979770091737507e-08}\n",
      "{'textcat': 1.600296900501402e-08}\n",
      "{'textcat': 1.6013247129719518e-08}\n",
      "{'textcat': 1.6014533631982745e-08}\n",
      "{'textcat': 1.674157900033663e-08}\n",
      "{'textcat': 1.674793004806255e-08}\n",
      "{'textcat': 1.6748936106363455e-08}\n",
      "{'textcat': 1.6752844950531937e-08}\n",
      "{'textcat': 1.6926271987152425e-08}\n",
      "{'textcat': 1.6938885925691944e-08}\n",
      "{'textcat': 1.699954299533681e-08}\n",
      "{'textcat': 1.7002791859838887e-08}\n",
      "{'textcat': 1.7215685562505748e-08}\n",
      "{'textcat': 1.7303081028369974e-08}\n",
      "{'textcat': 1.7303817860840013e-08}\n",
      "{'textcat': 1.7328555253529835e-08}\n",
      "{'textcat': 1.745563049275001e-08}\n",
      "{'textcat': 1.7737596831916228e-08}\n",
      "{'textcat': 1.7795504607712957e-08}\n",
      "{'textcat': 1.7817053918659734e-08}\n",
      "{'textcat': 1.8055001802278706e-08}\n",
      "{'textcat': 1.8055525639220412e-08}\n",
      "{'textcat': 1.8056764888808776e-08}\n",
      "{'textcat': 1.810504961918943e-08}\n",
      "{'textcat': 1.811360523200486e-08}\n",
      "{'textcat': 1.8113881519732367e-08}\n",
      "{'textcat': 1.8170086241164896e-08}\n",
      "{'textcat': 2.094515974548905e-08}\n",
      "{'textcat': 2.0947403670586867e-08}\n",
      "{'textcat': 2.105919297756484e-08}\n",
      "{'textcat': 2.1810527416673414e-08}\n",
      "{'textcat': 2.1848504725471146e-08}\n",
      "{'textcat': 2.1887648830095502e-08}\n",
      "{'textcat': 2.189377190956951e-08}\n",
      "{'textcat': 2.196212496195435e-08}\n",
      "{'textcat': 2.2053258333636777e-08}\n",
      "{'textcat': 2.2057078264553498e-08}\n",
      "{'textcat': 2.2058915990705308e-08}\n",
      "{'textcat': 2.206511028404745e-08}\n",
      "{'textcat': 2.2088098627914832e-08}\n",
      "{'textcat': 2.21493441712739e-08}\n",
      "{'textcat': 2.218543145721119e-08}\n",
      "{'textcat': 2.2186583221984156e-08}\n",
      "{'textcat': 2.218747994088121e-08}\n",
      "{'textcat': 2.223644362121368e-08}\n",
      "{'textcat': 2.2250541764005753e-08}\n",
      "{'textcat': 2.2272039210190046e-08}\n",
      "{'textcat': 2.22952911452896e-08}\n",
      "{'textcat': 2.2374754747654484e-08}\n",
      "{'textcat': 2.2383007556680927e-08}\n",
      "{'textcat': 2.2521994434243457e-08}\n",
      "{'textcat': 2.276146121398242e-08}\n",
      "{'textcat': 2.2780483945289247e-08}\n",
      "{'textcat': 2.28647354122034e-08}\n",
      "{'textcat': 2.3054968893948362e-08}\n",
      "{'textcat': 2.3063262574794623e-08}\n",
      "{'textcat': 2.306704276883436e-08}\n",
      "{'textcat': 2.313062262549164e-08}\n",
      "{'textcat': 2.3132307606530886e-08}\n",
      "{'textcat': 2.318502944037397e-08}\n",
      "{'textcat': 2.3190246106448778e-08}\n",
      "{'textcat': 2.3192112032265413e-08}\n",
      "{'textcat': 2.3193123155958867e-08}\n",
      "{'textcat': 2.3199079209317713e-08}\n",
      "{'textcat': 2.331372908918536e-08}\n",
      "{'textcat': 2.3362738136006173e-08}\n",
      "{'textcat': 2.4388481626152342e-08}\n",
      "{'textcat': 2.441111727818565e-08}\n",
      "{'textcat': 2.4442458627840086e-08}\n",
      "{'textcat': 2.444454076677184e-08}\n",
      "{'textcat': 2.4546972711642426e-08}\n",
      "{'textcat': 2.4556187973008917e-08}\n",
      "{'textcat': 2.4685452627544804e-08}\n",
      "{'textcat': 2.4687845859641677e-08}\n",
      "{'textcat': 2.4873363100100243e-08}\n",
      "{'textcat': 2.4910248400469848e-08}\n",
      "{'textcat': 2.511652342530868e-08}\n",
      "{'textcat': 2.5125932038953802e-08}\n",
      "{'textcat': 2.5135147110368072e-08}\n",
      "{'textcat': 2.5171946451719995e-08}\n",
      "{'textcat': 2.520688933364129e-08}\n",
      "{'textcat': 2.5227127580483566e-08}\n",
      "{'textcat': 2.5507526201472286e-08}\n",
      "{'textcat': 2.5511218656668055e-08}\n",
      "{'textcat': 2.556235709043342e-08}\n",
      "{'textcat': 2.557035962483245e-08}\n",
      "{'textcat': 2.559769078473717e-08}\n",
      "{'textcat': 2.5619884306063434e-08}\n",
      "{'textcat': 2.562215235986376e-08}\n",
      "{'textcat': 2.5630935043645386e-08}\n",
      "{'textcat': 2.7611361089023567e-08}\n",
      "{'textcat': 2.763038401808887e-08}\n",
      "{'textcat': 2.7684925372160885e-08}\n",
      "{'textcat': 2.7687920425801746e-08}\n",
      "{'textcat': 2.7750503121771672e-08}\n",
      "{'textcat': 2.8015157198203397e-08}\n",
      "{'textcat': 2.8038745520471073e-08}\n",
      "{'textcat': 2.816752031685292e-08}\n",
      "{'textcat': 2.8168732214188877e-08}\n",
      "{'textcat': 2.818514514423172e-08}\n",
      "{'textcat': 2.846782194286697e-08}\n",
      "{'textcat': 2.847684804478147e-08}\n",
      "{'textcat': 2.8572339312452413e-08}\n",
      "{'textcat': 2.8577640516372696e-08}\n",
      "{'textcat': 2.8604662087117552e-08}\n",
      "{'textcat': 2.86052765248717e-08}\n",
      "{'textcat': 9.65220633860047e-08}\n",
      "{'textcat': 9.667540013208291e-08}\n",
      "{'textcat': 9.788545585437229e-08}\n",
      "{'textcat': 9.792968854479937e-08}\n",
      "{'textcat': 9.793045189219248e-08}\n",
      "{'textcat': 9.794402711473579e-08}\n",
      "{'textcat': 9.79563752025658e-08}\n",
      "{'textcat': 9.806617290127658e-08}\n",
      "{'textcat': 9.826378796447873e-08}\n",
      "{'textcat': 9.828404811567434e-08}\n",
      "{'textcat': 9.828483507634024e-08}\n",
      "{'textcat': 1.0091834248848221e-07}\n",
      "{'textcat': 1.0150177379175153e-07}\n",
      "{'textcat': 1.0165153938057093e-07}\n",
      "{'textcat': 1.0169876999929252e-07}\n",
      "{'textcat': 1.0519342412093104e-07}\n",
      "{'textcat': 1.0519456613254652e-07}\n",
      "{'textcat': 1.0528604266722696e-07}\n",
      "{'textcat': 1.104425996264341e-07}\n",
      "{'textcat': 1.1046826319319192e-07}\n",
      "{'textcat': 1.1060681364208347e-07}\n",
      "{'textcat': 1.1063944690276051e-07}\n",
      "{'textcat': 1.106412545383989e-07}\n",
      "{'textcat': 1.107420133563547e-07}\n",
      "{'textcat': 1.1074788330714749e-07}\n",
      "{'textcat': 1.1191875015506905e-07}\n",
      "{'textcat': 1.1196651891276846e-07}\n",
      "{'textcat': 1.1196832186519557e-07}\n",
      "{'textcat': 1.1197561351598568e-07}\n",
      "{'textcat': 1.1199516933822502e-07}\n",
      "{'textcat': 1.1199549225957505e-07}\n",
      "{'textcat': 1.1200066403143998e-07}\n",
      "{'textcat': 1.120154301017509e-07}\n",
      "{'textcat': 1.1208470742174264e-07}\n",
      "{'textcat': 1.1220355021845734e-07}\n",
      "{'textcat': 1.122126813717561e-07}\n",
      "{'textcat': 1.1231405172830943e-07}\n",
      "{'textcat': 1.1231443493815783e-07}\n",
      "{'textcat': 1.1232485370817123e-07}\n",
      "{'textcat': 1.1582602883576719e-07}\n",
      "{'textcat': 1.1582691413882852e-07}\n",
      "{'textcat': 1.1585798571816575e-07}\n",
      "{'textcat': 1.1586219471026158e-07}\n",
      "{'textcat': 1.1654965146844763e-07}\n",
      "{'textcat': 1.1655170207509392e-07}\n",
      "{'textcat': 1.16552518398882e-07}\n",
      "{'textcat': 1.1656477349512536e-07}\n",
      "{'textcat': 1.1657654362860433e-07}\n",
      "{'textcat': 1.871158371460175e-07}\n",
      "{'textcat': 1.8719018003897033e-07}\n",
      "{'textcat': 1.874132123815648e-07}\n",
      "{'textcat': 1.8748529332000504e-07}\n",
      "{'textcat': 1.8748916781317925e-07}\n",
      "{'textcat': 1.8750183708679557e-07}\n",
      "{'textcat': 1.875052842282394e-07}\n",
      "{'textcat': 1.8762258403699447e-07}\n",
      "{'textcat': 1.8777033529266914e-07}\n",
      "{'textcat': 1.880063881088518e-07}\n",
      "{'textcat': 1.8805123713612156e-07}\n",
      "{'textcat': 1.8805597116309408e-07}\n",
      "{'textcat': 1.8806131328046754e-07}\n",
      "{'textcat': 1.880727566588305e-07}\n",
      "{'textcat': 1.891875130571321e-07}\n",
      "{'textcat': 1.8944148304106422e-07}\n",
      "{'textcat': 1.894431176348917e-07}\n",
      "{'textcat': 1.897658617996186e-07}\n",
      "{'textcat': 1.8978245068613305e-07}\n",
      "{'textcat': 1.900054563972527e-07}\n",
      "{'textcat': 1.900374201483431e-07}\n",
      "{'textcat': 1.900390245473569e-07}\n",
      "{'textcat': 1.9009277409730665e-07}\n",
      "{'textcat': 1.9066183900361502e-07}\n",
      "{'textcat': 1.9068730428280591e-07}\n",
      "{'textcat': 1.906914773752331e-07}\n",
      "{'textcat': 1.907043658060071e-07}\n",
      "{'textcat': 1.9073003460816037e-07}\n",
      "{'textcat': 1.9073140726882606e-07}\n",
      "{'textcat': 1.9073983181894607e-07}\n",
      "{'textcat': 1.9082054797492734e-07}\n",
      "{'textcat': 1.9082318328790212e-07}\n",
      "{'textcat': 1.9084354939427292e-07}\n",
      "{'textcat': 1.9084897927260807e-07}\n",
      "{'textcat': 1.9084927409238647e-07}\n",
      "{'textcat': 1.9086274608847461e-07}\n",
      "{'textcat': 1.9109327884802327e-07}\n",
      "{'textcat': 1.9110812050717493e-07}\n",
      "{'textcat': 1.9111631799326764e-07}\n",
      "{'textcat': 1.9111982317812528e-07}\n",
      "{'textcat': 1.9121504685429172e-07}\n",
      "{'textcat': 1.9125293484564712e-07}\n",
      "{'textcat': 1.9125520255467115e-07}\n",
      "{'textcat': 1.9247343184989013e-07}\n",
      "{'textcat': 1.9249106540422905e-07}\n",
      "{'textcat': 1.9249374183622175e-07}\n",
      "{'textcat': 1.930833827278901e-07}\n",
      "{'textcat': 1.930916089904432e-07}\n",
      "{'textcat': 1.930926698615607e-07}\n",
      "{'textcat': 1.9314757117422344e-07}\n",
      "{'textcat': 1.9315670232145066e-07}\n",
      "{'textcat': 1.9322922191594683e-07}\n",
      "{'textcat': 1.9323847486678292e-07}\n",
      "{'textcat': 1.9338014559748518e-07}\n",
      "{'textcat': 1.950846587947389e-07}\n",
      "{'textcat': 1.950914220045228e-07}\n",
      "{'textcat': 1.951111599276243e-07}\n",
      "{'textcat': 1.9559522688081233e-07}\n",
      "{'textcat': 1.955994467032205e-07}\n",
      "{'textcat': 1.956030096522015e-07}\n",
      "{'textcat': 1.9560561947254743e-07}\n",
      "{'textcat': 1.9561666098660466e-07}\n",
      "{'textcat': 1.9562410192509503e-07}\n",
      "{'textcat': 1.9586974287711854e-07}\n",
      "{'textcat': 1.9587274434077948e-07}\n",
      "{'textcat': 1.9587978672221443e-07}\n",
      "{'textcat': 1.9651447779968681e-07}\n",
      "{'textcat': 1.9662141087319388e-07}\n",
      "{'textcat': 1.9666850632573166e-07}\n",
      "{'textcat': 1.9667288089241278e-07}\n",
      "{'textcat': 1.966773181277142e-07}\n",
      "{'textcat': 1.9668417106390146e-07}\n",
      "{'textcat': 1.9668773050570527e-07}\n",
      "{'textcat': 1.9669661810296063e-07}\n",
      "{'textcat': 1.9669887456295345e-07}\n",
      "{'textcat': 1.9670274869096837e-07}\n",
      "{'textcat': 1.967037558461566e-07}\n",
      "{'textcat': 1.96735747883648e-07}\n",
      "{'textcat': 1.967478989146974e-07}\n",
      "{'textcat': 1.9675873942634546e-07}\n",
      "{'textcat': 1.967806783318988e-07}\n",
      "{'textcat': 1.9679402705159786e-07}\n",
      "{'textcat': 1.9679429285506325e-07}\n",
      "{'textcat': 1.9709841261221842e-07}\n",
      "{'textcat': 1.9714449977408302e-07}\n",
      "{'textcat': 1.972009310642793e-07}\n",
      "{'textcat': 1.9720123237753425e-07}\n",
      "{'textcat': 1.9720255889086919e-07}\n",
      "{'textcat': 1.9721462760408548e-07}\n",
      "{'textcat': 1.9721605675016647e-07}\n",
      "{'textcat': 1.9754706716368993e-07}\n",
      "{'textcat': 1.975503012672131e-07}\n",
      "{'textcat': 1.9791657533384526e-07}\n",
      "{'textcat': 1.9791865990572669e-07}\n",
      "{'textcat': 1.984069952223552e-07}\n",
      "{'textcat': 1.9960017499955876e-07}\n",
      "{'textcat': 1.9962088737581732e-07}\n",
      "{'textcat': 2.0014732804465277e-07}\n",
      "{'textcat': 2.0078261953073687e-07}\n",
      "{'textcat': 2.0090288063736553e-07}\n",
      "{'textcat': 2.0090318862499615e-07}\n",
      "{'textcat': 2.0090616713371186e-07}\n",
      "{'textcat': 2.0090883864689615e-07}\n",
      "{'textcat': 2.0092307502286313e-07}\n",
      "{'textcat': 2.009284209141275e-07}\n",
      "{'textcat': 2.0097340826824724e-07}\n",
      "{'textcat': 2.0101417651813432e-07}\n",
      "{'textcat': 2.0114267914334168e-07}\n",
      "{'textcat': 2.0114423063632525e-07}\n",
      "{'textcat': 2.0123777373320484e-07}\n",
      "{'textcat': 2.012461618168353e-07}\n",
      "{'textcat': 2.013004393853861e-07}\n",
      "{'textcat': 2.0130590377734586e-07}\n",
      "{'textcat': 2.0138583851672903e-07}\n",
      "{'textcat': 2.0139523454235325e-07}\n",
      "{'textcat': 2.0139747884692183e-07}\n",
      "{'textcat': 2.0140401422809903e-07}\n",
      "{'textcat': 2.0156743009227293e-07}\n",
      "{'textcat': 2.01567661552469e-07}\n",
      "{'textcat': 2.016610445760051e-07}\n",
      "{'textcat': 2.0168168381111775e-07}\n",
      "{'textcat': 2.016966472894908e-07}\n",
      "{'textcat': 2.0170352708657005e-07}\n",
      "{'textcat': 2.017039383551641e-07}\n",
      "{'textcat': 2.0171170670536332e-07}\n",
      "{'textcat': 2.017169267155513e-07}\n",
      "{'textcat': 2.0193209554275138e-07}\n",
      "{'textcat': 2.0199490824917643e-07}\n",
      "{'textcat': 2.0200521610877703e-07}\n",
      "{'textcat': 2.020107020494718e-07}\n",
      "{'textcat': 2.02012572028253e-07}\n",
      "{'textcat': 2.020176810326184e-07}\n",
      "{'textcat': 2.0206474751874358e-07}\n",
      "{'textcat': 2.0206674253704345e-07}\n",
      "{'textcat': 2.0207056593697344e-07}\n",
      "{'textcat': 2.0207319687584298e-07}\n",
      "{'textcat': 2.0226978233208988e-07}\n",
      "{'textcat': 2.025863633990069e-07}\n",
      "{'textcat': 2.0261270207330402e-07}\n",
      "{'textcat': 2.026290815613477e-07}\n",
      "{'textcat': 2.0263346846147905e-07}\n",
      "{'textcat': 2.026393934671908e-07}\n",
      "{'textcat': 2.026535792204573e-07}\n",
      "{'textcat': 2.139890166980127e-07}\n",
      "{'textcat': 2.139940411333076e-07}\n",
      "{'textcat': 2.1401957392793618e-07}\n",
      "{'textcat': 2.140433108899849e-07}\n",
      "{'textcat': 2.14051615070245e-07}\n",
      "{'textcat': 2.140613603373383e-07}\n",
      "{'textcat': 2.1406187158512068e-07}\n",
      "{'textcat': 2.1483681747036087e-07}\n",
      "{'textcat': 2.1483819754967992e-07}\n",
      "{'textcat': 2.149666059030747e-07}\n",
      "{'textcat': 2.1497145180236418e-07}\n",
      "{'textcat': 2.1499722387607542e-07}\n",
      "{'textcat': 2.1499744124264613e-07}\n",
      "{'textcat': 2.1503570379549446e-07}\n",
      "{'textcat': 2.1504687703838093e-07}\n",
      "{'textcat': 2.150471833096924e-07}\n",
      "{'textcat': 2.1506223625989817e-07}\n",
      "{'textcat': 2.1507105052692276e-07}\n",
      "{'textcat': 2.1507534089056004e-07}\n",
      "{'textcat': 2.150764398465557e-07}\n",
      "{'textcat': 2.1510818073425166e-07}\n",
      "{'textcat': 2.165115499328787e-07}\n",
      "{'textcat': 2.1660940208287262e-07}\n",
      "{'textcat': 2.1663163247921582e-07}\n",
      "{'textcat': 2.1665388641922603e-07}\n",
      "{'textcat': 2.16657103355492e-07}\n",
      "{'textcat': 2.1666172594512947e-07}\n",
      "{'textcat': 2.1666820653202992e-07}\n",
      "{'textcat': 2.1705779278417738e-07}\n",
      "{'textcat': 1.446056505361045e-06}\n",
      "{'textcat': 1.4460617193435025e-06}\n",
      "{'textcat': 1.4460639129221546e-06}\n",
      "{'textcat': 1.4460698485205216e-06}\n",
      "{'textcat': 1.44607054512058e-06}\n",
      "{'textcat': 1.4460726348376513e-06}\n",
      "{'textcat': 1.446163420383399e-06}\n",
      "{'textcat': 1.4471415550677586e-06}\n",
      "{'textcat': 1.4471637301871382e-06}\n",
      "{'textcat': 1.4475968885574214e-06}\n",
      "{'textcat': 1.4478448096022262e-06}\n",
      "{'textcat': 1.447849506139656e-06}\n",
      "{'textcat': 1.4478655172695779e-06}\n",
      "{'textcat': 1.4480032935599543e-06}\n",
      "{'textcat': 1.4480058729085814e-06}\n",
      "{'textcat': 1.4486234275826464e-06}\n",
      "{'textcat': 1.448636701953832e-06}\n",
      "{'textcat': 1.4486460613117387e-06}\n",
      "{'textcat': 1.4486529008150948e-06}\n",
      "{'textcat': 1.448678972947395e-06}\n",
      "{'textcat': 1.4486907156739779e-06}\n",
      "{'textcat': 1.448690779698542e-06}\n",
      "{'textcat': 1.4486912348597871e-06}\n",
      "{'textcat': 1.4487223768688975e-06}\n",
      "{'textcat': 1.4488215835048592e-06}\n",
      "{'textcat': 1.4488888014929793e-06}\n",
      "{'textcat': 1.4489182271458658e-06}\n",
      "{'textcat': 1.448937606732343e-06}\n",
      "{'textcat': 1.4489387524625551e-06}\n",
      "{'textcat': 1.450253739803794e-06}\n",
      "{'textcat': 1.4502869189160294e-06}\n",
      "{'textcat': 1.4502905876566879e-06}\n",
      "{'textcat': 1.4502916268019117e-06}\n",
      "{'textcat': 1.4502921125916513e-06}\n",
      "{'textcat': 1.450293297405617e-06}\n",
      "{'textcat': 1.4502961521450653e-06}\n",
      "{'textcat': 1.4502964941826615e-06}\n",
      "{'textcat': 1.4503677712086096e-06}\n",
      "{'textcat': 1.4503769454576437e-06}\n",
      "{'textcat': 1.4503770119448511e-06}\n",
      "{'textcat': 1.4503799616786243e-06}\n",
      "{'textcat': 1.4503865710544314e-06}\n",
      "{'textcat': 1.4504250917376024e-06}\n",
      "{'textcat': 1.4504277108411042e-06}\n",
      "{'textcat': 1.4504283352546025e-06}\n",
      "{'textcat': 1.450429771526277e-06}\n",
      "{'textcat': 1.450430374889448e-06}\n",
      "{'textcat': 1.4505345118732065e-06}\n",
      "{'textcat': 1.450556781639099e-06}\n",
      "{'textcat': 1.4505858905384178e-06}\n",
      "{'textcat': 1.4505876318270631e-06}\n",
      "{'textcat': 1.4505933789520613e-06}\n",
      "{'textcat': 1.4505976385972152e-06}\n",
      "{'textcat': 1.4505994877131277e-06}\n",
      "{'textcat': 1.4506106558359778e-06}\n",
      "{'textcat': 1.4506108504375013e-06}\n",
      "{'textcat': 1.4506324916436895e-06}\n",
      "{'textcat': 1.4506778705075505e-06}\n",
      "{'textcat': 1.4507180289674413e-06}\n",
      "{'textcat': 1.450718933583667e-06}\n",
      "{'textcat': 1.4507588917766714e-06}\n",
      "{'textcat': 1.4507596265646072e-06}\n",
      "{'textcat': 1.4507657171843692e-06}\n",
      "{'textcat': 1.4507776774643578e-06}\n",
      "{'textcat': 1.4508670855147655e-06}\n",
      "{'textcat': 1.4508673731330291e-06}\n",
      "{'textcat': 1.4508751385558825e-06}\n",
      "{'textcat': 1.450877323640461e-06}\n",
      "{'textcat': 1.4510752318858084e-06}\n",
      "{'textcat': 1.4510761921361339e-06}\n",
      "{'textcat': 1.4510777329539544e-06}\n",
      "{'textcat': 1.4510850802043667e-06}\n",
      "{'textcat': 1.4510852556523746e-06}\n",
      "{'textcat': 1.4510881454670642e-06}\n",
      "{'textcat': 1.4510897384573438e-06}\n",
      "{'textcat': 1.4510968183877358e-06}\n",
      "{'textcat': 1.4511428401366475e-06}\n",
      "{'textcat': 1.4511451006311735e-06}\n",
      "{'textcat': 1.4517761022154904e-06}\n",
      "{'textcat': 1.4517814715667214e-06}\n",
      "{'textcat': 1.4517870528191955e-06}\n",
      "{'textcat': 1.4518042823338854e-06}\n",
      "{'textcat': 1.4518053372469868e-06}\n",
      "{'textcat': 1.451843481623533e-06}\n",
      "{'textcat': 1.4521340225481853e-06}\n",
      "{'textcat': 1.4521366188207746e-06}\n",
      "{'textcat': 1.4521433919536104e-06}\n",
      "{'textcat': 1.4521438708155692e-06}\n",
      "{'textcat': 1.4521506338865752e-06}\n",
      "{'textcat': 1.452207938908414e-06}\n",
      "{'textcat': 1.4522219048340523e-06}\n",
      "{'textcat': 1.4522268200238352e-06}\n",
      "{'textcat': 1.4522340009025567e-06}\n",
      "{'textcat': 1.4522343019111238e-06}\n",
      "{'textcat': 1.452248438766005e-06}\n",
      "{'textcat': 1.4522485678660776e-06}\n",
      "{'textcat': 1.4522545792120125e-06}\n",
      "{'textcat': 1.452265587498309e-06}\n",
      "{'textcat': 1.4522722366560958e-06}\n",
      "{'textcat': 1.452278951855239e-06}\n",
      "{'textcat': 1.4522990739363237e-06}\n",
      "{'textcat': 1.4523014752702298e-06}\n",
      "{'textcat': 1.4525955198367032e-06}\n",
      "{'textcat': 1.4536614992525517e-06}\n",
      "{'textcat': 1.453670965413046e-06}\n"
     ]
    }
   ],
   "source": [
    "#Spacy's Example class is used to create the training data\n",
    "from spacy.training.example import Example\n",
    "\n",
    "#Set 5 training epochs, and loss values\n",
    "losses = {}\n",
    "\n",
    "for epoch in range(500):\n",
    "    random.shuffle(train_data)\n",
    "    # Create the batch generator with batch size = 8\n",
    "    batches = minibatch(train_data, size=8)\n",
    "    # Iterate through minibatches\n",
    "    for batch in batches:\n",
    "        # Each batch is a list of (text, label) but we need to\n",
    "        # send separate lists for texts and labels to update().\n",
    "        # This is a quick way to split a list of tuples into lists\n",
    "        texts, labels = zip(*batch) # Unzipping the batch\n",
    "        example = []\n",
    "        # Update the model with iterating each text and label in the batch\n",
    "        for i in range(len(texts)):\n",
    "            doc = nlp.make_doc(texts[i])\n",
    "            example.append(Example.from_dict(doc, labels[i]))\n",
    "        nlp.update(example, drop=0.3, losses=losses)\n",
    "        print(losses)"
   ]
  },
  {
   "cell_type": "markdown",
   "metadata": {},
   "source": [
    "### 12. Test new data"
   ]
  },
  {
   "cell_type": "code",
   "execution_count": 72,
   "metadata": {},
   "outputs": [
    {
     "data": {
      "text/plain": [
       "{'POSITIVE': 0.5115741491317749, 'NEGATIVE': 0.4884258508682251}"
      ]
     },
     "execution_count": 72,
     "metadata": {},
     "output_type": "execute_result"
    }
   ],
   "source": [
    "#Test new data\n",
    "test_text = \"This movie sucked, you should not see it\"\n",
    "\n",
    "doc = nlp(test_text)\n",
    "doc.cats\n",
    "\n"
   ]
  },
  {
   "cell_type": "code",
   "execution_count": 73,
   "metadata": {},
   "outputs": [
    {
     "data": {
      "text/plain": [
       "{'POSITIVE': 0.36717143654823303, 'NEGATIVE': 0.6328285336494446}"
      ]
     },
     "execution_count": 73,
     "metadata": {},
     "output_type": "execute_result"
    }
   ],
   "source": [
    "import numpy as np\n",
    "test_text = \"This movie was the best one I have ever seen, i loved it\"\n",
    "\n",
    "doc = nlp(test_text)\n",
    "doc.cats"
   ]
  },
  {
   "cell_type": "code",
   "execution_count": null,
   "metadata": {},
   "outputs": [],
   "source": []
  }
 ],
 "metadata": {
  "kernelspec": {
   "display_name": "pytorch-env",
   "language": "python",
   "name": "python3"
  },
  "language_info": {
   "codemirror_mode": {
    "name": "ipython",
    "version": 3
   },
   "file_extension": ".py",
   "mimetype": "text/x-python",
   "name": "python",
   "nbconvert_exporter": "python",
   "pygments_lexer": "ipython3",
   "version": "3.9.18"
  }
 },
 "nbformat": 4,
 "nbformat_minor": 2
}
