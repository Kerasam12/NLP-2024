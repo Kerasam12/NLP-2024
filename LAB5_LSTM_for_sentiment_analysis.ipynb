{
 "cells": [
  {
   "cell_type": "markdown",
   "metadata": {},
   "source": [
    "# LAB 5. LSTM FOR TEXT CLASSIFICATION & SENTIMENT ANALYSIS"
   ]
  },
  {
   "cell_type": "code",
   "execution_count": 3,
   "metadata": {},
   "outputs": [
    {
     "data": {
      "text/plain": [
       "'1. Load the pipeline and the en_core_web_md modules\\n2. Show the components considered in the pipeline\\n3. Load the SA dataset from Campus Virtual\\n4. Explore the dataset to describe it\\n5. Add the text categorizer component (using a multilabel model) to the pipeline\\n6. Add two labels: positive and negative sentiments\\n7. Create the comments’ samples\\n8. Initialize the pipeline\\n9. Enable the text categorizer component to be trained\\n10. Create an optimizer object (resume_training) to keep weights of existing statistical\\nmodels\\n11. Set 5 training epochs, and loss values\\n12. Test new data'"
      ]
     },
     "execution_count": 3,
     "metadata": {},
     "output_type": "execute_result"
    }
   ],
   "source": [
    "\"\"\"1. Load the pipeline and the en_core_web_md modules\n",
    "2. Show the components considered in the pipeline\n",
    "3. Load the SA dataset from Campus Virtual\n",
    "4. Explore the dataset to describe it\n",
    "5. Add the text categorizer component (using a multilabel model) to the pipeline\n",
    "6. Add two labels: positive and negative sentiments\n",
    "7. Create the comments’ samples\n",
    "8. Initialize the pipeline\n",
    "9. Enable the text categorizer component to be trained\n",
    "10. Create an optimizer object (resume_training) to keep weights of existing statistical\n",
    "models\n",
    "11. Set 5 training epochs, and loss values\n",
    "12. Test new data\"\"\""
   ]
  },
  {
   "cell_type": "code",
   "execution_count": 4,
   "metadata": {},
   "outputs": [
    {
     "name": "stdout",
     "output_type": "stream",
     "text": [
      "Requirement already satisfied: spacy in /home/samper12/.conda/envs/pytorch12/lib/python3.11/site-packages (3.7.4)\n",
      "Requirement already satisfied: spacy-legacy<3.1.0,>=3.0.11 in /home/samper12/.conda/envs/pytorch12/lib/python3.11/site-packages (from spacy) (3.0.12)\n",
      "Requirement already satisfied: spacy-loggers<2.0.0,>=1.0.0 in /home/samper12/.conda/envs/pytorch12/lib/python3.11/site-packages (from spacy) (1.0.5)\n",
      "Requirement already satisfied: murmurhash<1.1.0,>=0.28.0 in /home/samper12/.conda/envs/pytorch12/lib/python3.11/site-packages (from spacy) (1.0.10)\n",
      "Requirement already satisfied: cymem<2.1.0,>=2.0.2 in /home/samper12/.conda/envs/pytorch12/lib/python3.11/site-packages (from spacy) (2.0.8)\n",
      "Requirement already satisfied: preshed<3.1.0,>=3.0.2 in /home/samper12/.conda/envs/pytorch12/lib/python3.11/site-packages (from spacy) (3.0.9)\n",
      "Requirement already satisfied: thinc<8.3.0,>=8.2.2 in /home/samper12/.conda/envs/pytorch12/lib/python3.11/site-packages (from spacy) (8.2.3)\n",
      "Requirement already satisfied: wasabi<1.2.0,>=0.9.1 in /home/samper12/.conda/envs/pytorch12/lib/python3.11/site-packages (from spacy) (1.1.2)\n",
      "Requirement already satisfied: srsly<3.0.0,>=2.4.3 in /home/samper12/.conda/envs/pytorch12/lib/python3.11/site-packages (from spacy) (2.4.8)\n",
      "Requirement already satisfied: catalogue<2.1.0,>=2.0.6 in /home/samper12/.conda/envs/pytorch12/lib/python3.11/site-packages (from spacy) (2.0.10)\n",
      "Requirement already satisfied: weasel<0.4.0,>=0.1.0 in /home/samper12/.conda/envs/pytorch12/lib/python3.11/site-packages (from spacy) (0.3.4)\n",
      "Requirement already satisfied: typer<0.10.0,>=0.3.0 in /home/samper12/.conda/envs/pytorch12/lib/python3.11/site-packages (from spacy) (0.9.0)\n",
      "Requirement already satisfied: smart-open<7.0.0,>=5.2.1 in /home/samper12/.conda/envs/pytorch12/lib/python3.11/site-packages (from spacy) (6.4.0)\n",
      "Requirement already satisfied: tqdm<5.0.0,>=4.38.0 in /home/samper12/.conda/envs/pytorch12/lib/python3.11/site-packages (from spacy) (4.65.0)\n",
      "Requirement already satisfied: requests<3.0.0,>=2.13.0 in /home/samper12/.conda/envs/pytorch12/lib/python3.11/site-packages (from spacy) (2.31.0)\n",
      "Requirement already satisfied: pydantic!=1.8,!=1.8.1,<3.0.0,>=1.7.4 in /home/samper12/.conda/envs/pytorch12/lib/python3.11/site-packages (from spacy) (1.10.12)\n",
      "Requirement already satisfied: jinja2 in /home/samper12/.conda/envs/pytorch12/lib/python3.11/site-packages (from spacy) (3.1.2)\n",
      "Requirement already satisfied: setuptools in /home/samper12/.conda/envs/pytorch12/lib/python3.11/site-packages (from spacy) (68.2.2)\n",
      "Requirement already satisfied: packaging>=20.0 in /home/samper12/.conda/envs/pytorch12/lib/python3.11/site-packages (from spacy) (23.1)\n",
      "Requirement already satisfied: langcodes<4.0.0,>=3.2.0 in /home/samper12/.conda/envs/pytorch12/lib/python3.11/site-packages (from spacy) (3.3.0)\n",
      "Requirement already satisfied: numpy>=1.19.0 in /home/samper12/.conda/envs/pytorch12/lib/python3.11/site-packages (from spacy) (1.26.0)\n",
      "Requirement already satisfied: typing-extensions>=4.2.0 in /home/samper12/.conda/envs/pytorch12/lib/python3.11/site-packages (from pydantic!=1.8,!=1.8.1,<3.0.0,>=1.7.4->spacy) (4.7.1)\n",
      "Requirement already satisfied: charset-normalizer<4,>=2 in /home/samper12/.conda/envs/pytorch12/lib/python3.11/site-packages (from requests<3.0.0,>=2.13.0->spacy) (2.0.4)\n",
      "Requirement already satisfied: idna<4,>=2.5 in /home/samper12/.conda/envs/pytorch12/lib/python3.11/site-packages (from requests<3.0.0,>=2.13.0->spacy) (3.4)\n",
      "Requirement already satisfied: urllib3<3,>=1.21.1 in /home/samper12/.conda/envs/pytorch12/lib/python3.11/site-packages (from requests<3.0.0,>=2.13.0->spacy) (1.26.16)\n",
      "Requirement already satisfied: certifi>=2017.4.17 in /home/samper12/.conda/envs/pytorch12/lib/python3.11/site-packages (from requests<3.0.0,>=2.13.0->spacy) (2024.2.2)\n",
      "Requirement already satisfied: blis<0.8.0,>=0.7.8 in /home/samper12/.conda/envs/pytorch12/lib/python3.11/site-packages (from thinc<8.3.0,>=8.2.2->spacy) (0.7.11)\n",
      "Requirement already satisfied: confection<1.0.0,>=0.0.1 in /home/samper12/.conda/envs/pytorch12/lib/python3.11/site-packages (from thinc<8.3.0,>=8.2.2->spacy) (0.1.4)\n",
      "Requirement already satisfied: click<9.0.0,>=7.1.1 in /home/samper12/.conda/envs/pytorch12/lib/python3.11/site-packages (from typer<0.10.0,>=0.3.0->spacy) (8.1.7)\n",
      "Requirement already satisfied: cloudpathlib<0.17.0,>=0.7.0 in /home/samper12/.conda/envs/pytorch12/lib/python3.11/site-packages (from weasel<0.4.0,>=0.1.0->spacy) (0.16.0)\n",
      "Requirement already satisfied: MarkupSafe>=2.0 in /home/samper12/.conda/envs/pytorch12/lib/python3.11/site-packages (from jinja2->spacy) (2.1.1)\n",
      "Note: you may need to restart the kernel to use updated packages.\n"
     ]
    }
   ],
   "source": [
    "pip install spacy"
   ]
  },
  {
   "cell_type": "markdown",
   "metadata": {},
   "source": [
    "### 1. Load the pipeline and the en_core_web_md modules"
   ]
  },
  {
   "cell_type": "code",
   "execution_count": 1,
   "metadata": {},
   "outputs": [
    {
     "name": "stdout",
     "output_type": "stream",
     "text": [
      "Collecting en-core-web-sm==3.7.1\n",
      "  Downloading https://github.com/explosion/spacy-models/releases/download/en_core_web_sm-3.7.1/en_core_web_sm-3.7.1-py3-none-any.whl (12.8 MB)\n",
      "\u001b[2K     \u001b[38;2;114;156;31m━━━━━━━━━━━━━━━━━━━━━━━━━━━━━━━━━━━━━━━━\u001b[0m \u001b[32m12.8/12.8 MB\u001b[0m \u001b[31m7.7 MB/s\u001b[0m eta \u001b[36m0:00:00\u001b[0mm eta \u001b[36m0:00:01\u001b[0m0:01\u001b[0m:01\u001b[0m\n",
      "\u001b[?25hRequirement already satisfied: spacy<3.8.0,>=3.7.2 in /home/samper12/.conda/envs/pytorch12/lib/python3.11/site-packages (from en-core-web-sm==3.7.1) (3.7.4)\n",
      "Requirement already satisfied: spacy-legacy<3.1.0,>=3.0.11 in /home/samper12/.conda/envs/pytorch12/lib/python3.11/site-packages (from spacy<3.8.0,>=3.7.2->en-core-web-sm==3.7.1) (3.0.12)\n",
      "Requirement already satisfied: spacy-loggers<2.0.0,>=1.0.0 in /home/samper12/.conda/envs/pytorch12/lib/python3.11/site-packages (from spacy<3.8.0,>=3.7.2->en-core-web-sm==3.7.1) (1.0.5)\n",
      "Requirement already satisfied: murmurhash<1.1.0,>=0.28.0 in /home/samper12/.conda/envs/pytorch12/lib/python3.11/site-packages (from spacy<3.8.0,>=3.7.2->en-core-web-sm==3.7.1) (1.0.10)\n",
      "Requirement already satisfied: cymem<2.1.0,>=2.0.2 in /home/samper12/.conda/envs/pytorch12/lib/python3.11/site-packages (from spacy<3.8.0,>=3.7.2->en-core-web-sm==3.7.1) (2.0.8)\n",
      "Requirement already satisfied: preshed<3.1.0,>=3.0.2 in /home/samper12/.conda/envs/pytorch12/lib/python3.11/site-packages (from spacy<3.8.0,>=3.7.2->en-core-web-sm==3.7.1) (3.0.9)\n",
      "Requirement already satisfied: thinc<8.3.0,>=8.2.2 in /home/samper12/.conda/envs/pytorch12/lib/python3.11/site-packages (from spacy<3.8.0,>=3.7.2->en-core-web-sm==3.7.1) (8.2.3)\n",
      "Requirement already satisfied: wasabi<1.2.0,>=0.9.1 in /home/samper12/.conda/envs/pytorch12/lib/python3.11/site-packages (from spacy<3.8.0,>=3.7.2->en-core-web-sm==3.7.1) (1.1.2)\n",
      "Requirement already satisfied: srsly<3.0.0,>=2.4.3 in /home/samper12/.conda/envs/pytorch12/lib/python3.11/site-packages (from spacy<3.8.0,>=3.7.2->en-core-web-sm==3.7.1) (2.4.8)\n",
      "Requirement already satisfied: catalogue<2.1.0,>=2.0.6 in /home/samper12/.conda/envs/pytorch12/lib/python3.11/site-packages (from spacy<3.8.0,>=3.7.2->en-core-web-sm==3.7.1) (2.0.10)\n",
      "Requirement already satisfied: weasel<0.4.0,>=0.1.0 in /home/samper12/.conda/envs/pytorch12/lib/python3.11/site-packages (from spacy<3.8.0,>=3.7.2->en-core-web-sm==3.7.1) (0.3.4)\n",
      "Requirement already satisfied: typer<0.10.0,>=0.3.0 in /home/samper12/.conda/envs/pytorch12/lib/python3.11/site-packages (from spacy<3.8.0,>=3.7.2->en-core-web-sm==3.7.1) (0.9.0)\n",
      "Requirement already satisfied: smart-open<7.0.0,>=5.2.1 in /home/samper12/.conda/envs/pytorch12/lib/python3.11/site-packages (from spacy<3.8.0,>=3.7.2->en-core-web-sm==3.7.1) (6.4.0)\n",
      "Requirement already satisfied: tqdm<5.0.0,>=4.38.0 in /home/samper12/.conda/envs/pytorch12/lib/python3.11/site-packages (from spacy<3.8.0,>=3.7.2->en-core-web-sm==3.7.1) (4.65.0)\n",
      "Requirement already satisfied: requests<3.0.0,>=2.13.0 in /home/samper12/.conda/envs/pytorch12/lib/python3.11/site-packages (from spacy<3.8.0,>=3.7.2->en-core-web-sm==3.7.1) (2.31.0)\n",
      "Requirement already satisfied: pydantic!=1.8,!=1.8.1,<3.0.0,>=1.7.4 in /home/samper12/.conda/envs/pytorch12/lib/python3.11/site-packages (from spacy<3.8.0,>=3.7.2->en-core-web-sm==3.7.1) (1.10.12)\n",
      "Requirement already satisfied: jinja2 in /home/samper12/.conda/envs/pytorch12/lib/python3.11/site-packages (from spacy<3.8.0,>=3.7.2->en-core-web-sm==3.7.1) (3.1.2)\n",
      "Requirement already satisfied: setuptools in /home/samper12/.conda/envs/pytorch12/lib/python3.11/site-packages (from spacy<3.8.0,>=3.7.2->en-core-web-sm==3.7.1) (68.2.2)\n",
      "Requirement already satisfied: packaging>=20.0 in /home/samper12/.conda/envs/pytorch12/lib/python3.11/site-packages (from spacy<3.8.0,>=3.7.2->en-core-web-sm==3.7.1) (23.1)\n",
      "Requirement already satisfied: langcodes<4.0.0,>=3.2.0 in /home/samper12/.conda/envs/pytorch12/lib/python3.11/site-packages (from spacy<3.8.0,>=3.7.2->en-core-web-sm==3.7.1) (3.3.0)\n",
      "Requirement already satisfied: numpy>=1.19.0 in /home/samper12/.conda/envs/pytorch12/lib/python3.11/site-packages (from spacy<3.8.0,>=3.7.2->en-core-web-sm==3.7.1) (1.26.0)\n",
      "Requirement already satisfied: typing-extensions>=4.2.0 in /home/samper12/.conda/envs/pytorch12/lib/python3.11/site-packages (from pydantic!=1.8,!=1.8.1,<3.0.0,>=1.7.4->spacy<3.8.0,>=3.7.2->en-core-web-sm==3.7.1) (4.7.1)\n",
      "Requirement already satisfied: charset-normalizer<4,>=2 in /home/samper12/.conda/envs/pytorch12/lib/python3.11/site-packages (from requests<3.0.0,>=2.13.0->spacy<3.8.0,>=3.7.2->en-core-web-sm==3.7.1) (2.0.4)\n",
      "Requirement already satisfied: idna<4,>=2.5 in /home/samper12/.conda/envs/pytorch12/lib/python3.11/site-packages (from requests<3.0.0,>=2.13.0->spacy<3.8.0,>=3.7.2->en-core-web-sm==3.7.1) (3.4)\n",
      "Requirement already satisfied: urllib3<3,>=1.21.1 in /home/samper12/.conda/envs/pytorch12/lib/python3.11/site-packages (from requests<3.0.0,>=2.13.0->spacy<3.8.0,>=3.7.2->en-core-web-sm==3.7.1) (1.26.16)\n",
      "Requirement already satisfied: certifi>=2017.4.17 in /home/samper12/.conda/envs/pytorch12/lib/python3.11/site-packages (from requests<3.0.0,>=2.13.0->spacy<3.8.0,>=3.7.2->en-core-web-sm==3.7.1) (2024.2.2)\n",
      "Requirement already satisfied: blis<0.8.0,>=0.7.8 in /home/samper12/.conda/envs/pytorch12/lib/python3.11/site-packages (from thinc<8.3.0,>=8.2.2->spacy<3.8.0,>=3.7.2->en-core-web-sm==3.7.1) (0.7.11)\n",
      "Requirement already satisfied: confection<1.0.0,>=0.0.1 in /home/samper12/.conda/envs/pytorch12/lib/python3.11/site-packages (from thinc<8.3.0,>=8.2.2->spacy<3.8.0,>=3.7.2->en-core-web-sm==3.7.1) (0.1.4)\n",
      "Requirement already satisfied: click<9.0.0,>=7.1.1 in /home/samper12/.conda/envs/pytorch12/lib/python3.11/site-packages (from typer<0.10.0,>=0.3.0->spacy<3.8.0,>=3.7.2->en-core-web-sm==3.7.1) (8.1.7)\n",
      "Requirement already satisfied: cloudpathlib<0.17.0,>=0.7.0 in /home/samper12/.conda/envs/pytorch12/lib/python3.11/site-packages (from weasel<0.4.0,>=0.1.0->spacy<3.8.0,>=3.7.2->en-core-web-sm==3.7.1) (0.16.0)\n",
      "Requirement already satisfied: MarkupSafe>=2.0 in /home/samper12/.conda/envs/pytorch12/lib/python3.11/site-packages (from jinja2->spacy<3.8.0,>=3.7.2->en-core-web-sm==3.7.1) (2.1.1)\n",
      "\u001b[38;5;2m✔ Download and installation successful\u001b[0m\n",
      "You can now load the package via spacy.load('en_core_web_sm')\n",
      "\u001b[38;5;3m⚠ Restart to reload dependencies\u001b[0m\n",
      "If you are in a Jupyter or Colab notebook, you may need to restart Python in\n",
      "order to load all the package's dependencies. You can do this by selecting the\n",
      "'Restart kernel' or 'Restart runtime' option.\n"
     ]
    }
   ],
   "source": [
    "#Load the pipeline and the en_core_web_md modules\n",
    "import spacy\n",
    "\n",
    "spacy.cli.download(\"en_core_web_sm\")\n",
    "nlp = spacy.load(\"en_core_web_sm\")\n",
    "\n"
   ]
  },
  {
   "cell_type": "markdown",
   "metadata": {},
   "source": [
    "### 2. Show the components considered in the pipeline"
   ]
  },
  {
   "cell_type": "code",
   "execution_count": 6,
   "metadata": {},
   "outputs": [
    {
     "name": "stdout",
     "output_type": "stream",
     "text": [
      "['tok2vec', 'tagger', 'parser', 'attribute_ruler', 'lemmatizer', 'ner']\n"
     ]
    }
   ],
   "source": [
    "#Show the components considered in the pipeline\n",
    "print(nlp.pipe_names)"
   ]
  },
  {
   "cell_type": "markdown",
   "metadata": {},
   "source": [
    "### 3. Load the SA dataset from Campus Virtual"
   ]
  },
  {
   "cell_type": "code",
   "execution_count": 7,
   "metadata": {},
   "outputs": [],
   "source": [
    "#Load the SA dataset from Campus Virtual\n",
    "import pandas as pd\n",
    "\n",
    "sadataset = pd.read_csv(\"./contents/SA_dataset.csv\")"
   ]
  },
  {
   "cell_type": "code",
   "execution_count": 8,
   "metadata": {},
   "outputs": [
    {
     "data": {
      "text/html": [
       "<div>\n",
       "<style scoped>\n",
       "    .dataframe tbody tr th:only-of-type {\n",
       "        vertical-align: middle;\n",
       "    }\n",
       "\n",
       "    .dataframe tbody tr th {\n",
       "        vertical-align: top;\n",
       "    }\n",
       "\n",
       "    .dataframe thead th {\n",
       "        text-align: right;\n",
       "    }\n",
       "</style>\n",
       "<table border=\"1\" class=\"dataframe\">\n",
       "  <thead>\n",
       "    <tr style=\"text-align: right;\">\n",
       "      <th></th>\n",
       "      <th>Review</th>\n",
       "      <th>Rating</th>\n",
       "      <th>Sentiment</th>\n",
       "    </tr>\n",
       "  </thead>\n",
       "  <tbody>\n",
       "    <tr>\n",
       "      <th>0</th>\n",
       "      <td>**Possible Spoilers**</td>\n",
       "      <td>1</td>\n",
       "      <td>0</td>\n",
       "    </tr>\n",
       "    <tr>\n",
       "      <th>1</th>\n",
       "      <td>Read the book, forget the movie!</td>\n",
       "      <td>2</td>\n",
       "      <td>0</td>\n",
       "    </tr>\n",
       "    <tr>\n",
       "      <th>2</th>\n",
       "      <td>**Possible Spoilers Ahead**</td>\n",
       "      <td>2</td>\n",
       "      <td>0</td>\n",
       "    </tr>\n",
       "    <tr>\n",
       "      <th>3</th>\n",
       "      <td>What a script, what a story, what a mess!</td>\n",
       "      <td>2</td>\n",
       "      <td>0</td>\n",
       "    </tr>\n",
       "    <tr>\n",
       "      <th>4</th>\n",
       "      <td>I hope this group of film-makers never re-unites.</td>\n",
       "      <td>1</td>\n",
       "      <td>0</td>\n",
       "    </tr>\n",
       "  </tbody>\n",
       "</table>\n",
       "</div>"
      ],
      "text/plain": [
       "                                              Review  Rating  Sentiment\n",
       "0                              **Possible Spoilers**       1          0\n",
       "1                   Read the book, forget the movie!       2          0\n",
       "2                        **Possible Spoilers Ahead**       2          0\n",
       "3          What a script, what a story, what a mess!       2          0\n",
       "4  I hope this group of film-makers never re-unites.       1          0"
      ]
     },
     "execution_count": 8,
     "metadata": {},
     "output_type": "execute_result"
    }
   ],
   "source": [
    "sadataset.head()"
   ]
  },
  {
   "cell_type": "markdown",
   "metadata": {},
   "source": [
    "### 4. Explore the dataset to describe it"
   ]
  },
  {
   "cell_type": "code",
   "execution_count": 9,
   "metadata": {},
   "outputs": [
    {
     "name": "stdout",
     "output_type": "stream",
     "text": [
      "            Rating    Sentiment\n",
      "count  5000.000000  5000.000000\n",
      "mean      5.902200     0.550000\n",
      "std       3.653944     0.497543\n",
      "min       1.000000     0.000000\n",
      "25%       2.000000     0.000000\n",
      "50%       7.000000     1.000000\n",
      "75%      10.000000     1.000000\n",
      "max      10.000000     1.000000\n"
     ]
    }
   ],
   "source": [
    "#Explore the dataset to describe it\n",
    "print(sadataset.describe())\n"
   ]
  },
  {
   "cell_type": "code",
   "execution_count": 10,
   "metadata": {},
   "outputs": [
    {
     "name": "stdout",
     "output_type": "stream",
     "text": [
      "Rating\n",
      "10    1385\n",
      "1     1061\n",
      "8      520\n",
      "9      472\n",
      "3      401\n",
      "4      401\n",
      "2      387\n",
      "7      373\n",
      "Name: count, dtype: int64\n",
      "Rating\n",
      "10    0.2770\n",
      "1     0.2122\n",
      "8     0.1040\n",
      "9     0.0944\n",
      "3     0.0802\n",
      "4     0.0802\n",
      "2     0.0774\n",
      "7     0.0746\n",
      "Name: proportion, dtype: float64\n"
     ]
    }
   ],
   "source": [
    "#Get rating distribution\n",
    "rating_distribution = sadataset['Rating'].value_counts()\n",
    "print(rating_distribution)\n",
    "#Now print it in percentages \n",
    "rating_distribution = sadataset['Rating'].value_counts(normalize=True)\n",
    "print(rating_distribution)"
   ]
  },
  {
   "cell_type": "markdown",
   "metadata": {},
   "source": [
    "### 5. Add the text categorizer component (using a multilabel model) to the pipeline"
   ]
  },
  {
   "cell_type": "code",
   "execution_count": 11,
   "metadata": {},
   "outputs": [
    {
     "name": "stdout",
     "output_type": "stream",
     "text": [
      "['tok2vec', 'tagger', 'parser', 'attribute_ruler', 'lemmatizer', 'ner', 'textcat']\n"
     ]
    }
   ],
   "source": [
    "# Add the text categorizer component (using a multilabel model) to the pipeline\n",
    "textcat= nlp.add_pipe(\"textcat\")\n",
    "\n",
    "print(nlp.pipe_names)"
   ]
  },
  {
   "cell_type": "markdown",
   "metadata": {},
   "source": [
    "### 6. Add two labels: positive and negative sentiments"
   ]
  },
  {
   "cell_type": "code",
   "execution_count": 12,
   "metadata": {},
   "outputs": [
    {
     "data": {
      "text/plain": [
       "1"
      ]
     },
     "execution_count": 12,
     "metadata": {},
     "output_type": "execute_result"
    }
   ],
   "source": [
    "#Add two labels: positive and negative sentiments\n",
    "nlp.get_pipe(\"textcat\").add_label(\"positive\")\n",
    "nlp.get_pipe(\"textcat\").add_label(\"negative\")\n"
   ]
  },
  {
   "cell_type": "markdown",
   "metadata": {},
   "source": [
    "### 7. Create the comments’ samples"
   ]
  },
  {
   "cell_type": "code",
   "execution_count": 11,
   "metadata": {},
   "outputs": [
    {
     "data": {
      "text/html": [
       "<div>\n",
       "<style scoped>\n",
       "    .dataframe tbody tr th:only-of-type {\n",
       "        vertical-align: middle;\n",
       "    }\n",
       "\n",
       "    .dataframe tbody tr th {\n",
       "        vertical-align: top;\n",
       "    }\n",
       "\n",
       "    .dataframe thead th {\n",
       "        text-align: right;\n",
       "    }\n",
       "</style>\n",
       "<table border=\"1\" class=\"dataframe\">\n",
       "  <thead>\n",
       "    <tr style=\"text-align: right;\">\n",
       "      <th></th>\n",
       "      <th>Review</th>\n",
       "      <th>Rating</th>\n",
       "      <th>Sentiment</th>\n",
       "    </tr>\n",
       "  </thead>\n",
       "  <tbody>\n",
       "    <tr>\n",
       "      <th>4995</th>\n",
       "      <td>I have only seen this once--in 1986, at an \"ar...</td>\n",
       "      <td>10</td>\n",
       "      <td>1</td>\n",
       "    </tr>\n",
       "    <tr>\n",
       "      <th>4996</th>\n",
       "      <td>This being my first John Carpenter film, I mus...</td>\n",
       "      <td>9</td>\n",
       "      <td>1</td>\n",
       "    </tr>\n",
       "    <tr>\n",
       "      <th>4997</th>\n",
       "      <td>This is kind of a weird movie, given that Sant...</td>\n",
       "      <td>1</td>\n",
       "      <td>0</td>\n",
       "    </tr>\n",
       "    <tr>\n",
       "      <th>4998</th>\n",
       "      <td>Vic (Richard Dreyfuss) is a mob boss, leaving ...</td>\n",
       "      <td>4</td>\n",
       "      <td>0</td>\n",
       "    </tr>\n",
       "    <tr>\n",
       "      <th>4999</th>\n",
       "      <td>Yup, that's right folks, this is undoubtedly t...</td>\n",
       "      <td>1</td>\n",
       "      <td>0</td>\n",
       "    </tr>\n",
       "  </tbody>\n",
       "</table>\n",
       "</div>"
      ],
      "text/plain": [
       "                                                 Review  Rating  Sentiment\n",
       "4995  I have only seen this once--in 1986, at an \"ar...      10          1\n",
       "4996  This being my first John Carpenter film, I mus...       9          1\n",
       "4997  This is kind of a weird movie, given that Sant...       1          0\n",
       "4998  Vic (Richard Dreyfuss) is a mob boss, leaving ...       4          0\n",
       "4999  Yup, that's right folks, this is undoubtedly t...       1          0"
      ]
     },
     "execution_count": 11,
     "metadata": {},
     "output_type": "execute_result"
    }
   ],
   "source": [
    "sadataset.tail()"
   ]
  },
  {
   "cell_type": "code",
   "execution_count": 12,
   "metadata": {},
   "outputs": [],
   "source": [
    "# Training the model\n",
    "from sklearn.model_selection import train_test_split\n",
    "\n",
    "X = sadataset['Review'].values\n",
    "y = sadataset['Sentiment'].values\n",
    "\n",
    "X_train, X_test, y_train, y_test = train_test_split(X, y, test_size=0.2, random_state=42)"
   ]
  },
  {
   "cell_type": "code",
   "execution_count": 13,
   "metadata": {},
   "outputs": [],
   "source": [
    "# Training the model\n",
    "from spacy.training import Example\n",
    "\n",
    "def create_examples(X, y):\n",
    "    examples = []\n",
    "    for text, label in zip(X, y):\n",
    "        examples.append(Example.from_dict(nlp.make_doc(text), {'cats': {'positive': int(label), 'negative': int(not label)}}))\n",
    "    return examples\n",
    "\n",
    "train_examples = create_examples(X_train, y_train)\n",
    "test_examples = create_examples(X_test, y_test)"
   ]
  },
  {
   "cell_type": "markdown",
   "metadata": {},
   "source": [
    "### 8. Initialize the pipeline"
   ]
  },
  {
   "cell_type": "code",
   "execution_count": 14,
   "metadata": {},
   "outputs": [],
   "source": [
    "#Spacy's Example class is used to create the training data\n",
    "from spacy.training.example import Example\n",
    "inp = Example.from_dict(nlp.make_doc(\"This is a good product\"), {\"cats\": {\"positive\": 1, \"negative\": 0}})\n",
    "textcat.initialize(lambda: [inp], nlp = nlp)"
   ]
  },
  {
   "cell_type": "markdown",
   "metadata": {},
   "source": [
    "### 9. Enable the text categorizer component to be trained"
   ]
  },
  {
   "cell_type": "code",
   "execution_count": null,
   "metadata": {},
   "outputs": [],
   "source": []
  },
  {
   "cell_type": "markdown",
   "metadata": {},
   "source": [
    "### 10. Create an optimizer object (resume_training) to keep weights of existing statistical models"
   ]
  },
  {
   "cell_type": "markdown",
   "metadata": {},
   "source": [
    "\n",
    "#Create an optimizer object (resume_training) to keep weights of existing statistical models\n",
    "from spacy.util import minibatch\n",
    "import random\n",
    "from sklearn.model_selection import train_test_split\n",
    "\n",
    "random.seed(1)\n",
    "spacy.util.fix_random_seed(1)\n",
    "\n",
    "optimizer = nlp.resume_training()"
   ]
  },
  {
   "cell_type": "markdown",
   "metadata": {},
   "source": [
    "### 11. Set 5 training epochs, and loss values"
   ]
  },
  {
   "cell_type": "code",
   "execution_count": 17,
   "metadata": {},
   "outputs": [],
   "source": [
    "#optimizer = nlp.initialize()\n",
    "optimizer = nlp.resume_training()\n",
    "losses = []"
   ]
  },
  {
   "cell_type": "code",
   "execution_count": 18,
   "metadata": {},
   "outputs": [
    {
     "name": "stdout",
     "output_type": "stream",
     "text": [
      "dict_values([0.0, 0.0, 0.0, 0.0, 506.92547173344065])\n",
      "Epoch 1/5: Loss 0.1267\n",
      "[0.12673136793336015]\n",
      "dict_values([0.0, 0.0, 0.0, 0.0, 387.16128335330495])\n",
      "Epoch 2/5: Loss 0.0968\n",
      "[0.12673136793336015, 0.09679032083832624]\n",
      "dict_values([0.0, 0.0, 0.0, 0.0, 297.09046362149206])\n",
      "Epoch 3/5: Loss 0.0743\n",
      "[0.12673136793336015, 0.09679032083832624, 0.07427261590537301]\n",
      "dict_values([0.0, 0.0, 0.0, 0.0, 249.6451781849222])\n",
      "Epoch 4/5: Loss 0.0624\n",
      "[0.12673136793336015, 0.09679032083832624, 0.07427261590537301, 0.06241129454623055]\n",
      "dict_values([0.0, 0.0, 0.0, 0.0, 217.59198561411705])\n",
      "Epoch 5/5: Loss 0.0544\n",
      "[0.12673136793336015, 0.09679032083832624, 0.07427261590537301, 0.06241129454623055, 0.05439799640352926]\n"
     ]
    },
    {
     "data": {
      "image/png": "[encoded data removed]",
      "text/plain": [
       "<Figure size 640x480 with 1 Axes>"
      ]
     },
     "metadata": {},
     "output_type": "display_data"
    }
   ],
   "source": [
    "import matplotlib.pyplot as plt\n",
    "import random\n",
    "epochs = 5 \n",
    "losses = []\n",
    "for epoch in range(epochs):\n",
    "    # Shuffle the training data\n",
    "    random.shuffle(train_examples)\n",
    "    # Iterate over batches\n",
    "    batch_losses = {}\n",
    "    for batch in spacy.util.minibatch(train_examples, size=2):\n",
    "        # Update the model with examples\n",
    "        nlp.update(batch, drop=0.5, losses=batch_losses, sgd=optimizer)\n",
    "        \n",
    "    print(batch_losses.values())\n",
    "    epoch_loss = sum(batch_losses.values()) / len(train_examples)\n",
    "    \n",
    "    losses.append(epoch_loss)\n",
    "    print(f\"Epoch {epoch + 1}/{epochs}: Loss {epoch_loss:.4f}\")\n",
    "    print(losses)\n",
    "    \n",
    "plt.plot(range(1, epochs + 1), losses, marker='o')\n",
    "plt.xlabel('Epoch')\n",
    "plt.ylabel('Loss')\n",
    "plt.title('Evolution of Loss during Training')\n",
    "plt.grid(True)\n",
    "plt.show()"
   ]
  },
  {
   "cell_type": "code",
   "execution_count": 19,
   "metadata": {},
   "outputs": [
    {
     "data": {
      "image/png": "[encoded data removed]",
      "text/plain": [
       "<Figure size 640x480 with 1 Axes>"
      ]
     },
     "metadata": {},
     "output_type": "display_data"
    }
   ],
   "source": [
    "import matplotlib.pyplot as plt\n",
    "plt.plot(range(1, epochs + 1), losses, marker='o')\n",
    "plt.xlabel('Epoch')\n",
    "plt.ylabel('Loss')\n",
    "plt.title('Evolution of Loss during Training')\n",
    "plt.grid(True)\n",
    "plt.show()"
   ]
  },
  {
   "cell_type": "markdown",
   "metadata": {},
   "source": [
    "### 12. Test new data"
   ]
  },
  {
   "cell_type": "code",
   "execution_count": 20,
   "metadata": {},
   "outputs": [
    {
     "data": {
      "text/plain": [
       "{'positive': 0.0021147613879293203, 'negative': 0.9978851675987244}"
      ]
     },
     "execution_count": 20,
     "metadata": {},
     "output_type": "execute_result"
    }
   ],
   "source": [
    "#Test new data\n",
    "test_text = \"This movie sucked, you should not see it\"\n",
    "\n",
    "doc = nlp(test_text)\n",
    "doc.cats\n",
    "\n"
   ]
  },
  {
   "cell_type": "code",
   "execution_count": 21,
   "metadata": {},
   "outputs": [
    {
     "data": {
      "text/plain": [
       "{'positive': 0.9997885823249817, 'negative': 0.00021148734958842397}"
      ]
     },
     "execution_count": 21,
     "metadata": {},
     "output_type": "execute_result"
    }
   ],
   "source": [
    "import numpy as np\n",
    "test_text = \"This movie was the best one I have ever seen, i loved it\"\n",
    "\n",
    "doc = nlp(test_text)\n",
    "doc.cats"
   ]
  },
  {
   "cell_type": "code",
   "execution_count": 25,
   "metadata": {},
   "outputs": [
    {
     "data": {
      "text/plain": [
       "{'positive': 0.9998021721839905, 'negative': 0.00019783512107096612}"
      ]
     },
     "execution_count": 25,
     "metadata": {},
     "output_type": "execute_result"
    }
   ],
   "source": [
    "#Test with misleading data\n",
    "test_text = \"Even this movie won the oscars, you should NOT see it, it is horrendous\"\n",
    "\n",
    "doc = nlp(test_text)\n",
    "doc.cats"
   ]
  },
  {
   "cell_type": "code",
   "execution_count": 26,
   "metadata": {},
   "outputs": [
    {
     "data": {
      "text/plain": [
       "{'positive': 0.0018819154938682914, 'negative': 0.9981181621551514}"
      ]
     },
     "execution_count": 26,
     "metadata": {},
     "output_type": "execute_result"
    }
   ],
   "source": [
    "#Test with misleading data\n",
    "test_text = \"Even this movie won the oscars, you should NOT see it, it is very bad\"\n",
    "\n",
    "doc = nlp(test_text)\n",
    "doc.cats"
   ]
  },
  {
   "cell_type": "markdown",
   "metadata": {},
   "source": [
    "## KERAS MODEL \n",
    "\n",
    "LSTM using Keras and Tensorflow"
   ]
  },
  {
   "cell_type": "markdown",
   "metadata": {},
   "source": [
    "### 1- Use same dataset as previous analysis"
   ]
  },
  {
   "cell_type": "code",
   "execution_count": 1,
   "metadata": {},
   "outputs": [],
   "source": [
    "import pandas as pd\n",
    "\n",
    "Pytorch_dataset = pd.read_csv(\"./contents/SA_dataset.csv\")"
   ]
  },
  {
   "cell_type": "code",
   "execution_count": 2,
   "metadata": {},
   "outputs": [],
   "source": [
    "# Training the model\n",
    "from sklearn.model_selection import train_test_split\n",
    "\n",
    "X = Pytorch_dataset['Review'].values\n",
    "y = Pytorch_dataset['Sentiment'].values\n",
    "\n",
    "X_train, X_test, y_train, y_test = train_test_split(X, y, test_size=0.2, random_state=42)"
   ]
  },
  {
   "cell_type": "code",
   "execution_count": 3,
   "metadata": {},
   "outputs": [
    {
     "name": "stdout",
     "output_type": "stream",
     "text": [
      "check that both labels and samples have the same length: 17530 17530\n",
      "check that both labels and samples have the same length: 4447 4447\n"
     ]
    }
   ],
   "source": [
    "import nltk\n",
    "# Initialize NLTK sentence tokenizer\n",
    "sentence_tokenizer = nltk.data.load('tokenizers/punkt/english.pickle')\n",
    "\n",
    "# Tokenize the large text into sentences\n",
    "train_sentences = []\n",
    "train_labels = []\n",
    "for samp, label in zip(X_train, y_train):\n",
    "    train_samp = sentence_tokenizer.tokenize(samp)\n",
    "    train_sentences = train_sentences + train_samp\n",
    "    new_lab = [label] * len(train_samp)\n",
    "    train_labels = train_labels + new_lab\n",
    "print(\"check that both labels and samples have the same length:\",len(train_sentences), len(train_labels))\n",
    "test_sentences = []\n",
    "test_labels = []\n",
    "for samp, label in zip(X_test, y_test):\n",
    "    test_samp = sentence_tokenizer.tokenize(samp)\n",
    "    test_sentences = test_sentences + sentence_tokenizer.tokenize(samp)\n",
    "    new_lab = [label] * len(test_samp)\n",
    "    test_labels = test_labels + new_lab\n",
    "print(\"check that both labels and samples have the same length:\",len(test_sentences), len(test_labels))    "
   ]
  },
  {
   "cell_type": "code",
   "execution_count": 4,
   "metadata": {},
   "outputs": [],
   "source": [
    "import torchtext\n",
    "import torch\n",
    "from torchtext.data import get_tokenizer\n",
    "tokenizer = get_tokenizer(\"basic_english\")\n",
    "X_train_tokenized = [tokenizer(sentence) for sentence in train_sentences]\n",
    "X_train_tokenized\n",
    "\n",
    "tokenizer = get_tokenizer(\"basic_english\")\n",
    "X_test_tokenized = [tokenizer(sentence) for sentence in test_sentences]\n"
   ]
  },
  {
   "cell_type": "code",
   "execution_count": 5,
   "metadata": {},
   "outputs": [
    {
     "name": "stdout",
     "output_type": "stream",
     "text": [
      "\n"
     ]
    }
   ],
   "source": [
    "sentence_set = set()\n",
    "[[sentence_set.add(word) for word in sent] for sent in X_train_tokenized]\n",
    "print(\"\")"
   ]
  },
  {
   "cell_type": "code",
   "execution_count": 6,
   "metadata": {},
   "outputs": [],
   "source": [
    "word_dict = {'<pad>':0,\n",
    "        '<eos>':1,\n",
    "        '<unk>':2}\n",
    "\n",
    "#Create a dictionary with all the words in the vocabulary associated with a value\n",
    "for i,word in enumerate(sentence_set):\n",
    "    word_dict[word] = i+3\n",
    "    \n",
    "\n",
    "sentence_set.add('<eos>')\n",
    "sentence_set.add('<unk>')\n",
    "sentence_set.add('<pad>')"
   ]
  },
  {
   "cell_type": "code",
   "execution_count": 7,
   "metadata": {},
   "outputs": [
    {
     "data": {
      "text/plain": [
       "17268"
      ]
     },
     "execution_count": 7,
     "metadata": {},
     "output_type": "execute_result"
    }
   ],
   "source": [
    "vocabulary_size = len(sentence_set)\n",
    "vocabulary_size"
   ]
  },
  {
   "cell_type": "markdown",
   "metadata": {},
   "source": [
    "from transformers import AutoTokenizer, BertModel\n",
    "\n",
    "import torch\n",
    "\n",
    "tokenizer = AutoTokenizer.from_pretrained(\"google-bert/bert-base-uncased\")\n",
    "\n",
    "inputs = tokenizer(\"Hello, my dog is cute\", return_tensors=\"pt\")\n",
    "\n"
   ]
  },
  {
   "cell_type": "code",
   "execution_count": 27,
   "metadata": {},
   "outputs": [],
   "source": [
    "from torch.utils.data import Dataset, DataLoader\n",
    "from torch.nn.utils.rnn import pad_sequence\n",
    "class LSTM_data(Dataset):\n",
    "    def __init__(self, X, y,word_dict,transform=None):\n",
    "        self.X = X\n",
    "        self.y = y\n",
    "        self.word_dict = word_dict\n",
    "    \n",
    "    def __len__(self):\n",
    "        return len(self.X)\n",
    "\n",
    "    def __getitem__(self, idx):\n",
    "        idx_seq = []\n",
    "        padding = torch.zeros(50)\n",
    "        if len(self.X[idx]) > 50:\n",
    "            X_ret = self.X[idx][:50]\n",
    "        else:\n",
    "            X_ret = self.X[idx]\n",
    "        #print(X_ret)\n",
    "        #print(self.X)\n",
    "        for word in X_ret:\n",
    "            if word in self.word_dict.keys():\n",
    "                idx_seq.append(self.word_dict[word])\n",
    "            else:\n",
    "                idx_seq.append(self.word_dict['<unk>'])\n",
    "        \n",
    "        idx_seq = torch.tensor(idx_seq)\n",
    "        \n",
    "        length = 50 - len(idx_seq) \n",
    "        if length != 0:\n",
    "            padding = torch.zeros(length)\n",
    "            padded_sequences = torch.cat((idx_seq, padding), dim = 0)\n",
    "        #padded_sequences = pad_sequence((padding, idx_seq), batch_first=True, padding_value=0)\n",
    "       # padded_sequences \n",
    "        else:\n",
    "            padded_sequences = idx_seq\n",
    "        \n",
    "        \n",
    "        y_ret = torch.tensor([self.y[idx]])\n",
    "        \n",
    "        return padded_sequences, y_ret"
   ]
  },
  {
   "cell_type": "code",
   "execution_count": 329,
   "metadata": {},
   "outputs": [],
   "source": [
    "train_data = LSTM_data(X_train_tokenized, train_labels, word_dict)\n",
    "test_data = LSTM_data(X_test_tokenized, test_labels, word_dict)\n",
    "\n",
    "train_loader = DataLoader(train_data, batch_size=64,shuffle=True)\n",
    "test_loader = DataLoader(test_data, batch_size=64,shuffle=True)"
   ]
  },
  {
   "cell_type": "code",
   "execution_count": 330,
   "metadata": {},
   "outputs": [],
   "source": [
    "import torch\n",
    "import torch.nn as nn"
   ]
  },
  {
   "cell_type": "code",
   "execution_count": 331,
   "metadata": {},
   "outputs": [],
   "source": [
    "# If this cell fails you need to change the runtime of your colab notebook to GPU\n",
    "# Go to Runtime -> Change Runtime Type and select GPU\n",
    "assert torch.cuda.is_available(), \"GPU is not enabled\"\n",
    "\n",
    "# use gpu if available\n",
    "device = torch.device(\"cuda\" if torch.cuda.is_available() else \"cpu\")"
   ]
  },
  {
   "cell_type": "code",
   "execution_count": 332,
   "metadata": {},
   "outputs": [],
   "source": [
    "class simple_LSTM(nn.Module):\n",
    "    def __init__(self, embedding_dim, hidden_dim, vocab_size, tagset_size):\n",
    "        super(simple_LSTM, self).__init__()\n",
    "        self.hidden_dim = hidden_dim\n",
    "        self.word_embeddings = nn.Embedding(vocab_size, embedding_dim)\n",
    "        self.lstm = nn.LSTM(embedding_dim, hidden_dim, batch_first = True, bidirectional = True)\n",
    "        self.hidden2label = nn.Linear(hidden_dim*50*2, 1)\n",
    "        \n",
    "        self.sigmoid = nn.Sigmoid()\n",
    "        self.relu = nn.ReLU()\n",
    "        \n",
    "    def forward(self, sentence):\n",
    "        bs,_ = sentence.shape\n",
    "        sentence = sentence.long()\n",
    "        embeds = self.word_embeddings(sentence)\n",
    "        embeds = self.relu(embeds)\n",
    "        \n",
    "        lstm_out, _ = self.lstm(embeds)\n",
    "        lstm_out = self.relu(lstm_out)\n",
    "        #print(\"out\", lstm_out.shape)\n",
    "        lstm_out = lstm_out.reshape(bs, -1)\n",
    "        label_space = self.hidden2label(lstm_out)\n",
    "        label_space = self.sigmoid(label_space)\n",
    "        return label_space"
   ]
  },
  {
   "cell_type": "code",
   "execution_count": 333,
   "metadata": {},
   "outputs": [
    {
     "data": {
      "text/plain": [
       "<module 'torch' from '/home/samper12/.conda/envs/pytorch12/lib/python3.11/site-packages/torch/__init__.py'>"
      ]
     },
     "execution_count": 333,
     "metadata": {},
     "output_type": "execute_result"
    }
   ],
   "source": [
    "torch"
   ]
  },
  {
   "cell_type": "code",
   "execution_count": 343,
   "metadata": {},
   "outputs": [],
   "source": [
    "from torch.nn import BCEWithLogitsLoss\n",
    "embedding_dim = 100\n",
    "hidden_dim = 256\n",
    "vocab_size = vocabulary_size\n",
    "target_size = 1 \n",
    "model = simple_LSTM(embedding_dim, hidden_dim, vocab_size, target_size).to(device)\n",
    "\n",
    "learning_rate = 0.005  # Set the learning rate for the optimizer\n",
    "\n",
    "optimizer = torch.optim.Adam(model.parameters(), lr=learning_rate)  # Create an Adam optimizer and pass the model parameters to optimize\n",
    "\n",
    "criterion = torch.nn.BCELoss()"
   ]
  },
  {
   "cell_type": "code",
   "execution_count": 344,
   "metadata": {},
   "outputs": [],
   "source": [
    "import numpy as np\n",
    "def compute_accuracy(tensor1, tensor2):\n",
    "    \"\"\"\n",
    "    Compute accuracy between two tensors.\n",
    "    \n",
    "    Args:\n",
    "    - tensor1: First tensor\n",
    "    - tensor2: Second tensor\n",
    "    \n",
    "    Returns:\n",
    "    - Accuracy: Percentage of matching elements between the two tensors\n",
    "    \"\"\"\n",
    "    # Ensure tensors are of the same shape\n",
    "    if tensor1.shape != tensor2.shape:\n",
    "        raise ValueError(\"Tensors must have the same shape for comparison.\")\n",
    "    \n",
    "    \n",
    "        \n",
    "    # Convert tensors to numpy arrays for comparison\n",
    "    \n",
    "    array1 = np.array([round(num) for num in tensor1.cpu().detach().numpy()])\n",
    "    array2 = tensor2.cpu().detach().numpy()\n",
    "\n",
    "    # Count the number of matching elements\n",
    "    num_matching = (array1 == array2).sum()\n",
    "\n",
    "    # Compute accuracy\n",
    "\n",
    "    accuracy = num_matching / tensor1.numel()\n",
    "    #accuracies.append(accuracy)\n",
    "    return accuracy\n",
    "\n",
    "def validation(model, test_loader, epoch):\n",
    "    for sent1, label1 in test_loader:\n",
    "        sent1 = sent1.to(device)\n",
    "        label1 = label1.to(device)\n",
    "        label1 = label1.float()\n",
    "        with torch.no_grad():\n",
    "            \n",
    "            preds = model(sent1)\n",
    "            loss = criterion(preds,label1)\n",
    "    preds = preds.squeeze()\n",
    "    label1 = label1.squeeze()\n",
    "    accuracy = compute_accuracy(preds, label1)\n",
    "    \n",
    "    \n",
    "    \n",
    "    print('VALIDATION loss at epoch', epoch, \"is:\", loss.item())\n",
    "    print('ACCURACY:', accuracy, '\\n')\n",
    "    return accuracy"
   ]
  },
  {
   "cell_type": "code",
   "execution_count": 345,
   "metadata": {},
   "outputs": [
    {
     "name": "stdout",
     "output_type": "stream",
     "text": [
      "TRAIN at epoch 0 is: 183.27451413869858 \n",
      "\n",
      "VALIDATION loss at epoch 0 is: 0.8034984469413757\n",
      "ACCURACY: 0.45161290322580644 \n",
      "\n",
      "TRAIN at epoch 1 is: 135.49557542800903 \n",
      "\n",
      "VALIDATION loss at epoch 1 is: 0.6265022158622742\n",
      "ACCURACY: 0.5806451612903226 \n",
      "\n",
      "TRAIN at epoch 2 is: 98.24760393798351 \n",
      "\n",
      "VALIDATION loss at epoch 2 is: 0.40018904209136963\n",
      "ACCURACY: 0.7419354838709677 \n",
      "\n",
      "TRAIN at epoch 3 is: 71.51378043740988 \n",
      "\n",
      "VALIDATION loss at epoch 3 is: 0.8727592825889587\n",
      "ACCURACY: 0.7096774193548387 \n",
      "\n",
      "TRAIN at epoch 4 is: 51.78855724260211 \n",
      "\n",
      "VALIDATION loss at epoch 4 is: 0.5602724552154541\n",
      "ACCURACY: 0.7419354838709677 \n",
      "\n"
     ]
    }
   ],
   "source": [
    "epochs = 5\n",
    "losses = []\n",
    "for epoch in range(epochs):\n",
    "    model.train()\n",
    "    tot_loss = 0 \n",
    "    for sent, label in train_loader:\n",
    "        sent = sent.to(device)\n",
    "        label = label.to(device)\n",
    "\n",
    "        optimizer.zero_grad()\n",
    "\n",
    "        preds = model(sent)\n",
    "        #preds = preds.squeeze()\n",
    "        #label = label.squeeze()\n",
    "        #print('preds', preds.dtype, label.dtype)\n",
    "\n",
    "        label = label.float()\n",
    "        #print(preds.shape, label.shape)\n",
    "\n",
    "        \n",
    "        loss = criterion(preds,label)\n",
    "        \n",
    "        loss.backward()\n",
    "        \n",
    "        optimizer.step()\n",
    "        \n",
    "        tot_loss += loss.item()\n",
    "    \n",
    "    print('TRAIN at epoch', epoch, 'is:', tot_loss, '\\n')\n",
    "    \n",
    "    val = validation(model, test_loader, epoch)\n",
    "    losses.append(tot_loss)  \n",
    "        "
   ]
  },
  {
   "cell_type": "code",
   "execution_count": null,
   "metadata": {},
   "outputs": [],
   "source": [
    "import matplotlib.pyplot as plt\n",
    "plt.plot(range(1, epochs + 1), losses, marker='o')\n",
    "plt.xlabel('Epoch')\n",
    "plt.ylabel('Loss')\n",
    "plt.title('Evolution of Loss during Training')\n",
    "plt.grid(True)\n",
    "plt.show()"
   ]
  },
  {
   "cell_type": "markdown",
   "metadata": {},
   "source": [
    "class Badhanau_Attention_LSTM(nn.Module):\n",
    "    def __init__(self, embedding_dim, hidden_dim, vocab_size, tagset_size):\n",
    "        super(Badhanau_Attention_LSTM, self).__init__()\n",
    "        self.hidden_dim = hidden_dim\n",
    "        self.word_embeddings = nn.Embedding(vocab_size, embedding_dim)\n",
    "        self.lstm = nn.LSTM(embedding_dim, hidden_dim,num_layers = 1, batch_first = True, bidirectional = True)\n",
    "        self.hidden2label = nn.Linear(hidden_dim*2*50, 1)\n",
    "        \n",
    "        self.sigmoid = nn.Sigmoid()\n",
    "        self.relu = nn.ReLU()\n",
    "        self.tanh = nn.Tanh()\n",
    "        \n",
    "    def forward(self, sentence):\n",
    "        bs,_ = sentence.shape\n",
    "        sentence = sentence.long()\n",
    "        embeds = self.word_embeddings(sentence)\n",
    "        embeds = self.relu(embeds)\n",
    "        \n",
    "        lstm_out, lstm_hidden = self.lstm(embeds)\n",
    "        \n",
    "        lstm_sum = torch.sum((lstm_out), dim=2)\n",
    "        lstm_sum = torch.nn.functional.softmax(lstm_sum)\n",
    "        lstm_sum = lstm_sum.unsqueeze(-1)\n",
    "        \n",
    "        lstm_out = lstm_out * lstm_sum \n",
    "        \n",
    "        '''lstm_hidden1 = lstm_hidden[0].reshape(bs,-1)\n",
    "        lstm_hidden2 = lstm_hidden[1].reshape(bs,-1)\n",
    "        \n",
    "        #print(lstm_sum.shape, lstm_hidden1.shape, lstm_hidden2.shape)\n",
    "        lstm_sum = lstm_sum + lstm_hidden1 +lstm_hidden2'''\n",
    "        \n",
    "        lstm_out = self.tanh(lstm_out)\n",
    "        #print(\"out\", lstm_out.shape)\n",
    "        lstm_out = lstm_out.reshape(bs, -1)\n",
    "        label_space = self.hidden2label(lstm_out)\n",
    "        label_space = self.sigmoid(label_space)\n",
    "        return label_space"
   ]
  },
  {
   "cell_type": "markdown",
   "metadata": {},
   "source": [
    "import torch\n",
    "import torch.nn as nn\n",
    "import torch.nn.functional as F\n",
    "\n",
    "class Badhanau_Attention_LSTM(nn.Module):\n",
    "    def __init__(self, embedding_dim, hidden_dim, vocab_size, tagset_size):\n",
    "        super(Badhanau_Attention_LSTM, self).__init__()\n",
    "        self.hidden_dim = hidden_dim\n",
    "        self.embedding_dim = embedding_dim\n",
    "        self.word_embeddings = nn.Embedding(vocab_size, embedding_dim)\n",
    "        self.lstm = nn.LSTM(embedding_dim, hidden_dim, num_layers=1, batch_first=True, bidirectional=True)\n",
    "        self.hidden2label = nn.Linear(hidden_dim*4 , tagset_size)\n",
    "        \n",
    "        self.sigmoid = nn.Sigmoid()\n",
    "        self.tanh = nn.Tanh()\n",
    "        \n",
    "        # Attention mechanism parameters\n",
    "        self.attention_weights = nn.Linear(hidden_dim * 2, 1)\n",
    "        \n",
    "    def forward(self, sentence):\n",
    "        bs, seq_len = sentence.shape\n",
    "        sentence = sentence.long()\n",
    "        \n",
    "        # Embedding layer\n",
    "        embeds = self.word_embeddings(sentence)\n",
    "        \n",
    "        # LSTM layer\n",
    "        lstm_out, _ = self.lstm(embeds)\n",
    "        \n",
    "        # Attention mechanism\n",
    "        attention_weights = self.attention_weights(lstm_out)\n",
    "        attention_weights = F.softmax(attention_weights, dim=1)\n",
    "        context_vector = torch.sum(attention_weights * lstm_out, dim=1)\n",
    "        \n",
    "        # Concatenate context vector with last hidden state\n",
    "        lstm_out_last = lstm_out[:, -1, :]\n",
    "        combined_vector = torch.cat((context_vector, lstm_out_last), dim=1)\n",
    "        \n",
    "        # Linear layer\n",
    "        label_space = self.hidden2label(combined_vector)\n",
    "        label_space = self.sigmoid(label_space)\n",
    "        \n",
    "        return label_space"
   ]
  },
  {
   "cell_type": "markdown",
   "metadata": {},
   "source": [
    "from torch.nn import BCEWithLogitsLoss\n",
    "embedding_dim = 100\n",
    "hidden_dim = 256\n",
    "vocab_size = vocabulary_size\n",
    "target_size = 1 \n",
    "model_att = Badhanau_Attention_LSTM(embedding_dim, hidden_dim, vocab_size, target_size).to(device)\n",
    "\n",
    "learning_rate = 0.01  # Set the learning rate for the optimizer\n",
    "\n",
    "optimizer = torch.optim.Adam(model.parameters(), lr=learning_rate)  # Create an Adam optimizer and pass the model parameters to optimize\n",
    "\n",
    "criterion = torch.nn.BCELoss()"
   ]
  },
  {
   "cell_type": "markdown",
   "metadata": {},
   "source": [
    "epochs = 100\n",
    "losses = []\n",
    "for epoch in range(epochs):\n",
    "    model_att.train()\n",
    "    tot_loss = 0 \n",
    "    for sent, label in train_loader:\n",
    "        sent = sent.to(device)\n",
    "        label = label.to(device)\n",
    "\n",
    "        optimizer.zero_grad()\n",
    "\n",
    "        preds = model_att(sent)\n",
    "        #preds = preds.squeeze()\n",
    "        #label = label.squeeze()\n",
    "        #print('preds', preds.dtype, label.dtype)\n",
    "\n",
    "        label = label.float()\n",
    "        #print(preds.shape, label.shape)\n",
    "\n",
    "        \n",
    "        loss = criterion(preds,label)\n",
    "        \n",
    "        loss.backward()\n",
    "        \n",
    "        optimizer.step()\n",
    "        \n",
    "        tot_loss += loss.item()\n",
    "    \n",
    "    print('TRAIN at epoch', epoch, 'is:', tot_loss, '\\n')\n",
    "    \n",
    "    val = validation(model_att, test_loader, epoch)\n",
    "    losses.append(tot_loss) "
   ]
  },
  {
   "cell_type": "markdown",
   "metadata": {},
   "source": [
    "# Training the model\n",
    "from spacy.training import Example\n",
    "\n",
    "def create_examples(X, y):\n",
    "    examples = []\n",
    "    for text, label in zip(X, y):\n",
    "        examples.append(Example.from_dict(nlp.make_doc(text), {'cats': {'positive': int(label), 'negative': int(not label)}}))\n",
    "    return examples\n",
    "\n",
    "train_examples = create_examples(X_train, y_train)\n",
    "test_examples = create_examples(X_test, y_test)"
   ]
  },
  {
   "cell_type": "markdown",
   "metadata": {},
   "source": [
    "### 2- Use Keras’ tokenizer and pad sequences with a maximum of 50 words per utterance"
   ]
  },
  {
   "cell_type": "markdown",
   "metadata": {},
   "source": [
    "!pip install tensorflow"
   ]
  },
  {
   "cell_type": "markdown",
   "metadata": {},
   "source": [
    "from tensorflow.keras.preprocessing.text import Tokenizer\n",
    "from tensorflow.keras.preprocessing.sequence import pad_sequences\n",
    "\n",
    "\n",
    "# Initialize the Tokenizer\n",
    "tokenizer = Tokenizer()\n",
    "tokenizer.fit_on_texts(X_train)\n",
    "# Convert text to sequences of integers\n",
    "sequences = tokenizer.texts_to_sequences(X_train)\n",
    "\n",
    "# Pad sequences to a maximum length of 50 words\n",
    "max_length = 50\n",
    "padded_sequences = pad_sequences(sequences, maxlen=max_length, padding='post', truncating='post')\n",
    "\n",
    "print(\"Original sequences:\")\n",
    "print(sequences)\n",
    "print(\"\\nPadded sequences:\")\n",
    "print(padded_sequences)"
   ]
  },
  {
   "cell_type": "code",
   "execution_count": null,
   "metadata": {},
   "outputs": [],
   "source": []
  },
  {
   "cell_type": "markdown",
   "metadata": {},
   "source": [
    "tokenizer.fit_on_texts(X_test)\n",
    "# Convert text to sequences of integers\n",
    "test_sequences = tokenizer.texts_to_sequences(X_test)\n",
    "\n",
    "# Pad sequences to a maximum length of 50 words\n",
    "max_length = 50\n",
    "test_padded_sequences = pad_sequences(test_sequences, maxlen=max_length, padding='post', truncating='post')\n",
    "\n",
    "print(\"Original sequences:\")\n",
    "print(test_sequences)\n",
    "print(\"\\nPadded sequences:\")\n",
    "print(test_padded_sequences)"
   ]
  },
  {
   "cell_type": "code",
   "execution_count": 16,
   "metadata": {},
   "outputs": [
    {
     "data": {
      "text/plain": [
       "array([\"Well, Jesus of Montreal is basically an intelligent movie. The actors are indeed good and the technical side of the movie is okay. But, although I was very interested in the topic and like to think and discuss about religion (I am an atheist), it was hard to force myself to watch the movie to the bitter and in my opinion somehow unconsciously funny end. Why is this movie so incredibly boring? I don't know. It just is and so it is not recommendable.\",\n",
       "       'The second official episode of the \"Columbo\" series (\"Murder by the Book,\" filmed later, hit the airwaves first). Robert Culp, who would match wits with Peter Falk\\'s detective in several future installments, is terrific as the short-tempered head of a sophisticated private detective agency who murders a client\\'s wife when she refuses to cave-in to his blackmail schemes. The two stars are well-matched in this clever cat and mouse exercise that is one of the best in the series.',\n",
       "       \"Worst movie, (with the best reviews given it) I've ever seen. Over the top dialog, acting, and direction. more slasher flick than thriller.With all the great reviews this movie got I'm appalled that it turned out so silly. shame on you martin scorsese\",\n",
       "       ...,\n",
       "       \"This is one of the most touching films I had ever watched. No movie has effected me the way this one did. This is a great film and you have to see for yourself. I'm normally impregnable with these sob story movies but this one did it for me. I was in tears at the end. You'll yearn for the friendship that is portrayed in this movie. If I can give this movie a billion stars I could.\",\n",
       "       \"Ostensibly a film that predicts the coming trends in British popular music, it's wrong on so many fronts that it's laughable. Tommy Quickly? The Honeycombs? The movie DOES include a song by the Spencer Davis group, two by the Animals, and one tacked on live film of the Beatles doing their live version of Twist and Shout (all 1:20). But all in all, an awkward display of British music circa 1964. Oh, and Herman's Hermits.\",\n",
       "       'Once in a while you get amazed over how BAD a film can be, and how in the world anybody could raise money to make this kind of crap. There is absolutely No talent included in this film - from a crappy script, to a crappy story to crappy acting. Amazing...'],\n",
       "      dtype=object)"
      ]
     },
     "execution_count": 16,
     "metadata": {},
     "output_type": "execute_result"
    }
   ],
   "source": [
    "X_train"
   ]
  },
  {
   "cell_type": "code",
   "execution_count": 18,
   "metadata": {},
   "outputs": [
    {
     "ename": "AttributeError",
     "evalue": "'numpy.ndarray' object has no attribute 'lower'",
     "output_type": "error",
     "traceback": [
      "\u001b[0;31m---------------------------------------------------------------------------\u001b[0m",
      "\u001b[0;31mAttributeError\u001b[0m                            Traceback (most recent call last)",
      "Cell \u001b[0;32mIn[18], line 5\u001b[0m\n\u001b[1;32m      3\u001b[0m \u001b[38;5;28;01mfrom\u001b[39;00m \u001b[38;5;21;01mtorchtext\u001b[39;00m\u001b[38;5;21;01m.\u001b[39;00m\u001b[38;5;21;01mdata\u001b[39;00m \u001b[38;5;28;01mimport\u001b[39;00m get_tokenizer\n\u001b[1;32m      4\u001b[0m tokenizer \u001b[38;5;241m=\u001b[39m get_tokenizer(\u001b[38;5;124m\"\u001b[39m\u001b[38;5;124mbasic_english\u001b[39m\u001b[38;5;124m\"\u001b[39m)\n\u001b[0;32m----> 5\u001b[0m tokens \u001b[38;5;241m=\u001b[39m tokenizer(X_train)\n\u001b[1;32m      6\u001b[0m tokens\n",
      "File \u001b[0;32m~/.conda/envs/pytorch12/lib/python3.11/site-packages/torchtext/data/utils.py:46\u001b[0m, in \u001b[0;36m_basic_english_normalize\u001b[0;34m(line)\u001b[0m\n\u001b[1;32m     24\u001b[0m \u001b[38;5;28;01mdef\u001b[39;00m \u001b[38;5;21m_basic_english_normalize\u001b[39m(line):\n\u001b[1;32m     25\u001b[0m \u001b[38;5;250m    \u001b[39m\u001b[38;5;124mr\u001b[39m\u001b[38;5;124;03m\"\"\"\u001b[39;00m\n\u001b[1;32m     26\u001b[0m \u001b[38;5;124;03m    Basic normalization for a line of text.\u001b[39;00m\n\u001b[1;32m     27\u001b[0m \u001b[38;5;124;03m    Normalization includes\u001b[39;00m\n\u001b[0;32m   (...)\u001b[0m\n\u001b[1;32m     43\u001b[0m \u001b[38;5;124;03m    Returns a list of tokens after splitting on whitespace.\u001b[39;00m\n\u001b[1;32m     44\u001b[0m \u001b[38;5;124;03m    \"\"\"\u001b[39;00m\n\u001b[0;32m---> 46\u001b[0m     line \u001b[38;5;241m=\u001b[39m line\u001b[38;5;241m.\u001b[39mlower()\n\u001b[1;32m     47\u001b[0m     \u001b[38;5;28;01mfor\u001b[39;00m pattern_re, replaced_str \u001b[38;5;129;01min\u001b[39;00m _patterns_dict:\n\u001b[1;32m     48\u001b[0m         line \u001b[38;5;241m=\u001b[39m pattern_re\u001b[38;5;241m.\u001b[39msub(replaced_str, line)\n",
      "\u001b[0;31mAttributeError\u001b[0m: 'numpy.ndarray' object has no attribute 'lower'"
     ]
    }
   ],
   "source": [
    "import torchtext\n",
    "import torch\n",
    "from torchtext.data import get_tokenizer\n",
    "tokenizer = get_tokenizer(\"basic_english\")\n",
    "tokens = tokenizer(X_train)\n",
    "tokens"
   ]
  },
  {
   "cell_type": "markdown",
   "metadata": {},
   "source": [
    "### 3- In the input layer specify None to let Keras infers the input shape"
   ]
  },
  {
   "cell_type": "markdown",
   "metadata": {},
   "source": [
    "### 4- Implement an embedding layer with an output length of 100"
   ]
  },
  {
   "cell_type": "code",
   "execution_count": null,
   "metadata": {},
   "outputs": [],
   "source": [
    "from tensorflow.keras.layers import Embedding\n",
    "# Embedding dimension\n",
    "embedding_dim = 100\n",
    "vocab_size = tokenizer.num_words\n",
    "\n",
    "# Create an instance of the Embedding layer\n",
    "embedding_layer = Embedding(input_dim = 50, output_dim=embedding_dim)"
   ]
  },
  {
   "cell_type": "markdown",
   "metadata": {},
   "source": [
    "### 5- Specify a size of 256 in the LSTM’s hidden layer"
   ]
  },
  {
   "cell_type": "markdown",
   "metadata": {},
   "source": [
    "### 6- Specify a many-to one LSTM architecture"
   ]
  },
  {
   "cell_type": "code",
   "execution_count": null,
   "metadata": {},
   "outputs": [],
   "source": [
    "from tensorflow.keras.models import Sequential\n",
    "from tensorflow.keras.layers import LSTM, Dense\n",
    "\n",
    "num_classes = 1\n",
    "# Define the model\n",
    "model = Sequential()\n",
    "\n",
    "# Add an LSTM layer\n",
    "model.add(Embedding(input_dim = 50, output_dim=embedding_dim))\n",
    "model.add(LSTM(units=256, return_sequences=False))\n",
    "\n",
    "# Add a Dense layer for the output (many-to-one)\n",
    "model.add(Dense(units=num_classes, activation='tanh'))\n",
    "\n",
    "# Compile the model\n",
    "model.compile(optimizer='adam', loss='binary_crossentropy', metrics=['accuracy'])\n",
    "\n",
    "# Print the model summary\n",
    "model.summary()"
   ]
  },
  {
   "cell_type": "code",
   "execution_count": null,
   "metadata": {},
   "outputs": [],
   "source": []
  },
  {
   "cell_type": "code",
   "execution_count": null,
   "metadata": {},
   "outputs": [],
   "source": [
    "# Define batch size and number of epochs\n",
    "batch_size = 64\n",
    "epochs = 5\n",
    "validation_split = 0.3\n",
    "\n",
    "# Fit the model\n",
    "for i in sequences:\n",
    "    history = model.fit(sequence, y_train, batch_size=batch_size, epochs=epochs)"
   ]
  },
  {
   "cell_type": "code",
   "execution_count": null,
   "metadata": {},
   "outputs": [],
   "source": []
  }
 ],
 "metadata": {
  "kernelspec": {
   "display_name": "pytorch12",
   "language": "python",
   "name": "pytorch12"
  },
  "language_info": {
   "codemirror_mode": {
    "name": "ipython",
    "version": 3
   },
   "file_extension": ".py",
   "mimetype": "text/x-python",
   "name": "python",
   "nbconvert_exporter": "python",
   "pygments_lexer": "ipython3",
   "version": "3.11.5"
  }
 },
 "nbformat": 4,
 "nbformat_minor": 4
}
