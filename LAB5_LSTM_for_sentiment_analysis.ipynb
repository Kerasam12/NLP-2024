{
  "cells": [
    {
      "cell_type": "markdown",
      "metadata": {
        "id": "GGFMSL22An2g"
      },
      "source": [
        "# LAB 5. Spacy Pipeline and LSTM FOR TEXT CLASSIFICATION & SENTIMENT ANALYSIS"
      ]
    },
    {
      "cell_type": "markdown",
      "source": [
        "## SpaCy’s processing pipeline"
      ],
      "metadata": {
        "id": "G8VUMN18A26w"
      }
    },
    {
      "cell_type": "markdown",
      "source": [
        "### 1. Load the pipeline and the en_core_web_md modules"
      ],
      "metadata": {
        "id": "bg7g4ju3A1zU"
      }
    },
    {
      "cell_type": "code",
      "execution_count": 1,
      "metadata": {
        "colab": {
          "base_uri": "https://localhost:8080/"
        },
        "id": "pnZiKimfAn2q",
        "outputId": "173f8acd-8dc7-46ad-cd3f-25ed2dba0072"
      },
      "outputs": [
        {
          "output_type": "stream",
          "name": "stdout",
          "text": [
            "Requirement already satisfied: spacy in /usr/local/lib/python3.10/dist-packages (3.7.4)\n",
            "Requirement already satisfied: spacy-legacy<3.1.0,>=3.0.11 in /usr/local/lib/python3.10/dist-packages (from spacy) (3.0.12)\n",
            "Requirement already satisfied: spacy-loggers<2.0.0,>=1.0.0 in /usr/local/lib/python3.10/dist-packages (from spacy) (1.0.5)\n",
            "Requirement already satisfied: murmurhash<1.1.0,>=0.28.0 in /usr/local/lib/python3.10/dist-packages (from spacy) (1.0.10)\n",
            "Requirement already satisfied: cymem<2.1.0,>=2.0.2 in /usr/local/lib/python3.10/dist-packages (from spacy) (2.0.8)\n",
            "Requirement already satisfied: preshed<3.1.0,>=3.0.2 in /usr/local/lib/python3.10/dist-packages (from spacy) (3.0.9)\n",
            "Requirement already satisfied: thinc<8.3.0,>=8.2.2 in /usr/local/lib/python3.10/dist-packages (from spacy) (8.2.3)\n",
            "Requirement already satisfied: wasabi<1.2.0,>=0.9.1 in /usr/local/lib/python3.10/dist-packages (from spacy) (1.1.2)\n",
            "Requirement already satisfied: srsly<3.0.0,>=2.4.3 in /usr/local/lib/python3.10/dist-packages (from spacy) (2.4.8)\n",
            "Requirement already satisfied: catalogue<2.1.0,>=2.0.6 in /usr/local/lib/python3.10/dist-packages (from spacy) (2.0.10)\n",
            "Requirement already satisfied: weasel<0.4.0,>=0.1.0 in /usr/local/lib/python3.10/dist-packages (from spacy) (0.3.4)\n",
            "Requirement already satisfied: typer<0.10.0,>=0.3.0 in /usr/local/lib/python3.10/dist-packages (from spacy) (0.9.0)\n",
            "Requirement already satisfied: smart-open<7.0.0,>=5.2.1 in /usr/local/lib/python3.10/dist-packages (from spacy) (6.4.0)\n",
            "Requirement already satisfied: tqdm<5.0.0,>=4.38.0 in /usr/local/lib/python3.10/dist-packages (from spacy) (4.66.2)\n",
            "Requirement already satisfied: requests<3.0.0,>=2.13.0 in /usr/local/lib/python3.10/dist-packages (from spacy) (2.31.0)\n",
            "Requirement already satisfied: pydantic!=1.8,!=1.8.1,<3.0.0,>=1.7.4 in /usr/local/lib/python3.10/dist-packages (from spacy) (2.6.4)\n",
            "Requirement already satisfied: jinja2 in /usr/local/lib/python3.10/dist-packages (from spacy) (3.1.3)\n",
            "Requirement already satisfied: setuptools in /usr/local/lib/python3.10/dist-packages (from spacy) (67.7.2)\n",
            "Requirement already satisfied: packaging>=20.0 in /usr/local/lib/python3.10/dist-packages (from spacy) (24.0)\n",
            "Requirement already satisfied: langcodes<4.0.0,>=3.2.0 in /usr/local/lib/python3.10/dist-packages (from spacy) (3.3.0)\n",
            "Requirement already satisfied: numpy>=1.19.0 in /usr/local/lib/python3.10/dist-packages (from spacy) (1.25.2)\n",
            "Requirement already satisfied: annotated-types>=0.4.0 in /usr/local/lib/python3.10/dist-packages (from pydantic!=1.8,!=1.8.1,<3.0.0,>=1.7.4->spacy) (0.6.0)\n",
            "Requirement already satisfied: pydantic-core==2.16.3 in /usr/local/lib/python3.10/dist-packages (from pydantic!=1.8,!=1.8.1,<3.0.0,>=1.7.4->spacy) (2.16.3)\n",
            "Requirement already satisfied: typing-extensions>=4.6.1 in /usr/local/lib/python3.10/dist-packages (from pydantic!=1.8,!=1.8.1,<3.0.0,>=1.7.4->spacy) (4.10.0)\n",
            "Requirement already satisfied: charset-normalizer<4,>=2 in /usr/local/lib/python3.10/dist-packages (from requests<3.0.0,>=2.13.0->spacy) (3.3.2)\n",
            "Requirement already satisfied: idna<4,>=2.5 in /usr/local/lib/python3.10/dist-packages (from requests<3.0.0,>=2.13.0->spacy) (3.6)\n",
            "Requirement already satisfied: urllib3<3,>=1.21.1 in /usr/local/lib/python3.10/dist-packages (from requests<3.0.0,>=2.13.0->spacy) (2.0.7)\n",
            "Requirement already satisfied: certifi>=2017.4.17 in /usr/local/lib/python3.10/dist-packages (from requests<3.0.0,>=2.13.0->spacy) (2024.2.2)\n",
            "Requirement already satisfied: blis<0.8.0,>=0.7.8 in /usr/local/lib/python3.10/dist-packages (from thinc<8.3.0,>=8.2.2->spacy) (0.7.11)\n",
            "Requirement already satisfied: confection<1.0.0,>=0.0.1 in /usr/local/lib/python3.10/dist-packages (from thinc<8.3.0,>=8.2.2->spacy) (0.1.4)\n",
            "Requirement already satisfied: click<9.0.0,>=7.1.1 in /usr/local/lib/python3.10/dist-packages (from typer<0.10.0,>=0.3.0->spacy) (8.1.7)\n",
            "Requirement already satisfied: cloudpathlib<0.17.0,>=0.7.0 in /usr/local/lib/python3.10/dist-packages (from weasel<0.4.0,>=0.1.0->spacy) (0.16.0)\n",
            "Requirement already satisfied: MarkupSafe>=2.0 in /usr/local/lib/python3.10/dist-packages (from jinja2->spacy) (2.1.5)\n"
          ]
        }
      ],
      "source": [
        "pip install spacy"
      ]
    },
    {
      "cell_type": "code",
      "execution_count": 2,
      "metadata": {
        "colab": {
          "base_uri": "https://localhost:8080/"
        },
        "id": "k_Ug9-XaAn2u",
        "outputId": "8145a0c3-892a-4950-8821-cc00d76752cb"
      },
      "outputs": [
        {
          "output_type": "stream",
          "name": "stdout",
          "text": [
            "\u001b[38;5;2m✔ Download and installation successful\u001b[0m\n",
            "You can now load the package via spacy.load('en_core_web_sm')\n",
            "\u001b[38;5;3m⚠ Restart to reload dependencies\u001b[0m\n",
            "If you are in a Jupyter or Colab notebook, you may need to restart Python in\n",
            "order to load all the package's dependencies. You can do this by selecting the\n",
            "'Restart kernel' or 'Restart runtime' option.\n"
          ]
        }
      ],
      "source": [
        "#Load the pipeline and the en_core_web_md modules\n",
        "import spacy\n",
        "\n",
        "spacy.cli.download(\"en_core_web_sm\")\n",
        "nlp = spacy.load(\"en_core_web_sm\")\n",
        "\n"
      ]
    },
    {
      "cell_type": "markdown",
      "metadata": {
        "id": "All7qNX9An2v"
      },
      "source": [
        "### 2. Show the components considered in the pipeline"
      ]
    },
    {
      "cell_type": "code",
      "execution_count": 3,
      "metadata": {
        "colab": {
          "base_uri": "https://localhost:8080/"
        },
        "id": "nGKkrAtlAn2x",
        "outputId": "e39b0645-9f13-47d0-da72-6e350570ebf6"
      },
      "outputs": [
        {
          "output_type": "stream",
          "name": "stdout",
          "text": [
            "['tok2vec', 'tagger', 'parser', 'attribute_ruler', 'lemmatizer', 'ner']\n"
          ]
        }
      ],
      "source": [
        "#Show the components considered in the pipeline\n",
        "print(nlp.pipe_names)"
      ]
    },
    {
      "cell_type": "markdown",
      "metadata": {
        "id": "-nZZ0GxnAn2x"
      },
      "source": [
        "### 3. Load the SA dataset from Campus Virtual"
      ]
    },
    {
      "cell_type": "code",
      "execution_count": 4,
      "metadata": {
        "id": "SAplGsVnAn2y"
      },
      "outputs": [],
      "source": [
        "#Load the SA dataset from Campus Virtual\n",
        "import pandas as pd\n",
        "\n",
        "sadataset = pd.read_csv(\"./SA_dataset.csv\")"
      ]
    },
    {
      "cell_type": "code",
      "execution_count": 5,
      "metadata": {
        "colab": {
          "base_uri": "https://localhost:8080/",
          "height": 206
        },
        "id": "VtSn7Z_mAn20",
        "outputId": "ec1bf148-98fc-4fc8-caa9-157c500a2105"
      },
      "outputs": [
        {
          "output_type": "execute_result",
          "data": {
            "text/plain": [
              "                                              Review  Rating  Sentiment\n",
              "0                              **Possible Spoilers**       1          0\n",
              "1                   Read the book, forget the movie!       2          0\n",
              "2                        **Possible Spoilers Ahead**       2          0\n",
              "3          What a script, what a story, what a mess!       2          0\n",
              "4  I hope this group of film-makers never re-unites.       1          0"
            ],
            "text/html": [
              "\n",
              "  <div id=\"df-f90b9c05-cc71-4685-94b5-f5eb6ebb6d89\" class=\"colab-df-container\">\n",
              "    <div>\n",
              "<style scoped>\n",
              "    .dataframe tbody tr th:only-of-type {\n",
              "        vertical-align: middle;\n",
              "    }\n",
              "\n",
              "    .dataframe tbody tr th {\n",
              "        vertical-align: top;\n",
              "    }\n",
              "\n",
              "    .dataframe thead th {\n",
              "        text-align: right;\n",
              "    }\n",
              "</style>\n",
              "<table border=\"1\" class=\"dataframe\">\n",
              "  <thead>\n",
              "    <tr style=\"text-align: right;\">\n",
              "      <th></th>\n",
              "      <th>Review</th>\n",
              "      <th>Rating</th>\n",
              "      <th>Sentiment</th>\n",
              "    </tr>\n",
              "  </thead>\n",
              "  <tbody>\n",
              "    <tr>\n",
              "      <th>0</th>\n",
              "      <td>**Possible Spoilers**</td>\n",
              "      <td>1</td>\n",
              "      <td>0</td>\n",
              "    </tr>\n",
              "    <tr>\n",
              "      <th>1</th>\n",
              "      <td>Read the book, forget the movie!</td>\n",
              "      <td>2</td>\n",
              "      <td>0</td>\n",
              "    </tr>\n",
              "    <tr>\n",
              "      <th>2</th>\n",
              "      <td>**Possible Spoilers Ahead**</td>\n",
              "      <td>2</td>\n",
              "      <td>0</td>\n",
              "    </tr>\n",
              "    <tr>\n",
              "      <th>3</th>\n",
              "      <td>What a script, what a story, what a mess!</td>\n",
              "      <td>2</td>\n",
              "      <td>0</td>\n",
              "    </tr>\n",
              "    <tr>\n",
              "      <th>4</th>\n",
              "      <td>I hope this group of film-makers never re-unites.</td>\n",
              "      <td>1</td>\n",
              "      <td>0</td>\n",
              "    </tr>\n",
              "  </tbody>\n",
              "</table>\n",
              "</div>\n",
              "    <div class=\"colab-df-buttons\">\n",
              "\n",
              "  <div class=\"colab-df-container\">\n",
              "    <button class=\"colab-df-convert\" onclick=\"convertToInteractive('df-f90b9c05-cc71-4685-94b5-f5eb6ebb6d89')\"\n",
              "            title=\"Convert this dataframe to an interactive table.\"\n",
              "            style=\"display:none;\">\n",
              "\n",
              "  <svg xmlns=\"http://www.w3.org/2000/svg\" height=\"24px\" viewBox=\"0 -960 960 960\">\n",
              "    <path d=\"M120-120v-720h720v720H120Zm60-500h600v-160H180v160Zm220 220h160v-160H400v160Zm0 220h160v-160H400v160ZM180-400h160v-160H180v160Zm440 0h160v-160H620v160ZM180-180h160v-160H180v160Zm440 0h160v-160H620v160Z\"/>\n",
              "  </svg>\n",
              "    </button>\n",
              "\n",
              "  <style>\n",
              "    .colab-df-container {\n",
              "      display:flex;\n",
              "      gap: 12px;\n",
              "    }\n",
              "\n",
              "    .colab-df-convert {\n",
              "      background-color: #E8F0FE;\n",
              "      border: none;\n",
              "      border-radius: 50%;\n",
              "      cursor: pointer;\n",
              "      display: none;\n",
              "      fill: #1967D2;\n",
              "      height: 32px;\n",
              "      padding: 0 0 0 0;\n",
              "      width: 32px;\n",
              "    }\n",
              "\n",
              "    .colab-df-convert:hover {\n",
              "      background-color: #E2EBFA;\n",
              "      box-shadow: 0px 1px 2px rgba(60, 64, 67, 0.3), 0px 1px 3px 1px rgba(60, 64, 67, 0.15);\n",
              "      fill: #174EA6;\n",
              "    }\n",
              "\n",
              "    .colab-df-buttons div {\n",
              "      margin-bottom: 4px;\n",
              "    }\n",
              "\n",
              "    [theme=dark] .colab-df-convert {\n",
              "      background-color: #3B4455;\n",
              "      fill: #D2E3FC;\n",
              "    }\n",
              "\n",
              "    [theme=dark] .colab-df-convert:hover {\n",
              "      background-color: #434B5C;\n",
              "      box-shadow: 0px 1px 3px 1px rgba(0, 0, 0, 0.15);\n",
              "      filter: drop-shadow(0px 1px 2px rgba(0, 0, 0, 0.3));\n",
              "      fill: #FFFFFF;\n",
              "    }\n",
              "  </style>\n",
              "\n",
              "    <script>\n",
              "      const buttonEl =\n",
              "        document.querySelector('#df-f90b9c05-cc71-4685-94b5-f5eb6ebb6d89 button.colab-df-convert');\n",
              "      buttonEl.style.display =\n",
              "        google.colab.kernel.accessAllowed ? 'block' : 'none';\n",
              "\n",
              "      async function convertToInteractive(key) {\n",
              "        const element = document.querySelector('#df-f90b9c05-cc71-4685-94b5-f5eb6ebb6d89');\n",
              "        const dataTable =\n",
              "          await google.colab.kernel.invokeFunction('convertToInteractive',\n",
              "                                                    [key], {});\n",
              "        if (!dataTable) return;\n",
              "\n",
              "        const docLinkHtml = 'Like what you see? Visit the ' +\n",
              "          '<a target=\"_blank\" href=https://colab.research.google.com/notebooks/data_table.ipynb>data table notebook</a>'\n",
              "          + ' to learn more about interactive tables.';\n",
              "        element.innerHTML = '';\n",
              "        dataTable['output_type'] = 'display_data';\n",
              "        await google.colab.output.renderOutput(dataTable, element);\n",
              "        const docLink = document.createElement('div');\n",
              "        docLink.innerHTML = docLinkHtml;\n",
              "        element.appendChild(docLink);\n",
              "      }\n",
              "    </script>\n",
              "  </div>\n",
              "\n",
              "\n",
              "<div id=\"df-4abfa850-adda-4b8f-98af-201bdfe520c7\">\n",
              "  <button class=\"colab-df-quickchart\" onclick=\"quickchart('df-4abfa850-adda-4b8f-98af-201bdfe520c7')\"\n",
              "            title=\"Suggest charts\"\n",
              "            style=\"display:none;\">\n",
              "\n",
              "<svg xmlns=\"http://www.w3.org/2000/svg\" height=\"24px\"viewBox=\"0 0 24 24\"\n",
              "     width=\"24px\">\n",
              "    <g>\n",
              "        <path d=\"M19 3H5c-1.1 0-2 .9-2 2v14c0 1.1.9 2 2 2h14c1.1 0 2-.9 2-2V5c0-1.1-.9-2-2-2zM9 17H7v-7h2v7zm4 0h-2V7h2v10zm4 0h-2v-4h2v4z\"/>\n",
              "    </g>\n",
              "</svg>\n",
              "  </button>\n",
              "\n",
              "<style>\n",
              "  .colab-df-quickchart {\n",
              "      --bg-color: #E8F0FE;\n",
              "      --fill-color: #1967D2;\n",
              "      --hover-bg-color: #E2EBFA;\n",
              "      --hover-fill-color: #174EA6;\n",
              "      --disabled-fill-color: #AAA;\n",
              "      --disabled-bg-color: #DDD;\n",
              "  }\n",
              "\n",
              "  [theme=dark] .colab-df-quickchart {\n",
              "      --bg-color: #3B4455;\n",
              "      --fill-color: #D2E3FC;\n",
              "      --hover-bg-color: #434B5C;\n",
              "      --hover-fill-color: #FFFFFF;\n",
              "      --disabled-bg-color: #3B4455;\n",
              "      --disabled-fill-color: #666;\n",
              "  }\n",
              "\n",
              "  .colab-df-quickchart {\n",
              "    background-color: var(--bg-color);\n",
              "    border: none;\n",
              "    border-radius: 50%;\n",
              "    cursor: pointer;\n",
              "    display: none;\n",
              "    fill: var(--fill-color);\n",
              "    height: 32px;\n",
              "    padding: 0;\n",
              "    width: 32px;\n",
              "  }\n",
              "\n",
              "  .colab-df-quickchart:hover {\n",
              "    background-color: var(--hover-bg-color);\n",
              "    box-shadow: 0 1px 2px rgba(60, 64, 67, 0.3), 0 1px 3px 1px rgba(60, 64, 67, 0.15);\n",
              "    fill: var(--button-hover-fill-color);\n",
              "  }\n",
              "\n",
              "  .colab-df-quickchart-complete:disabled,\n",
              "  .colab-df-quickchart-complete:disabled:hover {\n",
              "    background-color: var(--disabled-bg-color);\n",
              "    fill: var(--disabled-fill-color);\n",
              "    box-shadow: none;\n",
              "  }\n",
              "\n",
              "  .colab-df-spinner {\n",
              "    border: 2px solid var(--fill-color);\n",
              "    border-color: transparent;\n",
              "    border-bottom-color: var(--fill-color);\n",
              "    animation:\n",
              "      spin 1s steps(1) infinite;\n",
              "  }\n",
              "\n",
              "  @keyframes spin {\n",
              "    0% {\n",
              "      border-color: transparent;\n",
              "      border-bottom-color: var(--fill-color);\n",
              "      border-left-color: var(--fill-color);\n",
              "    }\n",
              "    20% {\n",
              "      border-color: transparent;\n",
              "      border-left-color: var(--fill-color);\n",
              "      border-top-color: var(--fill-color);\n",
              "    }\n",
              "    30% {\n",
              "      border-color: transparent;\n",
              "      border-left-color: var(--fill-color);\n",
              "      border-top-color: var(--fill-color);\n",
              "      border-right-color: var(--fill-color);\n",
              "    }\n",
              "    40% {\n",
              "      border-color: transparent;\n",
              "      border-right-color: var(--fill-color);\n",
              "      border-top-color: var(--fill-color);\n",
              "    }\n",
              "    60% {\n",
              "      border-color: transparent;\n",
              "      border-right-color: var(--fill-color);\n",
              "    }\n",
              "    80% {\n",
              "      border-color: transparent;\n",
              "      border-right-color: var(--fill-color);\n",
              "      border-bottom-color: var(--fill-color);\n",
              "    }\n",
              "    90% {\n",
              "      border-color: transparent;\n",
              "      border-bottom-color: var(--fill-color);\n",
              "    }\n",
              "  }\n",
              "</style>\n",
              "\n",
              "  <script>\n",
              "    async function quickchart(key) {\n",
              "      const quickchartButtonEl =\n",
              "        document.querySelector('#' + key + ' button');\n",
              "      quickchartButtonEl.disabled = true;  // To prevent multiple clicks.\n",
              "      quickchartButtonEl.classList.add('colab-df-spinner');\n",
              "      try {\n",
              "        const charts = await google.colab.kernel.invokeFunction(\n",
              "            'suggestCharts', [key], {});\n",
              "      } catch (error) {\n",
              "        console.error('Error during call to suggestCharts:', error);\n",
              "      }\n",
              "      quickchartButtonEl.classList.remove('colab-df-spinner');\n",
              "      quickchartButtonEl.classList.add('colab-df-quickchart-complete');\n",
              "    }\n",
              "    (() => {\n",
              "      let quickchartButtonEl =\n",
              "        document.querySelector('#df-4abfa850-adda-4b8f-98af-201bdfe520c7 button');\n",
              "      quickchartButtonEl.style.display =\n",
              "        google.colab.kernel.accessAllowed ? 'block' : 'none';\n",
              "    })();\n",
              "  </script>\n",
              "</div>\n",
              "    </div>\n",
              "  </div>\n"
            ],
            "application/vnd.google.colaboratory.intrinsic+json": {
              "type": "dataframe",
              "variable_name": "sadataset",
              "summary": "{\n  \"name\": \"sadataset\",\n  \"rows\": 5000,\n  \"fields\": [\n    {\n      \"column\": \"Review\",\n      \"properties\": {\n        \"dtype\": \"string\",\n        \"num_unique_values\": 4951,\n        \"samples\": [\n          \"I'm still laughing- Not! I'm still asking my myself what the point was. I barely got a chuckle, this movie sucks. It tries to be charming and touching, but it turns out stupid. I do not recommend it.\",\n          \"The greatest sin in life is being dull, and this movie is crashingly boring. its funny, its left out of his \\\"a life in film\\\" documentary. He goes from a long piece on \\\"Stardust Memories\\\" and then fast forwards to \\\"Zelig\\\". This little piece of cubic zirconia just isn't worth the effort.\",\n          \"I really enjoyed this movie. It challenged my emotions and beliefs, making it a true piece of artwork in my book. The acting was unsurpassed. I would never watch this movie with anyone I could not cry around, I don't think I cry harder to any movies, maybe because it makes me look at myself, I dunno. It is a must see.\"\n        ],\n        \"semantic_type\": \"\",\n        \"description\": \"\"\n      }\n    },\n    {\n      \"column\": \"Rating\",\n      \"properties\": {\n        \"dtype\": \"number\",\n        \"std\": 3,\n        \"min\": 1,\n        \"max\": 10,\n        \"num_unique_values\": 8,\n        \"samples\": [\n          2,\n          9,\n          1\n        ],\n        \"semantic_type\": \"\",\n        \"description\": \"\"\n      }\n    },\n    {\n      \"column\": \"Sentiment\",\n      \"properties\": {\n        \"dtype\": \"number\",\n        \"std\": 0,\n        \"min\": 0,\n        \"max\": 1,\n        \"num_unique_values\": 2,\n        \"samples\": [\n          1,\n          0\n        ],\n        \"semantic_type\": \"\",\n        \"description\": \"\"\n      }\n    }\n  ]\n}"
            }
          },
          "metadata": {},
          "execution_count": 5
        }
      ],
      "source": [
        "sadataset.head()"
      ]
    },
    {
      "source": [
        "# @title Rating vs Sentiment\n",
        "\n",
        "from matplotlib import pyplot as plt\n",
        "sadataset.plot(kind='scatter', x='Rating', y='Sentiment', s=32, alpha=.8)\n",
        "plt.gca().spines[['top', 'right',]].set_visible(False)"
      ],
      "cell_type": "code",
      "execution_count": 50,
      "outputs": [
        {
          "output_type": "display_data",
          "data": {
            "text/plain": [
              "<Figure size 640x480 with 1 Axes>"
            ],
            "image/png": "[encoded data removed]"
          },
          "metadata": {}
        }
      ],
      "metadata": {
        "cellView": "form",
        "colab": {
          "base_uri": "https://localhost:8080/",
          "height": 449
        },
        "id": "G28vLR82OebT",
        "outputId": "6c99a0c4-e4e6-4c31-9d3a-47183a23f95b"
      }
    },
    {
      "source": [
        "# @title Sentiment\n",
        "\n",
        "from matplotlib import pyplot as plt\n",
        "sadataset['Sentiment'].plot(kind='hist', bins=20, title='Sentiment')\n",
        "plt.gca().spines[['top', 'right',]].set_visible(False)"
      ],
      "cell_type": "code",
      "execution_count": 49,
      "outputs": [
        {
          "output_type": "display_data",
          "data": {
            "text/plain": [
              "<Figure size 640x480 with 1 Axes>"
            ],
            "image/png": "[encoded data removed]"
          },
          "metadata": {}
        }
      ],
      "metadata": {
        "cellView": "form",
        "colab": {
          "base_uri": "https://localhost:8080/",
          "height": 452
        },
        "id": "bORcO9m2ObxD",
        "outputId": "17848758-e13c-4ca0-8c05-dd0600f24103"
      }
    },
    {
      "source": [
        "# @title Rating\n",
        "\n",
        "from matplotlib import pyplot as plt\n",
        "sadataset['Rating'].plot(kind='hist', bins=20, title='Rating')\n",
        "plt.gca().spines[['top', 'right',]].set_visible(False)"
      ],
      "cell_type": "code",
      "execution_count": 48,
      "outputs": [
        {
          "output_type": "display_data",
          "data": {
            "text/plain": [
              "<Figure size 640x480 with 1 Axes>"
            ],
            "image/png": "[encoded data removed]"
          },
          "metadata": {}
        }
      ],
      "metadata": {
        "cellView": "form",
        "colab": {
          "base_uri": "https://localhost:8080/",
          "height": 452
        },
        "id": "XUNJSCWAOX2m",
        "outputId": "46833315-ef7c-4333-d076-c7f1e01a281b"
      }
    },
    {
      "cell_type": "markdown",
      "metadata": {
        "id": "AYiYZwJ3An21"
      },
      "source": [
        "### 4. Explore the dataset to describe it"
      ]
    },
    {
      "cell_type": "code",
      "execution_count": 6,
      "metadata": {
        "colab": {
          "base_uri": "https://localhost:8080/"
        },
        "id": "xZKzDmx2An23",
        "outputId": "0b2038c1-6254-497e-88d6-2fcad6d7ee65"
      },
      "outputs": [
        {
          "output_type": "stream",
          "name": "stdout",
          "text": [
            "            Rating    Sentiment\n",
            "count  5000.000000  5000.000000\n",
            "mean      5.902200     0.550000\n",
            "std       3.653944     0.497543\n",
            "min       1.000000     0.000000\n",
            "25%       2.000000     0.000000\n",
            "50%       7.000000     1.000000\n",
            "75%      10.000000     1.000000\n",
            "max      10.000000     1.000000\n"
          ]
        }
      ],
      "source": [
        "#Explore the dataset to describe it\n",
        "print(sadataset.describe())\n"
      ]
    },
    {
      "cell_type": "code",
      "execution_count": 7,
      "metadata": {
        "colab": {
          "base_uri": "https://localhost:8080/"
        },
        "id": "ALfrh4D5An24",
        "outputId": "f623b027-7935-4e93-9209-c1825d74ffdf"
      },
      "outputs": [
        {
          "output_type": "stream",
          "name": "stdout",
          "text": [
            "10    1385\n",
            "1     1061\n",
            "8      520\n",
            "9      472\n",
            "3      401\n",
            "4      401\n",
            "2      387\n",
            "7      373\n",
            "Name: Rating, dtype: int64\n",
            "10    0.2770\n",
            "1     0.2122\n",
            "8     0.1040\n",
            "9     0.0944\n",
            "3     0.0802\n",
            "4     0.0802\n",
            "2     0.0774\n",
            "7     0.0746\n",
            "Name: Rating, dtype: float64\n"
          ]
        }
      ],
      "source": [
        "#Get rating distribution\n",
        "rating_distribution = sadataset['Rating'].value_counts()\n",
        "print(rating_distribution)\n",
        "\n",
        "#Now print it in percentages\n",
        "rating_distribution = sadataset['Rating'].value_counts(normalize=True)\n",
        "print(rating_distribution)"
      ]
    },
    {
      "cell_type": "markdown",
      "metadata": {
        "id": "1F6kB0B5An26"
      },
      "source": [
        "### 5. Add the text categorizer component (using a multilabel model) to the pipeline"
      ]
    },
    {
      "cell_type": "code",
      "execution_count": 8,
      "metadata": {
        "colab": {
          "base_uri": "https://localhost:8080/"
        },
        "id": "uBS5JW_-An26",
        "outputId": "81add6ab-8094-4aa1-e68f-c98bc8874a77"
      },
      "outputs": [
        {
          "output_type": "stream",
          "name": "stdout",
          "text": [
            "['tok2vec', 'tagger', 'parser', 'attribute_ruler', 'lemmatizer', 'ner', 'textcat']\n"
          ]
        }
      ],
      "source": [
        "# Add the text categorizer component (using a multilabel model) to the pipeline\n",
        "textcat= nlp.add_pipe(\"textcat\")\n",
        "\n",
        "print(nlp.pipe_names)"
      ]
    },
    {
      "cell_type": "markdown",
      "metadata": {
        "id": "WVcldNZuAn26"
      },
      "source": [
        "### 6. Add two labels: positive and negative sentiments"
      ]
    },
    {
      "cell_type": "code",
      "execution_count": 9,
      "metadata": {
        "colab": {
          "base_uri": "https://localhost:8080/"
        },
        "id": "d71967O3An26",
        "outputId": "a4554c5c-a460-4892-fe56-a53d9391185c"
      },
      "outputs": [
        {
          "output_type": "execute_result",
          "data": {
            "text/plain": [
              "1"
            ]
          },
          "metadata": {},
          "execution_count": 9
        }
      ],
      "source": [
        "#Add two labels: positive and negative sentiments\n",
        "nlp.get_pipe(\"textcat\").add_label(\"positive\")\n",
        "nlp.get_pipe(\"textcat\").add_label(\"negative\")\n"
      ]
    },
    {
      "cell_type": "markdown",
      "metadata": {
        "id": "pFb5EsAMAn28"
      },
      "source": [
        "### 7. Create the comments’ samples"
      ]
    },
    {
      "cell_type": "code",
      "execution_count": 10,
      "metadata": {
        "colab": {
          "base_uri": "https://localhost:8080/",
          "height": 206
        },
        "id": "aoNYL96gAn28",
        "outputId": "688fffa2-de87-4423-a322-4054bd3a87af"
      },
      "outputs": [
        {
          "output_type": "execute_result",
          "data": {
            "text/plain": [
              "                                                 Review  Rating  Sentiment\n",
              "4995  I have only seen this once--in 1986, at an \"ar...      10          1\n",
              "4996  This being my first John Carpenter film, I mus...       9          1\n",
              "4997  This is kind of a weird movie, given that Sant...       1          0\n",
              "4998  Vic (Richard Dreyfuss) is a mob boss, leaving ...       4          0\n",
              "4999  Yup, that's right folks, this is undoubtedly t...       1          0"
            ],
            "text/html": [
              "\n",
              "  <div id=\"df-6db406e4-26f1-47b4-81e2-626e2fc8129c\" class=\"colab-df-container\">\n",
              "    <div>\n",
              "<style scoped>\n",
              "    .dataframe tbody tr th:only-of-type {\n",
              "        vertical-align: middle;\n",
              "    }\n",
              "\n",
              "    .dataframe tbody tr th {\n",
              "        vertical-align: top;\n",
              "    }\n",
              "\n",
              "    .dataframe thead th {\n",
              "        text-align: right;\n",
              "    }\n",
              "</style>\n",
              "<table border=\"1\" class=\"dataframe\">\n",
              "  <thead>\n",
              "    <tr style=\"text-align: right;\">\n",
              "      <th></th>\n",
              "      <th>Review</th>\n",
              "      <th>Rating</th>\n",
              "      <th>Sentiment</th>\n",
              "    </tr>\n",
              "  </thead>\n",
              "  <tbody>\n",
              "    <tr>\n",
              "      <th>4995</th>\n",
              "      <td>I have only seen this once--in 1986, at an \"ar...</td>\n",
              "      <td>10</td>\n",
              "      <td>1</td>\n",
              "    </tr>\n",
              "    <tr>\n",
              "      <th>4996</th>\n",
              "      <td>This being my first John Carpenter film, I mus...</td>\n",
              "      <td>9</td>\n",
              "      <td>1</td>\n",
              "    </tr>\n",
              "    <tr>\n",
              "      <th>4997</th>\n",
              "      <td>This is kind of a weird movie, given that Sant...</td>\n",
              "      <td>1</td>\n",
              "      <td>0</td>\n",
              "    </tr>\n",
              "    <tr>\n",
              "      <th>4998</th>\n",
              "      <td>Vic (Richard Dreyfuss) is a mob boss, leaving ...</td>\n",
              "      <td>4</td>\n",
              "      <td>0</td>\n",
              "    </tr>\n",
              "    <tr>\n",
              "      <th>4999</th>\n",
              "      <td>Yup, that's right folks, this is undoubtedly t...</td>\n",
              "      <td>1</td>\n",
              "      <td>0</td>\n",
              "    </tr>\n",
              "  </tbody>\n",
              "</table>\n",
              "</div>\n",
              "    <div class=\"colab-df-buttons\">\n",
              "\n",
              "  <div class=\"colab-df-container\">\n",
              "    <button class=\"colab-df-convert\" onclick=\"convertToInteractive('df-6db406e4-26f1-47b4-81e2-626e2fc8129c')\"\n",
              "            title=\"Convert this dataframe to an interactive table.\"\n",
              "            style=\"display:none;\">\n",
              "\n",
              "  <svg xmlns=\"http://www.w3.org/2000/svg\" height=\"24px\" viewBox=\"0 -960 960 960\">\n",
              "    <path d=\"M120-120v-720h720v720H120Zm60-500h600v-160H180v160Zm220 220h160v-160H400v160Zm0 220h160v-160H400v160ZM180-400h160v-160H180v160Zm440 0h160v-160H620v160ZM180-180h160v-160H180v160Zm440 0h160v-160H620v160Z\"/>\n",
              "  </svg>\n",
              "    </button>\n",
              "\n",
              "  <style>\n",
              "    .colab-df-container {\n",
              "      display:flex;\n",
              "      gap: 12px;\n",
              "    }\n",
              "\n",
              "    .colab-df-convert {\n",
              "      background-color: #E8F0FE;\n",
              "      border: none;\n",
              "      border-radius: 50%;\n",
              "      cursor: pointer;\n",
              "      display: none;\n",
              "      fill: #1967D2;\n",
              "      height: 32px;\n",
              "      padding: 0 0 0 0;\n",
              "      width: 32px;\n",
              "    }\n",
              "\n",
              "    .colab-df-convert:hover {\n",
              "      background-color: #E2EBFA;\n",
              "      box-shadow: 0px 1px 2px rgba(60, 64, 67, 0.3), 0px 1px 3px 1px rgba(60, 64, 67, 0.15);\n",
              "      fill: #174EA6;\n",
              "    }\n",
              "\n",
              "    .colab-df-buttons div {\n",
              "      margin-bottom: 4px;\n",
              "    }\n",
              "\n",
              "    [theme=dark] .colab-df-convert {\n",
              "      background-color: #3B4455;\n",
              "      fill: #D2E3FC;\n",
              "    }\n",
              "\n",
              "    [theme=dark] .colab-df-convert:hover {\n",
              "      background-color: #434B5C;\n",
              "      box-shadow: 0px 1px 3px 1px rgba(0, 0, 0, 0.15);\n",
              "      filter: drop-shadow(0px 1px 2px rgba(0, 0, 0, 0.3));\n",
              "      fill: #FFFFFF;\n",
              "    }\n",
              "  </style>\n",
              "\n",
              "    <script>\n",
              "      const buttonEl =\n",
              "        document.querySelector('#df-6db406e4-26f1-47b4-81e2-626e2fc8129c button.colab-df-convert');\n",
              "      buttonEl.style.display =\n",
              "        google.colab.kernel.accessAllowed ? 'block' : 'none';\n",
              "\n",
              "      async function convertToInteractive(key) {\n",
              "        const element = document.querySelector('#df-6db406e4-26f1-47b4-81e2-626e2fc8129c');\n",
              "        const dataTable =\n",
              "          await google.colab.kernel.invokeFunction('convertToInteractive',\n",
              "                                                    [key], {});\n",
              "        if (!dataTable) return;\n",
              "\n",
              "        const docLinkHtml = 'Like what you see? Visit the ' +\n",
              "          '<a target=\"_blank\" href=https://colab.research.google.com/notebooks/data_table.ipynb>data table notebook</a>'\n",
              "          + ' to learn more about interactive tables.';\n",
              "        element.innerHTML = '';\n",
              "        dataTable['output_type'] = 'display_data';\n",
              "        await google.colab.output.renderOutput(dataTable, element);\n",
              "        const docLink = document.createElement('div');\n",
              "        docLink.innerHTML = docLinkHtml;\n",
              "        element.appendChild(docLink);\n",
              "      }\n",
              "    </script>\n",
              "  </div>\n",
              "\n",
              "\n",
              "<div id=\"df-e5a2f6f2-6340-4fef-8d4e-ddcdfd2c11ed\">\n",
              "  <button class=\"colab-df-quickchart\" onclick=\"quickchart('df-e5a2f6f2-6340-4fef-8d4e-ddcdfd2c11ed')\"\n",
              "            title=\"Suggest charts\"\n",
              "            style=\"display:none;\">\n",
              "\n",
              "<svg xmlns=\"http://www.w3.org/2000/svg\" height=\"24px\"viewBox=\"0 0 24 24\"\n",
              "     width=\"24px\">\n",
              "    <g>\n",
              "        <path d=\"M19 3H5c-1.1 0-2 .9-2 2v14c0 1.1.9 2 2 2h14c1.1 0 2-.9 2-2V5c0-1.1-.9-2-2-2zM9 17H7v-7h2v7zm4 0h-2V7h2v10zm4 0h-2v-4h2v4z\"/>\n",
              "    </g>\n",
              "</svg>\n",
              "  </button>\n",
              "\n",
              "<style>\n",
              "  .colab-df-quickchart {\n",
              "      --bg-color: #E8F0FE;\n",
              "      --fill-color: #1967D2;\n",
              "      --hover-bg-color: #E2EBFA;\n",
              "      --hover-fill-color: #174EA6;\n",
              "      --disabled-fill-color: #AAA;\n",
              "      --disabled-bg-color: #DDD;\n",
              "  }\n",
              "\n",
              "  [theme=dark] .colab-df-quickchart {\n",
              "      --bg-color: #3B4455;\n",
              "      --fill-color: #D2E3FC;\n",
              "      --hover-bg-color: #434B5C;\n",
              "      --hover-fill-color: #FFFFFF;\n",
              "      --disabled-bg-color: #3B4455;\n",
              "      --disabled-fill-color: #666;\n",
              "  }\n",
              "\n",
              "  .colab-df-quickchart {\n",
              "    background-color: var(--bg-color);\n",
              "    border: none;\n",
              "    border-radius: 50%;\n",
              "    cursor: pointer;\n",
              "    display: none;\n",
              "    fill: var(--fill-color);\n",
              "    height: 32px;\n",
              "    padding: 0;\n",
              "    width: 32px;\n",
              "  }\n",
              "\n",
              "  .colab-df-quickchart:hover {\n",
              "    background-color: var(--hover-bg-color);\n",
              "    box-shadow: 0 1px 2px rgba(60, 64, 67, 0.3), 0 1px 3px 1px rgba(60, 64, 67, 0.15);\n",
              "    fill: var(--button-hover-fill-color);\n",
              "  }\n",
              "\n",
              "  .colab-df-quickchart-complete:disabled,\n",
              "  .colab-df-quickchart-complete:disabled:hover {\n",
              "    background-color: var(--disabled-bg-color);\n",
              "    fill: var(--disabled-fill-color);\n",
              "    box-shadow: none;\n",
              "  }\n",
              "\n",
              "  .colab-df-spinner {\n",
              "    border: 2px solid var(--fill-color);\n",
              "    border-color: transparent;\n",
              "    border-bottom-color: var(--fill-color);\n",
              "    animation:\n",
              "      spin 1s steps(1) infinite;\n",
              "  }\n",
              "\n",
              "  @keyframes spin {\n",
              "    0% {\n",
              "      border-color: transparent;\n",
              "      border-bottom-color: var(--fill-color);\n",
              "      border-left-color: var(--fill-color);\n",
              "    }\n",
              "    20% {\n",
              "      border-color: transparent;\n",
              "      border-left-color: var(--fill-color);\n",
              "      border-top-color: var(--fill-color);\n",
              "    }\n",
              "    30% {\n",
              "      border-color: transparent;\n",
              "      border-left-color: var(--fill-color);\n",
              "      border-top-color: var(--fill-color);\n",
              "      border-right-color: var(--fill-color);\n",
              "    }\n",
              "    40% {\n",
              "      border-color: transparent;\n",
              "      border-right-color: var(--fill-color);\n",
              "      border-top-color: var(--fill-color);\n",
              "    }\n",
              "    60% {\n",
              "      border-color: transparent;\n",
              "      border-right-color: var(--fill-color);\n",
              "    }\n",
              "    80% {\n",
              "      border-color: transparent;\n",
              "      border-right-color: var(--fill-color);\n",
              "      border-bottom-color: var(--fill-color);\n",
              "    }\n",
              "    90% {\n",
              "      border-color: transparent;\n",
              "      border-bottom-color: var(--fill-color);\n",
              "    }\n",
              "  }\n",
              "</style>\n",
              "\n",
              "  <script>\n",
              "    async function quickchart(key) {\n",
              "      const quickchartButtonEl =\n",
              "        document.querySelector('#' + key + ' button');\n",
              "      quickchartButtonEl.disabled = true;  // To prevent multiple clicks.\n",
              "      quickchartButtonEl.classList.add('colab-df-spinner');\n",
              "      try {\n",
              "        const charts = await google.colab.kernel.invokeFunction(\n",
              "            'suggestCharts', [key], {});\n",
              "      } catch (error) {\n",
              "        console.error('Error during call to suggestCharts:', error);\n",
              "      }\n",
              "      quickchartButtonEl.classList.remove('colab-df-spinner');\n",
              "      quickchartButtonEl.classList.add('colab-df-quickchart-complete');\n",
              "    }\n",
              "    (() => {\n",
              "      let quickchartButtonEl =\n",
              "        document.querySelector('#df-e5a2f6f2-6340-4fef-8d4e-ddcdfd2c11ed button');\n",
              "      quickchartButtonEl.style.display =\n",
              "        google.colab.kernel.accessAllowed ? 'block' : 'none';\n",
              "    })();\n",
              "  </script>\n",
              "</div>\n",
              "    </div>\n",
              "  </div>\n"
            ],
            "application/vnd.google.colaboratory.intrinsic+json": {
              "type": "dataframe",
              "summary": "{\n  \"name\": \"sadataset\",\n  \"rows\": 5,\n  \"fields\": [\n    {\n      \"column\": \"Review\",\n      \"properties\": {\n        \"dtype\": \"string\",\n        \"num_unique_values\": 5,\n        \"samples\": [\n          \"This being my first John Carpenter film, I must say I was very impressed by The Thing. Right from the beginning, the film draws you in, and never lets up on the tension. The film's special effects and models hold up well even today. Other than Kurt Russell, I wasn't familiar with any of the cast members but they were all exceptional in imparting fear, paranoia, and the desperation to survive. The Universal DVD has a wealth of very interesting behind the scenes extras. Strongly recommended, 9/10.\",\n          \"Yup, that's right folks, this is undoubtedly the worst show in the history of television. If you want to watch a sad, lonely and unfunny hack comedian attempt to entertain the masses with a half hour of pale and tired social ramblings that your mildly retarded cousin commented on at the Thanksgiving dinner table then this might be the show for you. This is billed as edgy comedy my friends but to be honest this makes Tim Allen look like Richard Pryor. Avoid at all costs. Unless you're a masochist.\",\n          \"This is kind of a weird movie, given that Santa Claus lives on a cloud in outer space and fights against Satan and his minions...but it's still kinda fun.It has some genuine laughs...whether all of them were intentional is certainly debatable, though. This movie is not good, but I can say I really enjoyed watching it.I would recommend this movie over \\\"Santa Claus Conquers the Martians\\\", \\\"Santa Claus\\\" with Dudley Moore and John Lithgow, or \\\"The Santa Clause\\\" with Tim Allen.\"\n        ],\n        \"semantic_type\": \"\",\n        \"description\": \"\"\n      }\n    },\n    {\n      \"column\": \"Rating\",\n      \"properties\": {\n        \"dtype\": \"number\",\n        \"std\": 4,\n        \"min\": 1,\n        \"max\": 10,\n        \"num_unique_values\": 4,\n        \"samples\": [\n          9,\n          4,\n          10\n        ],\n        \"semantic_type\": \"\",\n        \"description\": \"\"\n      }\n    },\n    {\n      \"column\": \"Sentiment\",\n      \"properties\": {\n        \"dtype\": \"number\",\n        \"std\": 0,\n        \"min\": 0,\n        \"max\": 1,\n        \"num_unique_values\": 2,\n        \"samples\": [\n          0,\n          1\n        ],\n        \"semantic_type\": \"\",\n        \"description\": \"\"\n      }\n    }\n  ]\n}"
            }
          },
          "metadata": {},
          "execution_count": 10
        }
      ],
      "source": [
        "sadataset.tail()"
      ]
    },
    {
      "cell_type": "code",
      "execution_count": 11,
      "metadata": {
        "id": "-gRFy0HkAn29"
      },
      "outputs": [],
      "source": [
        "# Training the model\n",
        "from sklearn.model_selection import train_test_split\n",
        "\n",
        "X = sadataset['Review'].values\n",
        "y = sadataset['Sentiment'].values\n",
        "\n",
        "X_train, X_test, y_train, y_test = train_test_split(X, y, test_size=0.2, random_state=42)"
      ]
    },
    {
      "cell_type": "code",
      "execution_count": 12,
      "metadata": {
        "id": "hh3jvKA3An29"
      },
      "outputs": [],
      "source": [
        "# Training the model\n",
        "from spacy.training import Example\n",
        "\n",
        "def create_examples(X, y):\n",
        "    examples = []\n",
        "    for text, label in zip(X, y):\n",
        "        examples.append(Example.from_dict(nlp.make_doc(text), {'cats': {'positive': int(label), 'negative': int(not label)}}))\n",
        "    return examples\n",
        "\n",
        "train_examples = create_examples(X_train, y_train)\n",
        "test_examples = create_examples(X_test, y_test)"
      ]
    },
    {
      "cell_type": "markdown",
      "metadata": {
        "id": "wAvTWkyqAn2-"
      },
      "source": [
        "### 8. Initialize the pipeline"
      ]
    },
    {
      "cell_type": "code",
      "execution_count": 13,
      "metadata": {
        "id": "dARm7EsGAn2-"
      },
      "outputs": [],
      "source": [
        "#Spacy's Example class is used to create the training data\n",
        "from spacy.training.example import Example\n",
        "inp = Example.from_dict(nlp.make_doc(\"This is a good product\"), {\"cats\": {\"positive\": 1, \"negative\": 0}})\n",
        "textcat.initialize(lambda: [inp], nlp = nlp)"
      ]
    },
    {
      "cell_type": "markdown",
      "metadata": {
        "id": "nog0MQ_MAn2_"
      },
      "source": [
        "### 9. Enable the text categorizer component to be trained"
      ]
    },
    {
      "cell_type": "markdown",
      "metadata": {
        "id": "rc3DFDgfAn2_"
      },
      "source": [
        "### 10. Create an optimizer object (resume_training) to keep weights of existing statistical models"
      ]
    },
    {
      "cell_type": "code",
      "execution_count": 14,
      "metadata": {
        "id": "LF8YmN1DAn3A"
      },
      "outputs": [],
      "source": [
        "optimizer = nlp.resume_training()\n",
        "losses = []"
      ]
    },
    {
      "cell_type": "markdown",
      "metadata": {
        "id": "CKp4dCaqAn3A"
      },
      "source": [
        "### 11. Set 5 training epochs, and loss values"
      ]
    },
    {
      "cell_type": "code",
      "execution_count": 15,
      "metadata": {
        "id": "yjsDx3qWAn3B"
      },
      "outputs": [],
      "source": [
        "\n",
        "optimizer = nlp.resume_training()\n",
        "losses = []"
      ]
    },
    {
      "cell_type": "code",
      "execution_count": 16,
      "metadata": {
        "colab": {
          "base_uri": "https://localhost:8080/",
          "height": 733
        },
        "id": "UmsSitT0An3B",
        "outputId": "7e1d74e4-3232-4cb9-9cec-9c70828b07c5"
      },
      "outputs": [
        {
          "output_type": "stream",
          "name": "stdout",
          "text": [
            "dict_values([0.0, 0.0, 0.0, 0.0, 486.10923656552586])\n",
            "Epoch 1/5: Loss 0.1215\n",
            "[0.12152730914138146]\n",
            "dict_values([0.0, 0.0, 0.0, 0.0, 366.3886256609319])\n",
            "Epoch 2/5: Loss 0.0916\n",
            "[0.12152730914138146, 0.09159715641523297]\n",
            "dict_values([0.0, 0.0, 0.0, 0.0, 298.45891806007836])\n",
            "Epoch 3/5: Loss 0.0746\n",
            "[0.12152730914138146, 0.09159715641523297, 0.07461472951501959]\n",
            "dict_values([0.0, 0.0, 0.0, 0.0, 266.9642101036461])\n",
            "Epoch 4/5: Loss 0.0667\n",
            "[0.12152730914138146, 0.09159715641523297, 0.07461472951501959, 0.06674105252591153]\n",
            "dict_values([0.0, 0.0, 0.0, 0.0, 241.90928373474375])\n",
            "Epoch 5/5: Loss 0.0605\n",
            "[0.12152730914138146, 0.09159715641523297, 0.07461472951501959, 0.06674105252591153, 0.060477320933685935]\n"
          ]
        },
        {
          "output_type": "display_data",
          "data": {
            "text/plain": [
              "<Figure size 640x480 with 1 Axes>"
            ],
            "image/png": "[encoded data removed]"
          },
          "metadata": {}
        }
      ],
      "source": [
        "import matplotlib.pyplot as plt\n",
        "import random\n",
        "epochs = 5\n",
        "losses = []\n",
        "for epoch in range(epochs):\n",
        "    # Shuffle the training data\n",
        "    random.shuffle(train_examples)\n",
        "    # Iterate over batches\n",
        "    batch_losses = {}\n",
        "    for batch in spacy.util.minibatch(train_examples, size=2):\n",
        "        # Update the model with examples\n",
        "        nlp.update(batch, drop=0.5, losses=batch_losses, sgd=optimizer)\n",
        "\n",
        "    print(batch_losses.values())\n",
        "    epoch_loss = sum(batch_losses.values()) / len(train_examples)\n",
        "\n",
        "    losses.append(epoch_loss)\n",
        "    print(f\"Epoch {epoch + 1}/{epochs}: Loss {epoch_loss:.4f}\")\n",
        "    print(losses)\n",
        "\n",
        "plt.plot(range(1, epochs + 1), losses, marker='o')\n",
        "plt.xlabel('Epoch')\n",
        "plt.ylabel('Loss')\n",
        "plt.title('Evolution of Loss during Training')\n",
        "plt.grid(True)\n",
        "plt.show()"
      ]
    },
    {
      "cell_type": "markdown",
      "metadata": {
        "id": "TLYbX0kBAn3D"
      },
      "source": [
        "### 12. Test new data"
      ]
    },
    {
      "cell_type": "code",
      "execution_count": 17,
      "metadata": {
        "colab": {
          "base_uri": "https://localhost:8080/"
        },
        "id": "Trw51XUmAn3D",
        "outputId": "48a3f115-4e60-4f17-e4f2-9673d790f092"
      },
      "outputs": [
        {
          "output_type": "execute_result",
          "data": {
            "text/plain": [
              "{'positive': 5.951491402811371e-05, 'negative': 0.9999405145645142}"
            ]
          },
          "metadata": {},
          "execution_count": 17
        }
      ],
      "source": [
        "#Test new data\n",
        "test_text = \"This movie sucked, you should not see it\"\n",
        "\n",
        "doc = nlp(test_text)\n",
        "doc.cats"
      ]
    },
    {
      "cell_type": "code",
      "execution_count": 18,
      "metadata": {
        "colab": {
          "base_uri": "https://localhost:8080/"
        },
        "id": "lALaaplPAn3E",
        "outputId": "8d37bc09-c417-457b-80b3-cf50173bd063"
      },
      "outputs": [
        {
          "output_type": "execute_result",
          "data": {
            "text/plain": [
              "{'positive': 0.9998390674591064, 'negative': 0.00016089246491901577}"
            ]
          },
          "metadata": {},
          "execution_count": 18
        }
      ],
      "source": [
        "import numpy as np\n",
        "test_text = \"This movie was the best one I have ever seen, i loved it\"\n",
        "\n",
        "doc = nlp(test_text)\n",
        "doc.cats"
      ]
    },
    {
      "cell_type": "code",
      "execution_count": 19,
      "metadata": {
        "colab": {
          "base_uri": "https://localhost:8080/"
        },
        "id": "pw6_tYZYAn3F",
        "outputId": "f32645af-41b7-47cc-c9a6-4c0f8f411aba"
      },
      "outputs": [
        {
          "output_type": "execute_result",
          "data": {
            "text/plain": [
              "{'positive': 0.13876177370548248, 'negative': 0.8612381815910339}"
            ]
          },
          "metadata": {},
          "execution_count": 19
        }
      ],
      "source": [
        "#Test with misleading data\n",
        "test_text = \"Even this movie won the oscars, you should NOT see it, it is horrendous\"\n",
        "\n",
        "doc = nlp(test_text)\n",
        "doc.cats"
      ]
    },
    {
      "cell_type": "code",
      "execution_count": 20,
      "metadata": {
        "colab": {
          "base_uri": "https://localhost:8080/"
        },
        "id": "YTjyn2mWAn3G",
        "outputId": "fdfad4e6-b871-4088-bf7f-e78f250c5bad"
      },
      "outputs": [
        {
          "output_type": "execute_result",
          "data": {
            "text/plain": [
              "{'positive': 0.00041010387940332294, 'negative': 0.9995898604393005}"
            ]
          },
          "metadata": {},
          "execution_count": 20
        }
      ],
      "source": [
        "#Test with misleading data\n",
        "test_text = \"Even this movie won the oscars, you should NOT see it, it is very bad\"\n",
        "\n",
        "doc = nlp(test_text)\n",
        "doc.cats"
      ]
    },
    {
      "cell_type": "code",
      "source": [
        "# Test the model on the test set\n",
        "y_pred = []\n",
        "\n",
        "# Number of correct predictions\n",
        "correct_predictions = 0\n",
        "\n",
        "for example in test_examples:\n",
        "    doc = nlp(example.reference.text)\n",
        "\n",
        "    y_pred = [label for label, score in doc.cats.items() if score > 0.5][0]\n",
        "    y_true = \"positive\" if example.reference.cats[\"positive\"] == 1 else \"negative\"\n",
        "\n",
        "    correct_predictions += 1 if y_true == y_pred else 0"
      ],
      "metadata": {
        "id": "Lzt29VJwCtxM"
      },
      "execution_count": 21,
      "outputs": []
    },
    {
      "cell_type": "code",
      "source": [
        "# Accuracy of the nlp model\n",
        "print(\"Accuracy:\", correct_predictions / len(test_examples))"
      ],
      "metadata": {
        "colab": {
          "base_uri": "https://localhost:8080/"
        },
        "id": "2qXr3071EKQu",
        "outputId": "298c66fc-ca6e-4c54-f1bf-9042f80bcf64"
      },
      "execution_count": 22,
      "outputs": [
        {
          "output_type": "stream",
          "name": "stdout",
          "text": [
            "Accuracy: 0.846\n"
          ]
        }
      ]
    },
    {
      "cell_type": "markdown",
      "metadata": {
        "id": "gsYGmYviAn3G"
      },
      "source": [
        "## Training an LSTM model from PyTorch"
      ]
    },
    {
      "cell_type": "markdown",
      "metadata": {
        "id": "czgi1U3oAn3G"
      },
      "source": [
        "### 1- Use same dataset as previous analysis"
      ]
    },
    {
      "cell_type": "code",
      "execution_count": 23,
      "metadata": {
        "id": "O-MTJnBmAn3H"
      },
      "outputs": [],
      "source": [
        "import pandas as pd\n",
        "\n",
        "Pytorch_dataset = pd.read_csv(\"./SA_dataset.csv\")"
      ]
    },
    {
      "cell_type": "code",
      "execution_count": 24,
      "metadata": {
        "id": "UDJFJvceAn3H"
      },
      "outputs": [],
      "source": [
        "# Training the model\n",
        "from sklearn.model_selection import train_test_split\n",
        "\n",
        "X = Pytorch_dataset['Review'].values\n",
        "y = Pytorch_dataset['Sentiment'].values\n",
        "\n",
        "X_train, X_test, y_train, y_test = train_test_split(X, y, test_size=0.2, random_state=42)"
      ]
    },
    {
      "cell_type": "markdown",
      "source": [
        "### 2. Use a tokenizer and pad sequences with a maximum of 50 words per utterance"
      ],
      "metadata": {
        "id": "7EpOSfkYCXtV"
      }
    },
    {
      "cell_type": "code",
      "execution_count": 25,
      "metadata": {
        "colab": {
          "base_uri": "https://localhost:8080/"
        },
        "id": "PSD0nWluAn3I",
        "outputId": "be924965-e059-4966-a81b-14f76c084bcc"
      },
      "outputs": [
        {
          "output_type": "stream",
          "name": "stderr",
          "text": [
            "[nltk_data] Downloading package punkt to /root/nltk_data...\n",
            "[nltk_data]   Unzipping tokenizers/punkt.zip.\n"
          ]
        },
        {
          "output_type": "stream",
          "name": "stdout",
          "text": [
            "check that both labels and samples have the same length: 17530 17530\n",
            "check that both labels and samples have the same length: 4447 4447\n"
          ]
        }
      ],
      "source": [
        "import nltk\n",
        "\n",
        "nltk.download('punkt')\n",
        "\n",
        "# Initialize NLTK sentence tokenizer\n",
        "sentence_tokenizer = nltk.data.load('tokenizers/punkt/english.pickle')\n",
        "\n",
        "# Tokenize the large text into sentences\n",
        "train_sentences = []\n",
        "train_labels = []\n",
        "\n",
        "for samp, label in zip(X_train, y_train):\n",
        "    train_samp = sentence_tokenizer.tokenize(samp)\n",
        "    train_sentences = train_sentences + train_samp\n",
        "    new_lab = [label] * len(train_samp)\n",
        "    train_labels = train_labels + new_lab\n",
        "\n",
        "print(\"check that both labels and samples have the same length:\",len(train_sentences), len(train_labels))\n",
        "test_sentences = []\n",
        "test_labels = []\n",
        "\n",
        "for samp, label in zip(X_test, y_test):\n",
        "    test_samp = sentence_tokenizer.tokenize(samp)\n",
        "    test_sentences = test_sentences + sentence_tokenizer.tokenize(samp)\n",
        "    new_lab = [label] * len(test_samp)\n",
        "    test_labels = test_labels + new_lab\n",
        "\n",
        "print(\"check that both labels and samples have the same length:\",len(test_sentences), len(test_labels))"
      ]
    },
    {
      "cell_type": "code",
      "execution_count": 26,
      "metadata": {
        "id": "Hw5HY50gAn3J"
      },
      "outputs": [],
      "source": [
        "import torchtext\n",
        "import torch\n",
        "from torchtext.data import get_tokenizer\n",
        "\n",
        "tokenizer = get_tokenizer(\"basic_english\")\n",
        "X_train_tokenized = [tokenizer(sentence) for sentence in train_sentences]\n",
        "\n",
        "tokenizer = get_tokenizer(\"basic_english\")\n",
        "X_test_tokenized = [tokenizer(sentence) for sentence in test_sentences]\n"
      ]
    },
    {
      "cell_type": "code",
      "execution_count": 27,
      "metadata": {
        "id": "noe8KkjTAn3J"
      },
      "outputs": [],
      "source": [
        "sentence_set = set()\n",
        "\n",
        "for sent in X_train_tokenized:\n",
        "    for word in sent:\n",
        "        sentence_set.add(word)\n"
      ]
    },
    {
      "cell_type": "code",
      "execution_count": 28,
      "metadata": {
        "id": "2a_GlY2QAn3K"
      },
      "outputs": [],
      "source": [
        "word_dict = {'<pad>':0,\n",
        "        '<eos>':1,\n",
        "        '<unk>':2}\n",
        "\n",
        "#Create a dictionary with all the words in the vocabulary associated with a value\n",
        "for i,word in enumerate(sentence_set):\n",
        "    word_dict[word] = i+3\n",
        "\n",
        "\n",
        "sentence_set.add('<eos>')\n",
        "sentence_set.add('<unk>')\n",
        "sentence_set.add('<pad>')"
      ]
    },
    {
      "cell_type": "code",
      "execution_count": 29,
      "metadata": {
        "colab": {
          "base_uri": "https://localhost:8080/"
        },
        "id": "bVNcE7R8An3M",
        "outputId": "cb4ff2ea-a914-40ba-de0f-c7eb95d87a8b"
      },
      "outputs": [
        {
          "output_type": "execute_result",
          "data": {
            "text/plain": [
              "17268"
            ]
          },
          "metadata": {},
          "execution_count": 29
        }
      ],
      "source": [
        "vocabulary_size = len(sentence_set)\n",
        "vocabulary_size"
      ]
    },
    {
      "cell_type": "code",
      "execution_count": 30,
      "metadata": {
        "id": "LNXc8nbSAn3N"
      },
      "outputs": [],
      "source": [
        "from torch.utils.data import Dataset, DataLoader\n",
        "from torch.nn.utils.rnn import pad_sequence\n",
        "\n",
        "class LSTM_data(Dataset):\n",
        "    def __init__(self, X, y,word_dict,transform=None):\n",
        "        self.X = X\n",
        "        self.y = y\n",
        "        self.word_dict = word_dict\n",
        "\n",
        "    def __len__(self):\n",
        "        return len(self.X)\n",
        "\n",
        "    def __getitem__(self, idx):\n",
        "        idx_seq = []\n",
        "        padding = torch.zeros(50)\n",
        "        if len(self.X[idx]) > 50:\n",
        "            X_ret = self.X[idx][:50]\n",
        "        else:\n",
        "            X_ret = self.X[idx]\n",
        "        #print(X_ret)\n",
        "        #print(self.X)\n",
        "        for word in X_ret:\n",
        "            if word in self.word_dict.keys():\n",
        "                idx_seq.append(self.word_dict[word])\n",
        "            else:\n",
        "                idx_seq.append(self.word_dict['<unk>'])\n",
        "\n",
        "        idx_seq = torch.tensor(idx_seq)\n",
        "\n",
        "        length = 50 - len(idx_seq)\n",
        "        if length != 0:\n",
        "            padding = torch.zeros(length)\n",
        "            padded_sequences = torch.cat((idx_seq, padding), dim = 0)\n",
        "        #padded_sequences = pad_sequence((padding, idx_seq), batch_first=True, padding_value=0)\n",
        "       # padded_sequences\n",
        "        else:\n",
        "            padded_sequences = idx_seq\n",
        "\n",
        "\n",
        "        y_ret = torch.tensor([self.y[idx]])\n",
        "\n",
        "        return padded_sequences, y_ret"
      ]
    },
    {
      "cell_type": "code",
      "execution_count": 31,
      "metadata": {
        "id": "NLTfvsidAn3N"
      },
      "outputs": [],
      "source": [
        "train_data = LSTM_data(X_train_tokenized, train_labels, word_dict)\n",
        "test_data = LSTM_data(X_test_tokenized, test_labels, word_dict)\n",
        "\n",
        "train_loader = DataLoader(train_data, batch_size=64,shuffle=True)\n",
        "test_loader = DataLoader(test_data, batch_size=64,shuffle=True)"
      ]
    },
    {
      "cell_type": "code",
      "execution_count": 32,
      "metadata": {
        "id": "BdJiYccSAn3O"
      },
      "outputs": [],
      "source": [
        "import torch\n",
        "import torch.nn as nn"
      ]
    },
    {
      "cell_type": "code",
      "execution_count": 33,
      "metadata": {
        "id": "0grfhWjWAn3O"
      },
      "outputs": [],
      "source": [
        "# If this cell fails you need to change the runtime of your colab notebook to GPU\n",
        "# Go to Runtime -> Change Runtime Type and select GPU\n",
        "assert torch.cuda.is_available(), \"GPU is not enabled\"\n",
        "\n",
        "# use gpu if available\n",
        "device = torch.device(\"cuda\" if torch.cuda.is_available() else \"cpu\")"
      ]
    },
    {
      "cell_type": "markdown",
      "source": [
        "### Specify a many-to one LSTM architecture"
      ],
      "metadata": {
        "id": "LKVubYgIIw0j"
      }
    },
    {
      "cell_type": "code",
      "execution_count": 34,
      "metadata": {
        "id": "C5OyF_HOAn3O"
      },
      "outputs": [],
      "source": [
        "class simple_LSTM(nn.Module):\n",
        "    def __init__(self, embedding_dim, hidden_dim, vocab_size, tagset_size):\n",
        "        super(simple_LSTM, self).__init__()\n",
        "        self.hidden_dim = hidden_dim\n",
        "        self.word_embeddings = nn.Embedding(vocab_size, embedding_dim)\n",
        "        self.lstm = nn.LSTM(embedding_dim, hidden_dim, batch_first = True, bidirectional = True)\n",
        "        self.hidden2label = nn.Linear(hidden_dim*50*2, 1)\n",
        "        self.dropout = nn.Dropout(0.4)\n",
        "        self.sigmoid = nn.Sigmoid()\n",
        "        self.relu = nn.ReLU()\n",
        "\n",
        "    def forward(self, sentence):\n",
        "        bs,_ = sentence.shape\n",
        "        sentence = sentence.long()\n",
        "        embeds = self.word_embeddings(sentence)\n",
        "        embeds = self.relu(embeds)\n",
        "\n",
        "        lstm_out, _ = self.lstm(embeds)\n",
        "        lstm_out = self.relu(lstm_out)\n",
        "        lstm_out = self.dropout(lstm_out)\n",
        "        #print(\"out\", lstm_out.shape)\n",
        "        lstm_out = lstm_out.reshape(bs, -1)\n",
        "        label_space = self.hidden2label(lstm_out)\n",
        "        label_space = self.sigmoid(label_space)\n",
        "        lstm_out = self.dropout(lstm_out)\n",
        "        return label_space"
      ]
    },
    {
      "cell_type": "markdown",
      "source": [
        "### Specify a size of 256 in the LSTM’s hidden layer, Define the model, and compile it using ADAM (adaptive moment estimation) as optimizer, binary cross entropy as loss function, and accuracy as metric"
      ],
      "metadata": {
        "id": "7nh3OeDGF6z3"
      }
    },
    {
      "cell_type": "code",
      "execution_count": 35,
      "metadata": {
        "id": "RrmVS3fFAn3P"
      },
      "outputs": [],
      "source": [
        "from torch.nn import BCEWithLogitsLoss\n",
        "\n",
        "embedding_dim = 100\n",
        "hidden_dim = 256\n",
        "vocab_size = vocabulary_size\n",
        "target_size = 1\n",
        "model = simple_LSTM(embedding_dim, hidden_dim, vocab_size, target_size).to(device)\n",
        "\n",
        "learning_rate = 0.005  # Set the learning rate for the optimizer\n",
        "\n",
        "optimizer = torch.optim.Adam(model.parameters(), lr=learning_rate)  # Create an Adam optimizer and pass the model parameters to optimize\n",
        "\n",
        "criterion = torch.nn.BCELoss()"
      ]
    },
    {
      "cell_type": "code",
      "execution_count": 36,
      "metadata": {
        "id": "kEnIHIH0An3P"
      },
      "outputs": [],
      "source": [
        "import numpy as np\n",
        "def compute_accuracy(tensor1, tensor2):\n",
        "    \"\"\"\n",
        "    Compute accuracy between two tensors.\n",
        "\n",
        "    Args:\n",
        "    - tensor1: First tensor\n",
        "    - tensor2: Second tensor\n",
        "\n",
        "    Returns:\n",
        "    - Accuracy: Percentage of matching elements between the two tensors\n",
        "    \"\"\"\n",
        "    # Ensure tensors are of the same shape\n",
        "    if tensor1.shape != tensor2.shape:\n",
        "        raise ValueError(\"Tensors must have the same shape for comparison.\")\n",
        "\n",
        "    # Convert tensors to numpy arrays for comparison\n",
        "\n",
        "    array1 = np.array([round(num) for num in tensor1.cpu().detach().numpy()])\n",
        "    array2 = tensor2.cpu().detach().numpy()\n",
        "\n",
        "    # Count the number of matching elements\n",
        "    num_matching = (array1 == array2).sum()\n",
        "\n",
        "    # Compute accuracy\n",
        "\n",
        "    accuracy = num_matching / tensor1.numel()\n",
        "    #accuracies.append(accuracy)\n",
        "    return accuracy\n",
        "\n",
        "def validation(model, test_loader, epoch):\n",
        "    for sent1, label1 in test_loader:\n",
        "        sent1 = sent1.to(device)\n",
        "        label1 = label1.to(device)\n",
        "        label1 = label1.float()\n",
        "        with torch.no_grad():\n",
        "\n",
        "            preds = model(sent1)\n",
        "            loss = criterion(preds,label1)\n",
        "    preds = preds.squeeze()\n",
        "    label1 = label1.squeeze()\n",
        "    accuracy = compute_accuracy(preds, label1)\n",
        "\n",
        "\n",
        "\n",
        "    #print('VALIDATION loss at epoch', epoch, \"is:\", loss.item())\n",
        "    #print('ACCURACY:', accuracy, '\\n')\n",
        "    return accuracy"
      ]
    },
    {
      "cell_type": "markdown",
      "source": [
        "### Fit the model using 5 epochs, a batch size of 64 and a validation split of 0.3"
      ],
      "metadata": {
        "id": "FZSegk5kGBFd"
      }
    },
    {
      "cell_type": "code",
      "execution_count": 37,
      "metadata": {
        "colab": {
          "base_uri": "https://localhost:8080/"
        },
        "id": "9P7nbSTVAn3P",
        "outputId": "307440d7-336a-4372-a258-af1e762436c6"
      },
      "outputs": [
        {
          "output_type": "stream",
          "name": "stdout",
          "text": [
            "TRAIN at epoch 0 is: 184.50524866580963 \n",
            "\n",
            "TRAIN ACCURACY at epoch 0 is 0.7068965517241379\n",
            "VALIDATION ACCURACY at epoch 0 is 0.6451612903225806\n",
            "TRAIN at epoch 1 is: 137.90564438700676 \n",
            "\n",
            "TRAIN ACCURACY at epoch 1 is 0.8103448275862069\n",
            "VALIDATION ACCURACY at epoch 1 is 0.6451612903225806\n",
            "TRAIN at epoch 2 is: 103.14907525479794 \n",
            "\n",
            "TRAIN ACCURACY at epoch 2 is 0.9137931034482759\n",
            "VALIDATION ACCURACY at epoch 2 is 0.6451612903225806\n",
            "TRAIN at epoch 3 is: 80.1394307166338 \n",
            "\n",
            "TRAIN ACCURACY at epoch 3 is 0.8793103448275862\n",
            "VALIDATION ACCURACY at epoch 3 is 0.6774193548387096\n",
            "TRAIN at epoch 4 is: 61.17956718802452 \n",
            "\n",
            "TRAIN ACCURACY at epoch 4 is 0.896551724137931\n",
            "VALIDATION ACCURACY at epoch 4 is 0.6774193548387096\n"
          ]
        }
      ],
      "source": [
        "epochs = 5\n",
        "losses = []\n",
        "train_accuracies = []\n",
        "val_accuracies = []\n",
        "\n",
        "for epoch in range(epochs):\n",
        "    model.train()\n",
        "    tot_loss = 0\n",
        "\n",
        "    for sent, label in train_loader:\n",
        "        sent = sent.to(device)\n",
        "        label = label.to(device)\n",
        "\n",
        "        optimizer.zero_grad()\n",
        "\n",
        "        preds = model(sent)\n",
        "        #preds = preds.squeeze()\n",
        "        #label = label.squeeze()\n",
        "        #print('preds', preds.dtype, label.dtype)\n",
        "\n",
        "        label = label.float()\n",
        "        #print(preds.shape, label.shape)\n",
        "\n",
        "\n",
        "        loss = criterion(preds,label)\n",
        "\n",
        "        loss.backward()\n",
        "\n",
        "        optimizer.step()\n",
        "\n",
        "        tot_loss += loss.item()\n",
        "\n",
        "    print('TRAIN at epoch', epoch, 'is:', tot_loss, '\\n')\n",
        "    train_accuracy = validation(model, train_loader, epoch)\n",
        "    print('TRAIN ACCURACY at epoch', epoch, 'is', train_accuracy)\n",
        "    val_accuracy = validation(model, test_loader, epoch)\n",
        "    print('VALIDATION ACCURACY at epoch', epoch, 'is', val_accuracy)\n",
        "    train_accuracies.append(train_accuracy)\n",
        "    val_accuracies.append(val_accuracy)\n",
        "    losses.append(tot_loss)\n",
        ""
      ]
    },
    {
      "cell_type": "markdown",
      "source": [
        "### Show the loss function and the accuracy for both training and validation subsets across epochs"
      ],
      "metadata": {
        "id": "CtnqABbMJdTv"
      }
    },
    {
      "cell_type": "code",
      "execution_count": 38,
      "metadata": {
        "colab": {
          "base_uri": "https://localhost:8080/",
          "height": 472
        },
        "id": "OtG4B77QAn3Q",
        "outputId": "5589b1e4-1377-40b5-9acf-ad35e3d92f2e"
      },
      "outputs": [
        {
          "output_type": "display_data",
          "data": {
            "text/plain": [
              "<Figure size 640x480 with 1 Axes>"
            ],
            "image/png": "[encoded data removed]"
          },
          "metadata": {}
        }
      ],
      "source": [
        "import matplotlib.pyplot as plt\n",
        "plt.plot(range(1, epochs + 1), losses, marker='o')\n",
        "plt.xlabel('Epoch')\n",
        "plt.ylabel('Loss')\n",
        "plt.title('Evolution of Loss during Training')\n",
        "plt.grid(True)\n",
        "plt.show()"
      ]
    },
    {
      "cell_type": "code",
      "execution_count": 39,
      "metadata": {
        "colab": {
          "base_uri": "https://localhost:8080/"
        },
        "id": "iaWDQLzVAn3Q",
        "outputId": "23dc0bbf-9626-4ddd-b506-023691a211f1"
      },
      "outputs": [
        {
          "output_type": "execute_result",
          "data": {
            "text/plain": [
              "[0.6451612903225806,\n",
              " 0.6451612903225806,\n",
              " 0.6451612903225806,\n",
              " 0.6774193548387096,\n",
              " 0.6774193548387096]"
            ]
          },
          "metadata": {},
          "execution_count": 39
        }
      ],
      "source": [
        "val_accuracies"
      ]
    },
    {
      "cell_type": "code",
      "execution_count": 40,
      "metadata": {
        "colab": {
          "base_uri": "https://localhost:8080/",
          "height": 472
        },
        "id": "K8Jp23G1An3Q",
        "outputId": "d4cb6589-abd4-4655-84f8-9f903b8ac19e"
      },
      "outputs": [
        {
          "output_type": "display_data",
          "data": {
            "text/plain": [
              "<Figure size 640x480 with 1 Axes>"
            ],
            "image/png": "[encoded data removed]"
          },
          "metadata": {}
        }
      ],
      "source": [
        "plt.plot(range(1, epochs + 1), train_accuracies, marker='o')\n",
        "plt.xlabel('Epoch')\n",
        "plt.ylabel('Loss')\n",
        "plt.title('Evolution of Train accuracy Training')\n",
        "plt.grid(True)\n",
        "plt.show()"
      ]
    },
    {
      "cell_type": "code",
      "execution_count": 41,
      "metadata": {
        "colab": {
          "base_uri": "https://localhost:8080/",
          "height": 472
        },
        "id": "dR27bydiAn3R",
        "outputId": "03dc7cfa-4c92-462e-ef4a-30a6d768b9fa"
      },
      "outputs": [
        {
          "output_type": "display_data",
          "data": {
            "text/plain": [
              "<Figure size 640x480 with 1 Axes>"
            ],
            "image/png": "[encoded data removed]"
          },
          "metadata": {}
        }
      ],
      "source": [
        "plt.plot(range(1, epochs + 1), val_accuracies, marker='o')\n",
        "plt.xlabel('Epoch')\n",
        "plt.ylabel('Loss')\n",
        "plt.title('Evolution of Validation accuracy Training')\n",
        "plt.grid(True)\n",
        "plt.show()"
      ]
    },
    {
      "cell_type": "markdown",
      "metadata": {
        "id": "Vm6gwnU-An3S"
      },
      "source": [
        "### Test the modle with new data"
      ]
    },
    {
      "cell_type": "code",
      "execution_count": 42,
      "metadata": {
        "id": "2KGQNrwPAn3S"
      },
      "outputs": [],
      "source": [
        "text = \"This movie is horrendous, the worst I have seen.\"\n",
        "idx_seq = []\n",
        "#padding = torch.zeros(50)\n",
        "padded_sequences = torch.tensor([])\n",
        "for word in text:\n",
        "    if word in word_dict.keys():\n",
        "        idx_seq.append(word_dict[word])\n",
        "    else:\n",
        "        idx_seq.append(word_dict['<unk>'])\n",
        "\n",
        "idx_seq = torch.tensor(idx_seq)\n",
        "\n",
        "length = 50 - len(idx_seq)\n",
        "if length != 0:\n",
        "    padding = torch.zeros(length)\n",
        "    padded_sequences = torch.cat((idx_seq, padding), dim = 0)\n",
        "#padded_sequences = pad_sequence((padding, idx_seq), batch_first=True, padding_value=0)\n",
        "# padded_sequences\n",
        "else:\n",
        "    padded_sequences = idx_seq\n",
        "\n",
        "padded_sequences = padded_sequences.unsqueeze(0).to(device)\n",
        "\n",
        "#y_ret = torch.tensor([self.y[idx]])\n",
        "\n"
      ]
    },
    {
      "cell_type": "code",
      "execution_count": 43,
      "metadata": {
        "colab": {
          "base_uri": "https://localhost:8080/"
        },
        "id": "TP4UiOYtAn3T",
        "outputId": "e405a417-af8b-4d8a-e91c-a4a800e0f904"
      },
      "outputs": [
        {
          "output_type": "execute_result",
          "data": {
            "text/plain": [
              "torch.Size([1, 50])"
            ]
          },
          "metadata": {},
          "execution_count": 43
        }
      ],
      "source": [
        "padded_sequences.shape"
      ]
    },
    {
      "cell_type": "code",
      "execution_count": 44,
      "metadata": {
        "colab": {
          "base_uri": "https://localhost:8080/"
        },
        "id": "9fljm9sCAn3T",
        "outputId": "59b45e96-9bae-4417-bff2-8bd5af16c8c6"
      },
      "outputs": [
        {
          "output_type": "stream",
          "name": "stdout",
          "text": [
            "tensor(0.9984, device='cuda:0')\n"
          ]
        },
        {
          "output_type": "execute_result",
          "data": {
            "text/plain": [
              "tensor(1., device='cuda:0')"
            ]
          },
          "metadata": {},
          "execution_count": 44
        }
      ],
      "source": [
        "with torch.no_grad():\n",
        "    pred = model.forward(padded_sequences)\n",
        "print(pred[0][0])\n",
        "torch.round(pred[0][0])"
      ]
    },
    {
      "cell_type": "code",
      "execution_count": 45,
      "metadata": {
        "id": "o84annaoAn3U"
      },
      "outputs": [],
      "source": [
        "text = \"This movie is amaizng, you have to see it .\"\n",
        "idx_seq = []\n",
        "#padding = torch.zeros(50)\n",
        "padded_sequences = torch.tensor([])\n",
        "for word in text:\n",
        "    if word in word_dict.keys():\n",
        "        idx_seq.append(word_dict[word])\n",
        "    else:\n",
        "        idx_seq.append(word_dict['<unk>'])\n",
        "\n",
        "idx_seq = torch.tensor(idx_seq)\n",
        "\n",
        "length = 50 - len(idx_seq)\n",
        "if length != 0:\n",
        "    padding = torch.zeros(length)\n",
        "    padded_sequences = torch.cat((idx_seq, padding), dim = 0)\n",
        "#padded_sequences = pad_sequence((padding, idx_seq), batch_first=True, padding_value=0)\n",
        "# padded_sequences\n",
        "else:\n",
        "    padded_sequences = idx_seq\n",
        "\n",
        "padded_sequences = padded_sequences.unsqueeze(0).to(device)\n",
        "\n",
        "#y_ret = torch.tensor([self.y[idx]]"
      ]
    },
    {
      "cell_type": "code",
      "execution_count": 46,
      "metadata": {
        "colab": {
          "base_uri": "https://localhost:8080/"
        },
        "id": "xUot89UlAn3U",
        "outputId": "a466d49e-65c4-4d7b-f1ca-daa56cd3d4d3"
      },
      "outputs": [
        {
          "output_type": "execute_result",
          "data": {
            "text/plain": [
              "tensor([[2.0000e+00, 2.9650e+03, 1.4073e+04, 5.6030e+03, 2.0000e+00, 1.2799e+04,\n",
              "         8.5300e+02, 1.4382e+04, 1.4073e+04, 9.7640e+03, 2.0000e+00, 1.4073e+04,\n",
              "         5.6030e+03, 2.0000e+00, 1.0326e+04, 1.2799e+04, 1.0326e+04, 1.4073e+04,\n",
              "         1.6389e+04, 1.1088e+04, 1.0379e+04, 4.5570e+03, 2.0000e+00, 9.9880e+03,\n",
              "         8.5300e+02, 1.0644e+04, 2.0000e+00, 2.9650e+03, 1.0326e+04, 1.4382e+04,\n",
              "         9.7640e+03, 2.0000e+00, 1.3662e+04, 8.5300e+02, 2.0000e+00, 5.6030e+03,\n",
              "         9.7640e+03, 9.7640e+03, 2.0000e+00, 1.4073e+04, 1.3662e+04, 2.0000e+00,\n",
              "         1.6481e+04, 0.0000e+00, 0.0000e+00, 0.0000e+00, 0.0000e+00, 0.0000e+00,\n",
              "         0.0000e+00, 0.0000e+00]], device='cuda:0')"
            ]
          },
          "metadata": {},
          "execution_count": 46
        }
      ],
      "source": [
        "padded_sequences"
      ]
    },
    {
      "cell_type": "code",
      "execution_count": 47,
      "metadata": {
        "colab": {
          "base_uri": "https://localhost:8080/"
        },
        "id": "XPO9e7exAn3V",
        "outputId": "86643af0-ac67-456b-8b04-77e220faf84b"
      },
      "outputs": [
        {
          "output_type": "stream",
          "name": "stdout",
          "text": [
            "0.998218834400177\n"
          ]
        },
        {
          "output_type": "execute_result",
          "data": {
            "text/plain": [
              "tensor(1., device='cuda:0')"
            ]
          },
          "metadata": {},
          "execution_count": 47
        }
      ],
      "source": [
        "with torch.no_grad():\n",
        "    pred = model.forward(padded_sequences)\n",
        "print(pred[0][0].item())\n",
        "torch.round(pred[0][0])"
      ]
    },
    {
      "cell_type": "code",
      "execution_count": 47,
      "metadata": {
        "id": "zefhOW3CAn3V"
      },
      "outputs": [],
      "source": []
    }
  ],
  "metadata": {
    "kernelspec": {
      "display_name": "pytorch12",
      "language": "python",
      "name": "pytorch12"
    },
    "language_info": {
      "codemirror_mode": {
        "name": "ipython",
        "version": 3
      },
      "file_extension": ".py",
      "mimetype": "text/x-python",
      "name": "python",
      "nbconvert_exporter": "python",
      "pygments_lexer": "ipython3",
      "version": "3.11.5"
    },
    "colab": {
      "provenance": [],
      "gpuType": "T4"
    },
    "accelerator": "GPU"
  },
  "nbformat": 4,
  "nbformat_minor": 0
}