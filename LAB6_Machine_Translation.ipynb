{
 "cells": [
  {
   "cell_type": "markdown",
   "metadata": {},
   "source": [
    "# LAB 6: Machine Translation. Italian to English with Seq2Seq RNNs with attention mechanism."
   ]
  },
  {
   "cell_type": "markdown",
   "metadata": {},
   "source": [
    "### Objectives:\n",
    "1. Understand the seq2seq model architecture.\n",
    "2. Understand the attention mechanism.\n",
    "3. Implement a seq2seq model with attention mechanism for machine translation.\n",
    "4. Train the model on a Italian to English translation dataset.\n",
    "5. Translate Italian sentences to English.\n",
    "6. Evaluate the model using quantitative and qualitative evaluation methods."
   ]
  },
  {
   "cell_type": "markdown",
   "metadata": {},
   "source": [
    "#### Importing Required Libraries\n"
   ]
  },
  {
   "cell_type": "code",
   "execution_count": 37,
   "metadata": {
    "collapsed": false
   },
   "outputs": [],
   "source": [
    "%matplotlib inline\n",
    "\n",
    "from __future__ import unicode_literals, print_function, division\n",
    "from io import open\n",
    "import unicodedata\n",
    "import re\n",
    "import random\n",
    "import torch.optim as optim\n",
    "from tqdm import tqdm\n",
    "import os\n",
    "import torch\n",
    "import torch.nn as nn\n",
    "from torch import optim\n",
    "import torch.nn.functional as F\n",
    "from sklearn.model_selection import train_test_split\n",
    "import numpy as np\n",
    "import matplotlib.pyplot as plt\n",
    "from matplotlib import ticker\n",
    "import warnings\n",
    "from torch.utils.data import TensorDataset, DataLoader, RandomSampler\n",
    "import nltk\n",
    "from nltk.translate.bleu_score import sentence_bleu\n",
    "\n",
    "device = torch.device(\"cuda\" if torch.cuda.is_available() else \"cpu\")"
   ]
  },
  {
   "cell_type": "markdown",
   "metadata": {},
   "source": [
    "## Data and SetUp"
   ]
  },
  {
   "cell_type": "markdown",
   "metadata": {},
   "source": [
    "#### Set Up Wandb for Experiment Tracking"
   ]
  },
  {
   "cell_type": "code",
   "execution_count": 38,
   "metadata": {},
   "outputs": [
    {
     "data": {
      "text/html": [
       "Finishing last run (ID:vvdober7) before initializing another..."
      ],
      "text/plain": [
       "<IPython.core.display.HTML object>"
      ]
     },
     "metadata": {},
     "output_type": "display_data"
    },
    {
     "data": {
      "application/vnd.jupyter.widget-view+json": {
       "model_id": "4d32c6c9ebfe47c390a625d40f37b293",
       "version_major": 2,
       "version_minor": 0
      },
      "text/plain": [
       "VBox(children=(Label(value='0.314 MB of 0.314 MB uploaded\\r'), FloatProgress(value=1.0, max=1.0)))"
      ]
     },
     "metadata": {},
     "output_type": "display_data"
    },
    {
     "data": {
      "text/html": [
       "<style>\n",
       "    table.wandb td:nth-child(1) { padding: 0 10px; text-align: left ; width: auto;} td:nth-child(2) {text-align: left ; width: 100%}\n",
       "    .wandb-row { display: flex; flex-direction: row; flex-wrap: wrap; justify-content: flex-start; width: 100% }\n",
       "    .wandb-col { display: flex; flex-direction: column; flex-basis: 100%; flex: 1; padding: 10px; }\n",
       "    </style>\n",
       "<div class=\"wandb-row\"><div class=\"wandb-col\"><h3>Run history:</h3><br/><table class=\"wandb\"><tr><td>Average BLEU Score</td><td>▁</td></tr><tr><td>BLEU Standard Deviation</td><td>▁</td></tr></table><br/></div><div class=\"wandb-col\"><h3>Run summary:</h3><br/><table class=\"wandb\"><tr><td>Average BLEU Score</td><td>0.0</td></tr><tr><td>BLEU Standard Deviation</td><td>0.0</td></tr></table><br/></div></div>"
      ],
      "text/plain": [
       "<IPython.core.display.HTML object>"
      ]
     },
     "metadata": {},
     "output_type": "display_data"
    },
    {
     "data": {
      "text/html": [
       " View run <strong style=\"color:#cdcd00\">trial_2</strong> at: <a href='https://wandb.ai/nlp_2024/Machine_Translation/runs/vvdober7' target=\"_blank\">https://wandb.ai/nlp_2024/Machine_Translation/runs/vvdober7</a><br/> View project at: <a href='https://wandb.ai/nlp_2024/Machine_Translation' target=\"_blank\">https://wandb.ai/nlp_2024/Machine_Translation</a><br/>Synced 6 W&B file(s), 10 media file(s), 0 artifact file(s) and 0 other file(s)"
      ],
      "text/plain": [
       "<IPython.core.display.HTML object>"
      ]
     },
     "metadata": {},
     "output_type": "display_data"
    },
    {
     "data": {
      "text/html": [
       "Find logs at: <code>./wandb/run-20240414_105500-vvdober7/logs</code>"
      ],
      "text/plain": [
       "<IPython.core.display.HTML object>"
      ]
     },
     "metadata": {},
     "output_type": "display_data"
    },
    {
     "data": {
      "text/html": [
       "Successfully finished last run (ID:vvdober7). Initializing new run:<br/>"
      ],
      "text/plain": [
       "<IPython.core.display.HTML object>"
      ]
     },
     "metadata": {},
     "output_type": "display_data"
    },
    {
     "data": {
      "application/vnd.jupyter.widget-view+json": {
       "model_id": "2eae2106f949438faf839735d9a85238",
       "version_major": 2,
       "version_minor": 0
      },
      "text/plain": [
       "VBox(children=(Label(value='Waiting for wandb.init()...\\r'), FloatProgress(value=0.011112796732534964, max=1.0…"
      ]
     },
     "metadata": {},
     "output_type": "display_data"
    },
    {
     "data": {
      "text/html": [
       "Tracking run with wandb version 0.16.6"
      ],
      "text/plain": [
       "<IPython.core.display.HTML object>"
      ]
     },
     "metadata": {},
     "output_type": "display_data"
    },
    {
     "data": {
      "text/html": [
       "Run data is saved locally in <code>/export/hhome/nlp2_g09/NLP-2024-1/wandb/run-20240414_110000-u8rq5q8b</code>"
      ],
      "text/plain": [
       "<IPython.core.display.HTML object>"
      ]
     },
     "metadata": {},
     "output_type": "display_data"
    },
    {
     "data": {
      "text/html": [
       "Syncing run <strong><a href='https://wandb.ai/nlp_2024/Machine_Translation/runs/u8rq5q8b' target=\"_blank\">trial_2</a></strong> to <a href='https://wandb.ai/nlp_2024/Machine_Translation' target=\"_blank\">Weights & Biases</a> (<a href='https://wandb.me/run' target=\"_blank\">docs</a>)<br/>"
      ],
      "text/plain": [
       "<IPython.core.display.HTML object>"
      ]
     },
     "metadata": {},
     "output_type": "display_data"
    },
    {
     "data": {
      "text/html": [
       " View project at <a href='https://wandb.ai/nlp_2024/Machine_Translation' target=\"_blank\">https://wandb.ai/nlp_2024/Machine_Translation</a>"
      ],
      "text/plain": [
       "<IPython.core.display.HTML object>"
      ]
     },
     "metadata": {},
     "output_type": "display_data"
    },
    {
     "data": {
      "text/html": [
       " View run at <a href='https://wandb.ai/nlp_2024/Machine_Translation/runs/u8rq5q8b' target=\"_blank\">https://wandb.ai/nlp_2024/Machine_Translation/runs/u8rq5q8b</a>"
      ],
      "text/plain": [
       "<IPython.core.display.HTML object>"
      ]
     },
     "metadata": {},
     "output_type": "display_data"
    }
   ],
   "source": [
    "import wandb\n",
    "wandb.init(project=\"Machine_Translation\", entity=\"nlp_2024\", name=\"trial_2\")\n",
    "\n",
    "np.random.seed(42)\n",
    "torch.manual_seed(42)\n",
    "torch.cuda.manual_seed(42)\n",
    "torch.backends.cudnn.deterministic = True"
   ]
  },
  {
   "cell_type": "markdown",
   "metadata": {},
   "source": [
    "#### Data\n",
    "\n",
    "Data can be found in our [github](https://github.com/Neilus03/NLP-2024/blob/main/data/eng-ita.txt).\n",
    "\n",
    "The dataset is a txt file that looks like this:\n",
    "\n",
    "```\n",
    "I haven't eaten pizza recently. Io non ho mangiato della pizza di recente.\n",
    "I haven't figured that out yet.\tNon l'ho ancora capito.\n",
    "Hello! Ciao!\n",
    "I saw you in the park with Tom.\tL'ho vista al parco con Tom.\n",
    "```\n",
    "\n"
   ]
  },
  {
   "cell_type": "markdown",
   "metadata": {},
   "source": [
    "#### Creating the Lang Class"
   ]
  },
  {
   "cell_type": "code",
   "execution_count": 39,
   "metadata": {
    "collapsed": false
   },
   "outputs": [],
   "source": [
    "\n",
    "\n",
    "# Define the start-of-sequence (SOS) and end-of-sequence (EOS) tokens\n",
    "SOS_token = 0\n",
    "EOS_token = 1\n",
    "\n",
    "# Define the language class\n",
    "class Lang:\n",
    "    '''\n",
    "    Lang class to store the language vocabulary and word-to-index & index-to-word mappings.\n",
    "    It also stores the count of each word in the vocabulary\n",
    "    '''\n",
    "    def __init__(self, language):\n",
    "        self.language = language\n",
    "        self.word2index = {}  # dictionary to map words to indices\n",
    "        self.word2count = {}  # dictionary to count the occurrences of each word\n",
    "        self.index2word = {0: \"SOS\", 1: \"EOS\"}  # dictionary to map indices to words\n",
    "        self.n_words = 2  # Count SOS and EOS tokens (initially 2)\n",
    "\n",
    "    def addSentence(self, sentence):\n",
    "        # Add each word in the sentence to the language\n",
    "        for word in sentence.split(' '):\n",
    "            self.addWord(word)\n",
    "\n",
    "    def addWord(self, word):\n",
    "        # Add a word to the language\n",
    "        if word not in self.word2index:\n",
    "            # If the word is not already in the dictionary, add it\n",
    "            self.word2index[word] = self.n_words\n",
    "            self.word2count[word] = 1\n",
    "            self.index2word[self.n_words] = word\n",
    "            self.n_words += 1\n",
    "        else:\n",
    "            # If the word is already in the dictionary, increment its count\n",
    "            self.word2count[word] += 1"
   ]
  },
  {
   "cell_type": "markdown",
   "metadata": {},
   "source": [
    "#### Preprocessing the Data a little bit"
   ]
  },
  {
   "cell_type": "code",
   "execution_count": 40,
   "metadata": {
    "collapsed": false
   },
   "outputs": [],
   "source": [
    "def unicodeToAscii(unicode_string):\n",
    "    # Convert unicode characters to ASCII\n",
    "    ascii_string = ''\n",
    "    for c in unicodedata.normalize('NFD', unicode_string): # NFD = Normalization Form Canonical Decomposition\n",
    "        if unicodedata.category(c) != 'Mn': # Mn = Nonspacing_Mark\n",
    "            ascii_string += c\n",
    "    return ascii_string\n",
    "\n",
    "\n",
    "def normalizeString(s):\n",
    "    # Normalize the string by:\n",
    "    \n",
    "    # converting to lowercase,\n",
    "    s = unicodeToAscii(s.lower().strip())\n",
    "    #removing accents \n",
    "    s = re.sub(r\"([.!?])\", r\" \\1\", s)\n",
    "    #replacing non-alphabetic characters with spaces\n",
    "    s = re.sub(r\"[^a-zA-Z!?]+\", r\" \", s)\n",
    "    #removing extra spaces\n",
    "    return s.strip()\n"
   ]
  },
  {
   "cell_type": "markdown",
   "metadata": {},
   "source": [
    "#### Create read_data function, which reads the data from the file and returns the input and target language pairs."
   ]
  },
  {
   "cell_type": "code",
   "execution_count": 41,
   "metadata": {
    "collapsed": false
   },
   "outputs": [],
   "source": [
    "def read_data(lang1, lang2, reverse=True, verbose=False):\n",
    "    '''\n",
    "    Read the data file, split the file into lines and split\n",
    "    lines into pairs. the `reverse` flag is used to translate from italian\n",
    "    to english instaed of the default english to italian\n",
    "    '''\n",
    "    if verbose:\n",
    "        print(\"Opening Data\")\n",
    "    # Read the file and split into lines\n",
    "    lines = open('data/%s-%s.txt' % (lang1, lang2), encoding='utf-8').\\\n",
    "        read().strip().split('\\n')\n",
    "\n",
    "    # Split every line into pairs and normalize\n",
    "    pairs = [[normalizeString(s) for s in l.split('\\t')] for l in lines]\n",
    "\n",
    "    # Create Lang instances\n",
    "    input_lang = Lang(lang1) if not reverse else Lang(lang2)\n",
    "    output_lang = Lang(lang2) if not reverse else Lang(lang1)\n",
    "    \n",
    "    # Leave pairs as they are if not reverse, otherwise reverse the pairs\n",
    "    pairs = [list(reversed(p)) for p in pairs] if reverse else pairs\n",
    "\n",
    "    # Return the language vocabulary and the pairs\n",
    "    return input_lang, output_lang, pairs"
   ]
  },
  {
   "cell_type": "markdown",
   "metadata": {},
   "source": [
    "#### Example usage of the read_data function, and how the data looks like."
   ]
  },
  {
   "cell_type": "code",
   "execution_count": 42,
   "metadata": {},
   "outputs": [
    {
     "name": "stdout",
     "output_type": "stream",
     "text": [
      "['tom stava sempre lavorando', 'tom was always working'] ita eng\n",
      "['the street is empty again', 'la strada e di nuovo vuota'] eng ita\n"
     ]
    }
   ],
   "source": [
    "#Example usage of the read_data \n",
    "input_lang, output_lang, pairs = read_data('eng', 'ita', reverse=True, verbose=False)\n",
    "print(random.choice(pairs), input_lang.language, output_lang.language)\n",
    "input_lang, output_lang, pairs = read_data('eng', 'ita', False, verbose=False)\n",
    "print(random.choice(pairs), input_lang.language, output_lang.language)"
   ]
  },
  {
   "cell_type": "markdown",
   "metadata": {},
   "source": [
    "#### Trim the dataset to contain only 10000 examples and only phrases with less than 10 words.\n",
    "This is done to reduce the training time and to make the model learn faster.\n",
    "If you have a better GPU, you can increase the number of examples and the length of the phrases,\n",
    "sadly we are GPU-Poor hahaha, maybe Dani and Joan can grab some from the CVC."
   ]
  },
  {
   "cell_type": "code",
   "execution_count": 43,
   "metadata": {
    "collapsed": false
   },
   "outputs": [],
   "source": [
    "MAX_LENGTH = 10\n",
    "MAX_PAIRS = 100000\n",
    "\n",
    "def filterPair(p):\n",
    "    return (len(p[0].split(' ')) and len(p[1].split(' '))) < MAX_LENGTH\n",
    "\n",
    "\n",
    "def trim_dataset(pairs):\n",
    "    # Filter pairs using the filterPair condition and choosing 100000 random pairs\n",
    "    pairs = [pair for pair in pairs if filterPair(pair)]\n",
    "    return random.sample(pairs, MAX_PAIRS)\n",
    "\n"
   ]
  },
  {
   "cell_type": "markdown",
   "metadata": {},
   "source": [
    "The full process for preparing the data is:\n",
    "\n",
    "-   Read text file and split into lines, split lines into pairs\n",
    "-   Normalize text, filter by length and content\n",
    "-   Make word lists from sentences in pairs\n"
   ]
  },
  {
   "cell_type": "code",
   "execution_count": 44,
   "metadata": {
    "collapsed": false
   },
   "outputs": [
    {
     "name": "stdout",
     "output_type": "stream",
     "text": [
      "Opening Data\n",
      "Read all the 345244 sentence pairs in the dataset\n",
      "Trimmed to 100000 sentence pairs using the trim_dataset function\n",
      "There are 9286 words in eng and 17011 words in ita\n",
      "['don t act like you don t know how to dance', 'non comportarti come se non sapessi ballare']\n"
     ]
    }
   ],
   "source": [
    "def prepare_data(lang1, lang2, reverse=False):\n",
    "    ''''\n",
    "    Prepare the data for training by reading the data, filtering the pairs and counting the words\n",
    "    Returns the input and output language instances and the processed pairs\n",
    "    '''\n",
    "    # Read the data\n",
    "    input_lang, output_lang, pairs = read_data(lang1, lang2, reverse, verbose=True)\n",
    "    print(\"Read all the %s sentence pairs in the dataset\" % len(pairs))\n",
    "    # Filter the pairs\n",
    "    pairs = trim_dataset(pairs)\n",
    "    print(\"Trimmed to %s sentence pairs using the trim_dataset function\" % len(pairs))\n",
    "\n",
    "    for pair in pairs:\n",
    "        input_lang.addSentence(pair[0])\n",
    "        output_lang.addSentence(pair[1])\n",
    "    print(f\"There are {input_lang.n_words} words in {input_lang.language} and {output_lang.n_words} words in {output_lang.language}\")\n",
    "\n",
    "    return input_lang, output_lang, pairs\n",
    "\n",
    "input_lang, output_lang, pairs = prepare_data('eng', 'ita')\n",
    "print(random.choice(pairs))"
   ]
  },
  {
   "cell_type": "markdown",
   "metadata": {},
   "source": [
    "## The Seq2Seq Model\n",
    "\n",
    "The model is composed of an encoder and a decoder. The encoder reads the input sequence and outputs a context vector for each word in the input sequence. The decoder reads the context vector and generates the output sequence, hopefully translating the input sequence to the output sequence."
   ]
  },
  {
   "cell_type": "markdown",
   "metadata": {},
   "source": [
    "![](https://www.guru99.com/images/1/111318_0848_seq2seqSequ1.png)"
   ]
  },
  {
   "cell_type": "markdown",
   "metadata": {},
   "source": [
    "### Encoder\n",
    "The encoder of a seq2seq network is a RNN, in our case we'll use a GRU for the sake of simplicity.\n",
    "This GRU encoder outputs a vector and a hidden state, and uses the hidden state for the\n",
    "next input word.\n"
   ]
  },
  {
   "cell_type": "code",
   "execution_count": 45,
   "metadata": {
    "collapsed": false
   },
   "outputs": [],
   "source": [
    "class EncoderRNN(nn.Module):\n",
    "    '''\n",
    "    EncoderRNN class to encode the input language, it uses an embedding layer and a GRU layer\n",
    "    basically it encodes the input language into a hidden state.\n",
    "    '''\n",
    "    def __init__(self, input_size, hidden_size, dropout_p=0.1):\n",
    "        super(EncoderRNN, self).__init__()\n",
    "        self.hidden_size = hidden_size\n",
    "\n",
    "        #Embedding layer to convert words to vectors of fixed size\n",
    "        self.embedding = nn.Embedding(input_size, hidden_size)\n",
    "        \n",
    "        #GRU layer to encode the input language\n",
    "        self.gru = nn.GRU(hidden_size, hidden_size, batch_first=True)\n",
    "        \n",
    "        \n",
    "        #Dropout layer to prevent overfitting\n",
    "        self.dropout = nn.Dropout(dropout_p)\n",
    "\n",
    "    def forward(self, input):\n",
    "        '''Forward pass of the encoder'''\n",
    "        #Convert the input to embeddings and apply dropout\n",
    "        embedded = self.dropout(self.embedding(input))\n",
    "        #Pass the embeddings through the GRU layer and get the output and hidden state\n",
    "        output, hidden = self.gru(embedded)\n",
    "        return output, hidden"
   ]
  },
  {
   "cell_type": "markdown",
   "metadata": {},
   "source": [
    "#### Example usage of the EncoderRNN"
   ]
  },
  {
   "cell_type": "code",
   "execution_count": 46,
   "metadata": {},
   "outputs": [
    {
     "name": "stdout",
     "output_type": "stream",
     "text": [
      "Input Tensor Shape: torch.Size([1, 10])\n",
      "----------------------------------------------------------------------------------------------------\n",
      "Output Shape: torch.Size([1, 10, 256])\n",
      "Encoder Output: tensor([[[ 0.0279, -0.2991, -0.2447,  ...,  0.3858, -0.4687,  0.1188],\n",
      "         [ 0.2027, -0.1262, -0.3686,  ..., -0.1420, -0.5459,  0.0208],\n",
      "         [ 0.3057,  0.1209, -0.2182,  ..., -0.3503, -0.3463,  0.2371],\n",
      "         ...,\n",
      "         [ 0.1307, -0.0435, -0.2399,  ..., -0.4592, -0.2323,  0.2752],\n",
      "         [ 0.0286, -0.0231, -0.4544,  ...,  0.0330,  0.1023,  0.1880],\n",
      "         [-0.1707, -0.1338, -0.4803,  ...,  0.1034, -0.0421,  0.3915]]],\n",
      "       grad_fn=<TransposeBackward1>)\n",
      "----------------------------------------------------------------------------------------------------\n",
      "Hidden Shape: torch.Size([1, 1, 256])\n",
      "Encoder Hidden: tensor([[[-0.1707, -0.1338, -0.4803, -0.3835, -0.0657, -0.1798, -0.2136,\n",
      "           0.0489,  0.0496,  0.3212,  0.0974,  0.0315,  0.1429, -0.0170,\n",
      "           0.3514, -0.0774, -0.0570,  0.2882, -0.2847, -0.1431, -0.3215,\n",
      "          -0.1599, -0.4595, -0.2204,  0.1629,  0.5201,  0.0858, -0.0310,\n",
      "           0.3343, -0.0798,  0.4206,  0.0074, -0.1089, -0.3267, -0.2700,\n",
      "          -0.3338, -0.2249,  0.0349, -0.1119,  0.4796, -0.1270,  0.5909,\n",
      "          -0.0082, -0.1870,  0.1812, -0.2118,  0.3841, -0.3086,  0.2224,\n",
      "           0.2660,  0.2105, -0.1394,  0.1372, -0.1381,  0.2041,  0.3954,\n",
      "          -0.4639,  0.0042,  0.4121, -0.2216, -0.0354, -0.0493,  0.0808,\n",
      "           0.1255, -0.3639,  0.3942, -0.4488, -0.6254,  0.2017, -0.5870,\n",
      "           0.0640, -0.1602, -0.4642,  0.5952, -0.5815,  0.0049,  0.4927,\n",
      "          -0.0483,  0.1125,  0.1297, -0.4918,  0.1622,  0.0508, -0.1111,\n",
      "          -0.5666,  0.0961, -0.0724, -0.1557,  0.1624, -0.0852,  0.4362,\n",
      "          -0.3817, -0.0139,  0.1870, -0.5777, -0.6410,  0.0178,  0.2519,\n",
      "           0.1521,  0.2504,  0.4503,  0.1233, -0.0924, -0.2543, -0.0863,\n",
      "          -0.1925, -0.3106, -0.1757, -0.2085, -0.2691,  0.2238,  0.5954,\n",
      "           0.4357, -0.1757, -0.0274, -0.0524,  0.2733,  0.5333,  0.1413,\n",
      "           0.3578, -0.0797,  0.4316, -0.0630, -0.2797,  0.0926, -0.0320,\n",
      "           0.0059,  0.0289, -0.2509,  0.5146, -0.1622,  0.0016, -0.5363,\n",
      "          -0.1259,  0.6125,  0.4663, -0.4737, -0.4474, -0.3347, -0.2151,\n",
      "          -0.1949,  0.4560,  0.2780,  0.3829, -0.0314,  0.4910,  0.1695,\n",
      "           0.4639,  0.3114,  0.0673,  0.4075, -0.1593,  0.3593, -0.3615,\n",
      "          -0.0761,  0.2745, -0.1379, -0.1539, -0.3200,  0.2013,  0.3968,\n",
      "          -0.4685, -0.2623, -0.2817,  0.2421,  0.1844,  0.0784,  0.3407,\n",
      "           0.3248,  0.0495,  0.1438,  0.4653,  0.0593,  0.5184, -0.1926,\n",
      "           0.0032,  0.3540, -0.4063, -0.0709, -0.1370, -0.1044, -0.0799,\n",
      "          -0.1640, -0.0467, -0.2664,  0.0901,  0.1785, -0.3296,  0.1629,\n",
      "           0.1188, -0.5725,  0.2592, -0.1519,  0.2669,  0.1508, -0.3725,\n",
      "          -0.1649,  0.2929,  0.0752, -0.2196,  0.4696,  0.4491, -0.2737,\n",
      "           0.2276, -0.7008, -0.4428, -0.4421,  0.2361,  0.1429, -0.0391,\n",
      "           0.1491,  0.1640, -0.0215,  0.2354,  0.1129, -0.4218, -0.0302,\n",
      "          -0.2167,  0.1567,  0.3223, -0.0574, -0.0599,  0.5261,  0.0839,\n",
      "          -0.2565, -0.0310, -0.1857, -0.4862,  0.3955, -0.4272, -0.2350,\n",
      "           0.1068,  0.0216, -0.4979,  0.0907, -0.4361,  0.3226,  0.2538,\n",
      "           0.0484, -0.2767, -0.3795,  0.0457, -0.1179, -0.0016,  0.3958,\n",
      "           0.2344, -0.5676,  0.2739,  0.1412, -0.1449, -0.0214, -0.0351,\n",
      "          -0.2806,  0.1034, -0.0421,  0.3915]]], grad_fn=<StackBackward0>)\n"
     ]
    }
   ],
   "source": [
    "#Hidden size\n",
    "hidden_size = 256\n",
    "\n",
    "#Create an instance of the EncoderRNN \n",
    "encoder = EncoderRNN(input_lang.n_words, hidden_size).to(device)\n",
    "\n",
    "#input tensor, it has a batch size of 1 and a sequence length of 10\n",
    "input_tensor = torch.randint(0, input_lang.n_words, (1, 10)).to(device) #random input tensor [1, 10] with values between 0 and input_lang.n_words\n",
    "\n",
    "#output and hidden state of the encoder after passing the input tensor\n",
    "output, hidden = encoder(input_tensor)\n",
    "\n",
    "#Print interesting information\n",
    "print(f\"Input Tensor Shape: {input_tensor.shape}\")\n",
    "print(\"-\"*100)\n",
    "print(f\"Output Shape: {output.shape}\")\n",
    "print(f\"Encoder Output: {output}\")\n",
    "print(\"-\"*100)\n",
    "print(f\"Hidden Shape: {hidden.shape}\")\n",
    "print(f\"Encoder Hidden: {hidden}\")"
   ]
  },
  {
   "cell_type": "markdown",
   "metadata": {},
   "source": [
    "### Attention Decoder\n",
    "\n",
    "The decoder is another RNN that takes the encoder output vector(s) and\n",
    "outputs a sequence of words to create the translation, in this case we will use an Attention Decoder. In sequence-to-sequence models, an attention decoder lets the decoder focus on different parts of the encoder's output using a calculated set of \"attention weights\". These weights help create a weighted combination of encoder outputs (attn_applied), enhancing the decoder's ability to select accurate output words based on the input sequence's relevant parts. Here we use Bahdanau attention mechanism. The process involves training a feed-forward layer to calculate these weights, adjusted for varying sentence lengths."
   ]
  },
  {
   "cell_type": "code",
   "execution_count": 47,
   "metadata": {
    "collapsed": false
   },
   "outputs": [],
   "source": [
    "class BahdanauAttention(nn.Module):\n",
    "    '''\n",
    "    The typical Badhanau Attention mechanism.\n",
    "        1. Calculate the attention scores by applying a linear layer to the encoder outputs and decoder hidden state\n",
    "        2. Apply a softmax to the scores to get the attention weights\n",
    "        3. Multiply the attention weights by the encoder outputs to get the context vector\n",
    "        4. Return the context vector and the attention weights\n",
    "    '''\n",
    "    def __init__(self, hidden_size):\n",
    "        super(BahdanauAttention, self).__init__()\n",
    "        #Linear layers to calculate the attention scores\n",
    "        self.Wa = nn.Linear(hidden_size, hidden_size) #W matrix [hidden_size x hidden_size]\n",
    "        self.Ua = nn.Linear(hidden_size, hidden_size) #U matrix [hidden_size x hidden_size]\n",
    "        self.Va = nn.Linear(hidden_size, 1) #V vector [hidden_size x 1]\n",
    "\n",
    "    def forward(self, query, keys):\n",
    "        #Get the sum of the projection of the query and keys\n",
    "        addition = self.Wa(query) + self.Ua(keys) #Addition shape is [batch_size x seq_len x hidden_size]\n",
    "        \n",
    "        #Apply a non-linearity to the sum (tanh in this case because we want to keep the values between -1 and 1)\n",
    "        activated_addition = torch.tanh(addition)#Activated addition shape is [batch_size x seq_len x hidden_size]\n",
    "        \n",
    "        #Get the attention scores by applying the V matrix to the activated addition\n",
    "        scores = self.Va(activated_addition) #Scores shape right now is [batch_size x seq_len x 1]\n",
    "        \n",
    "        #Squeeze the scores to remove the last dimension and unsqueeze the scores to add a dimension at index 1\n",
    "        scores = scores.squeeze(2).unsqueeze(1) #Scores shape is now [batch_size x 1 x seq_len]\n",
    "\n",
    "        #Apply a softmax to the scores to get the attention weights adding up to 1\n",
    "        weights = F.softmax(scores, dim=-1) #Weights shape is [batch_size x 1 x seq_len]\n",
    "        \n",
    "        #Multiply the weights by the keys to get the context vector (bmm stands for batch matrix multiplication)\n",
    "        context = torch.bmm(weights, keys) #Context shape is [batch_size x 1 x hidden_size]\n",
    "\n",
    "        #Return the context vector and the attention weights.\n",
    "        return context, weights\n",
    "\n",
    "class AttnDecoderRNN(nn.Module):\n",
    "    '''\n",
    "    Attention Decoder class to decode the encoder outputs and the hidden \n",
    "    state into the target language, hopefully making a good translation.\n",
    "    It uses an embedding layer, an attention layer and a GRU layer \n",
    "    (you could add more layers if you want to improve the model)\n",
    "    '''\n",
    "    def __init__(self, hidden_size, output_size, dropout_p=0.1):\n",
    "        super(AttnDecoderRNN, self).__init__()\n",
    "        self.embedding = nn.Embedding(output_size, hidden_size)\n",
    "        self.attention = BahdanauAttention(hidden_size)\n",
    "        self.gru = nn.GRU(2 * hidden_size, hidden_size, batch_first=True) #2 * hidden_size because we concatenate the embeddings and context vector\n",
    "        self.out = nn.Linear(hidden_size, output_size)\n",
    "        self.dropout = nn.Dropout(dropout_p)\n",
    "\n",
    "    def forward(self, encoder_outputs, encoder_hidden, target_tensor=None): #encoder outputs and encoder hidden are returned by the encoder\n",
    "        '''\n",
    "        Forward takes care of the forward pass of the decoder, it loops over the whole sequence length,\n",
    "        translating one word at a time by using the step_forward function.\n",
    "        '''\n",
    "        #Get the batch size\n",
    "        batch_size = encoder_outputs.size(0) \n",
    "        \n",
    "        #Initialize the decoder input with the SOS token for each sentence in the batch\n",
    "        decoder_input = torch.empty(batch_size, 1, dtype=torch.long, device=device).fill_(SOS_token)\n",
    "        \n",
    "        #Initialize the decoder hidden state with the encoder hidden state \n",
    "        decoder_hidden = encoder_hidden\n",
    "        \n",
    "        #Initialize the decoder outputs and attention maps as empty lists\n",
    "        decoder_outputs = []\n",
    "        attentions = []\n",
    "\n",
    "        for i in range(MAX_LENGTH):\n",
    "            #Make a forward step in the decoder, get the output, hidden state and attention weights for the decoder\n",
    "            decoder_output, decoder_hidden, attn_weights = self.forward_step(decoder_input, decoder_hidden, encoder_outputs)\n",
    "            \n",
    "            #Append the decoder output and attention weights to their respective lists\n",
    "            decoder_outputs.append(decoder_output)\n",
    "            attentions.append(attn_weights)\n",
    "\n",
    "            #If there is a target tensor, use it as the next input, otherwise use the decoder output\n",
    "            if target_tensor is not None:\n",
    "                # Teacher forcing: Feed the target as the next input\n",
    "                decoder_input = target_tensor[:, i].unsqueeze(1) # Teacher forcing\n",
    "            else:\n",
    "                # Without teacher forcing: use its own predictions as the next input\n",
    "                _, topi = decoder_output.topk(1) #Get the index of the maximum value\n",
    "                decoder_input = topi.squeeze(-1).detach()  # detach from history as input, gradient is not computed for the input.\n",
    "                # Break if EOS token is produced by all items in the batch\n",
    "                if (topi == EOS_token).all():\n",
    "                    break\n",
    "            \n",
    "        #Concatenate the decoder outputs and attention weights along the sequence length dimension\n",
    "        decoder_outputs = torch.cat(decoder_outputs, dim=1)\n",
    "        decoder_outputs = F.log_softmax(decoder_outputs, dim=-1) #Apply a log softmax to the decoder outputs\n",
    "        attentions = torch.cat(attentions, dim=1)\n",
    "\n",
    "        #Return the decoder outputs and attention weights\n",
    "        return decoder_outputs, decoder_hidden, attentions\n",
    "\n",
    "\n",
    "    def forward_step(self, input, hidden, encoder_outputs):\n",
    "        '''\n",
    "        forward_step takes care of the forward pass of the decoder for a single time step (i.e. a single word)\n",
    "        '''\n",
    "        #Get the embeddings of the input with the applied dropout\n",
    "        embedded =  self.dropout(self.embedding(input))\n",
    "\n",
    "        #Permute the hidden state to have the batch size as the first dimension\n",
    "        query = hidden.permute(1, 0, 2) #from [1, batch_size, hidden_size] to [batch_size, 1, hidden_size]\n",
    "        \n",
    "        #Get the context vector and attention weights by applying the attention mechanism (Bahdanau)\n",
    "        context, attn_weights = self.attention(query, encoder_outputs)\n",
    "        \n",
    "        #Concatenate the embeddings and context vector along the hidden size dimension\n",
    "        input_gru = torch.cat((embedded, context), dim=2) #Concatenation shape is [batch_size x 1 x 2 * hidden_size]\n",
    "        \n",
    "        #Pass the concatenated tensor through the GRU layer, get the output and hidden state\n",
    "        output, hidden = self.gru(input_gru, hidden)\n",
    "        \n",
    "        #Pass the output through a linear layer to get the decoder output\n",
    "        output = self.out(output) #Now shape is [batch_size x 1 x output_size] \n",
    "                                  #where output_size is the number of words in the output language (i.e. Vocabulary size)\n",
    "\n",
    "        #Return the decoder output, hidden state and attention weights\n",
    "        return output, hidden, attn_weights"
   ]
  },
  {
   "cell_type": "markdown",
   "metadata": {},
   "source": [
    "#### Example usage of the AttnDecoderRNN"
   ]
  },
  {
   "cell_type": "code",
   "execution_count": 48,
   "metadata": {},
   "outputs": [
    {
     "name": "stdout",
     "output_type": "stream",
     "text": [
      "Decoder Outputs Shape: torch.Size([1, 10, 17011])\n",
      "Decoder Hidden Shape: torch.Size([1, 1, 256])\n",
      "Attentions Shape: torch.Size([1, 10, 10])\n"
     ]
    }
   ],
   "source": [
    "#Example usage of the AttnDecoderRNN\n",
    "\n",
    "#Create an instance of the AttnDecoderRNN\n",
    "decoder = AttnDecoderRNN(hidden_size, output_lang.n_words).to(device)\n",
    "\n",
    "#Pass the encoder\n",
    "decoder_outputs, decoder_hidden, attentions = decoder(output, hidden)\n",
    "\n",
    "#Print interesting information\n",
    "print(f\"Decoder Outputs Shape: {decoder_outputs.shape}\")\n",
    "print(f\"Decoder Hidden Shape: {decoder_hidden.shape}\")\n",
    "print(f\"Attentions Shape: {attentions.shape}\")"
   ]
  },
  {
   "cell_type": "markdown",
   "metadata": {},
   "source": [
    "\n",
    "## Training\n"
   ]
  },
  {
   "cell_type": "markdown",
   "metadata": {},
   "source": [
    "\n",
    "### Preparing Training Data\n",
    "\n",
    "To train, for each pair we will need an input tensor (indexes of the\n",
    "words in the input sentence) and target tensor (indexes of the words in\n",
    "the target sentence). While creating these vectors we will append the\n",
    "EOS token to both sequences."
   ]
  },
  {
   "cell_type": "code",
   "execution_count": 49,
   "metadata": {
    "collapsed": false
   },
   "outputs": [],
   "source": [
    "def sentence_to_indexes(lang, sentence):\n",
    "    '''Get the indexes of the words in the sentence using the language vocabulary'''\n",
    "    return [lang.word2index[word] for word in sentence.split(' ')]\n",
    "\n",
    "def sentence_to_tensor(lang, sentence):\n",
    "    ''' Turn sentence into tensor of word indices and add EOS token'''\n",
    "    indexes = sentence_to_indexes(lang, sentence)\n",
    "    indexes.append(EOS_token)\n",
    "    return torch.tensor(indexes, dtype=torch.long, device=device).view(1, -1)\n",
    "\n",
    "def pair_to_tensor(pair):\n",
    "    ''' Get the input and target tensors from the pair of sentences'''\n",
    "    input_tensor = sentence_to_tensor(input_lang, pair[0])\n",
    "    target_tensor = sentence_to_tensor(output_lang, pair[1])\n",
    "    return (input_tensor, target_tensor)\n",
    "\n",
    "def get_dataloaders(batch_size):\n",
    "    ''' Get the dataloaders for the training, validation and test sets'''\n",
    "    #Get the input and output languages and the pairs from the data\n",
    "    input_lang, output_lang, pairs = prepare_data('eng', 'ita', True) \n",
    "\n",
    "    # Splitting the data into train, validation, and test sets\n",
    "    train_pairs, test_val_pairs = train_test_split(pairs, test_size=0.3, random_state=42)\n",
    "    test_pairs, val_pairs = train_test_split(test_val_pairs, test_size=0.5, random_state=42)\n",
    "\n",
    "    def create_dataloader(pairs):\n",
    "        '''\n",
    "        Create a dataloader from the pairs by converting the sentences to tensors\n",
    "        and truncating the tensors to the maximum length if necessary\n",
    "        '''\n",
    "        #Get the amount of pairs\n",
    "        n = len(pairs) \n",
    "        \n",
    "        #Initialize the input and target tensors to zeros\n",
    "        input_ids = np.zeros((n, MAX_LENGTH), dtype=np.int32)  # MAX_LENGTH = 10 for now (defined at the beginning of the notebook)\n",
    "        target_ids = np.zeros((n, MAX_LENGTH), dtype=np.int32)\n",
    "\n",
    "        #Iterate over the pairs and convert the sentences to tensors\n",
    "        for idx, (inp, tgt) in enumerate(pairs):\n",
    "            #Get the indexes of the words in the sentences using the language vocabulary\n",
    "            inp_ids = sentence_to_indexes(input_lang, inp) \n",
    "            tgt_ids = sentence_to_indexes(output_lang, tgt)\n",
    "            \n",
    "            #Truncate to MAX_LENGTH-1 if necessary, which shouldn't be the case because all the filtered data is already less or equal than MAX_LENGTH\n",
    "            \n",
    "            if len(inp_ids) >= MAX_LENGTH: \n",
    "                inp_ids = inp_ids[:MAX_LENGTH-1]  # Truncate to MAX_LENGTH-1 if necessary\n",
    "                tgt_ids = tgt_ids[:MAX_LENGTH-1]  # Truncate to MAX_LENGTH-1 if necessary\n",
    "            inp_ids.append(EOS_token)\n",
    "            tgt_ids.append(EOS_token)\n",
    "            \n",
    "            #Add the tensors to the input and target tensors\n",
    "            input_ids[idx, :len(inp_ids)] = inp_ids \n",
    "            target_ids[idx, :len(tgt_ids)] = tgt_ids\n",
    "\n",
    "        #Create a TensorDataset from the input and target tensors, TensorDataset is a PyTorch class to create datasets from tensors\n",
    "        dataset = TensorDataset(torch.LongTensor(input_ids).to(device),\n",
    "                                torch.LongTensor(target_ids).to(device))\n",
    "        \n",
    "        #Create a RandomSampler to sample the data randomly\n",
    "        sampler = RandomSampler(dataset)\n",
    "        \n",
    "        #Create a DataLoader from the dataset and the sampler\n",
    "        dataloader = DataLoader(dataset, sampler=sampler, batch_size=batch_size)\n",
    "        return dataloader\n",
    "\n",
    "    # Creating separate dataloaders for the training, testing, and validation sets, how do we ensure they are differen\n",
    "    train_dataloader = create_dataloader(train_pairs)\n",
    "    test_dataloader = create_dataloader(test_pairs)\n",
    "    val_dataloader = create_dataloader(val_pairs)\n",
    "    \n",
    "    #Return the input and output languages and the dataloaders for training, testing, and validation\n",
    "    return input_lang, output_lang, train_dataloader, test_dataloader, val_dataloader, test_pairs\n"
   ]
  },
  {
   "cell_type": "markdown",
   "metadata": {},
   "source": [
    "#### Example usage of the dataloaders"
   ]
  },
  {
   "cell_type": "code",
   "execution_count": 50,
   "metadata": {},
   "outputs": [
    {
     "name": "stdout",
     "output_type": "stream",
     "text": [
      "Opening Data\n",
      "Read all the 345244 sentence pairs in the dataset\n",
      "Trimmed to 100000 sentence pairs using the trim_dataset function\n",
      "There are 17091 words in ita and 9363 words in eng\n",
      "Number of training batches: 1094\n",
      "Sample Batch: [tensor([[   11,   130,    66,  9080,   142,   175,    21,    87,   119,     1],\n",
      "        [   73,    54,   483,     5,  2122,     1,     0,     0,     0,     0],\n",
      "        [   63,   130,    87,  1207,     1,     0,     0,     0,     0,     0],\n",
      "        [  297,    50,   804,    27,   842,   191,  1070,     1,     0,     0],\n",
      "        [  300,  2438,     1,     0,     0,     0,     0,     0,     0,     0],\n",
      "        [   54,   517,   860,   282,   691,    27,    63,     1,     0,     0],\n",
      "        [   63,     7,   126,    69,  1463,     1,     0,     0,     0,     0],\n",
      "        [  300,  2871,     3,     4,   174,  2872,     1,     0,     0,     0],\n",
      "        [  290,   105,   620,   279,    14,     1,     0,     0,     0,     0],\n",
      "        [   63,  2209,   483,   132,     1,     0,     0,     0,     0,     0],\n",
      "        [ 1462,  2067,    27,  3773,     1,     0,     0,     0,     0,     0],\n",
      "        [   50,   186,   143,    21,   285,    88,     1,     0,     0,     0],\n",
      "        [  130,   515,  1183,    63,  4577,     1,     0,     0,     0,     0],\n",
      "        [  130,  5919,   353,     1,     0,     0,     0,     0,     0,     0],\n",
      "        [   63,  1744,   130,    15,     4,   396,     1,     0,     0,     0],\n",
      "        [   68,   427,  1655,   142,   155,    14,     1,     0,     0,     0],\n",
      "        [  130,    54,   126,   692,   495,     1,     0,     0,     0,     0],\n",
      "        [   39,    47,  1861,   336,     1,     0,     0,     0,     0,     0],\n",
      "        [   68,   497,    21,    63,   130,    80,  9418,   139,    14,     1],\n",
      "        [   73, 10824,   126,    32,    76,    23,   134,   321,     1,     0],\n",
      "        [   63,   906,   892,   117,   268,    27,   130,   118,   191,     1],\n",
      "        [  115,  8984,    14,     1,     0,     0,     0,     0,     0,     0],\n",
      "        [  130,  3082,   126,   102,   434,    14,     1,     0,     0,     0],\n",
      "        [  130,   385,  3786,     1,     0,     0,     0,     0,     0,     0],\n",
      "        [   63,    87,  2112,     5,  5447,   117,   268,     1,     0,     0],\n",
      "        [   18, 10429,     1,     0,     0,     0,     0,     0,     0,     0],\n",
      "        [   39,  1787,  6982,    68,    27,  7285,  6717,   142,     5,     1],\n",
      "        [   63,  4416,     4,   191,  5094,     1,     0,     0,     0,     0],\n",
      "        [   19,  1276,   886,    54, 13659,     1,     0,     0,     0,     0],\n",
      "        [   73,   130,    47,  1064,   806,   142,    16,  6853,     1,     0],\n",
      "        [   63,   130,    87,   139,    27,   322,  3846,     1,     0,     0],\n",
      "        [   69,   832,    80,  3201,   811,     1,     0,     0,     0,     0],\n",
      "        [  338,    61,   101,  6637,   142,  1269,    14,     1,     0,     0],\n",
      "        [   47,   313,    27,    16,     8,  2093,     1,     0,     0,     0],\n",
      "        [   49,   453,   118,   443,    14,     1,     0,     0,     0,     0],\n",
      "        [  130,  2006,  2131,  3821,   193,  1004,   126,   102,  1005,     1],\n",
      "        [  146,   767,    21,    63,   130,    68,   126,   692,   310,     1],\n",
      "        [   63,   150,  2442,  3278,    27,     4,  1878,     1,     0,     0],\n",
      "        [   56,   130,   146,   846,     1,     0,     0,     0,     0,     0],\n",
      "        [  153,  2300,   101,   612,    76,   333,     1,     0,     0,     0],\n",
      "        [   59,  1493,   445,   115,   544,    14,     1,     0,     0,     0],\n",
      "        [   73,   478,  3399,     1,     0,     0,     0,     0,     0,     0],\n",
      "        [  569,  1533,   558,  5124,   566,   149,     1,     0,     0,     0],\n",
      "        [   63,  2920,     5,  2921,     1,     0,     0,     0,     0,     0],\n",
      "        [  747,    21,   338,  1602,   811,     1,     0,     0,     0,     0],\n",
      "        [   23,  2927,   150,  5424,   142,   126,  5711,     1,     0,     0],\n",
      "        [ 1883,    65,   115,     1,     0,     0,     0,     0,     0,     0],\n",
      "        [   47,  1357,   126,  3398,     1,     0,     0,     0,     0,     0],\n",
      "        [   63,   130,  7404,     1,     0,     0,     0,     0,     0,     0],\n",
      "        [   65,    19,    61,  2285,    14,     1,     0,     0,     0,     0],\n",
      "        [ 7020,    27,  6283,   802,     1,     0,     0,     0,     0,     0],\n",
      "        [  294,  1582,  1247,     1,     0,     0,     0,     0,     0,     0],\n",
      "        [ 1229,  1345,    68,     5,    69,  2382,     1,     0,     0,     0],\n",
      "        [   23, 16033,    68, 15257,  2415,     1,     0,     0,     0,     0],\n",
      "        [   56,  4646,    42,    63,     1,     0,     0,     0,     0,     0],\n",
      "        [   73,   233,    47,   119,     5,    52,     1,     0,     0,     0],\n",
      "        [  101,   856,    80,  1283,  6116,   601,  5612, 10562,     1,     0],\n",
      "        [ 4086,   126,  2703,     1,     0,     0,     0,     0,     0,     0],\n",
      "        [  108,    68,   552,    59,   145,    14,     1,     0,     0,     0],\n",
      "        [ 3220,    58,   126,  5412,   200,     1,     0,     0,     0,     0],\n",
      "        [   54,    73,     3,   840,   965,     1,     0,     0,     0,     0],\n",
      "        [  115,  1080,  1937,   159,     1,     0,     0,     0,     0,     0],\n",
      "        [ 6326,   588,  1528,     1,     0,     0,     0,     0,     0,     0],\n",
      "        [ 1777,   451,   589,   326,  1037,  1071,  2819,     1,     0,     0]]), tensor([[  12,  554,  117, 2162,  159,   81,   60,   63,    1,    0],\n",
      "        [  33,  196,  238,    8, 1590,    1,    0,    0,    0,    0],\n",
      "        [  60,  184,  117,   13,  563,  972,    1,    0,    0,    0],\n",
      "        [  88,  673,  227,   17,  131,  172,  878,    1,    0,    0],\n",
      "        [  27,  121, 1800,    1,    0,    0,    0,    0,    0,    0],\n",
      "        [  33,  196,  451,  270,   60,  103,  591,    1,    0,    0],\n",
      "        [  60,    7,   65, 1141,    1,    0,    0,    0,    0,    0],\n",
      "        [  27,  121,  474,   17,  157,  162, 2065,    1,    0,    0],\n",
      "        [  81,   11,   12,   16,  139,  227,   15,    1,    0,    0],\n",
      "        [  60,  382, 1640,  119,    1,    0,    0,    0,    0,    0],\n",
      "        [  33, 1557, 2647,    1,    0,    0,    0,    0,    0,    0],\n",
      "        [  33,  196,  398,   27,   78,    1,    0,    0,    0,    0],\n",
      "        [  12,  302,  117,  951,   60, 3683,    1,    0,    0,    0],\n",
      "        [ 144, 3876,  376,    1,    0,    0,    0,    0,    0,    0],\n",
      "        [  60, 1339,  184,  117,   16,   17,  162,   50,    1,    0],\n",
      "        [  99,  404,  602,  159,  141,   15,    1,    0,    0,    0],\n",
      "        [  33,  196,  237,   70, 1008,    1,    0,    0,    0,    0],\n",
      "        [  33,  133,  411,  767,    1,    0,    0,    0,    0,    0],\n",
      "        [  51,   12,  436,   60,   78,  117,  380,  126,   15,    1],\n",
      "        [  33,  310, 1620,   31,  127,   65,  289,    1,    0,    0],\n",
      "        [  60,   86,  142,  244,  237,   17,   11,  102,  828,    1],\n",
      "        [  51,   12, 3268,   15,    1,    0,    0,    0,    0,    0],\n",
      "        [ 116,  117,   12,  430,  274,  381,   15,    1,    0,    0],\n",
      "        [  12,  116,  117,  518,  839,    1,    0,    0,    0,    0],\n",
      "        [  60, 1585,  244,    8, 2815,    1,    0,    0,    0,    0],\n",
      "        [  19,  204,   83,    1,    0,    0,    0,    0,    0,    0],\n",
      "        [1370,   99, 4632,  159,    8,   95,    1,    0,    0,    0],\n",
      "        [  60,  536,   17,  162,  172, 3419,    1,    0,    0,    0],\n",
      "        [  65,  726,   51, 5657,  124,    1,    0,    0,    0,    0],\n",
      "        [  33,  116,  117,   13,  175,  574,   17, 4396,    1,    0],\n",
      "        [  60,  396,  376,   17,  162, 1503,   53,    1,    0,    0],\n",
      "        [  65,  694,  745,  584,  677,    1,    0,    0,    0,    0],\n",
      "        [  11,   12,   13,  563, 1019, 4262,   15,    1,    0,    0],\n",
      "        [  33,  282,  249, 1248,    8, 1275,    1,    0,    0,    0],\n",
      "        [ 164,  388,   11,   12,   48,   17,   11,  102,   15,    1],\n",
      "        [  33,  560,  117,   13,  320,   18,  835,   70,  324,    1],\n",
      "        [  33,  430,   60,  372,  117,   70,  592,    1,    0,    0],\n",
      "        [  60,   99,  382, 2056,   17,  162,  363,    1,    0,    0],\n",
      "        [  27,  116,  117,   16,  102,    1,    0,    0,    0,    0],\n",
      "        [  33,   16,   17, 1620,  779,  516,  127,   12,    1,    0],\n",
      "        [  81,  389,   63,   12,   56,   17,   15,    1,    0,    0],\n",
      "        [  33,  310,  162, 1264,    1,    0,    0,    0,    0,    0],\n",
      "        [  50,   37,    8,  170,   53, 2164,   30,   57,  136,    1],\n",
      "        [  60, 2096,    8, 2101,    1,    0,    0,    0,    0,    0],\n",
      "        [  33,   28,   12,  204,  256,  696,    1,    0,    0,    0],\n",
      "        [  57,  916,   99, 3615,  139,   57, 2810,    1,    0,    0],\n",
      "        [  90,   62,   12,   51,    1,    0,    0,    0,    0,    0],\n",
      "        [  33,   13,  627,    8,  786,    1,    0,    0,    0,    0],\n",
      "        [  60,  259,  117,  118,    1,    0,    0,    0,    0,    0],\n",
      "        [  62,   63,   12,  253,  349,   15,    1,    0,    0,    0],\n",
      "        [  33,  203, 7250,   17,  609,   26,  671,    1,    0,    0],\n",
      "        [  33,  196,  218, 1002,    1,    0,    0,    0,    0,    0],\n",
      "        [9139,   99,    8, 2529,   53,  154,    1,    0,    0,    0],\n",
      "        [  57, 8887, 2010,  791,    1,    0,    0,    0,    0,    0],\n",
      "        [  27,  374, 2126,  111,   60,    1,    0,    0,    0,    0],\n",
      "        [  33,   63,   12,    8,   49,    1,    0,    0,    0,    0],\n",
      "        [ 705,    7, 3317,  139,   57, 3979,    1,    0,    0,    0],\n",
      "        [ 347, 1949,    1,    0,    0,    0,    0,    0,    0,    0],\n",
      "        [  51,   12,   35,  111,  132,   15,    1,    0,    0,    0],\n",
      "        [ 123,   56,   53,   65, 3608,  183,    1,    0,    0,    0],\n",
      "        [  26,   99,  227,  102,   99,  486,    1,    0,    0,    0],\n",
      "        [  12,  121, 1467,    1,    0,    0,    0,    0,    0,    0],\n",
      "        [2017,  411,  139, 1186,    1,    0,    0,    0,    0,    0],\n",
      "        [  33,  362,  249,  779,  500,  270,   70,  146, 4227,    1]])]\n"
     ]
    }
   ],
   "source": [
    "\n",
    "# Example usage:\n",
    "batch_size = 64\n",
    "input_lang, output_lang, train_dataloader, test_dataloader, val_dataloader, test_pairs = get_dataloaders(batch_size)\n",
    "\n",
    "print(f\"Number of training batches: {len(train_dataloader)}\")\n",
    "\n",
    "#Sample a batch from the training dataloader\n",
    "print(f\"Sample Batch: { next(iter(train_dataloader))}\")"
   ]
  },
  {
   "cell_type": "markdown",
   "metadata": {},
   "source": [
    "### Training the model\n",
    "\n",
    "To train the model, we start by passing the input sentence to the encoder, which saves all its outputs and the final hidden state. Then, the decoder starts with the <SOS> token as its initial input and uses the encoder’s last hidden state as its first hidden state.\n",
    "\n",
    "We use Teacher forcing which is a technique where the true target outputs are used as each subsequent input to the decoder, rather than the decoder's own predictions. This method helps the model train faster but can lead to instability when the model is used in practice, as noted in research. This happens because the model might learn to form correct grammar and structure by following the lead given by the initial words, but it might not learn to generate the sentence independently from the input translation.\n",
    "\n",
    "PyTorch's autograd system allows us to easily integrate teacher forcing randomly in training by using an if statement to decide when to apply it. We can then adjust the teacher_forcing_ratio to control how frequently teacher forcing is used."
   ]
  },
  {
   "cell_type": "code",
   "execution_count": 51,
   "metadata": {},
   "outputs": [],
   "source": [
    "def train_epoch(dataloader, encoder, decoder, encoder_optimizer, decoder_optimizer, criterion, train=True):\n",
    "    '''\n",
    "    train_epoch function to train the encoder and decoder for one epoch\n",
    "    '''\n",
    "    #First check if we are training or evaluating\n",
    "    if train:\n",
    "        #Set the encoder and decoder to training mode\n",
    "        encoder.train()\n",
    "        decoder.train()\n",
    "    else:\n",
    "        #Set the encoder and decoder to evaluation mode\n",
    "        encoder.eval()\n",
    "        decoder.eval()\n",
    "\n",
    "    #initialize the total loss to 0\n",
    "    total_loss = 0\n",
    "    \n",
    "    #iterate over the dataloader\n",
    "    for data in dataloader:\n",
    "        \n",
    "        #Get the input and target tensors from the data\n",
    "        input_tensor, target_tensor = data\n",
    "        \n",
    "        #Zero the gradients of the encoder and decoder for each batch\n",
    "        encoder_optimizer.zero_grad()\n",
    "        decoder_optimizer.zero_grad()\n",
    "        \n",
    "        #Pass the input tensor through the encoder and get the outputs and hidden state\n",
    "        encoder_outputs, encoder_hidden = encoder(input_tensor)\n",
    "        \n",
    "        #Pass the outputs of the encoder through the decoder and get\n",
    "        decoder_outputs, hidden, attn_weights = decoder(encoder_outputs, encoder_hidden, target_tensor)\n",
    "        \n",
    "        #Calculate the loss by comparing the decoder outputs and the target tensor\n",
    "        loss = criterion(decoder_outputs.view(-1, decoder_outputs.size(-1)), target_tensor.view(-1))\n",
    "        \n",
    "        if train:\n",
    "            #If training, backpropagate the loss and update the parameters, if evaluating, only accumulate the loss\n",
    "            loss.backward()\n",
    "            encoder_optimizer.step()\n",
    "            decoder_optimizer.step()\n",
    "            \n",
    "        #Update the total loss\n",
    "        total_loss += loss.item()\n",
    "        \n",
    "    #Return the average loss for the epoch\n",
    "    return total_loss / len(dataloader)\n"
   ]
  },
  {
   "cell_type": "code",
   "execution_count": 52,
   "metadata": {},
   "outputs": [],
   "source": [
    "\n",
    "def train(train_dataloader, val_dataloader, encoder, decoder, n_epochs, learning_rate=0.001, print_every=1, log_wandb=True, save_models=True):\n",
    "    \n",
    "    #Initialize best_val_loss\n",
    "    best_val_loss = 10000\n",
    "    \n",
    "    #Initiaalize max_patience\n",
    "    max_patience = 5\n",
    "    \n",
    "    #Initialize the plot losses list\n",
    "    plot_losses = []\n",
    "\n",
    "    #Define the optimizer and the criterion\n",
    "    encoder_optimizer = optim.Adam(encoder.parameters(), lr=learning_rate)\n",
    "    decoder_optimizer = optim.Adam(decoder.parameters(), lr=learning_rate)\n",
    "    criterion = nn.NLLLoss()\n",
    "\n",
    "    #Iterate over the epochs\n",
    "    for epoch in tqdm(range(1, n_epochs + 1)):\n",
    "        #Train the model for one epoch\n",
    "        train_loss = train_epoch(train_dataloader, encoder, decoder, encoder_optimizer, decoder_optimizer, criterion, train=True)\n",
    "        \n",
    "        #Evaluate the model for one epoch\n",
    "        val_loss = train_epoch(val_dataloader, encoder, decoder, encoder_optimizer, decoder_optimizer, criterion, train=False)\n",
    "        \n",
    "        #Plot the losses\n",
    "        plot_losses.append((train_loss, val_loss))\n",
    "\n",
    "        if log_wandb:\n",
    "            #Log the losses to wandb\n",
    "            wandb.log({\"epoch\": epoch, \"train_loss\": train_loss, \"val_loss\": val_loss})\n",
    "\n",
    "        if epoch % print_every == 0:\n",
    "            #Print the losses and the time elapsed for every print_every epochs\n",
    "            print(f'Epoch: {epoch}, Train Loss: {train_loss:.4f}, Val Loss: {val_loss:.4f}')\n",
    "\n",
    "        if val_loss < best_val_loss:\n",
    "            max_patience = 5\n",
    "            if save_models:\n",
    "                #Save the encoder and decoder models if val loss improved\n",
    "                torch.save(encoder.state_dict(), f\"models/MT_encoder_epoch_{epoch}.pt\")\n",
    "                torch.save(decoder.state_dict(), f\"models/MT_decoder_epoch_{epoch}.pt\")\n",
    "                \n",
    "                #Delete models of previous epochs\n",
    "                if epoch > 1:\n",
    "                    try:\n",
    "                        os.remove(f\"models/MT_encoder_epoch_{epoch-1}.pt\")\n",
    "                        os.remove(f\"models/MT_decoder_epoch_{epoch-1}.pt\")\n",
    "                    except:\n",
    "                        pass\n",
    "                \n",
    "            best_val_loss = val_loss\n",
    "        else:\n",
    "            max_patience -= 1\n",
    "            if max_patience == 0:\n",
    "                print(f\"Early stopping at epoch {epoch} due to non improvement in validation loss\")\n",
    "                break\n",
    "            \n"
   ]
  },
  {
   "cell_type": "markdown",
   "metadata": {},
   "source": [
    "#### Finally training"
   ]
  },
  {
   "cell_type": "code",
   "execution_count": 53,
   "metadata": {},
   "outputs": [
    {
     "name": "stdout",
     "output_type": "stream",
     "text": [
      "Opening Data\n",
      "Read all the 345244 sentence pairs in the dataset\n",
      "Trimmed to 100000 sentence pairs using the trim_dataset function\n",
      "There are 17119 words in ita and 9410 words in eng\n"
     ]
    },
    {
     "name": "stderr",
     "output_type": "stream",
     "text": [
      "  2%|▏         | 1/50 [00:59<48:42, 59.65s/it]"
     ]
    },
    {
     "name": "stdout",
     "output_type": "stream",
     "text": [
      "Epoch: 1, Train Loss: 2.7616, Val Loss: 2.0648\n"
     ]
    },
    {
     "name": "stderr",
     "output_type": "stream",
     "text": [
      "  4%|▍         | 2/50 [01:59<47:59, 60.00s/it]"
     ]
    },
    {
     "name": "stdout",
     "output_type": "stream",
     "text": [
      "Epoch: 2, Train Loss: 1.7681, Val Loss: 1.5623\n"
     ]
    },
    {
     "name": "stderr",
     "output_type": "stream",
     "text": [
      "  6%|▌         | 3/50 [02:59<47:00, 60.01s/it]"
     ]
    },
    {
     "name": "stdout",
     "output_type": "stream",
     "text": [
      "Epoch: 3, Train Loss: 1.3631, Val Loss: 1.2859\n"
     ]
    },
    {
     "name": "stderr",
     "output_type": "stream",
     "text": [
      "  8%|▊         | 4/50 [03:58<45:34, 59.46s/it]"
     ]
    },
    {
     "name": "stdout",
     "output_type": "stream",
     "text": [
      "Epoch: 4, Train Loss: 1.1034, Val Loss: 1.1214\n"
     ]
    },
    {
     "name": "stderr",
     "output_type": "stream",
     "text": [
      " 10%|█         | 5/50 [04:57<44:24, 59.22s/it]"
     ]
    },
    {
     "name": "stdout",
     "output_type": "stream",
     "text": [
      "Epoch: 5, Train Loss: 0.9221, Val Loss: 1.0114\n"
     ]
    },
    {
     "name": "stderr",
     "output_type": "stream",
     "text": [
      " 12%|█▏        | 6/50 [05:56<43:28, 59.29s/it]"
     ]
    },
    {
     "name": "stdout",
     "output_type": "stream",
     "text": [
      "Epoch: 6, Train Loss: 0.7912, Val Loss: 0.9420\n"
     ]
    },
    {
     "name": "stderr",
     "output_type": "stream",
     "text": [
      " 14%|█▍        | 7/50 [06:56<42:40, 59.54s/it]"
     ]
    },
    {
     "name": "stdout",
     "output_type": "stream",
     "text": [
      "Epoch: 7, Train Loss: 0.6928, Val Loss: 0.8892\n"
     ]
    },
    {
     "name": "stderr",
     "output_type": "stream",
     "text": [
      " 16%|█▌        | 8/50 [07:57<41:49, 59.75s/it]"
     ]
    },
    {
     "name": "stdout",
     "output_type": "stream",
     "text": [
      "Epoch: 8, Train Loss: 0.6165, Val Loss: 0.8542\n"
     ]
    },
    {
     "name": "stderr",
     "output_type": "stream",
     "text": [
      " 18%|█▊        | 9/50 [08:56<40:49, 59.74s/it]"
     ]
    },
    {
     "name": "stdout",
     "output_type": "stream",
     "text": [
      "Epoch: 9, Train Loss: 0.5533, Val Loss: 0.8254\n"
     ]
    },
    {
     "name": "stderr",
     "output_type": "stream",
     "text": [
      " 20%|██        | 10/50 [09:58<40:18, 60.47s/it]"
     ]
    },
    {
     "name": "stdout",
     "output_type": "stream",
     "text": [
      "Epoch: 10, Train Loss: 0.5030, Val Loss: 0.8075\n"
     ]
    },
    {
     "name": "stderr",
     "output_type": "stream",
     "text": [
      " 22%|██▏       | 11/50 [10:59<39:21, 60.56s/it]"
     ]
    },
    {
     "name": "stdout",
     "output_type": "stream",
     "text": [
      "Epoch: 11, Train Loss: 0.4614, Val Loss: 0.7918\n"
     ]
    },
    {
     "name": "stderr",
     "output_type": "stream",
     "text": [
      " 24%|██▍       | 12/50 [12:00<38:22, 60.60s/it]"
     ]
    },
    {
     "name": "stdout",
     "output_type": "stream",
     "text": [
      "Epoch: 12, Train Loss: 0.4261, Val Loss: 0.7796\n"
     ]
    },
    {
     "name": "stderr",
     "output_type": "stream",
     "text": [
      " 26%|██▌       | 13/50 [13:01<37:24, 60.66s/it]"
     ]
    },
    {
     "name": "stdout",
     "output_type": "stream",
     "text": [
      "Epoch: 13, Train Loss: 0.3964, Val Loss: 0.7711\n"
     ]
    },
    {
     "name": "stderr",
     "output_type": "stream",
     "text": [
      " 28%|██▊       | 14/50 [14:01<36:17, 60.49s/it]"
     ]
    },
    {
     "name": "stdout",
     "output_type": "stream",
     "text": [
      "Epoch: 14, Train Loss: 0.3694, Val Loss: 0.7682\n"
     ]
    },
    {
     "name": "stderr",
     "output_type": "stream",
     "text": [
      " 30%|███       | 15/50 [15:02<35:26, 60.77s/it]"
     ]
    },
    {
     "name": "stdout",
     "output_type": "stream",
     "text": [
      "Epoch: 15, Train Loss: 0.3474, Val Loss: 0.7646\n"
     ]
    },
    {
     "name": "stderr",
     "output_type": "stream",
     "text": [
      " 32%|███▏      | 16/50 [16:02<34:21, 60.65s/it]"
     ]
    },
    {
     "name": "stdout",
     "output_type": "stream",
     "text": [
      "Epoch: 16, Train Loss: 0.3270, Val Loss: 0.7579\n"
     ]
    },
    {
     "name": "stderr",
     "output_type": "stream",
     "text": [
      " 34%|███▍      | 17/50 [17:02<33:08, 60.26s/it]"
     ]
    },
    {
     "name": "stdout",
     "output_type": "stream",
     "text": [
      "Epoch: 17, Train Loss: 0.3099, Val Loss: 0.7550\n"
     ]
    },
    {
     "name": "stderr",
     "output_type": "stream",
     "text": [
      " 36%|███▌      | 18/50 [18:04<32:24, 60.76s/it]"
     ]
    },
    {
     "name": "stdout",
     "output_type": "stream",
     "text": [
      "Epoch: 18, Train Loss: 0.2949, Val Loss: 0.7541\n"
     ]
    },
    {
     "name": "stderr",
     "output_type": "stream",
     "text": [
      " 38%|███▊      | 19/50 [19:06<31:40, 61.30s/it]"
     ]
    },
    {
     "name": "stdout",
     "output_type": "stream",
     "text": [
      "Epoch: 19, Train Loss: 0.2799, Val Loss: 0.7553\n"
     ]
    },
    {
     "name": "stderr",
     "output_type": "stream",
     "text": [
      " 40%|████      | 20/50 [20:07<30:32, 61.09s/it]"
     ]
    },
    {
     "name": "stdout",
     "output_type": "stream",
     "text": [
      "Epoch: 20, Train Loss: 0.2671, Val Loss: 0.7544\n"
     ]
    },
    {
     "name": "stderr",
     "output_type": "stream",
     "text": [
      " 42%|████▏     | 21/50 [21:07<29:26, 60.91s/it]"
     ]
    },
    {
     "name": "stdout",
     "output_type": "stream",
     "text": [
      "Epoch: 21, Train Loss: 0.2559, Val Loss: 0.7541\n"
     ]
    },
    {
     "name": "stderr",
     "output_type": "stream",
     "text": [
      " 44%|████▍     | 22/50 [22:07<28:13, 60.47s/it]"
     ]
    },
    {
     "name": "stdout",
     "output_type": "stream",
     "text": [
      "Epoch: 22, Train Loss: 0.2449, Val Loss: 0.7583\n"
     ]
    },
    {
     "name": "stderr",
     "output_type": "stream",
     "text": [
      " 44%|████▍     | 22/50 [23:07<29:25, 63.06s/it]"
     ]
    },
    {
     "name": "stdout",
     "output_type": "stream",
     "text": [
      "Epoch: 23, Train Loss: 0.2359, Val Loss: 0.7565\n",
      "Early stopping at epoch 23 due to non improvement in validation loss\n"
     ]
    },
    {
     "name": "stderr",
     "output_type": "stream",
     "text": [
      "\n"
     ]
    }
   ],
   "source": [
    "# Train the model\n",
    "\n",
    "hidden_size = 128\n",
    "batch_size = 64\n",
    "\n",
    "input_lang, output_lang, train_dataloader, test_dataloader, val_dataloader, test_pairs = get_dataloaders(batch_size)\n",
    "\n",
    "encoder = EncoderRNN(input_lang.n_words, hidden_size).to(device)\n",
    "decoder = AttnDecoderRNN(hidden_size, output_lang.n_words).to(device)\n",
    "\n",
    "train(train_dataloader, val_dataloader, encoder, decoder, n_epochs=50, learning_rate=0.001, log_wandb=True, save_models=True)\n"
   ]
  },
  {
   "cell_type": "markdown",
   "metadata": {},
   "source": [
    "## Evaluation"
   ]
  },
  {
   "cell_type": "markdown",
   "metadata": {},
   "source": [
    "Load Latest Models"
   ]
  },
  {
   "cell_type": "code",
   "execution_count": 61,
   "metadata": {},
   "outputs": [
    {
     "name": "stdout",
     "output_type": "stream",
     "text": [
      "Loaded models: MT_encoder_epoch_18.pt and MT_decoder_epoch_18.pt\n"
     ]
    }
   ],
   "source": [
    "# Assuming 'models' directory only contains a single encoder and decoder file\n",
    "model_files = os.listdir('models')\n",
    "\n",
    "# Get encoder and decoder file paths\n",
    "encoder_file = next(f for f in model_files if \"encoder\" in f)\n",
    "decoder_file = next(f for f in model_files if \"decoder\" in f)\n",
    "\n",
    "encoder_path = os.path.join('models', encoder_file)\n",
    "decoder_path = os.path.join('models', decoder_file)\n",
    "\n",
    "# Instantiate the models\n",
    "encoder = EncoderRNN(input_lang.n_words, hidden_size).to(device)\n",
    "decoder = AttnDecoderRNN(hidden_size, output_lang.n_words).to(device)\n",
    "\n",
    "# Load the model weights\n",
    "encoder.load_state_dict(torch.load(encoder_path, map_location=device))\n",
    "decoder.load_state_dict(torch.load(decoder_path, map_location=device))\n",
    "\n",
    "# Set the models to evaluation mode\n",
    "encoder.eval()\n",
    "decoder.eval()\n",
    "\n",
    "# Print out the loaded model file names\n",
    "print(f\"Loaded models: {encoder_file} and {decoder_file}\")\n"
   ]
  },
  {
   "cell_type": "markdown",
   "metadata": {},
   "source": [
    "#### Qualitative Evaluation function\n"
   ]
  },
  {
   "cell_type": "code",
   "execution_count": 62,
   "metadata": {},
   "outputs": [],
   "source": [
    "def evaluate(encoder, decoder, sentence, input_lang, output_lang):\n",
    "    with torch.no_grad():\n",
    "        input_tensor = sentence_to_tensor(input_lang, sentence)\n",
    "\n",
    "        encoder_outputs, encoder_hidden = encoder(input_tensor)\n",
    "        decoder_outputs, decoder_hidden, decoder_attn = decoder(encoder_outputs, encoder_hidden)\n",
    "\n",
    "        _, topi = decoder_outputs.topk(1)\n",
    "        decoded_ids = topi.squeeze()\n",
    "\n",
    "        decoded_words = []\n",
    "        for idx in decoded_ids:\n",
    "            if idx.item() == EOS_token:\n",
    "                decoded_words.append('<EOS>')\n",
    "                break\n",
    "            decoded_words.append(output_lang.index2word[idx.item()])\n",
    "    return decoded_words, decoder_attn"
   ]
  },
  {
   "cell_type": "markdown",
   "metadata": {},
   "source": [
    "##### Attention visualization\n",
    "\n",
    "One nice thing about attention is that it is highly interpretable in its\n",
    "outputs. Because it is used to weight specific encoder outputs of the\n",
    "input sequence, we can look where the network is focused most\n",
    "at each time step."
   ]
  },
  {
   "cell_type": "code",
   "execution_count": 63,
   "metadata": {},
   "outputs": [],
   "source": [
    "\n",
    "# Ignore specific matplotlib warnings because they're crap honestly\n",
    "warnings.filterwarnings(\"ignore\", category=UserWarning)\n",
    "\n",
    "\n",
    "\n",
    "def showAttention(input_sentence, output_words, attentions):\n",
    "    fig = plt.figure(figsize=(10, 10))\n",
    "    ax = fig.add_subplot(111)\n",
    "    cax = ax.matshow(attentions.cpu().numpy())#, cmap='')\n",
    "    fig.colorbar(cax)\n",
    "\n",
    "    # Set up axes\n",
    "    ax.set_xticklabels([''] + input_sentence.split(' ') +['<EOS>'], rotation=90)\n",
    "    ax.set_yticklabels([''] + output_words)\n",
    "\n",
    "    # Show label at every tick\n",
    "    ax.xaxis.set_major_locator(ticker.MultipleLocator(1))\n",
    "    ax.yaxis.set_major_locator(ticker.MultipleLocator(1))\n",
    "\n",
    "    #Log figure to wandb\n",
    "    plt.savefig(f'plots/attention_{input_sentence}.png')\n",
    "    wandb.log({\"attention\": wandb.Image(f'plots/attention_{input_sentence}.png')})\n",
    "\n",
    "def evaluateAndShowAttention(input_sentence):\n",
    "    output_words, attentions = evaluate(encoder, decoder, input_sentence, input_lang, output_lang)\n",
    "    showAttention(input_sentence, output_words, attentions[0, :len(output_words), :])\n",
    "\n",
    "\n"
   ]
  },
  {
   "cell_type": "markdown",
   "metadata": {},
   "source": [
    "##### Random Evaluation\n",
    "\n",
    "We can evaluate random sentences from the test set and print out the\n",
    "input, target, and output to make some subjective quality evaluations.\n"
   ]
  },
  {
   "cell_type": "code",
   "execution_count": 64,
   "metadata": {
    "collapsed": false
   },
   "outputs": [
    {
     "name": "stdout",
     "output_type": "stream",
     "text": [
      "input: hai dato il bacio dell addio a tom ?\n",
      "ground truth:  did you kiss tom goodbye ?\n",
      "predicted:  did you feed tom during the office ? <EOS>\n",
      "\n",
      "input: hai vissuto qua per molto tempo ?\n",
      "ground truth:  have you lived here a long time ?\n",
      "predicted:  have you lived here a long time ? <EOS>\n",
      "\n",
      "input: che cosa fara tom senza mary ?\n",
      "ground truth:  what ll tom do without mary ?\n",
      "predicted:  what will tom be without mary ? <EOS>\n",
      "\n",
      "input: sono aperti lunedi ?\n",
      "ground truth:  are they open on monday ?\n",
      "predicted:  are there any lunch on monday ? <EOS>\n",
      "\n",
      "input: tom disse che era buono\n",
      "ground truth:  tom said you were good\n",
      "predicted:  tom said that he was good <EOS>\n",
      "\n",
      "input: prendero quelle\n",
      "ground truth:  i ll take those\n",
      "predicted:  i ll take those those people <EOS>\n",
      "\n",
      "input: lei e andato a londra quel giorno ?\n",
      "ground truth:  did you go to london that day ?\n",
      "predicted:  did you go to london that day ? <EOS>\n",
      "\n",
      "input: tom vuole farlo con mary\n",
      "ground truth:  tom wants to do that with mary\n",
      "predicted:  tom wants to do that with mary too <EOS>\n",
      "\n",
      "input: ero troppo basso\n",
      "ground truth:  i was too small\n",
      "predicted:  i was too short <EOS>\n",
      "\n",
      "input: tu stai facendo delle foto ?\n",
      "ground truth:  are you taking pictures ?\n",
      "predicted:  are you making the picture of the girl ? <EOS>\n",
      "\n"
     ]
    },
    {
     "data": {
      "image/png": "[encoded data removed]",
      "text/plain": [
       "<Figure size 1000x1000 with 2 Axes>"
      ]
     },
     "metadata": {},
     "output_type": "display_data"
    },
    {
     "data": {
      "image/png": "[encoded data removed]",
      "text/plain": [
       "<Figure size 1000x1000 with 2 Axes>"
      ]
     },
     "metadata": {},
     "output_type": "display_data"
    },
    {
     "data": {
      "image/png": "[encoded data removed]",
      "text/plain": [
       "<Figure size 1000x1000 with 2 Axes>"
      ]
     },
     "metadata": {},
     "output_type": "display_data"
    },
    {
     "data": {
      "image/png": "[encoded data removed]",
      "text/plain": [
       "<Figure size 1000x1000 with 2 Axes>"
      ]
     },
     "metadata": {},
     "output_type": "display_data"
    },
    {
     "data": {
      "image/png": "[encoded data removed]",
      "text/plain": [
       "<Figure size 1000x1000 with 2 Axes>"
      ]
     },
     "metadata": {},
     "output_type": "display_data"
    },
    {
     "data": {
      "image/png": "[encoded data removed]",
      "text/plain": [
       "<Figure size 1000x1000 with 2 Axes>"
      ]
     },
     "metadata": {},
     "output_type": "display_data"
    },
    {
     "data": {
      "image/png": "[encoded data removed]",
      "text/plain": [
       "<Figure size 1000x1000 with 2 Axes>"
      ]
     },
     "metadata": {},
     "output_type": "display_data"
    },
    {
     "data": {
      "image/png": "[encoded data removed]",
      "text/plain": [
       "<Figure size 1000x1000 with 2 Axes>"
      ]
     },
     "metadata": {},
     "output_type": "display_data"
    },
    {
     "data": {
      "image/png": "[encoded data removed]",
      "text/plain": [
       "<Figure size 1000x1000 with 2 Axes>"
      ]
     },
     "metadata": {},
     "output_type": "display_data"
    },
    {
     "data": {
      "image/png": "[encoded data removed]",
      "text/plain": [
       "<Figure size 1000x1000 with 2 Axes>"
      ]
     },
     "metadata": {},
     "output_type": "display_data"
    }
   ],
   "source": [
    "def evaluateRandomly(encoder, decoder, test_pairs, n=10):\n",
    "    for i in range(n):\n",
    "        pair = random.choice(test_pairs) #pair = [input_sentence, target_sentence]\n",
    "        print('input:', pair[0])\n",
    "        print('ground truth: ', pair[1])\n",
    "        output_words, _ = evaluate(encoder, decoder, pair[0], input_lang, output_lang)\n",
    "        output_sentence = ' '.join(output_words)\n",
    "        evaluateAndShowAttention(pair[0])\n",
    "        print('predicted: ', output_sentence)\n",
    "        print('')\n",
    "        \n",
    "\n",
    "evaluateRandomly(encoder, decoder, test_pairs, n=10)"
   ]
  },
  {
   "cell_type": "markdown",
   "metadata": {},
   "source": [
    "#### Quantitative Evaluation function\n",
    "\n",
    "We will be using BLEU score to evaluate the model, these are very common metrics used in machine translation tasks.\n",
    "Basically, BLEU is a score that measures how close the generated text is to the reference text, it is a score between 0 and 1, the closer to 1 the better."
   ]
  },
  {
   "cell_type": "markdown",
   "metadata": {},
   "source": [
    "##### BLEU Score"
   ]
  },
  {
   "cell_type": "code",
   "execution_count": 65,
   "metadata": {},
   "outputs": [
    {
     "name": "stdout",
     "output_type": "stream",
     "text": [
      "Average BLEU score: 0.2778 BLEU standard deviation: 0.3273\n"
     ]
    }
   ],
   "source": [
    "# The BLEU (Bilingual Evaluation Understudy) score provides a quantitative means to measure the quality of machine-generated text compared to that of a human. Here, we calculate and print the BLEU score for our translations to provide a numerical evaluation metric.\n",
    "\n",
    "def calculate_bleu(data_pairs):\n",
    "    scores = []\n",
    "    for pair in data_pairs:\n",
    "        reference = pair[1].split()\n",
    "        candidate = evaluate(encoder, decoder, pair[0], input_lang, output_lang)[0]\n",
    "        score = sentence_bleu([reference], candidate)#, weights=(0.25, 0.25, 0.25, 0.25))\n",
    "        scores.append(score)\n",
    "    return  np.mean(scores), np.std(scores)#sum(scores) / len(scores),\n",
    "\n",
    "# Calculate BLEU score on a subset of test pairs\n",
    "avg_bleu, std_bleu = calculate_bleu(test_pairs)  # Calculate on 100 pairs for brevity\n",
    "print(f'Average BLEU score: {avg_bleu:.4f} BLEU standard deviation: {std_bleu:.4f}')\n",
    "wandb.log({\"Average BLEU Score\": avg_bleu, \"BLEU Standard Deviation\": std_bleu})"
   ]
  },
  {
   "cell_type": "markdown",
   "metadata": {},
   "source": [
    "## FINAL CONCLUSIONS\n"
   ]
  },
  {
   "cell_type": "markdown",
   "metadata": {},
   "source": [
    "In this notebook we developed a seq2seq model with attention mechanism for machine translation from Italian to English. We trained the model on a dataset of Italian to English translations and evaluated the model using qualitative and quantitative evaluation methods. The model achieved a BLEU score of 0.3 on the test set, which is a good score for a machine translation model. The attention mechanism helped the model to focus on different parts of the input sequence and generate accurate translations. The model can be further improved by using a larger dataset, tuning hyperparameters, and using more advanced architectures like transformers."
   ]
  }
 ],
 "metadata": {
  "kernelspec": {
   "display_name": "Python 3",
   "language": "python",
   "name": "python3"
  },
  "language_info": {
   "codemirror_mode": {
    "name": "ipython",
    "version": 3
   },
   "file_extension": ".py",
   "mimetype": "text/x-python",
   "name": "python",
   "nbconvert_exporter": "python",
   "pygments_lexer": "ipython3",
   "version": "3.11.5"
  }
 },
 "nbformat": 4,
 "nbformat_minor": 0
}
