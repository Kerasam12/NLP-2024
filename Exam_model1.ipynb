{
 "cells": [
  {
   "cell_type": "markdown",
   "metadata": {},
   "source": [
    "# **MOCK EXAM**"
   ]
  },
  {
   "cell_type": "markdown",
   "metadata": {},
   "source": [
    "# Mock Exam for NLP\n",
    "\n",
    "## Part 1: Text Preprocessing and Exploration\n",
    "*Using \"Alice’s Adventures in Wonderland\"*\n",
    "\n",
    "**Task 1: Tokenization**\n",
    "- Tokenize the text into words and sentences.\n",
    "\n",
    "**Task 2: Text Cleaning**\n",
    "- Remove special characters and punctuation; convert to lowercase.\n",
    "\n",
    "**Task 3: Stopword Removal**\n",
    "- Eliminate stopwords using NLTK's predefined list.\n",
    "\n",
    "## Part 2: Text Analysis and Linguistic Features\n",
    "*Using \"The Adventures of Sherlock Holmes\"*\n",
    "\n",
    "**Task 4: Frequency Analysis**\n",
    "- Calculate the frequency distribution of words; identify top 10 words.\n",
    "\n",
    "**Task 5: Lexical Diversity**\n",
    "- Measure the diversity of the text's vocabulary.\n",
    "\n",
    "**Task 6: Collocations and N-grams**\n",
    "- Find significant collocations; generate bigrams and trigrams.\n",
    "\n",
    "## Part 3: Contextual Understanding and Visualization\n",
    "*Using \"Moby Dick\"*\n",
    "\n",
    "**Task 7: Concordance Analysis**\n",
    "- Use concordance to study \"whale\" in its textual context.\n",
    "\n",
    "**Task 8: Similar Words and Common Contexts**\n",
    "- Find words with similar usage to \"ship\" and explore common contexts between \"whale\" and \"sea\".\n",
    "\n",
    "**Task 9: Dispersion Plots**\n",
    "- Visualize the occurrences of key maritime-related words throughout the text.\n",
    "\n",
    "## Part 4: Advanced Text Processing Techniques\n",
    "*Using a Sample Web Text such as \"Firefox.txt\"*\n",
    "\n",
    "**Task 10: Stemming and Lemmatization**\n",
    "- Compare the effects of these techniques on the text.\n",
    "\n",
    "**Task 11: Part-of-Speech Tagging**\n",
    "- Automatically tag words with their parts of speech.\n",
    "\n",
    "**Task 12: Named Entity Recognition**\n",
    "- Identify and categorize named entities using SpaCy.\n",
    "\n",
    "## Part 5: Word Embeddings and Sentence Similarity\n",
    "*Using SpaCy's \"en_core_web_md\" Model*\n",
    "\n",
    "**Task 13: Exploring Word Vectors**\n",
    "- Examine the vector representation of \"queen\" and \"king\".\n",
    "\n",
    "**Task 14: Sentence Similarity**\n",
    "- Compute the similarity between \"I have a pet.\" and \"Dogs are animals.\"\n",
    "\n",
    "## Part 6: Machine Learning for NLP\n",
    "*Using the SA Dataset for Sentiment Analysis*\n",
    "\n",
    "**Task 15: Text Classification**\n",
    "- Prepare data, train a model to classify positive and negative sentiments.\n",
    "\n",
    "**Task 16: Model Evaluation**\n",
    "- Use metrics such as accuracy, precision, recall, and F1-score to evaluate the model.\n",
    "\n",
    "## Part 7: Text Generation with LSTM\n",
    "*Using articles from the `text_generation_dataset` folder*\n",
    "\n",
    "**Task 17: Data Preparation**\n",
    "- Load the text data and preprocess it for the LSTM model.\n",
    "- This involves tokenization and encoding the text into sequences.\n",
    "\n",
    "**Task 18: Building the LSTM Model**\n",
    "- Define and compile a simple LSTM model to predict the next character in a sequence.\n",
    "\n",
    "**Task 19: Model Training**\n",
    "- Train the LSTM model on the preprocessed text data.\n",
    "\n",
    "**Task 20: Text Generation**\n",
    "- Use the trained model to generate text.\n"
   ]
  },
  {
   "cell_type": "markdown",
   "metadata": {},
   "source": [
    "## Data Loading and needed installations"
   ]
  },
  {
   "cell_type": "code",
   "execution_count": 1,
   "metadata": {},
   "outputs": [
    {
     "name": "stderr",
     "output_type": "stream",
     "text": [
      "[nltk_data] Downloading collection 'book'\n",
      "[nltk_data]    | \n",
      "[nltk_data]    | Downloading package abc to\n",
      "[nltk_data]    |     /hhome/nlp2_g09/nltk_data...\n",
      "[nltk_data]    |   Package abc is already up-to-date!\n",
      "[nltk_data]    | Downloading package brown to\n",
      "[nltk_data]    |     /hhome/nlp2_g09/nltk_data...\n",
      "[nltk_data]    |   Package brown is already up-to-date!\n",
      "[nltk_data]    | Downloading package chat80 to\n",
      "[nltk_data]    |     /hhome/nlp2_g09/nltk_data...\n",
      "[nltk_data]    |   Package chat80 is already up-to-date!\n",
      "[nltk_data]    | Downloading package cmudict to\n",
      "[nltk_data]    |     /hhome/nlp2_g09/nltk_data...\n",
      "[nltk_data]    |   Package cmudict is already up-to-date!\n",
      "[nltk_data]    | Downloading package conll2000 to\n",
      "[nltk_data]    |     /hhome/nlp2_g09/nltk_data...\n",
      "[nltk_data]    |   Package conll2000 is already up-to-date!\n",
      "[nltk_data]    | Downloading package conll2002 to\n",
      "[nltk_data]    |     /hhome/nlp2_g09/nltk_data...\n",
      "[nltk_data]    |   Package conll2002 is already up-to-date!\n",
      "[nltk_data]    | Downloading package dependency_treebank to\n",
      "[nltk_data]    |     /hhome/nlp2_g09/nltk_data...\n",
      "[nltk_data]    |   Package dependency_treebank is already up-to-date!\n",
      "[nltk_data]    | Downloading package genesis to\n",
      "[nltk_data]    |     /hhome/nlp2_g09/nltk_data...\n",
      "[nltk_data]    |   Package genesis is already up-to-date!\n",
      "[nltk_data]    | Downloading package gutenberg to\n",
      "[nltk_data]    |     /hhome/nlp2_g09/nltk_data...\n",
      "[nltk_data]    |   Package gutenberg is already up-to-date!\n",
      "[nltk_data]    | Downloading package ieer to\n",
      "[nltk_data]    |     /hhome/nlp2_g09/nltk_data...\n",
      "[nltk_data]    |   Package ieer is already up-to-date!\n",
      "[nltk_data]    | Downloading package inaugural to\n",
      "[nltk_data]    |     /hhome/nlp2_g09/nltk_data...\n",
      "[nltk_data]    |   Package inaugural is already up-to-date!\n",
      "[nltk_data]    | Downloading package movie_reviews to\n",
      "[nltk_data]    |     /hhome/nlp2_g09/nltk_data...\n",
      "[nltk_data]    |   Package movie_reviews is already up-to-date!\n",
      "[nltk_data]    | Downloading package nps_chat to\n",
      "[nltk_data]    |     /hhome/nlp2_g09/nltk_data...\n",
      "[nltk_data]    |   Package nps_chat is already up-to-date!\n",
      "[nltk_data]    | Downloading package names to\n",
      "[nltk_data]    |     /hhome/nlp2_g09/nltk_data...\n",
      "[nltk_data]    |   Package names is already up-to-date!\n",
      "[nltk_data]    | Downloading package ppattach to\n",
      "[nltk_data]    |     /hhome/nlp2_g09/nltk_data...\n",
      "[nltk_data]    |   Package ppattach is already up-to-date!\n",
      "[nltk_data]    | Downloading package reuters to\n",
      "[nltk_data]    |     /hhome/nlp2_g09/nltk_data...\n",
      "[nltk_data]    |   Package reuters is already up-to-date!\n",
      "[nltk_data]    | Downloading package senseval to\n",
      "[nltk_data]    |     /hhome/nlp2_g09/nltk_data...\n",
      "[nltk_data]    |   Package senseval is already up-to-date!\n",
      "[nltk_data]    | Downloading package state_union to\n",
      "[nltk_data]    |     /hhome/nlp2_g09/nltk_data...\n",
      "[nltk_data]    |   Package state_union is already up-to-date!\n",
      "[nltk_data]    | Downloading package stopwords to\n",
      "[nltk_data]    |     /hhome/nlp2_g09/nltk_data...\n",
      "[nltk_data]    |   Package stopwords is already up-to-date!\n",
      "[nltk_data]    | Downloading package swadesh to\n",
      "[nltk_data]    |     /hhome/nlp2_g09/nltk_data...\n",
      "[nltk_data]    |   Package swadesh is already up-to-date!\n",
      "[nltk_data]    | Downloading package timit to\n",
      "[nltk_data]    |     /hhome/nlp2_g09/nltk_data...\n",
      "[nltk_data]    |   Package timit is already up-to-date!\n",
      "[nltk_data]    | Downloading package treebank to\n",
      "[nltk_data]    |     /hhome/nlp2_g09/nltk_data...\n",
      "[nltk_data]    |   Package treebank is already up-to-date!\n",
      "[nltk_data]    | Downloading package toolbox to\n",
      "[nltk_data]    |     /hhome/nlp2_g09/nltk_data...\n",
      "[nltk_data]    |   Package toolbox is already up-to-date!\n",
      "[nltk_data]    | Downloading package udhr to\n",
      "[nltk_data]    |     /hhome/nlp2_g09/nltk_data...\n",
      "[nltk_data]    |   Package udhr is already up-to-date!\n",
      "[nltk_data]    | Downloading package udhr2 to\n",
      "[nltk_data]    |     /hhome/nlp2_g09/nltk_data...\n",
      "[nltk_data]    |   Package udhr2 is already up-to-date!\n",
      "[nltk_data]    | Downloading package unicode_samples to\n",
      "[nltk_data]    |     /hhome/nlp2_g09/nltk_data...\n",
      "[nltk_data]    |   Package unicode_samples is already up-to-date!\n",
      "[nltk_data]    | Downloading package webtext to\n",
      "[nltk_data]    |     /hhome/nlp2_g09/nltk_data...\n",
      "[nltk_data]    |   Package webtext is already up-to-date!\n",
      "[nltk_data]    | Downloading package wordnet to\n",
      "[nltk_data]    |     /hhome/nlp2_g09/nltk_data...\n",
      "[nltk_data]    |   Package wordnet is already up-to-date!\n",
      "[nltk_data]    | Downloading package wordnet_ic to\n",
      "[nltk_data]    |     /hhome/nlp2_g09/nltk_data...\n",
      "[nltk_data]    |   Package wordnet_ic is already up-to-date!\n",
      "[nltk_data]    | Downloading package words to\n",
      "[nltk_data]    |     /hhome/nlp2_g09/nltk_data...\n",
      "[nltk_data]    |   Package words is already up-to-date!\n",
      "[nltk_data]    | Downloading package maxent_treebank_pos_tagger to\n",
      "[nltk_data]    |     /hhome/nlp2_g09/nltk_data...\n",
      "[nltk_data]    |   Package maxent_treebank_pos_tagger is already up-\n",
      "[nltk_data]    |       to-date!\n",
      "[nltk_data]    | Downloading package maxent_ne_chunker to\n",
      "[nltk_data]    |     /hhome/nlp2_g09/nltk_data...\n",
      "[nltk_data]    |   Package maxent_ne_chunker is already up-to-date!\n",
      "[nltk_data]    | Downloading package universal_tagset to\n",
      "[nltk_data]    |     /hhome/nlp2_g09/nltk_data...\n",
      "[nltk_data]    |   Package universal_tagset is already up-to-date!\n",
      "[nltk_data]    | Downloading package punkt to\n",
      "[nltk_data]    |     /hhome/nlp2_g09/nltk_data...\n",
      "[nltk_data]    |   Package punkt is already up-to-date!\n",
      "[nltk_data]    | Downloading package book_grammars to\n",
      "[nltk_data]    |     /hhome/nlp2_g09/nltk_data...\n",
      "[nltk_data]    |   Package book_grammars is already up-to-date!\n",
      "[nltk_data]    | Downloading package city_database to\n",
      "[nltk_data]    |     /hhome/nlp2_g09/nltk_data...\n",
      "[nltk_data]    |   Package city_database is already up-to-date!\n",
      "[nltk_data]    | Downloading package tagsets to\n",
      "[nltk_data]    |     /hhome/nlp2_g09/nltk_data...\n",
      "[nltk_data]    |   Package tagsets is already up-to-date!\n",
      "[nltk_data]    | Downloading package panlex_swadesh to\n",
      "[nltk_data]    |     /hhome/nlp2_g09/nltk_data...\n",
      "[nltk_data]    |   Package panlex_swadesh is already up-to-date!\n",
      "[nltk_data]    | Downloading package averaged_perceptron_tagger to\n",
      "[nltk_data]    |     /hhome/nlp2_g09/nltk_data...\n",
      "[nltk_data]    |   Package averaged_perceptron_tagger is already up-\n",
      "[nltk_data]    |       to-date!\n",
      "[nltk_data]    | \n",
      "[nltk_data]  Done downloading collection book\n",
      "[nltk_data] Downloading package punkt to /hhome/nlp2_g09/nltk_data...\n",
      "[nltk_data]   Package punkt is already up-to-date!\n",
      "[nltk_data] Downloading package stopwords to\n",
      "[nltk_data]     /hhome/nlp2_g09/nltk_data...\n",
      "[nltk_data]   Package stopwords is already up-to-date!\n",
      "[nltk_data] Downloading package inaugural to\n",
      "[nltk_data]     /hhome/nlp2_g09/nltk_data...\n",
      "[nltk_data]   Package inaugural is already up-to-date!\n",
      "[nltk_data] Downloading package treebank to\n",
      "[nltk_data]     /hhome/nlp2_g09/nltk_data...\n",
      "[nltk_data]   Package treebank is already up-to-date!\n"
     ]
    }
   ],
   "source": [
    "import nltk\n",
    "from nltk.corpus import webtext\n",
    "import os\n",
    "import torch\n",
    "import torch.nn as nn\n",
    "import torch.optim as optim\n",
    "import torch.nn.functional as F\n",
    "import numpy as np\n",
    "import matplotlib.pyplot as plt\n",
    "import random\n",
    "import time\n",
    "import math \n",
    "import string\n",
    "import re\n",
    "import unicodedata\n",
    "from collections import Counter\n",
    "\n",
    "#!spacy download en_core_web_md\n",
    "\n",
    "\n",
    "nltk.download('book')\n",
    "nltk.download('punkt')\n",
    "nltk.download('stopwords')\n",
    "nltk.download('inaugural')\n",
    "nltk.download('treebank')\n",
    "\n",
    "\n",
    "firefox_text = webtext.raw('firefox.txt')\n",
    "firefox_tokens = nltk.word_tokenize(firefox_text)"
   ]
  },
  {
   "cell_type": "markdown",
   "metadata": {},
   "source": [
    "### Load data"
   ]
  },
  {
   "cell_type": "code",
   "execution_count": 2,
   "metadata": {},
   "outputs": [
    {
     "name": "stdout",
     "output_type": "stream",
     "text": [
      "Firefox text: 564601 characters\n",
      "Alice text: 163815 characters\n",
      "Sherlock Holmes text: 580632 characters\n",
      "Moby dick text: 1238254 characters\n",
      "Firefox text: 564601 characters\n",
      "Alexa reviews: 3151 lines\n",
      "SA dataset: 5000 rows\n",
      "Text generation dataset: 9 articles\n"
     ]
    }
   ],
   "source": [
    "\n",
    "# \"Alice’s Adventures in Wonderland\"\n",
    "with open('./exam_data/alice.txt', 'r', encoding='utf-8') as file:\n",
    "    alice_text = file.read()\n",
    "\n",
    "# \"The Adventures of Sherlock Holmes\"\n",
    "with open('./exam_data/Adventures_Holmes.txt', 'r', encoding='utf-8') as file:\n",
    "    holmes_text = file.read()\n",
    "\n",
    "# \"moby_dick\"\n",
    "with open('./exam_data/moby_dick.txt', 'r', encoding='utf-8') as file:\n",
    "    moby_dick_text = file.read()\n",
    "    \n",
    "#Firefox.txt\n",
    "firefox_text = webtext.raw('firefox.txt')\n",
    "\n",
    "    \n",
    "# Alexa Reviews\n",
    "with open('./exam_data/alexa_reviews.tsv', 'r', encoding='utf-8') as file:\n",
    "    alexa_reviews = file.readlines()\n",
    "\n",
    "# SA (Sentiment Analysis) Dataset\n",
    "import pandas as pd\n",
    "sa_dataset = pd.read_csv('./exam_data/SA_dataset.csv', delimiter=',')\n",
    "\n",
    "# Text Generation Dataset\n",
    "text_generation_dataset = []\n",
    "text_generation_dataset_path = \"./exam_data/text_generation_dataset/\"\n",
    "\n",
    "# Ensure the directory exists\n",
    "if os.path.exists(text_generation_dataset_path):\n",
    "    # Iterate over each file in the directory\n",
    "    for article_filename in os.listdir(text_generation_dataset_path):\n",
    "        # Construct the full file path\n",
    "        article_path = os.path.join(text_generation_dataset_path, article_filename)\n",
    "        # Check if it's a file and not a directory\n",
    "        if os.path.isfile(article_path):\n",
    "            # Open and read the contents of the file\n",
    "            try:\n",
    "                with open(article_path, 'r', encoding='utf-8') as file:\n",
    "                    articles_text = file.read()\n",
    "                    text_generation_dataset.append(articles_text)\n",
    "            except Exception as e:\n",
    "                print(f\"Error reading {article_path}: {e}\")\n",
    "\n",
    "#Print info of the datasets just to check if they are loaded correctly\n",
    "print(f\"Firefox text: {len(firefox_text)} characters\")\n",
    "print(f\"Alice text: {len(alice_text)} characters\")\n",
    "print(f\"Sherlock Holmes text: {len(holmes_text)} characters\")\n",
    "print(f\"Moby dick text: {len(moby_dick_text)} characters\")\n",
    "print(f\"Firefox text: {len(firefox_text)} characters\")\n",
    "print(f\"Alexa reviews: {len(alexa_reviews)} lines\")\n",
    "print(f\"SA dataset: {len(sa_dataset)} rows\")\n",
    "print(f\"Text generation dataset: {len(text_generation_dataset)} articles\")"
   ]
  },
  {
   "cell_type": "markdown",
   "metadata": {},
   "source": [
    "\n",
    "## **Part 1: Text Preprocessing and Exploration**\n",
    "*Using \"Alice’s Adventures in Wonderland\"*\n",
    "\n",
    "**Task 1: Tokenization**\n",
    "- Tokenize the text into words and sentences.\n",
    "\n",
    "**Task 2: Text Cleaning**\n",
    "- Remove special characters and punctuation; convert to lowercase.\n",
    "\n",
    "**Task 3: Stopword Removal**\n",
    "- Eliminate stopwords using NLTK's predefined list.\n",
    "\n",
    "**Additional Task: Compute Basic Text Statistics and Lexical Diversity**\n"
   ]
  },
  {
   "cell_type": "markdown",
   "metadata": {},
   "source": [
    "#### Task 1: Tokenization"
   ]
  },
  {
   "cell_type": "code",
   "execution_count": 3,
   "metadata": {},
   "outputs": [
    {
     "name": "stdout",
     "output_type": "stream",
     "text": [
      "Number of words: 38349\n",
      "Number of sentences: 1093\n"
     ]
    }
   ],
   "source": [
    "# Import necessary libraries\n",
    "import nltk\n",
    "from nltk.tokenize import word_tokenize, sent_tokenize\n",
    "from nltk.corpus import stopwords\n",
    "import string\n",
    "\n",
    "\n",
    "# Tokenize the text into words and sentences\n",
    "alice_words = word_tokenize(alice_text)\n",
    "alice_sentences = sent_tokenize(alice_text)\n",
    "print(f\"Number of words: {len(alice_words)}\")\n",
    "print(f\"Number of sentences: {len(alice_sentences)}\")\n"
   ]
  },
  {
   "cell_type": "markdown",
   "metadata": {},
   "source": [
    "#### Task 2: Text Cleaning"
   ]
  },
  {
   "cell_type": "code",
   "execution_count": 4,
   "metadata": {},
   "outputs": [
    {
     "name": "stdout",
     "output_type": "stream",
     "text": [
      "Total number of words before cleaning: 38349\n",
      "Total number of words after cleaning: 29744\n",
      "Sample words after cleaning: ['project', 'gutenberg', 's', 'alice', 's', 'adventures', 'in', 'wonderland', 'by', 'lewis', 'carroll', 'this', 'ebook', 'is', 'for', 'the', 'use', 'of', 'anyone', 'anywhere', 'at', 'no', 'cost', 'and', 'with', 'almost', 'no', 'restrictions', 'whatsoever', 'you', 'may', 'copy', 'it', 'give', 'it', 'away', 'or', 'it', 'under', 'the', 'terms', 'of', 'the', 'project', 'gutenberg', 'license', 'included', 'with', 'this', 'ebook', 'or', 'online', 'at', 'title', 'alice', 's', 'adventures', 'in', 'wonderland', 'author', 'lewis', 'carroll', 'posting', 'date', 'june', 'ebook', 'release', 'date', 'march', 'last', 'updated', 'october', 'language', 'english', 'character', 'set', 'encoding', 'start', 'of', 'this', 'project', 'gutenberg', 'ebook', 'alice', 's', 'adventures', 'in', 'wonderland', 'alice', 's', 'adventures', 'in', 'wonderland', 'lewis', 'carroll', 'the', 'millennium', 'fulcrum', 'edition', 'chapter']\n"
     ]
    }
   ],
   "source": [
    "\n",
    "\n",
    "# Remove special characters and punctuation; convert to lowercase\n",
    "translator = str.maketrans('', '', string.punctuation)\n",
    "alice_words_clean = [word.translate(translator).lower() for word in alice_words if word.isalpha()]\n",
    "print(f\"Total number of words before cleaning: {len(alice_words)}\")\n",
    "print(f\"Total number of words after cleaning: {len(alice_words_clean)}\")\n",
    "print(f\"Sample words after cleaning: {alice_words_clean[:100]}\")\n"
   ]
  },
  {
   "cell_type": "markdown",
   "metadata": {},
   "source": [
    "#### Task 3: Stopword Removal"
   ]
  },
  {
   "cell_type": "code",
   "execution_count": 5,
   "metadata": {},
   "outputs": [
    {
     "name": "stdout",
     "output_type": "stream",
     "text": [
      "Total number of words before stopword removal: 29744\n",
      "Total number of words after stopword removal: 13446\n",
      "Sample words after stopword removal: ['project', 'gutenberg', 'alice', 'adventures', 'wonderland', 'lewis', 'carroll', 'ebook', 'use', 'anyone', 'anywhere', 'cost', 'almost', 'restrictions', 'whatsoever', 'may', 'copy', 'give', 'away', 'terms', 'project', 'gutenberg', 'license', 'included', 'ebook', 'online', 'title', 'alice', 'adventures', 'wonderland', 'author', 'lewis', 'carroll', 'posting', 'date', 'june', 'ebook', 'release', 'date', 'march', 'last', 'updated', 'october', 'language', 'english', 'character', 'set', 'encoding', 'start', 'project', 'gutenberg', 'ebook', 'alice', 'adventures', 'wonderland', 'alice', 'adventures', 'wonderland', 'lewis', 'carroll', 'millennium', 'fulcrum', 'edition', 'chapter', 'alice', 'beginning', 'get', 'tired', 'sitting', 'sister', 'bank', 'nothing', 'twice', 'peeped', 'book', 'sister', 'reading', 'pictures', 'conversations', 'use', 'book', 'thought', 'alice', 'without', 'pictures', 'conversations', 'considering', 'mind', 'well', 'could', 'hot', 'day', 'made', 'feel', 'sleepy', 'stupid', 'whether', 'pleasure', 'making', 'would']\n"
     ]
    }
   ],
   "source": [
    "\n",
    "\n",
    "# Eliminate stopwords using NLTK's predefined list\n",
    "stop_words = set(stopwords.words('english'))\n",
    "alice_words_final = [word for word in alice_words_clean if word not in stop_words]\n",
    "print(f\"Total number of words before stopword removal: {len(alice_words_clean)}\")\n",
    "print(f\"Total number of words after stopword removal: {len(alice_words_final)}\")\n",
    "print(f\"Sample words after stopword removal: {alice_words_final[:100]}\")\n"
   ]
  },
  {
   "cell_type": "markdown",
   "metadata": {},
   "source": [
    "#### Additional Task: Compute Basic Text Statistics and Lexical Diversity"
   ]
  },
  {
   "cell_type": "code",
   "execution_count": 6,
   "metadata": {},
   "outputs": [
    {
     "name": "stdout",
     "output_type": "stream",
     "text": [
      "Total number of words: 13446\n",
      "Number of unique words: 2772\n",
      "Lexical Diversity: 0.20615796519410978\n"
     ]
    }
   ],
   "source": [
    "\n",
    "\n",
    "# Total number of words\n",
    "total_words = len(alice_words_final)\n",
    "# Number of unique words\n",
    "unique_words = len(set(alice_words_final))\n",
    "# Lexical diversity\n",
    "lexical_diversity = unique_words / total_words\n",
    "print(f\"Total number of words: {total_words}\")\n",
    "print(f\"Number of unique words: {unique_words}\")\n",
    "print(f\"Lexical Diversity: {lexical_diversity}\")"
   ]
  },
  {
   "cell_type": "markdown",
   "metadata": {},
   "source": [
    "\n",
    "---------------------------------------------------------"
   ]
  },
  {
   "cell_type": "markdown",
   "metadata": {},
   "source": [
    "\n",
    "## **Part 2: Text Analysis and Linguistic Features**\n",
    "*Using \"The Adventures of Sherlock Holmes\"*\n",
    "\n",
    "**Task 4: Frequency Analysis**\n",
    "- Calculate the frequency distribution of words; identify top 10 words.\n",
    "\n",
    "**Task 5: Lexical Diversity**\n",
    "- Measure the diversity of the text's vocabulary.\n",
    "\n",
    "**Task 6: Collocations and N-grams**\n",
    "- Find significant collocations; generate bigrams and trigrams.\n",
    "\n"
   ]
  },
  {
   "cell_type": "markdown",
   "metadata": {},
   "source": [
    "#### Task 4: Frequency Analysis\n"
   ]
  },
  {
   "cell_type": "code",
   "execution_count": 7,
   "metadata": {},
   "outputs": [
    {
     "name": "stdout",
     "output_type": "stream",
     "text": [
      "Top 10 most common words: [('the', 5791), ('and', 3064), ('i', 3026), ('of', 2767), ('to', 2759), ('a', 2680), ('in', 1814), ('that', 1752), ('it', 1699), ('you', 1528)]\n"
     ]
    }
   ],
   "source": [
    "# Import necessary libraries\n",
    "from nltk import FreqDist, bigrams, trigrams, collocations\n",
    "import matplotlib.pyplot as plt\n",
    "\n",
    "# Preprocessing: Tokenization and cleaning\n",
    "holmes_tokens = [word.lower() for word in word_tokenize(holmes_text) if word.isalpha()]\n",
    "\n",
    "# Calculate the frequency distribution of words and identify top 10 words\n",
    "fdist = FreqDist(holmes_tokens)\n",
    "top_10_words = fdist.most_common(10)\n",
    "print(\"Top 10 most common words:\", top_10_words)"
   ]
  },
  {
   "cell_type": "markdown",
   "metadata": {},
   "source": [
    "#### Task 5: Lexical Diversity"
   ]
  },
  {
   "cell_type": "code",
   "execution_count": 8,
   "metadata": {},
   "outputs": [
    {
     "name": "stdout",
     "output_type": "stream",
     "text": [
      "Lexical Diversity: 0.07385822572658363\n"
     ]
    }
   ],
   "source": [
    "# Measure the diversity of the text's vocabulary\n",
    "total_words = len(holmes_tokens)\n",
    "unique_words = len(set(holmes_tokens))\n",
    "lexical_diversity = unique_words / total_words\n",
    "print(f\"Lexical Diversity: {lexical_diversity}\")"
   ]
  },
  {
   "cell_type": "markdown",
   "metadata": {},
   "source": [
    "\n",
    "#### Task 6: Collocations and N-grams"
   ]
  },
  {
   "cell_type": "code",
   "execution_count": 9,
   "metadata": {},
   "outputs": [
    {
     "name": "stdout",
     "output_type": "stream",
     "text": [
      "Significant Collocations: [('abusive', 'expressions'), ('accepting', 'unsolicited'), ('alicia', 'whittington'), ('alley', 'lurking'), ('alteration', 'modification'), ('amply', 'repaid'), ('anatomy', 'unsystematic'), ('apache', 'indians'), ('arnsworth', 'castle'), ('atkinson', 'brothers')]\n",
      "Sample Bigrams: [('adventures', 'of'), ('of', 'sherlock'), ('sherlock', 'holmes'), ('holmes', 'by'), ('by', 'arthur'), ('arthur', 'conan'), ('conan', 'doyle'), ('doyle', 'contents'), ('contents', 'i'), ('i', 'a')]\n",
      "Sample Trigrams: [('adventures', 'of', 'sherlock'), ('of', 'sherlock', 'holmes'), ('sherlock', 'holmes', 'by'), ('holmes', 'by', 'arthur'), ('by', 'arthur', 'conan'), ('arthur', 'conan', 'doyle'), ('conan', 'doyle', 'contents'), ('doyle', 'contents', 'i'), ('contents', 'i', 'a'), ('i', 'a', 'scandal')]\n"
     ]
    }
   ],
   "source": [
    "# Find significant collocations\n",
    "bigram_measures = collocations.BigramAssocMeasures()\n",
    "finder = collocations.BigramCollocationFinder.from_words(holmes_tokens)\n",
    "significant_collocations = finder.nbest(bigram_measures.pmi, 10)  # top 10\n",
    "print(\"Significant Collocations:\", significant_collocations)\n",
    "\n",
    "# Generate bigrams and trigrams\n",
    "generated_bigrams = list(bigrams(holmes_tokens))\n",
    "generated_trigrams = list(trigrams(holmes_tokens))\n",
    "print(\"Sample Bigrams:\", generated_bigrams[:10])\n",
    "print(\"Sample Trigrams:\", generated_trigrams[:10])"
   ]
  },
  {
   "cell_type": "markdown",
   "metadata": {},
   "source": [
    "#### Extra Task: Visualize Frequency Distribution"
   ]
  },
  {
   "cell_type": "code",
   "execution_count": 10,
   "metadata": {},
   "outputs": [
    {
     "data": {
      "image/png": "[encoded data removed]",
      "text/plain": [
       "<Figure size 640x480 with 1 Axes>"
      ]
     },
     "metadata": {},
     "output_type": "display_data"
    }
   ],
   "source": [
    "# Plot the frequency distribution of the top 30 most common words\n",
    "fdist.plot(30, cumulative=False)\n",
    "plt.show()"
   ]
  },
  {
   "cell_type": "markdown",
   "metadata": {},
   "source": [
    "-----------------------------------"
   ]
  },
  {
   "cell_type": "markdown",
   "metadata": {},
   "source": [
    "## **Part 3: Contextual Understanding and Visualization**\n",
    "*Using \"Moby Dick\"*\n",
    "\n",
    "**Task 7: Concordance Analysis**\n",
    "- Use concordance to study \"whale\" in its textual context.\n",
    "\n",
    "**Task 8: Similar Words and Common Contexts**\n",
    "- Find words with similar usage to \"ship\" and explore common contexts between \"whale\" and \"sea\".\n",
    "\n",
    "**Task 9: Dispersion Plots**\n",
    "- Visualize the occurrences of key maritime-related words throughout the text.\n",
    "\n",
    "\n"
   ]
  },
  {
   "cell_type": "code",
   "execution_count": 11,
   "metadata": {},
   "outputs": [],
   "source": [
    "# Import necessary libraries\n",
    "from nltk.text import Text\n",
    "\n",
    "# Preprocessing: Tokenization and Text object creation\n",
    "moby_tokens = word_tokenize(moby_dick_text.lower())\n",
    "moby_nltk_text = Text(moby_tokens)"
   ]
  },
  {
   "cell_type": "markdown",
   "metadata": {},
   "source": [
    "#### Task 7: Concordance Analysis"
   ]
  },
  {
   "cell_type": "code",
   "execution_count": 12,
   "metadata": {},
   "outputs": [
    {
     "name": "stdout",
     "output_type": "stream",
     "text": [
      "Displaying 25 of 1075 matches:\n",
      "utenberg ebook of moby dick ; or the whale , by herman melville this ebook is f\n",
      "nberg.org title : moby dick ; or the whale author : herman melville release dat\n",
      "t gutenberg ebook moby dick ; or the whale * * * produced by daniel lazarus , j\n",
      "nd david widger moby-dick ; or , the whale . by herman melville contents etymol\n",
      "k . chapter 42. the whiteness of the whale . chapter 43. hark ! chapter 44. the\n",
      "the line . chapter 61. stubb kills a whale . chapter 62. the dart . chapter 63.\n",
      ". stubb ’ s supper . chapter 65. the whale as a dish . chapter 66. the shark ma\n",
      "ter 73. stubb and flask kill a right whale ; and then have a talk over him . ch\n",
      "alk over him . chapter 74. the sperm whale ’ s head—contrasted view . chapter 7\n",
      "trasted view . chapter 75. the right whale ’ s head—contrasted view . chapter 7\n",
      "es . chapter 103. measurement of the whale ’ s skeleton . chapter 104. the foss\n",
      "s skeleton . chapter 104. the fossil whale . chapter 105. does the whale ’ s ma\n",
      "fossil whale . chapter 105. does the whale ’ s magnitude diminish ? —will he pe\n",
      "he bachelor . chapter 116. the dying whale . chapter 117. the whale watch . cha\n",
      ". the dying whale . chapter 117. the whale watch . chapter 118. the quadrant . \n",
      " which is not true. ” —_hackluyt._ “ whale . * * * sw. and dan . _hval_ . this \n",
      "lted. ” —_webster ’ s dictionary._ “ whale . * * * it is more immediately from \n",
      ". wal , _dutch_ . hwal , _swedish_ . whale , _icelandic_ . whale , _english_ . \n",
      " , _swedish_ . whale , _icelandic_ . whale , _english_ . ballena , _spanish_ . \n",
      "t least , take the higgledy-piggledy whale statements , however authentic , in \n",
      " dreadful gulf of this monster ’ s ( whale ’ s ) mouth , are immediately lost a\n",
      " patient job. ” —_rabelais_ . “ this whale ’ s liver was two cartloads. ” —_sto\n",
      " touching that monstrous bulk of the whale or ork we have received nothing cert\n",
      "restless paine , like as the wounded whale to shore flies thro ’ the maine. ” —\n",
      ". of sperma ceti and the sperma ceti whale . vide his v. e._ “ like spencer ’ s\n"
     ]
    }
   ],
   "source": [
    "# Use concordance to study \"whale\" in its textual context\n",
    "moby_nltk_text.concordance(\"whale\")\n",
    "\n"
   ]
  },
  {
   "cell_type": "code",
   "execution_count": 13,
   "metadata": {},
   "outputs": [
    {
     "name": "stdout",
     "output_type": "stream",
     "text": [
      "Displaying 7 of 7 matches:\n",
      "ather to spring , somehow , from intelligence than from ignorance . outward po\n",
      "e instinct—say , rather , secret intelligence from the deity—mostly swim in _v\n",
      "would receive the latest whaling intelligence from the cruising-ground to whic\n",
      " made . greedily sucking in this intelligence , gabriel solemnly warned the ca\n",
      "c part of him as the seat of his intelligence . it is plain , then , that phre\n",
      " argue some uncommon vivacity of intelligence . but not precisely so . for not\n",
      " moby dick , with that malicious intelligence ascribed to him , sidelingly tra\n"
     ]
    }
   ],
   "source": [
    "# Use concordance to study \"intelligence\" in its textual context\n",
    "moby_nltk_text.concordance(\"intelligence\")"
   ]
  },
  {
   "cell_type": "markdown",
   "metadata": {},
   "source": [
    "#### Task 8: Similar Words and Common Contexts"
   ]
  },
  {
   "cell_type": "code",
   "execution_count": 14,
   "metadata": {},
   "outputs": [
    {
     "name": "stdout",
     "output_type": "stream",
     "text": [
      "Words similar to 'ship':\n",
      "whale boat sea world captain crew man pequod head way time line deck\n",
      "other body water boats air devil side\n",
      "Common contexts for 'whale' and 'sea':\n",
      "the_is the_and the_the the_as the_in the_was the_i the_by the_which\n",
      "the_when the_so the_all the_had the_with the_to the_chapter the_that\n",
      "the_a the_but the_of\n"
     ]
    }
   ],
   "source": [
    "# Find words with similar usage to \"ship\"\n",
    "print(\"Words similar to 'ship':\")\n",
    "moby_nltk_text.similar(\"ship\")\n",
    "\n",
    "# Explore common contexts between \"whale\" and \"sea\"\n",
    "print(\"Common contexts for 'whale' and 'sea':\")\n",
    "moby_nltk_text.common_contexts([\"whale\", \"sea\"])\n"
   ]
  },
  {
   "cell_type": "markdown",
   "metadata": {},
   "source": [
    "#### Task 9: Dispersion Plots"
   ]
  },
  {
   "cell_type": "code",
   "execution_count": 15,
   "metadata": {},
   "outputs": [
    {
     "data": {
      "image/png": "[encoded data removed]",
      "text/plain": [
       "<Figure size 640x480 with 1 Axes>"
      ]
     },
     "metadata": {},
     "output_type": "display_data"
    }
   ],
   "source": [
    "# Visualize the occurrences of key maritime-related words throughout the text\n",
    "words_of_interest = [\"whale\", \"ship\", \"sea\", \"ahab\", \"pequod\"]\n",
    "moby_nltk_text.dispersion_plot(words_of_interest)"
   ]
  },
  {
   "cell_type": "markdown",
   "metadata": {},
   "source": [
    "#### Extra Task: Content Analysis"
   ]
  },
  {
   "cell_type": "code",
   "execution_count": 16,
   "metadata": {},
   "outputs": [
    {
     "name": "stdout",
     "output_type": "stream",
     "text": [
      "Thematic word counts: {'whale': 1075, 'ship': 460, 'sea': 375, 'ahab': 494, 'pequod': 175, 'ocean': 70}\n"
     ]
    }
   ],
   "source": [
    "# Count the mention of key thematic words and analyze their significance\n",
    "thematic_words = ['whale', 'ship', 'sea', 'ahab', 'pequod', 'ocean']\n",
    "word_freq = FreqDist(moby_nltk_text)\n",
    "thematic_word_counts = {word: word_freq[word] for word in thematic_words}\n",
    "print(\"Thematic word counts:\", thematic_word_counts)"
   ]
  },
  {
   "cell_type": "markdown",
   "metadata": {},
   "source": [
    "-------------------------------------------------------------"
   ]
  },
  {
   "cell_type": "markdown",
   "metadata": {},
   "source": [
    "\n",
    "## **Part 4: Advanced Text Processing Techniques**\n",
    "*Using a Sample Web Text such as \"Firefox.txt\"*\n",
    "\n",
    "**Task 10: Stemming and Lemmatization**\n",
    "- Compare the effects of these techniques on the text.\n",
    "\n",
    "**Task 11: Part-of-Speech Tagging**\n",
    "- Automatically tag words with their parts of speech.\n",
    "\n",
    "**Task 12: Named Entity Recognition**\n",
    "- Identify and categorize named entities using SpaCy."
   ]
  },
  {
   "cell_type": "code",
   "execution_count": 17,
   "metadata": {},
   "outputs": [],
   "source": [
    "# Import necessary libraries\n",
    "from nltk.stem import PorterStemmer, WordNetLemmatizer\n",
    "from nltk import pos_tag\n",
    "import spacy\n",
    "\n",
    "# Load SpaCy's English tokenizer\n",
    "nlp = spacy.load('en_core_web_md')\n",
    "\n",
    "# Preprocessing: Tokenization\n",
    "firefox_tokens = word_tokenize(firefox_text.lower())\n"
   ]
  },
  {
   "cell_type": "markdown",
   "metadata": {},
   "source": [
    "#### Task 10: Stemming and Lemmatization"
   ]
  },
  {
   "cell_type": "code",
   "execution_count": 18,
   "metadata": {},
   "outputs": [
    {
     "name": "stdout",
     "output_type": "stream",
     "text": [
      "Sample stems: ['cooki', 'manag', ':', '``', 'do', \"n't\", 'allow', 'site', 'that', 'set', 'remov', 'cooki', 'to', 'set', 'futur', 'cooki', \"''\", 'should', 'stay', 'check']\n",
      "Sample lemmas: ['cookie', 'manager', ':', '``', 'do', \"n't\", 'allow', 'site', 'that', 'set', 'removed', 'cooky', 'to', 'set', 'future', 'cooky', \"''\", 'should', 'stay', 'checked']\n"
     ]
    }
   ],
   "source": [
    "# Initialize stemmer and lemmatizer\n",
    "stemmer = PorterStemmer()\n",
    "lemmatizer = WordNetLemmatizer()\n",
    "\n",
    "# Apply stemming and lemmatization\n",
    "stems = [stemmer.stem(token) for token in firefox_tokens]\n",
    "lemmas = [lemmatizer.lemmatize(token) for token in firefox_tokens]\n",
    "\n",
    "print(\"Sample stems:\", stems[:20])\n",
    "print(\"Sample lemmas:\", lemmas[:20])\n"
   ]
  },
  {
   "cell_type": "markdown",
   "metadata": {},
   "source": [
    "#### Task 11: Part-of-Speech Tagging"
   ]
  },
  {
   "cell_type": "code",
   "execution_count": 19,
   "metadata": {},
   "outputs": [
    {
     "name": "stdout",
     "output_type": "stream",
     "text": [
      "Sample POS tags: [('cookie', 'NN'), ('manager', 'NN'), (':', ':'), ('``', '``'), ('do', 'VBP'), (\"n't\", 'RB'), ('allow', 'VB'), ('sites', 'NNS'), ('that', 'WDT'), ('set', 'VBP'), ('removed', 'VBN'), ('cookies', 'NNS'), ('to', 'TO'), ('set', 'VB'), ('future', 'JJ'), ('cookies', 'NNS'), (\"''\", \"''\"), ('should', 'MD'), ('stay', 'VB'), ('checked', 'VBD')]\n"
     ]
    }
   ],
   "source": [
    "# Automatically tag words with their parts of speech\n",
    "pos_tags = pos_tag(firefox_tokens)\n",
    "print(\"Sample POS tags:\", pos_tags[:20])"
   ]
  },
  {
   "cell_type": "markdown",
   "metadata": {},
   "source": [
    "#### Task 12: Named Entity Recognition"
   ]
  },
  {
   "cell_type": "code",
   "execution_count": 20,
   "metadata": {},
   "outputs": [
    {
     "name": "stdout",
     "output_type": "stream",
     "text": [
      "Sample Named Entities: [('Phoenix', 'GPE'), ('UI', 'ORG'), ('Mozilla', 'ORG'), ('second', 'ORDINAL'), ('Phoenix', 'GPE'), ('Mozilla', 'ORG'), ('Phoenix', 'GPE'), ('Satchel', 'PERSON'), ('Mousing', 'ORG'), ('second', 'ORDINAL'), ('ptoolbar', 'GPE'), ('Customising', 'GPE'), ('160019', 'CARDINAL'), ('Quick Launch (Turbo', 'PRODUCT'), ('URLbar', 'ORG'), ('second', 'ORDINAL'), ('the Navigation Toolbar', 'ORG'), ('Uabar', 'ORG'), ('Theme', 'ORG'), ('Options', 'ORG')]\n"
     ]
    }
   ],
   "source": [
    "# Identify and categorize named entities using SpaCy\n",
    "doc = nlp(firefox_text)\n",
    "named_entities = [(entity.text, entity.label_) for entity in doc.ents]\n",
    "print(\"Sample Named Entities:\", named_entities[:20])"
   ]
  },
  {
   "cell_type": "markdown",
   "metadata": {},
   "source": [
    "#### Extra Task: Dependency Parsing"
   ]
  },
  {
   "cell_type": "code",
   "execution_count": 21,
   "metadata": {},
   "outputs": [
    {
     "name": "stdout",
     "output_type": "stream",
     "text": [
      "Dependencies in the first sentence: [('Cookie', 'compound', 'Manager'), ('Manager', 'dep', 'allow'), (':', 'punct', 'Manager'), ('\"', 'punct', 'allow'), ('Do', 'aux', 'allow'), (\"n't\", 'neg', 'allow'), ('allow', 'ROOT', 'allow'), ('sites', 'dobj', 'allow'), ('that', 'nsubj', 'set'), ('set', 'relcl', 'sites'), ('removed', 'amod', 'cookies'), ('cookies', 'dobj', 'set'), ('to', 'aux', 'set'), ('set', 'advcl', 'set'), ('future', 'amod', 'cookies'), ('cookies', 'dobj', 'set'), ('\"', 'punct', 'sites'), ('should', 'aux', 'stay'), ('stay', 'ccomp', 'allow'), ('checked', 'acomp', 'stay'), ('\\r\\n', 'dep', 'checked')]\n"
     ]
    }
   ],
   "source": [
    "# Analyze the sentence structure using dependency parsing\n",
    "sample_sentence = list(doc.sents)[0]\n",
    "dependencies = [(token.text, token.dep_, token.head.text) for token in sample_sentence]\n",
    "print(\"Dependencies in the first sentence:\", dependencies)"
   ]
  },
  {
   "cell_type": "markdown",
   "metadata": {},
   "source": [
    "\n",
    "## **Part 5: Word Embeddings and Sentence Similarity**\n",
    "*Using SpaCy's \"en_core_web_md\" Model*\n",
    "\n",
    "**Task 13: Exploring Word Vectors**\n",
    "- Examine the vector representation of \"queen\" and \"king\".\n",
    "\n",
    "**Task 14: Sentence Similarity**\n",
    "- Compute the similarity between \"I have a pet.\" and \"Dogs are animals.\""
   ]
  },
  {
   "cell_type": "code",
   "execution_count": 22,
   "metadata": {},
   "outputs": [],
   "source": [
    "# Import necessary libraries\n",
    "import spacy\n",
    "import matplotlib.pyplot as plt\n",
    "from sklearn.manifold import TSNE\n",
    "\n",
    "# Load SpaCy's English model\n",
    "nlp = spacy.load('en_core_web_md')"
   ]
  },
  {
   "cell_type": "markdown",
   "metadata": {},
   "source": [
    "#### Task 13: Exploring Word Vectors"
   ]
  },
  {
   "cell_type": "code",
   "execution_count": 23,
   "metadata": {},
   "outputs": [
    {
     "name": "stdout",
     "output_type": "stream",
     "text": [
      "Vector for 'queen': [ 2.167    0.29991 -3.1277  -2.7817  -0.26743]\n",
      "Vector for 'king': [-0.11296 -4.1865  -1.8453   0.30781  2.4956 ]\n",
      "Similarity between 'queen' and 'king': 61.08841234425123%\n"
     ]
    }
   ],
   "source": [
    "# Examine the vector representation of \"queen\" and \"king\"\n",
    "queen = nlp(\"queen\")\n",
    "king = nlp(\"king\")\n",
    "\n",
    "print(\"Vector for 'queen':\", queen.vector[:5])  # Display first 5 elements for brevity\n",
    "print(\"Vector for 'king':\", king.vector[:5])    # Display first 5 elements for brevity\n",
    "\n",
    "#Compute the similarity between \"queen\" and \"king\"\n",
    "similarity = queen.similarity(king)\n",
    "print(\"Similarity between 'queen' and 'king':\",str(similarity*100)+\"%\")\n"
   ]
  },
  {
   "cell_type": "markdown",
   "metadata": {},
   "source": [
    "#### Task 14: Sentence Similarity"
   ]
  },
  {
   "cell_type": "code",
   "execution_count": 24,
   "metadata": {},
   "outputs": [
    {
     "name": "stdout",
     "output_type": "stream",
     "text": [
      "Similarity between sentences: 0.4070589692292363\n"
     ]
    }
   ],
   "source": [
    "# Compute the similarity between \"I have a pet.\" and \"Dogs are animals.\"\n",
    "sentence1 = nlp(\"I have a pet.\")\n",
    "sentence2 = nlp(\"Dogs are animals.\")\n",
    "similarity_score = sentence1.similarity(sentence2)\n",
    "print(\"Similarity between sentences:\", similarity_score)"
   ]
  },
  {
   "cell_type": "code",
   "execution_count": 25,
   "metadata": {},
   "outputs": [
    {
     "name": "stdout",
     "output_type": "stream",
     "text": [
      "Similarity between sentences: 0.6292748338239498\n"
     ]
    }
   ],
   "source": [
    "# Compute the similarity between \"I have a pet.\" and \"We enjoy nlp.\"\n",
    "sentence1 = nlp(\"I have a pet.\")\n",
    "sentence2 = nlp(\"We enjoy nlp.\")\n",
    "similarity_score = sentence1.similarity(sentence2)\n",
    "print(\"Similarity between sentences:\", similarity_score)"
   ]
  },
  {
   "cell_type": "markdown",
   "metadata": {},
   "source": [
    "#### Extra Task: Clustering Word Vectors"
   ]
  },
  {
   "cell_type": "code",
   "execution_count": 26,
   "metadata": {},
   "outputs": [
    {
     "data": {
      "image/png": "[encoded data removed]",
      "text/plain": [
       "<Figure size 500x500 with 1 Axes>"
      ]
     },
     "metadata": {},
     "output_type": "display_data"
    }
   ],
   "source": [
    "# To visualize semantic relationships, let's perform a clustering of selected word vectors\n",
    "\n",
    "words = [\"dog\", \"cat\", \"fish\", \"horse\", \"lion\", \"tiger\", \"queen\", \"king\", \"woman\", \"man\"]\n",
    "word_vectors = [nlp(word).vector for word in words]\n",
    "\n",
    "# Convert list of vectors to a NumPy array\n",
    "word_vectors = np.array(word_vectors)\n",
    "\n",
    "# Use t-SNE to reduce dimensionality\n",
    "tsne = TSNE(n_components=2, random_state=0, perplexity=5)\n",
    "word_vectors_2d = tsne.fit_transform(word_vectors)\n",
    "\n",
    "# Plotting the results\n",
    "plt.figure(figsize=(5, 5))\n",
    "plt.scatter(word_vectors_2d[:, 0], word_vectors_2d[:, 1])\n",
    "for i, word in enumerate(words):\n",
    "    plt.annotate(word, xy=(word_vectors_2d[i, 0], word_vectors_2d[i, 1]), xytext=(5, 2),\n",
    "                 textcoords='offset points', ha='right', va='bottom')\n",
    "plt.show()"
   ]
  },
  {
   "cell_type": "markdown",
   "metadata": {},
   "source": [
    "\n",
    "## **Part 6: Machine Learning for NLP**\n",
    "*Using the SA Dataset for Sentiment Analysis*\n",
    "\n",
    "**Task 15: Text Classification**\n",
    "- Prepare data, train a model to classify positive and negative sentiments.\n",
    "\n",
    "**Task 16: Model Evaluation**\n",
    "- Use metrics such as accuracy, precision, recall, and F1-score to evaluate the model.\n"
   ]
  },
  {
   "cell_type": "code",
   "execution_count": 27,
   "metadata": {},
   "outputs": [],
   "source": [
    "# Import necessary libraries\n",
    "from sklearn.model_selection import train_test_split\n",
    "from sklearn.feature_extraction.text import CountVectorizer\n",
    "from sklearn.naive_bayes import MultinomialNB\n",
    "from sklearn.svm import SVC\n",
    "\n",
    "from sklearn.metrics import accuracy_score, precision_score, recall_score, f1_score\n",
    "import pandas as pd\n",
    "\n",
    "# Preprocessing: Extract features and labels\n",
    "X = sa_dataset['Review']\n",
    "y = sa_dataset['Sentiment']\n",
    "\n",
    "# Vectorize the text data\n",
    "vectorizer = CountVectorizer()\n",
    "X_vectorized = vectorizer.fit_transform(X)\n",
    "\n",
    "# Split data into training and testing sets\n",
    "X_train, X_test, y_train, y_test = train_test_split(X_vectorized, y, test_size=0.2, random_state=42)\n"
   ]
  },
  {
   "cell_type": "markdown",
   "metadata": {},
   "source": [
    "#### Task 15: Text Classification"
   ]
  },
  {
   "cell_type": "code",
   "execution_count": 28,
   "metadata": {},
   "outputs": [],
   "source": [
    "# Train a Naive Bayes classifier\n",
    "model1 = MultinomialNB()\n",
    "model1.fit(X_train, y_train)\n",
    "\n",
    "model2 = SVC(kernel='linear')\n",
    "model2 = model2.fit(X_train, y_train)"
   ]
  },
  {
   "cell_type": "markdown",
   "metadata": {},
   "source": [
    "#### Task 16: Model Evaluation"
   ]
  },
  {
   "cell_type": "code",
   "execution_count": 29,
   "metadata": {},
   "outputs": [
    {
     "name": "stdout",
     "output_type": "stream",
     "text": [
      "Accuracy NB: 0.861\n",
      "Accuracy SVC: 0.839\n",
      "\n",
      "Precision NB: 0.8930693069306931\n",
      "Precision SVC: 0.8803245436105477\n",
      "\n",
      "Recall NB: 0.8414179104477612\n",
      "Recall SVC: 0.8097014925373134\n",
      "\n",
      "F1 Score NB: 0.866474543707973\n",
      "F1 Score SVC: 0.8435374149659863\n",
      "\n"
     ]
    }
   ],
   "source": [
    "# Predict sentiments for test data\n",
    "y_pred_NB = model1.predict(X_test)\n",
    "y_pred_SVC = model2.predict(X_test)\n",
    "\n",
    "# Calculate performance metrics\n",
    "accuracy_NB = accuracy_score(y_test, y_pred_NB)\n",
    "accuracy_SVC = accuracy_score(y_test, y_pred_SVC)\n",
    "\n",
    "precision_NB = precision_score(y_test, y_pred_NB, pos_label=1)\n",
    "precision_SVC = precision_score(y_test, y_pred_SVC)\n",
    "\n",
    "recall_NB = recall_score(y_test, y_pred_NB, pos_label=1)\n",
    "recall_SVC = recall_score(y_test, y_pred_SVC, pos_label=1)\n",
    "\n",
    "f1_NB = f1_score(y_test, y_pred_NB, pos_label=1)\n",
    "f1_SVC = f1_score(y_test, y_pred_SVC, pos_label=1)\n",
    "\n",
    "print(f\"Accuracy NB: {accuracy_NB}\")\n",
    "print(f\"Accuracy SVC: {accuracy_SVC}\\n\")\n",
    "\n",
    "print(f\"Precision NB: {precision_NB}\")\n",
    "print(f\"Precision SVC: {precision_SVC}\\n\")\n",
    "\n",
    "print(f\"Recall NB: {recall_NB}\")\n",
    "print(f\"Recall SVC: {recall_SVC}\\n\")\n",
    "\n",
    "print(f\"F1 Score NB: {f1_NB}\")\n",
    "print(f\"F1 Score SVC: {f1_SVC}\\n\")\n"
   ]
  },
  {
   "cell_type": "markdown",
   "metadata": {},
   "source": [
    "\n",
    "## **Part 7: Text Generation with LSTM**\n",
    "*Using articles from the `text_generation_dataset` folder*\n",
    "\n",
    "**Task 17: Data Preparation**\n",
    "- Load the text data and preprocess it for the LSTM model.\n",
    "- This involves tokenization and encoding the text into sequences.\n",
    "\n",
    "**Task 18: Building the LSTM Model**\n",
    "- Define and compile a simple LSTM model to predict the next character in a sequence.\n",
    "\n",
    "**Task 19: Model Training**\n",
    "- Train the LSTM model on the preprocessed text data.\n",
    "\n",
    "**Task 20: Text Generation**\n",
    "- Use the trained model to generate text.\n"
   ]
  },
  {
   "cell_type": "code",
   "execution_count": 30,
   "metadata": {},
   "outputs": [],
   "source": [
    "import os\n",
    "import pandas as pd\n",
    "from pathlib import Path\n",
    "\n",
    "# Define the path to the text_generation_dataset folder\n",
    "dataset_path = Path('./exam_data/text_generation_dataset')\n",
    "\n",
    "# Load all CSV files in the directory\n",
    "all_articles = []\n",
    "for file_name in os.listdir(dataset_path):\n",
    "    if file_name.endswith('.csv'):\n",
    "        file_path = dataset_path / file_name\n",
    "        # Assuming the text content is in a column named 'content'\n",
    "        articles = pd.read_csv(file_path)\n",
    "        all_articles.append(articles)\n",
    "\n",
    "# Combine all articles into a single series\n",
    "combined_articles = pd.concat(all_articles).reset_index(drop=True)"
   ]
  },
  {
   "cell_type": "code",
   "execution_count": 40,
   "metadata": {},
   "outputs": [
    {
     "data": {
      "text/html": [
       "<div>\n",
       "<style scoped>\n",
       "    .dataframe tbody tr th:only-of-type {\n",
       "        vertical-align: middle;\n",
       "    }\n",
       "\n",
       "    .dataframe tbody tr th {\n",
       "        vertical-align: top;\n",
       "    }\n",
       "\n",
       "    .dataframe thead th {\n",
       "        text-align: right;\n",
       "    }\n",
       "</style>\n",
       "<table border=\"1\" class=\"dataframe\">\n",
       "  <thead>\n",
       "    <tr style=\"text-align: right;\">\n",
       "      <th></th>\n",
       "      <th>abstract</th>\n",
       "      <th>articleID</th>\n",
       "      <th>articleWordCount</th>\n",
       "      <th>byline</th>\n",
       "      <th>documentType</th>\n",
       "      <th>headline</th>\n",
       "      <th>keywords</th>\n",
       "      <th>multimedia</th>\n",
       "      <th>newDesk</th>\n",
       "      <th>printPage</th>\n",
       "      <th>pubDate</th>\n",
       "      <th>sectionName</th>\n",
       "      <th>snippet</th>\n",
       "      <th>source</th>\n",
       "      <th>typeOfMaterial</th>\n",
       "      <th>webURL</th>\n",
       "    </tr>\n",
       "  </thead>\n",
       "  <tbody>\n",
       "    <tr>\n",
       "      <th>0</th>\n",
       "      <td>NaN</td>\n",
       "      <td>58def1347c459f24986d7c80</td>\n",
       "      <td>716</td>\n",
       "      <td>By STEPHEN HILTNER and SUSAN LEHMAN</td>\n",
       "      <td>article</td>\n",
       "      <td>Finding an Expansive View  of a Forgotten Peop...</td>\n",
       "      <td>['Photography', 'New York Times', 'Niger', 'Fe...</td>\n",
       "      <td>3</td>\n",
       "      <td>Insider</td>\n",
       "      <td>2</td>\n",
       "      <td>2017-04-01 00:15:41</td>\n",
       "      <td>Unknown</td>\n",
       "      <td>One of the largest photo displays in Times his...</td>\n",
       "      <td>The New York Times</td>\n",
       "      <td>News</td>\n",
       "      <td>https://www.nytimes.com/2017/03/31/insider/nig...</td>\n",
       "    </tr>\n",
       "    <tr>\n",
       "      <th>1</th>\n",
       "      <td>NaN</td>\n",
       "      <td>58def3237c459f24986d7c84</td>\n",
       "      <td>823</td>\n",
       "      <td>By GAIL COLLINS</td>\n",
       "      <td>article</td>\n",
       "      <td>And Now,  the Dreaded Trump Curse</td>\n",
       "      <td>['United States Politics and Government', 'Tru...</td>\n",
       "      <td>3</td>\n",
       "      <td>OpEd</td>\n",
       "      <td>23</td>\n",
       "      <td>2017-04-01 00:23:58</td>\n",
       "      <td>Unknown</td>\n",
       "      <td>Meet the gang from under the bus.</td>\n",
       "      <td>The New York Times</td>\n",
       "      <td>Op-Ed</td>\n",
       "      <td>https://www.nytimes.com/2017/03/31/opinion/and...</td>\n",
       "    </tr>\n",
       "    <tr>\n",
       "      <th>2</th>\n",
       "      <td>NaN</td>\n",
       "      <td>58def9f57c459f24986d7c90</td>\n",
       "      <td>575</td>\n",
       "      <td>By THE EDITORIAL BOARD</td>\n",
       "      <td>article</td>\n",
       "      <td>Venezuela’s Descent Into Dictatorship</td>\n",
       "      <td>['Venezuela', 'Politics and Government', 'Madu...</td>\n",
       "      <td>3</td>\n",
       "      <td>Editorial</td>\n",
       "      <td>22</td>\n",
       "      <td>2017-04-01 00:53:06</td>\n",
       "      <td>Unknown</td>\n",
       "      <td>A court ruling annulling the legislature’s aut...</td>\n",
       "      <td>The New York Times</td>\n",
       "      <td>Editorial</td>\n",
       "      <td>https://www.nytimes.com/2017/03/31/opinion/ven...</td>\n",
       "    </tr>\n",
       "    <tr>\n",
       "      <th>3</th>\n",
       "      <td>NaN</td>\n",
       "      <td>58defd317c459f24986d7c95</td>\n",
       "      <td>1374</td>\n",
       "      <td>By MICHAEL POWELL</td>\n",
       "      <td>article</td>\n",
       "      <td>Stain Permeates Basketball Blue Blood</td>\n",
       "      <td>['Basketball (College)', 'University of North ...</td>\n",
       "      <td>3</td>\n",
       "      <td>Sports</td>\n",
       "      <td>1</td>\n",
       "      <td>2017-04-01 01:06:52</td>\n",
       "      <td>College Basketball</td>\n",
       "      <td>For two decades, until 2013, North Carolina en...</td>\n",
       "      <td>The New York Times</td>\n",
       "      <td>News</td>\n",
       "      <td>https://www.nytimes.com/2017/03/31/sports/ncaa...</td>\n",
       "    </tr>\n",
       "    <tr>\n",
       "      <th>4</th>\n",
       "      <td>NaN</td>\n",
       "      <td>58df09b77c459f24986d7ca7</td>\n",
       "      <td>708</td>\n",
       "      <td>By DEB AMLEN</td>\n",
       "      <td>article</td>\n",
       "      <td>Taking Things for Granted</td>\n",
       "      <td>['Crossword Puzzles']</td>\n",
       "      <td>3</td>\n",
       "      <td>Games</td>\n",
       "      <td>0</td>\n",
       "      <td>2017-04-01 02:00:14</td>\n",
       "      <td>Unknown</td>\n",
       "      <td>In which Howard Barkin and Will Shortz teach u...</td>\n",
       "      <td>The New York Times</td>\n",
       "      <td>News</td>\n",
       "      <td>https://www.nytimes.com/2017/03/31/crosswords/...</td>\n",
       "    </tr>\n",
       "    <tr>\n",
       "      <th>...</th>\n",
       "      <td>...</td>\n",
       "      <td>...</td>\n",
       "      <td>...</td>\n",
       "      <td>...</td>\n",
       "      <td>...</td>\n",
       "      <td>...</td>\n",
       "      <td>...</td>\n",
       "      <td>...</td>\n",
       "      <td>...</td>\n",
       "      <td>...</td>\n",
       "      <td>...</td>\n",
       "      <td>...</td>\n",
       "      <td>...</td>\n",
       "      <td>...</td>\n",
       "      <td>...</td>\n",
       "      <td>...</td>\n",
       "    </tr>\n",
       "    <tr>\n",
       "      <th>9330</th>\n",
       "      <td>NaN</td>\n",
       "      <td>593087d17c459f24986e2ed8</td>\n",
       "      <td>609</td>\n",
       "      <td>By DEB AMLEN</td>\n",
       "      <td>article</td>\n",
       "      <td>Yes, You Can Write More Than One Letter in a S...</td>\n",
       "      <td>['Crossword Puzzles']</td>\n",
       "      <td>65</td>\n",
       "      <td>Games</td>\n",
       "      <td>0</td>\n",
       "      <td>2017-06-01 21:31:55</td>\n",
       "      <td>Unknown</td>\n",
       "      <td>Rebuses are crossword elements where solvers a...</td>\n",
       "      <td>The New York Times</td>\n",
       "      <td>News</td>\n",
       "      <td>https://www.nytimes.com/2017/06/01/crosswords/...</td>\n",
       "    </tr>\n",
       "    <tr>\n",
       "      <th>9331</th>\n",
       "      <td>NaN</td>\n",
       "      <td>59308fdc7c459f24986e2ef2</td>\n",
       "      <td>797</td>\n",
       "      <td>By PAUL KRUGMAN</td>\n",
       "      <td>article</td>\n",
       "      <td>Trump’s Act  Of Gratuitous Destruction</td>\n",
       "      <td>['United States Economy', 'United Nations Fram...</td>\n",
       "      <td>3</td>\n",
       "      <td>OpEd</td>\n",
       "      <td>25</td>\n",
       "      <td>2017-06-01 22:06:15</td>\n",
       "      <td>Unknown</td>\n",
       "      <td>To the president and the right, it’s all about...</td>\n",
       "      <td>The New York Times</td>\n",
       "      <td>Op-Ed</td>\n",
       "      <td>https://www.nytimes.com/2017/06/01/opinion/tru...</td>\n",
       "    </tr>\n",
       "    <tr>\n",
       "      <th>9332</th>\n",
       "      <td>NaN</td>\n",
       "      <td>5930a48f7c459f24986e2f24</td>\n",
       "      <td>945</td>\n",
       "      <td>By GINIA BELLAFANTE</td>\n",
       "      <td>article</td>\n",
       "      <td>Petty Crime, Daunting Bail</td>\n",
       "      <td>['Bail', 'Robberies and Thefts', 'Poverty', 'L...</td>\n",
       "      <td>3</td>\n",
       "      <td>Metropolitan</td>\n",
       "      <td>1</td>\n",
       "      <td>2017-06-01 23:34:14</td>\n",
       "      <td>Unknown</td>\n",
       "      <td>Using conflict resolution and social services ...</td>\n",
       "      <td>The New York Times</td>\n",
       "      <td>News</td>\n",
       "      <td>https://www.nytimes.com/2017/06/01/nyregion/ge...</td>\n",
       "    </tr>\n",
       "    <tr>\n",
       "      <th>9333</th>\n",
       "      <td>NaN</td>\n",
       "      <td>5930aa877c459f24986e2f2a</td>\n",
       "      <td>141</td>\n",
       "      <td>By BARBARA BOLTON</td>\n",
       "      <td>article</td>\n",
       "      <td>Unknown</td>\n",
       "      <td>['Bay Ridge (Brooklyn, NY)']</td>\n",
       "      <td>0</td>\n",
       "      <td>Metro</td>\n",
       "      <td>22</td>\n",
       "      <td>2017-06-02 00:00:04</td>\n",
       "      <td>Unknown</td>\n",
       "      <td>A bus rider wants a tale to conclude before he...</td>\n",
       "      <td>The New York Times</td>\n",
       "      <td>News</td>\n",
       "      <td>https://www.nytimes.com/2017/06/01/nyregion/me...</td>\n",
       "    </tr>\n",
       "    <tr>\n",
       "      <th>9334</th>\n",
       "      <td>NaN</td>\n",
       "      <td>5930ae877c459f24986e2f33</td>\n",
       "      <td>1176</td>\n",
       "      <td>By HIROKO TABUCHI and HENRY FOUNTAIN</td>\n",
       "      <td>article</td>\n",
       "      <td>Bucking Trump, These Cities, States and Compan...</td>\n",
       "      <td>['United Nations Framework Convention on Clima...</td>\n",
       "      <td>3</td>\n",
       "      <td>Foreign</td>\n",
       "      <td>12</td>\n",
       "      <td>2017-06-02 00:17:02</td>\n",
       "      <td>Unknown</td>\n",
       "      <td>An unnamed group, which includes 30 mayors, th...</td>\n",
       "      <td>The New York Times</td>\n",
       "      <td>News</td>\n",
       "      <td>https://www.nytimes.com/2017/06/01/climate/ame...</td>\n",
       "    </tr>\n",
       "  </tbody>\n",
       "</table>\n",
       "<p>9335 rows × 16 columns</p>\n",
       "</div>"
      ],
      "text/plain": [
       "     abstract                 articleID  articleWordCount  \\\n",
       "0         NaN  58def1347c459f24986d7c80               716   \n",
       "1         NaN  58def3237c459f24986d7c84               823   \n",
       "2         NaN  58def9f57c459f24986d7c90               575   \n",
       "3         NaN  58defd317c459f24986d7c95              1374   \n",
       "4         NaN  58df09b77c459f24986d7ca7               708   \n",
       "...       ...                       ...               ...   \n",
       "9330      NaN  593087d17c459f24986e2ed8               609   \n",
       "9331      NaN  59308fdc7c459f24986e2ef2               797   \n",
       "9332      NaN  5930a48f7c459f24986e2f24               945   \n",
       "9333      NaN  5930aa877c459f24986e2f2a               141   \n",
       "9334      NaN  5930ae877c459f24986e2f33              1176   \n",
       "\n",
       "                                    byline documentType  \\\n",
       "0      By STEPHEN HILTNER and SUSAN LEHMAN      article   \n",
       "1                          By GAIL COLLINS      article   \n",
       "2                   By THE EDITORIAL BOARD      article   \n",
       "3                        By MICHAEL POWELL      article   \n",
       "4                             By DEB AMLEN      article   \n",
       "...                                    ...          ...   \n",
       "9330                          By DEB AMLEN      article   \n",
       "9331                       By PAUL KRUGMAN      article   \n",
       "9332                   By GINIA BELLAFANTE      article   \n",
       "9333                     By BARBARA BOLTON      article   \n",
       "9334  By HIROKO TABUCHI and HENRY FOUNTAIN      article   \n",
       "\n",
       "                                               headline  \\\n",
       "0     Finding an Expansive View  of a Forgotten Peop...   \n",
       "1                     And Now,  the Dreaded Trump Curse   \n",
       "2                 Venezuela’s Descent Into Dictatorship   \n",
       "3                 Stain Permeates Basketball Blue Blood   \n",
       "4                             Taking Things for Granted   \n",
       "...                                                 ...   \n",
       "9330  Yes, You Can Write More Than One Letter in a S...   \n",
       "9331             Trump’s Act  Of Gratuitous Destruction   \n",
       "9332                         Petty Crime, Daunting Bail   \n",
       "9333                                            Unknown   \n",
       "9334  Bucking Trump, These Cities, States and Compan...   \n",
       "\n",
       "                                               keywords  multimedia  \\\n",
       "0     ['Photography', 'New York Times', 'Niger', 'Fe...           3   \n",
       "1     ['United States Politics and Government', 'Tru...           3   \n",
       "2     ['Venezuela', 'Politics and Government', 'Madu...           3   \n",
       "3     ['Basketball (College)', 'University of North ...           3   \n",
       "4                                 ['Crossword Puzzles']           3   \n",
       "...                                                 ...         ...   \n",
       "9330                              ['Crossword Puzzles']          65   \n",
       "9331  ['United States Economy', 'United Nations Fram...           3   \n",
       "9332  ['Bail', 'Robberies and Thefts', 'Poverty', 'L...           3   \n",
       "9333                       ['Bay Ridge (Brooklyn, NY)']           0   \n",
       "9334  ['United Nations Framework Convention on Clima...           3   \n",
       "\n",
       "           newDesk  printPage              pubDate         sectionName  \\\n",
       "0          Insider          2  2017-04-01 00:15:41             Unknown   \n",
       "1             OpEd         23  2017-04-01 00:23:58             Unknown   \n",
       "2        Editorial         22  2017-04-01 00:53:06             Unknown   \n",
       "3           Sports          1  2017-04-01 01:06:52  College Basketball   \n",
       "4            Games          0  2017-04-01 02:00:14             Unknown   \n",
       "...            ...        ...                  ...                 ...   \n",
       "9330         Games          0  2017-06-01 21:31:55             Unknown   \n",
       "9331          OpEd         25  2017-06-01 22:06:15             Unknown   \n",
       "9332  Metropolitan          1  2017-06-01 23:34:14             Unknown   \n",
       "9333         Metro         22  2017-06-02 00:00:04             Unknown   \n",
       "9334       Foreign         12  2017-06-02 00:17:02             Unknown   \n",
       "\n",
       "                                                snippet              source  \\\n",
       "0     One of the largest photo displays in Times his...  The New York Times   \n",
       "1                     Meet the gang from under the bus.  The New York Times   \n",
       "2     A court ruling annulling the legislature’s aut...  The New York Times   \n",
       "3     For two decades, until 2013, North Carolina en...  The New York Times   \n",
       "4     In which Howard Barkin and Will Shortz teach u...  The New York Times   \n",
       "...                                                 ...                 ...   \n",
       "9330  Rebuses are crossword elements where solvers a...  The New York Times   \n",
       "9331  To the president and the right, it’s all about...  The New York Times   \n",
       "9332  Using conflict resolution and social services ...  The New York Times   \n",
       "9333  A bus rider wants a tale to conclude before he...  The New York Times   \n",
       "9334  An unnamed group, which includes 30 mayors, th...  The New York Times   \n",
       "\n",
       "     typeOfMaterial                                             webURL  \n",
       "0              News  https://www.nytimes.com/2017/03/31/insider/nig...  \n",
       "1             Op-Ed  https://www.nytimes.com/2017/03/31/opinion/and...  \n",
       "2         Editorial  https://www.nytimes.com/2017/03/31/opinion/ven...  \n",
       "3              News  https://www.nytimes.com/2017/03/31/sports/ncaa...  \n",
       "4              News  https://www.nytimes.com/2017/03/31/crosswords/...  \n",
       "...             ...                                                ...  \n",
       "9330           News  https://www.nytimes.com/2017/06/01/crosswords/...  \n",
       "9331          Op-Ed  https://www.nytimes.com/2017/06/01/opinion/tru...  \n",
       "9332           News  https://www.nytimes.com/2017/06/01/nyregion/ge...  \n",
       "9333           News  https://www.nytimes.com/2017/06/01/nyregion/me...  \n",
       "9334           News  https://www.nytimes.com/2017/06/01/climate/ame...  \n",
       "\n",
       "[9335 rows x 16 columns]"
      ]
     },
     "execution_count": 40,
     "metadata": {},
     "output_type": "execute_result"
    }
   ],
   "source": [
    "combined_articles"
   ]
  },
  {
   "cell_type": "code",
   "execution_count": 33,
   "metadata": {},
   "outputs": [
    {
     "name": "stdout",
     "output_type": "stream",
     "text": [
      "     abstract                 articleID  articleWordCount  \\\n",
      "0         NaN  58def1347c459f24986d7c80               716   \n",
      "1         NaN  58def3237c459f24986d7c84               823   \n",
      "2         NaN  58def9f57c459f24986d7c90               575   \n",
      "3         NaN  58defd317c459f24986d7c95              1374   \n",
      "4         NaN  58df09b77c459f24986d7ca7               708   \n",
      "...       ...                       ...               ...   \n",
      "9330      NaN  593087d17c459f24986e2ed8               609   \n",
      "9331      NaN  59308fdc7c459f24986e2ef2               797   \n",
      "9332      NaN  5930a48f7c459f24986e2f24               945   \n",
      "9333      NaN  5930aa877c459f24986e2f2a               141   \n",
      "9334      NaN  5930ae877c459f24986e2f33              1176   \n",
      "\n",
      "                                    byline documentType  \\\n",
      "0      By STEPHEN HILTNER and SUSAN LEHMAN      article   \n",
      "1                          By GAIL COLLINS      article   \n",
      "2                   By THE EDITORIAL BOARD      article   \n",
      "3                        By MICHAEL POWELL      article   \n",
      "4                             By DEB AMLEN      article   \n",
      "...                                    ...          ...   \n",
      "9330                          By DEB AMLEN      article   \n",
      "9331                       By PAUL KRUGMAN      article   \n",
      "9332                   By GINIA BELLAFANTE      article   \n",
      "9333                     By BARBARA BOLTON      article   \n",
      "9334  By HIROKO TABUCHI and HENRY FOUNTAIN      article   \n",
      "\n",
      "                                               headline  \\\n",
      "0     Finding an Expansive View  of a Forgotten Peop...   \n",
      "1                     And Now,  the Dreaded Trump Curse   \n",
      "2                 Venezuela’s Descent Into Dictatorship   \n",
      "3                 Stain Permeates Basketball Blue Blood   \n",
      "4                             Taking Things for Granted   \n",
      "...                                                 ...   \n",
      "9330  Yes, You Can Write More Than One Letter in a S...   \n",
      "9331             Trump’s Act  Of Gratuitous Destruction   \n",
      "9332                         Petty Crime, Daunting Bail   \n",
      "9333                                            Unknown   \n",
      "9334  Bucking Trump, These Cities, States and Compan...   \n",
      "\n",
      "                                               keywords  multimedia  \\\n",
      "0     ['Photography', 'New York Times', 'Niger', 'Fe...           3   \n",
      "1     ['United States Politics and Government', 'Tru...           3   \n",
      "2     ['Venezuela', 'Politics and Government', 'Madu...           3   \n",
      "3     ['Basketball (College)', 'University of North ...           3   \n",
      "4                                 ['Crossword Puzzles']           3   \n",
      "...                                                 ...         ...   \n",
      "9330                              ['Crossword Puzzles']          65   \n",
      "9331  ['United States Economy', 'United Nations Fram...           3   \n",
      "9332  ['Bail', 'Robberies and Thefts', 'Poverty', 'L...           3   \n",
      "9333                       ['Bay Ridge (Brooklyn, NY)']           0   \n",
      "9334  ['United Nations Framework Convention on Clima...           3   \n",
      "\n",
      "           newDesk  printPage              pubDate         sectionName  \\\n",
      "0          Insider          2  2017-04-01 00:15:41             Unknown   \n",
      "1             OpEd         23  2017-04-01 00:23:58             Unknown   \n",
      "2        Editorial         22  2017-04-01 00:53:06             Unknown   \n",
      "3           Sports          1  2017-04-01 01:06:52  College Basketball   \n",
      "4            Games          0  2017-04-01 02:00:14             Unknown   \n",
      "...            ...        ...                  ...                 ...   \n",
      "9330         Games          0  2017-06-01 21:31:55             Unknown   \n",
      "9331          OpEd         25  2017-06-01 22:06:15             Unknown   \n",
      "9332  Metropolitan          1  2017-06-01 23:34:14             Unknown   \n",
      "9333         Metro         22  2017-06-02 00:00:04             Unknown   \n",
      "9334       Foreign         12  2017-06-02 00:17:02             Unknown   \n",
      "\n",
      "                                                snippet              source  \\\n",
      "0     One of the largest photo displays in Times his...  The New York Times   \n",
      "1                     Meet the gang from under the bus.  The New York Times   \n",
      "2     A court ruling annulling the legislature’s aut...  The New York Times   \n",
      "3     For two decades, until 2013, North Carolina en...  The New York Times   \n",
      "4     In which Howard Barkin and Will Shortz teach u...  The New York Times   \n",
      "...                                                 ...                 ...   \n",
      "9330  Rebuses are crossword elements where solvers a...  The New York Times   \n",
      "9331  To the president and the right, it’s all about...  The New York Times   \n",
      "9332  Using conflict resolution and social services ...  The New York Times   \n",
      "9333  A bus rider wants a tale to conclude before he...  The New York Times   \n",
      "9334  An unnamed group, which includes 30 mayors, th...  The New York Times   \n",
      "\n",
      "     typeOfMaterial                                             webURL  \n",
      "0              News  https://www.nytimes.com/2017/03/31/insider/nig...  \n",
      "1             Op-Ed  https://www.nytimes.com/2017/03/31/opinion/and...  \n",
      "2         Editorial  https://www.nytimes.com/2017/03/31/opinion/ven...  \n",
      "3              News  https://www.nytimes.com/2017/03/31/sports/ncaa...  \n",
      "4              News  https://www.nytimes.com/2017/03/31/crosswords/...  \n",
      "...             ...                                                ...  \n",
      "9330           News  https://www.nytimes.com/2017/06/01/crosswords/...  \n",
      "9331          Op-Ed  https://www.nytimes.com/2017/06/01/opinion/tru...  \n",
      "9332           News  https://www.nytimes.com/2017/06/01/nyregion/ge...  \n",
      "9333           News  https://www.nytimes.com/2017/06/01/nyregion/me...  \n",
      "9334           News  https://www.nytimes.com/2017/06/01/climate/ame...  \n",
      "\n",
      "[9335 rows x 16 columns]\n"
     ]
    }
   ],
   "source": [
    "print(combined_articles)"
   ]
  }
 ],
 "metadata": {
  "kernelspec": {
   "display_name": "base",
   "language": "python",
   "name": "python3"
  },
  "language_info": {
   "codemirror_mode": {
    "name": "ipython",
    "version": 3
   },
   "file_extension": ".py",
   "mimetype": "text/x-python",
   "name": "python",
   "nbconvert_exporter": "python",
   "pygments_lexer": "ipython3",
   "version": "3.11.5"
  }
 },
 "nbformat": 4,
 "nbformat_minor": 2
}
