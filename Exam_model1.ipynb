{
 "cells": [
  {
   "cell_type": "markdown",
   "metadata": {},
   "source": [
    "# **MOCK EXAM**"
   ]
  },
  {
   "cell_type": "markdown",
   "metadata": {},
   "source": [
    "# Mock Exam for NLP\n",
    "\n",
    "## Part 1: Text Preprocessing and Exploration\n",
    "*Using \"Alice’s Adventures in Wonderland\"*\n",
    "\n",
    "**Task 1: Tokenization**\n",
    "- Tokenize the text into words and sentences.\n",
    "\n",
    "**Task 2: Text Cleaning**\n",
    "- Remove special characters and punctuation; convert to lowercase.\n",
    "\n",
    "**Task 3: Stopword Removal**\n",
    "- Eliminate stopwords using NLTK's predefined list.\n",
    "\n",
    "## Part 2: Text Analysis and Linguistic Features\n",
    "*Using \"The Adventures of Sherlock Holmes\"*\n",
    "\n",
    "**Task 4: Frequency Analysis**\n",
    "- Calculate the frequency distribution of words; identify top 10 words.\n",
    "\n",
    "**Task 5: Lexical Diversity**\n",
    "- Measure the diversity of the text's vocabulary.\n",
    "\n",
    "**Task 6: Collocations and N-grams**\n",
    "- Find significant collocations; generate bigrams and trigrams.\n",
    "\n",
    "## Part 3: Contextual Understanding and Visualization\n",
    "*Using \"Moby Dick\"*\n",
    "\n",
    "**Task 7: Concordance Analysis**\n",
    "- Use concordance to study \"whale\" in its textual context.\n",
    "\n",
    "**Task 8: Similar Words and Common Contexts**\n",
    "- Find words with similar usage to \"ship\" and explore common contexts between \"whale\" and \"sea\".\n",
    "\n",
    "**Task 9: Dispersion Plots**\n",
    "- Visualize the occurrences of key maritime-related words throughout the text.\n",
    "\n",
    "## Part 4: Advanced Text Processing Techniques\n",
    "*Using a Sample Web Text such as \"Firefox.txt\"*\n",
    "\n",
    "**Task 10: Stemming and Lemmatization**\n",
    "- Compare the effects of these techniques on the text.\n",
    "\n",
    "**Task 11: Part-of-Speech Tagging**\n",
    "- Automatically tag words with their parts of speech.\n",
    "\n",
    "**Task 12: Named Entity Recognition**\n",
    "- Identify and categorize named entities using SpaCy.\n",
    "\n",
    "## Part 5: Word Embeddings and Sentence Similarity\n",
    "*Using SpaCy's \"en_core_web_md\" Model*\n",
    "\n",
    "**Task 13: Exploring Word Vectors**\n",
    "- Examine the vector representation of \"queen\" and \"king\".\n",
    "\n",
    "**Task 14: Sentence Similarity**\n",
    "- Compute the similarity between \"I have a pet.\" and \"Dogs are animals.\"\n",
    "\n",
    "## Part 6: Machine Learning for NLP\n",
    "*Using the SA Dataset for Sentiment Analysis*\n",
    "\n",
    "**Task 15: Text Classification**\n",
    "- Prepare data, train a model to classify positive and negative sentiments.\n",
    "\n",
    "**Task 16: Model Evaluation**\n",
    "- Use metrics such as accuracy, precision, recall, and F1-score to evaluate the model.\n",
    "\n",
    "## Part 7: Text Generation with LSTM\n",
    "*Using articles from the `text_generation_dataset` folder*\n",
    "\n",
    "**Task 17: Data Preparation**\n",
    "- Load the text data and preprocess it for the LSTM model.\n",
    "- This involves tokenization and encoding the text into sequences.\n",
    "\n",
    "**Task 18: Building the LSTM Model**\n",
    "- Define and compile a simple LSTM model to predict the next character in a sequence.\n",
    "\n",
    "**Task 19: Model Training**\n",
    "- Train the LSTM model on the preprocessed text data.\n",
    "\n",
    "**Task 20: Text Generation**\n",
    "- Use the trained model to generate text.\n"
   ]
  },
  {
   "cell_type": "markdown",
   "metadata": {},
   "source": [
    "## Data Loading and needed installations"
   ]
  },
  {
   "cell_type": "code",
   "execution_count": 1,
   "metadata": {},
   "outputs": [],
   "source": [
    "#!pip install nltk\n",
    "#!pip install matplotlib\n",
    "#!pip install spacy\n",
    "#!python -m spacy download en_core_web_md"
   ]
  },
  {
   "cell_type": "code",
   "execution_count": 2,
   "metadata": {},
   "outputs": [
    {
     "name": "stderr",
     "output_type": "stream",
     "text": [
      "[nltk_data] Downloading collection 'book'\n",
      "[nltk_data]    | \n",
      "[nltk_data]    | Downloading package abc to\n",
      "[nltk_data]    |     /home/ndelafuente/nltk_data...\n",
      "[nltk_data]    |   Package abc is already up-to-date!\n",
      "[nltk_data]    | Downloading package brown to\n",
      "[nltk_data]    |     /home/ndelafuente/nltk_data...\n",
      "[nltk_data]    |   Package brown is already up-to-date!\n",
      "[nltk_data]    | Downloading package chat80 to\n",
      "[nltk_data]    |     /home/ndelafuente/nltk_data...\n",
      "[nltk_data]    |   Package chat80 is already up-to-date!\n",
      "[nltk_data]    | Downloading package cmudict to\n",
      "[nltk_data]    |     /home/ndelafuente/nltk_data...\n",
      "[nltk_data]    |   Package cmudict is already up-to-date!\n",
      "[nltk_data]    | Downloading package conll2000 to\n",
      "[nltk_data]    |     /home/ndelafuente/nltk_data...\n",
      "[nltk_data]    |   Package conll2000 is already up-to-date!\n",
      "[nltk_data]    | Downloading package conll2002 to\n",
      "[nltk_data]    |     /home/ndelafuente/nltk_data...\n",
      "[nltk_data]    |   Package conll2002 is already up-to-date!\n",
      "[nltk_data]    | Downloading package dependency_treebank to\n",
      "[nltk_data]    |     /home/ndelafuente/nltk_data...\n",
      "[nltk_data]    |   Package dependency_treebank is already up-to-date!\n",
      "[nltk_data]    | Downloading package genesis to\n",
      "[nltk_data]    |     /home/ndelafuente/nltk_data...\n",
      "[nltk_data]    |   Package genesis is already up-to-date!\n",
      "[nltk_data]    | Downloading package gutenberg to\n",
      "[nltk_data]    |     /home/ndelafuente/nltk_data...\n",
      "[nltk_data]    |   Package gutenberg is already up-to-date!\n",
      "[nltk_data]    | Downloading package ieer to\n",
      "[nltk_data]    |     /home/ndelafuente/nltk_data...\n",
      "[nltk_data]    |   Package ieer is already up-to-date!\n",
      "[nltk_data]    | Downloading package inaugural to\n",
      "[nltk_data]    |     /home/ndelafuente/nltk_data...\n",
      "[nltk_data]    |   Package inaugural is already up-to-date!\n",
      "[nltk_data]    | Downloading package movie_reviews to\n",
      "[nltk_data]    |     /home/ndelafuente/nltk_data...\n",
      "[nltk_data]    |   Package movie_reviews is already up-to-date!\n",
      "[nltk_data]    | Downloading package nps_chat to\n",
      "[nltk_data]    |     /home/ndelafuente/nltk_data...\n",
      "[nltk_data]    |   Package nps_chat is already up-to-date!\n",
      "[nltk_data]    | Downloading package names to\n",
      "[nltk_data]    |     /home/ndelafuente/nltk_data...\n",
      "[nltk_data]    |   Package names is already up-to-date!\n",
      "[nltk_data]    | Downloading package ppattach to\n",
      "[nltk_data]    |     /home/ndelafuente/nltk_data...\n",
      "[nltk_data]    |   Package ppattach is already up-to-date!\n",
      "[nltk_data]    | Downloading package reuters to\n",
      "[nltk_data]    |     /home/ndelafuente/nltk_data...\n",
      "[nltk_data]    |   Package reuters is already up-to-date!\n",
      "[nltk_data]    | Downloading package senseval to\n",
      "[nltk_data]    |     /home/ndelafuente/nltk_data...\n",
      "[nltk_data]    |   Package senseval is already up-to-date!\n",
      "[nltk_data]    | Downloading package state_union to\n",
      "[nltk_data]    |     /home/ndelafuente/nltk_data...\n",
      "[nltk_data]    |   Package state_union is already up-to-date!\n",
      "[nltk_data]    | Downloading package stopwords to\n",
      "[nltk_data]    |     /home/ndelafuente/nltk_data...\n",
      "[nltk_data]    |   Package stopwords is already up-to-date!\n",
      "[nltk_data]    | Downloading package swadesh to\n",
      "[nltk_data]    |     /home/ndelafuente/nltk_data...\n",
      "[nltk_data]    |   Package swadesh is already up-to-date!\n",
      "[nltk_data]    | Downloading package timit to\n",
      "[nltk_data]    |     /home/ndelafuente/nltk_data...\n",
      "[nltk_data]    |   Package timit is already up-to-date!\n",
      "[nltk_data]    | Downloading package treebank to\n",
      "[nltk_data]    |     /home/ndelafuente/nltk_data...\n",
      "[nltk_data]    |   Package treebank is already up-to-date!\n",
      "[nltk_data]    | Downloading package toolbox to\n",
      "[nltk_data]    |     /home/ndelafuente/nltk_data...\n",
      "[nltk_data]    |   Package toolbox is already up-to-date!\n",
      "[nltk_data]    | Downloading package udhr to\n",
      "[nltk_data]    |     /home/ndelafuente/nltk_data...\n",
      "[nltk_data]    |   Package udhr is already up-to-date!\n",
      "[nltk_data]    | Downloading package udhr2 to\n",
      "[nltk_data]    |     /home/ndelafuente/nltk_data...\n",
      "[nltk_data]    |   Package udhr2 is already up-to-date!\n",
      "[nltk_data]    | Downloading package unicode_samples to\n",
      "[nltk_data]    |     /home/ndelafuente/nltk_data...\n",
      "[nltk_data]    |   Package unicode_samples is already up-to-date!\n",
      "[nltk_data]    | Downloading package webtext to\n",
      "[nltk_data]    |     /home/ndelafuente/nltk_data...\n",
      "[nltk_data]    |   Package webtext is already up-to-date!\n",
      "[nltk_data]    | Downloading package wordnet to\n",
      "[nltk_data]    |     /home/ndelafuente/nltk_data...\n",
      "[nltk_data]    |   Package wordnet is already up-to-date!\n",
      "[nltk_data]    | Downloading package wordnet_ic to\n",
      "[nltk_data]    |     /home/ndelafuente/nltk_data...\n",
      "[nltk_data]    |   Package wordnet_ic is already up-to-date!\n",
      "[nltk_data]    | Downloading package words to\n",
      "[nltk_data]    |     /home/ndelafuente/nltk_data...\n",
      "[nltk_data]    |   Package words is already up-to-date!\n",
      "[nltk_data]    | Downloading package maxent_treebank_pos_tagger to\n",
      "[nltk_data]    |     /home/ndelafuente/nltk_data...\n",
      "[nltk_data]    |   Package maxent_treebank_pos_tagger is already up-\n",
      "[nltk_data]    |       to-date!\n",
      "[nltk_data]    | Downloading package maxent_ne_chunker to\n",
      "[nltk_data]    |     /home/ndelafuente/nltk_data...\n",
      "[nltk_data]    |   Package maxent_ne_chunker is already up-to-date!\n",
      "[nltk_data]    | Downloading package universal_tagset to\n",
      "[nltk_data]    |     /home/ndelafuente/nltk_data...\n",
      "[nltk_data]    |   Package universal_tagset is already up-to-date!\n",
      "[nltk_data]    | Downloading package punkt to\n",
      "[nltk_data]    |     /home/ndelafuente/nltk_data...\n",
      "[nltk_data]    |   Package punkt is already up-to-date!\n",
      "[nltk_data]    | Downloading package book_grammars to\n",
      "[nltk_data]    |     /home/ndelafuente/nltk_data...\n",
      "[nltk_data]    |   Package book_grammars is already up-to-date!\n",
      "[nltk_data]    | Downloading package city_database to\n",
      "[nltk_data]    |     /home/ndelafuente/nltk_data...\n",
      "[nltk_data]    |   Package city_database is already up-to-date!\n",
      "[nltk_data]    | Downloading package tagsets to\n",
      "[nltk_data]    |     /home/ndelafuente/nltk_data...\n",
      "[nltk_data]    |   Package tagsets is already up-to-date!\n",
      "[nltk_data]    | Downloading package panlex_swadesh to\n",
      "[nltk_data]    |     /home/ndelafuente/nltk_data...\n",
      "[nltk_data]    |   Package panlex_swadesh is already up-to-date!\n",
      "[nltk_data]    | Downloading package averaged_perceptron_tagger to\n",
      "[nltk_data]    |     /home/ndelafuente/nltk_data...\n",
      "[nltk_data]    |   Package averaged_perceptron_tagger is already up-\n",
      "[nltk_data]    |       to-date!\n",
      "[nltk_data]    | \n",
      "[nltk_data]  Done downloading collection book\n",
      "[nltk_data] Downloading package punkt to\n",
      "[nltk_data]     /home/ndelafuente/nltk_data...\n",
      "[nltk_data]   Package punkt is already up-to-date!\n",
      "[nltk_data] Downloading package stopwords to\n",
      "[nltk_data]     /home/ndelafuente/nltk_data...\n",
      "[nltk_data]   Package stopwords is already up-to-date!\n",
      "[nltk_data] Downloading package inaugural to\n",
      "[nltk_data]     /home/ndelafuente/nltk_data...\n",
      "[nltk_data]   Package inaugural is already up-to-date!\n",
      "[nltk_data] Downloading package treebank to\n",
      "[nltk_data]     /home/ndelafuente/nltk_data...\n",
      "[nltk_data]   Package treebank is already up-to-date!\n"
     ]
    }
   ],
   "source": [
    "import nltk\n",
    "from nltk.corpus import webtext\n",
    "import os\n",
    "import torch\n",
    "import torch.nn as nn\n",
    "import torch.optim as optim\n",
    "import torch.nn.functional as F\n",
    "import numpy as np\n",
    "import matplotlib.pyplot as plt\n",
    "import random\n",
    "import time\n",
    "import math \n",
    "import string\n",
    "import re\n",
    "import unicodedata\n",
    "from collections import Counter\n",
    "\n",
    "#!spacy download en_core_web_md\n",
    "\n",
    "\n",
    "nltk.download('book')\n",
    "nltk.download('punkt')\n",
    "nltk.download('stopwords')\n",
    "nltk.download('inaugural')\n",
    "nltk.download('treebank')\n",
    "\n",
    "\n",
    "firefox_text = webtext.raw('firefox.txt')\n",
    "firefox_tokens = nltk.word_tokenize(firefox_text)"
   ]
  },
  {
   "cell_type": "markdown",
   "metadata": {},
   "source": [
    "### Load data"
   ]
  },
  {
   "cell_type": "code",
   "execution_count": 3,
   "metadata": {},
   "outputs": [
    {
     "name": "stdout",
     "output_type": "stream",
     "text": [
      "Firefox text: 564601 characters\n",
      "Alice text: 163815 characters\n",
      "Sherlock Holmes text: 580632 characters\n",
      "Moby dick text: 1238254 characters\n",
      "Firefox text: 564601 characters\n",
      "Anna text: 1985223 characters\n",
      "Alexa reviews: 3151 lines\n",
      "SA dataset: 5000 rows\n",
      "Text generation dataset: 9 articles\n"
     ]
    }
   ],
   "source": [
    "\n",
    "# \"Alice’s Adventures in Wonderland\"\n",
    "with open('./exam_data/alice.txt', 'r', encoding='utf-8') as file:\n",
    "    alice_text = file.read()\n",
    "\n",
    "# \"The Adventures of Sherlock Holmes\"\n",
    "with open('./exam_data/Adventures_Holmes.txt', 'r', encoding='utf-8') as file:\n",
    "    holmes_text = file.read()\n",
    "\n",
    "# \"moby_dick\"\n",
    "with open('./exam_data/moby_dick.txt', 'r', encoding='utf-8') as file:\n",
    "    moby_dick_text = file.read()\n",
    "    \n",
    "#Firefox.txt\n",
    "firefox_text = webtext.raw('firefox.txt')\n",
    "\n",
    "# \"Anna\"\n",
    "with open('exam_data/anna.txt', 'r', encoding = 'utf-8') as file:\n",
    "    anna_text = file.read()\n",
    "    \n",
    "# Alexa Reviews\n",
    "with open('./exam_data/alexa_reviews.tsv', 'r', encoding='utf-8') as file:\n",
    "    alexa_reviews = file.readlines()\n",
    "\n",
    "# SA (Sentiment Analysis) Dataset\n",
    "import pandas as pd\n",
    "sa_dataset = pd.read_csv('./exam_data/SA_dataset.csv', delimiter=',')\n",
    "\n",
    "# Text Generation Dataset\n",
    "text_generation_dataset = []\n",
    "text_generation_dataset_path = \"./exam_data/text_generation_dataset/\"\n",
    "\n",
    "# Ensure the directory exists\n",
    "if os.path.exists(text_generation_dataset_path):\n",
    "    # Iterate over each file in the directory\n",
    "    for article_filename in os.listdir(text_generation_dataset_path):\n",
    "        # Construct the full file path\n",
    "        article_path = os.path.join(text_generation_dataset_path, article_filename)\n",
    "        # Check if it's a file and not a directory\n",
    "        if os.path.isfile(article_path):\n",
    "            # Open and read the contents of the file\n",
    "            try:\n",
    "                with open(article_path, 'r', encoding='utf-8') as file:\n",
    "                    articles_text = file.read()\n",
    "                    text_generation_dataset.append(articles_text)\n",
    "            except Exception as e:\n",
    "                print(f\"Error reading {article_path}: {e}\")\n",
    "\n",
    "#Print info of the datasets just to check if they are loaded correctly\n",
    "print(f\"Firefox text: {len(firefox_text)} characters\")\n",
    "print(f\"Alice text: {len(alice_text)} characters\")\n",
    "print(f\"Sherlock Holmes text: {len(holmes_text)} characters\")\n",
    "print(f\"Moby dick text: {len(moby_dick_text)} characters\")\n",
    "print(f\"Firefox text: {len(firefox_text)} characters\")\n",
    "print(f\"Anna text: {len(anna_text)} characters\")\n",
    "print(f\"Alexa reviews: {len(alexa_reviews)} lines\")\n",
    "print(f\"SA dataset: {len(sa_dataset)} rows\")\n",
    "print(f\"Text generation dataset: {len(text_generation_dataset)} articles\")"
   ]
  },
  {
   "cell_type": "markdown",
   "metadata": {},
   "source": [
    "\n",
    "## **Part 1: Text Preprocessing and Exploration**\n",
    "*Using \"Alice’s Adventures in Wonderland\"*\n",
    "\n",
    "**Task 1: Tokenization**\n",
    "- Tokenize the text into words and sentences.\n",
    "\n",
    "**Task 2: Text Cleaning**\n",
    "- Remove special characters and punctuation; convert to lowercase.\n",
    "\n",
    "**Task 3: Stopword Removal**\n",
    "- Eliminate stopwords using NLTK's predefined list.\n",
    "\n",
    "**Additional Task: Compute Basic Text Statistics and Lexical Diversity**\n"
   ]
  },
  {
   "cell_type": "markdown",
   "metadata": {},
   "source": [
    "#### Task 1: Tokenization"
   ]
  },
  {
   "cell_type": "code",
   "execution_count": 4,
   "metadata": {},
   "outputs": [
    {
     "name": "stdout",
     "output_type": "stream",
     "text": [
      "Number of words: 38349\n",
      "Number of sentences: 1093\n"
     ]
    }
   ],
   "source": [
    "# Import necessary libraries\n",
    "import nltk\n",
    "from nltk.tokenize import word_tokenize, sent_tokenize\n",
    "from nltk.corpus import stopwords\n",
    "import string\n",
    "\n",
    "\n",
    "# Tokenize the text into words and sentences\n",
    "alice_words = word_tokenize(alice_text)\n",
    "alice_sentences = sent_tokenize(alice_text)\n",
    "print(f\"Number of words: {len(alice_words)}\")\n",
    "print(f\"Number of sentences: {len(alice_sentences)}\")\n"
   ]
  },
  {
   "cell_type": "markdown",
   "metadata": {},
   "source": [
    "#### Task 2: Text Cleaning"
   ]
  },
  {
   "cell_type": "code",
   "execution_count": 5,
   "metadata": {},
   "outputs": [
    {
     "name": "stdout",
     "output_type": "stream",
     "text": [
      "Total number of words before cleaning: 38349\n",
      "Total number of words after cleaning: 29744\n",
      "Sample words after cleaning: ['project', 'gutenberg', 's', 'alice', 's', 'adventures', 'in', 'wonderland', 'by', 'lewis', 'carroll', 'this', 'ebook', 'is', 'for', 'the', 'use', 'of', 'anyone', 'anywhere', 'at', 'no', 'cost', 'and', 'with', 'almost', 'no', 'restrictions', 'whatsoever', 'you', 'may', 'copy', 'it', 'give', 'it', 'away', 'or', 'it', 'under', 'the', 'terms', 'of', 'the', 'project', 'gutenberg', 'license', 'included', 'with', 'this', 'ebook', 'or', 'online', 'at', 'title', 'alice', 's', 'adventures', 'in', 'wonderland', 'author', 'lewis', 'carroll', 'posting', 'date', 'june', 'ebook', 'release', 'date', 'march', 'last', 'updated', 'october', 'language', 'english', 'character', 'set', 'encoding', 'start', 'of', 'this', 'project', 'gutenberg', 'ebook', 'alice', 's', 'adventures', 'in', 'wonderland', 'alice', 's', 'adventures', 'in', 'wonderland', 'lewis', 'carroll', 'the', 'millennium', 'fulcrum', 'edition', 'chapter']\n"
     ]
    }
   ],
   "source": [
    "\n",
    "\n",
    "# Remove special characters and punctuation; convert to lowercase\n",
    "translator = str.maketrans('', '', string.punctuation)\n",
    "alice_words_clean = [word.translate(translator).lower() for word in alice_words if word.isalpha()]\n",
    "print(f\"Total number of words before cleaning: {len(alice_words)}\")\n",
    "print(f\"Total number of words after cleaning: {len(alice_words_clean)}\")\n",
    "print(f\"Sample words after cleaning: {alice_words_clean[:100]}\")\n"
   ]
  },
  {
   "cell_type": "markdown",
   "metadata": {},
   "source": [
    "#### Task 3: Stopword Removal"
   ]
  },
  {
   "cell_type": "code",
   "execution_count": 6,
   "metadata": {},
   "outputs": [
    {
     "name": "stdout",
     "output_type": "stream",
     "text": [
      "Total number of words before stopword removal: 29744\n",
      "Total number of words after stopword removal: 13446\n",
      "Sample words after stopword removal: ['project', 'gutenberg', 'alice', 'adventures', 'wonderland', 'lewis', 'carroll', 'ebook', 'use', 'anyone', 'anywhere', 'cost', 'almost', 'restrictions', 'whatsoever', 'may', 'copy', 'give', 'away', 'terms', 'project', 'gutenberg', 'license', 'included', 'ebook', 'online', 'title', 'alice', 'adventures', 'wonderland', 'author', 'lewis', 'carroll', 'posting', 'date', 'june', 'ebook', 'release', 'date', 'march', 'last', 'updated', 'october', 'language', 'english', 'character', 'set', 'encoding', 'start', 'project', 'gutenberg', 'ebook', 'alice', 'adventures', 'wonderland', 'alice', 'adventures', 'wonderland', 'lewis', 'carroll', 'millennium', 'fulcrum', 'edition', 'chapter', 'alice', 'beginning', 'get', 'tired', 'sitting', 'sister', 'bank', 'nothing', 'twice', 'peeped', 'book', 'sister', 'reading', 'pictures', 'conversations', 'use', 'book', 'thought', 'alice', 'without', 'pictures', 'conversations', 'considering', 'mind', 'well', 'could', 'hot', 'day', 'made', 'feel', 'sleepy', 'stupid', 'whether', 'pleasure', 'making', 'would']\n"
     ]
    }
   ],
   "source": [
    "\n",
    "\n",
    "# Eliminate stopwords using NLTK's predefined list\n",
    "stop_words = set(stopwords.words('english'))\n",
    "alice_words_final = [word for word in alice_words_clean if word not in stop_words]\n",
    "print(f\"Total number of words before stopword removal: {len(alice_words_clean)}\")\n",
    "print(f\"Total number of words after stopword removal: {len(alice_words_final)}\")\n",
    "print(f\"Sample words after stopword removal: {alice_words_final[:100]}\")\n"
   ]
  },
  {
   "cell_type": "markdown",
   "metadata": {},
   "source": [
    "#### Additional Task: Compute Basic Text Statistics and Lexical Diversity"
   ]
  },
  {
   "cell_type": "code",
   "execution_count": 7,
   "metadata": {},
   "outputs": [
    {
     "name": "stdout",
     "output_type": "stream",
     "text": [
      "Total number of words: 13446\n",
      "Number of unique words: 2772\n",
      "Lexical Diversity: 0.20615796519410978\n"
     ]
    }
   ],
   "source": [
    "\n",
    "\n",
    "# Total number of words\n",
    "total_words = len(alice_words_final)\n",
    "# Number of unique words\n",
    "unique_words = len(set(alice_words_final))\n",
    "# Lexical diversity\n",
    "lexical_diversity = unique_words / total_words\n",
    "print(f\"Total number of words: {total_words}\")\n",
    "print(f\"Number of unique words: {unique_words}\")\n",
    "print(f\"Lexical Diversity: {lexical_diversity}\")"
   ]
  },
  {
   "cell_type": "markdown",
   "metadata": {},
   "source": [
    "\n",
    "---------------------------------------------------------"
   ]
  },
  {
   "cell_type": "markdown",
   "metadata": {},
   "source": [
    "\n",
    "## **Part 2: Text Analysis and Linguistic Features**\n",
    "*Using \"The Adventures of Sherlock Holmes\"*\n",
    "\n",
    "**Task 4: Frequency Analysis**\n",
    "- Calculate the frequency distribution of words; identify top 10 words.\n",
    "\n",
    "**Task 5: Lexical Diversity**\n",
    "- Measure the diversity of the text's vocabulary.\n",
    "\n",
    "**Task 6: Collocations and N-grams**\n",
    "- Find significant collocations; generate bigrams and trigrams.\n",
    "\n"
   ]
  },
  {
   "cell_type": "markdown",
   "metadata": {},
   "source": [
    "#### Task 4: Frequency Analysis\n"
   ]
  },
  {
   "cell_type": "code",
   "execution_count": 8,
   "metadata": {},
   "outputs": [
    {
     "name": "stdout",
     "output_type": "stream",
     "text": [
      "Top 10 most common words: [('the', 5791), ('and', 3064), ('i', 3026), ('of', 2767), ('to', 2759), ('a', 2680), ('in', 1814), ('that', 1752), ('it', 1699), ('you', 1528)]\n"
     ]
    }
   ],
   "source": [
    "# Import necessary libraries\n",
    "from nltk import FreqDist, bigrams, trigrams, collocations\n",
    "import matplotlib.pyplot as plt\n",
    "\n",
    "# Preprocessing: Tokenization and cleaning\n",
    "holmes_tokens = [word.lower() for word in word_tokenize(holmes_text) if word.isalpha()]\n",
    "\n",
    "# Calculate the frequency distribution of words and identify top 10 words\n",
    "fdist = FreqDist(holmes_tokens)\n",
    "top_10_words = fdist.most_common(10)\n",
    "print(\"Top 10 most common words:\", top_10_words)"
   ]
  },
  {
   "cell_type": "markdown",
   "metadata": {},
   "source": [
    "#### Task 5: Lexical Diversity"
   ]
  },
  {
   "cell_type": "code",
   "execution_count": 9,
   "metadata": {},
   "outputs": [
    {
     "name": "stdout",
     "output_type": "stream",
     "text": [
      "Lexical Diversity: 0.07385822572658363\n"
     ]
    }
   ],
   "source": [
    "# Measure the diversity of the text's vocabulary\n",
    "total_words = len(holmes_tokens)\n",
    "unique_words = len(set(holmes_tokens))\n",
    "lexical_diversity = unique_words / total_words\n",
    "print(f\"Lexical Diversity: {lexical_diversity}\")"
   ]
  },
  {
   "cell_type": "markdown",
   "metadata": {},
   "source": [
    "\n",
    "#### Task 6: Collocations and N-grams"
   ]
  },
  {
   "cell_type": "code",
   "execution_count": 10,
   "metadata": {},
   "outputs": [
    {
     "name": "stdout",
     "output_type": "stream",
     "text": [
      "Significant Collocations: [('abusive', 'expressions'), ('accepting', 'unsolicited'), ('alicia', 'whittington'), ('alley', 'lurking'), ('alteration', 'modification'), ('amply', 'repaid'), ('anatomy', 'unsystematic'), ('apache', 'indians'), ('arnsworth', 'castle'), ('atkinson', 'brothers')]\n",
      "Sample Bigrams: [('adventures', 'of'), ('of', 'sherlock'), ('sherlock', 'holmes'), ('holmes', 'by'), ('by', 'arthur'), ('arthur', 'conan'), ('conan', 'doyle'), ('doyle', 'contents'), ('contents', 'i'), ('i', 'a')]\n",
      "Sample Trigrams: [('adventures', 'of', 'sherlock'), ('of', 'sherlock', 'holmes'), ('sherlock', 'holmes', 'by'), ('holmes', 'by', 'arthur'), ('by', 'arthur', 'conan'), ('arthur', 'conan', 'doyle'), ('conan', 'doyle', 'contents'), ('doyle', 'contents', 'i'), ('contents', 'i', 'a'), ('i', 'a', 'scandal')]\n"
     ]
    }
   ],
   "source": [
    "# Find significant collocations\n",
    "bigram_measures = collocations.BigramAssocMeasures()\n",
    "finder = collocations.BigramCollocationFinder.from_words(holmes_tokens)\n",
    "significant_collocations = finder.nbest(bigram_measures.pmi, 10)  # top 10\n",
    "print(\"Significant Collocations:\", significant_collocations)\n",
    "\n",
    "# Generate bigrams and trigrams\n",
    "generated_bigrams = list(bigrams(holmes_tokens))\n",
    "generated_trigrams = list(trigrams(holmes_tokens))\n",
    "print(\"Sample Bigrams:\", generated_bigrams[:10])\n",
    "print(\"Sample Trigrams:\", generated_trigrams[:10])"
   ]
  },
  {
   "cell_type": "markdown",
   "metadata": {},
   "source": [
    "#### Extra Task: Visualize Frequency Distribution"
   ]
  },
  {
   "cell_type": "code",
   "execution_count": 11,
   "metadata": {},
   "outputs": [
    {
     "data": {
      "image/png": "[encoded data removed]",
      "text/plain": [
       "<Figure size 640x480 with 1 Axes>"
      ]
     },
     "metadata": {},
     "output_type": "display_data"
    }
   ],
   "source": [
    "# Plot the frequency distribution of the top 30 most common words\n",
    "fdist.plot(30, cumulative=False)\n",
    "plt.show()"
   ]
  },
  {
   "cell_type": "markdown",
   "metadata": {},
   "source": [
    "-----------------------------------"
   ]
  },
  {
   "cell_type": "markdown",
   "metadata": {},
   "source": [
    "## **Part 3: Contextual Understanding and Visualization**\n",
    "*Using \"Moby Dick\"*\n",
    "\n",
    "**Task 7: Concordance Analysis**\n",
    "- Use concordance to study \"whale\" in its textual context.\n",
    "\n",
    "**Task 8: Similar Words and Common Contexts**\n",
    "- Find words with similar usage to \"ship\" and explore common contexts between \"whale\" and \"sea\".\n",
    "\n",
    "**Task 9: Dispersion Plots**\n",
    "- Visualize the occurrences of key maritime-related words throughout the text.\n",
    "\n",
    "\n"
   ]
  },
  {
   "cell_type": "code",
   "execution_count": 12,
   "metadata": {},
   "outputs": [],
   "source": [
    "# Import necessary libraries\n",
    "from nltk.text import Text\n",
    "\n",
    "# Preprocessing: Tokenization and Text object creation\n",
    "moby_tokens = word_tokenize(moby_dick_text.lower())\n",
    "moby_nltk_text = Text(moby_tokens)"
   ]
  },
  {
   "cell_type": "markdown",
   "metadata": {},
   "source": [
    "#### Task 7: Concordance Analysis"
   ]
  },
  {
   "cell_type": "code",
   "execution_count": 13,
   "metadata": {},
   "outputs": [
    {
     "name": "stdout",
     "output_type": "stream",
     "text": [
      "Displaying 25 of 1075 matches:\n",
      "utenberg ebook of moby dick ; or the whale , by herman melville this ebook is f\n",
      "nberg.org title : moby dick ; or the whale author : herman melville release dat\n",
      "t gutenberg ebook moby dick ; or the whale * * * produced by daniel lazarus , j\n",
      "nd david widger moby-dick ; or , the whale . by herman melville contents etymol\n",
      "k . chapter 42. the whiteness of the whale . chapter 43. hark ! chapter 44. the\n",
      "the line . chapter 61. stubb kills a whale . chapter 62. the dart . chapter 63.\n",
      ". stubb ’ s supper . chapter 65. the whale as a dish . chapter 66. the shark ma\n",
      "ter 73. stubb and flask kill a right whale ; and then have a talk over him . ch\n",
      "alk over him . chapter 74. the sperm whale ’ s head—contrasted view . chapter 7\n",
      "trasted view . chapter 75. the right whale ’ s head—contrasted view . chapter 7\n",
      "es . chapter 103. measurement of the whale ’ s skeleton . chapter 104. the foss\n",
      "s skeleton . chapter 104. the fossil whale . chapter 105. does the whale ’ s ma\n",
      "fossil whale . chapter 105. does the whale ’ s magnitude diminish ? —will he pe\n",
      "he bachelor . chapter 116. the dying whale . chapter 117. the whale watch . cha\n",
      ". the dying whale . chapter 117. the whale watch . chapter 118. the quadrant . \n",
      " which is not true. ” —_hackluyt._ “ whale . * * * sw. and dan . _hval_ . this \n",
      "lted. ” —_webster ’ s dictionary._ “ whale . * * * it is more immediately from \n",
      ". wal , _dutch_ . hwal , _swedish_ . whale , _icelandic_ . whale , _english_ . \n",
      " , _swedish_ . whale , _icelandic_ . whale , _english_ . ballena , _spanish_ . \n",
      "t least , take the higgledy-piggledy whale statements , however authentic , in \n",
      " dreadful gulf of this monster ’ s ( whale ’ s ) mouth , are immediately lost a\n",
      " patient job. ” —_rabelais_ . “ this whale ’ s liver was two cartloads. ” —_sto\n",
      " touching that monstrous bulk of the whale or ork we have received nothing cert\n",
      "restless paine , like as the wounded whale to shore flies thro ’ the maine. ” —\n",
      ". of sperma ceti and the sperma ceti whale . vide his v. e._ “ like spencer ’ s\n"
     ]
    }
   ],
   "source": [
    "# Use concordance to study \"whale\" in its textual context\n",
    "moby_nltk_text.concordance(\"whale\")\n",
    "\n"
   ]
  },
  {
   "cell_type": "code",
   "execution_count": 14,
   "metadata": {},
   "outputs": [
    {
     "name": "stdout",
     "output_type": "stream",
     "text": [
      "Displaying 7 of 7 matches:\n",
      "ather to spring , somehow , from intelligence than from ignorance . outward po\n",
      "e instinct—say , rather , secret intelligence from the deity—mostly swim in _v\n",
      "would receive the latest whaling intelligence from the cruising-ground to whic\n",
      " made . greedily sucking in this intelligence , gabriel solemnly warned the ca\n",
      "c part of him as the seat of his intelligence . it is plain , then , that phre\n",
      " argue some uncommon vivacity of intelligence . but not precisely so . for not\n",
      " moby dick , with that malicious intelligence ascribed to him , sidelingly tra\n"
     ]
    }
   ],
   "source": [
    "# Use concordance to study \"intelligence\" in its textual context\n",
    "moby_nltk_text.concordance(\"intelligence\")"
   ]
  },
  {
   "cell_type": "markdown",
   "metadata": {},
   "source": [
    "#### Task 8: Similar Words and Common Contexts"
   ]
  },
  {
   "cell_type": "code",
   "execution_count": 15,
   "metadata": {},
   "outputs": [
    {
     "name": "stdout",
     "output_type": "stream",
     "text": [
      "Words similar to 'ship':\n",
      "whale boat sea world captain crew man pequod head way time line deck\n",
      "other body water boats air devil side\n",
      "Common contexts for 'whale' and 'sea':\n",
      "the_is the_and the_the the_as the_in the_was the_i the_by the_which\n",
      "the_when the_so the_all the_had the_with the_to the_chapter the_that\n",
      "the_a the_but the_of\n"
     ]
    }
   ],
   "source": [
    "# Find words with similar usage to \"ship\"\n",
    "print(\"Words similar to 'ship':\")\n",
    "moby_nltk_text.similar(\"ship\")\n",
    "\n",
    "# Explore common contexts between \"whale\" and \"sea\"\n",
    "print(\"Common contexts for 'whale' and 'sea':\")\n",
    "moby_nltk_text.common_contexts([\"whale\", \"sea\"])\n"
   ]
  },
  {
   "cell_type": "markdown",
   "metadata": {},
   "source": [
    "#### Task 9: Dispersion Plots"
   ]
  },
  {
   "cell_type": "code",
   "execution_count": 16,
   "metadata": {},
   "outputs": [
    {
     "data": {
      "image/png": "[encoded data removed]",
      "text/plain": [
       "<Figure size 640x480 with 1 Axes>"
      ]
     },
     "metadata": {},
     "output_type": "display_data"
    }
   ],
   "source": [
    "# Visualize the occurrences of key maritime-related words throughout the text\n",
    "words_of_interest = [\"whale\", \"ship\", \"sea\", \"ahab\", \"pequod\"]\n",
    "moby_nltk_text.dispersion_plot(words_of_interest)"
   ]
  },
  {
   "cell_type": "markdown",
   "metadata": {},
   "source": [
    "#### Extra Task: Content Analysis"
   ]
  },
  {
   "cell_type": "code",
   "execution_count": 17,
   "metadata": {},
   "outputs": [
    {
     "name": "stdout",
     "output_type": "stream",
     "text": [
      "Thematic word counts: {'whale': 1075, 'ship': 460, 'sea': 375, 'ahab': 494, 'pequod': 175, 'ocean': 70}\n"
     ]
    }
   ],
   "source": [
    "# Count the mention of key thematic words and analyze their significance\n",
    "thematic_words = ['whale', 'ship', 'sea', 'ahab', 'pequod', 'ocean']\n",
    "word_freq = FreqDist(moby_nltk_text)\n",
    "thematic_word_counts = {word: word_freq[word] for word in thematic_words}\n",
    "print(\"Thematic word counts:\", thematic_word_counts)"
   ]
  },
  {
   "cell_type": "markdown",
   "metadata": {},
   "source": [
    "-------------------------------------------------------------"
   ]
  },
  {
   "cell_type": "markdown",
   "metadata": {},
   "source": [
    "\n",
    "## **Part 4: Advanced Text Processing Techniques**\n",
    "*Using a Sample Web Text such as \"Firefox.txt\"*\n",
    "\n",
    "**Task 10: Stemming and Lemmatization**\n",
    "- Compare the effects of these techniques on the text.\n",
    "\n",
    "**Task 11: Part-of-Speech Tagging**\n",
    "- Automatically tag words with their parts of speech.\n",
    "\n",
    "**Task 12: Named Entity Recognition**\n",
    "- Identify and categorize named entities using SpaCy."
   ]
  },
  {
   "cell_type": "code",
   "execution_count": 18,
   "metadata": {},
   "outputs": [],
   "source": [
    "# Import necessary libraries\n",
    "from nltk.stem import PorterStemmer, WordNetLemmatizer\n",
    "from nltk import pos_tag\n",
    "import spacy\n",
    "\n",
    "# Load SpaCy's English tokenizer\n",
    "nlp = spacy.load('en_core_web_md')\n",
    "\n",
    "# Preprocessing: Tokenization\n",
    "firefox_tokens = word_tokenize(firefox_text.lower())\n"
   ]
  },
  {
   "cell_type": "markdown",
   "metadata": {},
   "source": [
    "#### Task 10: Stemming and Lemmatization"
   ]
  },
  {
   "cell_type": "code",
   "execution_count": 19,
   "metadata": {},
   "outputs": [
    {
     "name": "stdout",
     "output_type": "stream",
     "text": [
      "Sample stems: ['cooki', 'manag', ':', '``', 'do', \"n't\", 'allow', 'site', 'that', 'set', 'remov', 'cooki', 'to', 'set', 'futur', 'cooki', \"''\", 'should', 'stay', 'check']\n",
      "Sample lemmas: ['cookie', 'manager', ':', '``', 'do', \"n't\", 'allow', 'site', 'that', 'set', 'removed', 'cooky', 'to', 'set', 'future', 'cooky', \"''\", 'should', 'stay', 'checked']\n"
     ]
    }
   ],
   "source": [
    "# Initialize stemmer and lemmatizer\n",
    "stemmer = PorterStemmer()\n",
    "lemmatizer = WordNetLemmatizer()\n",
    "\n",
    "# Apply stemming and lemmatization\n",
    "stems = [stemmer.stem(token) for token in firefox_tokens]\n",
    "lemmas = [lemmatizer.lemmatize(token) for token in firefox_tokens]\n",
    "\n",
    "print(\"Sample stems:\", stems[:20])\n",
    "print(\"Sample lemmas:\", lemmas[:20])\n"
   ]
  },
  {
   "cell_type": "markdown",
   "metadata": {},
   "source": [
    "#### Task 11: Part-of-Speech Tagging"
   ]
  },
  {
   "cell_type": "code",
   "execution_count": 20,
   "metadata": {},
   "outputs": [
    {
     "name": "stdout",
     "output_type": "stream",
     "text": [
      "Sample POS tags: [('cookie', 'NN'), ('manager', 'NN'), (':', ':'), ('``', '``'), ('do', 'VBP'), (\"n't\", 'RB'), ('allow', 'VB'), ('sites', 'NNS'), ('that', 'WDT'), ('set', 'VBP'), ('removed', 'VBN'), ('cookies', 'NNS'), ('to', 'TO'), ('set', 'VB'), ('future', 'JJ'), ('cookies', 'NNS'), (\"''\", \"''\"), ('should', 'MD'), ('stay', 'VB'), ('checked', 'VBD')]\n"
     ]
    }
   ],
   "source": [
    "# Automatically tag words with their parts of speech\n",
    "pos_tags = pos_tag(firefox_tokens)\n",
    "print(\"Sample POS tags:\", pos_tags[:20])"
   ]
  },
  {
   "cell_type": "markdown",
   "metadata": {},
   "source": [
    "#### Task 12: Named Entity Recognition"
   ]
  },
  {
   "cell_type": "code",
   "execution_count": 21,
   "metadata": {},
   "outputs": [
    {
     "name": "stdout",
     "output_type": "stream",
     "text": [
      "Sample Named Entities: [('Phoenix', 'GPE'), ('UI', 'ORG'), ('Mozilla', 'ORG'), ('second', 'ORDINAL'), ('Phoenix', 'GPE'), ('Mozilla', 'ORG'), ('Phoenix', 'GPE'), ('Satchel', 'PERSON'), ('Mousing', 'ORG'), ('second', 'ORDINAL'), ('ptoolbar', 'GPE'), ('Customising', 'GPE'), ('160019', 'CARDINAL'), ('Quick Launch (Turbo', 'PRODUCT'), ('URLbar', 'ORG'), ('second', 'ORDINAL'), ('the Navigation Toolbar', 'ORG'), ('Uabar', 'ORG'), ('Theme', 'ORG'), ('Options', 'ORG')]\n"
     ]
    }
   ],
   "source": [
    "# Identify and categorize named entities using SpaCy\n",
    "doc = nlp(firefox_text)\n",
    "named_entities = [(entity.text, entity.label_) for entity in doc.ents]\n",
    "print(\"Sample Named Entities:\", named_entities[:20])"
   ]
  },
  {
   "cell_type": "markdown",
   "metadata": {},
   "source": [
    "#### Extra Task: Dependency Parsing"
   ]
  },
  {
   "cell_type": "code",
   "execution_count": 22,
   "metadata": {},
   "outputs": [
    {
     "name": "stdout",
     "output_type": "stream",
     "text": [
      "Dependencies in the first sentence: [('Cookie', 'compound', 'Manager'), ('Manager', 'dep', 'allow'), (':', 'punct', 'Manager'), ('\"', 'punct', 'allow'), ('Do', 'aux', 'allow'), (\"n't\", 'neg', 'allow'), ('allow', 'ROOT', 'allow'), ('sites', 'dobj', 'allow'), ('that', 'nsubj', 'set'), ('set', 'relcl', 'sites'), ('removed', 'amod', 'cookies'), ('cookies', 'dobj', 'set'), ('to', 'aux', 'set'), ('set', 'advcl', 'set'), ('future', 'amod', 'cookies'), ('cookies', 'dobj', 'set'), ('\"', 'punct', 'sites'), ('should', 'aux', 'stay'), ('stay', 'ccomp', 'allow'), ('checked', 'acomp', 'stay'), ('\\r\\n', 'dep', 'checked')]\n"
     ]
    }
   ],
   "source": [
    "# Analyze the sentence structure using dependency parsing\n",
    "sample_sentence = list(doc.sents)[0]\n",
    "dependencies = [(token.text, token.dep_, token.head.text) for token in sample_sentence]\n",
    "print(\"Dependencies in the first sentence:\", dependencies)"
   ]
  },
  {
   "cell_type": "markdown",
   "metadata": {},
   "source": [
    "\n",
    "## **Part 5: Word Embeddings and Sentence Similarity**\n",
    "*Using SpaCy's \"en_core_web_md\" Model*\n",
    "\n",
    "**Task 13: Exploring Word Vectors**\n",
    "- Examine the vector representation of \"queen\" and \"king\".\n",
    "\n",
    "**Task 14: Sentence Similarity**\n",
    "- Compute the similarity between \"I have a pet.\" and \"Dogs are animals.\""
   ]
  },
  {
   "cell_type": "code",
   "execution_count": 23,
   "metadata": {},
   "outputs": [],
   "source": [
    "# Import necessary libraries\n",
    "import spacy\n",
    "import matplotlib.pyplot as plt\n",
    "from sklearn.manifold import TSNE\n",
    "\n",
    "# Load SpaCy's English model\n",
    "nlp = spacy.load('en_core_web_md')"
   ]
  },
  {
   "cell_type": "markdown",
   "metadata": {},
   "source": [
    "#### Task 13: Exploring Word Vectors"
   ]
  },
  {
   "cell_type": "code",
   "execution_count": 24,
   "metadata": {},
   "outputs": [
    {
     "name": "stdout",
     "output_type": "stream",
     "text": [
      "Vector for 'queen': [ 2.167    0.29991 -3.1277  -2.7817  -0.26743]\n",
      "Vector for 'king': [-0.11296 -4.1865  -1.8453   0.30781  2.4956 ]\n",
      "Similarity between 'queen' and 'king': 61.08841628588695%\n"
     ]
    }
   ],
   "source": [
    "# Examine the vector representation of \"queen\" and \"king\"\n",
    "queen = nlp(\"queen\")\n",
    "king = nlp(\"king\")\n",
    "\n",
    "print(\"Vector for 'queen':\", queen.vector[:5])  # Display first 5 elements for brevity\n",
    "print(\"Vector for 'king':\", king.vector[:5])    # Display first 5 elements for brevity\n",
    "\n",
    "#Compute the similarity between \"queen\" and \"king\"\n",
    "similarity = queen.similarity(king)\n",
    "print(\"Similarity between 'queen' and 'king':\",str(similarity*100)+\"%\")\n"
   ]
  },
  {
   "cell_type": "markdown",
   "metadata": {},
   "source": [
    "#### Task 14: Sentence Similarity"
   ]
  },
  {
   "cell_type": "code",
   "execution_count": 25,
   "metadata": {},
   "outputs": [
    {
     "name": "stdout",
     "output_type": "stream",
     "text": [
      "Similarity between sentences: 0.4070589692292363\n"
     ]
    }
   ],
   "source": [
    "# Compute the similarity between \"I have a pet.\" and \"Dogs are animals.\"\n",
    "sentence1 = nlp(\"I have a pet.\")\n",
    "sentence2 = nlp(\"Dogs are animals.\")\n",
    "similarity_score = sentence1.similarity(sentence2)\n",
    "print(\"Similarity between sentences:\", similarity_score)"
   ]
  },
  {
   "cell_type": "code",
   "execution_count": 26,
   "metadata": {},
   "outputs": [
    {
     "name": "stdout",
     "output_type": "stream",
     "text": [
      "Similarity between sentences: 0.6292748338239498\n"
     ]
    }
   ],
   "source": [
    "# Compute the similarity between \"I have a pet.\" and \"We enjoy nlp.\"\n",
    "sentence1 = nlp(\"I have a pet.\")\n",
    "sentence2 = nlp(\"We enjoy nlp.\")\n",
    "similarity_score = sentence1.similarity(sentence2)\n",
    "print(\"Similarity between sentences:\", similarity_score)"
   ]
  },
  {
   "cell_type": "markdown",
   "metadata": {},
   "source": [
    "#### Extra Task: Clustering Word Vectors"
   ]
  },
  {
   "cell_type": "code",
   "execution_count": 27,
   "metadata": {},
   "outputs": [
    {
     "data": {
      "image/png": "[encoded data removed]",
      "text/plain": [
       "<Figure size 500x500 with 1 Axes>"
      ]
     },
     "metadata": {},
     "output_type": "display_data"
    }
   ],
   "source": [
    "# To visualize semantic relationships, let's perform a clustering of selected word vectors\n",
    "\n",
    "words = [\"dog\", \"cat\", \"fish\", \"horse\", \"lion\", \"tiger\", \"queen\", \"king\", \"woman\", \"man\"]\n",
    "word_vectors = [nlp(word).vector for word in words]\n",
    "\n",
    "# Convert list of vectors to a NumPy array\n",
    "word_vectors = np.array(word_vectors)\n",
    "\n",
    "# Use t-SNE to reduce dimensionality\n",
    "tsne = TSNE(n_components=2, random_state=0, perplexity=5)\n",
    "word_vectors_2d = tsne.fit_transform(word_vectors)\n",
    "\n",
    "# Plotting the results\n",
    "plt.figure(figsize=(5, 5))\n",
    "plt.scatter(word_vectors_2d[:, 0], word_vectors_2d[:, 1])\n",
    "for i, word in enumerate(words):\n",
    "    plt.annotate(word, xy=(word_vectors_2d[i, 0], word_vectors_2d[i, 1]), xytext=(5, 2),\n",
    "                 textcoords='offset points', ha='right', va='bottom')\n",
    "plt.show()"
   ]
  },
  {
   "cell_type": "markdown",
   "metadata": {},
   "source": [
    "\n",
    "## **Part 6: Machine Learning for NLP**\n",
    "*Using the SA Dataset for Sentiment Analysis*\n",
    "\n",
    "**Task 15: Text Classification**\n",
    "- Prepare data, train a model to classify positive and negative sentiments.\n",
    "\n",
    "**Task 16: Model Evaluation**\n",
    "- Use metrics such as accuracy, precision, recall, and F1-score to evaluate the model.\n"
   ]
  },
  {
   "cell_type": "code",
   "execution_count": 28,
   "metadata": {},
   "outputs": [],
   "source": [
    "# Import necessary libraries\n",
    "from sklearn.model_selection import train_test_split\n",
    "from sklearn.feature_extraction.text import CountVectorizer\n",
    "from sklearn.naive_bayes import MultinomialNB\n",
    "from sklearn.svm import SVC\n",
    "\n",
    "from sklearn.metrics import accuracy_score, precision_score, recall_score, f1_score\n",
    "import pandas as pd\n",
    "\n",
    "# Preprocessing: Extract features and labels\n",
    "X = sa_dataset['Review']\n",
    "y = sa_dataset['Sentiment']\n",
    "\n",
    "# Vectorize the text data\n",
    "vectorizer = CountVectorizer()\n",
    "X_vectorized = vectorizer.fit_transform(X)\n",
    "\n",
    "# Split data into training and testing sets\n",
    "X_train, X_test, y_train, y_test = train_test_split(X_vectorized, y, test_size=0.2, random_state=42)\n"
   ]
  },
  {
   "cell_type": "code",
   "execution_count": 29,
   "metadata": {},
   "outputs": [
    {
     "name": "stdout",
     "output_type": "stream",
     "text": [
      "X_train shape: (4000, 17769)\n",
      "X_test shape: (1000, 17769)\n",
      "-------------------\n",
      "y_train shape: (4000,)\n",
      "y_test shape: (1000,)\n",
      "-------------------\n",
      "y_train distribution: Sentiment\n",
      "1    2214\n",
      "0    1786\n",
      "Name: count, dtype: int64\n",
      "y_test distribution: Sentiment\n",
      "1    536\n",
      "0    464\n",
      "Name: count, dtype: int64\n",
      "-------------------\n",
      "X_train sample:   (0, 15772)\t6\n",
      "  (0, 10329)\t4\n",
      "  (0, 15846)\t1\n",
      "  (0, 10916)\t2\n",
      "  (0, 8269)\t5\n",
      "  (0, 2275)\t1\n",
      "  (0, 8294)\t3\n",
      "  (0, 6727)\t1\n",
      "  (0, 7884)\t2\n",
      "  (0, 772)\t5\n",
      "  (0, 10766)\t1\n",
      "  (0, 1964)\t1\n",
      "  (0, 14518)\t2\n",
      "  (0, 16004)\t4\n",
      "  (0, 4645)\t1\n",
      "  (0, 8757)\t1\n",
      "  (0, 17338)\t1\n",
      "  (0, 9122)\t1\n",
      "  (0, 17238)\t1\n",
      "  (0, 8549)\t1\n",
      "  (0, 16872)\t1\n",
      "  (0, 6365)\t1\n",
      "  (0, 10447)\t1\n",
      "  (0, 17128)\t2\n",
      "  (0, 975)\t1\n",
      "  :\t:\n",
      "  (4, 15213)\t1\n",
      "  (4, 12041)\t1\n",
      "  (4, 3152)\t1\n",
      "  (4, 14436)\t1\n",
      "  (4, 11810)\t1\n",
      "  (4, 11642)\t1\n",
      "  (4, 7114)\t1\n",
      "  (4, 7377)\t1\n",
      "  (4, 5465)\t1\n",
      "  (4, 75)\t1\n",
      "  (4, 15210)\t1\n",
      "  (4, 2212)\t1\n",
      "  (4, 13669)\t1\n",
      "  (4, 187)\t1\n",
      "  (4, 2014)\t1\n",
      "  (4, 2067)\t1\n",
      "  (4, 15297)\t1\n",
      "  (4, 3035)\t1\n",
      "  (4, 16892)\t1\n",
      "  (4, 1456)\t2\n",
      "  (4, 6796)\t1\n",
      "  (4, 4821)\t1\n",
      "  (4, 6949)\t1\n",
      "  (4, 7953)\t1\n",
      "  (4, 3037)\t1\n",
      "y_train sample: 4227    0\n",
      "4676    1\n",
      "800     0\n",
      "3671    1\n",
      "4193    0\n",
      "Name: Sentiment, dtype: int64\n",
      "-------------------\n",
      "X_test sample:   (0, 15772)\t3\n",
      "  (0, 10329)\t2\n",
      "  (0, 5895)\t2\n",
      "  (0, 8269)\t1\n",
      "  (0, 8294)\t2\n",
      "  (0, 5387)\t1\n",
      "  (0, 10982)\t2\n",
      "  (0, 7884)\t1\n",
      "  (0, 6855)\t1\n",
      "  (0, 14518)\t1\n",
      "  (0, 13806)\t1\n",
      "  (0, 13725)\t2\n",
      "  (0, 15803)\t1\n",
      "  (0, 17253)\t1\n",
      "  (0, 17447)\t1\n",
      "  (0, 1570)\t1\n",
      "  (0, 17128)\t1\n",
      "  (0, 15769)\t1\n",
      "  (0, 6134)\t2\n",
      "  (0, 10429)\t1\n",
      "  (0, 8440)\t1\n",
      "  (0, 7414)\t1\n",
      "  (0, 757)\t1\n",
      "  (0, 15831)\t1\n",
      "  (0, 8453)\t2\n",
      "  :\t:\n",
      "  (4, 17155)\t1\n",
      "  (4, 16872)\t1\n",
      "  (4, 518)\t2\n",
      "  (4, 17675)\t1\n",
      "  (4, 10447)\t1\n",
      "  (4, 17146)\t1\n",
      "  (4, 1054)\t1\n",
      "  (4, 10429)\t1\n",
      "  (4, 5153)\t1\n",
      "  (4, 284)\t1\n",
      "  (4, 15872)\t1\n",
      "  (4, 4347)\t1\n",
      "  (4, 10983)\t1\n",
      "  (4, 10026)\t1\n",
      "  (4, 2656)\t1\n",
      "  (4, 5764)\t1\n",
      "  (4, 1305)\t1\n",
      "  (4, 12299)\t1\n",
      "  (4, 7114)\t1\n",
      "  (4, 1517)\t1\n",
      "  (4, 12449)\t1\n",
      "  (4, 16683)\t1\n",
      "  (4, 5391)\t1\n",
      "  (4, 12268)\t1\n",
      "  (4, 6187)\t1\n",
      "y_test sample: 1501    1\n",
      "2586    1\n",
      "2653    1\n",
      "1055    0\n",
      "705     1\n",
      "Name: Sentiment, dtype: int64\n"
     ]
    }
   ],
   "source": [
    "print(\"X_train shape:\", X_train.shape)\n",
    "print(\"X_test shape:\", X_test.shape)\n",
    "print(\"-------------------\")\n",
    "print(\"y_train shape:\", y_train.shape)\n",
    "print(\"y_test shape:\", y_test.shape)\n",
    "print(\"-------------------\")\n",
    "print(\"y_train distribution:\", y_train.value_counts())\n",
    "print(\"y_test distribution:\", y_test.value_counts())\n",
    "print(\"-------------------\")\n",
    "print(\"X_train sample:\", X_train[:5])\n",
    "print(\"y_train sample:\", y_train[:5])\n",
    "print(\"-------------------\")\n",
    "print(\"X_test sample:\", X_test[:5])\n",
    "print(\"y_test sample:\", y_test[:5])"
   ]
  },
  {
   "cell_type": "markdown",
   "metadata": {},
   "source": [
    "#### Task 15: Text Classification"
   ]
  },
  {
   "cell_type": "code",
   "execution_count": 30,
   "metadata": {},
   "outputs": [],
   "source": [
    "# Train a Naive Bayes classifier\n",
    "model1 = MultinomialNB()\n",
    "model1.fit(X_train, y_train)\n",
    "\n",
    "model2 = SVC(kernel='linear')\n",
    "model2 = model2.fit(X_train, y_train)"
   ]
  },
  {
   "cell_type": "markdown",
   "metadata": {},
   "source": [
    "#### Task 16: Model Evaluation"
   ]
  },
  {
   "cell_type": "code",
   "execution_count": 31,
   "metadata": {},
   "outputs": [
    {
     "name": "stdout",
     "output_type": "stream",
     "text": [
      "Accuracy NB: 0.861\n",
      "Accuracy SVC: 0.839\n",
      "\n",
      "Precision NB: 0.8930693069306931\n",
      "Precision SVC: 0.8803245436105477\n",
      "\n",
      "Recall NB: 0.8414179104477612\n",
      "Recall SVC: 0.8097014925373134\n",
      "\n",
      "F1 Score NB: 0.866474543707973\n",
      "F1 Score SVC: 0.8435374149659864\n",
      "\n"
     ]
    }
   ],
   "source": [
    "# Predict sentiments for test data\n",
    "y_pred_NB = model1.predict(X_test)\n",
    "y_pred_SVC = model2.predict(X_test)\n",
    "\n",
    "# Calculate performance metrics\n",
    "accuracy_NB = accuracy_score(y_test, y_pred_NB)\n",
    "accuracy_SVC = accuracy_score(y_test, y_pred_SVC)\n",
    "\n",
    "precision_NB = precision_score(y_test, y_pred_NB, pos_label=1)\n",
    "precision_SVC = precision_score(y_test, y_pred_SVC)\n",
    "\n",
    "recall_NB = recall_score(y_test, y_pred_NB, pos_label=1)\n",
    "recall_SVC = recall_score(y_test, y_pred_SVC, pos_label=1)\n",
    "\n",
    "f1_NB = f1_score(y_test, y_pred_NB, pos_label=1)\n",
    "f1_SVC = f1_score(y_test, y_pred_SVC, pos_label=1)\n",
    "\n",
    "print(f\"Accuracy NB: {accuracy_NB}\")\n",
    "print(f\"Accuracy SVC: {accuracy_SVC}\\n\")\n",
    "\n",
    "print(f\"Precision NB: {precision_NB}\")\n",
    "print(f\"Precision SVC: {precision_SVC}\\n\")\n",
    "\n",
    "print(f\"Recall NB: {recall_NB}\")\n",
    "print(f\"Recall SVC: {recall_SVC}\\n\")\n",
    "\n",
    "print(f\"F1 Score NB: {f1_NB}\")\n",
    "print(f\"F1 Score SVC: {f1_SVC}\\n\")\n"
   ]
  },
  {
   "cell_type": "markdown",
   "metadata": {},
   "source": [
    "\n",
    "## **Part 7: Text Generation with LSTM**\n",
    "*Using articles from the `text_generation_dataset` folder*\n",
    "\n",
    "*Alternatively use `anna.txt`*\n",
    "\n",
    "**Task 17: Data Preparation**\n",
    "- Load the text data and preprocess it for the LSTM model.\n",
    "- This involves tokenization and encoding the text into sequences.\n",
    "\n",
    "**Task 18: Building the LSTM Model**\n",
    "- Define and compile a simple LSTM model to predict the next character in a sequence.\n",
    "\n",
    "**Task 19: Model Training**\n",
    "- Train the LSTM model on the preprocessed text data.\n",
    "\n",
    "**Task 20: Text Generation**\n",
    "- Use the trained model to generate text.\n"
   ]
  },
  {
   "cell_type": "markdown",
   "metadata": {},
   "source": [
    "**Tokenization**\n",
    "\n",
    "\n",
    "In the second cell, below, I'm creating a couple dictionaries to convert the characters to and from integers. Encoding the characters as integers makes it easier to use as input in the network. encode it as integers."
   ]
  },
  {
   "cell_type": "code",
   "execution_count": 32,
   "metadata": {},
   "outputs": [
    {
     "name": "stdout",
     "output_type": "stream",
     "text": [
      "('1', 'x', 'R', 'J', 'I', 'A', 'Q', 'F', 'p', 'd', '?', '_', 'C', '2', 'Z', '9', 'u', '!', 'M', 'z', '.', '(', 'P', '8', '\\n', 'K', 's', 'v', 'N', '3', 'g', 'V', 'U', '$', '7', 'X', 'q', 'n', 'S', 'f', ' ', '\"', 'r', '`', 'T', 'm', '0', 'y', 'E', '5', '/', 'Y', 'G', 't', '&', 'W', 'k', '6', 'O', \"'\", 'o', 'D', 'l', ';', 'b', 'j', '@', 'w', 'c', '4', ',', 'L', ')', '%', '-', ':', 'a', 'i', 'B', 'e', '*', 'H', 'h')\n",
      "83\n",
      "{0: '1', 1: 'x', 2: 'R', 3: 'J', 4: 'I', 5: 'A', 6: 'Q', 7: 'F', 8: 'p', 9: 'd', 10: '?', 11: '_', 12: 'C', 13: '2', 14: 'Z', 15: '9', 16: 'u', 17: '!', 18: 'M', 19: 'z', 20: '.', 21: '(', 22: 'P', 23: '8', 24: '\\n', 25: 'K', 26: 's', 27: 'v', 28: 'N', 29: '3', 30: 'g', 31: 'V', 32: 'U', 33: '$', 34: '7', 35: 'X', 36: 'q', 37: 'n', 38: 'S', 39: 'f', 40: ' ', 41: '\"', 42: 'r', 43: '`', 44: 'T', 45: 'm', 46: '0', 47: 'y', 48: 'E', 49: '5', 50: '/', 51: 'Y', 52: 'G', 53: 't', 54: '&', 55: 'W', 56: 'k', 57: '6', 58: 'O', 59: \"'\", 60: 'o', 61: 'D', 62: 'l', 63: ';', 64: 'b', 65: 'j', 66: '@', 67: 'w', 68: 'c', 69: '4', 70: ',', 71: 'L', 72: ')', 73: '%', 74: '-', 75: ':', 76: 'a', 77: 'i', 78: 'B', 79: 'e', 80: '*', 81: 'H', 82: 'h'}\n"
     ]
    },
    {
     "data": {
      "text/plain": [
       "1985223"
      ]
     },
     "execution_count": 32,
     "metadata": {},
     "output_type": "execute_result"
    }
   ],
   "source": [
    "# encode the text and map each character to an integer and vice versa\n",
    "\n",
    "# we create two dictonaries:\n",
    "# 1. int2char, which maps integers to characters\n",
    "# 2. char2int, which maps characters to unique integers\n",
    "chars = tuple(set(anna_text))\n",
    "print(chars)\n",
    "print(len(chars))\n",
    "int2char = dict(enumerate(chars))\n",
    "print(int2char)\n",
    "char2int = {ch: ii for ii, ch in int2char.items()}\n",
    "encoded = np.array([char2int[ch] for ch in anna_text])\n",
    "len(encoded)"
   ]
  },
  {
   "cell_type": "code",
   "execution_count": 33,
   "metadata": {},
   "outputs": [
    {
     "name": "stdout",
     "output_type": "stream",
     "text": [
      "Chapter 1\n",
      "\n",
      "\n",
      "Happy families are all alike; every unhappy family is unhappy in its own\n",
      "way.\n",
      "\n",
      "Everythin\n",
      "[12 82 76  8 53 79 42 40  0 24 24 24 81 76  8  8 47 40 39 76 45 77 62 77\n",
      " 79 26 40 76 42 79 40 76 62 62 40 76 62 77 56 79 63 40 79 27 79 42 47 40\n",
      " 16 37 82 76  8  8 47 40 39 76 45 77 62 47 40 77 26 40 16 37 82 76  8  8\n",
      " 47 40 77 37 40 77 53 26 40 60 67 37 24 67 76 47 20 24 24 48 27 79 42 47\n",
      " 53 82 77 37]\n"
     ]
    }
   ],
   "source": [
    "print(anna_text[:100])\n",
    "print(encoded[:100])"
   ]
  },
  {
   "cell_type": "markdown",
   "metadata": {},
   "source": [
    "**Pre-processing the data**\n",
    "\n",
    "our LSTM expects an input that is one-hot encoded meaning that each character is converted into an intger (via our created dictionary) and then converted into a column vector where only it's corresponsing integer index will have the value of 1 and the rest of the vector will be filled with 0's. Since we're one-hot encoding the data, let's make a function to do that!"
   ]
  },
  {
   "cell_type": "code",
   "execution_count": 34,
   "metadata": {},
   "outputs": [],
   "source": [
    "def one_hot_encode(arr, n_labels):\n",
    "    \n",
    "    # Initialize the the encoded array\n",
    "    one_hot = np.zeros((np.multiply(*arr.shape), n_labels), dtype=np.float32)\n",
    "    \n",
    "    # Fill the appropriate elements with ones\n",
    "    one_hot[np.arange(one_hot.shape[0]), arr.flatten()] = 1.\n",
    "    \n",
    "    # Finally reshape it to get back to the original array\n",
    "    one_hot = one_hot.reshape((*arr.shape, n_labels))\n",
    "    \n",
    "    return one_hot"
   ]
  },
  {
   "cell_type": "markdown",
   "metadata": {},
   "source": [
    "**Making training mini-batches**\n",
    "\n",
    "To train on this data, we also want to create mini-batches for training. Remember that we want our batches to be multiple sequences of some desired number of sequence steps. we'll take the encoded characters (passed in as the `arr` parameter) and split them into multiple sequences, given by `n_seqs` (also refered to as \"batch size\" in other places). Each of those sequences will be `n_steps` long."
   ]
  },
  {
   "cell_type": "markdown",
   "metadata": {},
   "source": [
    "\n",
    "### Creating Batches\n",
    "\n",
    "**1. The first thing we need to do is discard some of the text so we only have completely full batches.**\n",
    "\n",
    "Each batch contains $N \\times M$ characters, where $N$ is the batch size (the number of sequences) and $M$ is the number of steps. Then, to get the total number of batches, $K$, we can make from the array `arr`, you divide the length of `arr` by the number of characters per batch. Once you know the number of batches, you can get the total number of characters to keep from `arr`, $N * M * K$.\n",
    "\n",
    "**2. After that, we need to split `arr` into $N$ sequences.** \n",
    "\n",
    "You can do this using `arr.reshape(size)` where `size` is a tuple containing the dimensions sizes of the reshaped array. We know we want $N$ sequences, so let's make that the size of the first dimension. For the second dimension, you can use `-1` as a placeholder in the size, it'll fill up the array with the appropriate data for you. After this, you should have an array that is $N \\times (M * K)$.\n",
    "\n",
    "**3. Now that we have this array, we can iterate through it to get our batches.**\n",
    "\n",
    "The idea is each batch is a $N \\times M$ window on the $N \\times (M * K)$ array. For each subsequent batch, the window moves over by `n_steps`. We also want to create both the input and target arrays. Remember that the targets are the inputs shifted over one character. The way I like to do this window is use `range` to take steps of size `n_steps` from $0$ to `arr.shape[1]`, the total number of steps in each sequence. That way, the integers you get from `range` always point to the start of a batch, and each window is `n_steps` wide."
   ]
  },
  {
   "cell_type": "code",
   "execution_count": 35,
   "metadata": {},
   "outputs": [],
   "source": [
    "def get_batches(arr, n_seqs, n_steps):\n",
    "    '''Create a generator that returns batches of size\n",
    "       n_seqs x n_steps from arr.\n",
    "       \n",
    "       Arguments\n",
    "       ---------\n",
    "       arr: Array you want to make batches from\n",
    "       n_seqs: Batch size, the number of sequences per batch\n",
    "       n_steps: Number of sequence steps per batch\n",
    "    '''\n",
    "    \n",
    "    # Get the number of characters per batch\n",
    "    batch_size = n_seqs * n_steps\n",
    "    \n",
    "    ## Get the number of batches we can make\n",
    "    n_batches = len(arr)//batch_size\n",
    "    \n",
    "    ##  Keep only enough characters to make full batches\n",
    "    arr = arr[:int(n_batches*batch_size)]\n",
    "    \n",
    "    ## Reshape into batch_size rows\n",
    "    arr = np.reshape(arr, (n_seqs,-1))\n",
    "    \n",
    "    ## Make batches\n",
    "    for n in range(0, arr.shape[1], n_steps):\n",
    "        # The features\n",
    "        x = arr[:,n:n+n_steps]\n",
    "        # The targets, shifted by one\n",
    "        y = np.zeros_like(x)\n",
    "        try:\n",
    "            y[:, :-1], y[:, -1] = x[:, 1:], arr[:, n+n_steps]\n",
    "        except IndexError:\n",
    "            y[:, :-1], y[:, -1] = x[:, 1:], arr[:, 0]\n",
    "            \n",
    "        #try:\n",
    "        #    arr[:,n+n_steps]\n",
    "        #    y = arr[:,n+1:n+n_steps+1]\n",
    "        #except:\n",
    "        #    y = np.append(x[:,1:], arr[:,0:1], axis = 1)\n",
    "        #    print('end of array')\n",
    "        #    print('x :', x.shape, 'y:', y.shape)'''\n",
    "       \n",
    "        yield x, y"
   ]
  },
  {
   "cell_type": "markdown",
   "metadata": {},
   "source": [
    "Now I'll make some data sets and we can check out what's going on as we batch data. Here, as an example, I'm going to use a batch size of 10 and 50 sequence steps."
   ]
  },
  {
   "cell_type": "code",
   "execution_count": 36,
   "metadata": {},
   "outputs": [
    {
     "name": "stdout",
     "output_type": "stream",
     "text": [
      "x : (10, 50) y: (10, 50)\n"
     ]
    }
   ],
   "source": [
    "batches = get_batches(encoded, 10, 50)\n",
    "x, y = next(batches)\n",
    "print('x :', x.shape, 'y:', y.shape)"
   ]
  },
  {
   "cell_type": "code",
   "execution_count": 37,
   "metadata": {},
   "outputs": [
    {
     "name": "stdout",
     "output_type": "stream",
     "text": [
      "x\n",
      " [[12 82 76  8 53 79 42 40  0 24]\n",
      " [40 76 45 40 37 60 53 40 30 60]\n",
      " [27 77 37 20 24 24 41 51 79 26]\n",
      " [37 40  9 16 42 77 37 30 40 82]\n",
      " [40 77 53 40 77 26 70 40 26 77]\n",
      " [40  4 53 40 67 76 26 24 60 37]\n",
      " [82 79 37 40 68 60 45 79 40 39]\n",
      " [63 40 64 16 53 40 37 60 67 40]\n",
      " [53 40 77 26 37 59 53 20 40 44]\n",
      " [40 26 76 77  9 40 53 60 40 82]]\n",
      "\n",
      "y\n",
      " [[82 76  8 53 79 42 40  0 24 24]\n",
      " [76 45 40 37 60 53 40 30 60 77]\n",
      " [77 37 20 24 24 41 51 79 26 70]\n",
      " [40  9 16 42 77 37 30 40 82 77]\n",
      " [77 53 40 77 26 70 40 26 77 42]\n",
      " [ 4 53 40 67 76 26 24 60 37 62]\n",
      " [79 37 40 68 60 45 79 40 39 60]\n",
      " [40 64 16 53 40 37 60 67 40 26]\n",
      " [40 77 26 37 59 53 20 40 44 82]\n",
      " [26 76 77  9 40 53 60 40 82 79]]\n"
     ]
    }
   ],
   "source": [
    "print('x\\n', x[:10, :10])\n",
    "print('\\ny\\n', y[:10, :10])"
   ]
  },
  {
   "cell_type": "markdown",
   "metadata": {},
   "source": [
    "**Defining the network with PyTorch**\n",
    "\n",
    "Below is where you'll define the network. We'll break it up into parts so it's easier to reason about each bit. Then we can connect them up into the whole network.\n",
    "\n",
    "Next, I'll use PyTorch to define the architecture of the network. We start by defining the layers and operations we want. Then, define a method for the forward pass. You've also been given a method for predicting characters."
   ]
  },
  {
   "cell_type": "markdown",
   "metadata": {},
   "source": [
    "**Model Structure**\n",
    "\n",
    "In `__init__` the suggested structure is as follows:\n",
    "* Create and store the necessary dictionaries (this has been done for you)\n",
    "* Define an LSTM layer that takes as params: an input size (the number of characters), a hidden layer size `n_hidden`, a number of layers `n_layers`, a dropout probability `drop_prob`, and a batch_first boolean (True, since we are batching)\n",
    "* Define a dropout layer with `dropout_prob`\n",
    "* Define a fully-connected layer with params: input size `n_hidden` and output size (the number of characters)\n",
    "* Finally, initialize the weights (again, this has been given)\n",
    "\n",
    "Note that some parameters have been named and given in the `__init__` function, and we use them and store them by doing something like `self.drop_prob = drop_prob`."
   ]
  },
  {
   "cell_type": "markdown",
   "metadata": {},
   "source": [
    "**LSTM Inputs/Outputs**\n",
    "\n",
    "You can create a basic LSTM cell as follows\n",
    "\n",
    "```python\n",
    "self.lstm = nn.LSTM(input_size, n_hidden, n_layers, \n",
    "                            dropout=drop_prob, batch_first=True)\n",
    "```\n",
    "\n",
    "where `input_size` is the number of characters this cell expects to see as sequential input, and `n_hidden` is the number of units in the hidden layers in the cell. And we can add dropout by adding a dropout parameter with a specified probability; this will automatically add dropout to the inputs or outputs. Finally, in the `forward` function, we can stack up the LSTM cells into layers using `.view`. With this, you pass in a list of cells and it will send the output of one cell into the next cell.\n",
    "\n",
    "We also need to create an initial cell state of all zeros. This is done like so\n",
    "\n",
    "```python\n",
    "self.init_weights()\n",
    "```"
   ]
  },
  {
   "cell_type": "code",
   "execution_count": 38,
   "metadata": {},
   "outputs": [],
   "source": [
    "class CharRNN(nn.Module):\n",
    "    \n",
    "    def __init__(self, tokens, n_steps=100, n_hidden=256, n_layers=2,\n",
    "                               drop_prob=0.5, lr=0.001):\n",
    "        super().__init__()\n",
    "        self.drop_prob = drop_prob\n",
    "        self.n_layers = n_layers\n",
    "        self.n_hidden = n_hidden\n",
    "        self.lr = lr\n",
    "        \n",
    "        # creating character dictionaries\n",
    "        self.chars = tokens\n",
    "        self.int2char = dict(enumerate(self.chars))\n",
    "        self.char2int = {ch: ii for ii, ch in self.int2char.items()}\n",
    "        \n",
    "        ## TODO: define the LSTM, self.lstm\n",
    "        self.lstm = nn.LSTM(len(self.chars), n_hidden, n_layers, dropout=drop_prob, batch_first=True)\n",
    "        # input is a one_hot vector over the unique 83 characters (len(chars))\n",
    "        \n",
    "        ## TODO: define a dropout layer, self.dropout\n",
    "        self.dropout = nn.Dropout(drop_prob)\n",
    "        \n",
    "        ## TODO: define the final, fully-connected output layer, self.fc\n",
    "        self.fc = nn.Linear(n_hidden, len(self.chars))\n",
    "        \n",
    "        # initialize the weights\n",
    "        self.init_weights()\n",
    "      \n",
    "    \n",
    "    def forward(self, x, hc):\n",
    "        ''' Forward pass through the network. \n",
    "            These inputs are x, and the hidden/cell state `hc`. '''\n",
    "        \n",
    "        #Get x, and the new hidden state (h, c) from the lstm   \n",
    "        lstm_out, (h, c) = self.lstm(x, hc)\n",
    "        \n",
    "        # stack up LSTM outputs\n",
    "        x = lstm_out.contiguous()\n",
    "        \n",
    "        #pass x through a droupout layer\n",
    "        x = self.dropout(x)\n",
    "        \n",
    "        x = x.view(-1, self.n_hidden)\n",
    "        \n",
    "        # Stack up LSTM outputs using view\n",
    "        #x = x.view(x.size()[0]*x.size()[1], self.n_hidden)\n",
    "        \n",
    "        #put x through the fully-connected layer\n",
    "        x = self.fc(x)\n",
    "        \n",
    "        # return x and the hidden state (h, c)\n",
    "        return x, (h, c)\n",
    "        \n",
    "    \n",
    "    def predict(self, char, h=None, cuda=False, top_k=None):\n",
    "        ''' Given a character, predict the next character.\n",
    "        \n",
    "            Returns the predicted character and the hidden state.\n",
    "        '''\n",
    "        if cuda:\n",
    "            self.cuda()\n",
    "        else:\n",
    "            self.cpu()\n",
    "        \n",
    "        if h is None:\n",
    "            h = self.init_hidden(1)\n",
    "        \n",
    "        x = np.array([[self.char2int[char]]])\n",
    "        x = one_hot_encode(x, len(self.chars))\n",
    "        inputs = torch.from_numpy(x)\n",
    "        if cuda:\n",
    "            inputs = inputs.cuda()\n",
    "        \n",
    "        h = tuple([each.data for each in h])\n",
    "        out, h = self.forward(inputs, h)\n",
    "\n",
    "        p = F.softmax(out, dim=1).data\n",
    "        if cuda:\n",
    "            p = p.cpu()\n",
    "        \n",
    "        if top_k is None:\n",
    "            top_ch = np.arange(len(self.chars))\n",
    "        else:\n",
    "            p, top_ch = p.topk(top_k)\n",
    "            top_ch = top_ch.numpy().squeeze()\n",
    "        \n",
    "        p = p.numpy().squeeze()\n",
    "        char = np.random.choice(top_ch, p=p/p.sum())\n",
    "            \n",
    "        return self.int2char[char], h\n",
    "    \n",
    "    def init_weights(self):\n",
    "        ''' Initialize weights for fully connected layer '''\n",
    "        initrange = 0.1\n",
    "        \n",
    "        # Set bias tensor to all zeros\n",
    "        self.fc.bias.data.fill_(0)\n",
    "        # FC weights as random uniform\n",
    "        self.fc.weight.data.uniform_(-1, 1)\n",
    "        \n",
    "    def init_hidden(self, n_seqs):\n",
    "        ''' Initializes hidden state '''\n",
    "        # Create two new tensors with sizes n_layers x n_seqs x n_hidden,\n",
    "        # initialized to zero, for hidden state and cell state of LSTM\n",
    "        weight = next(self.parameters()).data\n",
    "        return (weight.new(self.n_layers, n_seqs, self.n_hidden).zero_(),\n",
    "                weight.new(self.n_layers, n_seqs, self.n_hidden).zero_())\n",
    "        "
   ]
  },
  {
   "cell_type": "markdown",
   "metadata": {},
   "source": [
    "The output of our RNN is from a fully-connected layer and it outputs a **distribution of next-character scores**.\n",
    "\n",
    "To actually get the next character, we apply a softmax function, which gives us a *probability* distribution that we can then sample to predict the next character."
   ]
  },
  {
   "cell_type": "code",
   "execution_count": 39,
   "metadata": {},
   "outputs": [],
   "source": [
    "## ---- keep notebook from crashing during training --- ##\n",
    "import os\n",
    "import requests\n",
    "import time\n",
    "\n",
    "\n",
    "def train(net, data, epochs=10, n_seqs=10, n_steps=50, lr=0.001, clip=5, val_frac=0.1, cuda=False, print_every=10):\n",
    "    ''' Training a network \n",
    "    \n",
    "        Arguments\n",
    "        ---------\n",
    "        \n",
    "        net: CharRNN network\n",
    "        data: text data to train the network\n",
    "        epochs: Number of epochs to train\n",
    "        n_seqs: Number of mini-sequences per mini-batch, aka batch size\n",
    "        n_steps: Number of character steps per mini-batch\n",
    "        lr: learning rate\n",
    "        clip: gradient clipping\n",
    "        val_frac: Fraction of data to hold out for validation\n",
    "        cuda: Train with CUDA on a GPU\n",
    "        print_every: Number of steps for printing training and validation loss\n",
    "    \n",
    "    '''\n",
    "    \n",
    "    #wandb.init(project=\"char_rnn\", entity=\"nlp_2024\")\n",
    "    \n",
    "    net.train()\n",
    "    opt = torch.optim.Adam(net.parameters(), lr=lr)\n",
    "    criterion = nn.CrossEntropyLoss()\n",
    "    \n",
    "    # create training and validation data\n",
    "    val_idx = int(len(data)*(1-val_frac))\n",
    "    data, val_data = data[:val_idx], data[val_idx:]\n",
    "    \n",
    "    if cuda:\n",
    "        net.cuda()\n",
    "    \n",
    "    counter = 0\n",
    "    n_chars = len(net.chars)\n",
    "    \n",
    "    old_time = time.time()\n",
    "\n",
    "    for e in range(epochs):\n",
    "        h = net.init_hidden(n_seqs)\n",
    "        for x, y in get_batches(data, n_seqs, n_steps):\n",
    "            \n",
    "            counter += 1\n",
    "            \n",
    "            # One-hot encode our data and make them Torch tensors\n",
    "            x = one_hot_encode(x, n_chars)\n",
    "            inputs, targets = torch.from_numpy(x), torch.from_numpy(y)\n",
    "            \n",
    "            if cuda:\n",
    "                inputs, targets = inputs.cuda(), targets.cuda()\n",
    "\n",
    "            # Creating new variables for the hidden state, otherwise\n",
    "            # we'd backprop through the entire training history\n",
    "            h = tuple([each.data for each in h])\n",
    "\n",
    "            net.zero_grad()\n",
    "            \n",
    "            output, h = net.forward(inputs, h)\n",
    "            \n",
    "            loss = criterion(output, targets.view(n_seqs*n_steps))\n",
    "\n",
    "            loss.backward()\n",
    "            \n",
    "            # `clip_grad_norm` helps prevent the exploding gradient problem in RNNs / LSTMs.\n",
    "            nn.utils.clip_grad_norm_(net.parameters(), clip)\n",
    "\n",
    "            opt.step()\n",
    "            \n",
    "            if counter % print_every == 0:\n",
    "                # Get validation loss\n",
    "                val_h = net.init_hidden(n_seqs)\n",
    "                val_losses = []\n",
    "                for x, y in get_batches(val_data, n_seqs, n_steps):\n",
    "                    # One-hot encode our data and make them Torch tensors\n",
    "                    x = one_hot_encode(x, n_chars)\n",
    "                    x, y = torch.from_numpy(x), torch.from_numpy(y)\n",
    "                    \n",
    "                    # Creating new variables for the hidden state, otherwise\n",
    "                    # we'd backprop through the entire training history\n",
    "                    val_h = tuple([each.data for each in val_h])\n",
    "                    \n",
    "                    inputs, targets = x, y\n",
    "  \n",
    "                    if cuda:\n",
    "                        inputs, targets = inputs.cuda(), targets.cuda()\n",
    "                    \n",
    "                    output, val_h = net.forward(inputs, val_h)\n",
    " \n",
    "                    val_loss = criterion(output, targets.view(n_seqs*n_steps))\n",
    "                \n",
    "                    val_losses.append(val_loss.item())\n",
    "                    \n",
    "                    if val_loss.item() < 3.5:\n",
    "                        model_name = f'./models/TG_rnn3L_{e}_epoch.net'\n",
    "\n",
    "                        checkpoint = {'n_hidden': net.n_hidden,\n",
    "                                    'n_layers': net.n_layers,\n",
    "                                    'state_dict': net.state_dict(),\n",
    "                                    'tokens': net.chars}\n",
    "\n",
    "                        with open(model_name, 'wb') as f:\n",
    "                            torch.save(checkpoint, f)\n",
    "\n",
    "                print(\"Epoch: {}/{}...\".format(e+1, epochs),\n",
    "                      \"Step: {}...\".format(counter),\n",
    "                      \"Loss: {:.4f}...\".format(loss.item()),\n",
    "                      \"Val Loss: {:.4f}\".format(np.mean(val_losses)))\n",
    "                #wandb.log({\"loss\": loss.item(), \"val_loss\": np.mean(val_losses)})\n"
   ]
  },
  {
   "cell_type": "markdown",
   "metadata": {},
   "source": [
    "**Train**\n",
    "\n",
    "Now we can actually train the network. First we'll create the network itself, with some given hyperparameters. Then, define the mini-batches sizes (number of sequences and number of steps), and start the training. With the train function, we can set the number of epochs, the learning rate, and other parameters. Also, we can run the training on a GPU by setting `cuda=True`."
   ]
  },
  {
   "cell_type": "code",
   "execution_count": 40,
   "metadata": {},
   "outputs": [
    {
     "name": "stdout",
     "output_type": "stream",
     "text": [
      "CharRNN(\n",
      "  (lstm): LSTM(83, 2048, num_layers=4, batch_first=True, dropout=0.5)\n",
      "  (dropout): Dropout(p=0.5, inplace=False)\n",
      "  (fc): Linear(in_features=2048, out_features=83, bias=True)\n",
      ")\n"
     ]
    }
   ],
   "source": [
    "if 'net' in locals():\n",
    "    del net\n",
    "    \n",
    "# define and print the net\n",
    "net = CharRNN(chars, n_hidden=2048, n_layers=4)\n",
    "print(net)"
   ]
  },
  {
   "cell_type": "code",
   "execution_count": 41,
   "metadata": {},
   "outputs": [
    {
     "name": "stdout",
     "output_type": "stream",
     "text": [
      "Training on GPU!\n"
     ]
    }
   ],
   "source": [
    "# check if GPU is available\n",
    "train_on_gpu = torch.cuda.is_available()\n",
    "if(train_on_gpu):\n",
    "    print('Training on GPU!')\n",
    "    cuda=True\n",
    "else: \n",
    "    print('No GPU available, training on CPU; consider making n_epochs very small.')\n",
    "    cuda=False"
   ]
  },
  {
   "cell_type": "code",
   "execution_count": 42,
   "metadata": {},
   "outputs": [
    {
     "name": "stderr",
     "output_type": "stream",
     "text": [
      "/home/ndelafuente/miniconda3/lib/python3.11/site-packages/tqdm/auto.py:21: TqdmWarning: IProgress not found. Please update jupyter and ipywidgets. See https://ipywidgets.readthedocs.io/en/stable/user_install.html\n",
      "  from .autonotebook import tqdm as notebook_tqdm\n"
     ]
    },
    {
     "name": "stdout",
     "output_type": "stream",
     "text": [
      "Epoch: 1/25... Step: 10... Loss: 3.3060... Val Loss: 3.3002\n",
      "Epoch: 1/25... Step: 20... Loss: 3.1341... Val Loss: 3.1553\n",
      "Epoch: 1/25... Step: 30... Loss: 3.0714... Val Loss: 3.0656\n",
      "Epoch: 1/25... Step: 40... Loss: 2.9695... Val Loss: 2.9931\n",
      "Epoch: 1/25... Step: 50... Loss: 2.9337... Val Loss: 2.9161\n",
      "Epoch: 1/25... Step: 60... Loss: 2.7971... Val Loss: 2.7965\n",
      "Epoch: 1/25... Step: 70... Loss: 2.6484... Val Loss: 2.6667\n",
      "Epoch: 1/25... Step: 80... Loss: 2.5578... Val Loss: 2.5794\n",
      "Epoch: 1/25... Step: 90... Loss: 2.5267... Val Loss: 2.5329\n",
      "Epoch: 1/25... Step: 100... Loss: 2.4662... Val Loss: 2.4892\n",
      "Epoch: 1/25... Step: 110... Loss: 2.4078... Val Loss: 2.4553\n",
      "Epoch: 1/25... Step: 120... Loss: 2.3605... Val Loss: 2.4188\n",
      "Epoch: 1/25... Step: 130... Loss: 2.3767... Val Loss: 2.3875\n",
      "Epoch: 2/25... Step: 140... Loss: 2.3176... Val Loss: 2.3406\n",
      "Epoch: 2/25... Step: 150... Loss: 2.2877... Val Loss: 2.3075\n",
      "Epoch: 2/25... Step: 160... Loss: 2.2570... Val Loss: 2.2775\n",
      "Epoch: 2/25... Step: 170... Loss: 2.2011... Val Loss: 2.2451\n",
      "Epoch: 2/25... Step: 180... Loss: 2.1589... Val Loss: 2.2360\n",
      "Epoch: 2/25... Step: 190... Loss: 2.0775... Val Loss: 2.1897\n",
      "Epoch: 2/25... Step: 200... Loss: 2.0898... Val Loss: 2.1557\n",
      "Epoch: 2/25... Step: 210... Loss: 2.0629... Val Loss: 2.1363\n",
      "Epoch: 2/25... Step: 220... Loss: 2.0128... Val Loss: 2.1153\n",
      "Epoch: 2/25... Step: 230... Loss: 2.0328... Val Loss: 2.0800\n",
      "Epoch: 2/25... Step: 240... Loss: 1.9972... Val Loss: 2.0662\n",
      "Epoch: 2/25... Step: 250... Loss: 1.9449... Val Loss: 2.0491\n",
      "Epoch: 2/25... Step: 260... Loss: 1.8896... Val Loss: 2.0107\n",
      "Epoch: 2/25... Step: 270... Loss: 1.9227... Val Loss: 1.9841\n",
      "Epoch: 3/25... Step: 280... Loss: 1.8965... Val Loss: 1.9728\n",
      "Epoch: 3/25... Step: 290... Loss: 1.8846... Val Loss: 1.9411\n",
      "Epoch: 3/25... Step: 300... Loss: 1.8355... Val Loss: 1.9222\n",
      "Epoch: 3/25... Step: 310... Loss: 1.8174... Val Loss: 1.9071\n",
      "Epoch: 3/25... Step: 320... Loss: 1.7765... Val Loss: 1.9661\n",
      "Epoch: 3/25... Step: 330... Loss: 1.7769... Val Loss: 2.3812\n",
      "Epoch: 3/25... Step: 340... Loss: 1.8129... Val Loss: 1.8618\n",
      "Epoch: 3/25... Step: 350... Loss: 1.7429... Val Loss: 1.8488\n",
      "Epoch: 3/25... Step: 360... Loss: 1.6976... Val Loss: 1.8348\n",
      "Epoch: 3/25... Step: 370... Loss: 1.7185... Val Loss: 1.8890\n",
      "Epoch: 3/25... Step: 380... Loss: 1.7050... Val Loss: 1.8219\n",
      "Epoch: 3/25... Step: 390... Loss: 1.6663... Val Loss: 1.9641\n",
      "Epoch: 3/25... Step: 400... Loss: 1.6388... Val Loss: 1.8242\n",
      "Epoch: 3/25... Step: 410... Loss: 1.6525... Val Loss: 1.7588\n",
      "Epoch: 4/25... Step: 420... Loss: 1.6307... Val Loss: 1.7317\n",
      "Epoch: 4/25... Step: 430... Loss: 1.6228... Val Loss: 1.7075\n",
      "Epoch: 4/25... Step: 440... Loss: 1.6011... Val Loss: 1.6917\n",
      "Epoch: 4/25... Step: 450... Loss: 1.6155... Val Loss: 1.7070\n",
      "Epoch: 4/25... Step: 460... Loss: 1.5271... Val Loss: 1.7376\n",
      "Epoch: 4/25... Step: 470... Loss: 1.5927... Val Loss: 1.6739\n",
      "Epoch: 4/25... Step: 480... Loss: 1.5564... Val Loss: 1.6545\n",
      "Epoch: 4/25... Step: 490... Loss: 1.5324... Val Loss: 1.6401\n",
      "Epoch: 4/25... Step: 500... Loss: 1.5348... Val Loss: 1.6192\n",
      "Epoch: 4/25... Step: 510... Loss: 1.4975... Val Loss: 1.6122\n",
      "Epoch: 4/25... Step: 520... Loss: 1.4995... Val Loss: 1.6166\n",
      "Epoch: 4/25... Step: 530... Loss: 1.4587... Val Loss: 1.6001\n",
      "Epoch: 4/25... Step: 540... Loss: 1.4251... Val Loss: 1.5686\n",
      "Epoch: 4/25... Step: 550... Loss: 1.4794... Val Loss: 1.5762\n",
      "Epoch: 5/25... Step: 560... Loss: 1.4324... Val Loss: 1.5511\n",
      "Epoch: 5/25... Step: 570... Loss: 1.4178... Val Loss: 1.5419\n",
      "Epoch: 5/25... Step: 580... Loss: 1.4007... Val Loss: 1.5257\n",
      "Epoch: 5/25... Step: 590... Loss: 1.3892... Val Loss: 1.5188\n",
      "Epoch: 5/25... Step: 600... Loss: 1.3726... Val Loss: 1.5080\n",
      "Epoch: 5/25... Step: 610... Loss: 1.3690... Val Loss: 1.5043\n",
      "Epoch: 5/25... Step: 620... Loss: 1.3735... Val Loss: 1.4922\n",
      "Epoch: 5/25... Step: 630... Loss: 1.3740... Val Loss: 1.4934\n",
      "Epoch: 5/25... Step: 640... Loss: 1.3350... Val Loss: 1.4836\n",
      "Epoch: 5/25... Step: 650... Loss: 1.3382... Val Loss: 1.4707\n",
      "Epoch: 5/25... Step: 660... Loss: 1.3255... Val Loss: 1.4731\n",
      "Epoch: 5/25... Step: 670... Loss: 1.3303... Val Loss: 1.4581\n",
      "Epoch: 5/25... Step: 680... Loss: 1.3310... Val Loss: 1.4522\n",
      "Epoch: 5/25... Step: 690... Loss: 1.3163... Val Loss: 1.4497\n",
      "Epoch: 6/25... Step: 700... Loss: 1.3045... Val Loss: 1.4417\n",
      "Epoch: 6/25... Step: 710... Loss: 1.2857... Val Loss: 1.4397\n",
      "Epoch: 6/25... Step: 720... Loss: 1.2831... Val Loss: 1.4255\n",
      "Epoch: 6/25... Step: 730... Loss: 1.2930... Val Loss: 1.4300\n",
      "Epoch: 6/25... Step: 740... Loss: 1.2496... Val Loss: 1.4392\n",
      "Epoch: 6/25... Step: 750... Loss: 1.2685... Val Loss: 1.4176\n",
      "Epoch: 6/25... Step: 760... Loss: 1.2892... Val Loss: 1.4137\n",
      "Epoch: 6/25... Step: 770... Loss: 1.2538... Val Loss: 1.4065\n",
      "Epoch: 6/25... Step: 780... Loss: 1.2510... Val Loss: 1.3973\n",
      "Epoch: 6/25... Step: 790... Loss: 1.2324... Val Loss: 1.4006\n",
      "Epoch: 6/25... Step: 800... Loss: 1.2548... Val Loss: 1.4087\n",
      "Epoch: 6/25... Step: 810... Loss: 1.2326... Val Loss: 1.3840\n",
      "Epoch: 6/25... Step: 820... Loss: 1.1995... Val Loss: 1.3859\n",
      "Epoch: 6/25... Step: 830... Loss: 1.2330... Val Loss: 1.3883\n",
      "Epoch: 7/25... Step: 840... Loss: 1.2138... Val Loss: 1.3920\n",
      "Epoch: 7/25... Step: 850... Loss: 1.2106... Val Loss: 1.3801\n",
      "Epoch: 7/25... Step: 860... Loss: 1.1910... Val Loss: 1.3730\n",
      "Epoch: 7/25... Step: 870... Loss: 1.2069... Val Loss: 1.3781\n",
      "Epoch: 7/25... Step: 880... Loss: 1.2034... Val Loss: 1.3713\n",
      "Epoch: 7/25... Step: 890... Loss: 1.2203... Val Loss: 1.3651\n",
      "Epoch: 7/25... Step: 900... Loss: 1.2100... Val Loss: 1.3701\n",
      "Epoch: 7/25... Step: 910... Loss: 1.1657... Val Loss: 1.3678\n",
      "Epoch: 7/25... Step: 920... Loss: 1.1922... Val Loss: 1.3694\n",
      "Epoch: 7/25... Step: 930... Loss: 1.1752... Val Loss: 1.3606\n",
      "Epoch: 7/25... Step: 940... Loss: 1.1617... Val Loss: 1.3611\n",
      "Epoch: 7/25... Step: 950... Loss: 1.1859... Val Loss: 1.3595\n",
      "Epoch: 7/25... Step: 960... Loss: 1.1826... Val Loss: 1.3498\n",
      "Epoch: 7/25... Step: 970... Loss: 1.1890... Val Loss: 1.3519\n",
      "Epoch: 8/25... Step: 980... Loss: 1.1572... Val Loss: 1.3483\n",
      "Epoch: 8/25... Step: 990... Loss: 1.1599... Val Loss: 1.3478\n",
      "Epoch: 8/25... Step: 1000... Loss: 1.1570... Val Loss: 1.3497\n",
      "Epoch: 8/25... Step: 1010... Loss: 1.1737... Val Loss: 1.3513\n",
      "Epoch: 8/25... Step: 1020... Loss: 1.1664... Val Loss: 1.3373\n",
      "Epoch: 8/25... Step: 1030... Loss: 1.1559... Val Loss: 1.3526\n",
      "Epoch: 8/25... Step: 1040... Loss: 1.1535... Val Loss: 1.3348\n",
      "Epoch: 8/25... Step: 1050... Loss: 1.1431... Val Loss: 1.3412\n",
      "Epoch: 8/25... Step: 1060... Loss: 1.1265... Val Loss: 1.3412\n",
      "Epoch: 8/25... Step: 1070... Loss: 1.1473... Val Loss: 1.3373\n",
      "Epoch: 8/25... Step: 1080... Loss: 1.1298... Val Loss: 1.3432\n",
      "Epoch: 8/25... Step: 1090... Loss: 1.1238... Val Loss: 1.3323\n",
      "Epoch: 8/25... Step: 1100... Loss: 1.1150... Val Loss: 1.3281\n",
      "Epoch: 8/25... Step: 1110... Loss: 1.1156... Val Loss: 1.3374\n",
      "Epoch: 9/25... Step: 1120... Loss: 1.1204... Val Loss: 1.3364\n",
      "Epoch: 9/25... Step: 1130... Loss: 1.1346... Val Loss: 1.3276\n",
      "Epoch: 9/25... Step: 1140... Loss: 1.1375... Val Loss: 1.3281\n",
      "Epoch: 9/25... Step: 1150... Loss: 1.1425... Val Loss: 1.3384\n",
      "Epoch: 9/25... Step: 1160... Loss: 1.1057... Val Loss: 1.3234\n",
      "Epoch: 9/25... Step: 1170... Loss: 1.1213... Val Loss: 1.3268\n",
      "Epoch: 9/25... Step: 1180... Loss: 1.1018... Val Loss: 1.3232\n",
      "Epoch: 9/25... Step: 1190... Loss: 1.1292... Val Loss: 1.3306\n",
      "Epoch: 9/25... Step: 1200... Loss: 1.0898... Val Loss: 1.3204\n",
      "Epoch: 9/25... Step: 1210... Loss: 1.0794... Val Loss: 1.3112\n",
      "Epoch: 9/25... Step: 1220... Loss: 1.0893... Val Loss: 1.3170\n",
      "Epoch: 9/25... Step: 1230... Loss: 1.0809... Val Loss: 1.3116\n",
      "Epoch: 9/25... Step: 1240... Loss: 1.0804... Val Loss: 1.3067\n",
      "Epoch: 9/25... Step: 1250... Loss: 1.0994... Val Loss: 1.3018\n",
      "Epoch: 10/25... Step: 1260... Loss: 1.0829... Val Loss: 1.3111\n",
      "Epoch: 10/25... Step: 1270... Loss: 1.0871... Val Loss: 1.3032\n",
      "Epoch: 10/25... Step: 1280... Loss: 1.1115... Val Loss: 1.3060\n",
      "Epoch: 10/25... Step: 1290... Loss: 1.0792... Val Loss: 1.3163\n",
      "Epoch: 10/25... Step: 1300... Loss: 1.0708... Val Loss: 1.3065\n",
      "Epoch: 10/25... Step: 1310... Loss: 1.0835... Val Loss: 1.3149\n",
      "Epoch: 10/25... Step: 1320... Loss: 1.0566... Val Loss: 1.2970\n",
      "Epoch: 10/25... Step: 1330... Loss: 1.0417... Val Loss: 1.3053\n",
      "Epoch: 10/25... Step: 1340... Loss: 1.0447... Val Loss: 1.3140\n",
      "Epoch: 10/25... Step: 1350... Loss: 1.0412... Val Loss: 1.3056\n",
      "Epoch: 10/25... Step: 1360... Loss: 1.0486... Val Loss: 1.3000\n",
      "Epoch: 10/25... Step: 1370... Loss: 1.0301... Val Loss: 1.2975\n",
      "Epoch: 10/25... Step: 1380... Loss: 1.0762... Val Loss: 1.3045\n",
      "Epoch: 10/25... Step: 1390... Loss: 1.1104... Val Loss: 1.3087\n",
      "Epoch: 11/25... Step: 1400... Loss: 1.0669... Val Loss: 1.3104\n",
      "Epoch: 11/25... Step: 1410... Loss: 1.0768... Val Loss: 1.2967\n",
      "Epoch: 11/25... Step: 1420... Loss: 1.0867... Val Loss: 1.3065\n",
      "Epoch: 11/25... Step: 1430... Loss: 1.0632... Val Loss: 1.2969\n",
      "Epoch: 11/25... Step: 1440... Loss: 1.0471... Val Loss: 1.2927\n",
      "Epoch: 11/25... Step: 1450... Loss: 1.0087... Val Loss: 1.3007\n",
      "Epoch: 11/25... Step: 1460... Loss: 1.0394... Val Loss: 1.2978\n",
      "Epoch: 11/25... Step: 1470... Loss: 1.0071... Val Loss: 1.3047\n",
      "Epoch: 11/25... Step: 1480... Loss: 1.0328... Val Loss: 1.3011\n",
      "Epoch: 11/25... Step: 1490... Loss: 1.0186... Val Loss: 1.3043\n",
      "Epoch: 11/25... Step: 1500... Loss: 1.0166... Val Loss: 1.3054\n",
      "Epoch: 11/25... Step: 1510... Loss: 1.0035... Val Loss: 1.2997\n",
      "Epoch: 11/25... Step: 1520... Loss: 1.0215... Val Loss: 1.2954\n",
      "Epoch: 12/25... Step: 1530... Loss: 1.1920... Val Loss: 1.2897\n",
      "Epoch: 12/25... Step: 1540... Loss: 1.0256... Val Loss: 1.3076\n",
      "Epoch: 12/25... Step: 1550... Loss: 1.0313... Val Loss: 1.2989\n",
      "Epoch: 12/25... Step: 1560... Loss: 1.0402... Val Loss: 1.3026\n",
      "Epoch: 12/25... Step: 1570... Loss: 1.0140... Val Loss: 1.2909\n",
      "Epoch: 12/25... Step: 1580... Loss: 0.9908... Val Loss: 1.2983\n",
      "Epoch: 12/25... Step: 1590... Loss: 0.9876... Val Loss: 1.2927\n",
      "Epoch: 12/25... Step: 1600... Loss: 1.0093... Val Loss: 1.2916\n",
      "Epoch: 12/25... Step: 1610... Loss: 0.9923... Val Loss: 1.3068\n",
      "Epoch: 12/25... Step: 1620... Loss: 0.9789... Val Loss: 1.3107\n",
      "Epoch: 12/25... Step: 1630... Loss: 1.0031... Val Loss: 1.3034\n",
      "Epoch: 12/25... Step: 1640... Loss: 0.9929... Val Loss: 1.3144\n",
      "Epoch: 12/25... Step: 1650... Loss: 0.9792... Val Loss: 1.3171\n",
      "Epoch: 12/25... Step: 1660... Loss: 1.0120... Val Loss: 1.3114\n",
      "Epoch: 13/25... Step: 1670... Loss: 0.9924... Val Loss: 1.3064\n",
      "Epoch: 13/25... Step: 1680... Loss: 0.9945... Val Loss: 1.3055\n",
      "Epoch: 13/25... Step: 1690... Loss: 0.9787... Val Loss: 1.3028\n",
      "Epoch: 13/25... Step: 1700... Loss: 0.9852... Val Loss: 1.3048\n",
      "Epoch: 13/25... Step: 1710... Loss: 0.9666... Val Loss: 1.3055\n",
      "Epoch: 13/25... Step: 1720... Loss: 0.9612... Val Loss: 1.3002\n",
      "Epoch: 13/25... Step: 1730... Loss: 0.9930... Val Loss: 1.3057\n",
      "Epoch: 13/25... Step: 1740... Loss: 0.9743... Val Loss: 1.2989\n",
      "Epoch: 13/25... Step: 1750... Loss: 0.9432... Val Loss: 1.3191\n",
      "Epoch: 13/25... Step: 1760... Loss: 0.9672... Val Loss: 1.3154\n",
      "Epoch: 13/25... Step: 1770... Loss: 0.9831... Val Loss: 1.3071\n",
      "Epoch: 13/25... Step: 1780... Loss: 0.9644... Val Loss: 1.3246\n",
      "Epoch: 13/25... Step: 1790... Loss: 0.9541... Val Loss: 1.3314\n",
      "Epoch: 13/25... Step: 1800... Loss: 0.9743... Val Loss: 1.3168\n",
      "Epoch: 14/25... Step: 1810... Loss: 0.9868... Val Loss: 1.3140\n",
      "Epoch: 14/25... Step: 1820... Loss: 0.9559... Val Loss: 1.3291\n",
      "Epoch: 14/25... Step: 1830... Loss: 0.9801... Val Loss: 1.3104\n",
      "Epoch: 14/25... Step: 1840... Loss: 0.9417... Val Loss: 1.3080\n",
      "Epoch: 14/25... Step: 1850... Loss: 0.9409... Val Loss: 1.3113\n",
      "Epoch: 14/25... Step: 1860... Loss: 0.9595... Val Loss: 1.3025\n",
      "Epoch: 14/25... Step: 1870... Loss: 0.9742... Val Loss: 1.3107\n",
      "Epoch: 14/25... Step: 1880... Loss: 0.9815... Val Loss: 1.3162\n",
      "Epoch: 14/25... Step: 1890... Loss: 0.9733... Val Loss: 1.3267\n",
      "Epoch: 14/25... Step: 1900... Loss: 0.9478... Val Loss: 1.3127\n",
      "Epoch: 14/25... Step: 1910... Loss: 0.9455... Val Loss: 1.3152\n",
      "Epoch: 14/25... Step: 1920... Loss: 0.9534... Val Loss: 1.3402\n",
      "Epoch: 14/25... Step: 1930... Loss: 0.9290... Val Loss: 1.3306\n",
      "Epoch: 14/25... Step: 1940... Loss: 0.9561... Val Loss: 1.3176\n",
      "Epoch: 15/25... Step: 1950... Loss: 0.9474... Val Loss: 1.3207\n",
      "Epoch: 15/25... Step: 1960... Loss: 0.9492... Val Loss: 1.3314\n",
      "Epoch: 15/25... Step: 1970... Loss: 0.9460... Val Loss: 1.3262\n",
      "Epoch: 15/25... Step: 1980... Loss: 0.9362... Val Loss: 1.3184\n",
      "Epoch: 15/25... Step: 1990... Loss: 0.9334... Val Loss: 1.3123\n",
      "Epoch: 15/25... Step: 2000... Loss: 0.9258... Val Loss: 1.3332\n",
      "Epoch: 15/25... Step: 2010... Loss: 0.9399... Val Loss: 1.3300\n",
      "Epoch: 15/25... Step: 2020... Loss: 0.9424... Val Loss: 1.3334\n",
      "Epoch: 15/25... Step: 2030... Loss: 0.9275... Val Loss: 1.3326\n",
      "Epoch: 15/25... Step: 2040... Loss: 0.9278... Val Loss: 1.3159\n",
      "Epoch: 15/25... Step: 2050... Loss: 0.9308... Val Loss: 1.3258\n",
      "Epoch: 15/25... Step: 2060... Loss: 0.9317... Val Loss: 1.3558\n",
      "Epoch: 15/25... Step: 2070... Loss: 0.9421... Val Loss: 1.3493\n",
      "Epoch: 15/25... Step: 2080... Loss: 0.9380... Val Loss: 1.3372\n"
     ]
    },
    {
     "ename": "RuntimeError",
     "evalue": "[enforce fail at inline_container.cc:424] . unexpected pos 2816 vs 2710",
     "output_type": "error",
     "traceback": [
      "\u001b[0;31m---------------------------------------------------------------------------\u001b[0m",
      "\u001b[0;31mKeyboardInterrupt\u001b[0m                         Traceback (most recent call last)",
      "File \u001b[0;32m~/miniconda3/lib/python3.11/site-packages/torch/serialization.py:619\u001b[0m, in \u001b[0;36msave\u001b[0;34m(obj, f, pickle_module, pickle_protocol, _use_new_zipfile_serialization, _disable_byteorder_record)\u001b[0m\n\u001b[1;32m    618\u001b[0m \u001b[38;5;28;01mwith\u001b[39;00m _open_zipfile_writer(f) \u001b[38;5;28;01mas\u001b[39;00m opened_zipfile:\n\u001b[0;32m--> 619\u001b[0m     \u001b[43m_save\u001b[49m\u001b[43m(\u001b[49m\u001b[43mobj\u001b[49m\u001b[43m,\u001b[49m\u001b[43m \u001b[49m\u001b[43mopened_zipfile\u001b[49m\u001b[43m,\u001b[49m\u001b[43m \u001b[49m\u001b[43mpickle_module\u001b[49m\u001b[43m,\u001b[49m\u001b[43m \u001b[49m\u001b[43mpickle_protocol\u001b[49m\u001b[43m,\u001b[49m\u001b[43m \u001b[49m\u001b[43m_disable_byteorder_record\u001b[49m\u001b[43m)\u001b[49m\n\u001b[1;32m    620\u001b[0m     \u001b[38;5;28;01mreturn\u001b[39;00m\n",
      "File \u001b[0;32m~/miniconda3/lib/python3.11/site-packages/torch/serialization.py:853\u001b[0m, in \u001b[0;36m_save\u001b[0;34m(obj, zip_file, pickle_module, pickle_protocol, _disable_byteorder_record)\u001b[0m\n\u001b[1;32m    852\u001b[0m num_bytes \u001b[38;5;241m=\u001b[39m storage\u001b[38;5;241m.\u001b[39mnbytes()\n\u001b[0;32m--> 853\u001b[0m \u001b[43mzip_file\u001b[49m\u001b[38;5;241;43m.\u001b[39;49m\u001b[43mwrite_record\u001b[49m\u001b[43m(\u001b[49m\u001b[43mname\u001b[49m\u001b[43m,\u001b[49m\u001b[43m \u001b[49m\u001b[43mstorage\u001b[49m\u001b[38;5;241;43m.\u001b[39;49m\u001b[43mdata_ptr\u001b[49m\u001b[43m(\u001b[49m\u001b[43m)\u001b[49m\u001b[43m,\u001b[49m\u001b[43m \u001b[49m\u001b[43mnum_bytes\u001b[49m\u001b[43m)\u001b[49m\n",
      "\u001b[0;31mKeyboardInterrupt\u001b[0m: ",
      "\nDuring handling of the above exception, another exception occurred:\n",
      "\u001b[0;31mRuntimeError\u001b[0m                              Traceback (most recent call last)",
      "Cell \u001b[0;32mIn[42], line 14\u001b[0m\n\u001b[1;32m     10\u001b[0m f \u001b[38;5;241m=\u001b[39m \u001b[38;5;28mopen\u001b[39m(log_file, \u001b[38;5;124m'\u001b[39m\u001b[38;5;124mw\u001b[39m\u001b[38;5;124m'\u001b[39m)\n\u001b[1;32m     13\u001b[0m \u001b[38;5;66;03m# TRAIN\u001b[39;00m\n\u001b[0;32m---> 14\u001b[0m \u001b[43mtrain\u001b[49m\u001b[43m(\u001b[49m\u001b[43mnet\u001b[49m\u001b[43m,\u001b[49m\u001b[43m \u001b[49m\u001b[43mencoded\u001b[49m\u001b[43m,\u001b[49m\u001b[43m \u001b[49m\u001b[43mepochs\u001b[49m\u001b[38;5;241;43m=\u001b[39;49m\u001b[38;5;241;43m25\u001b[39;49m\u001b[43m,\u001b[49m\u001b[43m \u001b[49m\u001b[43mn_seqs\u001b[49m\u001b[38;5;241;43m=\u001b[39;49m\u001b[43mn_seqs\u001b[49m\u001b[43m,\u001b[49m\u001b[43m \u001b[49m\u001b[43mn_steps\u001b[49m\u001b[38;5;241;43m=\u001b[39;49m\u001b[43mn_steps\u001b[49m\u001b[43m,\u001b[49m\u001b[43m \u001b[49m\u001b[43mlr\u001b[49m\u001b[38;5;241;43m=\u001b[39;49m\u001b[38;5;241;43m0.001\u001b[39;49m\u001b[43m,\u001b[49m\u001b[43m \u001b[49m\u001b[43mcuda\u001b[49m\u001b[38;5;241;43m=\u001b[39;49m\u001b[43mcuda\u001b[49m\u001b[43m,\u001b[49m\u001b[43m \u001b[49m\u001b[43mprint_every\u001b[49m\u001b[38;5;241;43m=\u001b[39;49m\u001b[38;5;241;43m10\u001b[39;49m\u001b[43m)\u001b[49m\n\u001b[1;32m     16\u001b[0m \u001b[38;5;66;03m# Close the training log file.\u001b[39;00m\n\u001b[1;32m     17\u001b[0m f\u001b[38;5;241m.\u001b[39mclose()\n",
      "Cell \u001b[0;32mIn[39], line 107\u001b[0m, in \u001b[0;36mtrain\u001b[0;34m(net, data, epochs, n_seqs, n_steps, lr, clip, val_frac, cuda, print_every)\u001b[0m\n\u001b[1;32m    101\u001b[0m         checkpoint \u001b[38;5;241m=\u001b[39m {\u001b[38;5;124m'\u001b[39m\u001b[38;5;124mn_hidden\u001b[39m\u001b[38;5;124m'\u001b[39m: net\u001b[38;5;241m.\u001b[39mn_hidden,\n\u001b[1;32m    102\u001b[0m                     \u001b[38;5;124m'\u001b[39m\u001b[38;5;124mn_layers\u001b[39m\u001b[38;5;124m'\u001b[39m: net\u001b[38;5;241m.\u001b[39mn_layers,\n\u001b[1;32m    103\u001b[0m                     \u001b[38;5;124m'\u001b[39m\u001b[38;5;124mstate_dict\u001b[39m\u001b[38;5;124m'\u001b[39m: net\u001b[38;5;241m.\u001b[39mstate_dict(),\n\u001b[1;32m    104\u001b[0m                     \u001b[38;5;124m'\u001b[39m\u001b[38;5;124mtokens\u001b[39m\u001b[38;5;124m'\u001b[39m: net\u001b[38;5;241m.\u001b[39mchars}\n\u001b[1;32m    106\u001b[0m         \u001b[38;5;28;01mwith\u001b[39;00m \u001b[38;5;28mopen\u001b[39m(model_name, \u001b[38;5;124m'\u001b[39m\u001b[38;5;124mwb\u001b[39m\u001b[38;5;124m'\u001b[39m) \u001b[38;5;28;01mas\u001b[39;00m f:\n\u001b[0;32m--> 107\u001b[0m             \u001b[43mtorch\u001b[49m\u001b[38;5;241;43m.\u001b[39;49m\u001b[43msave\u001b[49m\u001b[43m(\u001b[49m\u001b[43mcheckpoint\u001b[49m\u001b[43m,\u001b[49m\u001b[43m \u001b[49m\u001b[43mf\u001b[49m\u001b[43m)\u001b[49m\n\u001b[1;32m    109\u001b[0m \u001b[38;5;28mprint\u001b[39m(\u001b[38;5;124m\"\u001b[39m\u001b[38;5;124mEpoch: \u001b[39m\u001b[38;5;132;01m{}\u001b[39;00m\u001b[38;5;124m/\u001b[39m\u001b[38;5;132;01m{}\u001b[39;00m\u001b[38;5;124m...\u001b[39m\u001b[38;5;124m\"\u001b[39m\u001b[38;5;241m.\u001b[39mformat(e\u001b[38;5;241m+\u001b[39m\u001b[38;5;241m1\u001b[39m, epochs),\n\u001b[1;32m    110\u001b[0m       \u001b[38;5;124m\"\u001b[39m\u001b[38;5;124mStep: \u001b[39m\u001b[38;5;132;01m{}\u001b[39;00m\u001b[38;5;124m...\u001b[39m\u001b[38;5;124m\"\u001b[39m\u001b[38;5;241m.\u001b[39mformat(counter),\n\u001b[1;32m    111\u001b[0m       \u001b[38;5;124m\"\u001b[39m\u001b[38;5;124mLoss: \u001b[39m\u001b[38;5;132;01m{:.4f}\u001b[39;00m\u001b[38;5;124m...\u001b[39m\u001b[38;5;124m\"\u001b[39m\u001b[38;5;241m.\u001b[39mformat(loss\u001b[38;5;241m.\u001b[39mitem()),\n\u001b[1;32m    112\u001b[0m       \u001b[38;5;124m\"\u001b[39m\u001b[38;5;124mVal Loss: \u001b[39m\u001b[38;5;132;01m{:.4f}\u001b[39;00m\u001b[38;5;124m\"\u001b[39m\u001b[38;5;241m.\u001b[39mformat(np\u001b[38;5;241m.\u001b[39mmean(val_losses)))\n",
      "File \u001b[0;32m~/miniconda3/lib/python3.11/site-packages/torch/serialization.py:618\u001b[0m, in \u001b[0;36msave\u001b[0;34m(obj, f, pickle_module, pickle_protocol, _use_new_zipfile_serialization, _disable_byteorder_record)\u001b[0m\n\u001b[1;32m    615\u001b[0m _check_save_filelike(f)\n\u001b[1;32m    617\u001b[0m \u001b[38;5;28;01mif\u001b[39;00m _use_new_zipfile_serialization:\n\u001b[0;32m--> 618\u001b[0m \u001b[43m    \u001b[49m\u001b[38;5;28;43;01mwith\u001b[39;49;00m\u001b[43m \u001b[49m\u001b[43m_open_zipfile_writer\u001b[49m\u001b[43m(\u001b[49m\u001b[43mf\u001b[49m\u001b[43m)\u001b[49m\u001b[43m \u001b[49m\u001b[38;5;28;43;01mas\u001b[39;49;00m\u001b[43m \u001b[49m\u001b[43mopened_zipfile\u001b[49m\u001b[43m:\u001b[49m\n\u001b[1;32m    619\u001b[0m \u001b[43m        \u001b[49m\u001b[43m_save\u001b[49m\u001b[43m(\u001b[49m\u001b[43mobj\u001b[49m\u001b[43m,\u001b[49m\u001b[43m \u001b[49m\u001b[43mopened_zipfile\u001b[49m\u001b[43m,\u001b[49m\u001b[43m \u001b[49m\u001b[43mpickle_module\u001b[49m\u001b[43m,\u001b[49m\u001b[43m \u001b[49m\u001b[43mpickle_protocol\u001b[49m\u001b[43m,\u001b[49m\u001b[43m \u001b[49m\u001b[43m_disable_byteorder_record\u001b[49m\u001b[43m)\u001b[49m\n\u001b[1;32m    620\u001b[0m \u001b[43m        \u001b[49m\u001b[38;5;28;43;01mreturn\u001b[39;49;00m\n",
      "File \u001b[0;32m~/miniconda3/lib/python3.11/site-packages/torch/serialization.py:482\u001b[0m, in \u001b[0;36m_open_zipfile_writer_buffer.__exit__\u001b[0;34m(self, *args)\u001b[0m\n\u001b[1;32m    481\u001b[0m \u001b[38;5;28;01mdef\u001b[39;00m \u001b[38;5;21m__exit__\u001b[39m(\u001b[38;5;28mself\u001b[39m, \u001b[38;5;241m*\u001b[39margs) \u001b[38;5;241m-\u001b[39m\u001b[38;5;241m>\u001b[39m \u001b[38;5;28;01mNone\u001b[39;00m:\n\u001b[0;32m--> 482\u001b[0m     \u001b[38;5;28;43mself\u001b[39;49m\u001b[38;5;241;43m.\u001b[39;49m\u001b[43mfile_like\u001b[49m\u001b[38;5;241;43m.\u001b[39;49m\u001b[43mwrite_end_of_file\u001b[49m\u001b[43m(\u001b[49m\u001b[43m)\u001b[49m\n\u001b[1;32m    483\u001b[0m     \u001b[38;5;28mself\u001b[39m\u001b[38;5;241m.\u001b[39mbuffer\u001b[38;5;241m.\u001b[39mflush()\n",
      "\u001b[0;31mRuntimeError\u001b[0m: [enforce fail at inline_container.cc:424] . unexpected pos 2816 vs 2710"
     ]
    }
   ],
   "source": [
    "#from workspace_utils import active_session\n",
    "\n",
    "n_seqs, n_steps = 128, 100\n",
    "\n",
    "# you may change cuda to True if you plan on using a GPU!\n",
    "# also, if you do, please INCREASE the epochs to 25\n",
    "\n",
    "# Open the training log file.\n",
    "log_file = 'training_log.txt'\n",
    "f = open(log_file, 'w')\n",
    "\n",
    "\n",
    "# TRAIN\n",
    "train(net, encoded, epochs=25, n_seqs=n_seqs, n_steps=n_steps, lr=0.001, cuda=cuda, print_every=10)\n",
    "\n",
    "# Close the training log file.\n",
    "f.close()"
   ]
  },
  {
   "cell_type": "markdown",
   "metadata": {},
   "source": [
    "**Getting the best model**\n",
    "\n",
    "To set your hyperparameters to get the best performance, you'll want to watch the training and validation losses. If your training loss is much lower than the validation loss, you're overfitting. Increase regularization (more dropout) or use a smaller network. If the training and validation losses are close, you're underfitting so you can increase the size of the network."
   ]
  },
  {
   "cell_type": "markdown",
   "metadata": {},
   "source": [
    "**Hyperparameters**\n",
    "\n",
    "Here are the hyperparameters for the network.\n",
    "\n",
    "In defining the model:\n",
    "* `n_hidden` - The number of units in the hidden layers.\n",
    "* `n_layers` - Number of hidden LSTM layers to use.\n",
    "\n",
    "We assume that dropout probability and learning rate will be kept at the default, in this example.\n",
    "\n",
    "And in training:\n",
    "* `n_seqs` - Number of sequences running through the network in one pass.\n",
    "* `n_steps` - Number of characters in the sequence the network is trained on. Larger is better typically, the network will learn more long range dependencies. But it takes longer to train. 100 is typically a good number here.\n",
    "* `lr` - Learning rate for training\n"
   ]
  },
  {
   "cell_type": "markdown",
   "metadata": {},
   "source": [
    "\n",
    "Here's some good advice from Andrej Karpathy on training the network. I'm going to copy it in here for your benefit, but also link to [where it originally came from](https://github.com/karpathy/char-rnn#tips-and-tricks).\n",
    "\n",
    "**Tips and Tricks**\n",
    "\n",
    ">**Monitoring Validation Loss vs. Training Loss**\n",
    "\n",
    "If you're somewhat new to Machine Learning or Neural Networks it can take a bit of expertise to get good models. The most important quantity to keep track of is the difference between your training loss (printed during training) and the validation loss (printed once in a while when the RNN is run on the validation data (by default every 1000 iterations)). In particular:\n",
    "\n",
    " - If your training loss is much lower than validation loss then this means the network might be **overfitting**. Solutions to this are to decrease your network size, or to increase dropout. For example you could try dropout of 0.5 and so on.\n",
    " - If your training/validation loss are about equal then your model is **underfitting**. Increase the size of your model (either number of layers or the raw number of neurons per layer)\n",
    "\n",
    "> **Approximate number of parameters**\n",
    "\n",
    " The two most important parameters that control the model are `n_hidden` and `n_layers`. I would advise that you always use `n_layers` of either 2/3. The `n_hidden` can be adjusted based on how much data you have. The two important quantities to keep track of here are:\n",
    "\n",
    " - The number of parameters in your model. This is printed when you start training.\n",
    " - The size of your dataset. 1MB file is approximately 1 million characters.\n",
    "\n",
    "These two should be about the same order of magnitude. It's a little tricky to tell. Here are some examples:\n",
    "\n",
    " - I have a 100MB dataset and I'm using the default parameter settings (which currently print 150K parameters). My data size is significantly larger (100 mil >> 0.15 mil), so I expect to heavily underfit. I am thinking I can comfortably afford to make `n_hidden` larger.\n",
    " - I have a 10MB dataset and running a 10 million parameter model. I'm slightly nervous and I'm carefully monitoring my validation loss. If it's larger than my training loss then I may want to try to increase dropout a bit and see if that helps the validation loss.\n",
    "\n",
    "> **Best models strategy**\n",
    "\n",
    "The winning strategy to obtaining very good models (if you have the compute time) is to always err on making the network larger (as large as you're willing to wait for it to compute) and then try different dropout values (between 0,1). Whatever model has the best validation performance (the loss, written in the checkpoint filename, low is good) is the one you should use in the end.\n",
    "\n",
    "It is very common in deep learning to run many different models with many different hyperparameter settings, and in the end take whatever checkpoint gave the best validation performance.\n",
    "\n",
    "By the way, the size of your training and validation splits are also parameters. Make sure you have a decent amount of data in your validation set or otherwise the validation performance will be noisy and not very informative.\n",
    "After training, we'll save the model so we can load it again later if we need too. Here I'm saving the parameters needed to create the same architecture, the hidden layer hyperparameters and the text characters."
   ]
  },
  {
   "cell_type": "markdown",
   "metadata": {},
   "source": [
    "**Sampling**\n",
    "\n",
    "Now that the model is trained, we'll want to sample from it. To sample, we pass in a character and have the network predict the next character. Then we take that character, pass it back in, and get another predicted character. Just keep doing this and you'll generate a bunch of text!\n",
    "\n",
    "**Top K sampling**\n",
    "\n",
    "Our predictions come from a categorcial probability distribution over all the possible characters. We can make the sample text and make it more reasonable to handle (with less variables) by only considering some $K$ most probable characters. This will prevent the network from giving us completely absurd characters while allowing it to introduce some noise and randomness into the sampled text.\n",
    "\n",
    "Typically you'll want to prime the network so you can build up a hidden state. Otherwise the network will start out generating characters at random. In general the first bunch of characters will be a little rough since it hasn't built up a long history of characters to predict from."
   ]
  },
  {
   "cell_type": "code",
   "execution_count": 43,
   "metadata": {},
   "outputs": [],
   "source": [
    "def sample(net, size, prime='The', top_k=None, cuda=False):\n",
    "        \n",
    "    if cuda:\n",
    "        net.cuda()\n",
    "    else:\n",
    "        net.cpu()\n",
    "\n",
    "    net.eval()\n",
    "    \n",
    "    # First off, run through the prime characters\n",
    "    chars = [ch for ch in prime]\n",
    "    h = net.init_hidden(1)\n",
    "    for ch in prime:\n",
    "        char, h = net.predict(ch, h, cuda=cuda, top_k=top_k)\n",
    "\n",
    "    chars.append(char)\n",
    "    \n",
    "    # Now pass in the previous character and get a new one\n",
    "    for ii in range(size):\n",
    "        char, h = net.predict(chars[-1], h, cuda=cuda, top_k=top_k)\n",
    "        chars.append(char)\n",
    "\n",
    "    return ''.join(chars)"
   ]
  },
  {
   "cell_type": "code",
   "execution_count": 44,
   "metadata": {},
   "outputs": [
    {
     "name": "stdout",
     "output_type": "stream",
     "text": [
      "Anna,\n",
      "her husband asked her to say that he could not at her say that the dead man who had\n",
      "been to be saved as though it should be at home.\n",
      "\n",
      "\"I hope?\" she said.\n",
      "\n",
      "\"What word was it you're satisfied with?\" she said, laying his arm around\n",
      "her handkerchief.\n",
      "\n",
      "\"If you want, I don't know the salary. You wouldn't be sorry. I have thought and\n",
      "talk about money.\"\n",
      "\n",
      "\"Well, what are you thinking? All over her, and you're stupid and somewhat said:\n",
      "\n",
      "\"It's not the only woman's shoulder. I'm glad I am...\" he cried. \"We am\n",
      "spoiling my children. In your place,\" she said anything to him, but he saw his\n",
      "wife and the servant of the portrait.\n",
      "\n",
      "The coachman said that he had not come from hearth.\n",
      "\n",
      "The priest said. She was not in love with her mother always forgotten to himself,\n",
      "and was in silence.\n",
      "\n",
      "\"I have too mistress,\" said Stepan Arkadyevitch.\n",
      "\n",
      "\"I don't think so, said: I am very, very glad of it, this I must go to\n",
      "see me, isn't it?\"\n",
      "\n",
      "\"I would not, I've brought you such a possible second.\"\n",
      "\n",
      "\"Yes, you might have a talked too,\" said Stepan Arkadyevitch,\n",
      "looking into his eyes and capital, and with a smile.\n",
      "\n",
      "\"That's the meeting for her? I could not help it.\"\n",
      "\n",
      "\"What has he done? When are you grief? You don't know, I can't believe\n",
      "it,\" she thought. \"It's over the property of secretary\n",
      "about the challenge?\"\n",
      "\n",
      "\"I'm very, very glad you are at your hands! Tomorrow I do not know my child. I have\n",
      "thought that you don't want to see you!\"\n",
      "\n",
      "\"Oh, yes,\" answered Vassenka, glancing incapable at Varenka. \"That's\n",
      "not so.\"\n",
      "\n",
      "\"Yes, but we have nothing but to happen.\" And indeed he had never\n",
      "comprehended him. He was not to blame, and that it was a learning and\n",
      "daughter as she was almost at the thought of husband and forever with the feelings of her\n",
      "depression.\n",
      "\n",
      "\"I was at first a strength to speak of it, and that you are not to blame! At least they can\n",
      "be drinking for my work, and then they're nicer help is,\"\n",
      "said Levin, \"that if it is true,\" he said.\n",
      "\n",
      "\"Yes, I wished it to you,\" said Vronsky.\n",
      "\n",
      "Sviazhsky, seeing an attach\n"
     ]
    }
   ],
   "source": [
    "print(sample(net, 2000, prime='Anna', top_k=5, cuda=cuda))"
   ]
  },
  {
   "cell_type": "markdown",
   "metadata": {},
   "source": [
    "**Loading a checkpoint**"
   ]
  },
  {
   "cell_type": "code",
   "execution_count": 62,
   "metadata": {},
   "outputs": [
    {
     "data": {
      "text/plain": [
       "<All keys matched successfully>"
      ]
     },
     "execution_count": 62,
     "metadata": {},
     "output_type": "execute_result"
    }
   ],
   "source": [
    "# change the name, for saving multiple files\n",
    "model_name = 'rnn3L_last_epoch.net'\n",
    "\n",
    "checkpoint = {'n_hidden': net.n_hidden,\n",
    "              'n_layers': net.n_layers,\n",
    "              'state_dict': net.state_dict(),\n",
    "              'tokens': net.chars}\n",
    "\n",
    "with open(model_name, 'wb') as f:\n",
    "    torch.save(checkpoint, f)\n",
    "    \n",
    "\n",
    "# Here we have loaded in a model that trained over 1 epoch `rnn_1_epoch.net`\n",
    "with open('rnn3L_last_epoch.net', 'rb') as f:\n",
    "    checkpoint = torch.load(f)\n",
    "    \n",
    "loaded = CharRNN(checkpoint['tokens'], n_hidden=checkpoint['n_hidden'], n_layers=checkpoint['n_layers'])\n",
    "loaded.load_state_dict(checkpoint['state_dict'])"
   ]
  },
  {
   "cell_type": "code",
   "execution_count": null,
   "metadata": {},
   "outputs": [],
   "source": [
    "# Change cuda to True if you are using GPU!\n",
    "print(sample(loaded, 2000, cuda=cuda, top_k=5, prime=\"And Levin said\"))"
   ]
  }
 ],
 "metadata": {
  "kernelspec": {
   "display_name": "base",
   "language": "python",
   "name": "python3"
  },
  "language_info": {
   "codemirror_mode": {
    "name": "ipython",
    "version": 3
   },
   "file_extension": ".py",
   "mimetype": "text/x-python",
   "name": "python",
   "nbconvert_exporter": "python",
   "pygments_lexer": "ipython3",
   "version": "3.11.8"
  }
 },
 "nbformat": 4,
 "nbformat_minor": 2
}
