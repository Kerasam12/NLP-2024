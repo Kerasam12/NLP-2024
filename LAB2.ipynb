{
 "cells": [
  {
   "cell_type": "markdown",
   "metadata": {},
   "source": [
    "# Exercise 1: N-grams"
   ]
  },
  {
   "cell_type": "code",
   "execution_count": null,
   "metadata": {},
   "outputs": [],
   "source": [
    "import nltk\n",
    "nltk.download('punkt')\n",
    "nltk.download('stopwords')"
   ]
  },
  {
   "cell_type": "markdown",
   "metadata": {},
   "source": [
    "### 1. Consider the sentence “To Sherlock Holmes she is always ‘The Woman.’ I have seldom heard him mention her under any other name.”"
   ]
  },
  {
   "cell_type": "code",
   "execution_count": null,
   "metadata": {},
   "outputs": [],
   "source": [
    "sentence = \"To Sherlock Holmes she is always 'The Woman' I have seldom heard him mention her under any other name.\""
   ]
  },
  {
   "cell_type": "markdown",
   "metadata": {},
   "source": [
    "### 2. Tokenize the sentence"
   ]
  },
  {
   "cell_type": "code",
   "execution_count": null,
   "metadata": {},
   "outputs": [],
   "source": [
    "tokens = nltk.word_tokenize(sentence)\n",
    "tokens "
   ]
  },
  {
   "cell_type": "markdown",
   "metadata": {},
   "source": [
    "### 3. Calculate the n-grams of the sentence, with n = 2"
   ]
  },
  {
   "cell_type": "code",
   "execution_count": null,
   "metadata": {},
   "outputs": [],
   "source": [
    "bigrams = list(nltk.bigrams(tokens))\n",
    "bigrams "
   ]
  },
  {
   "cell_type": "code",
   "execution_count": null,
   "metadata": {},
   "outputs": [],
   "source": [
    "trigrams = list(nltk.trigrams(tokens))\n",
    "trigrams"
   ]
  },
  {
   "cell_type": "markdown",
   "metadata": {},
   "source": [
    "### 4. Perform text pre-processing"
   ]
  },
  {
   "cell_type": "markdown",
   "metadata": {},
   "source": [
    "1. Remove special characters such as *,<,>"
   ]
  },
  {
   "cell_type": "code",
   "execution_count": null,
   "metadata": {},
   "outputs": [],
   "source": [
    "#Remove all the tokens that are equal to \"*\", \">\" or \"<\"\n",
    "prep_tok = [word for word in tokens if word not in [\"*\", \">\", \"<\"]]\n",
    "print(prep_tok)"
   ]
  },
  {
   "cell_type": "markdown",
   "metadata": {},
   "source": [
    "2. Remove punctuation\n"
   ]
  },
  {
   "cell_type": "code",
   "execution_count": null,
   "metadata": {},
   "outputs": [],
   "source": [
    "#Remove punctuation as well\n",
    "import string\n",
    "prep_tok = [word for word in prep_tok if word not in string.punctuation]\n",
    "prep_tok"
   ]
  },
  {
   "cell_type": "markdown",
   "metadata": {},
   "source": [
    "### 5. Compute the frequency of each n-gram, and show the top 10 bigrams"
   ]
  },
  {
   "cell_type": "code",
   "execution_count": null,
   "metadata": {},
   "outputs": [],
   "source": [
    "from collections import Counter\n",
    "\n",
    "bigram_counts = Counter(list(nltk.bigrams(prep_tok)))\n",
    "print(bigram_counts.most_common(10))\n",
    "trigram_counts = Counter(list(nltk.trigrams(prep_tok)))\n",
    "print(trigram_counts.most_common(10))\n",
    "fourgram_counts = Counter(nltk.ngrams(prep_tok, 4))\n",
    "print(fourgram_counts.most_common(10))"
   ]
  },
  {
   "cell_type": "markdown",
   "metadata": {},
   "source": [
    "Now Let's do the same with Moby Dick"
   ]
  },
  {
   "cell_type": "code",
   "execution_count": null,
   "metadata": {},
   "outputs": [],
   "source": [
    "with open(\"./contents/moby_dick.txt\") 'r' as file:\n",
    "    mobydick = file.read()\n",
    "    ,"
   ]
  },
  {
   "cell_type": "code",
   "execution_count": null,
   "metadata": {},
   "outputs": [],
   "source": [
    "mobydick_tokens = nltk.word_tokenize(mobydick)\n",
    "print(\"Number of tokens in Moby Dick:\", len(bydick)\"N)"
   ]
  },
  {
   "cell_type": "code",
   "execution_count": null,
   "metadata": {},
   "outputs": [],
   "source": [
    "import string\n",
    "#Now remove punctuations and \"*\", \"<\", \">\" signs\n",
    "prep_mobydick_tokens = [word for word in mobydick_tokens if word not in string.punctuation and word not in [\"*\", \"<\", \">\"]]\n"
   ]
  },
  {
   "cell_type": "markdown",
   "metadata": {},
   "source": [
    "Compute the ngram rankings"
   ]
  },
  {
   "cell_type": "code",
   "execution_count": null,
   "metadata": {},
   "outputs": [],
   "source": [
    "from collections import Counter\n",
    "\n",
    "bigram_counts = Counter(list(nltk.bigrams(prep_mobydick_tokens)))\n",
    "print(f\"The most common bigrams are:\\n{bigram_counts.most_common(10)}\\n\")\n",
    "trigram_counts = Counter(list(nltk.trigrams(prep_mobydick_tokens)))\n",
    "print(f\"The most common trigrams are:\\n{trigram_counts.most_common(10)}\\n\")\n",
    "fourgram_counts = Counter(nltk.ngrams(prep_mobydick_tokens, 4))\n",
    "print(f\"The most common fourgrams are:\\n{fourgram_counts.most_common(10)}\\n\")"
   ]
  },
  {
   "cell_type": "markdown",
   "metadata": {},
   "source": [
    "## Exercise 2"
   ]
  },
  {
   "cell_type": "code",
   "execution_count": null,
   "metadata": {},
   "outputs": [],
   "source": [
    "with open(\".\\contents\\Adventures_Holmes.txt\") as file:\n",
    "    content = file.read()"
   ]
  },
  {
   "cell_type": "code",
   "execution_count": null,
   "metadata": {},
   "outputs": [],
   "source": [
    "paragraphs = content.split('\\n\\n')\n",
    "print(len(paragraphs))\n",
    "test_paragraph = paragraphs[19]\n",
    "train_paragraphs = paragraphs.pop(19)"
   ]
  },
  {
   "cell_type": "code",
   "execution_count": null,
   "metadata": {},
   "outputs": [],
   "source": [
    "\n",
    "train_tok = nltk.word_tokenize(train_paragraphs)\n",
    "bigrams_md = list(nltk.bigrams(train_tok))\n"
   ]
  },
  {
   "cell_type": "code",
   "execution_count": null,
   "metadata": {},
   "outputs": [],
   "source": []
  },
  {
   "cell_type": "code",
   "execution_count": null,
   "metadata": {},
   "outputs": [],
   "source": []
  },
  {
   "cell_type": "code",
   "execution_count": null,
   "metadata": {},
   "outputs": [],
   "source": [
    "unigram_count =  Counter(list(train_tok))\n",
    "bigram_count = Counter(list(bigrams_md))\n",
    "bigram_prob = dict()\n",
    "print(bigram_count)\n",
    "\n",
    "for tok,freq in bigram_count.items():\n",
    "    \n",
    "    bigram_prob[tok] = freq/unigram_count[tok[0]]\n"
   ]
  },
  {
   "cell_type": "code",
   "execution_count": null,
   "metadata": {},
   "outputs": [],
   "source": [
    "print(bigram_prob)"
   ]
  },
  {
   "cell_type": "code",
   "execution_count": null,
   "metadata": {},
   "outputs": [],
   "source": [
    "test_tok = nltk.word_tokenize(test_paragraph)\n",
    "print(test_tok)\n",
    "predict_dict = dict()\n",
    "for tok in test_tok:\n",
    "    prob = 0 \n",
    "    word = \"\"\n",
    "    for bigram1,new_prob in bigram_prob.items():\n",
    "        print(tok)\n",
    "        if tok in list(bigram1):\n",
    "            if new_prob > prob:\n",
    "                prob = new_prob\n",
    "                word = tok\n",
    "    predict_dict[tok] = word\n",
    "\n",
    "print(predict_dict)\n"
   ]
  },
  {
   "cell_type": "markdown",
   "metadata": {},
   "source": [
    "## Exercise 3"
   ]
  },
  {
   "cell_type": "markdown",
   "metadata": {},
   "source": [
    "### 1 "
   ]
  },
  {
   "cell_type": "code",
   "execution_count": null,
   "metadata": {},
   "outputs": [],
   "source": [
    "with open(\".\\contents\\Adventures_Holmes.txt\") as file:\n",
    "    holmes = file.read()"
   ]
  },
  {
   "cell_type": "markdown",
   "metadata": {},
   "source": [
    " ### 2"
   ]
  },
  {
   "cell_type": "code",
   "execution_count": null,
   "metadata": {},
   "outputs": [],
   "source": [
    "import random\n",
    "# Get one paragraph of the holmes book as test data, and the rest of paragraphs as train data\n",
    "n_of_paragraphs = len(holmes.split('\\n\\n')[:])\n",
    "test_paragraph = holmes.split('\\n\\n')[18]\n",
    "#train paragraphs should include everything except the test paragraph\n",
    "train_paragraphs = holmes.split('\\n\\n')[:18] + holmes.split('\\n\\n')[18+1:]\n",
    "\n"
   ]
  },
  {
   "cell_type": "markdown",
   "metadata": {},
   "source": [
    "Now let's print how the test paragraph looks like"
   ]
  },
  {
   "cell_type": "code",
   "execution_count": null,
   "metadata": {},
   "outputs": [],
   "source": [
    "test_paragraph"
   ]
  },
  {
   "cell_type": "markdown",
   "metadata": {},
   "source": [
    "Now for each word in the test set let's predict the following word"
   ]
  },
  {
   "cell_type": "code",
   "execution_count": null,
   "metadata": {},
   "outputs": [],
   "source": [
    "#Now for each word in the test set let's predict the following word\n",
    "test_tok = nltk.word_tokenize(test_paragraph)\n",
    "train_tok = nltk.word_tokenize(train_paragraphs)\n",
    "\n"
   ]
  },
  {
   "cell_type": "code",
   "execution_count": null,
   "metadata": {},
   "outputs": [],
   "source": []
  }
 ],
 "metadata": {
  "kernelspec": {
   "display_name": "pytorch-env",
   "language": "python",
   "name": "python3"
  },
  "language_info": {
   "codemirror_mode": {
    "name": "ipython",
    "version": 3
   },
   "file_extension": ".py",
   "mimetype": "text/x-python",
   "name": "python",
   "nbconvert_exporter": "python",
   "pygments_lexer": "ipython3",
   "version": "3.9.18"
  }
 },
 "nbformat": 4,
 "nbformat_minor": 2
}
