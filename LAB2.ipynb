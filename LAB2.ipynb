{
 "cells": [
  {
   "cell_type": "markdown",
   "metadata": {},
   "source": [
    "# Exercise 1: N-grams"
   ]
  },
  {
   "cell_type": "code",
   "execution_count": 2,
   "metadata": {},
   "outputs": [
    {
     "name": "stderr",
     "output_type": "stream",
     "text": [
      "[nltk_data] Downloading package punkt to\n",
      "[nltk_data]     C:\\Users\\neild\\AppData\\Roaming\\nltk_data...\n",
      "[nltk_data]   Package punkt is already up-to-date!\n",
      "[nltk_data] Downloading package stopwords to\n",
      "[nltk_data]     C:\\Users\\neild\\AppData\\Roaming\\nltk_data...\n",
      "[nltk_data]   Package stopwords is already up-to-date!\n"
     ]
    },
    {
     "data": {
      "text/plain": [
       "True"
      ]
     },
     "execution_count": 2,
     "metadata": {},
     "output_type": "execute_result"
    }
   ],
   "source": [
    "import nltk\n",
    "nltk.download('punkt')\n",
    "nltk.download('stopwords')"
   ]
  },
  {
   "cell_type": "markdown",
   "metadata": {},
   "source": [
    "### 1"
   ]
  },
  {
   "cell_type": "code",
   "execution_count": 18,
   "metadata": {},
   "outputs": [],
   "source": [
    "sentence = \"To Sherlock Holmes she is always 'The Woman' I have seldom heard him mention her under any other name.\"\n"
   ]
  },
  {
   "cell_type": "markdown",
   "metadata": {},
   "source": [
    "### 2"
   ]
  },
  {
   "cell_type": "code",
   "execution_count": 20,
   "metadata": {},
   "outputs": [
    {
     "data": {
      "text/plain": [
       "['To',\n",
       " 'Sherlock',\n",
       " 'Holmes',\n",
       " 'she',\n",
       " 'is',\n",
       " 'always',\n",
       " \"'The\",\n",
       " 'Woman',\n",
       " \"'\",\n",
       " 'I',\n",
       " 'have',\n",
       " 'seldom',\n",
       " 'heard',\n",
       " 'him',\n",
       " 'mention',\n",
       " 'her',\n",
       " 'under',\n",
       " 'any',\n",
       " 'other',\n",
       " 'name',\n",
       " '.']"
      ]
     },
     "execution_count": 20,
     "metadata": {},
     "output_type": "execute_result"
    }
   ],
   "source": [
    "tokens = nltk.word_tokenize(sentence)\n",
    "tokens "
   ]
  },
  {
   "cell_type": "markdown",
   "metadata": {},
   "source": [
    "### 3"
   ]
  },
  {
   "cell_type": "code",
   "execution_count": 4,
   "metadata": {},
   "outputs": [
    {
     "data": {
      "text/plain": [
       "[('To', 'Sherlock'),\n",
       " ('Sherlock', 'Holmes'),\n",
       " ('Holmes', 'she'),\n",
       " ('she', 'is'),\n",
       " ('is', 'always'),\n",
       " ('always', \"'The\"),\n",
       " (\"'The\", 'Woman'),\n",
       " ('Woman', \"'\"),\n",
       " (\"'\", 'I'),\n",
       " ('I', 'have'),\n",
       " ('have', 'seldom'),\n",
       " ('seldom', 'heard'),\n",
       " ('heard', 'him'),\n",
       " ('him', 'mention'),\n",
       " ('mention', 'her'),\n",
       " ('her', 'under'),\n",
       " ('under', 'any'),\n",
       " ('any', 'other'),\n",
       " ('other', 'name'),\n",
       " ('name', '.')]"
      ]
     },
     "execution_count": 4,
     "metadata": {},
     "output_type": "execute_result"
    }
   ],
   "source": [
    "bigrams = list(nltk.bigrams(tokens))\n",
    "bigrams "
   ]
  },
  {
   "cell_type": "code",
   "execution_count": 17,
   "metadata": {},
   "outputs": [
    {
     "data": {
      "text/plain": [
       "[('To', 'Sherlock', 'Holmes'),\n",
       " ('Sherlock', 'Holmes', 'she'),\n",
       " ('Holmes', 'she', 'is'),\n",
       " ('she', 'is', 'always'),\n",
       " ('is', 'always', \"'The\"),\n",
       " ('always', \"'The\", 'Woman'),\n",
       " (\"'The\", 'Woman', \"'\"),\n",
       " ('Woman', \"'\", 'I'),\n",
       " (\"'\", 'I', 'have'),\n",
       " ('I', 'have', 'seldom'),\n",
       " ('have', 'seldom', 'heard'),\n",
       " ('seldom', 'heard', 'him'),\n",
       " ('heard', 'him', 'mention'),\n",
       " ('him', 'mention', 'her'),\n",
       " ('mention', 'her', 'under'),\n",
       " ('her', 'under', 'any'),\n",
       " ('under', 'any', 'other'),\n",
       " ('any', 'other', 'name'),\n",
       " ('other', 'name', '.')]"
      ]
     },
     "execution_count": 17,
     "metadata": {},
     "output_type": "execute_result"
    }
   ],
   "source": [
    "trigrams = list(nltk.trigrams(tokens))\n",
    "trigrams"
   ]
  },
  {
   "cell_type": "markdown",
   "metadata": {},
   "source": [
    "### 4"
   ]
  },
  {
   "cell_type": "code",
   "execution_count": 22,
   "metadata": {},
   "outputs": [
    {
     "name": "stdout",
     "output_type": "stream",
     "text": [
      "['To', 'Sherlock', 'Holmes', 'she', 'is', 'always', \"'The\", 'Woman', \"'\", 'I', 'have', 'seldom', 'heard', 'him', 'mention', 'her', 'under', 'any', 'other', 'name', '.']\n"
     ]
    }
   ],
   "source": [
    "\n",
    "#Remove all the tokens that are equal to \"*\", \">\" or \"<\"\n",
    "prep_tok = [word for word in tokens if word not in [\"*\", \">\", \"<\"]]\n",
    "print(prep_tok)"
   ]
  },
  {
   "cell_type": "markdown",
   "metadata": {},
   "source": []
  },
  {
   "cell_type": "code",
   "execution_count": 24,
   "metadata": {},
   "outputs": [
    {
     "data": {
      "text/plain": [
       "['To',\n",
       " 'Sherlock',\n",
       " 'Holmes',\n",
       " 'she',\n",
       " 'is',\n",
       " 'always',\n",
       " \"'The\",\n",
       " 'Woman',\n",
       " 'I',\n",
       " 'have',\n",
       " 'seldom',\n",
       " 'heard',\n",
       " 'him',\n",
       " 'mention',\n",
       " 'her',\n",
       " 'under',\n",
       " 'any',\n",
       " 'other',\n",
       " 'name']"
      ]
     },
     "execution_count": 24,
     "metadata": {},
     "output_type": "execute_result"
    }
   ],
   "source": [
    "#Remove punctuation as well\n",
    "import string\n",
    "prep_tok = [word for word in prep_tok if word not in string.punctuation]\n",
    "prep_tok"
   ]
  },
  {
   "cell_type": "markdown",
   "metadata": {},
   "source": []
  },
  {
   "cell_type": "code",
   "execution_count": null,
   "metadata": {},
   "outputs": [],
   "source": []
  },
  {
   "cell_type": "code",
   "execution_count": 27,
   "metadata": {},
   "outputs": [
    {
     "name": "stdout",
     "output_type": "stream",
     "text": [
      "[(('To', 'Sherlock'), 1), (('Sherlock', 'Holmes'), 1), (('Holmes', 'she'), 1), (('she', 'is'), 1), (('is', 'always'), 1), (('always', \"'The\"), 1), ((\"'The\", 'Woman'), 1), (('Woman', 'I'), 1), (('I', 'have'), 1), (('have', 'seldom'), 1)]\n",
      "[(('To', 'Sherlock', 'Holmes'), 1), (('Sherlock', 'Holmes', 'she'), 1), (('Holmes', 'she', 'is'), 1), (('she', 'is', 'always'), 1), (('is', 'always', \"'The\"), 1), (('always', \"'The\", 'Woman'), 1), ((\"'The\", 'Woman', 'I'), 1), (('Woman', 'I', 'have'), 1), (('I', 'have', 'seldom'), 1), (('have', 'seldom', 'heard'), 1)]\n",
      "[(('To', 'Sherlock', 'Holmes', 'she'), 1), (('Sherlock', 'Holmes', 'she', 'is'), 1), (('Holmes', 'she', 'is', 'always'), 1), (('she', 'is', 'always', \"'The\"), 1), (('is', 'always', \"'The\", 'Woman'), 1), (('always', \"'The\", 'Woman', 'I'), 1), ((\"'The\", 'Woman', 'I', 'have'), 1), (('Woman', 'I', 'have', 'seldom'), 1), (('I', 'have', 'seldom', 'heard'), 1), (('have', 'seldom', 'heard', 'him'), 1)]\n"
     ]
    }
   ],
   "source": [
    "#Compute now the frequency of each n-gram, and show the top10 most frequent n-grams\n",
    "from collections import Counter\n",
    "bigram_counts = Counter(list(nltk.bigrams(prep_tok)))\n",
    "print(bigram_counts.most_common(10))\n",
    "trigram_counts = Counter(list(nltk.trigrams(prep_tok)))\n",
    "print(trigram_counts.most_common(10))\n",
    "fourgram_counts = Counter(nltk.ngrams(prep_tok, 4))\n",
    "print(fourgram_counts.most_common(10))"
   ]
  },
  {
   "cell_type": "markdown",
   "metadata": {},
   "source": [
    "## Exercise 2"
   ]
  },
  {
   "cell_type": "code",
   "execution_count": null,
   "metadata": {},
   "outputs": [],
   "source": []
  },
  {
   "cell_type": "markdown",
   "metadata": {},
   "source": [
    "## Exercise 3"
   ]
  },
  {
   "cell_type": "code",
   "execution_count": null,
   "metadata": {},
   "outputs": [],
   "source": []
  },
  {
   "cell_type": "markdown",
   "metadata": {},
   "source": [
    "## Exercise 4"
   ]
  }
 ],
 "metadata": {
  "kernelspec": {
   "display_name": "pytorch-env",
   "language": "python",
   "name": "python3"
  },
  "language_info": {
   "codemirror_mode": {
    "name": "ipython",
    "version": 3
   },
   "file_extension": ".py",
   "mimetype": "text/x-python",
   "name": "python",
   "nbconvert_exporter": "python",
   "pygments_lexer": "ipython3",
   "version": "3.9.18"
  }
 },
 "nbformat": 4,
 "nbformat_minor": 2
}
