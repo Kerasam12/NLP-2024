{
  "cells": [
    {
      "cell_type": "markdown",
      "metadata": {
        "id": "c7ShgLQJlh0W"
      },
      "source": [
        "# LAB 4 - Semantic Embeddings"
      ]
    },
    {
      "cell_type": "markdown",
      "metadata": {
        "id": "E14GReWulh0Y"
      },
      "source": [
        "## Exercise 2 – Word2vec\n"
      ]
    },
    {
      "cell_type": "markdown",
      "metadata": {
        "id": "Vz_SQs_ylh0Y"
      },
      "source": [
        "### 1. Import spacy library and load the en_core_web_md model\n"
      ]
    },
    {
      "cell_type": "code",
      "execution_count": 1,
      "metadata": {
        "colab": {
          "base_uri": "https://localhost:8080/"
        },
        "id": "nWrxYLMIlh0Y",
        "outputId": "69172708-360d-4bf6-b387-a957172f2ff8"
      },
      "outputs": [
        {
          "name": "stdout",
          "output_type": "stream",
          "text": [
            "Requirement already satisfied: spacy in /usr/local/lib/python3.10/dist-packages (3.7.4)\n",
            "Requirement already satisfied: spacy-legacy<3.1.0,>=3.0.11 in /usr/local/lib/python3.10/dist-packages (from spacy) (3.0.12)\n",
            "Requirement already satisfied: spacy-loggers<2.0.0,>=1.0.0 in /usr/local/lib/python3.10/dist-packages (from spacy) (1.0.5)\n",
            "Requirement already satisfied: murmurhash<1.1.0,>=0.28.0 in /usr/local/lib/python3.10/dist-packages (from spacy) (1.0.10)\n",
            "Requirement already satisfied: cymem<2.1.0,>=2.0.2 in /usr/local/lib/python3.10/dist-packages (from spacy) (2.0.8)\n",
            "Requirement already satisfied: preshed<3.1.0,>=3.0.2 in /usr/local/lib/python3.10/dist-packages (from spacy) (3.0.9)\n",
            "Requirement already satisfied: thinc<8.3.0,>=8.2.2 in /usr/local/lib/python3.10/dist-packages (from spacy) (8.2.3)\n",
            "Requirement already satisfied: wasabi<1.2.0,>=0.9.1 in /usr/local/lib/python3.10/dist-packages (from spacy) (1.1.2)\n",
            "Requirement already satisfied: srsly<3.0.0,>=2.4.3 in /usr/local/lib/python3.10/dist-packages (from spacy) (2.4.8)\n",
            "Requirement already satisfied: catalogue<2.1.0,>=2.0.6 in /usr/local/lib/python3.10/dist-packages (from spacy) (2.0.10)\n",
            "Requirement already satisfied: weasel<0.4.0,>=0.1.0 in /usr/local/lib/python3.10/dist-packages (from spacy) (0.3.4)\n",
            "Requirement already satisfied: typer<0.10.0,>=0.3.0 in /usr/local/lib/python3.10/dist-packages (from spacy) (0.9.0)\n",
            "Requirement already satisfied: smart-open<7.0.0,>=5.2.1 in /usr/local/lib/python3.10/dist-packages (from spacy) (6.4.0)\n",
            "Requirement already satisfied: tqdm<5.0.0,>=4.38.0 in /usr/local/lib/python3.10/dist-packages (from spacy) (4.66.2)\n",
            "Requirement already satisfied: requests<3.0.0,>=2.13.0 in /usr/local/lib/python3.10/dist-packages (from spacy) (2.31.0)\n",
            "Requirement already satisfied: pydantic!=1.8,!=1.8.1,<3.0.0,>=1.7.4 in /usr/local/lib/python3.10/dist-packages (from spacy) (2.6.3)\n",
            "Requirement already satisfied: jinja2 in /usr/local/lib/python3.10/dist-packages (from spacy) (3.1.3)\n",
            "Requirement already satisfied: setuptools in /usr/local/lib/python3.10/dist-packages (from spacy) (67.7.2)\n",
            "Requirement already satisfied: packaging>=20.0 in /usr/local/lib/python3.10/dist-packages (from spacy) (23.2)\n",
            "Requirement already satisfied: langcodes<4.0.0,>=3.2.0 in /usr/local/lib/python3.10/dist-packages (from spacy) (3.3.0)\n",
            "Requirement already satisfied: numpy>=1.19.0 in /usr/local/lib/python3.10/dist-packages (from spacy) (1.25.2)\n",
            "Requirement already satisfied: annotated-types>=0.4.0 in /usr/local/lib/python3.10/dist-packages (from pydantic!=1.8,!=1.8.1,<3.0.0,>=1.7.4->spacy) (0.6.0)\n",
            "Requirement already satisfied: pydantic-core==2.16.3 in /usr/local/lib/python3.10/dist-packages (from pydantic!=1.8,!=1.8.1,<3.0.0,>=1.7.4->spacy) (2.16.3)\n",
            "Requirement already satisfied: typing-extensions>=4.6.1 in /usr/local/lib/python3.10/dist-packages (from pydantic!=1.8,!=1.8.1,<3.0.0,>=1.7.4->spacy) (4.10.0)\n",
            "Requirement already satisfied: charset-normalizer<4,>=2 in /usr/local/lib/python3.10/dist-packages (from requests<3.0.0,>=2.13.0->spacy) (3.3.2)\n",
            "Requirement already satisfied: idna<4,>=2.5 in /usr/local/lib/python3.10/dist-packages (from requests<3.0.0,>=2.13.0->spacy) (3.6)\n",
            "Requirement already satisfied: urllib3<3,>=1.21.1 in /usr/local/lib/python3.10/dist-packages (from requests<3.0.0,>=2.13.0->spacy) (2.0.7)\n",
            "Requirement already satisfied: certifi>=2017.4.17 in /usr/local/lib/python3.10/dist-packages (from requests<3.0.0,>=2.13.0->spacy) (2024.2.2)\n",
            "Requirement already satisfied: blis<0.8.0,>=0.7.8 in /usr/local/lib/python3.10/dist-packages (from thinc<8.3.0,>=8.2.2->spacy) (0.7.11)\n",
            "Requirement already satisfied: confection<1.0.0,>=0.0.1 in /usr/local/lib/python3.10/dist-packages (from thinc<8.3.0,>=8.2.2->spacy) (0.1.4)\n",
            "Requirement already satisfied: click<9.0.0,>=7.1.1 in /usr/local/lib/python3.10/dist-packages (from typer<0.10.0,>=0.3.0->spacy) (8.1.7)\n",
            "Requirement already satisfied: cloudpathlib<0.17.0,>=0.7.0 in /usr/local/lib/python3.10/dist-packages (from weasel<0.4.0,>=0.1.0->spacy) (0.16.0)\n",
            "Requirement already satisfied: MarkupSafe>=2.0 in /usr/local/lib/python3.10/dist-packages (from jinja2->spacy) (2.1.5)\n"
          ]
        }
      ],
      "source": [
        "# Install spacy library\n",
        "!pip install spacy"
      ]
    },
    {
      "cell_type": "code",
      "execution_count": 2,
      "metadata": {
        "colab": {
          "base_uri": "https://localhost:8080/"
        },
        "id": "3LVAwhEdlh0Z",
        "outputId": "cfb89ea5-2604-4c08-e652-bb0b44c2a038"
      },
      "outputs": [
        {
          "name": "stdout",
          "output_type": "stream",
          "text": [
            "\u001b[38;5;2m✔ Download and installation successful\u001b[0m\n",
            "You can now load the package via spacy.load('en_core_web_md')\n",
            "\u001b[38;5;3m⚠ Restart to reload dependencies\u001b[0m\n",
            "If you are in a Jupyter or Colab notebook, you may need to restart Python in\n",
            "order to load all the package's dependencies. You can do this by selecting the\n",
            "'Restart kernel' or 'Restart runtime' option.\n"
          ]
        }
      ],
      "source": [
        "# Download the English model\n",
        "import spacy\n",
        "spacy.cli.download(\"en_core_web_md\")\n",
        "nlp = spacy.load(\"en_core_web_md\")"
      ]
    },
    {
      "cell_type": "markdown",
      "metadata": {
        "id": "PDyxWzuJlh0a"
      },
      "source": [
        "### 2. Show the word vector for “football”, how long is it?\n"
      ]
    },
    {
      "cell_type": "code",
      "execution_count": null,
      "metadata": {
        "colab": {
          "base_uri": "https://localhost:8080/"
        },
        "id": "vvkH2ldslh0a",
        "outputId": "939a7e2a-da14-4c19-fa07-c1fdeb362e27"
      },
      "outputs": [
        {
          "name": "stdout",
          "output_type": "stream",
          "text": [
            "[-1.8633e+00  4.2826e+00 -7.1575e-01  1.2353e+00  5.4601e+00  6.0244e+00\n",
            " -2.2204e+00  1.7759e+00  2.5588e+00 -2.0682e+00  4.4509e+00 -2.2267e+00\n",
            " -1.6666e+00 -1.0174e+00 -5.0303e+00  2.4880e+00  4.0848e-01  1.0369e+00\n",
            "  3.4916e+00  3.7098e+00  2.2451e+00 -1.1685e+00 -3.2297e-01 -1.6925e+00\n",
            "  8.3621e-01 -2.6654e-02 -3.7525e+00 -4.9996e-01  5.6734e+00  4.7680e+00\n",
            " -3.7574e+00 -1.4604e-01  5.3413e-01 -5.5588e+00  1.1134e+00  3.0370e+00\n",
            "  6.7387e-01  4.8416e+00 -6.9886e+00 -2.4840e+00  9.1392e-01  3.8642e+00\n",
            "  4.7409e+00 -9.1215e-01 -4.7876e-01 -4.5356e-01 -2.5983e+00 -2.6529e+00\n",
            " -6.0445e+00  6.5456e-01  4.5724e+00  4.7130e+00 -8.7298e-01 -2.4036e+00\n",
            "  1.3543e+00 -2.4419e-02 -1.6746e+00  5.0430e+00 -7.3322e-01  3.2873e+00\n",
            " -8.2850e-01 -1.7169e+00 -1.2998e+00 -5.5582e-01  2.4973e+00  8.2000e-01\n",
            " -5.0912e+00  2.9508e+00 -2.6805e+00  1.6948e+00  2.6353e-01 -5.5573e-01\n",
            " -2.5534e+00 -7.1705e-01  2.5999e+00 -3.8282e-01 -3.7611e+00  7.0098e+00\n",
            " -2.3766e+00 -6.6381e-01 -2.1161e+00 -1.0708e+00 -4.1450e+00  5.5648e-01\n",
            " -1.0478e+00 -7.4927e-01 -1.5616e+00 -3.6242e+00 -4.6307e+00 -5.5283e+00\n",
            " -2.4878e+00 -6.7964e-01  1.3264e+00  3.1103e+00  1.8727e+00 -6.0100e-01\n",
            " -2.3472e+00 -3.4874e+00  2.7148e+00 -1.2601e+00 -4.3567e-01 -3.4389e+00\n",
            "  2.3622e+00  3.6503e+00 -2.4575e+00 -1.9796e+00  6.0322e-01  2.0797e+00\n",
            " -1.8035e+00 -4.4274e+00  2.3084e+00 -2.7899e+00  6.9950e-01  3.3448e+00\n",
            " -4.5086e+00  7.8834e-01 -2.8143e+00  3.3563e+00 -7.8754e-01 -3.2590e+00\n",
            "  4.5830e+00 -2.2982e+00 -1.2508e+00 -2.1720e+00 -5.1245e-01 -2.0756e+00\n",
            "  8.4506e-01  1.5893e-01 -5.7844e-01 -4.4434e+00  2.7362e+00  6.6524e-02\n",
            " -2.5928e-01  1.2195e+00  2.6774e+00 -1.6431e+00 -4.1398e-01  4.0217e+00\n",
            "  1.5040e+00 -2.1736e-01 -7.7106e-01 -1.2891e+00  6.4500e-01  3.7351e+00\n",
            "  7.3104e-01  2.1679e+00 -5.7116e+00 -1.0801e+00  3.3084e-01 -1.0152e+00\n",
            " -9.8290e-02 -1.9523e+00  1.6585e-01 -1.4865e+00  1.4558e-01 -5.6613e-01\n",
            "  3.4737e+00  2.0509e+00 -2.4830e+00 -3.3711e+00 -3.9966e+00 -5.0795e+00\n",
            "  4.5775e+00  3.5888e+00  2.6349e+00  5.8074e-01 -8.7132e-01 -9.4111e-01\n",
            " -2.1549e+00 -1.4002e+00 -6.7431e-01  4.9029e+00 -2.4237e-01  2.2813e+00\n",
            " -5.2433e-01 -7.8507e-01 -3.8141e+00 -2.5267e+00  2.0642e+00  1.4272e+00\n",
            " -7.3799e+00 -6.4456e+00 -1.9389e+00 -2.1175e+00 -7.7891e-01  2.0756e+00\n",
            "  1.3366e+00 -5.7490e+00 -9.9230e-01 -2.0835e+00  1.2286e+00 -4.0169e+00\n",
            "  4.9700e-01 -1.6381e+00  6.3388e+00  1.0795e+00 -2.6706e+00  1.6885e+00\n",
            " -1.8698e+00  6.0973e-01  5.5608e+00 -8.6522e-01  1.2979e+00 -5.1440e+00\n",
            "  5.1053e+00  8.0371e-01 -1.5503e+00  2.6159e+00  9.8151e-01  4.4608e+00\n",
            "  6.8809e-02 -6.6254e+00  1.4723e+00  4.8388e-01  4.0586e+00  2.6173e+00\n",
            " -4.4582e+00  6.5946e-01  2.1617e-01 -3.0539e-01 -2.0776e+00 -1.1613e-01\n",
            " -1.4650e+00  1.5565e+00  5.0127e-01 -1.6182e+00  3.0863e-01  2.0307e+00\n",
            "  6.2631e+00 -1.5563e+00  4.1003e-01  4.4197e-01 -1.3367e+00  1.0021e+00\n",
            "  5.3483e-01  2.0341e+00 -5.3261e-01 -1.3038e+00 -6.6085e+00 -5.6868e+00\n",
            "  1.5515e+00  6.6542e-01 -1.0951e+00  7.2295e+00 -2.3346e+00 -1.1317e+00\n",
            "  4.5930e-01 -1.5124e+00 -8.5653e-01  1.7597e+00 -6.1261e-02  2.8810e+00\n",
            " -5.3807e+00  2.6587e+00  3.6320e+00 -1.0532e+00  3.4469e+00  2.5928e+00\n",
            "  5.2191e+00  1.0547e+00 -2.8317e+00  1.9085e-01  1.1596e+00 -4.9701e+00\n",
            "  2.2907e+00  6.7052e-01 -7.4891e-04  5.0214e+00 -2.2812e+00 -5.3435e-01\n",
            " -1.2789e+00 -6.1212e-01 -3.6433e-01 -4.7859e-01 -1.8287e+00  2.4672e+00\n",
            " -3.8769e-01 -1.3924e+00 -2.1289e+00  4.7772e-01  2.5839e-01  3.7376e-01\n",
            "  9.6236e-02 -1.8036e+00  2.5516e+00 -1.7054e+00  3.0032e+00 -2.0782e+00\n",
            " -1.7003e+00 -3.6575e+00  2.4663e+00 -2.7056e+00 -2.0104e+00  2.9346e+00\n",
            " -2.3386e-01 -1.1868e+00  2.6620e+00 -1.1154e+00 -7.8072e-02  8.8475e-02]\n",
            "\n",
            "Length of the vector: 300\n"
          ]
        }
      ],
      "source": [
        "#Get the representation of the word \"football\"\n",
        "football = nlp(\"football\")\n",
        "print(football.vector)\n",
        "print(\"\\nLength of the vector:\", len(football.vector))"
      ]
    },
    {
      "cell_type": "markdown",
      "metadata": {
        "id": "sdqs1Ztdlh0a"
      },
      "source": [
        "### 3. Show the word vector for “frankfurteria”, how long is it?\n",
        "\n",
        "Only words in model’s vocabulary have vectors, the rest are called out-ofvocabulary (OOV)"
      ]
    },
    {
      "cell_type": "code",
      "execution_count": null,
      "metadata": {
        "colab": {
          "base_uri": "https://localhost:8080/"
        },
        "id": "1AYRjdn5lh0a",
        "outputId": "5fd9cf13-1ad9-4e8a-c021-cfd4c9f151ad"
      },
      "outputs": [
        {
          "name": "stdout",
          "output_type": "stream",
          "text": [
            "[0. 0. 0. 0. 0. 0. 0. 0. 0. 0. 0. 0. 0. 0. 0. 0. 0. 0. 0. 0. 0. 0. 0. 0.\n",
            " 0. 0. 0. 0. 0. 0. 0. 0. 0. 0. 0. 0. 0. 0. 0. 0. 0. 0. 0. 0. 0. 0. 0. 0.\n",
            " 0. 0. 0. 0. 0. 0. 0. 0. 0. 0. 0. 0. 0. 0. 0. 0. 0. 0. 0. 0. 0. 0. 0. 0.\n",
            " 0. 0. 0. 0. 0. 0. 0. 0. 0. 0. 0. 0. 0. 0. 0. 0. 0. 0. 0. 0. 0. 0. 0. 0.\n",
            " 0. 0. 0. 0. 0. 0. 0. 0. 0. 0. 0. 0. 0. 0. 0. 0. 0. 0. 0. 0. 0. 0. 0. 0.\n",
            " 0. 0. 0. 0. 0. 0. 0. 0. 0. 0. 0. 0. 0. 0. 0. 0. 0. 0. 0. 0. 0. 0. 0. 0.\n",
            " 0. 0. 0. 0. 0. 0. 0. 0. 0. 0. 0. 0. 0. 0. 0. 0. 0. 0. 0. 0. 0. 0. 0. 0.\n",
            " 0. 0. 0. 0. 0. 0. 0. 0. 0. 0. 0. 0. 0. 0. 0. 0. 0. 0. 0. 0. 0. 0. 0. 0.\n",
            " 0. 0. 0. 0. 0. 0. 0. 0. 0. 0. 0. 0. 0. 0. 0. 0. 0. 0. 0. 0. 0. 0. 0. 0.\n",
            " 0. 0. 0. 0. 0. 0. 0. 0. 0. 0. 0. 0. 0. 0. 0. 0. 0. 0. 0. 0. 0. 0. 0. 0.\n",
            " 0. 0. 0. 0. 0. 0. 0. 0. 0. 0. 0. 0. 0. 0. 0. 0. 0. 0. 0. 0. 0. 0. 0. 0.\n",
            " 0. 0. 0. 0. 0. 0. 0. 0. 0. 0. 0. 0. 0. 0. 0. 0. 0. 0. 0. 0. 0. 0. 0. 0.\n",
            " 0. 0. 0. 0. 0. 0. 0. 0. 0. 0. 0. 0.]\n",
            "\n",
            "Lenght of the vector: 300\n"
          ]
        }
      ],
      "source": [
        "#Get the representation of the word \"frankfurteria\" and show the length of the vector\n",
        "\n",
        "vec_frankfurteria = nlp(\"frankfurteria\").vector\n",
        "\n",
        "print(vec_frankfurteria)\n",
        "print(\"\\nLenght of the vector:\", len(vec_frankfurteria))"
      ]
    },
    {
      "cell_type": "markdown",
      "metadata": {
        "id": "VIOhtMorlh0a"
      },
      "source": [
        "As you can see frankfurteria is an Out Of Vocabulary word since there is no representation for this word"
      ]
    },
    {
      "cell_type": "markdown",
      "metadata": {
        "id": "gVK0Tjoflh0a"
      },
      "source": [
        "###  4. Check whether the word “flowers” is in the model vocabulary\n"
      ]
    },
    {
      "cell_type": "code",
      "execution_count": 14,
      "metadata": {
        "colab": {
          "base_uri": "https://localhost:8080/"
        },
        "id": "0WOzpUMUlh0b",
        "outputId": "367cbafe-24e3-4a8f-bfdb-e497128b81ea"
      },
      "outputs": [
        {
          "name": "stdout",
          "output_type": "stream",
          "text": [
            "The word 'flowers' is in the vocabulary\n"
          ]
        }
      ],
      "source": [
        "# Check whether the word \"flowers\" is in the vocabulary\n",
        "\n",
        "if \"flowers\" in nlp.vocab.strings:\n",
        "  print(\"The word 'flowers' is in the vocabulary\")\n",
        "\n",
        "else:\n",
        "  print(\"The word 'flowers' is not in the vocabulary\")\n",
        "\n",
        "#Get the representation of the word \"flowers\"\n",
        "#print(nlp(\"flowers\").vector)"
      ]
    },
    {
      "cell_type": "markdown",
      "metadata": {
        "id": "AxiNEzjflh0b"
      },
      "source": [
        "### 5. Create a sentence including the word ”football”, and show the sentence vector\n"
      ]
    },
    {
      "cell_type": "code",
      "execution_count": 15,
      "metadata": {
        "colab": {
          "base_uri": "https://localhost:8080/"
        },
        "id": "bbtocxGqlh0b",
        "outputId": "7f94044e-e203-4f8d-a4b5-e8ed918eea3e"
      },
      "outputs": [
        {
          "name": "stdout",
          "output_type": "stream",
          "text": [
            "[-0.627118    2.986326   -2.07868    -0.14277804  4.8246202   1.05336\n",
            " -0.15930007  3.9424198   0.403222   -0.3256761   9.86448    -0.70506996\n",
            " -2.4647799  -0.44493204 -0.20754394  6.27648     2.308614    3.328638\n",
            "  0.59304     2.1084442   1.256616   -0.72904    -2.327992    0.178924\n",
            " -1.0249599  -0.66361797 -2.63138    -2.005578    0.20743999  0.47810602\n",
            " -1.1414001   1.29128    -1.4760002  -1.98671    -1.3974241   4.8594823\n",
            "  0.45134997  1.2118399   0.3723401  -2.70145    -1.396516    3.7277198\n",
            "  1.584082   -0.70214    -2.290242    2.4136198   3.0021443  -3.6821818\n",
            " -1.8240879   1.7877319   0.40824395  0.78881204  2.729428   -3.82346\n",
            "  1.392914   -0.87467605  1.476174    0.97332    -1.88416     0.9316801\n",
            "  3.427246   -1.7070881  -0.12384    -1.1805999  -1.094578    1.3526939\n",
            " -3.6883998  -5.3641996   2.520658    2.770638   -0.92465436  4.64414\n",
            " -6.0251203  -0.78196996 -0.02647798  2.150298   -3.47756     5.74812\n",
            " -3.7472908  -0.9868     -6.06982    -2.5494962   0.21887001 -1.606024\n",
            "  0.09537601  0.10936995 -1.35554    -1.856052    3.1740258  -3.63516\n",
            " -1.2384101  -4.0465994   0.9511801  -5.2440796  -0.21130796 -2.2423282\n",
            " -0.58253795 -2.08176    -0.7782961  -3.5316799  -0.37661004 -1.49911\n",
            "  4.97082     7.50308    -0.501456    5.042698   -0.487436    1.064604\n",
            " -2.8829038  -0.02435017  1.333696    1.95528    -1.8359798   4.6090336\n",
            " -1.6803579  -1.11584    -4.2943      1.4404058   0.84293395  0.624066\n",
            " -0.8875119  -1.51248     0.58207595  4.60458    -2.6727598  -6.0074058\n",
            " -2.5442843  -2.0393841   3.8935401  -2.907984   -0.56534004  0.96456206\n",
            "  5.776046   -4.5929017   0.57300603  0.603416    2.7515204   0.54664004\n",
            "  3.19568    -1.3365599  -1.7057041   0.6609      2.0985122   4.36123\n",
            "  1.0888741   1.4195801  -4.89142    -0.72602    -2.64266     4.32586\n",
            "  1.99389     3.9040642   1.6005218   0.80215997  1.0013059   2.0601602\n",
            "  5.88048     3.4479358  -0.43570805 -1.031858   -2.818596   -3.140109\n",
            "  4.61806     2.6725101  -2.8597481  -0.61515397 -4.1261597   3.3186398\n",
            "  1.2567542  -1.556488    3.2387722  -0.692234    2.4457078   2.8847802\n",
            "  1.1569719  -3.2917418  -0.56431997 -0.5537301  -0.72012985  0.5759999\n",
            " -4.68994     1.826128    1.5734202  -2.8859901  -3.8698602   2.01642\n",
            " -2.391294   -3.05142    -1.3773199   2.9765003  -0.81237495 -1.0853939\n",
            "  1.2020199  -1.3867891   4.42344     1.059088   -3.9158401  -1.58854\n",
            "  1.435322   -2.978182    2.7884157  -1.9950581  -4.29512    -5.2193403\n",
            "  1.4757999   1.27803    -6.1017036   3.0258203  -1.2859439  -0.7087079\n",
            "  3.24569     1.36606    -0.19619426  1.6496599   2.8845878   0.73848194\n",
            " -0.26540393 -2.6038601  -1.40518    -1.033388   -2.5906417  -0.9872619\n",
            "  1.3006761  -0.1317801   0.5217567  -1.0148201   0.67756003  0.6267164\n",
            "  5.2791996  -1.3987      2.1974041  -4.8515577   0.66746     3.8388658\n",
            " -3.4356117   0.6612264  -1.0781701  -1.3144562  -1.44842     0.424688\n",
            "  2.2672698   0.66201     2.6247258   4.986824   -2.2836719  -1.05702\n",
            " -2.55458    -0.22526005  0.298076    2.571603   -0.23386002  0.19392398\n",
            " -5.6097198  -2.382216    0.426266   -1.5433459   2.6174421   4.07518\n",
            "  2.5856402  -0.52467805 -2.3582082   2.96131     2.82714     4.34508\n",
            " -1.2271559   1.326474   -1.5523001   2.427384   -4.3993597  -0.17722006\n",
            "  4.5706196  -2.275542   -0.16641195 -2.862716    0.5027799   0.79944\n",
            "  2.15102     2.29552    -1.3937778  -1.09368     1.508816   -3.375092\n",
            " -2.427752   -0.992659    7.05754    -0.07641196  3.51912    -0.13668403\n",
            " -2.56306     1.9427601   0.76902    -0.74228007  1.602906    1.3250601\n",
            " -1.117224    1.9765482   0.63135993 -0.727106   -2.9633138   3.307632  ]\n"
          ]
        }
      ],
      "source": [
        "sentence = \"Football is a great sport\"\n",
        "sent_vec = nlp(sentence).vector\n",
        "print(sent_vec)"
      ]
    },
    {
      "cell_type": "markdown",
      "metadata": {
        "id": "PS5FYg2alh0b"
      },
      "source": [
        "### 6. How long is the sentence vector? How is it calculated?\n"
      ]
    },
    {
      "cell_type": "code",
      "execution_count": 16,
      "metadata": {
        "colab": {
          "base_uri": "https://localhost:8080/"
        },
        "id": "L_zQhe0clh0b",
        "outputId": "6fcdfcf8-25c6-4aea-a9a5-2e126d39e1fa"
      },
      "outputs": [
        {
          "name": "stdout",
          "output_type": "stream",
          "text": [
            "\n",
            "Lenght of the vector: 300\n"
          ]
        }
      ],
      "source": [
        "print(\"\\nLenght of the vector:\", len(sent_vec))"
      ]
    },
    {
      "cell_type": "markdown",
      "metadata": {
        "id": "OGoUvWgolh0b"
      },
      "source": [
        "Even if the sentence have many words, the length is 300 because they do the average of the vectors of all the words\n"
      ]
    },
    {
      "cell_type": "markdown",
      "metadata": {
        "id": "_eCIQta5lh0b"
      },
      "source": [
        "## Exercise 3 – Similarity"
      ]
    },
    {
      "cell_type": "markdown",
      "metadata": {
        "id": "8NQdGFwmlh0b"
      },
      "source": [
        "### 1. Define the two utterances “I visited Scotland” and “I went to Edinburgh”\n"
      ]
    },
    {
      "cell_type": "code",
      "execution_count": 17,
      "metadata": {
        "id": "YIurynmrlh0b"
      },
      "outputs": [],
      "source": [
        "utt1 = \"I visited Scotland\"\n",
        "utt2 = \"I went to Edinburgh\"\n",
        "utt1_vec = nlp(utt1).vector\n",
        "utt2_vec = nlp(utt2).vector"
      ]
    },
    {
      "cell_type": "markdown",
      "metadata": {
        "id": "f8fmlZcQlh0b"
      },
      "source": [
        "### 2. Calculate the similarity between these two sentences\n"
      ]
    },
    {
      "cell_type": "code",
      "execution_count": 21,
      "metadata": {
        "colab": {
          "base_uri": "https://localhost:8080/"
        },
        "id": "lIjKpN5elh0c",
        "outputId": "5339a678-dc34-4314-e0b4-4edd9056ac2f"
      },
      "outputs": [
        {
          "name": "stdout",
          "output_type": "stream",
          "text": [
            "The similarity is: 0.753202935804182\n"
          ]
        }
      ],
      "source": [
        "utt1 = nlp(\"I visited Scotland\")\n",
        "utt2 = nlp(\"I went to Edinburgh\")\n",
        "\n",
        "print(\"The similarity is:\", utt1.similarity(utt2))"
      ]
    },
    {
      "cell_type": "markdown",
      "metadata": {
        "id": "SKv4phDbm-_k"
      },
      "source": [
        "Another way to compute the similarity"
      ]
    },
    {
      "cell_type": "code",
      "execution_count": 19,
      "metadata": {
        "colab": {
          "base_uri": "https://localhost:8080/"
        },
        "id": "l1dYvhDZlh0c",
        "outputId": "e274260a-acfa-4d51-9232-6d48c06f7921"
      },
      "outputs": [
        {
          "name": "stdout",
          "output_type": "stream",
          "text": [
            "The cosine similarity is: 0.753203\n"
          ]
        }
      ],
      "source": [
        "import numpy as np\n",
        "from numpy.linalg import norm\n",
        "\n",
        "\n",
        "# compute cosine similarity\n",
        "cosine = np.dot(utt1_vec,utt2_vec)/(norm(utt1_vec)*norm(utt2_vec))\n",
        "print(\"The cosine similarity is:\",cosine)\n",
        "\n"
      ]
    },
    {
      "cell_type": "markdown",
      "metadata": {
        "id": "eaL7J9iYlh0c"
      },
      "source": [
        "Define two similar sentences and calculate their similarity,\n",
        "then define two very different sentences and calculate their similarity"
      ]
    },
    {
      "cell_type": "code",
      "execution_count": 36,
      "metadata": {
        "colab": {
          "base_uri": "https://localhost:8080/"
        },
        "id": "SjTy0ZAClh0c",
        "outputId": "d3463810-c814-493c-8bfc-c9285a697870"
      },
      "outputs": [
        {
          "name": "stdout",
          "output_type": "stream",
          "text": [
            "The cosine similarity for sentences: 'I do not like football' and 'I hate soccer' is:\n",
            "0.8398776054382324\n"
          ]
        }
      ],
      "source": [
        "# Compute similarities of 2 similar sentences\n",
        "sent_1 = \"I do not like football\"\n",
        "sent_2 = \"I hate soccer\"\n",
        "sent_1_vec = nlp(sent_1).vector\n",
        "sent_2_vec = nlp(sent_2).vector\n",
        "\n",
        "cosine = np.dot(sent_1_vec,sent_2_vec)/(norm(sent_1_vec)*norm(sent_2_vec))\n",
        "print(f\"The cosine similarity for sentences: 'I do not like football' and 'I hate soccer' is:\\n{cosine}\")\n",
        "\n"
      ]
    },
    {
      "cell_type": "markdown",
      "metadata": {
        "id": "kvzdXf0upNP1"
      },
      "source": [
        "Even if the sentences seem to be the same maybe the reason why they don't have 100% similiarity is because footbal, in some places, can be interpreted as american footbal, which is different from soccer."
      ]
    },
    {
      "cell_type": "code",
      "execution_count": 42,
      "metadata": {
        "colab": {
          "base_uri": "https://localhost:8080/"
        },
        "id": "cJwbqV0Flh0c",
        "outputId": "2106f5de-5b56-4419-f1fa-1aaf20426d23"
      },
      "outputs": [
        {
          "name": "stdout",
          "output_type": "stream",
          "text": [
            "The cosine similarity for sentences: 'I really hate football' and 'My sister loves watching tennis matches' is:\n",
            "0.3829220235347748\n"
          ]
        }
      ],
      "source": [
        "# Compute similarities of 2 dissimilar sentences\n",
        "sent_1 = \"I really hate football\"\n",
        "sent_2 = \"My sister loves watching tennis matches\"\n",
        "sent_1_vec = nlp(sent_1).vector\n",
        "sent_2_vec = nlp(sent_2).vector\n",
        "\n",
        "cosine = np.dot(sent_1_vec,sent_2_vec)/(norm(sent_1_vec)*norm(sent_2_vec))\n",
        "print(f\"The cosine similarity for sentences: '{sent_1}' and '{sent_2}' is:\\n{cosine}\")\n",
        "\n"
      ]
    },
    {
      "cell_type": "markdown",
      "metadata": {
        "id": "ZkmkXvmVlh0c"
      },
      "source": [
        "### 3. Consider the following words [cat, dog, tiger, elephant, bird, monkey, lion, cheetah, burger, pizza, food, cheese, wine, salad, noodles, fruit, vegetables]"
      ]
    },
    {
      "cell_type": "code",
      "execution_count": 45,
      "metadata": {
        "id": "2e6RGiOYlh0c"
      },
      "outputs": [],
      "source": [
        "word_list = [\"cat\", \"dog\", \"tiger\", \"elephant\", \"bird\", \"monkey\", \"lion\",\"cheetah\", \"burger\", \"pizza\", \"food\", \"cheese\", \"wine\", \"salad\", \"noodles\", \"fruit\", \"vegetables\"]"
      ]
    },
    {
      "cell_type": "markdown",
      "metadata": {
        "id": "s8s_3Ji7lh0c"
      },
      "source": [
        "### 4. Calculate the word vector for every word\n",
        "\n",
        "\n"
      ]
    },
    {
      "cell_type": "code",
      "execution_count": 46,
      "metadata": {
        "id": "2Z_MdoyElh0c"
      },
      "outputs": [],
      "source": [
        "embed_list = []\n",
        "for word in word_list:\n",
        "    embed_list.append(nlp(word).vector)"
      ]
    },
    {
      "cell_type": "markdown",
      "metadata": {
        "id": "qeqdMUOklh0d"
      },
      "source": [
        "### 5. Apply a PCA, consider the first two components, and represent the words in the feature space"
      ]
    },
    {
      "cell_type": "code",
      "execution_count": 55,
      "metadata": {
        "colab": {
          "base_uri": "https://localhost:8080/",
          "height": 519
        },
        "id": "1FTirIwVlh0d",
        "outputId": "65849049-ad44-48c8-a8ce-9ede41e0b8c2"
      },
      "outputs": [
        {
          "data": {
            "image/png": "[encoded data removed]",
            "text/plain": [
              "<Figure size 640x480 with 1 Axes>"
            ]
          },
          "metadata": {},
          "output_type": "display_data"
        },
        {
          "name": "stdout",
          "output_type": "stream",
          "text": [
            "The amount of variance explained by each of the selected components is:\n",
            " component 1: 0.2425980346558042\n",
            " component 2: 0.12469128690190445\n",
            "\n",
            "Total variance explained: 0.36728932155770866\n"
          ]
        }
      ],
      "source": [
        "import numpy as np\n",
        "from sklearn.decomposition import PCA\n",
        "import matplotlib.pyplot as plt\n",
        "\n",
        "pca = PCA(n_components=2)\n",
        "embed_pca = pca.fit_transform(embed_list)\n",
        "\n",
        "x = [vector[0] for vector in embed_pca] # x-axis\n",
        "y = [vector[1] for vector in embed_pca] # y-axis\n",
        "\n",
        "plt.scatter(x,y, marker='o') #\n",
        "for i, word in enumerate(word_list):\n",
        "    plt.annotate(word, (x[i], y[i]))\n",
        "\n",
        "plt.show()\n",
        "\n",
        "#Print the amount of variance explained by each of the selected components\n",
        "var_explained = pca.explained_variance_ratio_\n",
        "print(f\"The amount of variance explained by each of the selected components is:\\n component 1: {var_explained[0]}\\n component 2: {var_explained[1]}\\n\")\n",
        "print(f\"Total variance explained: {sum(var_explained)}\")\n"
      ]
    },
    {
      "cell_type": "markdown",
      "metadata": {
        "id": "PMIuqJhqlh0d"
      },
      "source": [
        "Now let's do it in 3D (first 3 components)"
      ]
    },
    {
      "cell_type": "code",
      "execution_count": 56,
      "metadata": {
        "colab": {
          "base_uri": "https://localhost:8080/",
          "height": 495
        },
        "id": "L4SfF5iqlh0d",
        "outputId": "c1631c8a-df76-48b1-faa6-ad6779cd35b6"
      },
      "outputs": [
        {
          "data": {
            "image/png": "[encoded data removed]",
            "text/plain": [
              "<Figure size 640x480 with 1 Axes>"
            ]
          },
          "metadata": {},
          "output_type": "display_data"
        },
        {
          "name": "stdout",
          "output_type": "stream",
          "text": [
            "The amount of variance explained by each of the selected components is:\n",
            " component 1: 0.2425980346558042\n",
            " component 2: 0.12469128690190445\n",
            " component 3: 0.0917195774550193\n",
            "Total variance explained: 0.45900889901272796\n"
          ]
        }
      ],
      "source": [
        "import matplotlib.pyplot as plt\n",
        "from mpl_toolkits.mplot3d import Axes3D\n",
        "\n",
        "# 3D PCA\n",
        "\n",
        "pca = PCA(n_components=3)\n",
        "embed_pca = pca.fit_transform(embed_list)\n",
        "\n",
        "x = [vector[0] for vector in embed_pca] # x-axis\n",
        "y = [vector[1] for vector in embed_pca] # y-axis\n",
        "z = [vector[2] for vector in embed_pca] # z-axis\n",
        "\n",
        "fig = plt.figure()\n",
        "ax = fig.add_subplot(111, projection='3d')\n",
        "ax.scatter(x, y, z, marker='o')\n",
        "\n",
        "for i, word in enumerate(word_list):\n",
        "    ax.text(x[i], y[i], z[i], word)\n",
        "\n",
        "plt.show()\n",
        "\n",
        "#Print the amount of variance explained by each of the selected components\n",
        "var_explained = pca.explained_variance_ratio_\n",
        "print(f\"The amount of variance explained by each of the selected components is:\\n component 1: {var_explained[0]}\\n component 2: {var_explained[1]}\\n component 3: {var_explained[2]}\")\n",
        "print(f\"Total variance explained: {sum(var_explained)}\")\n"
      ]
    },
    {
      "cell_type": "markdown",
      "metadata": {
        "id": "bV780qz0lh0d"
      },
      "source": [
        "Define a new set of words (at least 20 different words), and\n",
        "represent them in the feature space"
      ]
    },
    {
      "cell_type": "code",
      "execution_count": 58,
      "metadata": {
        "colab": {
          "base_uri": "https://localhost:8080/",
          "height": 519
        },
        "id": "3nlwrAUMlh00",
        "outputId": "f4157f92-636e-45c7-8320-2059ebe3c866"
      },
      "outputs": [
        {
          "data": {
            "image/png": "[encoded data removed]",
            "text/plain": [
              "<Figure size 640x480 with 1 Axes>"
            ]
          },
          "metadata": {},
          "output_type": "display_data"
        },
        {
          "name": "stdout",
          "output_type": "stream",
          "text": [
            "The amount of variance explained by each of the selected components is:\n",
            " component 1: 0.2425980346558042\n",
            " component 2: 0.12469128690190445\n",
            "\n",
            "Total variance explained: 0.36728932155770866\n"
          ]
        }
      ],
      "source": [
        "common_words = ['Apple', 'Banana', 'Grapes', 'Pear', 'Orange', 'Melon', 'Tomato', 'pineaple',\n",
        "                'raspberry', 'watermelon', 'Information', 'Data', 'Bit', 'Computer', 'Mouse',\n",
        "                'Tower', 'Screen', 'Music', 'Network', 'Phone']\n",
        "embed_list1 =[]\n",
        "for word1 in common_words:\n",
        "    embed_list1.append(nlp(word1).vector)\n",
        "pca = PCA(n_components=2)\n",
        "embed_pca1 = pca.fit_transform(embed_list1)\n",
        "\n",
        "x = [vector1[0] for vector1 in embed_pca1] # x-axis\n",
        "y = [vector1[1] for vector1 in embed_pca1] # y-axis\n",
        "\n",
        "plt.scatter(x,y, marker='o') #\n",
        "for i, word1 in enumerate(common_words):\n",
        "    plt.annotate(word1, (x[i], y[i]))\n",
        "\n",
        "\n",
        "\n",
        "plt.show()\n",
        "\n",
        "#Print the amount of variance explained by each of the selected components\n",
        "var_explained = pca.explained_variance_ratio_\n",
        "print(f\"The amount of variance explained by each of the selected components is:\\n component 1: {var_explained[0]}\\n component 2: {var_explained[1]}\\n\")\n",
        "print(f\"Total variance explained: {sum(var_explained)}\")\n"
      ]
    },
    {
      "cell_type": "code",
      "execution_count": 59,
      "metadata": {
        "colab": {
          "base_uri": "https://localhost:8080/",
          "height": 495
        },
        "id": "ncgCWVAGlh01",
        "outputId": "c0b20872-bd26-47f3-9076-dd91b77f5d3c"
      },
      "outputs": [
        {
          "data": {
            "image/png": "[encoded data removed]",
            "text/plain": [
              "<Figure size 640x480 with 1 Axes>"
            ]
          },
          "metadata": {},
          "output_type": "display_data"
        },
        {
          "name": "stdout",
          "output_type": "stream",
          "text": [
            "The amount of variance explained by each of the selected components is:\n",
            " component 1: 0.2425980346558042\n",
            " component 2: 0.12469128690190445\n",
            " component 3: 0.0917195774550193\n",
            "Total variance explained: 0.45900889901272796\n"
          ]
        }
      ],
      "source": [
        "import matplotlib.pyplot as plt\n",
        "from mpl_toolkits.mplot3d import Axes3D\n",
        "common_words = ['Apple', 'Banana', 'Grapes', 'Pear', 'Orange', 'Melon', 'Tomato', 'pineaple',\n",
        "                'raspberry', 'watermelon', 'Information', 'Data', 'Bit', 'Computer', 'Mouse',\n",
        "                'Tower', 'Screen', 'Music', 'Network', 'Phone']\n",
        "# 3D PCA\n",
        "embed_list =[]\n",
        "for word in common_words:\n",
        "    embed_list.append(nlp(word).vector)\n",
        "\n",
        "pca = PCA(n_components=3)\n",
        "embed_pca = pca.fit_transform(embed_list)\n",
        "\n",
        "x = [vector[0] for vector in embed_pca] # x-axis\n",
        "y = [vector[1] for vector in embed_pca] # y-axis\n",
        "z = [vector[2] for vector in embed_pca] # z-axis\n",
        "\n",
        "fig = plt.figure()\n",
        "ax = fig.add_subplot(111, projection='3d')\n",
        "ax.scatter(x, y, z, marker='o')\n",
        "\n",
        "for i, word in enumerate(common_words):\n",
        "    ax.text(x[i], y[i], z[i], word)\n",
        "\n",
        "plt.show()\n",
        "\n",
        "#Print the amount of variance explained by each of the selected components\n",
        "var_explained = pca.explained_variance_ratio_\n",
        "print(f\"The amount of variance explained by each of the selected components is:\\n component 1: {var_explained[0]}\\n component 2: {var_explained[1]}\\n component 3: {var_explained[2]}\")\n",
        "print(f\"Total variance explained: {sum(var_explained)}\")\n"
      ]
    },
    {
      "cell_type": "markdown",
      "metadata": {
        "id": "a876rsUmlh01"
      },
      "source": [
        "## Exercise IV – Categorizing text with semantic similarity"
      ]
    },
    {
      "cell_type": "markdown",
      "metadata": {
        "id": "1x05Db7Ilh01"
      },
      "source": [
        "### 1. Define a set of sentences, e.g., “I purchased a science fiction book last week. I loved this fragrance: light, floral and feminine. I purchased a bottle of wine.”"
      ]
    },
    {
      "cell_type": "code",
      "execution_count": 60,
      "metadata": {
        "id": "u13IuVsylh01"
      },
      "outputs": [],
      "source": [
        "sentences = [\n",
        "    \"Wandering through the cobbled lanes of the city, I was captivated by the delicate aroma emanating from a quaint fragrance boutique.\",\n",
        "    \"Her dresser was adorned with an array of scent bottles, among which a handcrafted essence from a remote village in France was her most cherished possession.\",\n",
        "    \"The art of scent crafting intrigued me, merging hints of amber, bergamot, and jasmine to create an aroma that felt intimately mine.\",\n",
        "    \"At the dawn of spring, the garden was alive with the sweet fragrances of cherry blossoms and lilacs, enveloping the air with nature's own bouquet.\",\n",
        "    \"To discover an essence that resonates with your soul is to capture the essence of cherished memories, each note a narrative of journeys, feelings, and aspirations.\"\n",
        "]\n",
        "nlp_sentences = [nlp(sent) for sent in sentences]"
      ]
    },
    {
      "cell_type": "markdown",
      "metadata": {
        "id": "9R2zkQITlh01"
      },
      "source": [
        "### 2. Define a keyword, e.g., perfume\n"
      ]
    },
    {
      "cell_type": "code",
      "execution_count": 62,
      "metadata": {
        "id": "YJrEEPmDlh01"
      },
      "outputs": [],
      "source": [
        "keyword = nlp(\"perfume\")"
      ]
    },
    {
      "cell_type": "markdown",
      "metadata": {
        "id": "vxW07B_elh01"
      },
      "source": [
        "### 3. Calculate the similarity between each sentence and the keyword\n"
      ]
    },
    {
      "cell_type": "code",
      "execution_count": 65,
      "metadata": {
        "colab": {
          "base_uri": "https://localhost:8080/"
        },
        "id": "pxKYCi8ilh01",
        "outputId": "45814a5f-bf9d-4e9e-ae4a-cfcd7261514e"
      },
      "outputs": [
        {
          "name": "stdout",
          "output_type": "stream",
          "text": [
            "Similarity between sentence 0 and keyword 'perfume' is:  0.27588858186880755\n",
            "Similarity between sentence 1 and keyword 'perfume' is:  0.3206185928752231\n",
            "Similarity between sentence 2 and keyword 'perfume' is:  0.3838927707246777\n",
            "Similarity between sentence 3 and keyword 'perfume' is:  0.2967343554444717\n",
            "Similarity between sentence 4 and keyword 'perfume' is:  0.26265956880400226\n"
          ]
        }
      ],
      "source": [
        "# Similarity between each sentence and the keyword\n",
        "\n",
        "for i, sent in enumerate(nlp_sentences):\n",
        "    print(f\"Similarity between sentence {i+1} and keyword '{keyword}' is: \", sent.similarity(keyword))\n"
      ]
    },
    {
      "cell_type": "markdown",
      "metadata": {
        "id": "rBoaAxMWlh02"
      },
      "source": [
        "### 4. Could we filter out the sentences which are not related with the keyword?\n"
      ]
    },
    {
      "cell_type": "markdown",
      "metadata": {
        "id": "1WaTBJl8uAqa"
      },
      "source": [
        "To filter out sentences that are not sufficiently related to the keyword \"perfume\" based on their similarity scores, it is possible to set a threshold value."
      ]
    },
    {
      "cell_type": "code",
      "execution_count": 73,
      "metadata": {
        "colab": {
          "base_uri": "https://localhost:8080/"
        },
        "id": "0SYEu1PLlh02",
        "outputId": "b23724a1-12b2-473b-d59f-5cea499b3c7b"
      },
      "outputs": [
        {
          "name": "stdout",
          "output_type": "stream",
          "text": [
            "Similarity between sentence 1 and keyword 'perfume' is:  0.276\n",
            "Similarity between sentence 2 and keyword 'perfume' is:  0.321\n",
            "Similarity between sentence 3 and keyword 'perfume' is:  0.384\n",
            "Similarity between sentence 4 and keyword 'perfume' is:  0.297\n",
            "Similarity between sentence 5 and keyword 'perfume' is:  0.263\n",
            "Sentence 2, with a similarity score of 0.32, is considered related\n",
            "Sentence 3, with a similarity score of 0.38, is considered related\n"
          ]
        }
      ],
      "source": [
        "threshold = 0.3  # Define a threshold for filtering\n",
        "related_sentences = []\n",
        "\n",
        "# Filter the sentences according to the given threshold value\n",
        "for i, sent in enumerate(nlp_sentences):\n",
        "    similarity_score = sent.similarity(keyword)\n",
        "    print(f\"Similarity between sentence {i+1} and keyword 'perfume' is: \", round(similarity_score, 3))\n",
        "    if similarity_score >= threshold:\n",
        "        related_sentences.append((i+1, similarity_score))\n",
        "\n",
        "# Printing sentences that are considered related based on the threshold\n",
        "for i, score in related_sentences:\n",
        "    print(f\"Sentence {i}, with a similarity score of {round(score, 2)}, is considered related\")"
      ]
    },
    {
      "cell_type": "markdown",
      "metadata": {
        "id": "JOxHK7m9lh02"
      },
      "source": [
        "Load the Alexa’s review dataset, and filter out the reviews\n",
        "which are not associated with the “music” property"
      ]
    },
    {
      "cell_type": "code",
      "execution_count": 93,
      "metadata": {
        "colab": {
          "base_uri": "https://localhost:8080/",
          "height": 363
        },
        "id": "kTQsGLlflh02",
        "outputId": "b3635251-0afd-4c8d-91d7-686aabadccc8"
      },
      "outputs": [
        {
          "data": {
            "application/vnd.google.colaboratory.intrinsic+json": {
              "repr_error": "'str' object has no attribute 'empty'",
              "type": "dataframe",
              "variable_name": "data"
            },
            "text/html": [
              "\n",
              "  <div id=\"df-7a4594c4-00ae-4765-8ad0-02beae439dc8\" class=\"colab-df-container\">\n",
              "    <div>\n",
              "<style scoped>\n",
              "    .dataframe tbody tr th:only-of-type {\n",
              "        vertical-align: middle;\n",
              "    }\n",
              "\n",
              "    .dataframe tbody tr th {\n",
              "        vertical-align: top;\n",
              "    }\n",
              "\n",
              "    .dataframe thead th {\n",
              "        text-align: right;\n",
              "    }\n",
              "</style>\n",
              "<table border=\"1\" class=\"dataframe\">\n",
              "  <thead>\n",
              "    <tr style=\"text-align: right;\">\n",
              "      <th></th>\n",
              "      <th>rating</th>\n",
              "      <th>date</th>\n",
              "      <th>variation</th>\n",
              "      <th>verified_reviews</th>\n",
              "      <th>feedback</th>\n",
              "    </tr>\n",
              "  </thead>\n",
              "  <tbody>\n",
              "    <tr>\n",
              "      <th>0</th>\n",
              "      <td>5</td>\n",
              "      <td>31-Jul-18</td>\n",
              "      <td>Charcoal Fabric</td>\n",
              "      <td>Love my Echo!</td>\n",
              "      <td>1</td>\n",
              "    </tr>\n",
              "    <tr>\n",
              "      <th>1</th>\n",
              "      <td>5</td>\n",
              "      <td>31-Jul-18</td>\n",
              "      <td>Charcoal Fabric</td>\n",
              "      <td>Loved it!</td>\n",
              "      <td>1</td>\n",
              "    </tr>\n",
              "    <tr>\n",
              "      <th>2</th>\n",
              "      <td>4</td>\n",
              "      <td>31-Jul-18</td>\n",
              "      <td>Walnut Finish</td>\n",
              "      <td>Sometimes while playing a game, you can answer...</td>\n",
              "      <td>1</td>\n",
              "    </tr>\n",
              "    <tr>\n",
              "      <th>3</th>\n",
              "      <td>5</td>\n",
              "      <td>31-Jul-18</td>\n",
              "      <td>Charcoal Fabric</td>\n",
              "      <td>I have had a lot of fun with this thing. My 4 ...</td>\n",
              "      <td>1</td>\n",
              "    </tr>\n",
              "    <tr>\n",
              "      <th>4</th>\n",
              "      <td>5</td>\n",
              "      <td>31-Jul-18</td>\n",
              "      <td>Charcoal Fabric</td>\n",
              "      <td>Music</td>\n",
              "      <td>1</td>\n",
              "    </tr>\n",
              "    <tr>\n",
              "      <th>5</th>\n",
              "      <td>5</td>\n",
              "      <td>31-Jul-18</td>\n",
              "      <td>Heather Gray Fabric</td>\n",
              "      <td>I received the echo as a gift. I needed anothe...</td>\n",
              "      <td>1</td>\n",
              "    </tr>\n",
              "    <tr>\n",
              "      <th>6</th>\n",
              "      <td>3</td>\n",
              "      <td>31-Jul-18</td>\n",
              "      <td>Sandstone Fabric</td>\n",
              "      <td>Without having a cellphone, I cannot use many ...</td>\n",
              "      <td>1</td>\n",
              "    </tr>\n",
              "    <tr>\n",
              "      <th>7</th>\n",
              "      <td>5</td>\n",
              "      <td>31-Jul-18</td>\n",
              "      <td>Charcoal Fabric</td>\n",
              "      <td>I think this is the 5th one I've purchased. I'...</td>\n",
              "      <td>1</td>\n",
              "    </tr>\n",
              "    <tr>\n",
              "      <th>8</th>\n",
              "      <td>5</td>\n",
              "      <td>30-Jul-18</td>\n",
              "      <td>Heather Gray Fabric</td>\n",
              "      <td>looks great</td>\n",
              "      <td>1</td>\n",
              "    </tr>\n",
              "    <tr>\n",
              "      <th>9</th>\n",
              "      <td>5</td>\n",
              "      <td>30-Jul-18</td>\n",
              "      <td>Heather Gray Fabric</td>\n",
              "      <td>Love it! I’ve listened to songs I haven’t hear...</td>\n",
              "      <td>1</td>\n",
              "    </tr>\n",
              "  </tbody>\n",
              "</table>\n",
              "</div>\n",
              "    <div class=\"colab-df-buttons\">\n",
              "\n",
              "  <div class=\"colab-df-container\">\n",
              "    <button class=\"colab-df-convert\" onclick=\"convertToInteractive('df-7a4594c4-00ae-4765-8ad0-02beae439dc8')\"\n",
              "            title=\"Convert this dataframe to an interactive table.\"\n",
              "            style=\"display:none;\">\n",
              "\n",
              "  <svg xmlns=\"http://www.w3.org/2000/svg\" height=\"24px\" viewBox=\"0 -960 960 960\">\n",
              "    <path d=\"M120-120v-720h720v720H120Zm60-500h600v-160H180v160Zm220 220h160v-160H400v160Zm0 220h160v-160H400v160ZM180-400h160v-160H180v160Zm440 0h160v-160H620v160ZM180-180h160v-160H180v160Zm440 0h160v-160H620v160Z\"/>\n",
              "  </svg>\n",
              "    </button>\n",
              "\n",
              "  <style>\n",
              "    .colab-df-container {\n",
              "      display:flex;\n",
              "      gap: 12px;\n",
              "    }\n",
              "\n",
              "    .colab-df-convert {\n",
              "      background-color: #E8F0FE;\n",
              "      border: none;\n",
              "      border-radius: 50%;\n",
              "      cursor: pointer;\n",
              "      display: none;\n",
              "      fill: #1967D2;\n",
              "      height: 32px;\n",
              "      padding: 0 0 0 0;\n",
              "      width: 32px;\n",
              "    }\n",
              "\n",
              "    .colab-df-convert:hover {\n",
              "      background-color: #E2EBFA;\n",
              "      box-shadow: 0px 1px 2px rgba(60, 64, 67, 0.3), 0px 1px 3px 1px rgba(60, 64, 67, 0.15);\n",
              "      fill: #174EA6;\n",
              "    }\n",
              "\n",
              "    .colab-df-buttons div {\n",
              "      margin-bottom: 4px;\n",
              "    }\n",
              "\n",
              "    [theme=dark] .colab-df-convert {\n",
              "      background-color: #3B4455;\n",
              "      fill: #D2E3FC;\n",
              "    }\n",
              "\n",
              "    [theme=dark] .colab-df-convert:hover {\n",
              "      background-color: #434B5C;\n",
              "      box-shadow: 0px 1px 3px 1px rgba(0, 0, 0, 0.15);\n",
              "      filter: drop-shadow(0px 1px 2px rgba(0, 0, 0, 0.3));\n",
              "      fill: #FFFFFF;\n",
              "    }\n",
              "  </style>\n",
              "\n",
              "    <script>\n",
              "      const buttonEl =\n",
              "        document.querySelector('#df-7a4594c4-00ae-4765-8ad0-02beae439dc8 button.colab-df-convert');\n",
              "      buttonEl.style.display =\n",
              "        google.colab.kernel.accessAllowed ? 'block' : 'none';\n",
              "\n",
              "      async function convertToInteractive(key) {\n",
              "        const element = document.querySelector('#df-7a4594c4-00ae-4765-8ad0-02beae439dc8');\n",
              "        const dataTable =\n",
              "          await google.colab.kernel.invokeFunction('convertToInteractive',\n",
              "                                                    [key], {});\n",
              "        if (!dataTable) return;\n",
              "\n",
              "        const docLinkHtml = 'Like what you see? Visit the ' +\n",
              "          '<a target=\"_blank\" href=https://colab.research.google.com/notebooks/data_table.ipynb>data table notebook</a>'\n",
              "          + ' to learn more about interactive tables.';\n",
              "        element.innerHTML = '';\n",
              "        dataTable['output_type'] = 'display_data';\n",
              "        await google.colab.output.renderOutput(dataTable, element);\n",
              "        const docLink = document.createElement('div');\n",
              "        docLink.innerHTML = docLinkHtml;\n",
              "        element.appendChild(docLink);\n",
              "      }\n",
              "    </script>\n",
              "  </div>\n",
              "\n",
              "\n",
              "<div id=\"df-78c70eb8-5c90-4475-84b4-58c2d6615b37\">\n",
              "  <button class=\"colab-df-quickchart\" onclick=\"quickchart('df-78c70eb8-5c90-4475-84b4-58c2d6615b37')\"\n",
              "            title=\"Suggest charts\"\n",
              "            style=\"display:none;\">\n",
              "\n",
              "<svg xmlns=\"http://www.w3.org/2000/svg\" height=\"24px\"viewBox=\"0 0 24 24\"\n",
              "     width=\"24px\">\n",
              "    <g>\n",
              "        <path d=\"M19 3H5c-1.1 0-2 .9-2 2v14c0 1.1.9 2 2 2h14c1.1 0 2-.9 2-2V5c0-1.1-.9-2-2-2zM9 17H7v-7h2v7zm4 0h-2V7h2v10zm4 0h-2v-4h2v4z\"/>\n",
              "    </g>\n",
              "</svg>\n",
              "  </button>\n",
              "\n",
              "<style>\n",
              "  .colab-df-quickchart {\n",
              "      --bg-color: #E8F0FE;\n",
              "      --fill-color: #1967D2;\n",
              "      --hover-bg-color: #E2EBFA;\n",
              "      --hover-fill-color: #174EA6;\n",
              "      --disabled-fill-color: #AAA;\n",
              "      --disabled-bg-color: #DDD;\n",
              "  }\n",
              "\n",
              "  [theme=dark] .colab-df-quickchart {\n",
              "      --bg-color: #3B4455;\n",
              "      --fill-color: #D2E3FC;\n",
              "      --hover-bg-color: #434B5C;\n",
              "      --hover-fill-color: #FFFFFF;\n",
              "      --disabled-bg-color: #3B4455;\n",
              "      --disabled-fill-color: #666;\n",
              "  }\n",
              "\n",
              "  .colab-df-quickchart {\n",
              "    background-color: var(--bg-color);\n",
              "    border: none;\n",
              "    border-radius: 50%;\n",
              "    cursor: pointer;\n",
              "    display: none;\n",
              "    fill: var(--fill-color);\n",
              "    height: 32px;\n",
              "    padding: 0;\n",
              "    width: 32px;\n",
              "  }\n",
              "\n",
              "  .colab-df-quickchart:hover {\n",
              "    background-color: var(--hover-bg-color);\n",
              "    box-shadow: 0 1px 2px rgba(60, 64, 67, 0.3), 0 1px 3px 1px rgba(60, 64, 67, 0.15);\n",
              "    fill: var(--button-hover-fill-color);\n",
              "  }\n",
              "\n",
              "  .colab-df-quickchart-complete:disabled,\n",
              "  .colab-df-quickchart-complete:disabled:hover {\n",
              "    background-color: var(--disabled-bg-color);\n",
              "    fill: var(--disabled-fill-color);\n",
              "    box-shadow: none;\n",
              "  }\n",
              "\n",
              "  .colab-df-spinner {\n",
              "    border: 2px solid var(--fill-color);\n",
              "    border-color: transparent;\n",
              "    border-bottom-color: var(--fill-color);\n",
              "    animation:\n",
              "      spin 1s steps(1) infinite;\n",
              "  }\n",
              "\n",
              "  @keyframes spin {\n",
              "    0% {\n",
              "      border-color: transparent;\n",
              "      border-bottom-color: var(--fill-color);\n",
              "      border-left-color: var(--fill-color);\n",
              "    }\n",
              "    20% {\n",
              "      border-color: transparent;\n",
              "      border-left-color: var(--fill-color);\n",
              "      border-top-color: var(--fill-color);\n",
              "    }\n",
              "    30% {\n",
              "      border-color: transparent;\n",
              "      border-left-color: var(--fill-color);\n",
              "      border-top-color: var(--fill-color);\n",
              "      border-right-color: var(--fill-color);\n",
              "    }\n",
              "    40% {\n",
              "      border-color: transparent;\n",
              "      border-right-color: var(--fill-color);\n",
              "      border-top-color: var(--fill-color);\n",
              "    }\n",
              "    60% {\n",
              "      border-color: transparent;\n",
              "      border-right-color: var(--fill-color);\n",
              "    }\n",
              "    80% {\n",
              "      border-color: transparent;\n",
              "      border-right-color: var(--fill-color);\n",
              "      border-bottom-color: var(--fill-color);\n",
              "    }\n",
              "    90% {\n",
              "      border-color: transparent;\n",
              "      border-bottom-color: var(--fill-color);\n",
              "    }\n",
              "  }\n",
              "</style>\n",
              "\n",
              "  <script>\n",
              "    async function quickchart(key) {\n",
              "      const quickchartButtonEl =\n",
              "        document.querySelector('#' + key + ' button');\n",
              "      quickchartButtonEl.disabled = true;  // To prevent multiple clicks.\n",
              "      quickchartButtonEl.classList.add('colab-df-spinner');\n",
              "      try {\n",
              "        const charts = await google.colab.kernel.invokeFunction(\n",
              "            'suggestCharts', [key], {});\n",
              "      } catch (error) {\n",
              "        console.error('Error during call to suggestCharts:', error);\n",
              "      }\n",
              "      quickchartButtonEl.classList.remove('colab-df-spinner');\n",
              "      quickchartButtonEl.classList.add('colab-df-quickchart-complete');\n",
              "    }\n",
              "    (() => {\n",
              "      let quickchartButtonEl =\n",
              "        document.querySelector('#df-78c70eb8-5c90-4475-84b4-58c2d6615b37 button');\n",
              "      quickchartButtonEl.style.display =\n",
              "        google.colab.kernel.accessAllowed ? 'block' : 'none';\n",
              "    })();\n",
              "  </script>\n",
              "</div>\n",
              "    </div>\n",
              "  </div>\n"
            ],
            "text/plain": [
              "   rating       date             variation  \\\n",
              "0       5  31-Jul-18      Charcoal Fabric    \n",
              "1       5  31-Jul-18      Charcoal Fabric    \n",
              "2       4  31-Jul-18        Walnut Finish    \n",
              "3       5  31-Jul-18      Charcoal Fabric    \n",
              "4       5  31-Jul-18      Charcoal Fabric    \n",
              "5       5  31-Jul-18  Heather Gray Fabric    \n",
              "6       3  31-Jul-18     Sandstone Fabric    \n",
              "7       5  31-Jul-18      Charcoal Fabric    \n",
              "8       5  30-Jul-18  Heather Gray Fabric    \n",
              "9       5  30-Jul-18  Heather Gray Fabric    \n",
              "\n",
              "                                    verified_reviews  feedback  \n",
              "0                                      Love my Echo!         1  \n",
              "1                                          Loved it!         1  \n",
              "2  Sometimes while playing a game, you can answer...         1  \n",
              "3  I have had a lot of fun with this thing. My 4 ...         1  \n",
              "4                                              Music         1  \n",
              "5  I received the echo as a gift. I needed anothe...         1  \n",
              "6  Without having a cellphone, I cannot use many ...         1  \n",
              "7  I think this is the 5th one I've purchased. I'...         1  \n",
              "8                                        looks great         1  \n",
              "9  Love it! I’ve listened to songs I haven’t hear...         1  "
            ]
          },
          "execution_count": 93,
          "metadata": {},
          "output_type": "execute_result"
        }
      ],
      "source": [
        "import pandas as pd\n",
        "data = pd.read_csv('./amazon_alexa.tsv', delimiter = '\\t')\n",
        "\n",
        "data.head(10)"
      ]
    },
    {
      "cell_type": "code",
      "execution_count": 91,
      "metadata": {
        "colab": {
          "base_uri": "https://localhost:8080/"
        },
        "id": "nZQHG7T9v7qV",
        "outputId": "3887a4a1-e64e-4e98-e92c-808ce0f2c44a"
      },
      "outputs": [
        {
          "name": "stdout",
          "output_type": "stream",
          "text": [
            "<class 'pandas.core.frame.DataFrame'>\n",
            "RangeIndex: 3150 entries, 0 to 3149\n",
            "Data columns (total 5 columns):\n",
            " #   Column            Non-Null Count  Dtype \n",
            "---  ------            --------------  ----- \n",
            " 0   rating            3150 non-null   int64 \n",
            " 1   date              3150 non-null   object\n",
            " 2   variation         3150 non-null   object\n",
            " 3   verified_reviews  3150 non-null   object\n",
            " 4   feedback          3150 non-null   int64 \n",
            "dtypes: int64(2), object(3)\n",
            "memory usage: 123.2+ KB\n"
          ]
        }
      ],
      "source": [
        "data.info()"
      ]
    },
    {
      "cell_type": "code",
      "execution_count": 97,
      "metadata": {
        "colab": {
          "base_uri": "https://localhost:8080/",
          "height": 363
        },
        "id": "hOxspz7PvTRV",
        "outputId": "0cf54d64-d430-4a93-8516-a938394caa75"
      },
      "outputs": [
        {
          "data": {
            "application/vnd.google.colaboratory.intrinsic+json": {
              "repr_error": "'str' object has no attribute 'empty'",
              "type": "dataframe",
              "variable_name": "filtered_df"
            },
            "text/html": [
              "\n",
              "  <div id=\"df-87fb0795-decd-4d59-906d-9f606018f904\" class=\"colab-df-container\">\n",
              "    <div>\n",
              "<style scoped>\n",
              "    .dataframe tbody tr th:only-of-type {\n",
              "        vertical-align: middle;\n",
              "    }\n",
              "\n",
              "    .dataframe tbody tr th {\n",
              "        vertical-align: top;\n",
              "    }\n",
              "\n",
              "    .dataframe thead th {\n",
              "        text-align: right;\n",
              "    }\n",
              "</style>\n",
              "<table border=\"1\" class=\"dataframe\">\n",
              "  <thead>\n",
              "    <tr style=\"text-align: right;\">\n",
              "      <th></th>\n",
              "      <th>rating</th>\n",
              "      <th>date</th>\n",
              "      <th>variation</th>\n",
              "      <th>verified_reviews</th>\n",
              "      <th>feedback</th>\n",
              "    </tr>\n",
              "  </thead>\n",
              "  <tbody>\n",
              "    <tr>\n",
              "      <th>0</th>\n",
              "      <td>5</td>\n",
              "      <td>31-Jul-18</td>\n",
              "      <td>Charcoal Fabric</td>\n",
              "      <td>Love my Echo!</td>\n",
              "      <td>1</td>\n",
              "    </tr>\n",
              "    <tr>\n",
              "      <th>1</th>\n",
              "      <td>5</td>\n",
              "      <td>31-Jul-18</td>\n",
              "      <td>Charcoal Fabric</td>\n",
              "      <td>Loved it!</td>\n",
              "      <td>1</td>\n",
              "    </tr>\n",
              "    <tr>\n",
              "      <th>2</th>\n",
              "      <td>4</td>\n",
              "      <td>31-Jul-18</td>\n",
              "      <td>Walnut Finish</td>\n",
              "      <td>Sometimes while playing a game, you can answer...</td>\n",
              "      <td>1</td>\n",
              "    </tr>\n",
              "    <tr>\n",
              "      <th>6</th>\n",
              "      <td>3</td>\n",
              "      <td>31-Jul-18</td>\n",
              "      <td>Sandstone Fabric</td>\n",
              "      <td>Without having a cellphone, I cannot use many ...</td>\n",
              "      <td>1</td>\n",
              "    </tr>\n",
              "    <tr>\n",
              "      <th>8</th>\n",
              "      <td>5</td>\n",
              "      <td>30-Jul-18</td>\n",
              "      <td>Heather Gray Fabric</td>\n",
              "      <td>looks great</td>\n",
              "      <td>1</td>\n",
              "    </tr>\n",
              "    <tr>\n",
              "      <th>9</th>\n",
              "      <td>5</td>\n",
              "      <td>30-Jul-18</td>\n",
              "      <td>Heather Gray Fabric</td>\n",
              "      <td>Love it! I’ve listened to songs I haven’t hear...</td>\n",
              "      <td>1</td>\n",
              "    </tr>\n",
              "    <tr>\n",
              "      <th>10</th>\n",
              "      <td>5</td>\n",
              "      <td>30-Jul-18</td>\n",
              "      <td>Charcoal Fabric</td>\n",
              "      <td>I sent it to my 85 year old Dad, and he talks ...</td>\n",
              "      <td>1</td>\n",
              "    </tr>\n",
              "    <tr>\n",
              "      <th>11</th>\n",
              "      <td>5</td>\n",
              "      <td>30-Jul-18</td>\n",
              "      <td>Charcoal Fabric</td>\n",
              "      <td>I love it! Learning knew things with it eveyda...</td>\n",
              "      <td>1</td>\n",
              "    </tr>\n",
              "    <tr>\n",
              "      <th>12</th>\n",
              "      <td>5</td>\n",
              "      <td>30-Jul-18</td>\n",
              "      <td>Oak Finish</td>\n",
              "      <td>I purchased this for my mother who is having k...</td>\n",
              "      <td>1</td>\n",
              "    </tr>\n",
              "    <tr>\n",
              "      <th>13</th>\n",
              "      <td>5</td>\n",
              "      <td>30-Jul-18</td>\n",
              "      <td>Charcoal Fabric</td>\n",
              "      <td>Love, Love, Love!!</td>\n",
              "      <td>1</td>\n",
              "    </tr>\n",
              "  </tbody>\n",
              "</table>\n",
              "</div>\n",
              "    <div class=\"colab-df-buttons\">\n",
              "\n",
              "  <div class=\"colab-df-container\">\n",
              "    <button class=\"colab-df-convert\" onclick=\"convertToInteractive('df-87fb0795-decd-4d59-906d-9f606018f904')\"\n",
              "            title=\"Convert this dataframe to an interactive table.\"\n",
              "            style=\"display:none;\">\n",
              "\n",
              "  <svg xmlns=\"http://www.w3.org/2000/svg\" height=\"24px\" viewBox=\"0 -960 960 960\">\n",
              "    <path d=\"M120-120v-720h720v720H120Zm60-500h600v-160H180v160Zm220 220h160v-160H400v160Zm0 220h160v-160H400v160ZM180-400h160v-160H180v160Zm440 0h160v-160H620v160ZM180-180h160v-160H180v160Zm440 0h160v-160H620v160Z\"/>\n",
              "  </svg>\n",
              "    </button>\n",
              "\n",
              "  <style>\n",
              "    .colab-df-container {\n",
              "      display:flex;\n",
              "      gap: 12px;\n",
              "    }\n",
              "\n",
              "    .colab-df-convert {\n",
              "      background-color: #E8F0FE;\n",
              "      border: none;\n",
              "      border-radius: 50%;\n",
              "      cursor: pointer;\n",
              "      display: none;\n",
              "      fill: #1967D2;\n",
              "      height: 32px;\n",
              "      padding: 0 0 0 0;\n",
              "      width: 32px;\n",
              "    }\n",
              "\n",
              "    .colab-df-convert:hover {\n",
              "      background-color: #E2EBFA;\n",
              "      box-shadow: 0px 1px 2px rgba(60, 64, 67, 0.3), 0px 1px 3px 1px rgba(60, 64, 67, 0.15);\n",
              "      fill: #174EA6;\n",
              "    }\n",
              "\n",
              "    .colab-df-buttons div {\n",
              "      margin-bottom: 4px;\n",
              "    }\n",
              "\n",
              "    [theme=dark] .colab-df-convert {\n",
              "      background-color: #3B4455;\n",
              "      fill: #D2E3FC;\n",
              "    }\n",
              "\n",
              "    [theme=dark] .colab-df-convert:hover {\n",
              "      background-color: #434B5C;\n",
              "      box-shadow: 0px 1px 3px 1px rgba(0, 0, 0, 0.15);\n",
              "      filter: drop-shadow(0px 1px 2px rgba(0, 0, 0, 0.3));\n",
              "      fill: #FFFFFF;\n",
              "    }\n",
              "  </style>\n",
              "\n",
              "    <script>\n",
              "      const buttonEl =\n",
              "        document.querySelector('#df-87fb0795-decd-4d59-906d-9f606018f904 button.colab-df-convert');\n",
              "      buttonEl.style.display =\n",
              "        google.colab.kernel.accessAllowed ? 'block' : 'none';\n",
              "\n",
              "      async function convertToInteractive(key) {\n",
              "        const element = document.querySelector('#df-87fb0795-decd-4d59-906d-9f606018f904');\n",
              "        const dataTable =\n",
              "          await google.colab.kernel.invokeFunction('convertToInteractive',\n",
              "                                                    [key], {});\n",
              "        if (!dataTable) return;\n",
              "\n",
              "        const docLinkHtml = 'Like what you see? Visit the ' +\n",
              "          '<a target=\"_blank\" href=https://colab.research.google.com/notebooks/data_table.ipynb>data table notebook</a>'\n",
              "          + ' to learn more about interactive tables.';\n",
              "        element.innerHTML = '';\n",
              "        dataTable['output_type'] = 'display_data';\n",
              "        await google.colab.output.renderOutput(dataTable, element);\n",
              "        const docLink = document.createElement('div');\n",
              "        docLink.innerHTML = docLinkHtml;\n",
              "        element.appendChild(docLink);\n",
              "      }\n",
              "    </script>\n",
              "  </div>\n",
              "\n",
              "\n",
              "<div id=\"df-2636ab8d-cafc-4993-8f8a-df2e39312631\">\n",
              "  <button class=\"colab-df-quickchart\" onclick=\"quickchart('df-2636ab8d-cafc-4993-8f8a-df2e39312631')\"\n",
              "            title=\"Suggest charts\"\n",
              "            style=\"display:none;\">\n",
              "\n",
              "<svg xmlns=\"http://www.w3.org/2000/svg\" height=\"24px\"viewBox=\"0 0 24 24\"\n",
              "     width=\"24px\">\n",
              "    <g>\n",
              "        <path d=\"M19 3H5c-1.1 0-2 .9-2 2v14c0 1.1.9 2 2 2h14c1.1 0 2-.9 2-2V5c0-1.1-.9-2-2-2zM9 17H7v-7h2v7zm4 0h-2V7h2v10zm4 0h-2v-4h2v4z\"/>\n",
              "    </g>\n",
              "</svg>\n",
              "  </button>\n",
              "\n",
              "<style>\n",
              "  .colab-df-quickchart {\n",
              "      --bg-color: #E8F0FE;\n",
              "      --fill-color: #1967D2;\n",
              "      --hover-bg-color: #E2EBFA;\n",
              "      --hover-fill-color: #174EA6;\n",
              "      --disabled-fill-color: #AAA;\n",
              "      --disabled-bg-color: #DDD;\n",
              "  }\n",
              "\n",
              "  [theme=dark] .colab-df-quickchart {\n",
              "      --bg-color: #3B4455;\n",
              "      --fill-color: #D2E3FC;\n",
              "      --hover-bg-color: #434B5C;\n",
              "      --hover-fill-color: #FFFFFF;\n",
              "      --disabled-bg-color: #3B4455;\n",
              "      --disabled-fill-color: #666;\n",
              "  }\n",
              "\n",
              "  .colab-df-quickchart {\n",
              "    background-color: var(--bg-color);\n",
              "    border: none;\n",
              "    border-radius: 50%;\n",
              "    cursor: pointer;\n",
              "    display: none;\n",
              "    fill: var(--fill-color);\n",
              "    height: 32px;\n",
              "    padding: 0;\n",
              "    width: 32px;\n",
              "  }\n",
              "\n",
              "  .colab-df-quickchart:hover {\n",
              "    background-color: var(--hover-bg-color);\n",
              "    box-shadow: 0 1px 2px rgba(60, 64, 67, 0.3), 0 1px 3px 1px rgba(60, 64, 67, 0.15);\n",
              "    fill: var(--button-hover-fill-color);\n",
              "  }\n",
              "\n",
              "  .colab-df-quickchart-complete:disabled,\n",
              "  .colab-df-quickchart-complete:disabled:hover {\n",
              "    background-color: var(--disabled-bg-color);\n",
              "    fill: var(--disabled-fill-color);\n",
              "    box-shadow: none;\n",
              "  }\n",
              "\n",
              "  .colab-df-spinner {\n",
              "    border: 2px solid var(--fill-color);\n",
              "    border-color: transparent;\n",
              "    border-bottom-color: var(--fill-color);\n",
              "    animation:\n",
              "      spin 1s steps(1) infinite;\n",
              "  }\n",
              "\n",
              "  @keyframes spin {\n",
              "    0% {\n",
              "      border-color: transparent;\n",
              "      border-bottom-color: var(--fill-color);\n",
              "      border-left-color: var(--fill-color);\n",
              "    }\n",
              "    20% {\n",
              "      border-color: transparent;\n",
              "      border-left-color: var(--fill-color);\n",
              "      border-top-color: var(--fill-color);\n",
              "    }\n",
              "    30% {\n",
              "      border-color: transparent;\n",
              "      border-left-color: var(--fill-color);\n",
              "      border-top-color: var(--fill-color);\n",
              "      border-right-color: var(--fill-color);\n",
              "    }\n",
              "    40% {\n",
              "      border-color: transparent;\n",
              "      border-right-color: var(--fill-color);\n",
              "      border-top-color: var(--fill-color);\n",
              "    }\n",
              "    60% {\n",
              "      border-color: transparent;\n",
              "      border-right-color: var(--fill-color);\n",
              "    }\n",
              "    80% {\n",
              "      border-color: transparent;\n",
              "      border-right-color: var(--fill-color);\n",
              "      border-bottom-color: var(--fill-color);\n",
              "    }\n",
              "    90% {\n",
              "      border-color: transparent;\n",
              "      border-bottom-color: var(--fill-color);\n",
              "    }\n",
              "  }\n",
              "</style>\n",
              "\n",
              "  <script>\n",
              "    async function quickchart(key) {\n",
              "      const quickchartButtonEl =\n",
              "        document.querySelector('#' + key + ' button');\n",
              "      quickchartButtonEl.disabled = true;  // To prevent multiple clicks.\n",
              "      quickchartButtonEl.classList.add('colab-df-spinner');\n",
              "      try {\n",
              "        const charts = await google.colab.kernel.invokeFunction(\n",
              "            'suggestCharts', [key], {});\n",
              "      } catch (error) {\n",
              "        console.error('Error during call to suggestCharts:', error);\n",
              "      }\n",
              "      quickchartButtonEl.classList.remove('colab-df-spinner');\n",
              "      quickchartButtonEl.classList.add('colab-df-quickchart-complete');\n",
              "    }\n",
              "    (() => {\n",
              "      let quickchartButtonEl =\n",
              "        document.querySelector('#df-2636ab8d-cafc-4993-8f8a-df2e39312631 button');\n",
              "      quickchartButtonEl.style.display =\n",
              "        google.colab.kernel.accessAllowed ? 'block' : 'none';\n",
              "    })();\n",
              "  </script>\n",
              "</div>\n",
              "    </div>\n",
              "  </div>\n"
            ],
            "text/plain": [
              "    rating       date             variation  \\\n",
              "0        5  31-Jul-18      Charcoal Fabric    \n",
              "1        5  31-Jul-18      Charcoal Fabric    \n",
              "2        4  31-Jul-18        Walnut Finish    \n",
              "6        3  31-Jul-18     Sandstone Fabric    \n",
              "8        5  30-Jul-18  Heather Gray Fabric    \n",
              "9        5  30-Jul-18  Heather Gray Fabric    \n",
              "10       5  30-Jul-18      Charcoal Fabric    \n",
              "11       5  30-Jul-18      Charcoal Fabric    \n",
              "12       5  30-Jul-18           Oak Finish    \n",
              "13       5  30-Jul-18      Charcoal Fabric    \n",
              "\n",
              "                                     verified_reviews  feedback  \n",
              "0                                       Love my Echo!         1  \n",
              "1                                           Loved it!         1  \n",
              "2   Sometimes while playing a game, you can answer...         1  \n",
              "6   Without having a cellphone, I cannot use many ...         1  \n",
              "8                                         looks great         1  \n",
              "9   Love it! I’ve listened to songs I haven’t hear...         1  \n",
              "10  I sent it to my 85 year old Dad, and he talks ...         1  \n",
              "11  I love it! Learning knew things with it eveyda...         1  \n",
              "12  I purchased this for my mother who is having k...         1  \n",
              "13                                 Love, Love, Love!!         1  "
            ]
          },
          "execution_count": 97,
          "metadata": {},
          "output_type": "execute_result"
        }
      ],
      "source": [
        "filtered_df = data[~data['verified_reviews'].str.lower().str.contains(\"music\", na= False)]\n",
        "\n",
        "filtered_df.head(10)"
      ]
    },
    {
      "cell_type": "code",
      "execution_count": 92,
      "metadata": {
        "colab": {
          "base_uri": "https://localhost:8080/"
        },
        "id": "8Mn6AdJcv-5y",
        "outputId": "5f9189f4-caac-44f0-ec00-1a1e13e7eee4"
      },
      "outputs": [
        {
          "name": "stdout",
          "output_type": "stream",
          "text": [
            "<class 'pandas.core.frame.DataFrame'>\n",
            "Int64Index: 2684 entries, 0 to 3149\n",
            "Data columns (total 5 columns):\n",
            " #   Column            Non-Null Count  Dtype \n",
            "---  ------            --------------  ----- \n",
            " 0   rating            2684 non-null   int64 \n",
            " 1   date              2684 non-null   object\n",
            " 2   variation         2684 non-null   object\n",
            " 3   verified_reviews  2684 non-null   object\n",
            " 4   feedback          2684 non-null   int64 \n",
            "dtypes: int64(2), object(3)\n",
            "memory usage: 125.8+ KB\n"
          ]
        }
      ],
      "source": [
        "filtered_df.info()"
      ]
    }
  ],
  "metadata": {
    "colab": {
      "provenance": []
    },
    "kernelspec": {
      "display_name": "pytorch-env",
      "language": "python",
      "name": "python3"
    },
    "language_info": {
      "codemirror_mode": {
        "name": "ipython",
        "version": 3
      },
      "file_extension": ".py",
      "mimetype": "text/x-python",
      "name": "python",
      "nbconvert_exporter": "python",
      "pygments_lexer": "ipython3",
      "version": "0.0.0"
    }
  },
  "nbformat": 4,
  "nbformat_minor": 0
}
