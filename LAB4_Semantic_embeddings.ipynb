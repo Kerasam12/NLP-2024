{
 "cells": [
  {
   "cell_type": "markdown",
   "metadata": {},
   "source": [
    "# LAB 4 - Semantic Embeddings"
   ]
  },
  {
   "cell_type": "code",
   "execution_count": 11,
   "metadata": {},
   "outputs": [
    {
     "name": "stdout",
     "output_type": "stream",
     "text": [
      "Requirement already satisfied: spacy in c:\\users\\neild\\miniconda3\\envs\\pytorch-env\\lib\\site-packages (3.7.4)\n",
      "Requirement already satisfied: spacy-legacy<3.1.0,>=3.0.11 in c:\\users\\neild\\miniconda3\\envs\\pytorch-env\\lib\\site-packages (from spacy) (3.0.12)\n",
      "Requirement already satisfied: spacy-loggers<2.0.0,>=1.0.0 in c:\\users\\neild\\miniconda3\\envs\\pytorch-env\\lib\\site-packages (from spacy) (1.0.5)\n",
      "Requirement already satisfied: murmurhash<1.1.0,>=0.28.0 in c:\\users\\neild\\miniconda3\\envs\\pytorch-env\\lib\\site-packages (from spacy) (1.0.10)\n",
      "Requirement already satisfied: cymem<2.1.0,>=2.0.2 in c:\\users\\neild\\miniconda3\\envs\\pytorch-env\\lib\\site-packages (from spacy) (2.0.8)\n",
      "Requirement already satisfied: preshed<3.1.0,>=3.0.2 in c:\\users\\neild\\miniconda3\\envs\\pytorch-env\\lib\\site-packages (from spacy) (3.0.9)\n",
      "Requirement already satisfied: thinc<8.3.0,>=8.2.2 in c:\\users\\neild\\miniconda3\\envs\\pytorch-env\\lib\\site-packages (from spacy) (8.2.3)\n",
      "Requirement already satisfied: wasabi<1.2.0,>=0.9.1 in c:\\users\\neild\\miniconda3\\envs\\pytorch-env\\lib\\site-packages (from spacy) (1.1.2)\n",
      "Requirement already satisfied: srsly<3.0.0,>=2.4.3 in c:\\users\\neild\\miniconda3\\envs\\pytorch-env\\lib\\site-packages (from spacy) (2.4.8)\n",
      "Requirement already satisfied: catalogue<2.1.0,>=2.0.6 in c:\\users\\neild\\miniconda3\\envs\\pytorch-env\\lib\\site-packages (from spacy) (2.0.10)\n",
      "Requirement already satisfied: weasel<0.4.0,>=0.1.0 in c:\\users\\neild\\miniconda3\\envs\\pytorch-env\\lib\\site-packages (from spacy) (0.3.4)\n",
      "Requirement already satisfied: typer<0.10.0,>=0.3.0 in c:\\users\\neild\\miniconda3\\envs\\pytorch-env\\lib\\site-packages (from spacy) (0.9.0)\n",
      "Requirement already satisfied: smart-open<7.0.0,>=5.2.1 in c:\\users\\neild\\miniconda3\\envs\\pytorch-env\\lib\\site-packages (from spacy) (6.4.0)\n",
      "Requirement already satisfied: tqdm<5.0.0,>=4.38.0 in c:\\users\\neild\\miniconda3\\envs\\pytorch-env\\lib\\site-packages (from spacy) (4.66.1)\n",
      "Requirement already satisfied: requests<3.0.0,>=2.13.0 in c:\\users\\neild\\miniconda3\\envs\\pytorch-env\\lib\\site-packages (from spacy) (2.31.0)\n",
      "Requirement already satisfied: pydantic!=1.8,!=1.8.1,<3.0.0,>=1.7.4 in c:\\users\\neild\\miniconda3\\envs\\pytorch-env\\lib\\site-packages (from spacy) (2.6.3)\n",
      "Requirement already satisfied: jinja2 in c:\\users\\neild\\miniconda3\\envs\\pytorch-env\\lib\\site-packages (from spacy) (3.1.2)\n",
      "Requirement already satisfied: setuptools in c:\\users\\neild\\miniconda3\\envs\\pytorch-env\\lib\\site-packages (from spacy) (68.0.0)\n",
      "Requirement already satisfied: packaging>=20.0 in c:\\users\\neild\\miniconda3\\envs\\pytorch-env\\lib\\site-packages (from spacy) (23.1)\n",
      "Requirement already satisfied: langcodes<4.0.0,>=3.2.0 in c:\\users\\neild\\miniconda3\\envs\\pytorch-env\\lib\\site-packages (from spacy) (3.3.0)\n",
      "Requirement already satisfied: numpy>=1.19.0 in c:\\users\\neild\\miniconda3\\envs\\pytorch-env\\lib\\site-packages (from spacy) (1.25.2)\n",
      "Requirement already satisfied: annotated-types>=0.4.0 in c:\\users\\neild\\miniconda3\\envs\\pytorch-env\\lib\\site-packages (from pydantic!=1.8,!=1.8.1,<3.0.0,>=1.7.4->spacy) (0.6.0)\n",
      "Requirement already satisfied: pydantic-core==2.16.3 in c:\\users\\neild\\miniconda3\\envs\\pytorch-env\\lib\\site-packages (from pydantic!=1.8,!=1.8.1,<3.0.0,>=1.7.4->spacy) (2.16.3)\n",
      "Requirement already satisfied: typing-extensions>=4.6.1 in c:\\users\\neild\\miniconda3\\envs\\pytorch-env\\lib\\site-packages (from pydantic!=1.8,!=1.8.1,<3.0.0,>=1.7.4->spacy) (4.7.1)\n",
      "Requirement already satisfied: charset-normalizer<4,>=2 in c:\\users\\neild\\miniconda3\\envs\\pytorch-env\\lib\\site-packages (from requests<3.0.0,>=2.13.0->spacy) (2.0.4)\n",
      "Requirement already satisfied: idna<4,>=2.5 in c:\\users\\neild\\miniconda3\\envs\\pytorch-env\\lib\\site-packages (from requests<3.0.0,>=2.13.0->spacy) (2.10)\n",
      "Requirement already satisfied: urllib3<3,>=1.21.1 in c:\\users\\neild\\miniconda3\\envs\\pytorch-env\\lib\\site-packages (from requests<3.0.0,>=2.13.0->spacy) (1.26.16)\n",
      "Requirement already satisfied: certifi>=2017.4.17 in c:\\users\\neild\\miniconda3\\envs\\pytorch-env\\lib\\site-packages (from requests<3.0.0,>=2.13.0->spacy) (2024.2.2)\n",
      "Requirement already satisfied: blis<0.8.0,>=0.7.8 in c:\\users\\neild\\miniconda3\\envs\\pytorch-env\\lib\\site-packages (from thinc<8.3.0,>=8.2.2->spacy) (0.7.11)\n",
      "Requirement already satisfied: confection<1.0.0,>=0.0.1 in c:\\users\\neild\\miniconda3\\envs\\pytorch-env\\lib\\site-packages (from thinc<8.3.0,>=8.2.2->spacy) (0.1.4)\n",
      "Requirement already satisfied: colorama in c:\\users\\neild\\miniconda3\\envs\\pytorch-env\\lib\\site-packages (from tqdm<5.0.0,>=4.38.0->spacy) (0.4.6)\n",
      "Requirement already satisfied: click<9.0.0,>=7.1.1 in c:\\users\\neild\\miniconda3\\envs\\pytorch-env\\lib\\site-packages (from typer<0.10.0,>=0.3.0->spacy) (8.0.4)\n",
      "Requirement already satisfied: cloudpathlib<0.17.0,>=0.7.0 in c:\\users\\neild\\miniconda3\\envs\\pytorch-env\\lib\\site-packages (from weasel<0.4.0,>=0.1.0->spacy) (0.16.0)\n",
      "Requirement already satisfied: MarkupSafe>=2.0 in c:\\users\\neild\\miniconda3\\envs\\pytorch-env\\lib\\site-packages (from jinja2->spacy) (2.1.1)\n"
     ]
    }
   ],
   "source": [
    "# Install spacy library\n",
    "!pip install spacy"
   ]
  },
  {
   "cell_type": "code",
   "execution_count": 12,
   "metadata": {},
   "outputs": [
    {
     "name": "stdout",
     "output_type": "stream",
     "text": [
      "\u001b[38;5;2m✔ Download and installation successful\u001b[0m\n",
      "You can now load the package via spacy.load('en_core_web_md')\n",
      "\u001b[38;5;3m⚠ Restart to reload dependencies\u001b[0m\n",
      "If you are in a Jupyter or Colab notebook, you may need to restart Python in\n",
      "order to load all the package's dependencies. You can do this by selecting the\n",
      "'Restart kernel' or 'Restart runtime' option.\n"
     ]
    }
   ],
   "source": [
    "# Download the English model\n",
    "import spacy\n",
    "\n",
    "spacy.cli.download(\"en_core_web_md\")\n",
    "nlp = spacy.load(\"en_core_web_md\")"
   ]
  },
  {
   "cell_type": "code",
   "execution_count": 13,
   "metadata": {},
   "outputs": [
    {
     "name": "stdout",
     "output_type": "stream",
     "text": [
      "[-1.8633e+00  4.2826e+00 -7.1575e-01  1.2353e+00  5.4601e+00  6.0244e+00\n",
      " -2.2204e+00  1.7759e+00  2.5588e+00 -2.0682e+00  4.4509e+00 -2.2267e+00\n",
      " -1.6666e+00 -1.0174e+00 -5.0303e+00  2.4880e+00  4.0848e-01  1.0369e+00\n",
      "  3.4916e+00  3.7098e+00  2.2451e+00 -1.1685e+00 -3.2297e-01 -1.6925e+00\n",
      "  8.3621e-01 -2.6654e-02 -3.7525e+00 -4.9996e-01  5.6734e+00  4.7680e+00\n",
      " -3.7574e+00 -1.4604e-01  5.3413e-01 -5.5588e+00  1.1134e+00  3.0370e+00\n",
      "  6.7387e-01  4.8416e+00 -6.9886e+00 -2.4840e+00  9.1392e-01  3.8642e+00\n",
      "  4.7409e+00 -9.1215e-01 -4.7876e-01 -4.5356e-01 -2.5983e+00 -2.6529e+00\n",
      " -6.0445e+00  6.5456e-01  4.5724e+00  4.7130e+00 -8.7298e-01 -2.4036e+00\n",
      "  1.3543e+00 -2.4419e-02 -1.6746e+00  5.0430e+00 -7.3322e-01  3.2873e+00\n",
      " -8.2850e-01 -1.7169e+00 -1.2998e+00 -5.5582e-01  2.4973e+00  8.2000e-01\n",
      " -5.0912e+00  2.9508e+00 -2.6805e+00  1.6948e+00  2.6353e-01 -5.5573e-01\n",
      " -2.5534e+00 -7.1705e-01  2.5999e+00 -3.8282e-01 -3.7611e+00  7.0098e+00\n",
      " -2.3766e+00 -6.6381e-01 -2.1161e+00 -1.0708e+00 -4.1450e+00  5.5648e-01\n",
      " -1.0478e+00 -7.4927e-01 -1.5616e+00 -3.6242e+00 -4.6307e+00 -5.5283e+00\n",
      " -2.4878e+00 -6.7964e-01  1.3264e+00  3.1103e+00  1.8727e+00 -6.0100e-01\n",
      " -2.3472e+00 -3.4874e+00  2.7148e+00 -1.2601e+00 -4.3567e-01 -3.4389e+00\n",
      "  2.3622e+00  3.6503e+00 -2.4575e+00 -1.9796e+00  6.0322e-01  2.0797e+00\n",
      " -1.8035e+00 -4.4274e+00  2.3084e+00 -2.7899e+00  6.9950e-01  3.3448e+00\n",
      " -4.5086e+00  7.8834e-01 -2.8143e+00  3.3563e+00 -7.8754e-01 -3.2590e+00\n",
      "  4.5830e+00 -2.2982e+00 -1.2508e+00 -2.1720e+00 -5.1245e-01 -2.0756e+00\n",
      "  8.4506e-01  1.5893e-01 -5.7844e-01 -4.4434e+00  2.7362e+00  6.6524e-02\n",
      " -2.5928e-01  1.2195e+00  2.6774e+00 -1.6431e+00 -4.1398e-01  4.0217e+00\n",
      "  1.5040e+00 -2.1736e-01 -7.7106e-01 -1.2891e+00  6.4500e-01  3.7351e+00\n",
      "  7.3104e-01  2.1679e+00 -5.7116e+00 -1.0801e+00  3.3084e-01 -1.0152e+00\n",
      " -9.8290e-02 -1.9523e+00  1.6585e-01 -1.4865e+00  1.4558e-01 -5.6613e-01\n",
      "  3.4737e+00  2.0509e+00 -2.4830e+00 -3.3711e+00 -3.9966e+00 -5.0795e+00\n",
      "  4.5775e+00  3.5888e+00  2.6349e+00  5.8074e-01 -8.7132e-01 -9.4111e-01\n",
      " -2.1549e+00 -1.4002e+00 -6.7431e-01  4.9029e+00 -2.4237e-01  2.2813e+00\n",
      " -5.2433e-01 -7.8507e-01 -3.8141e+00 -2.5267e+00  2.0642e+00  1.4272e+00\n",
      " -7.3799e+00 -6.4456e+00 -1.9389e+00 -2.1175e+00 -7.7891e-01  2.0756e+00\n",
      "  1.3366e+00 -5.7490e+00 -9.9230e-01 -2.0835e+00  1.2286e+00 -4.0169e+00\n",
      "  4.9700e-01 -1.6381e+00  6.3388e+00  1.0795e+00 -2.6706e+00  1.6885e+00\n",
      " -1.8698e+00  6.0973e-01  5.5608e+00 -8.6522e-01  1.2979e+00 -5.1440e+00\n",
      "  5.1053e+00  8.0371e-01 -1.5503e+00  2.6159e+00  9.8151e-01  4.4608e+00\n",
      "  6.8809e-02 -6.6254e+00  1.4723e+00  4.8388e-01  4.0586e+00  2.6173e+00\n",
      " -4.4582e+00  6.5946e-01  2.1617e-01 -3.0539e-01 -2.0776e+00 -1.1613e-01\n",
      " -1.4650e+00  1.5565e+00  5.0127e-01 -1.6182e+00  3.0863e-01  2.0307e+00\n",
      "  6.2631e+00 -1.5563e+00  4.1003e-01  4.4197e-01 -1.3367e+00  1.0021e+00\n",
      "  5.3483e-01  2.0341e+00 -5.3261e-01 -1.3038e+00 -6.6085e+00 -5.6868e+00\n",
      "  1.5515e+00  6.6542e-01 -1.0951e+00  7.2295e+00 -2.3346e+00 -1.1317e+00\n",
      "  4.5930e-01 -1.5124e+00 -8.5653e-01  1.7597e+00 -6.1261e-02  2.8810e+00\n",
      " -5.3807e+00  2.6587e+00  3.6320e+00 -1.0532e+00  3.4469e+00  2.5928e+00\n",
      "  5.2191e+00  1.0547e+00 -2.8317e+00  1.9085e-01  1.1596e+00 -4.9701e+00\n",
      "  2.2907e+00  6.7052e-01 -7.4891e-04  5.0214e+00 -2.2812e+00 -5.3435e-01\n",
      " -1.2789e+00 -6.1212e-01 -3.6433e-01 -4.7859e-01 -1.8287e+00  2.4672e+00\n",
      " -3.8769e-01 -1.3924e+00 -2.1289e+00  4.7772e-01  2.5839e-01  3.7376e-01\n",
      "  9.6236e-02 -1.8036e+00  2.5516e+00 -1.7054e+00  3.0032e+00 -2.0782e+00\n",
      " -1.7003e+00 -3.6575e+00  2.4663e+00 -2.7056e+00 -2.0104e+00  2.9346e+00\n",
      " -2.3386e-01 -1.1868e+00  2.6620e+00 -1.1154e+00 -7.8072e-02  8.8475e-02]\n"
     ]
    }
   ],
   "source": [
    "#Get the representation of the word \"football\"\n",
    "football = nlp(\"football\")\n",
    "print(football.vector)"
   ]
  },
  {
   "cell_type": "code",
   "execution_count": 14,
   "metadata": {},
   "outputs": [
    {
     "name": "stdout",
     "output_type": "stream",
     "text": [
      "[0. 0. 0. 0. 0. 0. 0. 0. 0. 0. 0. 0. 0. 0. 0. 0. 0. 0. 0. 0. 0. 0. 0. 0.\n",
      " 0. 0. 0. 0. 0. 0. 0. 0. 0. 0. 0. 0. 0. 0. 0. 0. 0. 0. 0. 0. 0. 0. 0. 0.\n",
      " 0. 0. 0. 0. 0. 0. 0. 0. 0. 0. 0. 0. 0. 0. 0. 0. 0. 0. 0. 0. 0. 0. 0. 0.\n",
      " 0. 0. 0. 0. 0. 0. 0. 0. 0. 0. 0. 0. 0. 0. 0. 0. 0. 0. 0. 0. 0. 0. 0. 0.\n",
      " 0. 0. 0. 0. 0. 0. 0. 0. 0. 0. 0. 0. 0. 0. 0. 0. 0. 0. 0. 0. 0. 0. 0. 0.\n",
      " 0. 0. 0. 0. 0. 0. 0. 0. 0. 0. 0. 0. 0. 0. 0. 0. 0. 0. 0. 0. 0. 0. 0. 0.\n",
      " 0. 0. 0. 0. 0. 0. 0. 0. 0. 0. 0. 0. 0. 0. 0. 0. 0. 0. 0. 0. 0. 0. 0. 0.\n",
      " 0. 0. 0. 0. 0. 0. 0. 0. 0. 0. 0. 0. 0. 0. 0. 0. 0. 0. 0. 0. 0. 0. 0. 0.\n",
      " 0. 0. 0. 0. 0. 0. 0. 0. 0. 0. 0. 0. 0. 0. 0. 0. 0. 0. 0. 0. 0. 0. 0. 0.\n",
      " 0. 0. 0. 0. 0. 0. 0. 0. 0. 0. 0. 0. 0. 0. 0. 0. 0. 0. 0. 0. 0. 0. 0. 0.\n",
      " 0. 0. 0. 0. 0. 0. 0. 0. 0. 0. 0. 0. 0. 0. 0. 0. 0. 0. 0. 0. 0. 0. 0. 0.\n",
      " 0. 0. 0. 0. 0. 0. 0. 0. 0. 0. 0. 0. 0. 0. 0. 0. 0. 0. 0. 0. 0. 0. 0. 0.\n",
      " 0. 0. 0. 0. 0. 0. 0. 0. 0. 0. 0. 0.]\n"
     ]
    }
   ],
   "source": [
    "#Get the representation of the word \"frankfurteria\"\n",
    "print(nlp(\"frankfurteria\").vector)"
   ]
  },
  {
   "cell_type": "markdown",
   "metadata": {},
   "source": [
    "As you can see frankfurteria is an Out Of Vocabulary word"
   ]
  },
  {
   "cell_type": "code",
   "execution_count": 15,
   "metadata": {},
   "outputs": [
    {
     "name": "stdout",
     "output_type": "stream",
     "text": [
      "[-3.1629   -3.1202   -7.4355    2.0456    3.106    -6.5774   -1.0831\n",
      "  0.94709  -1.1687    5.7953    5.5645   -4.6643   -5.4402    0.96461\n",
      "  2.1912    0.51625  -0.75889  -1.5105    2.5546   -2.509     1.3466\n",
      "  6.3654   -4.4239   -2.8932   -0.25917  -3.4679   -3.2484   -0.93233\n",
      " -2.4399   -2.6616    0.53275  -3.6233    1.5659   -3.0769    0.82603\n",
      " -1.4037    3.5285    4.5714    1.658     0.5508    2.2067    2.384\n",
      "  0.73987   2.8924   -0.85419   7.1256    0.60995  -2.1295    0.66431\n",
      " -1.2902    0.66103  -0.26514  -2.436    -3.6383   -2.687     1.5177\n",
      " -0.57942   3.0068    4.0719   -3.549    -0.95029  -0.65879   4.4823\n",
      " -0.71096   0.8371    0.41428  -1.395    -3.2068   -0.72123  -0.55326\n",
      "  0.013281  1.0126   -3.0029    1.7261   -2.3534    2.8653   -5.2141\n",
      " -0.79366   3.5933   -0.2678   -3.1179    0.33082  -2.2239   -2.7356\n",
      "  4.5756    1.4715   -0.45533   4.122    -3.2686   -2.6199    2.9321\n",
      "  4.2399    1.0801   -1.426    -2.5624   -1.1255    9.1469   -2.3125\n",
      "  2.7793    1.8332   -2.3348    1.5224    4.4388   -1.0171   -3.248\n",
      "  2.7573   -3.0126   -1.3037    1.6631   -0.25208   0.97484   2.2765\n",
      "  2.6658   -1.1788   -1.6182   -2.5378    0.033424 -2.4109    0.98082\n",
      " -1.5246   -1.0166    1.1401   -3.024     1.7123   -2.252    -3.7996\n",
      " -1.3089    0.31845   5.9697    0.52259  -4.9905    3.7849    2.298\n",
      " -1.6692    0.47046  -3.0381   -3.1293   -2.427    -1.4395   -0.44507\n",
      " -0.16907   0.36412   3.3884   -1.2729    1.4859   -4.0644   -2.5787\n",
      " -0.02745   1.9485    3.878    -0.54483   2.0073   -2.2882   -3.1381\n",
      "  0.09231  -3.7538    1.8295   -1.945    -1.2427   -0.13569  -2.0804\n",
      " -1.0527    0.56821  -1.0542    1.347    -0.65126  -6.5298    2.7084\n",
      " -0.060388  2.9741   -2.0749   -0.87287   0.99978   2.6514    0.27523\n",
      " -1.0576    0.58872  -0.22643   0.30034  -2.7088    0.28796  -1.8948\n",
      " -0.6448   -1.3025   -0.12547  -2.5634    1.9115   -1.8691    0.39854\n",
      "  0.63693  -0.25838   0.74623  -1.0916   -3.1439   -0.30643  -3.1485\n",
      " -2.7701    2.3235    2.3165    3.6057    3.7023   -3.4765   -1.5705\n",
      " -0.74289   0.26513  -5.866     1.1326   -1.8566    1.9083    0.93853\n",
      "  2.5175   -0.67885   2.6634    0.025727  4.5786    2.5061    1.8753\n",
      " -1.2157   -2.1125    1.4334    3.5371   -1.8142   -0.98641  -0.53201\n",
      "  0.54954  -1.539    -1.7013    2.6352    1.3178    3.9195   -2.99\n",
      " -0.6756   -0.95856  -0.61008  -3.8034    0.89712  -1.7446    4.8235\n",
      "  1.7257   -2.9178    1.9455   -0.35588   0.48489  -0.76742   0.9735\n",
      "  2.8793   -1.8781    0.071406  2.1718    1.5282   -1.5609   -0.6588\n",
      "  0.78223  -3.7119    0.2467   -1.7839   -1.451     4.2345   -3.023\n",
      "  0.085783  6.1429    5.5962   -1.937     3.2619    1.2895   -0.11564\n",
      " -3.4803    1.3613   -5.7305    1.107     3.3427   -0.16697  -2.8139\n",
      " -1.746    -0.35577   1.4395   -1.0351    0.97168   0.3363    2.3587\n",
      " -1.5152    1.8074   -0.17178  -3.1872    3.4828   -1.5126   -2.0955\n",
      "  0.22021  -3.2049    0.088117  4.1593    4.6371   -1.5441   -5.5162\n",
      " -1.1403   -2.5506    5.9108   -0.34508  -5.1845   -1.8711  ]\n"
     ]
    }
   ],
   "source": [
    "print(nlp(\"flowers\").vector)"
   ]
  },
  {
   "cell_type": "code",
   "execution_count": 16,
   "metadata": {},
   "outputs": [
    {
     "name": "stdout",
     "output_type": "stream",
     "text": [
      "[-3.1629   -3.1202   -7.4355    2.0456    3.106    -6.5774   -1.0831\n",
      "  0.94709  -1.1687    5.7953    5.5645   -4.6643   -5.4402    0.96461\n",
      "  2.1912    0.51625  -0.75889  -1.5105    2.5546   -2.509     1.3466\n",
      "  6.3654   -4.4239   -2.8932   -0.25917  -3.4679   -3.2484   -0.93233\n",
      " -2.4399   -2.6616    0.53275  -3.6233    1.5659   -3.0769    0.82603\n",
      " -1.4037    3.5285    4.5714    1.658     0.5508    2.2067    2.384\n",
      "  0.73987   2.8924   -0.85419   7.1256    0.60995  -2.1295    0.66431\n",
      " -1.2902    0.66103  -0.26514  -2.436    -3.6383   -2.687     1.5177\n",
      " -0.57942   3.0068    4.0719   -3.549    -0.95029  -0.65879   4.4823\n",
      " -0.71096   0.8371    0.41428  -1.395    -3.2068   -0.72123  -0.55326\n",
      "  0.013281  1.0126   -3.0029    1.7261   -2.3534    2.8653   -5.2141\n",
      " -0.79366   3.5933   -0.2678   -3.1179    0.33082  -2.2239   -2.7356\n",
      "  4.5756    1.4715   -0.45533   4.122    -3.2686   -2.6199    2.9321\n",
      "  4.2399    1.0801   -1.426    -2.5624   -1.1255    9.1469   -2.3125\n",
      "  2.7793    1.8332   -2.3348    1.5224    4.4388   -1.0171   -3.248\n",
      "  2.7573   -3.0126   -1.3037    1.6631   -0.25208   0.97484   2.2765\n",
      "  2.6658   -1.1788   -1.6182   -2.5378    0.033424 -2.4109    0.98082\n",
      " -1.5246   -1.0166    1.1401   -3.024     1.7123   -2.252    -3.7996\n",
      " -1.3089    0.31845   5.9697    0.52259  -4.9905    3.7849    2.298\n",
      " -1.6692    0.47046  -3.0381   -3.1293   -2.427    -1.4395   -0.44507\n",
      " -0.16907   0.36412   3.3884   -1.2729    1.4859   -4.0644   -2.5787\n",
      " -0.02745   1.9485    3.878    -0.54483   2.0073   -2.2882   -3.1381\n",
      "  0.09231  -3.7538    1.8295   -1.945    -1.2427   -0.13569  -2.0804\n",
      " -1.0527    0.56821  -1.0542    1.347    -0.65126  -6.5298    2.7084\n",
      " -0.060388  2.9741   -2.0749   -0.87287   0.99978   2.6514    0.27523\n",
      " -1.0576    0.58872  -0.22643   0.30034  -2.7088    0.28796  -1.8948\n",
      " -0.6448   -1.3025   -0.12547  -2.5634    1.9115   -1.8691    0.39854\n",
      "  0.63693  -0.25838   0.74623  -1.0916   -3.1439   -0.30643  -3.1485\n",
      " -2.7701    2.3235    2.3165    3.6057    3.7023   -3.4765   -1.5705\n",
      " -0.74289   0.26513  -5.866     1.1326   -1.8566    1.9083    0.93853\n",
      "  2.5175   -0.67885   2.6634    0.025727  4.5786    2.5061    1.8753\n",
      " -1.2157   -2.1125    1.4334    3.5371   -1.8142   -0.98641  -0.53201\n",
      "  0.54954  -1.539    -1.7013    2.6352    1.3178    3.9195   -2.99\n",
      " -0.6756   -0.95856  -0.61008  -3.8034    0.89712  -1.7446    4.8235\n",
      "  1.7257   -2.9178    1.9455   -0.35588   0.48489  -0.76742   0.9735\n",
      "  2.8793   -1.8781    0.071406  2.1718    1.5282   -1.5609   -0.6588\n",
      "  0.78223  -3.7119    0.2467   -1.7839   -1.451     4.2345   -3.023\n",
      "  0.085783  6.1429    5.5962   -1.937     3.2619    1.2895   -0.11564\n",
      " -3.4803    1.3613   -5.7305    1.107     3.3427   -0.16697  -2.8139\n",
      " -1.746    -0.35577   1.4395   -1.0351    0.97168   0.3363    2.3587\n",
      " -1.5152    1.8074   -0.17178  -3.1872    3.4828   -1.5126   -2.0955\n",
      "  0.22021  -3.2049    0.088117  4.1593    4.6371   -1.5441   -5.5162\n",
      " -1.1403   -2.5506    5.9108   -0.34508  -5.1845   -1.8711  ]\n"
     ]
    }
   ],
   "source": [
    "#Get the representation of the word \"flowers\"\n",
    "print(nlp(\"flowers\").vector)"
   ]
  },
  {
   "cell_type": "code",
   "execution_count": null,
   "metadata": {},
   "outputs": [],
   "source": []
  },
  {
   "cell_type": "code",
   "execution_count": null,
   "metadata": {},
   "outputs": [],
   "source": []
  }
 ],
 "metadata": {
  "kernelspec": {
   "display_name": "pytorch-env",
   "language": "python",
   "name": "python3"
  },
  "language_info": {
   "codemirror_mode": {
    "name": "ipython",
    "version": 3
   },
   "file_extension": ".py",
   "mimetype": "text/x-python",
   "name": "python",
   "nbconvert_exporter": "python",
   "pygments_lexer": "ipython3",
   "version": "3.9.18"
  }
 },
 "nbformat": 4,
 "nbformat_minor": 2
}
