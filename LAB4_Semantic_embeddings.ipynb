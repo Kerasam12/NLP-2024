{
 "cells": [
  {
   "cell_type": "markdown",
   "metadata": {},
   "source": [
    "# LAB 4 - Semantic Embeddings"
   ]
  },
  {
   "cell_type": "markdown",
   "metadata": {},
   "source": [
    "## Exercise 2"
   ]
  },
  {
   "cell_type": "markdown",
   "metadata": {},
   "source": [
    "### 1. Import spacy library and load the en_core_web_md model\n"
   ]
  },
  {
   "cell_type": "code",
   "execution_count": 11,
   "metadata": {},
   "outputs": [
    {
     "name": "stdout",
     "output_type": "stream",
     "text": [
      "Requirement already satisfied: spacy in c:\\users\\neild\\miniconda3\\envs\\pytorch-env\\lib\\site-packages (3.7.4)\n",
      "Requirement already satisfied: spacy-legacy<3.1.0,>=3.0.11 in c:\\users\\neild\\miniconda3\\envs\\pytorch-env\\lib\\site-packages (from spacy) (3.0.12)\n",
      "Requirement already satisfied: spacy-loggers<2.0.0,>=1.0.0 in c:\\users\\neild\\miniconda3\\envs\\pytorch-env\\lib\\site-packages (from spacy) (1.0.5)\n",
      "Requirement already satisfied: murmurhash<1.1.0,>=0.28.0 in c:\\users\\neild\\miniconda3\\envs\\pytorch-env\\lib\\site-packages (from spacy) (1.0.10)\n",
      "Requirement already satisfied: cymem<2.1.0,>=2.0.2 in c:\\users\\neild\\miniconda3\\envs\\pytorch-env\\lib\\site-packages (from spacy) (2.0.8)\n",
      "Requirement already satisfied: preshed<3.1.0,>=3.0.2 in c:\\users\\neild\\miniconda3\\envs\\pytorch-env\\lib\\site-packages (from spacy) (3.0.9)\n",
      "Requirement already satisfied: thinc<8.3.0,>=8.2.2 in c:\\users\\neild\\miniconda3\\envs\\pytorch-env\\lib\\site-packages (from spacy) (8.2.3)\n",
      "Requirement already satisfied: wasabi<1.2.0,>=0.9.1 in c:\\users\\neild\\miniconda3\\envs\\pytorch-env\\lib\\site-packages (from spacy) (1.1.2)\n",
      "Requirement already satisfied: srsly<3.0.0,>=2.4.3 in c:\\users\\neild\\miniconda3\\envs\\pytorch-env\\lib\\site-packages (from spacy) (2.4.8)\n",
      "Requirement already satisfied: catalogue<2.1.0,>=2.0.6 in c:\\users\\neild\\miniconda3\\envs\\pytorch-env\\lib\\site-packages (from spacy) (2.0.10)\n",
      "Requirement already satisfied: weasel<0.4.0,>=0.1.0 in c:\\users\\neild\\miniconda3\\envs\\pytorch-env\\lib\\site-packages (from spacy) (0.3.4)\n",
      "Requirement already satisfied: typer<0.10.0,>=0.3.0 in c:\\users\\neild\\miniconda3\\envs\\pytorch-env\\lib\\site-packages (from spacy) (0.9.0)\n",
      "Requirement already satisfied: smart-open<7.0.0,>=5.2.1 in c:\\users\\neild\\miniconda3\\envs\\pytorch-env\\lib\\site-packages (from spacy) (6.4.0)\n",
      "Requirement already satisfied: tqdm<5.0.0,>=4.38.0 in c:\\users\\neild\\miniconda3\\envs\\pytorch-env\\lib\\site-packages (from spacy) (4.66.1)\n",
      "Requirement already satisfied: requests<3.0.0,>=2.13.0 in c:\\users\\neild\\miniconda3\\envs\\pytorch-env\\lib\\site-packages (from spacy) (2.31.0)\n",
      "Requirement already satisfied: pydantic!=1.8,!=1.8.1,<3.0.0,>=1.7.4 in c:\\users\\neild\\miniconda3\\envs\\pytorch-env\\lib\\site-packages (from spacy) (2.6.3)\n",
      "Requirement already satisfied: jinja2 in c:\\users\\neild\\miniconda3\\envs\\pytorch-env\\lib\\site-packages (from spacy) (3.1.2)\n",
      "Requirement already satisfied: setuptools in c:\\users\\neild\\miniconda3\\envs\\pytorch-env\\lib\\site-packages (from spacy) (68.0.0)\n",
      "Requirement already satisfied: packaging>=20.0 in c:\\users\\neild\\miniconda3\\envs\\pytorch-env\\lib\\site-packages (from spacy) (23.1)\n",
      "Requirement already satisfied: langcodes<4.0.0,>=3.2.0 in c:\\users\\neild\\miniconda3\\envs\\pytorch-env\\lib\\site-packages (from spacy) (3.3.0)\n",
      "Requirement already satisfied: numpy>=1.19.0 in c:\\users\\neild\\miniconda3\\envs\\pytorch-env\\lib\\site-packages (from spacy) (1.25.2)\n",
      "Requirement already satisfied: annotated-types>=0.4.0 in c:\\users\\neild\\miniconda3\\envs\\pytorch-env\\lib\\site-packages (from pydantic!=1.8,!=1.8.1,<3.0.0,>=1.7.4->spacy) (0.6.0)\n",
      "Requirement already satisfied: pydantic-core==2.16.3 in c:\\users\\neild\\miniconda3\\envs\\pytorch-env\\lib\\site-packages (from pydantic!=1.8,!=1.8.1,<3.0.0,>=1.7.4->spacy) (2.16.3)\n",
      "Requirement already satisfied: typing-extensions>=4.6.1 in c:\\users\\neild\\miniconda3\\envs\\pytorch-env\\lib\\site-packages (from pydantic!=1.8,!=1.8.1,<3.0.0,>=1.7.4->spacy) (4.7.1)\n",
      "Requirement already satisfied: charset-normalizer<4,>=2 in c:\\users\\neild\\miniconda3\\envs\\pytorch-env\\lib\\site-packages (from requests<3.0.0,>=2.13.0->spacy) (2.0.4)\n",
      "Requirement already satisfied: idna<4,>=2.5 in c:\\users\\neild\\miniconda3\\envs\\pytorch-env\\lib\\site-packages (from requests<3.0.0,>=2.13.0->spacy) (2.10)\n",
      "Requirement already satisfied: urllib3<3,>=1.21.1 in c:\\users\\neild\\miniconda3\\envs\\pytorch-env\\lib\\site-packages (from requests<3.0.0,>=2.13.0->spacy) (1.26.16)\n",
      "Requirement already satisfied: certifi>=2017.4.17 in c:\\users\\neild\\miniconda3\\envs\\pytorch-env\\lib\\site-packages (from requests<3.0.0,>=2.13.0->spacy) (2024.2.2)\n",
      "Requirement already satisfied: blis<0.8.0,>=0.7.8 in c:\\users\\neild\\miniconda3\\envs\\pytorch-env\\lib\\site-packages (from thinc<8.3.0,>=8.2.2->spacy) (0.7.11)\n",
      "Requirement already satisfied: confection<1.0.0,>=0.0.1 in c:\\users\\neild\\miniconda3\\envs\\pytorch-env\\lib\\site-packages (from thinc<8.3.0,>=8.2.2->spacy) (0.1.4)\n",
      "Requirement already satisfied: colorama in c:\\users\\neild\\miniconda3\\envs\\pytorch-env\\lib\\site-packages (from tqdm<5.0.0,>=4.38.0->spacy) (0.4.6)\n",
      "Requirement already satisfied: click<9.0.0,>=7.1.1 in c:\\users\\neild\\miniconda3\\envs\\pytorch-env\\lib\\site-packages (from typer<0.10.0,>=0.3.0->spacy) (8.0.4)\n",
      "Requirement already satisfied: cloudpathlib<0.17.0,>=0.7.0 in c:\\users\\neild\\miniconda3\\envs\\pytorch-env\\lib\\site-packages (from weasel<0.4.0,>=0.1.0->spacy) (0.16.0)\n",
      "Requirement already satisfied: MarkupSafe>=2.0 in c:\\users\\neild\\miniconda3\\envs\\pytorch-env\\lib\\site-packages (from jinja2->spacy) (2.1.1)\n"
     ]
    }
   ],
   "source": [
    "# Install spacy library\n",
    "!pip install spacy"
   ]
  },
  {
   "cell_type": "code",
   "execution_count": 12,
   "metadata": {},
   "outputs": [
    {
     "name": "stdout",
     "output_type": "stream",
     "text": [
      "\u001b[38;5;2m✔ Download and installation successful\u001b[0m\n",
      "You can now load the package via spacy.load('en_core_web_md')\n",
      "\u001b[38;5;3m⚠ Restart to reload dependencies\u001b[0m\n",
      "If you are in a Jupyter or Colab notebook, you may need to restart Python in\n",
      "order to load all the package's dependencies. You can do this by selecting the\n",
      "'Restart kernel' or 'Restart runtime' option.\n"
     ]
    }
   ],
   "source": [
    "# Download the English model\n",
    "import spacy\n",
    "\n",
    "spacy.cli.download(\"en_core_web_md\")\n",
    "nlp = spacy.load(\"en_core_web_md\")"
   ]
  },
  {
   "cell_type": "markdown",
   "metadata": {},
   "source": [
    "### 2. Show the word vector for “football”, how long is it?\n"
   ]
  },
  {
   "cell_type": "code",
   "execution_count": 13,
   "metadata": {},
   "outputs": [
    {
     "name": "stdout",
     "output_type": "stream",
     "text": [
      "[-1.8633e+00  4.2826e+00 -7.1575e-01  1.2353e+00  5.4601e+00  6.0244e+00\n",
      " -2.2204e+00  1.7759e+00  2.5588e+00 -2.0682e+00  4.4509e+00 -2.2267e+00\n",
      " -1.6666e+00 -1.0174e+00 -5.0303e+00  2.4880e+00  4.0848e-01  1.0369e+00\n",
      "  3.4916e+00  3.7098e+00  2.2451e+00 -1.1685e+00 -3.2297e-01 -1.6925e+00\n",
      "  8.3621e-01 -2.6654e-02 -3.7525e+00 -4.9996e-01  5.6734e+00  4.7680e+00\n",
      " -3.7574e+00 -1.4604e-01  5.3413e-01 -5.5588e+00  1.1134e+00  3.0370e+00\n",
      "  6.7387e-01  4.8416e+00 -6.9886e+00 -2.4840e+00  9.1392e-01  3.8642e+00\n",
      "  4.7409e+00 -9.1215e-01 -4.7876e-01 -4.5356e-01 -2.5983e+00 -2.6529e+00\n",
      " -6.0445e+00  6.5456e-01  4.5724e+00  4.7130e+00 -8.7298e-01 -2.4036e+00\n",
      "  1.3543e+00 -2.4419e-02 -1.6746e+00  5.0430e+00 -7.3322e-01  3.2873e+00\n",
      " -8.2850e-01 -1.7169e+00 -1.2998e+00 -5.5582e-01  2.4973e+00  8.2000e-01\n",
      " -5.0912e+00  2.9508e+00 -2.6805e+00  1.6948e+00  2.6353e-01 -5.5573e-01\n",
      " -2.5534e+00 -7.1705e-01  2.5999e+00 -3.8282e-01 -3.7611e+00  7.0098e+00\n",
      " -2.3766e+00 -6.6381e-01 -2.1161e+00 -1.0708e+00 -4.1450e+00  5.5648e-01\n",
      " -1.0478e+00 -7.4927e-01 -1.5616e+00 -3.6242e+00 -4.6307e+00 -5.5283e+00\n",
      " -2.4878e+00 -6.7964e-01  1.3264e+00  3.1103e+00  1.8727e+00 -6.0100e-01\n",
      " -2.3472e+00 -3.4874e+00  2.7148e+00 -1.2601e+00 -4.3567e-01 -3.4389e+00\n",
      "  2.3622e+00  3.6503e+00 -2.4575e+00 -1.9796e+00  6.0322e-01  2.0797e+00\n",
      " -1.8035e+00 -4.4274e+00  2.3084e+00 -2.7899e+00  6.9950e-01  3.3448e+00\n",
      " -4.5086e+00  7.8834e-01 -2.8143e+00  3.3563e+00 -7.8754e-01 -3.2590e+00\n",
      "  4.5830e+00 -2.2982e+00 -1.2508e+00 -2.1720e+00 -5.1245e-01 -2.0756e+00\n",
      "  8.4506e-01  1.5893e-01 -5.7844e-01 -4.4434e+00  2.7362e+00  6.6524e-02\n",
      " -2.5928e-01  1.2195e+00  2.6774e+00 -1.6431e+00 -4.1398e-01  4.0217e+00\n",
      "  1.5040e+00 -2.1736e-01 -7.7106e-01 -1.2891e+00  6.4500e-01  3.7351e+00\n",
      "  7.3104e-01  2.1679e+00 -5.7116e+00 -1.0801e+00  3.3084e-01 -1.0152e+00\n",
      " -9.8290e-02 -1.9523e+00  1.6585e-01 -1.4865e+00  1.4558e-01 -5.6613e-01\n",
      "  3.4737e+00  2.0509e+00 -2.4830e+00 -3.3711e+00 -3.9966e+00 -5.0795e+00\n",
      "  4.5775e+00  3.5888e+00  2.6349e+00  5.8074e-01 -8.7132e-01 -9.4111e-01\n",
      " -2.1549e+00 -1.4002e+00 -6.7431e-01  4.9029e+00 -2.4237e-01  2.2813e+00\n",
      " -5.2433e-01 -7.8507e-01 -3.8141e+00 -2.5267e+00  2.0642e+00  1.4272e+00\n",
      " -7.3799e+00 -6.4456e+00 -1.9389e+00 -2.1175e+00 -7.7891e-01  2.0756e+00\n",
      "  1.3366e+00 -5.7490e+00 -9.9230e-01 -2.0835e+00  1.2286e+00 -4.0169e+00\n",
      "  4.9700e-01 -1.6381e+00  6.3388e+00  1.0795e+00 -2.6706e+00  1.6885e+00\n",
      " -1.8698e+00  6.0973e-01  5.5608e+00 -8.6522e-01  1.2979e+00 -5.1440e+00\n",
      "  5.1053e+00  8.0371e-01 -1.5503e+00  2.6159e+00  9.8151e-01  4.4608e+00\n",
      "  6.8809e-02 -6.6254e+00  1.4723e+00  4.8388e-01  4.0586e+00  2.6173e+00\n",
      " -4.4582e+00  6.5946e-01  2.1617e-01 -3.0539e-01 -2.0776e+00 -1.1613e-01\n",
      " -1.4650e+00  1.5565e+00  5.0127e-01 -1.6182e+00  3.0863e-01  2.0307e+00\n",
      "  6.2631e+00 -1.5563e+00  4.1003e-01  4.4197e-01 -1.3367e+00  1.0021e+00\n",
      "  5.3483e-01  2.0341e+00 -5.3261e-01 -1.3038e+00 -6.6085e+00 -5.6868e+00\n",
      "  1.5515e+00  6.6542e-01 -1.0951e+00  7.2295e+00 -2.3346e+00 -1.1317e+00\n",
      "  4.5930e-01 -1.5124e+00 -8.5653e-01  1.7597e+00 -6.1261e-02  2.8810e+00\n",
      " -5.3807e+00  2.6587e+00  3.6320e+00 -1.0532e+00  3.4469e+00  2.5928e+00\n",
      "  5.2191e+00  1.0547e+00 -2.8317e+00  1.9085e-01  1.1596e+00 -4.9701e+00\n",
      "  2.2907e+00  6.7052e-01 -7.4891e-04  5.0214e+00 -2.2812e+00 -5.3435e-01\n",
      " -1.2789e+00 -6.1212e-01 -3.6433e-01 -4.7859e-01 -1.8287e+00  2.4672e+00\n",
      " -3.8769e-01 -1.3924e+00 -2.1289e+00  4.7772e-01  2.5839e-01  3.7376e-01\n",
      "  9.6236e-02 -1.8036e+00  2.5516e+00 -1.7054e+00  3.0032e+00 -2.0782e+00\n",
      " -1.7003e+00 -3.6575e+00  2.4663e+00 -2.7056e+00 -2.0104e+00  2.9346e+00\n",
      " -2.3386e-01 -1.1868e+00  2.6620e+00 -1.1154e+00 -7.8072e-02  8.8475e-02]\n"
     ]
    }
   ],
   "source": [
    "#Get the representation of the word \"football\"\n",
    "football = nlp(\"football\")\n",
    "print(football.vector)"
   ]
  },
  {
   "cell_type": "markdown",
   "metadata": {},
   "source": [
    "### 3. Show the word vector for “frankfurteria”, how long is it?\n",
    "\n",
    "Only words in model’s vocabulary have vectors, the rest are called out-ofvocabulary (OOV)"
   ]
  },
  {
   "cell_type": "code",
   "execution_count": 14,
   "metadata": {},
   "outputs": [
    {
     "name": "stdout",
     "output_type": "stream",
     "text": [
      "[0. 0. 0. 0. 0. 0. 0. 0. 0. 0. 0. 0. 0. 0. 0. 0. 0. 0. 0. 0. 0. 0. 0. 0.\n",
      " 0. 0. 0. 0. 0. 0. 0. 0. 0. 0. 0. 0. 0. 0. 0. 0. 0. 0. 0. 0. 0. 0. 0. 0.\n",
      " 0. 0. 0. 0. 0. 0. 0. 0. 0. 0. 0. 0. 0. 0. 0. 0. 0. 0. 0. 0. 0. 0. 0. 0.\n",
      " 0. 0. 0. 0. 0. 0. 0. 0. 0. 0. 0. 0. 0. 0. 0. 0. 0. 0. 0. 0. 0. 0. 0. 0.\n",
      " 0. 0. 0. 0. 0. 0. 0. 0. 0. 0. 0. 0. 0. 0. 0. 0. 0. 0. 0. 0. 0. 0. 0. 0.\n",
      " 0. 0. 0. 0. 0. 0. 0. 0. 0. 0. 0. 0. 0. 0. 0. 0. 0. 0. 0. 0. 0. 0. 0. 0.\n",
      " 0. 0. 0. 0. 0. 0. 0. 0. 0. 0. 0. 0. 0. 0. 0. 0. 0. 0. 0. 0. 0. 0. 0. 0.\n",
      " 0. 0. 0. 0. 0. 0. 0. 0. 0. 0. 0. 0. 0. 0. 0. 0. 0. 0. 0. 0. 0. 0. 0. 0.\n",
      " 0. 0. 0. 0. 0. 0. 0. 0. 0. 0. 0. 0. 0. 0. 0. 0. 0. 0. 0. 0. 0. 0. 0. 0.\n",
      " 0. 0. 0. 0. 0. 0. 0. 0. 0. 0. 0. 0. 0. 0. 0. 0. 0. 0. 0. 0. 0. 0. 0. 0.\n",
      " 0. 0. 0. 0. 0. 0. 0. 0. 0. 0. 0. 0. 0. 0. 0. 0. 0. 0. 0. 0. 0. 0. 0. 0.\n",
      " 0. 0. 0. 0. 0. 0. 0. 0. 0. 0. 0. 0. 0. 0. 0. 0. 0. 0. 0. 0. 0. 0. 0. 0.\n",
      " 0. 0. 0. 0. 0. 0. 0. 0. 0. 0. 0. 0.]\n"
     ]
    }
   ],
   "source": [
    "#Get the representation of the word \"frankfurteria\"\n",
    "\n",
    "frank\n",
    "\n",
    "print(nlp(\"frankfurteria\").vector, len)"
   ]
  },
  {
   "cell_type": "markdown",
   "metadata": {},
   "source": [
    "As you can see frankfurteria is an Out Of Vocabulary word"
   ]
  },
  {
   "cell_type": "markdown",
   "metadata": {},
   "source": [
    "###  4. Check whether the word “flowers” is in the model vocabulary\n"
   ]
  },
  {
   "cell_type": "code",
   "execution_count": 27,
   "metadata": {},
   "outputs": [
    {
     "name": "stdout",
     "output_type": "stream",
     "text": [
      "True\n"
     ]
    }
   ],
   "source": [
    "# Check whether the word \"flowers\" is in the vocabulary\n",
    "print(\"flowers\" in nlp.vocab.strings)\n",
    "\n",
    "#Get the representation of the word \"flowers\"\n",
    "#print(nlp(\"flowers\").vector)"
   ]
  },
  {
   "cell_type": "code",
   "execution_count": 17,
   "metadata": {},
   "outputs": [
    {
     "name": "stdout",
     "output_type": "stream",
     "text": [
      "['Football', 'is', 'a', 'great', 'sport']\n"
     ]
    }
   ],
   "source": [
    "from nltk import word_tokenize\n",
    "sentence = \"Football is a great sport \"\n",
    "tok_sent = word_tokenize(sentence)\n",
    "print(tok_sent)"
   ]
  },
  {
   "cell_type": "code",
   "execution_count": 25,
   "metadata": {},
   "outputs": [
    {
     "data": {
      "text/plain": [
       "array([-0.627118  ,  2.986326  , -2.07868   , -0.14277804,  4.8246202 ,\n",
       "        1.05336   , -0.15930007,  3.9424198 ,  0.403222  , -0.3256761 ,\n",
       "        9.86448   , -0.70506996, -2.4647799 , -0.44493204, -0.20754394,\n",
       "        6.27648   ,  2.308614  ,  3.328638  ,  0.59304   ,  2.1084442 ,\n",
       "        1.256616  , -0.72904   , -2.327992  ,  0.178924  , -1.0249599 ,\n",
       "       -0.66361797, -2.63138   , -2.005578  ,  0.20743999,  0.47810602,\n",
       "       -1.1414001 ,  1.29128   , -1.4760002 , -1.98671   , -1.3974241 ,\n",
       "        4.8594823 ,  0.45134997,  1.2118399 ,  0.3723401 , -2.70145   ,\n",
       "       -1.396516  ,  3.7277198 ,  1.584082  , -0.70214   , -2.290242  ,\n",
       "        2.4136198 ,  3.0021443 , -3.6821818 , -1.8240879 ,  1.7877319 ,\n",
       "        0.40824395,  0.78881204,  2.729428  , -3.82346   ,  1.392914  ,\n",
       "       -0.87467605,  1.476174  ,  0.97332   , -1.88416   ,  0.9316801 ,\n",
       "        3.427246  , -1.7070881 , -0.12384   , -1.1805999 , -1.094578  ,\n",
       "        1.3526939 , -3.6883998 , -5.3641996 ,  2.520658  ,  2.770638  ,\n",
       "       -0.92465436,  4.64414   , -6.0251203 , -0.78196996, -0.02647798,\n",
       "        2.150298  , -3.47756   ,  5.74812   , -3.7472908 , -0.9868    ,\n",
       "       -6.06982   , -2.5494962 ,  0.21887001, -1.606024  ,  0.09537601,\n",
       "        0.10936995, -1.35554   , -1.856052  ,  3.1740258 , -3.63516   ,\n",
       "       -1.2384101 , -4.0465994 ,  0.9511801 , -5.2440796 , -0.21130796,\n",
       "       -2.2423282 , -0.58253795, -2.08176   , -0.7782961 , -3.5316799 ,\n",
       "       -0.37661004, -1.49911   ,  4.97082   ,  7.50308   , -0.501456  ,\n",
       "        5.042698  , -0.487436  ,  1.064604  , -2.8829038 , -0.02435017,\n",
       "        1.333696  ,  1.95528   , -1.8359798 ,  4.6090336 , -1.6803579 ,\n",
       "       -1.11584   , -4.2943    ,  1.4404058 ,  0.84293395,  0.624066  ,\n",
       "       -0.8875119 , -1.51248   ,  0.58207595,  4.60458   , -2.6727598 ,\n",
       "       -6.0074058 , -2.5442843 , -2.0393841 ,  3.8935401 , -2.907984  ,\n",
       "       -0.56534004,  0.96456206,  5.776046  , -4.5929017 ,  0.57300603,\n",
       "        0.603416  ,  2.7515204 ,  0.54664004,  3.19568   , -1.3365599 ,\n",
       "       -1.7057041 ,  0.6609    ,  2.0985122 ,  4.36123   ,  1.0888741 ,\n",
       "        1.4195801 , -4.89142   , -0.72602   , -2.64266   ,  4.32586   ,\n",
       "        1.99389   ,  3.9040642 ,  1.6005218 ,  0.80215997,  1.0013059 ,\n",
       "        2.0601602 ,  5.88048   ,  3.4479358 , -0.43570805, -1.031858  ,\n",
       "       -2.818596  , -3.140109  ,  4.61806   ,  2.6725101 , -2.8597481 ,\n",
       "       -0.61515397, -4.1261597 ,  3.3186398 ,  1.2567542 , -1.556488  ,\n",
       "        3.2387722 , -0.692234  ,  2.4457078 ,  2.8847802 ,  1.1569719 ,\n",
       "       -3.2917418 , -0.56431997, -0.5537301 , -0.72012985,  0.5759999 ,\n",
       "       -4.68994   ,  1.826128  ,  1.5734202 , -2.8859901 , -3.8698602 ,\n",
       "        2.01642   , -2.391294  , -3.05142   , -1.3773199 ,  2.9765003 ,\n",
       "       -0.81237495, -1.0853939 ,  1.2020199 , -1.3867891 ,  4.42344   ,\n",
       "        1.059088  , -3.9158401 , -1.58854   ,  1.435322  , -2.978182  ,\n",
       "        2.7884157 , -1.9950581 , -4.29512   , -5.2193403 ,  1.4757999 ,\n",
       "        1.27803   , -6.1017036 ,  3.0258203 , -1.2859439 , -0.7087079 ,\n",
       "        3.24569   ,  1.36606   , -0.19619426,  1.6496599 ,  2.8845878 ,\n",
       "        0.73848194, -0.26540393, -2.6038601 , -1.40518   , -1.033388  ,\n",
       "       -2.5906417 , -0.9872619 ,  1.3006761 , -0.1317801 ,  0.5217567 ,\n",
       "       -1.0148201 ,  0.67756003,  0.6267164 ,  5.2791996 , -1.3987    ,\n",
       "        2.1974041 , -4.8515577 ,  0.66746   ,  3.8388658 , -3.4356117 ,\n",
       "        0.6612264 , -1.0781701 , -1.3144562 , -1.44842   ,  0.424688  ,\n",
       "        2.2672698 ,  0.66201   ,  2.6247258 ,  4.986824  , -2.2836719 ,\n",
       "       -1.05702   , -2.55458   , -0.22526005,  0.298076  ,  2.571603  ,\n",
       "       -0.23386002,  0.19392398, -5.6097198 , -2.382216  ,  0.426266  ,\n",
       "       -1.5433459 ,  2.6174421 ,  4.07518   ,  2.5856402 , -0.52467805,\n",
       "       -2.3582082 ,  2.96131   ,  2.82714   ,  4.34508   , -1.2271559 ,\n",
       "        1.326474  , -1.5523001 ,  2.427384  , -4.3993597 , -0.17722006,\n",
       "        4.5706196 , -2.275542  , -0.16641195, -2.862716  ,  0.5027799 ,\n",
       "        0.79944   ,  2.15102   ,  2.29552   , -1.3937778 , -1.09368   ,\n",
       "        1.508816  , -3.375092  , -2.427752  , -0.992659  ,  7.05754   ,\n",
       "       -0.07641196,  3.51912   , -0.13668403, -2.56306   ,  1.9427601 ,\n",
       "        0.76902   , -0.74228007,  1.602906  ,  1.3250601 , -1.117224  ,\n",
       "        1.9765482 ,  0.63135993, -0.727106  , -2.9633138 ,  3.307632  ],\n",
       "      dtype=float32)"
      ]
     },
     "execution_count": 25,
     "metadata": {},
     "output_type": "execute_result"
    }
   ],
   "source": [
    "sent_vec = nlp(sentence).vector\n",
    "sent_vec"
   ]
  },
  {
   "cell_type": "code",
   "execution_count": 24,
   "metadata": {},
   "outputs": [
    {
     "data": {
      "text/plain": [
       "300"
      ]
     },
     "execution_count": 24,
     "metadata": {},
     "output_type": "execute_result"
    }
   ],
   "source": [
    "#Even the sentence have many words, the length is 300 because they do the average of the vectors of all the sentence \n",
    "len(sent_vec)"
   ]
  },
  {
   "cell_type": "code",
   "execution_count": null,
   "metadata": {},
   "outputs": [],
   "source": [
    "utt1 = \"I visited Scotland\"\n",
    "utt2 = \"I went to Edinburgh\"\n",
    "utt1_vec = nlp(utt1).vector\n",
    "utt2_vec = nlp(utt2).vector\n",
    "\n"
   ]
  }
 ],
 "metadata": {
  "kernelspec": {
   "display_name": "pytorch-env",
   "language": "python",
   "name": "python3"
  },
  "language_info": {
   "codemirror_mode": {
    "name": "ipython",
    "version": 3
   },
   "file_extension": ".py",
   "mimetype": "text/x-python",
   "name": "python",
   "nbconvert_exporter": "python",
   "pygments_lexer": "ipython3",
   "version": "3.9.18"
  }
 },
 "nbformat": 4,
 "nbformat_minor": 2
}
