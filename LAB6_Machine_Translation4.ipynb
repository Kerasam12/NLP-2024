{
 "cells": [
  {
   "cell_type": "markdown",
   "metadata": {},
   "source": [
    "# LAB 6: Machine Translation. Italian to English with Seq2Seq RNNs with attention mechanism."
   ]
  },
  {
   "cell_type": "markdown",
   "metadata": {},
   "source": [
    "### Objectives:\n",
    "1. Understand the seq2seq model architecture.\n",
    "2. Understand the attention mechanism.\n",
    "3. Implement a seq2seq model with attention mechanism for machine translation.\n",
    "4. Train the model on a Italian to English translation dataset.\n",
    "5. Translate Italian sentences to English.\n",
    "6. Evaluate the model using quantitative and qualitative evaluation methods."
   ]
  },
  {
   "cell_type": "markdown",
   "metadata": {},
   "source": [
    "#### Importing Required Libraries\n"
   ]
  },
  {
   "cell_type": "code",
   "execution_count": 75,
   "metadata": {
    "collapsed": false
   },
   "outputs": [],
   "source": [
    "%matplotlib inline\n",
    "\n",
    "from __future__ import unicode_literals, print_function, division\n",
    "from io import open\n",
    "import unicodedata\n",
    "import re\n",
    "import random\n",
    "import torch.optim as optim\n",
    "from tqdm import tqdm\n",
    "\n",
    "\n",
    "import torch\n",
    "import torch.nn as nn\n",
    "from torch import optim\n",
    "import torch.nn.functional as F\n",
    "\n",
    "\n",
    "from sklearn.model_selection import train_test_split\n",
    "import numpy as np\n",
    "from torch.utils.data import TensorDataset, DataLoader, RandomSampler\n",
    "\n",
    "device = torch.device(\"cuda\" if torch.cuda.is_available() else \"cpu\")"
   ]
  },
  {
   "cell_type": "markdown",
   "metadata": {},
   "source": [
    "## Data and SetUp"
   ]
  },
  {
   "cell_type": "markdown",
   "metadata": {},
   "source": [
    "#### Set Up Wandb for Experiment Tracking"
   ]
  },
  {
   "cell_type": "code",
   "execution_count": 76,
   "metadata": {},
   "outputs": [
    {
     "data": {
      "text/html": [
       "Finishing last run (ID:h2b751en) before initializing another..."
      ],
      "text/plain": [
       "<IPython.core.display.HTML object>"
      ]
     },
     "metadata": {},
     "output_type": "display_data"
    },
    {
     "data": {
      "application/vnd.jupyter.widget-view+json": {
       "model_id": "fd1117f403814e15a393158cb703e1a6",
       "version_major": 2,
       "version_minor": 0
      },
      "text/plain": [
       "VBox(children=(Label(value='0.006 MB of 0.006 MB uploaded\\r'), FloatProgress(value=1.0, max=1.0)))"
      ]
     },
     "metadata": {},
     "output_type": "display_data"
    },
    {
     "data": {
      "text/html": [
       " View run <strong style=\"color:#cdcd00\">trial_2</strong> at: <a href='https://wandb.ai/nlp_2024/Machine_Translation/runs/h2b751en' target=\"_blank\">https://wandb.ai/nlp_2024/Machine_Translation/runs/h2b751en</a><br/> View project at: <a href='https://wandb.ai/nlp_2024/Machine_Translation' target=\"_blank\">https://wandb.ai/nlp_2024/Machine_Translation</a><br/>Synced 6 W&B file(s), 0 media file(s), 0 artifact file(s) and 0 other file(s)"
      ],
      "text/plain": [
       "<IPython.core.display.HTML object>"
      ]
     },
     "metadata": {},
     "output_type": "display_data"
    },
    {
     "data": {
      "text/html": [
       "Find logs at: <code>./wandb/run-20240414_003339-h2b751en/logs</code>"
      ],
      "text/plain": [
       "<IPython.core.display.HTML object>"
      ]
     },
     "metadata": {},
     "output_type": "display_data"
    },
    {
     "data": {
      "text/html": [
       "Successfully finished last run (ID:h2b751en). Initializing new run:<br/>"
      ],
      "text/plain": [
       "<IPython.core.display.HTML object>"
      ]
     },
     "metadata": {},
     "output_type": "display_data"
    },
    {
     "data": {
      "application/vnd.jupyter.widget-view+json": {
       "model_id": "498fb35dec944e31af0a17da4547aa04",
       "version_major": 2,
       "version_minor": 0
      },
      "text/plain": [
       "VBox(children=(Label(value='Waiting for wandb.init()...\\r'), FloatProgress(value=0.011112515969822804, max=1.0…"
      ]
     },
     "metadata": {},
     "output_type": "display_data"
    },
    {
     "data": {
      "text/html": [
       "Tracking run with wandb version 0.16.6"
      ],
      "text/plain": [
       "<IPython.core.display.HTML object>"
      ]
     },
     "metadata": {},
     "output_type": "display_data"
    },
    {
     "data": {
      "text/html": [
       "Run data is saved locally in <code>/export/hhome/nlp2_g09/NLP-2024/wandb/run-20240414_003704-9vg3pqsq</code>"
      ],
      "text/plain": [
       "<IPython.core.display.HTML object>"
      ]
     },
     "metadata": {},
     "output_type": "display_data"
    },
    {
     "data": {
      "text/html": [
       "Syncing run <strong><a href='https://wandb.ai/nlp_2024/Machine_Translation/runs/9vg3pqsq' target=\"_blank\">trial_2</a></strong> to <a href='https://wandb.ai/nlp_2024/Machine_Translation' target=\"_blank\">Weights & Biases</a> (<a href='https://wandb.me/run' target=\"_blank\">docs</a>)<br/>"
      ],
      "text/plain": [
       "<IPython.core.display.HTML object>"
      ]
     },
     "metadata": {},
     "output_type": "display_data"
    },
    {
     "data": {
      "text/html": [
       " View project at <a href='https://wandb.ai/nlp_2024/Machine_Translation' target=\"_blank\">https://wandb.ai/nlp_2024/Machine_Translation</a>"
      ],
      "text/plain": [
       "<IPython.core.display.HTML object>"
      ]
     },
     "metadata": {},
     "output_type": "display_data"
    },
    {
     "data": {
      "text/html": [
       " View run at <a href='https://wandb.ai/nlp_2024/Machine_Translation/runs/9vg3pqsq' target=\"_blank\">https://wandb.ai/nlp_2024/Machine_Translation/runs/9vg3pqsq</a>"
      ],
      "text/plain": [
       "<IPython.core.display.HTML object>"
      ]
     },
     "metadata": {},
     "output_type": "display_data"
    },
    {
     "data": {
      "text/html": [
       "<button onClick=\"this.nextSibling.style.display='block';this.style.display='none';\">Display W&B run</button><iframe src='https://wandb.ai/nlp_2024/Machine_Translation/runs/9vg3pqsq?jupyter=true' style='border:none;width:100%;height:420px;display:none;'></iframe>"
      ],
      "text/plain": [
       "<wandb.sdk.wandb_run.Run at 0x7f76ac741310>"
      ]
     },
     "execution_count": 76,
     "metadata": {},
     "output_type": "execute_result"
    }
   ],
   "source": [
    "import wandb\n",
    "wandb.init(project=\"Machine_Translation\", entity=\"nlp_2024\", name=\"trial_2\")"
   ]
  },
  {
   "cell_type": "markdown",
   "metadata": {},
   "source": [
    "#### Data\n",
    "\n",
    "Data can be found in our [github](https://github.com/Neilus03/NLP-2024/blob/main/data/eng-ita.txt).\n",
    "\n",
    "The dataset is a txt file that looks like this:\n",
    "\n",
    "```\n",
    "I haven't eaten pizza recently. Io non ho mangiato della pizza di recente.\n",
    "I haven't figured that out yet.\tNon l'ho ancora capito.\n",
    "Hello! Ciao!\n",
    "I saw you in the park with Tom.\tL'ho vista al parco con Tom.\n",
    "```\n",
    "\n"
   ]
  },
  {
   "cell_type": "markdown",
   "metadata": {},
   "source": [
    "#### Creating the Lang Class"
   ]
  },
  {
   "cell_type": "code",
   "execution_count": 77,
   "metadata": {
    "collapsed": false
   },
   "outputs": [],
   "source": [
    "\n",
    "\n",
    "# Define the start-of-sequence (SOS) and end-of-sequence (EOS) tokens\n",
    "SOS_token = 0\n",
    "EOS_token = 1\n",
    "\n",
    "# Define the language class\n",
    "class Lang:\n",
    "    '''\n",
    "    Lang class to store the language vocabulary and word-to-index & index-to-word mappings.\n",
    "    It also stores the count of each word in the vocabulary\n",
    "    '''\n",
    "    def __init__(self, language):\n",
    "        self.language = language\n",
    "        self.word2index = {}  # dictionary to map words to indices\n",
    "        self.word2count = {}  # dictionary to count the occurrences of each word\n",
    "        self.index2word = {0: \"SOS\", 1: \"EOS\"}  # dictionary to map indices to words\n",
    "        self.n_words = 2  # Count SOS and EOS tokens (initially 2)\n",
    "\n",
    "    def addSentence(self, sentence):\n",
    "        # Add each word in the sentence to the language\n",
    "        for word in sentence.split(' '):\n",
    "            self.addWord(word)\n",
    "\n",
    "    def addWord(self, word):\n",
    "        # Add a word to the language\n",
    "        if word not in self.word2index:\n",
    "            # If the word is not already in the dictionary, add it\n",
    "            self.word2index[word] = self.n_words\n",
    "            self.word2count[word] = 1\n",
    "            self.index2word[self.n_words] = word\n",
    "            self.n_words += 1\n",
    "        else:\n",
    "            # If the word is already in the dictionary, increment its count\n",
    "            self.word2count[word] += 1"
   ]
  },
  {
   "cell_type": "markdown",
   "metadata": {},
   "source": [
    "#### Preprocessing the Data a little bit"
   ]
  },
  {
   "cell_type": "code",
   "execution_count": 78,
   "metadata": {
    "collapsed": false
   },
   "outputs": [],
   "source": [
    "def unicodeToAscii(unicode_string):\n",
    "    # Convert unicode characters to ASCII\n",
    "    ascii_string = ''\n",
    "    for c in unicodedata.normalize('NFD', unicode_string): # NFD = Normalization Form Canonical Decomposition\n",
    "        if unicodedata.category(c) != 'Mn': # Mn = Nonspacing_Mark\n",
    "            ascii_string += c\n",
    "    return ascii_string\n",
    "\n",
    "\n",
    "def normalizeString(s):\n",
    "    # Normalize the string by:\n",
    "    \n",
    "    # converting to lowercase,\n",
    "    s = unicodeToAscii(s.lower().strip())\n",
    "    #removing accents \n",
    "    s = re.sub(r\"([.!?])\", r\" \\1\", s)\n",
    "    #replacing non-alphabetic characters with spaces\n",
    "    s = re.sub(r\"[^a-zA-Z!?]+\", r\" \", s)\n",
    "    #removing extra spaces\n",
    "    return s.strip()\n"
   ]
  },
  {
   "cell_type": "markdown",
   "metadata": {},
   "source": [
    "#### Create read_data function, which reads the data from the file and returns the input and target language pairs."
   ]
  },
  {
   "cell_type": "code",
   "execution_count": 79,
   "metadata": {
    "collapsed": false
   },
   "outputs": [],
   "source": [
    "def read_data(lang1, lang2, reverse=True, verbose=False):\n",
    "    '''\n",
    "    Read the data file, split the file into lines and split\n",
    "    lines into pairs. the `reverse` flag is used to translate from italian\n",
    "    to english instaed of the default english to italian\n",
    "    '''\n",
    "    if verbose:\n",
    "        print(\"Opening Data\")\n",
    "    # Read the file and split into lines\n",
    "    lines = open('data/%s-%s.txt' % (lang1, lang2), encoding='utf-8').\\\n",
    "        read().strip().split('\\n')\n",
    "\n",
    "    # Split every line into pairs and normalize\n",
    "    pairs = [[normalizeString(s) for s in l.split('\\t')] for l in lines]\n",
    "\n",
    "    # Create Lang instances\n",
    "    input_lang = Lang(lang1) if not reverse else Lang(lang2)\n",
    "    output_lang = Lang(lang2) if not reverse else Lang(lang1)\n",
    "    \n",
    "    # Leave pairs as they are if not reverse, otherwise reverse the pairs\n",
    "    pairs = [list(reversed(p)) for p in pairs] if reverse else pairs\n",
    "\n",
    "    # Return the language vocabulary and the pairs\n",
    "    return input_lang, output_lang, pairs"
   ]
  },
  {
   "cell_type": "markdown",
   "metadata": {},
   "source": [
    "#### Example usage of the read_data function, and how the data looks like."
   ]
  },
  {
   "cell_type": "code",
   "execution_count": 80,
   "metadata": {},
   "outputs": [
    {
     "name": "stdout",
     "output_type": "stream",
     "text": [
      "['io non ho mai visto tom da queste parti', 'i ve never seen tom around here'] ita eng\n",
      "['i m sorry but i already have plans for this evening', 'mi dispiace pero ho gia dei piani per stasera'] eng ita\n"
     ]
    }
   ],
   "source": [
    "#Example usage of the read_data \n",
    "input_lang, output_lang, pairs = read_data('eng', 'ita', reverse=True, verbose=False)\n",
    "print(random.choice(pairs), input_lang.language, output_lang.language)\n",
    "input_lang, output_lang, pairs = read_data('eng', 'ita', False, verbose=False)\n",
    "print(random.choice(pairs), input_lang.language, output_lang.language)"
   ]
  },
  {
   "cell_type": "markdown",
   "metadata": {},
   "source": [
    "#### Trim the dataset to contain only 10000 examples and only phrases with less than 10 words.\n",
    "This is done to reduce the training time and to make the model learn faster.\n",
    "If you have a better GPU, you can increase the number of examples and the length of the phrases,\n",
    "sadly we are GPU-Poor hahaha, maybe Dani and Joan can grab some from the CVC."
   ]
  },
  {
   "cell_type": "code",
   "execution_count": 81,
   "metadata": {
    "collapsed": false
   },
   "outputs": [],
   "source": [
    "MAX_LENGTH = 10\n",
    "MAX_PAIRS = 100000\n",
    "\n",
    "def filterPair(p):\n",
    "    return (len(p[0].split(' ')) and len(p[1].split(' '))) < MAX_LENGTH\n",
    "\n",
    "\n",
    "def trim_dataset(pairs):\n",
    "    # Filter pairs using the filterPair condition and choosing 100000 random pairs\n",
    "    pairs = [pair for pair in pairs if filterPair(pair)]\n",
    "    return random.sample(pairs, MAX_PAIRS)\n"
   ]
  },
  {
   "cell_type": "markdown",
   "metadata": {},
   "source": [
    "The full process for preparing the data is:\n",
    "\n",
    "-   Read text file and split into lines, split lines into pairs\n",
    "-   Normalize text, filter by length and content\n",
    "-   Make word lists from sentences in pairs\n"
   ]
  },
  {
   "cell_type": "code",
   "execution_count": 82,
   "metadata": {
    "collapsed": false
   },
   "outputs": [
    {
     "name": "stdout",
     "output_type": "stream",
     "text": [
      "Opening Data\n",
      "Read all the 345244 sentence pairs in the dataset\n",
      "Trimmed to 100000 sentence pairs using the trim_dataset function\n",
      "There are 9312 words in eng and 17101 words in ita\n",
      "['tell us about your new book', 'ci dica del suo nuovo libro']\n"
     ]
    }
   ],
   "source": [
    "def prepare_data(lang1, lang2, reverse=False):\n",
    "    ''''\n",
    "    Prepare the data for training by reading the data, filtering the pairs and counting the words\n",
    "    Returns the input and output language instances and the processed pairs\n",
    "    '''\n",
    "    # Read the data\n",
    "    input_lang, output_lang, pairs = read_data(lang1, lang2, reverse, verbose=True)\n",
    "    print(\"Read all the %s sentence pairs in the dataset\" % len(pairs))\n",
    "    # Filter the pairs\n",
    "    pairs = trim_dataset(pairs)\n",
    "    print(\"Trimmed to %s sentence pairs using the trim_dataset function\" % len(pairs))\n",
    "\n",
    "    for pair in pairs:\n",
    "        input_lang.addSentence(pair[0])\n",
    "        output_lang.addSentence(pair[1])\n",
    "    print(f\"There are {input_lang.n_words} words in {input_lang.language} and {output_lang.n_words} words in {output_lang.language}\")\n",
    "\n",
    "    return input_lang, output_lang, pairs\n",
    "\n",
    "input_lang, output_lang, pairs = prepare_data('eng', 'ita')\n",
    "print(random.choice(pairs))"
   ]
  },
  {
   "cell_type": "markdown",
   "metadata": {},
   "source": [
    "## The Seq2Seq Model\n",
    "\n",
    "The model is composed of an encoder and a decoder. The encoder reads the input sequence and outputs a context vector for each word in the input sequence. The decoder reads the context vector and generates the output sequence, hopefully translating the input sequence to the output sequence."
   ]
  },
  {
   "cell_type": "markdown",
   "metadata": {},
   "source": [
    "![](https://www.guru99.com/images/1/111318_0848_seq2seqSequ1.png)"
   ]
  },
  {
   "cell_type": "markdown",
   "metadata": {},
   "source": [
    "### Encoder\n",
    "The encoder of a seq2seq network is a RNN, in our case we'll use a GRU for the sake of simplicity.\n",
    "This GRU encoder outputs a vector and a hidden state, and uses the hidden state for the\n",
    "next input word.\n"
   ]
  },
  {
   "cell_type": "code",
   "execution_count": 83,
   "metadata": {
    "collapsed": false
   },
   "outputs": [],
   "source": [
    "class EncoderRNN(nn.Module):\n",
    "    '''\n",
    "    EncoderRNN class to encode the input language, it uses an embedding layer and a GRU layer\n",
    "    basically it encodes the input language into a hidden state.\n",
    "    '''\n",
    "    def __init__(self, input_size, hidden_size, dropout_p=0.1):\n",
    "        super(EncoderRNN, self).__init__()\n",
    "        self.hidden_size = hidden_size\n",
    "\n",
    "        #Embedding layer to convert words to vectors of fixed size\n",
    "        self.embedding = nn.Embedding(input_size, hidden_size)\n",
    "        \n",
    "        #GRU layer to encode the input language\n",
    "        self.gru = nn.GRU(hidden_size, hidden_size, batch_first=True)\n",
    "        \n",
    "        \n",
    "        #Dropout layer to prevent overfitting\n",
    "        self.dropout = nn.Dropout(dropout_p)\n",
    "\n",
    "    def forward(self, input):\n",
    "        '''Forward pass of the encoder'''\n",
    "        #Convert the input to embeddings and apply dropout\n",
    "        embedded = self.dropout(self.embedding(input))\n",
    "        #Pass the embeddings through the GRU layer and get the output and hidden state\n",
    "        output, hidden = self.gru(embedded)\n",
    "        return output, hidden"
   ]
  },
  {
   "cell_type": "markdown",
   "metadata": {},
   "source": [
    "#### Example usage of the EncoderRNN"
   ]
  },
  {
   "cell_type": "code",
   "execution_count": 84,
   "metadata": {},
   "outputs": [
    {
     "name": "stdout",
     "output_type": "stream",
     "text": [
      "Input Tensor Shape: torch.Size([1, 10])\n",
      "----------------------------------------------------------------------------------------------------\n",
      "Output Shape: torch.Size([1, 10, 256])\n",
      "Encoder Output: tensor([[[ 0.0573, -0.1011,  0.0460,  ..., -0.2050,  0.1951, -0.1247],\n",
      "         [-0.0473,  0.2868,  0.1323,  ..., -0.3563, -0.3117, -0.2169],\n",
      "         [ 0.1121,  0.3612,  0.5697,  ..., -0.4388, -0.0384, -0.4310],\n",
      "         ...,\n",
      "         [ 0.1316, -0.0138,  0.2935,  ..., -0.1281, -0.0220,  0.0770],\n",
      "         [ 0.0093,  0.0268,  0.6018,  ..., -0.3848, -0.0669,  0.1513],\n",
      "         [ 0.0386,  0.2901,  0.3949,  ...,  0.4111, -0.3788, -0.0496]]],\n",
      "       grad_fn=<TransposeBackward1>)\n",
      "----------------------------------------------------------------------------------------------------\n",
      "Hidden Shape: torch.Size([1, 1, 256])\n",
      "Encoder Hidden: tensor([[[ 0.0386,  0.2901,  0.3949,  0.2413,  0.2485,  0.0301,  0.4473,\n",
      "          -0.0072, -0.0042, -0.0468, -0.2241,  0.1358, -0.1657,  0.2476,\n",
      "           0.2848,  0.1669, -0.3465,  0.2554, -0.4131, -0.6477, -0.3320,\n",
      "          -0.2593,  0.4181,  0.0991,  0.1573, -0.5024,  0.3916, -0.1655,\n",
      "           0.2557,  0.2240, -0.2117, -0.2902,  0.1591, -0.3174, -0.4625,\n",
      "          -0.0416, -0.5439,  0.3676,  0.5294,  0.3319,  0.3702, -0.0558,\n",
      "           0.2135,  0.4967,  0.0530, -0.0171, -0.3655, -0.2292,  0.3790,\n",
      "           0.5669, -0.3589, -0.0419,  0.1142,  0.2823,  0.1252,  0.0330,\n",
      "          -0.4608,  0.3107,  0.1211, -0.6694,  0.4129,  0.3671, -0.1630,\n",
      "          -0.4642, -0.1177, -0.4626,  0.5234,  0.2568,  0.3366, -0.2444,\n",
      "          -0.0267, -0.3403,  0.4929,  0.1427,  0.5240, -0.3999,  0.3141,\n",
      "          -0.2161,  0.3760, -0.2958, -0.2893, -0.0660, -0.2780,  0.1416,\n",
      "          -0.5645,  0.3016, -0.2221,  0.0489,  0.4520,  0.5503, -0.6411,\n",
      "           0.1890,  0.2110,  0.1450, -0.1389,  0.0775,  0.6911, -0.5653,\n",
      "          -0.3133, -0.1957,  0.2002, -0.0940,  0.3964, -0.5558, -0.3014,\n",
      "           0.1353, -0.3417,  0.2919,  0.0148,  0.0272,  0.5957, -0.0325,\n",
      "           0.1006, -0.5316, -0.2854, -0.0024,  0.3168,  0.0975,  0.1984,\n",
      "           0.0189,  0.0958,  0.4582,  0.0214, -0.1295, -0.0545,  0.0029,\n",
      "          -0.0533,  0.1254,  0.4875, -0.2687, -0.2540, -0.1334,  0.0080,\n",
      "          -0.1242,  0.1371,  0.5317, -0.3472, -0.0620, -0.0081,  0.1501,\n",
      "           0.2770, -0.4514, -0.1177, -0.0574,  0.0770,  0.3144,  0.0946,\n",
      "           0.1172,  0.3661, -0.1747,  0.2203,  0.0377, -0.5198, -0.4931,\n",
      "           0.2523, -0.3079, -0.1491, -0.3684, -0.1768,  0.5110, -0.5923,\n",
      "           0.0736,  0.4861, -0.3031,  0.0616,  0.1992,  0.3587,  0.1772,\n",
      "           0.1392, -0.0015,  0.2632,  0.4218, -0.0846, -0.1766, -0.1994,\n",
      "           0.3871, -0.2623,  0.0608, -0.1498, -0.0681,  0.4246,  0.2470,\n",
      "          -0.0036,  0.2474, -0.1005, -0.3676, -0.1232, -0.1146,  0.4684,\n",
      "          -0.3574, -0.4280,  0.5170,  0.3163, -0.3491,  0.1467, -0.3666,\n",
      "           0.1921,  0.0094, -0.3248,  0.1856, -0.1463, -0.0734,  0.4410,\n",
      "           0.1592,  0.2138,  0.2582, -0.1288, -0.2301,  0.0135, -0.2656,\n",
      "           0.3336, -0.0039,  0.2187, -0.1509, -0.3391,  0.5756,  0.0033,\n",
      "          -0.3978, -0.1462, -0.0888, -0.0536, -0.1181,  0.0595, -0.0448,\n",
      "           0.5282,  0.1990,  0.3414,  0.1599,  0.3611, -0.0589, -0.0430,\n",
      "           0.0614,  0.2058, -0.7038, -0.4028,  0.1986, -0.5818, -0.1012,\n",
      "          -0.3898, -0.1329,  0.1487,  0.0463,  0.7402, -0.4130,  0.2774,\n",
      "          -0.5214, -0.3317, -0.0405, -0.2397, -0.1597, -0.0859,  0.1021,\n",
      "          -0.0620,  0.4111, -0.3788, -0.0496]]], grad_fn=<StackBackward0>)\n"
     ]
    }
   ],
   "source": [
    "#Hidden size\n",
    "hidden_size = 256\n",
    "\n",
    "#Create an instance of the EncoderRNN \n",
    "encoder = EncoderRNN(input_lang.n_words, hidden_size).to(device)\n",
    "\n",
    "#input tensor, it has a batch size of 1 and a sequence length of 10\n",
    "input_tensor = torch.randint(0, input_lang.n_words, (1, 10)).to(device) #random input tensor [1, 10] with values between 0 and input_lang.n_words\n",
    "\n",
    "#output and hidden state of the encoder after passing the input tensor\n",
    "output, hidden = encoder(input_tensor)\n",
    "\n",
    "#Print interesting information\n",
    "print(f\"Input Tensor Shape: {input_tensor.shape}\")\n",
    "print(\"-\"*100)\n",
    "print(f\"Output Shape: {output.shape}\")\n",
    "print(f\"Encoder Output: {output}\")\n",
    "print(\"-\"*100)\n",
    "print(f\"Hidden Shape: {hidden.shape}\")\n",
    "print(f\"Encoder Hidden: {hidden}\")"
   ]
  },
  {
   "cell_type": "markdown",
   "metadata": {},
   "source": [
    "### Attention Decoder\n",
    "\n",
    "The decoder is another RNN that takes the encoder output vector(s) and\n",
    "outputs a sequence of words to create the translation, in this case we will use an Attention Decoder. In sequence-to-sequence models, an attention decoder lets the decoder focus on different parts of the encoder's output using a calculated set of \"attention weights\". These weights help create a weighted combination of encoder outputs (attn_applied), enhancing the decoder's ability to select accurate output words based on the input sequence's relevant parts. Here we use Bahdanau attention mechanism. The process involves training a feed-forward layer to calculate these weights, adjusted for varying sentence lengths."
   ]
  },
  {
   "cell_type": "code",
   "execution_count": 85,
   "metadata": {
    "collapsed": false
   },
   "outputs": [],
   "source": [
    "class BahdanauAttention(nn.Module):\n",
    "    '''\n",
    "    The typical Badhanau Attention mechanism.\n",
    "        1. Calculate the attention scores by applying a linear layer to the encoder outputs and decoder hidden state\n",
    "        2. Apply a softmax to the scores to get the attention weights\n",
    "        3. Multiply the attention weights by the encoder outputs to get the context vector\n",
    "        4. Return the context vector and the attention weights\n",
    "    '''\n",
    "    def __init__(self, hidden_size):\n",
    "        super(BahdanauAttention, self).__init__()\n",
    "        #Linear layers to calculate the attention scores\n",
    "        self.Wa = nn.Linear(hidden_size, hidden_size) #W matrix [hidden_size x hidden_size]\n",
    "        self.Ua = nn.Linear(hidden_size, hidden_size) #U matrix [hidden_size x hidden_size]\n",
    "        self.Va = nn.Linear(hidden_size, 1) #V vector [hidden_size x 1]\n",
    "\n",
    "    def forward(self, query, keys):\n",
    "        #Get the sum of the projection of the query and keys\n",
    "        addition = self.Wa(query) + self.Ua(keys) #Addition shape is [batch_size x seq_len x hidden_size]\n",
    "        \n",
    "        #Apply a non-linearity to the sum (tanh in this case because we want to keep the values between -1 and 1)\n",
    "        activated_addition = torch.tanh(addition)#Activated addition shape is [batch_size x seq_len x hidden_size]\n",
    "        \n",
    "        #Get the attention scores by applying the V matrix to the activated addition\n",
    "        scores = self.Va(activated_addition) #Scores shape right now is [batch_size x seq_len x 1]\n",
    "        \n",
    "        #Squeeze the scores to remove the last dimension and unsqueeze the scores to add a dimension at index 1\n",
    "        scores = scores.squeeze(2).unsqueeze(1) #Scores shape is now [batch_size x 1 x seq_len]\n",
    "\n",
    "        #Apply a softmax to the scores to get the attention weights adding up to 1\n",
    "        weights = F.softmax(scores, dim=-1) #Weights shape is [batch_size x 1 x seq_len]\n",
    "        \n",
    "        #Multiply the weights by the keys to get the context vector (bmm stands for batch matrix multiplication)\n",
    "        context = torch.bmm(weights, keys) #Context shape is [batch_size x 1 x hidden_size]\n",
    "\n",
    "        #Return the context vector and the attention weights.\n",
    "        return context, weights\n",
    "\n",
    "class AttnDecoderRNN(nn.Module):\n",
    "    '''\n",
    "    Attention Decoder class to decode the encoder outputs and the hidden \n",
    "    state into the target language, hopefully making a good translation.\n",
    "    It uses an embedding layer, an attention layer and a GRU layer \n",
    "    (you could add more layers if you want to improve the model)\n",
    "    '''\n",
    "    def __init__(self, hidden_size, output_size, dropout_p=0.1):\n",
    "        super(AttnDecoderRNN, self).__init__()\n",
    "        self.embedding = nn.Embedding(output_size, hidden_size)\n",
    "        self.attention = BahdanauAttention(hidden_size)\n",
    "        self.gru = nn.GRU(2 * hidden_size, hidden_size, batch_first=True) #2 * hidden_size because we concatenate the embeddings and context vector\n",
    "        self.out = nn.Linear(hidden_size, output_size)\n",
    "        self.dropout = nn.Dropout(dropout_p)\n",
    "\n",
    "    def forward(self, encoder_outputs, encoder_hidden, target_tensor=None): #encoder outputs and encoder hidden are returned by the encoder\n",
    "        '''\n",
    "        Forward takes care of the forward pass of the decoder, it loops over the whole sequence length,\n",
    "        translating one word at a time by using the step_forward function.\n",
    "        '''\n",
    "        #Get the batch size\n",
    "        batch_size = encoder_outputs.size(0) \n",
    "        \n",
    "        #Initialize the decoder input with the SOS token for each sentence in the batch\n",
    "        decoder_input = torch.empty(batch_size, 1, dtype=torch.long, device=device).fill_(SOS_token)\n",
    "        \n",
    "        #Initialize the decoder hidden state with the encoder hidden state \n",
    "        decoder_hidden = encoder_hidden\n",
    "        \n",
    "        #Initialize the decoder outputs and attention maps as empty lists\n",
    "        decoder_outputs = []\n",
    "        attentions = []\n",
    "\n",
    "        for i in range(MAX_LENGTH):\n",
    "            #Make a forward step in the decoder, get the output, hidden state and attention weights for the decoder\n",
    "            decoder_output, decoder_hidden, attn_weights = self.forward_step(decoder_input, decoder_hidden, encoder_outputs)\n",
    "            \n",
    "            #Append the decoder output and attention weights to their respective lists\n",
    "            decoder_outputs.append(decoder_output)\n",
    "            attentions.append(attn_weights)\n",
    "\n",
    "            #If there is a target tensor, use it as the next input, otherwise use the decoder output\n",
    "            if target_tensor is not None:\n",
    "                # Teacher forcing: Feed the target as the next input\n",
    "                decoder_input = target_tensor[:, i].unsqueeze(1) # Teacher forcing\n",
    "            else:\n",
    "                # Without teacher forcing: use its own predictions as the next input\n",
    "                _, topi = decoder_output.topk(1) #Get the index of the maximum value\n",
    "                decoder_input = topi.squeeze(-1).detach()  # detach from history as input, gradient is not computed for the input.\n",
    "                # Break if EOS token is produced by all items in the batch\n",
    "                if (topi == EOS_token).all():\n",
    "                    break\n",
    "            \n",
    "        #Concatenate the decoder outputs and attention weights along the sequence length dimension\n",
    "        decoder_outputs = torch.cat(decoder_outputs, dim=1)\n",
    "        decoder_outputs = F.log_softmax(decoder_outputs, dim=-1) #Apply a log softmax to the decoder outputs\n",
    "        attentions = torch.cat(attentions, dim=1)\n",
    "\n",
    "        #Return the decoder outputs and attention weights\n",
    "        return decoder_outputs, decoder_hidden, attentions\n",
    "\n",
    "\n",
    "    def forward_step(self, input, hidden, encoder_outputs):\n",
    "        '''\n",
    "        forward_step takes care of the forward pass of the decoder for a single time step (i.e. a single word)\n",
    "        '''\n",
    "        #Get the embeddings of the input with the applied dropout\n",
    "        embedded =  self.dropout(self.embedding(input))\n",
    "\n",
    "        #Permute the hidden state to have the batch size as the first dimension\n",
    "        query = hidden.permute(1, 0, 2) #from [1, batch_size, hidden_size] to [batch_size, 1, hidden_size]\n",
    "        \n",
    "        #Get the context vector and attention weights by applying the attention mechanism (Bahdanau)\n",
    "        context, attn_weights = self.attention(query, encoder_outputs)\n",
    "        \n",
    "        #Concatenate the embeddings and context vector along the hidden size dimension\n",
    "        input_gru = torch.cat((embedded, context), dim=2) #Concatenation shape is [batch_size x 1 x 2 * hidden_size]\n",
    "        \n",
    "        #Pass the concatenated tensor through the GRU layer, get the output and hidden state\n",
    "        output, hidden = self.gru(input_gru, hidden)\n",
    "        \n",
    "        #Pass the output through a linear layer to get the decoder output\n",
    "        output = self.out(output) #Now shape is [batch_size x 1 x output_size] \n",
    "                                  #where output_size is the number of words in the output language (i.e. Vocabulary size)\n",
    "\n",
    "        #Return the decoder output, hidden state and attention weights\n",
    "        return output, hidden, attn_weights"
   ]
  },
  {
   "cell_type": "markdown",
   "metadata": {},
   "source": [
    "#### Example usage of the AttnDecoderRNN"
   ]
  },
  {
   "cell_type": "code",
   "execution_count": 86,
   "metadata": {},
   "outputs": [
    {
     "name": "stdout",
     "output_type": "stream",
     "text": [
      "Decoder Outputs Shape: torch.Size([1, 10, 17101])\n",
      "Decoder Hidden Shape: torch.Size([1, 1, 256])\n",
      "Attentions Shape: torch.Size([1, 10, 10])\n"
     ]
    }
   ],
   "source": [
    "#Example usage of the AttnDecoderRNN\n",
    "\n",
    "#Create an instance of the AttnDecoderRNN\n",
    "decoder = AttnDecoderRNN(hidden_size, output_lang.n_words).to(device)\n",
    "\n",
    "#Pass the encoder\n",
    "decoder_outputs, decoder_hidden, attentions = decoder(output, hidden)\n",
    "\n",
    "#Print interesting information\n",
    "print(f\"Decoder Outputs Shape: {decoder_outputs.shape}\")\n",
    "print(f\"Decoder Hidden Shape: {decoder_hidden.shape}\")\n",
    "print(f\"Attentions Shape: {attentions.shape}\")"
   ]
  },
  {
   "cell_type": "markdown",
   "metadata": {},
   "source": [
    "\n",
    "## Training\n"
   ]
  },
  {
   "cell_type": "markdown",
   "metadata": {},
   "source": [
    "\n",
    "### Preparing Training Data\n",
    "\n",
    "To train, for each pair we will need an input tensor (indexes of the\n",
    "words in the input sentence) and target tensor (indexes of the words in\n",
    "the target sentence). While creating these vectors we will append the\n",
    "EOS token to both sequences."
   ]
  },
  {
   "cell_type": "code",
   "execution_count": 87,
   "metadata": {
    "collapsed": false
   },
   "outputs": [],
   "source": [
    "def sentence_to_indexes(lang, sentence):\n",
    "    '''Get the indexes of the words in the sentence using the language vocabulary'''\n",
    "    return [lang.word2index[word] for word in sentence.split(' ')]\n",
    "\n",
    "def sentence_to_tensor(lang, sentence):\n",
    "    ''' Turn sentence into tensor of word indices and add EOS token'''\n",
    "    indexes = sentence_to_indexes(lang, sentence)\n",
    "    indexes.append(EOS_token)\n",
    "    return torch.tensor(indexes, dtype=torch.long, device=device).view(1, -1)\n",
    "\n",
    "def pair_to_tensor(pair):\n",
    "    ''' Get the input and target tensors from the pair of sentences'''\n",
    "    input_tensor = sentence_to_tensor(input_lang, pair[0])\n",
    "    target_tensor = sentence_to_tensor(output_lang, pair[1])\n",
    "    return (input_tensor, target_tensor)\n",
    "\n",
    "def get_dataloaders(batch_size):\n",
    "    ''' Get the dataloaders for the training, validation and test sets'''\n",
    "    #Get the input and output languages and the pairs from the data\n",
    "    input_lang, output_lang, pairs = prepare_data('eng', 'ita', True) \n",
    "\n",
    "    # Splitting the data into train, validation, and test sets\n",
    "    train_pairs, test_val_pairs = train_test_split(pairs, test_size=0.3, random_state=42)\n",
    "    test_pairs, val_pairs = train_test_split(test_val_pairs, test_size=0.5, random_state=42)\n",
    "\n",
    "    def create_dataloader(pairs):\n",
    "        '''\n",
    "        Create a dataloader from the pairs by converting the sentences to tensors\n",
    "        and truncating the tensors to the maximum length if necessary\n",
    "        '''\n",
    "        #Get the amount of pairs\n",
    "        n = len(pairs) \n",
    "        \n",
    "        #Initialize the input and target tensors to zeros\n",
    "        input_ids = np.zeros((n, MAX_LENGTH), dtype=np.int32)  # MAX_LENGTH = 10 for now (defined at the beginning of the notebook)\n",
    "        target_ids = np.zeros((n, MAX_LENGTH), dtype=np.int32)\n",
    "\n",
    "        #Iterate over the pairs and convert the sentences to tensors\n",
    "        for idx, (inp, tgt) in enumerate(pairs):\n",
    "            #Get the indexes of the words in the sentences using the language vocabulary\n",
    "            inp_ids = sentence_to_indexes(input_lang, inp) \n",
    "            tgt_ids = sentence_to_indexes(output_lang, tgt)\n",
    "            \n",
    "            #Truncate to MAX_LENGTH-1 if necessary, which shouldn't be the case because all the filtered data is already less or equal than MAX_LENGTH\n",
    "            \n",
    "            if len(inp_ids) >= MAX_LENGTH: \n",
    "                inp_ids = inp_ids[:MAX_LENGTH-1]  # Truncate to MAX_LENGTH-1 if necessary\n",
    "                tgt_ids = tgt_ids[:MAX_LENGTH-1]  # Truncate to MAX_LENGTH-1 if necessary\n",
    "            inp_ids.append(EOS_token)\n",
    "            tgt_ids.append(EOS_token)\n",
    "            \n",
    "            #Add the tensors to the input and target tensors\n",
    "            input_ids[idx, :len(inp_ids)] = inp_ids \n",
    "            target_ids[idx, :len(tgt_ids)] = tgt_ids\n",
    "\n",
    "        #Create a TensorDataset from the input and target tensors, TensorDataset is a PyTorch class to create datasets from tensors\n",
    "        dataset = TensorDataset(torch.LongTensor(input_ids).to(device),\n",
    "                                torch.LongTensor(target_ids).to(device))\n",
    "        \n",
    "        #Create a RandomSampler to sample the data randomly\n",
    "        sampler = RandomSampler(dataset)\n",
    "        \n",
    "        #Create a DataLoader from the dataset and the sampler\n",
    "        dataloader = DataLoader(dataset, sampler=sampler, batch_size=batch_size)\n",
    "        return dataloader\n",
    "\n",
    "    # Creating separate dataloaders for the training, testing, and validation sets, how do we ensure they are differen\n",
    "    train_dataloader = create_dataloader(train_pairs)\n",
    "    test_dataloader = create_dataloader(test_pairs)\n",
    "    val_dataloader = create_dataloader(val_pairs)\n",
    "    \n",
    "    #Return the input and output languages and the dataloaders for training, testing, and validation\n",
    "    return input_lang, output_lang, train_dataloader, test_dataloader, val_dataloader, test_pairs\n"
   ]
  },
  {
   "cell_type": "markdown",
   "metadata": {},
   "source": [
    "#### Example usage of the dataloaders"
   ]
  },
  {
   "cell_type": "code",
   "execution_count": 88,
   "metadata": {},
   "outputs": [
    {
     "name": "stdout",
     "output_type": "stream",
     "text": [
      "Opening Data\n",
      "Read all the 345244 sentence pairs in the dataset\n",
      "Trimmed to 100000 sentence pairs using the trim_dataset function\n",
      "There are 17230 words in ita and 9455 words in eng\n",
      "Number of training batches: 1094\n",
      "Sample Batch: [tensor([[ 8563,    90,     1,     0,     0,     0,     0,     0,     0,     0],\n",
      "        [   11,  1038,    17,  4629,     1,     0,     0,     0,     0,     0],\n",
      "        [   60,  5680,   508,  2686,    27,   178,  4105, 10323,     1,     0],\n",
      "        [   20,  1286,   359,  5107,     1,     0,     0,     0,     0,     0],\n",
      "        [   40,    11,    54,   662,    22, 10519,     1,     0,     0,     0],\n",
      "        [   11,    62,    24,   679,  6188,     1,     0,     0,     0,     0],\n",
      "        [  612,    62,     4,    67,  5446,    19,     1,     0,     0,     0],\n",
      "        [   40,   100,    10,     7,    11,  1639,   334,   178,  2492,     1],\n",
      "        [ 6458,     4, 12911,    47,    22,  6027,     1,     0,     0,     0],\n",
      "        [  215,   917,     4,   267,    19,     1,     0,     0,     0,     0],\n",
      "        [  227,    63,   405,    47,   366,    43,   499,     1,     0,     0],\n",
      "        [  418,    28,     4, 10912,     1,     0,     0,     0,     0,     0],\n",
      "        [   40,    11,    79,    30,   316,     1,     0,     0,     0,     0],\n",
      "        [   40,   171,    10,    14,  1688,    33,  5484,     1,     0,     0],\n",
      "        [  396,  1124,   464,  1125,     1,     0,     0,     0,     0,     0],\n",
      "        [  127,    15,   324,  1013,    10,     7,   207,  2795,    19,     1],\n",
      "        [  359,  1739,   178,  6245,   377,   246,  1832,    19,     1,     0],\n",
      "        [    7,   337,   277,    27,    70,     1,     0,     0,     0,     0],\n",
      "        [   11,   337,   124,   316,  1788,     1,     0,     0,     0,     0],\n",
      "        [    7,    62,  5410,   377,   641,     1,     0,     0,     0,     0],\n",
      "        [  127, 12523,    19,     1,     0,     0,     0,     0,     0,     0],\n",
      "        [   22,   346,   352,     8,  2104,    60, 13879, 14645,     1,     0],\n",
      "        [   90,    62,   666,  1059,     1,     0,     0,     0,     0,     0],\n",
      "        [  410,  2896,    33, 11285,     1,     0,     0,     0,     0,     0],\n",
      "        [   11,    62,   667,    10,    20,  4839,     1,     0,     0,     0],\n",
      "        [   54,   324,   644,    65,    14,    19,     1,     0,     0,     0],\n",
      "        [16271,    22,   516,  4369,     1,     0,     0,     0,     0,     0],\n",
      "        [    7,    11,     8,   124,     9,   125,     1,     0,     0,     0],\n",
      "        [   20,   906,   485,  1046,    17,  5592,     1,     0,     0,     0],\n",
      "        [    7,     8,   680,    43,    22,   104,    43,   262,     1,     0],\n",
      "        [  183,  1181,    10,    20,   227,   645,    62,    98,   491,     1],\n",
      "        [   41,  5481,   183,   962,     1,     0,     0,     0,     0,     0],\n",
      "        [  776,    17,    66,   782,  1748,    19,     1,     0,     0,     0],\n",
      "        [   40,   278,  3507,     1,     0,     0,     0,     0,     0,     0],\n",
      "        [    7,   385,    10,   132,  1558,   975,     1,     0,     0,     0],\n",
      "        [  385,    10,   178,  9002,  9003,  2252,    19,     1,     0,     0],\n",
      "        [  136,  6796,     1,     0,     0,     0,     0,     0,     0,     0],\n",
      "        [  273,   114,   701,    19,     1,     0,     0,     0,     0,     0],\n",
      "        [   40,   278,   355,     1,     0,     0,     0,     0,     0,     0],\n",
      "        [    7,  6636,   161,   731,     1,     0,     0,     0,     0,     0],\n",
      "        [  178,  5487,    54,    43,  4956,   701,    19,     1,     0,     0],\n",
      "        [    7,   721,    10,    11,  2564,   126,   129,     1,     0,     0],\n",
      "        [   54,  8719,     1,     0,     0,     0,     0,     0,     0,     0],\n",
      "        [    7,    11,   872,   125,    65,   279,    24,   739,    71,     1],\n",
      "        [  183,  1232,    62,    10,    83,   571,  1438,     1,     0,     0],\n",
      "        [   54,   391, 17024,     1,     0,     0,     0,     0,     0,     0],\n",
      "        [   11,    87,  3500,   324,   919,     1,     0,     0,     0,     0],\n",
      "        [    7,   207,    62,  1616,    24,   579,    22,  3162,     1,     0],\n",
      "        [    7,    11,   768,   316,   129,     1,     0,     0,     0,     0],\n",
      "        [   40,   443,   263,  4409,    43,   418,   263,   421,  1070,     1],\n",
      "        [   40,    41,   680,    43,    14,     1,     0,     0,     0,     0],\n",
      "        [  380,   178,   278,    19,     1,     0,     0,     0,     0,     0],\n",
      "        [   62,   888,    98,   769,     1,     0,     0,     0,     0,     0],\n",
      "        [   40,   732,   161,  3628,     1,     0,     0,     0,     0,     0],\n",
      "        [  215,   124,  2213,    47,    76,  3706,    19,     1,     0,     0],\n",
      "        [   40,   361,   656,     1,     0,     0,     0,     0,     0,     0],\n",
      "        [ 1874,    17,   344,  8433,     1,     0,     0,     0,     0,     0],\n",
      "        [  396,  7313,   327,  9075,   485,   711,  9432,  9433,     1,     0],\n",
      "        [    7,   207,  1483,    43,   158,   138,     1,     0,     0,     0],\n",
      "        [15955,   178, 11759,     1,     0,     0,     0,     0,     0,     0],\n",
      "        [   41,   645,    65,   329,   327,   852,     1,     0,     0,     0],\n",
      "        [    7,   207,  3378,     1,     0,     0,     0,     0,     0,     0],\n",
      "        [   40,    11,  4534,    17, 13714,     1,     0,     0,     0,     0],\n",
      "        [  204,  2193,  1224,  1181,     1,     0,     0,     0,     0,     0]]), tensor([[3335,   87,    1,    0,    0,    0,    0,    0,    0,    0],\n",
      "        [ 284,  273,   11,  558,   16,  670,   77,    1,    0,    0],\n",
      "        [  51,  556,  311,  309, 1934,   26,   61, 2822, 8270,    1],\n",
      "        [   9,  996,  307,   16, 2282,    1,    0,    0,    0,    0],\n",
      "        [   9,   39,   40,  544,  240, 6357,    1,    0,    0,    0],\n",
      "        [  77,   55,   40,   53,  353, 4034,    1,    0,    0,    0],\n",
      "        [  45,   55,   90, 3591,   18,    1,    0,    0,    0,    0],\n",
      "        [   9,   97,    7,  519,   11,    4,   51, 1816,    1,    0],\n",
      "        [2042,   51, 6027,   80,  240, 3939,    1,    0,    0,    0],\n",
      "        [  76,    2,   98,   51,  224,   18,    1,    0,    0,    0],\n",
      "        [   2,  198,   58,  343, 1348,  430,   23,    1,    0,    0],\n",
      "        [ 353,   82,   27, 6560,   53,  533,    1,    0,    0,    0],\n",
      "        [   9,   31,   11,   29,   77,  370,    1,    0,    0,    0],\n",
      "        [   9,   47,    2,  198,   33, 1081,    1,    0,    0,    0],\n",
      "        [ 284,   50, 4375,   51,  884,    1,    0,    0,    0,    0],\n",
      "        [ 120,   71,    2,  347,  214,    7,   57,  891,   18,    1],\n",
      "        [ 307, 1314,   51, 4071,   80,   90, 2519,   18,    1,    0],\n",
      "        [   7,  163,  152,  231,   26,   66,    1,    0,    0,    0],\n",
      "        [   2,   49,  117,  152, 1451,  294,    1,    0,    0,    0],\n",
      "        [   7, 3019,  322,   51,  527,    1,    0,    0,    0,    0],\n",
      "        [ 120,   43,   75,  193,   18,    1,    0,    0,    0,    0],\n",
      "        [  21,  292,  295,  284, 1550,   51, 8356, 2168,    1,    0],\n",
      "        [  87,   57,  413,  840,    1,    0,    0,    0,    0,    0],\n",
      "        [1099,    2,  635,   33,  149,    2,  163,  138,  817,    1],\n",
      "        [  48,   55,   40,   45,    9,  845,    1,    0,    0,    0],\n",
      "        [ 237,    9,  347,  529,   60,    2,   18,    1,    0,    0],\n",
      "        [  75, 3882,   21,  631, 2997,    1,    0,    0,    0,    0],\n",
      "        [   7,  117,    8,  118,    1,    0,    0,    0,    0,    0],\n",
      "        [ 284,  308,   23,  160,   16,  417, 3682,    1,    0,    0],\n",
      "        [   7, 1145,  100,  197,    1,    0,    0,    0,    0,    0],\n",
      "        [  51,  928,    2,  530,   23,   57,   95,  403,    1,    0],\n",
      "        [   9, 3616,   51,  759,    1,    0,    0,    0,    0,    0],\n",
      "        [  92,    2,  706,   53, 1321,   18,    1,    0,    0,    0],\n",
      "        [   9,   76,   16, 2431,    1,    0,    0,    0,    0,    0],\n",
      "        [   7,  566,    2,  198,  774,    1,    0,    0,    0,    0],\n",
      "        [  43,    2,   47, 5563,  726, 1649,   18,    1,    0,    0],\n",
      "        [  75,  776,    1,    0,    0,    0,    0,    0,    0,    0],\n",
      "        [  71,    2,  109,   78,   18,    1,    0,    0,    0,    0],\n",
      "        [   9,  414,   16, 1452,    1,    0,    0,    0,    0,    0],\n",
      "        [   7,  163,  387,  346,    1,    0,    0,    0,    0,    0],\n",
      "        [  71, 3619,   80, 3312,   78,   18,    1,    0,    0,    0],\n",
      "        [   7,  593,  284,  148,   11,    4,  119,  122,    1,    0],\n",
      "        [ 269,  198, 2246,    1,    0,    0,    0,    0,    0,    0],\n",
      "        [   7,  108,  560,   16,   43,  347,  284,   50,  706,    1],\n",
      "        [  51,  959,   57,   48,   75,   76,  279,  300,    1,    0],\n",
      "        [ 269,  198,  329, 5379,    1,    0,    0,    0,    0,    0],\n",
      "        [  75,   10,   11,  417,   48,  458,    1,    0,    0,    0],\n",
      "        [   7,  350,   16,   12, 1470,    1,    0,    0,    0,    0],\n",
      "        [   7,   57,  279,  807,  490,  122,    1,    0,    0,    0],\n",
      "        [   9,    4,  353,   82,    5,  846, 3018,    1,    0,    0],\n",
      "        [   9,  414,    2,    1,    0,    0,    0,    0,    0,    0],\n",
      "        [ 160,  149,   43,    9, 1055,    2,   18,    1,    0,    0],\n",
      "        [  77,  309,   95,   34,    1,    0,    0,    0,    0,    0],\n",
      "        [   9,  571,   87, 2516,    1,    0,    0,    0,    0,    0],\n",
      "        [  76,    2,  465, 2645,   80,   21, 2555,   18,    1,    0],\n",
      "        [   9,  309, 1364,    1,    0,    0,    0,    0,    0,    0],\n",
      "        [ 284, 1901,  136,  486, 4267,    1,    0,    0,    0,    0],\n",
      "        [ 284, 4575,   51,  953,  174,  583, 1278, 5779,    1,    0],\n",
      "        [   7, 8977,   16,   43,   48,  128,    1,    0,    0,    0],\n",
      "        [ 951,   90, 5921,    1,    0,    0,    0,    0,    0,    0],\n",
      "        [   9, 1307,   51,  678,    1,    0,    0,    0,    0,    0],\n",
      "        [   7,   55,  891,    1,    0,    0,    0,    0,    0,    0],\n",
      "        [   9,   10,   11,   42,   16,  994, 1286,    1,    0,    0],\n",
      "        [   9,  530,  297,   21,  863,  354,    1,    0,    0,    0]])]\n"
     ]
    }
   ],
   "source": [
    "\n",
    "# Example usage:\n",
    "batch_size = 64\n",
    "input_lang, output_lang, train_dataloader, test_dataloader, val_dataloader, test_pairs = get_dataloaders(batch_size)\n",
    "\n",
    "print(f\"Number of training batches: {len(train_dataloader)}\")\n",
    "\n",
    "#Sample a batch from the training dataloader\n",
    "print(f\"Sample Batch: { next(iter(train_dataloader))}\")"
   ]
  },
  {
   "cell_type": "markdown",
   "metadata": {},
   "source": [
    "### Training the model\n",
    "\n",
    "To train the model, we start by passing the input sentence to the encoder, which saves all its outputs and the final hidden state. Then, the decoder starts with the <SOS> token as its initial input and uses the encoder’s last hidden state as its first hidden state.\n",
    "\n",
    "We use Teacher forcing which is a technique where the true target outputs are used as each subsequent input to the decoder, rather than the decoder's own predictions. This method helps the model train faster but can lead to instability when the model is used in practice, as noted in research. This happens because the model might learn to form correct grammar and structure by following the lead given by the initial words, but it might not learn to generate the sentence independently from the input translation.\n",
    "\n",
    "PyTorch's autograd system allows us to easily integrate teacher forcing randomly in training by using an if statement to decide when to apply it. We can then adjust the teacher_forcing_ratio to control how frequently teacher forcing is used."
   ]
  },
  {
   "cell_type": "code",
   "execution_count": 89,
   "metadata": {},
   "outputs": [],
   "source": [
    "def train_epoch(dataloader, encoder, decoder, encoder_optimizer, decoder_optimizer, criterion, train=True):\n",
    "    '''\n",
    "    train_epoch function to train the encoder and decoder for one epoch\n",
    "    '''\n",
    "    #First check if we are training or evaluating\n",
    "    if train:\n",
    "        #Set the encoder and decoder to training mode\n",
    "        encoder.train()\n",
    "        decoder.train()\n",
    "    else:\n",
    "        #Set the encoder and decoder to evaluation mode\n",
    "        encoder.eval()\n",
    "        decoder.eval()\n",
    "\n",
    "    #initialize the total loss to 0\n",
    "    total_loss = 0\n",
    "    \n",
    "    #iterate over the dataloader\n",
    "    for data in dataloader:\n",
    "        \n",
    "        #Get the input and target tensors from the data\n",
    "        input_tensor, target_tensor = data\n",
    "        \n",
    "        #Zero the gradients of the encoder and decoder for each batch\n",
    "        encoder_optimizer.zero_grad()\n",
    "        decoder_optimizer.zero_grad()\n",
    "        \n",
    "        #Pass the input tensor through the encoder and get the outputs and hidden state\n",
    "        encoder_outputs, encoder_hidden = encoder(input_tensor)\n",
    "        \n",
    "        #Pass the outputs of the encoder through the decoder and get\n",
    "        decoder_outputs, hidden, attn_weights = decoder(encoder_outputs, encoder_hidden, target_tensor)\n",
    "        \n",
    "        #Calculate the loss by comparing the decoder outputs and the target tensor\n",
    "        loss = criterion(decoder_outputs.view(-1, decoder_outputs.size(-1)), target_tensor.view(-1))\n",
    "        \n",
    "        if train:\n",
    "            #If training, backpropagate the loss and update the parameters, if evaluating, only accumulate the loss\n",
    "            loss.backward()\n",
    "            encoder_optimizer.step()\n",
    "            decoder_optimizer.step()\n",
    "            \n",
    "        #Update the total loss\n",
    "        total_loss += loss.item()\n",
    "        \n",
    "    #Return the average loss for the epoch\n",
    "    return total_loss / len(dataloader)\n"
   ]
  },
  {
   "cell_type": "code",
   "execution_count": 90,
   "metadata": {},
   "outputs": [],
   "source": [
    "\n",
    "def train(train_dataloader, val_dataloader, encoder, decoder, n_epochs, learning_rate=0.001, print_every=1, log_wandb=True, save_models=True):\n",
    "    \n",
    "    #Initialize best_val_loss\n",
    "    best_val_loss = 10000\n",
    "    \n",
    "    #Initiaalize max_patience\n",
    "    max_patience = 5\n",
    "    \n",
    "    #Initialize the plot losses list\n",
    "    plot_losses = []\n",
    "\n",
    "    #Define the optimizer and the criterion\n",
    "    encoder_optimizer = optim.Adam(encoder.parameters(), lr=learning_rate)\n",
    "    decoder_optimizer = optim.Adam(decoder.parameters(), lr=learning_rate)\n",
    "    criterion = nn.NLLLoss()\n",
    "\n",
    "    #Iterate over the epochs\n",
    "    for epoch in tqdm(range(1, n_epochs + 1)):\n",
    "        #Train the model for one epoch\n",
    "        train_loss = train_epoch(train_dataloader, encoder, decoder, encoder_optimizer, decoder_optimizer, criterion, train=True)\n",
    "        \n",
    "        #Evaluate the model for one epoch\n",
    "        val_loss = train_epoch(val_dataloader, encoder, decoder, encoder_optimizer, decoder_optimizer, criterion, train=False)\n",
    "        \n",
    "        #Plot the losses\n",
    "        plot_losses.append((train_loss, val_loss))\n",
    "\n",
    "        if log_wandb:\n",
    "            #Log the losses to wandb\n",
    "            wandb.log({\"epoch\": epoch, \"train_loss\": train_loss, \"val_loss\": val_loss})\n",
    "\n",
    "        if epoch % print_every == 0:\n",
    "            #Print the losses and the time elapsed for every print_every epochs\n",
    "            print(f'Epoch: {epoch}, Train Loss: {train_loss:.4f}, Val Loss: {val_loss:.4f}')\n",
    "\n",
    "        if val_loss < best_val_loss:\n",
    "            max_patience = 5\n",
    "            if save_models:\n",
    "                #Save the encoder and decoder models if val loss improved\n",
    "                torch.save(encoder.state_dict(), f\"models/MT_encoder_epoch_{epoch}.pt\")\n",
    "                torch.save(decoder.state_dict(), f\"models/MT_decoder_epoch_{epoch}.pt\")\n",
    "            best_val_loss = val_loss\n",
    "        else:\n",
    "            max_patience -= 1\n",
    "            if max_patience == 0:\n",
    "                print(f\"Early stopping at epoch {epoch} due to non improvement in validation loss\")\n",
    "                break\n",
    "            \n",
    "\n",
    "#    if log_wandb:\n",
    "#        wandb.finish()\n"
   ]
  },
  {
   "cell_type": "markdown",
   "metadata": {},
   "source": [
    "#### Finally training"
   ]
  },
  {
   "cell_type": "code",
   "execution_count": 91,
   "metadata": {},
   "outputs": [
    {
     "name": "stdout",
     "output_type": "stream",
     "text": [
      "Opening Data\n",
      "Read all the 345244 sentence pairs in the dataset\n",
      "Trimmed to 100000 sentence pairs using the trim_dataset function\n",
      "There are 17242 words in ita and 9449 words in eng\n"
     ]
    },
    {
     "name": "stderr",
     "output_type": "stream",
     "text": [
      " 10%|█         | 1/10 [01:00<09:06, 60.68s/it]"
     ]
    },
    {
     "name": "stdout",
     "output_type": "stream",
     "text": [
      "Epoch: 1, Train Loss: 2.7778, Val Loss: 2.0507\n"
     ]
    },
    {
     "name": "stderr",
     "output_type": "stream",
     "text": [
      " 20%|██        | 2/10 [01:58<07:53, 59.16s/it]"
     ]
    },
    {
     "name": "stdout",
     "output_type": "stream",
     "text": [
      "Epoch: 2, Train Loss: 1.7732, Val Loss: 1.5434\n"
     ]
    },
    {
     "name": "stderr",
     "output_type": "stream",
     "text": [
      " 30%|███       | 3/10 [02:57<06:51, 58.84s/it]"
     ]
    },
    {
     "name": "stdout",
     "output_type": "stream",
     "text": [
      "Epoch: 3, Train Loss: 1.3617, Val Loss: 1.2697\n"
     ]
    },
    {
     "name": "stderr",
     "output_type": "stream",
     "text": [
      " 40%|████      | 4/10 [07:11<13:36, 136.04s/it]"
     ]
    },
    {
     "name": "stdout",
     "output_type": "stream",
     "text": [
      "Epoch: 4, Train Loss: 1.1021, Val Loss: 1.1083\n"
     ]
    },
    {
     "name": "stderr",
     "output_type": "stream",
     "text": [
      " 50%|█████     | 5/10 [08:18<09:15, 111.03s/it]"
     ]
    },
    {
     "name": "stdout",
     "output_type": "stream",
     "text": [
      "Epoch: 5, Train Loss: 0.9218, Val Loss: 0.9998\n"
     ]
    },
    {
     "name": "stderr",
     "output_type": "stream",
     "text": [
      " 60%|██████    | 6/10 [09:17<06:13, 93.42s/it] "
     ]
    },
    {
     "name": "stdout",
     "output_type": "stream",
     "text": [
      "Epoch: 6, Train Loss: 0.7918, Val Loss: 0.9278\n"
     ]
    },
    {
     "name": "stderr",
     "output_type": "stream",
     "text": [
      " 70%|███████   | 7/10 [10:29<04:19, 86.46s/it]"
     ]
    },
    {
     "name": "stdout",
     "output_type": "stream",
     "text": [
      "Epoch: 7, Train Loss: 0.6934, Val Loss: 0.8779\n"
     ]
    },
    {
     "name": "stderr",
     "output_type": "stream",
     "text": [
      " 80%|████████  | 8/10 [11:31<02:37, 78.67s/it]"
     ]
    },
    {
     "name": "stdout",
     "output_type": "stream",
     "text": [
      "Epoch: 8, Train Loss: 0.6162, Val Loss: 0.8412\n"
     ]
    },
    {
     "name": "stderr",
     "output_type": "stream",
     "text": [
      " 90%|█████████ | 9/10 [12:28<01:11, 71.87s/it]"
     ]
    },
    {
     "name": "stdout",
     "output_type": "stream",
     "text": [
      "Epoch: 9, Train Loss: 0.5539, Val Loss: 0.8141\n"
     ]
    },
    {
     "name": "stderr",
     "output_type": "stream",
     "text": [
      "100%|██████████| 10/10 [13:26<00:00, 80.69s/it]"
     ]
    },
    {
     "name": "stdout",
     "output_type": "stream",
     "text": [
      "Epoch: 10, Train Loss: 0.5039, Val Loss: 0.7928\n"
     ]
    },
    {
     "name": "stderr",
     "output_type": "stream",
     "text": [
      "\n"
     ]
    },
    {
     "data": {
      "application/vnd.jupyter.widget-view+json": {
       "model_id": "b36bf4295f794275870275bc6e3e3534",
       "version_major": 2,
       "version_minor": 0
      },
      "text/plain": [
       "VBox(children=(Label(value='0.006 MB of 0.006 MB uploaded\\r'), FloatProgress(value=1.0, max=1.0)))"
      ]
     },
     "metadata": {},
     "output_type": "display_data"
    },
    {
     "data": {
      "text/html": [
       "<style>\n",
       "    table.wandb td:nth-child(1) { padding: 0 10px; text-align: left ; width: auto;} td:nth-child(2) {text-align: left ; width: 100%}\n",
       "    .wandb-row { display: flex; flex-direction: row; flex-wrap: wrap; justify-content: flex-start; width: 100% }\n",
       "    .wandb-col { display: flex; flex-direction: column; flex-basis: 100%; flex: 1; padding: 10px; }\n",
       "    </style>\n",
       "<div class=\"wandb-row\"><div class=\"wandb-col\"><h3>Run history:</h3><br/><table class=\"wandb\"><tr><td>epoch</td><td>▁▂▃▃▄▅▆▆▇█</td></tr><tr><td>train_loss</td><td>█▅▄▃▂▂▂▁▁▁</td></tr><tr><td>val_loss</td><td>█▅▄▃▂▂▁▁▁▁</td></tr></table><br/></div><div class=\"wandb-col\"><h3>Run summary:</h3><br/><table class=\"wandb\"><tr><td>epoch</td><td>10</td></tr><tr><td>train_loss</td><td>0.5039</td></tr><tr><td>val_loss</td><td>0.79278</td></tr></table><br/></div></div>"
      ],
      "text/plain": [
       "<IPython.core.display.HTML object>"
      ]
     },
     "metadata": {},
     "output_type": "display_data"
    },
    {
     "data": {
      "text/html": [
       " View run <strong style=\"color:#cdcd00\">trial_2</strong> at: <a href='https://wandb.ai/nlp_2024/Machine_Translation/runs/9vg3pqsq' target=\"_blank\">https://wandb.ai/nlp_2024/Machine_Translation/runs/9vg3pqsq</a><br/> View project at: <a href='https://wandb.ai/nlp_2024/Machine_Translation' target=\"_blank\">https://wandb.ai/nlp_2024/Machine_Translation</a><br/>Synced 6 W&B file(s), 0 media file(s), 0 artifact file(s) and 0 other file(s)"
      ],
      "text/plain": [
       "<IPython.core.display.HTML object>"
      ]
     },
     "metadata": {},
     "output_type": "display_data"
    },
    {
     "data": {
      "text/html": [
       "Find logs at: <code>./wandb/run-20240414_003704-9vg3pqsq/logs</code>"
      ],
      "text/plain": [
       "<IPython.core.display.HTML object>"
      ]
     },
     "metadata": {},
     "output_type": "display_data"
    }
   ],
   "source": [
    "# Train the model\n",
    "\n",
    "hidden_size = 128\n",
    "batch_size = 64\n",
    "\n",
    "input_lang, output_lang, train_dataloader, test_dataloader, val_dataloader, test_pairs = get_dataloaders(batch_size)\n",
    "\n",
    "encoder = EncoderRNN(input_lang.n_words, hidden_size).to(device)\n",
    "decoder = AttnDecoderRNN(hidden_size, output_lang.n_words).to(device)\n",
    "\n",
    "train(train_dataloader, val_dataloader, encoder, decoder, n_epochs=10, learning_rate=0.001, log_wandb=True, save_models=True)\n"
   ]
  },
  {
   "cell_type": "markdown",
   "metadata": {},
   "source": [
    "## Evaluation"
   ]
  },
  {
   "cell_type": "markdown",
   "metadata": {},
   "source": [
    "#### Qualitative Evaluation function\n"
   ]
  },
  {
   "cell_type": "code",
   "execution_count": 102,
   "metadata": {},
   "outputs": [],
   "source": [
    "def evaluate(encoder, decoder, sentence, input_lang, output_lang):\n",
    "    with torch.no_grad():\n",
    "        input_tensor = sentence_to_tensor(input_lang, sentence)\n",
    "\n",
    "        encoder_outputs, encoder_hidden = encoder(input_tensor)\n",
    "        decoder_outputs, decoder_hidden, decoder_attn = decoder(encoder_outputs, encoder_hidden)\n",
    "\n",
    "        _, topi = decoder_outputs.topk(1)\n",
    "        decoded_ids = topi.squeeze()\n",
    "\n",
    "        decoded_words = []\n",
    "        for idx in decoded_ids:\n",
    "            if idx.item() == EOS_token:\n",
    "                decoded_words.append('<EOS>')\n",
    "                break\n",
    "            decoded_words.append(output_lang.index2word[idx.item()])\n",
    "    return decoded_words, decoder_attn"
   ]
  },
  {
   "cell_type": "markdown",
   "metadata": {},
   "source": [
    "#### Attention visualization\n",
    "\n",
    "One nice thing about attention is that it is highly interpretable in its\n",
    "outputs. Because it is used to weight specific encoder outputs of the\n",
    "input sequence, we can look where the network is focused most\n",
    "at each time step."
   ]
  },
  {
   "cell_type": "code",
   "execution_count": 103,
   "metadata": {},
   "outputs": [],
   "source": [
    "\n",
    "import matplotlib.pyplot as plt\n",
    "from matplotlib import ticker\n",
    "\n",
    "\n",
    "def showAttention(input_sentence, output_words, attentions):\n",
    "    fig = plt.figure()\n",
    "    ax = fig.add_subplot(111)\n",
    "    cax = ax.matshow(attentions.cpu().numpy(), cmap='bone')\n",
    "    fig.colorbar(cax)\n",
    "\n",
    "    # Set up axes\n",
    "    ax.set_xticklabels([''] + input_sentence.split(' ') +\n",
    "                       ['<EOS>'], rotation=90)\n",
    "    ax.set_yticklabels([''] + output_words)\n",
    "\n",
    "    # Show label at every tick\n",
    "    ax.xaxis.set_major_locator(ticker.MultipleLocator(1))\n",
    "    ax.yaxis.set_major_locator(ticker.MultipleLocator(1))\n",
    "\n",
    "    #Log figure to wandb\n",
    "    plt.savefig(f'plots/attention_{input_sentence}.png')\n",
    "    #wandb.log({\"attention\": wandb.Image(f'plots/attention_{input_sentence}.png')})\n",
    "\n",
    "def evaluateAndShowAttention(input_sentence):\n",
    "    output_words, attentions = evaluate(encoder, decoder, input_sentence, input_lang, output_lang)\n",
    "    print('input =', input_sentence)\n",
    "    print('output =', ' '.join(output_words))\n",
    "    showAttention(input_sentence, output_words, attentions[0, :len(output_words), :])\n",
    "\n",
    "\n"
   ]
  },
  {
   "cell_type": "markdown",
   "metadata": {},
   "source": [
    "We can evaluate random sentences from the test set and print out the\n",
    "input, target, and output to make some subjective quality evaluations.\n"
   ]
  },
  {
   "cell_type": "code",
   "execution_count": 104,
   "metadata": {
    "collapsed": false
   },
   "outputs": [
    {
     "name": "stdout",
     "output_type": "stream",
     "text": [
      "> e probabile che sia un errore\n",
      "= that s likely a mistake\n",
      "input = e probabile che sia un errore\n",
      "output = that s likely a mistake is a mistake <EOS>\n",
      "< that s likely a mistake is a mistake <EOS>\n",
      "\n",
      "> e uno storico\n",
      "= he s a historian\n",
      "input = e uno storico\n",
      "output = it s a national hero <EOS>\n"
     ]
    },
    {
     "name": "stderr",
     "output_type": "stream",
     "text": [
      "/tmp/ipykernel_1021939/3577424216.py:12: UserWarning: set_ticklabels() should only be used with a fixed number of ticks, i.e. after set_ticks() or using a FixedLocator.\n",
      "  ax.set_xticklabels([''] + input_sentence.split(' ') +\n",
      "/tmp/ipykernel_1021939/3577424216.py:14: UserWarning: set_ticklabels() should only be used with a fixed number of ticks, i.e. after set_ticks() or using a FixedLocator.\n",
      "  ax.set_yticklabels([''] + output_words)\n",
      "/tmp/ipykernel_1021939/3577424216.py:12: UserWarning: set_ticklabels() should only be used with a fixed number of ticks, i.e. after set_ticks() or using a FixedLocator.\n",
      "  ax.set_xticklabels([''] + input_sentence.split(' ') +\n",
      "/tmp/ipykernel_1021939/3577424216.py:14: UserWarning: set_ticklabels() should only be used with a fixed number of ticks, i.e. after set_ticks() or using a FixedLocator.\n",
      "  ax.set_yticklabels([''] + output_words)\n"
     ]
    },
    {
     "name": "stdout",
     "output_type": "stream",
     "text": [
      "< it s a national hero <EOS>\n",
      "\n",
      "> qual e la tua applicazione per iphone preferita ?\n",
      "= what s your favorite iphone app ?\n",
      "input = qual e la tua applicazione per iphone preferita ?\n",
      "output = what s your favorite episode please t read ? <EOS>\n",
      "< what s your favorite episode please t read ? <EOS>\n",
      "\n",
      "> hanno raggiunto il loro obiettivo\n",
      "= they reached their goal\n",
      "input = hanno raggiunto il loro obiettivo\n",
      "output = they reached their goal before <EOS>\n"
     ]
    },
    {
     "name": "stderr",
     "output_type": "stream",
     "text": [
      "/tmp/ipykernel_1021939/3577424216.py:12: UserWarning: set_ticklabels() should only be used with a fixed number of ticks, i.e. after set_ticks() or using a FixedLocator.\n",
      "  ax.set_xticklabels([''] + input_sentence.split(' ') +\n",
      "/tmp/ipykernel_1021939/3577424216.py:14: UserWarning: set_ticklabels() should only be used with a fixed number of ticks, i.e. after set_ticks() or using a FixedLocator.\n",
      "  ax.set_yticklabels([''] + output_words)\n",
      "/tmp/ipykernel_1021939/3577424216.py:12: UserWarning: set_ticklabels() should only be used with a fixed number of ticks, i.e. after set_ticks() or using a FixedLocator.\n",
      "  ax.set_xticklabels([''] + input_sentence.split(' ') +\n",
      "/tmp/ipykernel_1021939/3577424216.py:14: UserWarning: set_ticklabels() should only be used with a fixed number of ticks, i.e. after set_ticks() or using a FixedLocator.\n",
      "  ax.set_yticklabels([''] + output_words)\n"
     ]
    },
    {
     "name": "stdout",
     "output_type": "stream",
     "text": [
      "< they reached their goal before <EOS>\n",
      "\n",
      "> non sono affatto convinto\n",
      "= i m not convinced at all\n",
      "input = non sono affatto convinto\n",
      "output = i didn t go convinced it <EOS>\n",
      "< i didn t go convinced it <EOS>\n",
      "\n",
      "> amo la vostra citta\n",
      "= i love your city\n",
      "input = amo la vostra citta\n",
      "output = i love your town town <EOS>\n"
     ]
    },
    {
     "name": "stderr",
     "output_type": "stream",
     "text": [
      "/tmp/ipykernel_1021939/3577424216.py:12: UserWarning: set_ticklabels() should only be used with a fixed number of ticks, i.e. after set_ticks() or using a FixedLocator.\n",
      "  ax.set_xticklabels([''] + input_sentence.split(' ') +\n",
      "/tmp/ipykernel_1021939/3577424216.py:14: UserWarning: set_ticklabels() should only be used with a fixed number of ticks, i.e. after set_ticks() or using a FixedLocator.\n",
      "  ax.set_yticklabels([''] + output_words)\n",
      "/tmp/ipykernel_1021939/3577424216.py:12: UserWarning: set_ticklabels() should only be used with a fixed number of ticks, i.e. after set_ticks() or using a FixedLocator.\n",
      "  ax.set_xticklabels([''] + input_sentence.split(' ') +\n",
      "/tmp/ipykernel_1021939/3577424216.py:14: UserWarning: set_ticklabels() should only be used with a fixed number of ticks, i.e. after set_ticks() or using a FixedLocator.\n",
      "  ax.set_yticklabels([''] + output_words)\n"
     ]
    },
    {
     "name": "stdout",
     "output_type": "stream",
     "text": [
      "< i love your town town <EOS>\n",
      "\n",
      "> a me piace leggere\n",
      "= i like reading\n",
      "input = a me piace leggere\n",
      "output = i like reading reading <EOS>\n",
      "< i like reading reading <EOS>\n",
      "\n",
      "> non riuscite a controllare tutto\n",
      "= you can t control everything\n",
      "input = non riuscite a controllare tutto\n",
      "output = can t control anything everything <EOS>\n"
     ]
    },
    {
     "name": "stderr",
     "output_type": "stream",
     "text": [
      "/tmp/ipykernel_1021939/3577424216.py:12: UserWarning: set_ticklabels() should only be used with a fixed number of ticks, i.e. after set_ticks() or using a FixedLocator.\n",
      "  ax.set_xticklabels([''] + input_sentence.split(' ') +\n",
      "/tmp/ipykernel_1021939/3577424216.py:14: UserWarning: set_ticklabels() should only be used with a fixed number of ticks, i.e. after set_ticks() or using a FixedLocator.\n",
      "  ax.set_yticklabels([''] + output_words)\n",
      "/tmp/ipykernel_1021939/3577424216.py:12: UserWarning: set_ticklabels() should only be used with a fixed number of ticks, i.e. after set_ticks() or using a FixedLocator.\n",
      "  ax.set_xticklabels([''] + input_sentence.split(' ') +\n",
      "/tmp/ipykernel_1021939/3577424216.py:14: UserWarning: set_ticklabels() should only be used with a fixed number of ticks, i.e. after set_ticks() or using a FixedLocator.\n",
      "  ax.set_yticklabels([''] + output_words)\n"
     ]
    },
    {
     "name": "stdout",
     "output_type": "stream",
     "text": [
      "< can t control anything everything <EOS>\n",
      "\n",
      "> tom e mary sono stati molto fortunati\n",
      "= tom and mary were very lucky\n",
      "input = tom e mary sono stati molto fortunati\n",
      "output = tom and mary were very lucky <EOS>\n",
      "< tom and mary were very lucky <EOS>\n",
      "\n",
      "> non costa denaro sorridere\n",
      "= it doesn t cost money to smile\n",
      "input = non costa denaro sorridere\n",
      "output = don t get my money test <EOS>\n"
     ]
    },
    {
     "name": "stderr",
     "output_type": "stream",
     "text": [
      "/tmp/ipykernel_1021939/3577424216.py:12: UserWarning: set_ticklabels() should only be used with a fixed number of ticks, i.e. after set_ticks() or using a FixedLocator.\n",
      "  ax.set_xticklabels([''] + input_sentence.split(' ') +\n",
      "/tmp/ipykernel_1021939/3577424216.py:14: UserWarning: set_ticklabels() should only be used with a fixed number of ticks, i.e. after set_ticks() or using a FixedLocator.\n",
      "  ax.set_yticklabels([''] + output_words)\n",
      "/tmp/ipykernel_1021939/3577424216.py:12: UserWarning: set_ticklabels() should only be used with a fixed number of ticks, i.e. after set_ticks() or using a FixedLocator.\n",
      "  ax.set_xticklabels([''] + input_sentence.split(' ') +\n",
      "/tmp/ipykernel_1021939/3577424216.py:14: UserWarning: set_ticklabels() should only be used with a fixed number of ticks, i.e. after set_ticks() or using a FixedLocator.\n",
      "  ax.set_yticklabels([''] + output_words)\n"
     ]
    },
    {
     "name": "stdout",
     "output_type": "stream",
     "text": [
      "< don t get my money test <EOS>\n",
      "\n"
     ]
    },
    {
     "data": {
      "image/png": "[encoded data removed]",
      "text/plain": [
       "<Figure size 640x480 with 2 Axes>"
      ]
     },
     "metadata": {},
     "output_type": "display_data"
    },
    {
     "data": {
      "image/png": "[encoded data removed]",
      "text/plain": [
       "<Figure size 640x480 with 2 Axes>"
      ]
     },
     "metadata": {},
     "output_type": "display_data"
    },
    {
     "data": {
      "image/png": "[encoded data removed]",
      "text/plain": [
       "<Figure size 640x480 with 2 Axes>"
      ]
     },
     "metadata": {},
     "output_type": "display_data"
    },
    {
     "data": {
      "image/png": "[encoded data removed]",
      "text/plain": [
       "<Figure size 640x480 with 2 Axes>"
      ]
     },
     "metadata": {},
     "output_type": "display_data"
    },
    {
     "data": {
      "image/png": "[encoded data removed]",
      "text/plain": [
       "<Figure size 640x480 with 2 Axes>"
      ]
     },
     "metadata": {},
     "output_type": "display_data"
    },
    {
     "data": {
      "image/png": "[encoded data removed]",
      "text/plain": [
       "<Figure size 640x480 with 2 Axes>"
      ]
     },
     "metadata": {},
     "output_type": "display_data"
    },
    {
     "data": {
      "image/png": "[encoded data removed]",
      "text/plain": [
       "<Figure size 640x480 with 2 Axes>"
      ]
     },
     "metadata": {},
     "output_type": "display_data"
    },
    {
     "data": {
      "image/png": "[encoded data removed]",
      "text/plain": [
       "<Figure size 640x480 with 2 Axes>"
      ]
     },
     "metadata": {},
     "output_type": "display_data"
    },
    {
     "data": {
      "image/png": "[encoded data removed]",
      "text/plain": [
       "<Figure size 640x480 with 2 Axes>"
      ]
     },
     "metadata": {},
     "output_type": "display_data"
    },
    {
     "data": {
      "image/png": "[encoded data removed]",
      "text/plain": [
       "<Figure size 640x480 with 2 Axes>"
      ]
     },
     "metadata": {},
     "output_type": "display_data"
    }
   ],
   "source": [
    "def evaluateRandomly(encoder, decoder, test_pairs, n=10):\n",
    "    for i in range(n):\n",
    "        pair = random.choice(test_pairs) #pair = [input_sentence, target_sentence]\n",
    "        print('>', pair[0])\n",
    "        print('=', pair[1])\n",
    "        output_words, _ = evaluate(encoder, decoder, pair[0], input_lang, output_lang)\n",
    "        output_sentence = ' '.join(output_words)\n",
    "        evaluateAndShowAttention(pair[0])\n",
    "        print('<', output_sentence)\n",
    "        print('')\n",
    "        \n",
    "\n",
    "encoder.eval()\n",
    "decoder.eval()\n",
    "evaluateRandomly(encoder, decoder, test_pairs)"
   ]
  },
  {
   "cell_type": "code",
   "execution_count": null,
   "metadata": {},
   "outputs": [],
   "source": []
  },
  {
   "cell_type": "code",
   "execution_count": 100,
   "metadata": {},
   "outputs": [
    {
     "name": "stdout",
     "output_type": "stream",
     "text": [
      "> tom ando a boston per trovare lavoro\n",
      "= tom went to boston to find work\n"
     ]
    },
    {
     "ename": "RuntimeError",
     "evalue": "mat1 and mat2 must have the same dtype, but got Long and Float",
     "output_type": "error",
     "traceback": [
      "\u001b[0;31m---------------------------------------------------------------------------\u001b[0m",
      "\u001b[0;31mRuntimeError\u001b[0m                              Traceback (most recent call last)",
      "Cell \u001b[0;32mIn[100], line 32\u001b[0m\n\u001b[1;32m     27\u001b[0m             decoder_input \u001b[38;5;241m=\u001b[39m topi\u001b[38;5;241m.\u001b[39msqueeze()\u001b[38;5;241m.\u001b[39mdetach()\n\u001b[1;32m     29\u001b[0m         \u001b[38;5;28;01mreturn\u001b[39;00m decoded_words, decoder_attentions[:di \u001b[38;5;241m+\u001b[39m \u001b[38;5;241m1\u001b[39m]\n\u001b[0;32m---> 32\u001b[0m evaluateRandomly(encoder, decoder, test_pairs, n\u001b[38;5;241m=\u001b[39m\u001b[38;5;241m10\u001b[39m)\n",
      "Cell \u001b[0;32mIn[98], line 6\u001b[0m, in \u001b[0;36mevaluateRandomly\u001b[0;34m(encoder, decoder, test_pairs, n)\u001b[0m\n\u001b[1;32m      4\u001b[0m \u001b[38;5;28mprint\u001b[39m(\u001b[38;5;124m'\u001b[39m\u001b[38;5;124m>\u001b[39m\u001b[38;5;124m'\u001b[39m, pair[\u001b[38;5;241m0\u001b[39m])\n\u001b[1;32m      5\u001b[0m \u001b[38;5;28mprint\u001b[39m(\u001b[38;5;124m'\u001b[39m\u001b[38;5;124m=\u001b[39m\u001b[38;5;124m'\u001b[39m, pair[\u001b[38;5;241m1\u001b[39m])\n\u001b[0;32m----> 6\u001b[0m output_words, _ \u001b[38;5;241m=\u001b[39m evaluate(encoder, decoder, pair[\u001b[38;5;241m0\u001b[39m], input_lang, output_lang)\n\u001b[1;32m      7\u001b[0m output_sentence \u001b[38;5;241m=\u001b[39m \u001b[38;5;124m'\u001b[39m\u001b[38;5;124m \u001b[39m\u001b[38;5;124m'\u001b[39m\u001b[38;5;241m.\u001b[39mjoin(output_words)\n\u001b[1;32m      8\u001b[0m evaluateAndShowAttention(pair[\u001b[38;5;241m0\u001b[39m])\n",
      "Cell \u001b[0;32mIn[100], line 15\u001b[0m, in \u001b[0;36mevaluate\u001b[0;34m(encoder, decoder, sentence, input_lang, output_lang, max_length)\u001b[0m\n\u001b[1;32m     12\u001b[0m decoder_attentions \u001b[38;5;241m=\u001b[39m torch\u001b[38;5;241m.\u001b[39mzeros(max_length, max_length)\n\u001b[1;32m     14\u001b[0m \u001b[38;5;28;01mfor\u001b[39;00m di \u001b[38;5;129;01min\u001b[39;00m \u001b[38;5;28mrange\u001b[39m(max_length):\n\u001b[0;32m---> 15\u001b[0m     decoder_output, decoder_hidden, decoder_attention \u001b[38;5;241m=\u001b[39m decoder(\n\u001b[1;32m     16\u001b[0m         decoder_input, decoder_hidden, encoder_outputs\n\u001b[1;32m     17\u001b[0m     )\n\u001b[1;32m     18\u001b[0m     decoder_attentions[di] \u001b[38;5;241m=\u001b[39m decoder_attention\u001b[38;5;241m.\u001b[39mdata\n\u001b[1;32m     20\u001b[0m     topv, topi \u001b[38;5;241m=\u001b[39m decoder_output\u001b[38;5;241m.\u001b[39mdata\u001b[38;5;241m.\u001b[39mtopk(\u001b[38;5;241m1\u001b[39m)\n",
      "File \u001b[0;32m~/anaconda3/lib/python3.11/site-packages/torch/nn/modules/module.py:1518\u001b[0m, in \u001b[0;36mModule._wrapped_call_impl\u001b[0;34m(self, *args, **kwargs)\u001b[0m\n\u001b[1;32m   1516\u001b[0m     \u001b[38;5;28;01mreturn\u001b[39;00m \u001b[38;5;28mself\u001b[39m\u001b[38;5;241m.\u001b[39m_compiled_call_impl(\u001b[38;5;241m*\u001b[39margs, \u001b[38;5;241m*\u001b[39m\u001b[38;5;241m*\u001b[39mkwargs)  \u001b[38;5;66;03m# type: ignore[misc]\u001b[39;00m\n\u001b[1;32m   1517\u001b[0m \u001b[38;5;28;01melse\u001b[39;00m:\n\u001b[0;32m-> 1518\u001b[0m     \u001b[38;5;28;01mreturn\u001b[39;00m \u001b[38;5;28mself\u001b[39m\u001b[38;5;241m.\u001b[39m_call_impl(\u001b[38;5;241m*\u001b[39margs, \u001b[38;5;241m*\u001b[39m\u001b[38;5;241m*\u001b[39mkwargs)\n",
      "File \u001b[0;32m~/anaconda3/lib/python3.11/site-packages/torch/nn/modules/module.py:1527\u001b[0m, in \u001b[0;36mModule._call_impl\u001b[0;34m(self, *args, **kwargs)\u001b[0m\n\u001b[1;32m   1522\u001b[0m \u001b[38;5;66;03m# If we don't have any hooks, we want to skip the rest of the logic in\u001b[39;00m\n\u001b[1;32m   1523\u001b[0m \u001b[38;5;66;03m# this function, and just call forward.\u001b[39;00m\n\u001b[1;32m   1524\u001b[0m \u001b[38;5;28;01mif\u001b[39;00m \u001b[38;5;129;01mnot\u001b[39;00m (\u001b[38;5;28mself\u001b[39m\u001b[38;5;241m.\u001b[39m_backward_hooks \u001b[38;5;129;01mor\u001b[39;00m \u001b[38;5;28mself\u001b[39m\u001b[38;5;241m.\u001b[39m_backward_pre_hooks \u001b[38;5;129;01mor\u001b[39;00m \u001b[38;5;28mself\u001b[39m\u001b[38;5;241m.\u001b[39m_forward_hooks \u001b[38;5;129;01mor\u001b[39;00m \u001b[38;5;28mself\u001b[39m\u001b[38;5;241m.\u001b[39m_forward_pre_hooks\n\u001b[1;32m   1525\u001b[0m         \u001b[38;5;129;01mor\u001b[39;00m _global_backward_pre_hooks \u001b[38;5;129;01mor\u001b[39;00m _global_backward_hooks\n\u001b[1;32m   1526\u001b[0m         \u001b[38;5;129;01mor\u001b[39;00m _global_forward_hooks \u001b[38;5;129;01mor\u001b[39;00m _global_forward_pre_hooks):\n\u001b[0;32m-> 1527\u001b[0m     \u001b[38;5;28;01mreturn\u001b[39;00m forward_call(\u001b[38;5;241m*\u001b[39margs, \u001b[38;5;241m*\u001b[39m\u001b[38;5;241m*\u001b[39mkwargs)\n\u001b[1;32m   1529\u001b[0m \u001b[38;5;28;01mtry\u001b[39;00m:\n\u001b[1;32m   1530\u001b[0m     result \u001b[38;5;241m=\u001b[39m \u001b[38;5;28;01mNone\u001b[39;00m\n",
      "Cell \u001b[0;32mIn[85], line 73\u001b[0m, in \u001b[0;36mAttnDecoderRNN.forward\u001b[0;34m(self, encoder_outputs, encoder_hidden, target_tensor)\u001b[0m\n\u001b[1;32m     69\u001b[0m attentions \u001b[38;5;241m=\u001b[39m []\n\u001b[1;32m     71\u001b[0m \u001b[38;5;28;01mfor\u001b[39;00m i \u001b[38;5;129;01min\u001b[39;00m \u001b[38;5;28mrange\u001b[39m(MAX_LENGTH):\n\u001b[1;32m     72\u001b[0m     \u001b[38;5;66;03m#Make a forward step in the decoder, get the output, hidden state and attention weights for the decoder\u001b[39;00m\n\u001b[0;32m---> 73\u001b[0m     decoder_output, decoder_hidden, attn_weights \u001b[38;5;241m=\u001b[39m \u001b[38;5;28mself\u001b[39m\u001b[38;5;241m.\u001b[39mforward_step(decoder_input, decoder_hidden, encoder_outputs)\n\u001b[1;32m     75\u001b[0m     \u001b[38;5;66;03m#Append the decoder output and attention weights to their respective lists\u001b[39;00m\n\u001b[1;32m     76\u001b[0m     decoder_outputs\u001b[38;5;241m.\u001b[39mappend(decoder_output)\n",
      "Cell \u001b[0;32mIn[85], line 111\u001b[0m, in \u001b[0;36mAttnDecoderRNN.forward_step\u001b[0;34m(self, input, hidden, encoder_outputs)\u001b[0m\n\u001b[1;32m    108\u001b[0m query \u001b[38;5;241m=\u001b[39m hidden\u001b[38;5;241m.\u001b[39mpermute(\u001b[38;5;241m1\u001b[39m, \u001b[38;5;241m0\u001b[39m, \u001b[38;5;241m2\u001b[39m) \u001b[38;5;66;03m#from [1, batch_size, hidden_size] to [batch_size, 1, hidden_size]\u001b[39;00m\n\u001b[1;32m    110\u001b[0m \u001b[38;5;66;03m#Get the context vector and attention weights by applying the attention mechanism (Bahdanau)\u001b[39;00m\n\u001b[0;32m--> 111\u001b[0m context, attn_weights \u001b[38;5;241m=\u001b[39m \u001b[38;5;28mself\u001b[39m\u001b[38;5;241m.\u001b[39mattention(query, encoder_outputs)\n\u001b[1;32m    113\u001b[0m \u001b[38;5;66;03m#Concatenate the embeddings and context vector along the hidden size dimension\u001b[39;00m\n\u001b[1;32m    114\u001b[0m input_gru \u001b[38;5;241m=\u001b[39m torch\u001b[38;5;241m.\u001b[39mcat((embedded, context), dim\u001b[38;5;241m=\u001b[39m\u001b[38;5;241m2\u001b[39m) \u001b[38;5;66;03m#Concatenation shape is [batch_size x 1 x 2 * hidden_size]\u001b[39;00m\n",
      "File \u001b[0;32m~/anaconda3/lib/python3.11/site-packages/torch/nn/modules/module.py:1518\u001b[0m, in \u001b[0;36mModule._wrapped_call_impl\u001b[0;34m(self, *args, **kwargs)\u001b[0m\n\u001b[1;32m   1516\u001b[0m     \u001b[38;5;28;01mreturn\u001b[39;00m \u001b[38;5;28mself\u001b[39m\u001b[38;5;241m.\u001b[39m_compiled_call_impl(\u001b[38;5;241m*\u001b[39margs, \u001b[38;5;241m*\u001b[39m\u001b[38;5;241m*\u001b[39mkwargs)  \u001b[38;5;66;03m# type: ignore[misc]\u001b[39;00m\n\u001b[1;32m   1517\u001b[0m \u001b[38;5;28;01melse\u001b[39;00m:\n\u001b[0;32m-> 1518\u001b[0m     \u001b[38;5;28;01mreturn\u001b[39;00m \u001b[38;5;28mself\u001b[39m\u001b[38;5;241m.\u001b[39m_call_impl(\u001b[38;5;241m*\u001b[39margs, \u001b[38;5;241m*\u001b[39m\u001b[38;5;241m*\u001b[39mkwargs)\n",
      "File \u001b[0;32m~/anaconda3/lib/python3.11/site-packages/torch/nn/modules/module.py:1527\u001b[0m, in \u001b[0;36mModule._call_impl\u001b[0;34m(self, *args, **kwargs)\u001b[0m\n\u001b[1;32m   1522\u001b[0m \u001b[38;5;66;03m# If we don't have any hooks, we want to skip the rest of the logic in\u001b[39;00m\n\u001b[1;32m   1523\u001b[0m \u001b[38;5;66;03m# this function, and just call forward.\u001b[39;00m\n\u001b[1;32m   1524\u001b[0m \u001b[38;5;28;01mif\u001b[39;00m \u001b[38;5;129;01mnot\u001b[39;00m (\u001b[38;5;28mself\u001b[39m\u001b[38;5;241m.\u001b[39m_backward_hooks \u001b[38;5;129;01mor\u001b[39;00m \u001b[38;5;28mself\u001b[39m\u001b[38;5;241m.\u001b[39m_backward_pre_hooks \u001b[38;5;129;01mor\u001b[39;00m \u001b[38;5;28mself\u001b[39m\u001b[38;5;241m.\u001b[39m_forward_hooks \u001b[38;5;129;01mor\u001b[39;00m \u001b[38;5;28mself\u001b[39m\u001b[38;5;241m.\u001b[39m_forward_pre_hooks\n\u001b[1;32m   1525\u001b[0m         \u001b[38;5;129;01mor\u001b[39;00m _global_backward_pre_hooks \u001b[38;5;129;01mor\u001b[39;00m _global_backward_hooks\n\u001b[1;32m   1526\u001b[0m         \u001b[38;5;129;01mor\u001b[39;00m _global_forward_hooks \u001b[38;5;129;01mor\u001b[39;00m _global_forward_pre_hooks):\n\u001b[0;32m-> 1527\u001b[0m     \u001b[38;5;28;01mreturn\u001b[39;00m forward_call(\u001b[38;5;241m*\u001b[39margs, \u001b[38;5;241m*\u001b[39m\u001b[38;5;241m*\u001b[39mkwargs)\n\u001b[1;32m   1529\u001b[0m \u001b[38;5;28;01mtry\u001b[39;00m:\n\u001b[1;32m   1530\u001b[0m     result \u001b[38;5;241m=\u001b[39m \u001b[38;5;28;01mNone\u001b[39;00m\n",
      "Cell \u001b[0;32mIn[85], line 18\u001b[0m, in \u001b[0;36mBahdanauAttention.forward\u001b[0;34m(self, query, keys)\u001b[0m\n\u001b[1;32m     16\u001b[0m \u001b[38;5;28;01mdef\u001b[39;00m \u001b[38;5;21mforward\u001b[39m(\u001b[38;5;28mself\u001b[39m, query, keys):\n\u001b[1;32m     17\u001b[0m     \u001b[38;5;66;03m#Get the sum of the projection of the query and keys\u001b[39;00m\n\u001b[0;32m---> 18\u001b[0m     addition \u001b[38;5;241m=\u001b[39m \u001b[38;5;28mself\u001b[39m\u001b[38;5;241m.\u001b[39mWa(query) \u001b[38;5;241m+\u001b[39m \u001b[38;5;28mself\u001b[39m\u001b[38;5;241m.\u001b[39mUa(keys) \u001b[38;5;66;03m#Addition shape is [batch_size x seq_len x hidden_size]\u001b[39;00m\n\u001b[1;32m     20\u001b[0m     \u001b[38;5;66;03m#Apply a non-linearity to the sum (tanh in this case because we want to keep the values between -1 and 1)\u001b[39;00m\n\u001b[1;32m     21\u001b[0m     activated_addition \u001b[38;5;241m=\u001b[39m torch\u001b[38;5;241m.\u001b[39mtanh(addition)\u001b[38;5;66;03m#Activated addition shape is [batch_size x seq_len x hidden_size]\u001b[39;00m\n",
      "File \u001b[0;32m~/anaconda3/lib/python3.11/site-packages/torch/nn/modules/module.py:1518\u001b[0m, in \u001b[0;36mModule._wrapped_call_impl\u001b[0;34m(self, *args, **kwargs)\u001b[0m\n\u001b[1;32m   1516\u001b[0m     \u001b[38;5;28;01mreturn\u001b[39;00m \u001b[38;5;28mself\u001b[39m\u001b[38;5;241m.\u001b[39m_compiled_call_impl(\u001b[38;5;241m*\u001b[39margs, \u001b[38;5;241m*\u001b[39m\u001b[38;5;241m*\u001b[39mkwargs)  \u001b[38;5;66;03m# type: ignore[misc]\u001b[39;00m\n\u001b[1;32m   1517\u001b[0m \u001b[38;5;28;01melse\u001b[39;00m:\n\u001b[0;32m-> 1518\u001b[0m     \u001b[38;5;28;01mreturn\u001b[39;00m \u001b[38;5;28mself\u001b[39m\u001b[38;5;241m.\u001b[39m_call_impl(\u001b[38;5;241m*\u001b[39margs, \u001b[38;5;241m*\u001b[39m\u001b[38;5;241m*\u001b[39mkwargs)\n",
      "File \u001b[0;32m~/anaconda3/lib/python3.11/site-packages/torch/nn/modules/module.py:1527\u001b[0m, in \u001b[0;36mModule._call_impl\u001b[0;34m(self, *args, **kwargs)\u001b[0m\n\u001b[1;32m   1522\u001b[0m \u001b[38;5;66;03m# If we don't have any hooks, we want to skip the rest of the logic in\u001b[39;00m\n\u001b[1;32m   1523\u001b[0m \u001b[38;5;66;03m# this function, and just call forward.\u001b[39;00m\n\u001b[1;32m   1524\u001b[0m \u001b[38;5;28;01mif\u001b[39;00m \u001b[38;5;129;01mnot\u001b[39;00m (\u001b[38;5;28mself\u001b[39m\u001b[38;5;241m.\u001b[39m_backward_hooks \u001b[38;5;129;01mor\u001b[39;00m \u001b[38;5;28mself\u001b[39m\u001b[38;5;241m.\u001b[39m_backward_pre_hooks \u001b[38;5;129;01mor\u001b[39;00m \u001b[38;5;28mself\u001b[39m\u001b[38;5;241m.\u001b[39m_forward_hooks \u001b[38;5;129;01mor\u001b[39;00m \u001b[38;5;28mself\u001b[39m\u001b[38;5;241m.\u001b[39m_forward_pre_hooks\n\u001b[1;32m   1525\u001b[0m         \u001b[38;5;129;01mor\u001b[39;00m _global_backward_pre_hooks \u001b[38;5;129;01mor\u001b[39;00m _global_backward_hooks\n\u001b[1;32m   1526\u001b[0m         \u001b[38;5;129;01mor\u001b[39;00m _global_forward_hooks \u001b[38;5;129;01mor\u001b[39;00m _global_forward_pre_hooks):\n\u001b[0;32m-> 1527\u001b[0m     \u001b[38;5;28;01mreturn\u001b[39;00m forward_call(\u001b[38;5;241m*\u001b[39margs, \u001b[38;5;241m*\u001b[39m\u001b[38;5;241m*\u001b[39mkwargs)\n\u001b[1;32m   1529\u001b[0m \u001b[38;5;28;01mtry\u001b[39;00m:\n\u001b[1;32m   1530\u001b[0m     result \u001b[38;5;241m=\u001b[39m \u001b[38;5;28;01mNone\u001b[39;00m\n",
      "File \u001b[0;32m~/anaconda3/lib/python3.11/site-packages/torch/nn/modules/linear.py:114\u001b[0m, in \u001b[0;36mLinear.forward\u001b[0;34m(self, input)\u001b[0m\n\u001b[1;32m    113\u001b[0m \u001b[38;5;28;01mdef\u001b[39;00m \u001b[38;5;21mforward\u001b[39m(\u001b[38;5;28mself\u001b[39m, \u001b[38;5;28minput\u001b[39m: Tensor) \u001b[38;5;241m-\u001b[39m\u001b[38;5;241m>\u001b[39m Tensor:\n\u001b[0;32m--> 114\u001b[0m     \u001b[38;5;28;01mreturn\u001b[39;00m F\u001b[38;5;241m.\u001b[39mlinear(\u001b[38;5;28minput\u001b[39m, \u001b[38;5;28mself\u001b[39m\u001b[38;5;241m.\u001b[39mweight, \u001b[38;5;28mself\u001b[39m\u001b[38;5;241m.\u001b[39mbias)\n",
      "\u001b[0;31mRuntimeError\u001b[0m: mat1 and mat2 must have the same dtype, but got Long and Float"
     ]
    }
   ],
   "source": [
    "def evaluate(encoder, decoder, sentence, input_lang, output_lang, max_length=MAX_LENGTH):\n",
    "    with torch.no_grad():\n",
    "        input_tensor = sentence_to_tensor(input_lang, sentence)\n",
    "        input_length = input_tensor.size(0)\n",
    "        \n",
    "        encoder_outputs, encoder_hidden = encoder(input_tensor)\n",
    "        \n",
    "        decoder_input = torch.tensor([[SOS_token]], device=device)  # SOS\n",
    "        decoder_hidden = encoder_hidden\n",
    "\n",
    "        decoded_words = []\n",
    "        decoder_attentions = torch.zeros(max_length, max_length)\n",
    "        \n",
    "        for di in range(max_length):\n",
    "            decoder_output, decoder_hidden, decoder_attention = decoder(\n",
    "                decoder_input, decoder_hidden, encoder_outputs\n",
    "            )\n",
    "            decoder_attentions[di] = decoder_attention.data\n",
    "            \n",
    "            topv, topi = decoder_output.data.topk(1)\n",
    "            if topi.item() == EOS_token:\n",
    "                decoded_words.append('<EOS>')\n",
    "                break\n",
    "            else:\n",
    "                decoded_words.append(output_lang.index2word[topi.item()])\n",
    "\n",
    "            decoder_input = topi.squeeze().detach()\n",
    "\n",
    "        return decoded_words, decoder_attentions[:di + 1]\n",
    "\n",
    "\n",
    "evaluateRandomly(encoder, decoder, test_pairs, n=10)"
   ]
  },
  {
   "cell_type": "code",
   "execution_count": null,
   "metadata": {},
   "outputs": [],
   "source": []
  },
  {
   "cell_type": "code",
   "execution_count": null,
   "metadata": {},
   "outputs": [],
   "source": []
  },
  {
   "cell_type": "markdown",
   "metadata": {},
   "source": [
    "#### Quantitative Evluation\n",
    "\n",
    "We will use BLEU"
   ]
  },
  {
   "cell_type": "code",
   "execution_count": 99,
   "metadata": {},
   "outputs": [
    {
     "ename": "IndexError",
     "evalue": "index 1 is out of bounds for dimension 1 with size 1",
     "output_type": "error",
     "traceback": [
      "\u001b[0;31m---------------------------------------------------------------------------\u001b[0m",
      "\u001b[0;31mIndexError\u001b[0m                                Traceback (most recent call last)",
      "Cell \u001b[0;32mIn[99], line 41\u001b[0m\n\u001b[1;32m     38\u001b[0m     \u001b[38;5;28mprint\u001b[39m(\u001b[38;5;124mf\u001b[39m\u001b[38;5;124m'\u001b[39m\u001b[38;5;124mBLEU score on test dataset: \u001b[39m\u001b[38;5;132;01m{\u001b[39;00mbleu_score\u001b[38;5;132;01m:\u001b[39;00m\u001b[38;5;124m.4f\u001b[39m\u001b[38;5;132;01m}\u001b[39;00m\u001b[38;5;124m'\u001b[39m)\n\u001b[1;32m     40\u001b[0m \u001b[38;5;66;03m# Example usage\u001b[39;00m\n\u001b[0;32m---> 41\u001b[0m evaluate_bleu(encoder, decoder, test_pairs, input_lang, output_lang)\n",
      "Cell \u001b[0;32mIn[99], line 32\u001b[0m, in \u001b[0;36mevaluate_bleu\u001b[0;34m(encoder, decoder, pairs, input_lang, output_lang, n)\u001b[0m\n\u001b[1;32m     30\u001b[0m \u001b[38;5;28;01mfor\u001b[39;00m i \u001b[38;5;129;01min\u001b[39;00m \u001b[38;5;28mrange\u001b[39m(n):\n\u001b[1;32m     31\u001b[0m     pair \u001b[38;5;241m=\u001b[39m random\u001b[38;5;241m.\u001b[39mchoice(pairs)\n\u001b[0;32m---> 32\u001b[0m     output_words, attentions \u001b[38;5;241m=\u001b[39m evaluate(encoder, decoder, pair[\u001b[38;5;241m0\u001b[39m], input_lang, output_lang)\n\u001b[1;32m     33\u001b[0m     references\u001b[38;5;241m.\u001b[39mappend([pair[\u001b[38;5;241m1\u001b[39m]\u001b[38;5;241m.\u001b[39msplit(\u001b[38;5;124m'\u001b[39m\u001b[38;5;124m \u001b[39m\u001b[38;5;124m'\u001b[39m)])  \u001b[38;5;66;03m# the reference sentence\u001b[39;00m\n\u001b[1;32m     34\u001b[0m     candidates\u001b[38;5;241m.\u001b[39mappend(output_words[:\u001b[38;5;241m-\u001b[39m\u001b[38;5;241m1\u001b[39m])  \u001b[38;5;66;03m# the candidate sentence, exclude <EOS>\u001b[39;00m\n",
      "Cell \u001b[0;32mIn[99], line 14\u001b[0m, in \u001b[0;36mevaluate\u001b[0;34m(encoder, decoder, sentence, input_lang, output_lang, max_length)\u001b[0m\n\u001b[1;32m     11\u001b[0m decoder_attentions \u001b[38;5;241m=\u001b[39m torch\u001b[38;5;241m.\u001b[39mzeros(max_length, max_length)\n\u001b[1;32m     13\u001b[0m \u001b[38;5;28;01mfor\u001b[39;00m di \u001b[38;5;129;01min\u001b[39;00m \u001b[38;5;28mrange\u001b[39m(max_length):\n\u001b[0;32m---> 14\u001b[0m     decoder_output, decoder_hidden, decoder_attention \u001b[38;5;241m=\u001b[39m decoder(\n\u001b[1;32m     15\u001b[0m         encoder_outputs, decoder_hidden, decoder_input)\n\u001b[1;32m     16\u001b[0m     decoder_attentions[di] \u001b[38;5;241m=\u001b[39m decoder_attention\u001b[38;5;241m.\u001b[39mdata\u001b[38;5;241m.\u001b[39msqueeze(\u001b[38;5;241m0\u001b[39m)\n\u001b[1;32m     17\u001b[0m     topv, topi \u001b[38;5;241m=\u001b[39m decoder_output\u001b[38;5;241m.\u001b[39mdata\u001b[38;5;241m.\u001b[39mtopk(\u001b[38;5;241m1\u001b[39m)\n",
      "File \u001b[0;32m~/anaconda3/lib/python3.11/site-packages/torch/nn/modules/module.py:1518\u001b[0m, in \u001b[0;36mModule._wrapped_call_impl\u001b[0;34m(self, *args, **kwargs)\u001b[0m\n\u001b[1;32m   1516\u001b[0m     \u001b[38;5;28;01mreturn\u001b[39;00m \u001b[38;5;28mself\u001b[39m\u001b[38;5;241m.\u001b[39m_compiled_call_impl(\u001b[38;5;241m*\u001b[39margs, \u001b[38;5;241m*\u001b[39m\u001b[38;5;241m*\u001b[39mkwargs)  \u001b[38;5;66;03m# type: ignore[misc]\u001b[39;00m\n\u001b[1;32m   1517\u001b[0m \u001b[38;5;28;01melse\u001b[39;00m:\n\u001b[0;32m-> 1518\u001b[0m     \u001b[38;5;28;01mreturn\u001b[39;00m \u001b[38;5;28mself\u001b[39m\u001b[38;5;241m.\u001b[39m_call_impl(\u001b[38;5;241m*\u001b[39margs, \u001b[38;5;241m*\u001b[39m\u001b[38;5;241m*\u001b[39mkwargs)\n",
      "File \u001b[0;32m~/anaconda3/lib/python3.11/site-packages/torch/nn/modules/module.py:1527\u001b[0m, in \u001b[0;36mModule._call_impl\u001b[0;34m(self, *args, **kwargs)\u001b[0m\n\u001b[1;32m   1522\u001b[0m \u001b[38;5;66;03m# If we don't have any hooks, we want to skip the rest of the logic in\u001b[39;00m\n\u001b[1;32m   1523\u001b[0m \u001b[38;5;66;03m# this function, and just call forward.\u001b[39;00m\n\u001b[1;32m   1524\u001b[0m \u001b[38;5;28;01mif\u001b[39;00m \u001b[38;5;129;01mnot\u001b[39;00m (\u001b[38;5;28mself\u001b[39m\u001b[38;5;241m.\u001b[39m_backward_hooks \u001b[38;5;129;01mor\u001b[39;00m \u001b[38;5;28mself\u001b[39m\u001b[38;5;241m.\u001b[39m_backward_pre_hooks \u001b[38;5;129;01mor\u001b[39;00m \u001b[38;5;28mself\u001b[39m\u001b[38;5;241m.\u001b[39m_forward_hooks \u001b[38;5;129;01mor\u001b[39;00m \u001b[38;5;28mself\u001b[39m\u001b[38;5;241m.\u001b[39m_forward_pre_hooks\n\u001b[1;32m   1525\u001b[0m         \u001b[38;5;129;01mor\u001b[39;00m _global_backward_pre_hooks \u001b[38;5;129;01mor\u001b[39;00m _global_backward_hooks\n\u001b[1;32m   1526\u001b[0m         \u001b[38;5;129;01mor\u001b[39;00m _global_forward_hooks \u001b[38;5;129;01mor\u001b[39;00m _global_forward_pre_hooks):\n\u001b[0;32m-> 1527\u001b[0m     \u001b[38;5;28;01mreturn\u001b[39;00m forward_call(\u001b[38;5;241m*\u001b[39margs, \u001b[38;5;241m*\u001b[39m\u001b[38;5;241m*\u001b[39mkwargs)\n\u001b[1;32m   1529\u001b[0m \u001b[38;5;28;01mtry\u001b[39;00m:\n\u001b[1;32m   1530\u001b[0m     result \u001b[38;5;241m=\u001b[39m \u001b[38;5;28;01mNone\u001b[39;00m\n",
      "Cell \u001b[0;32mIn[85], line 82\u001b[0m, in \u001b[0;36mAttnDecoderRNN.forward\u001b[0;34m(self, encoder_outputs, encoder_hidden, target_tensor)\u001b[0m\n\u001b[1;32m     79\u001b[0m \u001b[38;5;66;03m#If there is a target tensor, use it as the next input, otherwise use the decoder output\u001b[39;00m\n\u001b[1;32m     80\u001b[0m \u001b[38;5;28;01mif\u001b[39;00m target_tensor \u001b[38;5;129;01mis\u001b[39;00m \u001b[38;5;129;01mnot\u001b[39;00m \u001b[38;5;28;01mNone\u001b[39;00m:\n\u001b[1;32m     81\u001b[0m     \u001b[38;5;66;03m# Teacher forcing: Feed the target as the next input\u001b[39;00m\n\u001b[0;32m---> 82\u001b[0m     decoder_input \u001b[38;5;241m=\u001b[39m target_tensor[:, i]\u001b[38;5;241m.\u001b[39munsqueeze(\u001b[38;5;241m1\u001b[39m) \u001b[38;5;66;03m# Teacher forcing\u001b[39;00m\n\u001b[1;32m     83\u001b[0m \u001b[38;5;28;01melse\u001b[39;00m:\n\u001b[1;32m     84\u001b[0m     \u001b[38;5;66;03m# Without teacher forcing: use its own predictions as the next input\u001b[39;00m\n\u001b[1;32m     85\u001b[0m     _, topi \u001b[38;5;241m=\u001b[39m decoder_output\u001b[38;5;241m.\u001b[39mtopk(\u001b[38;5;241m1\u001b[39m) \u001b[38;5;66;03m#Get the index of the maximum value\u001b[39;00m\n",
      "\u001b[0;31mIndexError\u001b[0m: index 1 is out of bounds for dimension 1 with size 1"
     ]
    }
   ],
   "source": [
    "from nltk.translate.bleu_score import corpus_bleu, SmoothingFunction\n",
    "\n",
    "def evaluate(encoder, decoder, sentence, input_lang, output_lang, max_length=MAX_LENGTH):\n",
    "    with torch.no_grad():\n",
    "        input_tensor = sentence_to_tensor(input_lang, sentence).to(device)\n",
    "        encoder_outputs, encoder_hidden = encoder(input_tensor)\n",
    "\n",
    "        decoder_input = torch.tensor([[SOS_token]], device=device)  # SOS\n",
    "        decoder_hidden = encoder_hidden  # Use the last hidden state from the encoder to start the decoder\n",
    "        decoded_words = []\n",
    "        decoder_attentions = torch.zeros(max_length, max_length)\n",
    "\n",
    "        for di in range(max_length):\n",
    "            decoder_output, decoder_hidden, decoder_attention = decoder(\n",
    "                encoder_outputs, decoder_hidden, decoder_input)\n",
    "            decoder_attentions[di] = decoder_attention.data.squeeze(0)\n",
    "            topv, topi = decoder_output.data.topk(1)\n",
    "            if topi.item() == EOS_token:\n",
    "                decoded_words.append('<EOS>')\n",
    "                break\n",
    "            else:\n",
    "                decoded_words.append(output_lang.index2word[topi.item()])\n",
    "            decoder_input = topi.squeeze().detach()\n",
    "\n",
    "        return decoded_words, decoder_attentions[:di + 1]\n",
    "\n",
    "def evaluate_bleu(encoder, decoder, pairs, input_lang, output_lang, n=1000):\n",
    "    references = []\n",
    "    candidates = []\n",
    "    for i in range(n):\n",
    "        pair = random.choice(pairs)\n",
    "        output_words, attentions = evaluate(encoder, decoder, pair[0], input_lang, output_lang)\n",
    "        references.append([pair[1].split(' ')])  # the reference sentence\n",
    "        candidates.append(output_words[:-1])  # the candidate sentence, exclude <EOS>\n",
    "\n",
    "    # Calculate BLEU score\n",
    "    bleu_score = corpus_bleu(references, candidates, smoothing_function=SmoothingFunction().method4)\n",
    "    print(f'BLEU score on test dataset: {bleu_score:.4f}')\n",
    "\n",
    "# Example usage\n",
    "evaluate_bleu(encoder, decoder, test_pairs, input_lang, output_lang)\n"
   ]
  },
  {
   "cell_type": "code",
   "execution_count": null,
   "metadata": {},
   "outputs": [],
   "source": []
  },
  {
   "cell_type": "code",
   "execution_count": null,
   "metadata": {},
   "outputs": [],
   "source": []
  },
  {
   "cell_type": "markdown",
   "metadata": {},
   "source": [
    "Exercises\n",
    "=========\n",
    "\n",
    "-   Try with a different dataset\n",
    "    -   Another language pair\n",
    "    -   Human → Machine (e.g. IOT commands)\n",
    "    -   Chat → Response\n",
    "    -   Question → Answer\n",
    "-   Replace the embeddings with pretrained word embeddings such as\n",
    "    `word2vec` or `GloVe`\n",
    "-   Try with more layers, more hidden units, and more sentences. Compare\n",
    "    the training time and results.\n",
    "-   If you use a translation file where pairs have two of the same\n",
    "    phrase (`I am test \\t I am test`), you can use this as an\n",
    "    autoencoder. Try this:\n",
    "    -   Train as an autoencoder\n",
    "    -   Save only the Encoder network\n",
    "    -   Train a new Decoder for translation from there\n"
   ]
  },
  {
   "cell_type": "markdown",
   "metadata": {},
   "source": []
  }
 ],
 "metadata": {
  "kernelspec": {
   "display_name": "Python 3",
   "language": "python",
   "name": "python3"
  },
  "language_info": {
   "codemirror_mode": {
    "name": "ipython",
    "version": 3
   },
   "file_extension": ".py",
   "mimetype": "text/x-python",
   "name": "python",
   "nbconvert_exporter": "python",
   "pygments_lexer": "ipython3",
   "version": "3.11.5"
  }
 },
 "nbformat": 4,
 "nbformat_minor": 0
}
