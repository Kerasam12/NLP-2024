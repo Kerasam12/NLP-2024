{
 "cells": [
  {
   "cell_type": "markdown",
   "metadata": {},
   "source": [
    "# LAB 6: Machine Translation. Italian to English with Seq2Seq RNNs with attention mechanism."
   ]
  },
  {
   "cell_type": "markdown",
   "metadata": {},
   "source": [
    "### Objectives:\n",
    "1. Understand the seq2seq model architecture.\n",
    "2. Understand the attention mechanism.\n",
    "3. Implement a seq2seq model with attention mechanism for machine translation.\n",
    "4. Train the model on a Italian to English translation dataset.\n",
    "5. Translate Italian sentences to English.\n",
    "6. Evaluate the model using quantitative and qualitative evaluation methods."
   ]
  },
  {
   "cell_type": "markdown",
   "metadata": {},
   "source": [
    "#### Importing Required Libraries\n"
   ]
  },
  {
   "cell_type": "code",
   "execution_count": 14,
   "metadata": {
    "collapsed": false
   },
   "outputs": [],
   "source": [
    "%matplotlib inline\n",
    "\n",
    "from __future__ import unicode_literals, print_function, division\n",
    "from io import open\n",
    "import unicodedata\n",
    "import re\n",
    "import random\n",
    "import torch.optim as optim\n",
    "\n",
    "\n",
    "import torch\n",
    "import torch.nn as nn\n",
    "from torch import optim\n",
    "import torch.nn.functional as F\n",
    "\n",
    "\n",
    "from sklearn.model_selection import train_test_split\n",
    "import numpy as np\n",
    "from torch.utils.data import TensorDataset, DataLoader, RandomSampler\n",
    "\n",
    "device = torch.device(\"cuda\" if torch.cuda.is_available() else \"cpu\")"
   ]
  },
  {
   "cell_type": "markdown",
   "metadata": {},
   "source": [
    "## Data and SetUp"
   ]
  },
  {
   "cell_type": "markdown",
   "metadata": {},
   "source": [
    "#### Set Up Wandb for Experiment Tracking"
   ]
  },
  {
   "cell_type": "code",
   "execution_count": 72,
   "metadata": {},
   "outputs": [
    {
     "data": {
      "text/html": [
       "Tracking run with wandb version 0.16.6"
      ],
      "text/plain": [
       "<IPython.core.display.HTML object>"
      ]
     },
     "metadata": {},
     "output_type": "display_data"
    },
    {
     "data": {
      "text/html": [
       "Run data is saved locally in <code>/export/hhome/nlp2_g09/NLP-2024/wandb/run-20240413_182757-p5xzb3zq</code>"
      ],
      "text/plain": [
       "<IPython.core.display.HTML object>"
      ]
     },
     "metadata": {},
     "output_type": "display_data"
    },
    {
     "data": {
      "text/html": [
       "Syncing run <strong><a href='https://wandb.ai/nlp_2024/Machine_Translation/runs/p5xzb3zq' target=\"_blank\">trial_1</a></strong> to <a href='https://wandb.ai/nlp_2024/Machine_Translation' target=\"_blank\">Weights & Biases</a> (<a href='https://wandb.me/run' target=\"_blank\">docs</a>)<br/>"
      ],
      "text/plain": [
       "<IPython.core.display.HTML object>"
      ]
     },
     "metadata": {},
     "output_type": "display_data"
    },
    {
     "data": {
      "text/html": [
       " View project at <a href='https://wandb.ai/nlp_2024/Machine_Translation' target=\"_blank\">https://wandb.ai/nlp_2024/Machine_Translation</a>"
      ],
      "text/plain": [
       "<IPython.core.display.HTML object>"
      ]
     },
     "metadata": {},
     "output_type": "display_data"
    },
    {
     "data": {
      "text/html": [
       " View run at <a href='https://wandb.ai/nlp_2024/Machine_Translation/runs/p5xzb3zq' target=\"_blank\">https://wandb.ai/nlp_2024/Machine_Translation/runs/p5xzb3zq</a>"
      ],
      "text/plain": [
       "<IPython.core.display.HTML object>"
      ]
     },
     "metadata": {},
     "output_type": "display_data"
    },
    {
     "data": {
      "text/html": [
       "<button onClick=\"this.nextSibling.style.display='block';this.style.display='none';\">Display W&B run</button><iframe src='https://wandb.ai/nlp_2024/Machine_Translation/runs/p5xzb3zq?jupyter=true' style='border:none;width:100%;height:420px;display:none;'></iframe>"
      ],
      "text/plain": [
       "<wandb.sdk.wandb_run.Run at 0x7f563a201a90>"
      ]
     },
     "execution_count": 72,
     "metadata": {},
     "output_type": "execute_result"
    }
   ],
   "source": [
    "import wandb\n",
    "wandb.init(project=\"Machine_Translation\", entity=\"nlp_2024\", name=\"trial_1\")"
   ]
  },
  {
   "cell_type": "markdown",
   "metadata": {},
   "source": [
    "#### Data\n",
    "\n",
    "Data can be found in our [github](https://github.com/Neilus03/NLP-2024/blob/main/data/eng-ita.txt).\n",
    "\n",
    "The dataset is a txt file that looks like this:\n",
    "\n",
    "```\n",
    "I haven't eaten pizza recently. Io non ho mangiato della pizza di recente.\n",
    "I haven't figured that out yet.\tNon l'ho ancora capito.\n",
    "Hello! Ciao!\n",
    "I saw you in the park with Tom.\tL'ho vista al parco con Tom.\n",
    "```\n",
    "\n"
   ]
  },
  {
   "cell_type": "markdown",
   "metadata": {},
   "source": [
    "#### Creating the Lang Class"
   ]
  },
  {
   "cell_type": "code",
   "execution_count": 16,
   "metadata": {
    "collapsed": false
   },
   "outputs": [],
   "source": [
    "\n",
    "\n",
    "# Define the start-of-sequence (SOS) and end-of-sequence (EOS) tokens\n",
    "SOS_token = 0\n",
    "EOS_token = 1\n",
    "\n",
    "# Define the language class\n",
    "class Lang:\n",
    "    '''\n",
    "    Lang class to store the language vocabulary and word-to-index & index-to-word mappings.\n",
    "    It also stores the count of each word in the vocabulary\n",
    "    '''\n",
    "    def __init__(self, language):\n",
    "        self.language = language\n",
    "        self.word2index = {}  # dictionary to map words to indices\n",
    "        self.word2count = {}  # dictionary to count the occurrences of each word\n",
    "        self.index2word = {0: \"SOS\", 1: \"EOS\"}  # dictionary to map indices to words\n",
    "        self.n_words = 2  # Count SOS and EOS tokens (initially 2)\n",
    "\n",
    "    def addSentence(self, sentence):\n",
    "        # Add each word in the sentence to the language\n",
    "        for word in sentence.split(' '):\n",
    "            self.addWord(word)\n",
    "\n",
    "    def addWord(self, word):\n",
    "        # Add a word to the language\n",
    "        if word not in self.word2index:\n",
    "            # If the word is not already in the dictionary, add it\n",
    "            self.word2index[word] = self.n_words\n",
    "            self.word2count[word] = 1\n",
    "            self.index2word[self.n_words] = word\n",
    "            self.n_words += 1\n",
    "        else:\n",
    "            # If the word is already in the dictionary, increment its count\n",
    "            self.word2count[word] += 1"
   ]
  },
  {
   "cell_type": "markdown",
   "metadata": {},
   "source": [
    "#### Preprocessing the Data a little bit"
   ]
  },
  {
   "cell_type": "code",
   "execution_count": 17,
   "metadata": {
    "collapsed": false
   },
   "outputs": [],
   "source": [
    "def unicodeToAscii(unicode_string):\n",
    "    # Convert unicode characters to ASCII\n",
    "    ascii_string = ''\n",
    "    for c in unicodedata.normalize('NFD', unicode_string): # NFD = Normalization Form Canonical Decomposition\n",
    "        if unicodedata.category(c) != 'Mn': # Mn = Nonspacing_Mark\n",
    "            ascii_string += c\n",
    "    return ascii_string\n",
    "\n",
    "\n",
    "def normalizeString(s):\n",
    "    # Normalize the string by:\n",
    "    \n",
    "    # converting to lowercase,\n",
    "    s = unicodeToAscii(s.lower().strip())\n",
    "    #removing accents \n",
    "    s = re.sub(r\"([.!?])\", r\" \\1\", s)\n",
    "    #replacing non-alphabetic characters with spaces\n",
    "    s = re.sub(r\"[^a-zA-Z!?]+\", r\" \", s)\n",
    "    #removing extra spaces\n",
    "    return s.strip()\n"
   ]
  },
  {
   "cell_type": "markdown",
   "metadata": {},
   "source": [
    "#### Create read_data function, which reads the data from the file and returns the input and target language pairs."
   ]
  },
  {
   "cell_type": "code",
   "execution_count": 20,
   "metadata": {
    "collapsed": false
   },
   "outputs": [],
   "source": [
    "def read_data(lang1, lang2, reverse=True, verbose=False):\n",
    "    '''\n",
    "    Read the data file, split the file into lines and split\n",
    "    lines into pairs. the `reverse` flag is used to translate from italian\n",
    "    to english instaed of the default english to italian\n",
    "    '''\n",
    "    if verbose:\n",
    "        print(\"Opening Data\")\n",
    "    # Read the file and split into lines\n",
    "    lines = open('data/%s-%s.txt' % (lang1, lang2), encoding='utf-8').\\\n",
    "        read().strip().split('\\n')\n",
    "\n",
    "    # Split every line into pairs and normalize\n",
    "    pairs = [[normalizeString(s) for s in l.split('\\t')] for l in lines]\n",
    "\n",
    "    # Create Lang instances\n",
    "    input_lang = Lang(lang1) if not reverse else Lang(lang2)\n",
    "    output_lang = Lang(lang2) if not reverse else Lang(lang1)\n",
    "    \n",
    "    # Leave pairs as they are if not reverse, otherwise reverse the pairs\n",
    "    pairs = [list(reversed(p)) for p in pairs] if reverse else pairs\n",
    "\n",
    "    # Return the language vocabulary and the pairs\n",
    "    return input_lang, output_lang, pairs"
   ]
  },
  {
   "cell_type": "markdown",
   "metadata": {},
   "source": [
    "#### Example usage of the read_data function, and how the data looks like."
   ]
  },
  {
   "cell_type": "code",
   "execution_count": 21,
   "metadata": {},
   "outputs": [
    {
     "name": "stdout",
     "output_type": "stream",
     "text": [
      "['io sono entusiasta', 'i m enthusiastic'] ita eng\n",
      "['they re now alone', 'loro sono da soli adesso'] eng ita\n"
     ]
    }
   ],
   "source": [
    "#Example usage of the read_data \n",
    "input_lang, output_lang, pairs = read_data('eng', 'ita', reverse=True, verbose=False)\n",
    "print(random.choice(pairs), input_lang.language, output_lang.language)\n",
    "input_lang, output_lang, pairs = read_data('eng', 'ita', False, verbose=False)\n",
    "print(random.choice(pairs), input_lang.language, output_lang.language)"
   ]
  },
  {
   "cell_type": "markdown",
   "metadata": {},
   "source": [
    "#### Trim the dataset to contain only 10000 examples and only phrases with less than 10 words.\n",
    "This is done to reduce the training time and to make the model learn faster.\n",
    "If you have a better GPU, you can increase the number of examples and the length of the phrases,\n",
    "sadly we are GPU-Poor hahaha, maybe Dani and Joan can grab some from the CVC."
   ]
  },
  {
   "cell_type": "code",
   "execution_count": 22,
   "metadata": {
    "collapsed": false
   },
   "outputs": [],
   "source": [
    "MAX_LENGTH = 10\n",
    "MAX_PAIRS = 100000\n",
    "\n",
    "def filterPair(p):\n",
    "    return (len(p[0].split(' ')) and len(p[1].split(' '))) < MAX_LENGTH\n",
    "\n",
    "\n",
    "def trim_dataset(pairs):\n",
    "    # Filter pairs using the filterPair condition and choosing 100000 random pairs\n",
    "    pairs = [pair for pair in pairs if filterPair(pair)]\n",
    "    return random.sample(pairs, MAX_PAIRS)\n"
   ]
  },
  {
   "cell_type": "markdown",
   "metadata": {},
   "source": [
    "The full process for preparing the data is:\n",
    "\n",
    "-   Read text file and split into lines, split lines into pairs\n",
    "-   Normalize text, filter by length and content\n",
    "-   Make word lists from sentences in pairs\n"
   ]
  },
  {
   "cell_type": "code",
   "execution_count": 27,
   "metadata": {
    "collapsed": false
   },
   "outputs": [
    {
     "name": "stdout",
     "output_type": "stream",
     "text": [
      "Opening Data\n",
      "Read 345244 sentence pairs\n",
      "Trimmed to 100000 sentence pairs\n",
      "Counting words...\n",
      "Counted words:\n",
      "eng 9236\n",
      "ita 17105\n",
      "['i brush my teeth twice a day', 'io mi lavo i denti due volte al giorno']\n"
     ]
    }
   ],
   "source": [
    "def prepare_data(lang1, lang2, reverse=False):\n",
    "    ''''\n",
    "    Prepare the data for training by reading the data, filtering the pairs and counting the words\n",
    "    Returns the input and output language instances and the processed pairs\n",
    "    '''\n",
    "    # Read the data\n",
    "    input_lang, output_lang, pairs = read_data(lang1, lang2, reverse, verbose=True)\n",
    "    print(\"Read all the %s sentence pairs in the dataset\" % len(pairs))\n",
    "    # Filter the pairs\n",
    "    pairs = trim_dataset(pairs)\n",
    "    print(\"Trimmed to %s sentence pairs using the trim_dataset function\" % len(pairs))\n",
    "\n",
    "    for pair in pairs:\n",
    "        input_lang.addSentence(pair[0])\n",
    "        output_lang.addSentence(pair[1])\n",
    "    print(f\"There are {input_lang.n_words} words in {input_lang.language} and {output_lang.n_words} words in {output_lang.language}\")\n",
    "\n",
    "    return input_lang, output_lang, pairs\n",
    "\n",
    "input_lang, output_lang, pairs = prepare_data('eng', 'ita')\n",
    "print(random.choice(pairs))"
   ]
  },
  {
   "cell_type": "markdown",
   "metadata": {},
   "source": [
    "#### Train, Test and Validation Splits"
   ]
  },
  {
   "cell_type": "code",
   "execution_count": 28,
   "metadata": {},
   "outputs": [
    {
     "name": "stdout",
     "output_type": "stream",
     "text": [
      "The number of training pairs is 70000\n",
      "         The number of validation pairs is 15000\n",
      "         The number of test pairs is 15000\n",
      "Training Pair: ['i was very busy yesterday', 'io ero molto impegnato ieri']\n",
      "Validation Pair: ['please give me a piece of bread', 'per favore dammi un pezzo di pane']\n",
      "Test Pair: ['you re unambitious', 'lei e priva di ambizioni']\n"
     ]
    }
   ],
   "source": [
    "# Divide data into training, validation and test sets\n",
    "from sklearn.model_selection import train_test_split\n",
    "\n",
    "train_pairs, test_val_pairs = train_test_split(pairs, test_size=0.3, random_state=42) #70% train, 30% test & val\n",
    "test_pairs, val_pairs = train_test_split(test_val_pairs, test_size=0.5, random_state=42) #15% test, 15% val\n",
    "\n",
    "#Check the amount of data in each set\n",
    "print(f\"The number of training pairs is {len(train_pairs)}\\n \\\n",
    "        The number of validation pairs is {len(val_pairs)}\\n \\\n",
    "        The number of test pairs is {len(test_pairs)}\")\n",
    "\n",
    "#Sample an example from the training set, validation set and test set\n",
    "print(f\"Training Pair: {random.choice(train_pairs)}\")\n",
    "print(f\"Validation Pair: {random.choice(val_pairs)}\")\n",
    "print(f\"Test Pair: {random.choice(test_pairs)}\")"
   ]
  },
  {
   "cell_type": "markdown",
   "metadata": {},
   "source": [
    "## The Seq2Seq Model\n",
    "\n",
    "The model is composed of an encoder and a decoder. The encoder reads the input sequence and outputs a context vector for each word in the input sequence. The decoder reads the context vector and generates the output sequence, hopefully translating the input sequence to the output sequence."
   ]
  },
  {
   "cell_type": "markdown",
   "metadata": {},
   "source": [
    "![](https://www.guru99.com/images/1/111318_0848_seq2seqSequ1.png)"
   ]
  },
  {
   "cell_type": "markdown",
   "metadata": {},
   "source": [
    "### Encoder\n",
    "The encoder of a seq2seq network is a RNN, in our case we'll use a GRU for the sake of simplicity.\n",
    "This GRU encoder outputs a vector and a hidden state, and uses the hidden state for the\n",
    "next input word.\n"
   ]
  },
  {
   "cell_type": "code",
   "execution_count": 30,
   "metadata": {
    "collapsed": false
   },
   "outputs": [],
   "source": [
    "class EncoderRNN(nn.Module):\n",
    "    '''\n",
    "    EncoderRNN class to encode the input language, it uses an embedding layer and a GRU layer\n",
    "    basically it encodes the input language into a hidden state.\n",
    "    '''\n",
    "    def __init__(self, input_size, hidden_size, dropout_p=0.1):\n",
    "        super(EncoderRNN, self).__init__()\n",
    "        self.hidden_size = hidden_size\n",
    "\n",
    "        #Embedding layer to convert words to vectors of fixed size\n",
    "        self.embedding = nn.Embedding(input_size, hidden_size)\n",
    "        \n",
    "        #GRU layer to encode the input language\n",
    "        self.gru = nn.GRU(hidden_size, hidden_size, batch_first=True)\n",
    "        \n",
    "        #Dropout layer to prevent overfitting\n",
    "        self.dropout = nn.Dropout(dropout_p)\n",
    "\n",
    "    def forward(self, input):\n",
    "        '''Forward pass of the encoder'''\n",
    "        #Convert the input to embeddings and apply dropout\n",
    "        embedded = self.dropout(self.embedding(input))\n",
    "        #Pass the embeddings through the GRU layer and get the output and hidden state\n",
    "        output, hidden = self.gru(embedded)\n",
    "        return output, hidden"
   ]
  },
  {
   "cell_type": "markdown",
   "metadata": {},
   "source": [
    "#### Example usage of the EncoderRNN"
   ]
  },
  {
   "cell_type": "code",
   "execution_count": null,
   "metadata": {},
   "outputs": [],
   "source": [
    "#Hidden size\n",
    "hidden_size = 256\n",
    "\n",
    "#Create an instance of the EncoderRNN \n",
    "encoder = EncoderRNN(input_lang.n_words, hidden_size).to(device)\n",
    "\n",
    "#input tensor, it has a batch size of 1 and a sequence length of 10\n",
    "input_tensor = torch.randint(0, input_lang.n_words, (1, 10)).to(device) #random input tensor [1, 10] with values between 0 and input_lang.n_words\n",
    "\n",
    "#output and hidden state of the encoder after passing the input tensor\n",
    "output, hidden = encoder(input_tensor)\n",
    "\n",
    "#Print interesting information\n",
    "print(f\"Input Tensor Shape: {input_tensor.shape}\")\n",
    "print(\"-\"*100)\n",
    "print(f\"Output Shape: {output.shape}\")\n",
    "print(f\"Encoder Output: {output}\")\n",
    "print(\"-\"*100)\n",
    "print(f\"Hidden Shape: {hidden.shape}\")\n",
    "print(f\"Encoder Hidden: {hidden}\")"
   ]
  },
  {
   "cell_type": "markdown",
   "metadata": {},
   "source": [
    "### Attention Decoder\n",
    "\n",
    "The decoder is another RNN that takes the encoder output vector(s) and\n",
    "outputs a sequence of words to create the translation, in this case we will use an Attention Decoder. In sequence-to-sequence models, an attention decoder lets the decoder focus on different parts of the encoder's output using a calculated set of \"attention weights\". These weights help create a weighted combination of encoder outputs (attn_applied), enhancing the decoder's ability to select accurate output words based on the input sequence's relevant parts. Here we use Bahdanau attention mechanism. The process involves training a feed-forward layer to calculate these weights, adjusted for varying sentence lengths."
   ]
  },
  {
   "cell_type": "code",
   "execution_count": 42,
   "metadata": {
    "collapsed": false
   },
   "outputs": [],
   "source": [
    "class BahdanauAttention(nn.Module):\n",
    "    '''\n",
    "    The typical Badhanau Attention mechanism.\n",
    "        1. Calculate the attention scores by applying a linear layer to the encoder outputs and decoder hidden state\n",
    "        2. Apply a softmax to the scores to get the attention weights\n",
    "        3. Multiply the attention weights by the encoder outputs to get the context vector\n",
    "        4. Return the context vector and the attention weights\n",
    "    '''\n",
    "    def __init__(self, hidden_size):\n",
    "        super(BahdanauAttention, self).__init__()\n",
    "        #Linear layers to calculate the attention scores\n",
    "        self.Wa = nn.Linear(hidden_size, hidden_size) #W matrix [hidden_size x hidden_size]\n",
    "        self.Ua = nn.Linear(hidden_size, hidden_size) #U matrix [hidden_size x hidden_size]\n",
    "        self.Va = nn.Linear(hidden_size, 1) #V vector [hidden_size x 1]\n",
    "\n",
    "    def forward(self, query, keys):\n",
    "        #Get the sum of the projection of the query and keys\n",
    "        addition = self.Wa(query) + self.Ua(keys) #Addition shape is [batch_size x seq_len x hidden_size]\n",
    "        \n",
    "        #Apply a non-linearity to the sum (tanh in this case because we want to keep the values between -1 and 1)\n",
    "        activated_addition = torch.tanh(addition)#Activated addition shape is [batch_size x seq_len x hidden_size]\n",
    "        \n",
    "        #Get the attention scores by applying the V matrix to the activated addition\n",
    "        scores = self.Va(activated_addition) #Scores shape right now is [batch_size x seq_len x 1]\n",
    "        \n",
    "        #Squeeze the scores to remove the last dimension and unsqueeze the scores to add a dimension at index 1\n",
    "        scores = scores.squeeze(2).unsqueeze(1) #Scores shape is now [batch_size x 1 x seq_len]\n",
    "\n",
    "        #Apply a softmax to the scores to get the attention weights adding up to 1\n",
    "        weights = F.softmax(scores, dim=-1) #Weights shape is [batch_size x 1 x seq_len]\n",
    "        \n",
    "        #Multiply the weights by the keys to get the context vector (bmm stands for batch matrix multiplication)\n",
    "        context = torch.bmm(weights, keys) #Context shape is [batch_size x 1 x hidden_size]\n",
    "\n",
    "        #Return the context vector and the attention weights.\n",
    "        return context, weights\n",
    "\n",
    "class AttnDecoderRNN(nn.Module):\n",
    "    '''\n",
    "    Attention Decoder class to decode the encoder outputs and the hidden \n",
    "    state into the target language, hopefully making a good translation.\n",
    "    It uses an embedding layer, an attention layer and a GRU layer \n",
    "    (you could add more layers if you want to improve the model)\n",
    "    '''\n",
    "    def __init__(self, hidden_size, output_size, dropout_p=0.1):\n",
    "        super(AttnDecoderRNN, self).__init__()\n",
    "        self.embedding = nn.Embedding(output_size, hidden_size)\n",
    "        self.attention = BahdanauAttention(hidden_size)\n",
    "        self.gru = nn.GRU(2 * hidden_size, hidden_size, batch_first=True) #2 * hidden_size because we concatenate the embeddings and context vector\n",
    "        self.out = nn.Linear(hidden_size, output_size)\n",
    "        self.dropout = nn.Dropout(dropout_p)\n",
    "\n",
    "    def forward(self, encoder_outputs, encoder_hidden, target_tensor=None): #encoder outputs and encoder hidden are returned by the encoder\n",
    "        '''\n",
    "        Forward takes care of the forward pass of the decoder, it loops over the whole sequence length,\n",
    "        translating one word at a time by using the step_forward function.\n",
    "        '''\n",
    "        #Get the batch size\n",
    "        batch_size = encoder_outputs.size(0) \n",
    "        \n",
    "        #Initialize the decoder input with the SOS token for each sentence in the batch\n",
    "        decoder_input = torch.empty(batch_size, 1, dtype=torch.long, device=device).fill_(SOS_token)\n",
    "        \n",
    "        #Initialize the decoder hidden state with the encoder hidden state \n",
    "        decoder_hidden = encoder_hidden\n",
    "        \n",
    "        #Initialize the decoder outputs and attention maps as empty lists\n",
    "        decoder_outputs = []\n",
    "        attentions = []\n",
    "\n",
    "        for i in range(MAX_LENGTH):\n",
    "            #Make a forward step in the decoder, get the output, hidden state and attention weights for the decoder\n",
    "            decoder_output, decoder_hidden, attn_weights = self.forward_step(decoder_input, decoder_hidden, encoder_outputs)\n",
    "            \n",
    "            #Append the decoder output and attention weights to their respective lists\n",
    "            decoder_outputs.append(decoder_output)\n",
    "            attentions.append(attn_weights)\n",
    "\n",
    "            #If there is a target tensor, use it as the next input, otherwise use the decoder output\n",
    "            if target_tensor is not None:\n",
    "                # Teacher forcing: Feed the target as the next input\n",
    "                decoder_input = target_tensor[:, i].unsqueeze(1) # Teacher forcing\n",
    "            else:\n",
    "                # Without teacher forcing: use its own predictions as the next input\n",
    "                _, topi = decoder_output.topk(1) #Get the index of the maximum value\n",
    "                decoder_input = topi.squeeze(-1).detach()  # detach from history as input, gradient is not computed for the input.\n",
    "\n",
    "        #Concatenate the decoder outputs and attention weights along the sequence length dimension\n",
    "        decoder_outputs = torch.cat(decoder_outputs, dim=1)\n",
    "        decoder_outputs = F.log_softmax(decoder_outputs, dim=-1) #Apply a log softmax to the decoder outputs\n",
    "        attentions = torch.cat(attentions, dim=1)\n",
    "\n",
    "        #Return the decoder outputs and attention weights\n",
    "        return decoder_outputs, decoder_hidden, attentions\n",
    "\n",
    "\n",
    "    def forward_step(self, input, hidden, encoder_outputs):\n",
    "        '''\n",
    "        forward_step takes care of the forward pass of the decoder for a single time step (i.e. a single word)\n",
    "        '''\n",
    "        #Get the embeddings of the input with the applied dropout\n",
    "        embedded =  self.dropout(self.embedding(input))\n",
    "\n",
    "        #Permute the hidden state to have the batch size as the first dimension\n",
    "        query = hidden.permute(1, 0, 2) #from [1, batch_size, hidden_size] to [batch_size, 1, hidden_size]\n",
    "        \n",
    "        #Get the context vector and attention weights by applying the attention mechanism (Bahdanau)\n",
    "        context, attn_weights = self.attention(query, encoder_outputs)\n",
    "        \n",
    "        #Concatenate the embeddings and context vector along the hidden size dimension\n",
    "        input_gru = torch.cat((embedded, context), dim=2) #Concatenation shape is [batch_size x 1 x 2 * hidden_size]\n",
    "        \n",
    "        #Pass the concatenated tensor through the GRU layer, get the output and hidden state\n",
    "        output, hidden = self.gru(input_gru, hidden)\n",
    "        \n",
    "        #Pass the output through a linear layer to get the decoder output\n",
    "        output = self.out(output) #Now shape is [batch_size x 1 x output_size] \n",
    "                                  #where output_size is the number of words in the output language (i.e. Vocabulary size)\n",
    "\n",
    "        #Return the decoder output, hidden state and attention weights\n",
    "        return output, hidden, attn_weights"
   ]
  },
  {
   "cell_type": "markdown",
   "metadata": {},
   "source": [
    "#### Example usage of the AttnDecoderRNN"
   ]
  },
  {
   "cell_type": "code",
   "execution_count": 43,
   "metadata": {},
   "outputs": [
    {
     "name": "stdout",
     "output_type": "stream",
     "text": [
      "Decoder Outputs Shape: torch.Size([1, 10, 17105])\n",
      "Decoder Hidden Shape: torch.Size([1, 1, 256])\n",
      "Attentions Shape: torch.Size([1, 10, 10])\n"
     ]
    }
   ],
   "source": [
    "#Example usage of the AttnDecoderRNN\n",
    "\n",
    "#Create an instance of the AttnDecoderRNN\n",
    "decoder = AttnDecoderRNN(hidden_size, output_lang.n_words).to(device)\n",
    "\n",
    "#Pass the encoder\n",
    "decoder_outputs, decoder_hidden, attentions = decoder(output, hidden)\n",
    "\n",
    "#Print interesting information\n",
    "print(f\"Decoder Outputs Shape: {decoder_outputs.shape}\")\n",
    "print(f\"Decoder Hidden Shape: {decoder_hidden.shape}\")\n",
    "print(f\"Attentions Shape: {attentions.shape}\")"
   ]
  },
  {
   "cell_type": "markdown",
   "metadata": {},
   "source": [
    "\n",
    "## Training\n"
   ]
  },
  {
   "cell_type": "markdown",
   "metadata": {},
   "source": [
    "\n",
    "### Preparing Training Data\n",
    "\n",
    "To train, for each pair we will need an input tensor (indexes of the\n",
    "words in the input sentence) and target tensor (indexes of the words in\n",
    "the target sentence). While creating these vectors we will append the\n",
    "EOS token to both sequences."
   ]
  },
  {
   "cell_type": "code",
   "execution_count": 57,
   "metadata": {
    "collapsed": false
   },
   "outputs": [],
   "source": [
    "def sentence_to_indexes(lang, sentence):\n",
    "    '''Get the indexes of the words in the sentence using the language vocabulary'''\n",
    "    return [lang.word2index[word] for word in sentence.split(' ')]\n",
    "\n",
    "def sentence_to_tensor(lang, sentence):\n",
    "    ''' Turn sentence into tensor of word indices and add EOS token'''\n",
    "    indexes = sentence_to_indexes(lang, sentence)\n",
    "    indexes.append(EOS_token)\n",
    "    return torch.tensor(indexes, dtype=torch.long, device=device).view(1, -1)\n",
    "\n",
    "def pair_to_tensor(pair):\n",
    "    ''' Get the input and target tensors from the pair of sentences'''\n",
    "    input_tensor = sentence_to_tensor(input_lang, pair[0])\n",
    "    target_tensor = sentence_to_tensor(output_lang, pair[1])\n",
    "    return (input_tensor, target_tensor)\n",
    "\n",
    "def get_dataloaders(batch_size):\n",
    "    ''' Get the dataloaders for the training, validation and test sets'''\n",
    "    #Get the input and output languages and the pairs from the data\n",
    "    input_lang, output_lang, pairs = prepare_data('eng', 'ita', True) \n",
    "\n",
    "    # Splitting the data into train, validation, and test sets\n",
    "    train_pairs, test_val_pairs = train_test_split(pairs, test_size=0.3, random_state=42)\n",
    "    test_pairs, val_pairs = train_test_split(test_val_pairs, test_size=0.5, random_state=42)\n",
    "\n",
    "    def create_dataloader(pairs):\n",
    "        '''\n",
    "        Create a dataloader from the pairs by converting the sentences to tensors\n",
    "        and truncating the tensors to the maximum length if necessary\n",
    "        '''\n",
    "        #Get the amount of pairs\n",
    "        n = len(pairs) \n",
    "        \n",
    "        #Initialize the input and target tensors to zeros\n",
    "        input_ids = np.zeros((n, MAX_LENGTH), dtype=np.int32)  # MAX_LENGTH = 10 for now (defined at the beginning of the notebook)\n",
    "        target_ids = np.zeros((n, MAX_LENGTH), dtype=np.int32)\n",
    "\n",
    "        #Iterate over the pairs and convert the sentences to tensors\n",
    "        for idx, (inp, tgt) in enumerate(pairs):\n",
    "            #Get the indexes of the words in the sentences using the language vocabulary\n",
    "            inp_ids = sentence_to_indexes(input_lang, inp) \n",
    "            tgt_ids = sentence_to_indexes(output_lang, tgt)\n",
    "            \n",
    "            #Truncate to MAX_LENGTH-1 if necessary, which shouldn't be the case because all the filtered data is already less or equal than MAX_LENGTH\n",
    "            \n",
    "            if len(inp_ids) > MAX_LENGTH: \n",
    "                inp_ids = inp_ids[:MAX_LENGTH]  # Truncate to MAX_LENGTH-1 if necessary\n",
    "                tgt_ids = tgt_ids[:MAX_LENGTH]  # Truncate to MAX_LENGTH-1 if necessary\n",
    "            inp_ids.append(EOS_token)\n",
    "            tgt_ids.append(EOS_token)\n",
    "            \n",
    "            #Add the tensors to the input and target tensors\n",
    "            input_ids[idx, :len(inp_ids)] = inp_ids \n",
    "            target_ids[idx, :len(tgt_ids)] = tgt_ids\n",
    "\n",
    "        #Create a TensorDataset from the input and target tensors, TensorDataset is a PyTorch class to create datasets from tensors\n",
    "        dataset = TensorDataset(torch.LongTensor(input_ids).to(device),\n",
    "                                torch.LongTensor(target_ids).to(device))\n",
    "        \n",
    "        #Create a RandomSampler to sample the data randomly\n",
    "        sampler = RandomSampler(dataset)\n",
    "        \n",
    "        #Create a DataLoader from the dataset and the sampler\n",
    "        dataloader = DataLoader(dataset, sampler=sampler, batch_size=batch_size)\n",
    "        return dataloader\n",
    "\n",
    "    # Creating separate dataloaders for the training, testing, and validation sets, how do we ensure they are differen\n",
    "    train_dataloader = create_dataloader(train_pairs)\n",
    "    test_dataloader = create_dataloader(test_pairs)\n",
    "    val_dataloader = create_dataloader(val_pairs)\n",
    "    \n",
    "    #Return the input and output languages and the dataloaders for training, testing, and validation\n",
    "    return input_lang, output_lang, train_dataloader, test_dataloader, val_dataloader\n"
   ]
  },
  {
   "cell_type": "markdown",
   "metadata": {},
   "source": [
    "#### Example usage of the dataloaders"
   ]
  },
  {
   "cell_type": "code",
   "execution_count": 58,
   "metadata": {},
   "outputs": [
    {
     "name": "stdout",
     "output_type": "stream",
     "text": [
      "Opening Data\n",
      "Read 345244 sentence pairs\n",
      "Trimmed to 100000 sentence pairs\n",
      "Counting words...\n",
      "Counted words:\n",
      "ita 17271\n",
      "eng 9469\n",
      "Number of training batches: 1094\n",
      "Sample Batch: [tensor([[  100,     3,   415,    80, 11475,     1,     0,     0,     0,     0],\n",
      "        [  705,  2856,    12,  1398,    46,     1,     0,     0,     0,     0],\n",
      "        [    2,  1047,   313,     1,     0,     0,     0,     0,     0,     0],\n",
      "        [    2,  1240,    74,   361,   120,  1739,    14,  7677,     1,     0],\n",
      "        [   80,  2054,   145,   276,  4115,     1,     0,     0,     0,     0],\n",
      "        [  476,  3000,     1,     0,     0,     0,     0,     0,     0,     0],\n",
      "        [    2,     3,    52,   577,     1,     0,     0,     0,     0,     0],\n",
      "        [   80,   356,   362,   202,  1873,     1,     0,     0,     0,     0],\n",
      "        [    2,  3254,    15,   642,  2053,    80,   497,     1,     0,     0],\n",
      "        [  100,    95, 14867,    41,     1,     0,     0,     0,     0,     0],\n",
      "        [  167,    52,    12,  1211,    34,   287,    21,    65,    42,     1],\n",
      "        [ 1918,  1919,     1,     0,     0,     0,     0,     0,     0,     0],\n",
      "        [  100,    95,   646,     2,     1,     0,     0,     0,     0,     0],\n",
      "        [   48,  1064,    52,  1013,     1,     0,     0,     0,     0,     0],\n",
      "        [  893,  7937,  7474,     1,     0,     0,     0,     0,     0,     0],\n",
      "        [  100,    23,    31, 11458,   118,     7,     1,     0,     0,     0],\n",
      "        [   72,  2511,   412,     1,     0,     0,     0,     0,     0,     0],\n",
      "        [   37,   198,    80,     2,    74,  6554,  1257,   111,   891,     1],\n",
      "        [    3,   258,   894,    12,  3377,     1,     0,     0,     0,     0],\n",
      "        [    2,     3,    52,  2738,     1,     0,     0,     0,     0,     0],\n",
      "        [   23,   432,   485,   430,  1224,     1,     0,     0,     0,     0],\n",
      "        [   69,   378,  1344, 10332,    60,    75,    53,     1,     0,     0],\n",
      "        [ 6427,    88,   820,     1,     0,     0,     0,     0,     0,     0],\n",
      "        [   48,   957,  1289,    52,  6795,    31,     1,     0,     0,     0],\n",
      "        [   66,     2,  5392,  4962,   404,    46,     1,     0,     0,     0],\n",
      "        [    2,    40,  3671,   222,     1,     0,     0,     0,     0,     0],\n",
      "        [    2,    52,  2557,  4008,     1,     0,     0,     0,     0,     0],\n",
      "        [   52,   418,   638,    14,   287,    95,   829,     1,     0,     0],\n",
      "        [    2,    47,   830,     1,     0,     0,     0,     0,     0,     0],\n",
      "        [  474,  4717,   517,    46,     1,     0,     0,     0,     0,     0],\n",
      "        [ 8396,    47,   427,     8,   587,   430,     1,     0,     0,     0],\n",
      "        [   23,   879,  7634,    34,   719,     1,     0,     0,     0,     0],\n",
      "        [  207,  6148,    15,  6000,     1,     0,     0,     0,     0,     0],\n",
      "        [  859,     2,   293,  3765,     1,     0,     0,     0,     0,     0],\n",
      "        [    2,    47,  9861,    48,  1894,     1,     0,     0,     0,     0],\n",
      "        [  100,    23,  4357,     1,     0,     0,     0,     0,     0,     0],\n",
      "        [    3,   492,    52,   795,    42,     1,     0,     0,     0,     0],\n",
      "        [  425,    40,    46,     1,     0,     0,     0,     0,     0,     0],\n",
      "        [ 1170,   718,    46,     1,     0,     0,     0,     0,     0,     0],\n",
      "        [    2,  1116,     3,  1830,     1,     0,     0,     0,     0,     0],\n",
      "        [  100,    37,   693,   913,  2659,   111,    51,     1,     0,     0],\n",
      "        [  103,   741,   103,  1059,    54,    46,     1,     0,     0,     0],\n",
      "        [   60,  4095,   111,  1229,    46,     1,     0,     0,     0,     0],\n",
      "        [    2,    95,    40,  3615,     1,     0,     0,     0,     0,     0],\n",
      "        [  207,    21,   430,  9765,    46,     1,     0,     0,     0,     0],\n",
      "        [  177,   492,    10,  3447,    46,     1,     0,     0,     0,     0],\n",
      "        [   72,    33,  3423,    54,    46,     1,     0,     0,     0,     0],\n",
      "        [  103,    37,   666,   151,  2427,     1,     0,     0,     0,     0],\n",
      "        [   66,    47,  7365,    46,     1,     0,     0,     0,     0,     0],\n",
      "        [  448,    52,    12,   892,   225,    46,    52,  3447,     1,     0],\n",
      "        [   95,    23, 16395,    12,  9210,   192,     3,    23,  4559,     1],\n",
      "        [   12,   168,   948,    52,  4389,    46,     1,     0,     0,     0],\n",
      "        [  425,   412,    67,    46,     1,     0,     0,     0,     0,     0],\n",
      "        [   83,    52,  4075,    46,     1,     0,     0,     0,     0,     0],\n",
      "        [   12,  1858,    34,     2,     1,     0,     0,     0,     0,     0],\n",
      "        [  652,    23,   305,    34,    51,     1,     0,     0,     0,     0],\n",
      "        [  145,   463,   464,  5288,     1,     0,     0,     0,     0,     0],\n",
      "        [   62,    52,    31,  5747,   264,  4565,     1,     0,     0,     0],\n",
      "        [   33,  1988,     1,     0,     0,     0,     0,     0,     0,     0],\n",
      "        [   80,   356,   362,  1906,    15,  1034,     1,     0,     0,     0],\n",
      "        [   23,   128,   783,    14,   274,   441,     1,     0,     0,     0],\n",
      "        [   72,  1487,    48,    25,    80,   245,    46,     1,     0,     0],\n",
      "        [   74,  1054,    14,  2797, 14252,    46,     1,     0,     0,     0],\n",
      "        [   37,   222,    15,  1366,    14,   275,     1,     0,     0,     0]]), tensor([[  24,  293,    4, 1550,   18,    1,    0,    0,    0,    0],\n",
      "        [ 226,   21,  722,  429,    8, 1094,   48,    1,    0,    0],\n",
      "        [   2,  103,  829,   24,  102,    1,    0,    0,    0,    0],\n",
      "        [   2, 2293,   84,  253,   29, 1466,    1,    0,    0,    0],\n",
      "        [1543,   75,   99,  741,    1,    0,    0,    0,    0,    0],\n",
      "        [  24, 2117,   21,    1,    0,    0,    0,    0,    0,    0],\n",
      "        [   2,   42, 2556,    1,    0,    0,    0,    0,    0,    0],\n",
      "        [  24,  146,  123, 1421,    1,    0,    0,    0,    0,    0],\n",
      "        [   2,   65,   14,  618,  538,   29,  430,    1,    0,    0],\n",
      "        [  24,  103, 2057,    1,    0,    0,    0,    0,    0,    0],\n",
      "        [ 154,   52,   70, 1284,  240,   84,   66,   44,   48,    1],\n",
      "        [  21,   22,   77,   29,   30,   14, 1457,    1,    0,    0],\n",
      "        [  46,  440,   52,    2,    1,    0,    0,    0,    0,    0],\n",
      "        [   8,  838,   42,  807,    1,    0,    0,    0,    0,    0],\n",
      "        [  21,  293,  672,   61, 1288,    1,    0,    0,    0,    0],\n",
      "        [  24,   25,   34, 7537,  152,  123,    1,    0,    0,    0],\n",
      "        [  21,  280,  369,    1,    0,    0,    0,    0,    0,    0],\n",
      "        [  24,  253,    2,   75,  255,   30,  717,    1,    0,    0],\n",
      "        [  75, 1559,    4,   50,   39,  127,    1,    0,    0,    0],\n",
      "        [   2,   72,    4,  272,    1,    0,    0,    0,    0,    0],\n",
      "        [ 542, 6698,    1,    0,    0,    0,    0,    0,    0,    0],\n",
      "        [  46, 1061,   50, 2399,   60,   24,   10,   54,    1,    0],\n",
      "        [  24,   25,   77,   29,  516,   14,  660,    1,    0,    0],\n",
      "        [  70, 1011,  498, 4319,   14,  310,    1,    0,    0,    0],\n",
      "        [  67,  251,    2,  252, 1468,  365,   48,    1,    0,    0],\n",
      "        [   2,   42,  676,  831,    1,    0,    0,    0,    0,    0],\n",
      "        [   2,  773,  819,    1,    0,    0,    0,    0,    0,    0],\n",
      "        [   6,   52,   39,   24,  668,   63,    1,    0,    0,    0],\n",
      "        [   2,  669,    1,    0,    0,    0,    0,    0,    0,    0],\n",
      "        [  21,   22, 1698,  196,   48,    1,    0,    0,    0,    0],\n",
      "        [5191, 3538,  502,   19,    1,    0,    0,    0,    0,    0],\n",
      "        [  24,   25,  462,  292,   29,    5,    6,    1,    0,    0],\n",
      "        [  21,  808,   14, 3868,    1,    0,    0,    0,    0,    0],\n",
      "        [2505,    2,  103, 2571,   21,    1,    0,    0,    0,    0],\n",
      "        [   2, 5984,    8, 1437,  831,    1,    0,    0,    0,    0],\n",
      "        [  24,   25, 5325,    1,    0,    0,    0,    0,    0,    0],\n",
      "        [  61,   72,    4,  646,   44,    1,    0,    0,    0,    0],\n",
      "        [  81,  135,   21,  413,   48,    1,    0,    0,    0,    0],\n",
      "        [ 293,   21,  592,   48,    1,    0,    0,    0,    0,    0],\n",
      "        [   2,  612,  210,    4, 1386,    1,    0,    0,    0,    0],\n",
      "        [  24,   69,  574,  340, 1661,   19,   21,    1,    0,    0],\n",
      "        [  21,  146,  834,   32,    4,   21,   48,    1,    0,    0],\n",
      "        [  60,    5,   21,   98,   20,   29,  965,   48,    1,    0],\n",
      "        [   2,   42, 1174,  240,  254,    1,    0,    0,    0,    0],\n",
      "        [ 135,   21,  137,    8,  385,   48,    1,    0,    0,    0],\n",
      "        [ 154,   10,  258,  369,   48,    1,    0,    0,    0,    0],\n",
      "        [  21,   22,  230,  121,    4,   21,   48,    1,    0,    0],\n",
      "        [  24, 2652,   21,  100, 1756,    1,    0,    0,    0,    0],\n",
      "        [  67,  184,   21,  669,   48,    1,    0,    0,    0,    0],\n",
      "        [ 343,   42,   70,  349,   48,   61,   42,  652,  369,    1],\n",
      "        [  24, 6260,   46, 5627,  181,   36, 1311,  114,    1,    0],\n",
      "        [  42,   70,  761, 2380,   48,    1,    0,    0,    0,    0],\n",
      "        [  81,    5,   21,   45,  776,   48,    1,    0,    0,    0],\n",
      "        [  81,  184,   21,   99, 1769,   48,    1,    0,    0,    0],\n",
      "        [  24, 1027,   61,  240,    2,    1,    0,    0,    0,    0],\n",
      "        [ 187,   22,  158,  240,   21,    1,    0,    0,    0,    0],\n",
      "        [  75,   22,  403,  404,    1,    0,    0,    0,    0,    0],\n",
      "        [  62,   42,   34, 3707,   29, 4819,    1,    0,    0,    0],\n",
      "        [  21,   22, 1502,    1,    0,    0,    0,    0,    0,    0],\n",
      "        [  24,  146,   29, 1444,   14,  820,    1,    0,    0,    0],\n",
      "        [  24,   25,  326,  327,   21,  102,    1,    0,    0,    0],\n",
      "        [   5,   21,  390,   26,   38,  225,   48,    1,    0,    0],\n",
      "        [ 154,  658,   13, 1775,    5,   21, 5972,   48,    1,    0],\n",
      "        [  24,  203,   69, 2732,   13,  458,    1,    0,    0,    0]])]\n"
     ]
    }
   ],
   "source": [
    "\n",
    "# Example usage:\n",
    "batch_size = 64\n",
    "input_lang, output_lang, train_dataloader, test_dataloader, val_dataloader = get_dataloaders(batch_size)\n",
    "\n",
    "print(f\"Number of training batches: {len(train_dataloader)}\")\n",
    "\n",
    "#Sample a batch from the training dataloader\n",
    "print(f\"Sample Batch: { next(iter(train_dataloader))}\")"
   ]
  },
  {
   "cell_type": "markdown",
   "metadata": {},
   "source": [
    "### Training the model\n",
    "\n",
    "To train the model, we start by passing the input sentence to the encoder, which saves all its outputs and the final hidden state. Then, the decoder starts with the <SOS> token as its initial input and uses the encoder’s last hidden state as its first hidden state.\n",
    "\n",
    "We use Teacher forcing which is a technique where the true target outputs are used as each subsequent input to the decoder, rather than the decoder's own predictions. This method helps the model train faster but can lead to instability when the model is used in practice, as noted in research. This happens because the model might learn to form correct grammar and structure by following the lead given by the initial words, but it might not learn to generate the sentence independently from the input translation.\n",
    "\n",
    "PyTorch's autograd system allows us to easily integrate teacher forcing randomly in training by using an if statement to decide when to apply it. We can then adjust the teacher_forcing_ratio to control how frequently teacher forcing is used."
   ]
  },
  {
   "cell_type": "code",
   "execution_count": 62,
   "metadata": {},
   "outputs": [],
   "source": [
    "def train_epoch(dataloader, encoder, decoder, encoder_optimizer, decoder_optimizer, criterion, train=True):\n",
    "    '''\n",
    "    train_epoch function to train the encoder and decoder for one epoch\n",
    "    '''\n",
    "    #First check if we are training or evaluating\n",
    "    if train:\n",
    "        #Set the encoder and decoder to training mode\n",
    "        encoder.train()\n",
    "        decoder.train()\n",
    "    else:\n",
    "        #Set the encoder and decoder to evaluation mode\n",
    "        encoder.eval()\n",
    "        decoder.eval()\n",
    "\n",
    "    #initialize the total loss to 0\n",
    "    total_loss = 0\n",
    "    \n",
    "    #iterate over the dataloader\n",
    "    for data in dataloader:\n",
    "        \n",
    "        #Get the input and target tensors from the data\n",
    "        input_tensor, target_tensor = data\n",
    "        \n",
    "        #Zero the gradients of the encoder and decoder for each batch\n",
    "        encoder_optimizer.zero_grad()\n",
    "        decoder_optimizer.zero_grad()\n",
    "        \n",
    "        #Pass the input tensor through the encoder and get the outputs and hidden state\n",
    "        encoder_outputs, encoder_hidden = encoder(input_tensor)\n",
    "        \n",
    "        #Pass the outputs of the encoder through the decoder and get\n",
    "        decoder_outputs, hidden, attn_weights = decoder(encoder_outputs, encoder_hidden, target_tensor)\n",
    "        \n",
    "        #Calculate the loss by comparing the decoder outputs and the target tensor\n",
    "        loss = criterion(decoder_outputs.view(-1, decoder_outputs.size(-1)), target_tensor.view(-1))\n",
    "        \n",
    "        if train:\n",
    "            #If training, backpropagate the loss and update the parameters, if evaluating, only accumulate the loss\n",
    "            loss.backward()\n",
    "            encoder_optimizer.step()\n",
    "            decoder_optimizer.step()\n",
    "            \n",
    "        #Update the total loss\n",
    "        total_loss += loss.item()\n",
    "        \n",
    "    #Return the average loss for the epoch\n",
    "    return total_loss / len(dataloader)\n"
   ]
  },
  {
   "cell_type": "markdown",
   "metadata": {},
   "source": [
    "This is a helper function to print time elapsed and estimated time\n",
    "remaining given the current time and progress %.\n"
   ]
  },
  {
   "cell_type": "code",
   "execution_count": 63,
   "metadata": {
    "collapsed": false
   },
   "outputs": [],
   "source": [
    "import time\n",
    "import math\n",
    "\n",
    "def asMinutes(s):\n",
    "    ''' Convert seconds to minutes and seconds '''\n",
    "    m = math.floor(s / 60) #Get the minutes\n",
    "    s -= m * 60 #Get the remaining seconds\n",
    "    \n",
    "    #Return the formatted string with minutes and seconds\n",
    "    return '%dm %ds' % (m, s) \n",
    "\n",
    "def timeSince(since, percent):\n",
    "    ''' Calculate the remaining time given the current time and the percentage of completion'''\n",
    "    #Get the current time\n",
    "    now = time.time()\n",
    "    #Calculate the elapsed time\n",
    "    s = now - since\n",
    "    #Calculate the remaining time\n",
    "    es = s / (percent)\n",
    "    #Calculate the remaining time in seconds\n",
    "    rs = es - s\n",
    "    #Return the formatted string with the remaining time in minutes and seconds\n",
    "    return '%s (- %s)' % (asMinutes(s), asMinutes(rs))"
   ]
  },
  {
   "cell_type": "markdown",
   "metadata": {},
   "source": [
    "The whole training process looks like this:\n",
    "\n",
    "-   Start a timer\n",
    "-   Initialize optimizers and criterion\n",
    "-   Create set of training pairs\n",
    "-   Start empty losses array for plotting\n",
    "\n",
    "Then we call `train` many times and occasionally print the progress (%\n",
    "of examples, time so far, estimated time) and average loss.\n"
   ]
  },
  {
   "cell_type": "code",
   "execution_count": 74,
   "metadata": {},
   "outputs": [],
   "source": [
    "from tqdm import tqdm\n",
    "def train(train_dataloader, val_dataloader, encoder, decoder, n_epochs, learning_rate=0.001,\n",
    "          print_every=1, log_wandb=True, save_models=True):\n",
    "    start = time.time()\n",
    "    plot_losses = []\n",
    "\n",
    "    encoder_optimizer = optim.Adam(encoder.parameters(), lr=learning_rate)\n",
    "    decoder_optimizer = optim.Adam(decoder.parameters(), lr=learning_rate)\n",
    "    criterion = nn.NLLLoss()\n",
    "\n",
    "    for epoch in tqdm(range(1, n_epochs + 1)):\n",
    "        train_loss = train_epoch(train_dataloader, encoder, decoder, encoder_optimizer, decoder_optimizer, criterion, train=True)\n",
    "        val_loss = train_epoch(val_dataloader, encoder, decoder, encoder_optimizer, decoder_optimizer, criterion, train=False)\n",
    "        plot_losses.append((train_loss, val_loss))\n",
    "\n",
    "        if log_wandb:\n",
    "            wandb.log({\"epoch\": epoch, \"train_loss\": train_loss, \"val_loss\": val_loss})\n",
    "\n",
    "        if epoch % print_every == 0:\n",
    "            print(f'Epoch: {epoch}, Train Loss: {train_loss:.4f}, Val Loss: {val_loss:.4f}, Time: {timeSince(start, epoch / n_epochs)}')\n",
    "\n",
    "        if save_models:\n",
    "            torch.save(encoder.state_dict(), f\"encoder_epoch_{epoch}.pt\")\n",
    "            torch.save(decoder.state_dict(), f\"decoder_epoch_{epoch}.pt\")\n",
    "\n",
    "    if log_wandb:\n",
    "        wandb.finish()\n"
   ]
  },
  {
   "cell_type": "markdown",
   "metadata": {},
   "source": [
    "Evaluation\n",
    "==========\n",
    "\n",
    "Evaluation is mostly the same as training, but there are no targets so\n",
    "we simply feed the decoder\\'s predictions back to itself for each step.\n",
    "Every time it predicts a word we add it to the output string, and if it\n",
    "predicts the EOS token we stop there. We also store the decoder\\'s\n",
    "attention outputs for display later.\n"
   ]
  },
  {
   "cell_type": "code",
   "execution_count": 16,
   "metadata": {
    "collapsed": false
   },
   "outputs": [],
   "source": [
    "def evaluate(encoder, decoder, sentence, input_lang, output_lang):\n",
    "    with torch.no_grad():\n",
    "        input_tensor = sentence_to_tensor(input_lang, sentence)\n",
    "\n",
    "        encoder_outputs, encoder_hidden = encoder(input_tensor)\n",
    "        decoder_outputs, decoder_hidden, decoder_attn = decoder(encoder_outputs, encoder_hidden)\n",
    "\n",
    "        _, topi = decoder_outputs.topk(1)\n",
    "        decoded_ids = topi.squeeze()\n",
    "\n",
    "        decoded_words = []\n",
    "        for idx in decoded_ids:\n",
    "            if idx.item() == EOS_token:\n",
    "                decoded_words.append('<EOS>')\n",
    "                break\n",
    "            decoded_words.append(output_lang.index2word[idx.item()])\n",
    "    return decoded_words, decoder_attn"
   ]
  },
  {
   "cell_type": "markdown",
   "metadata": {},
   "source": [
    "We can evaluate random sentences from the training set and print out the\n",
    "input, target, and output to make some subjective quality judgements:\n"
   ]
  },
  {
   "cell_type": "code",
   "execution_count": 17,
   "metadata": {
    "collapsed": false
   },
   "outputs": [],
   "source": [
    "def evaluateRandomly(encoder, decoder, n=10):\n",
    "    for i in range(n):\n",
    "        pair = random.choice(pairs)\n",
    "        print('>', pair[0])\n",
    "        print('=', pair[1])\n",
    "        output_words, _ = evaluate(encoder, decoder, pair[0], input_lang, output_lang)\n",
    "        output_sentence = ' '.join(output_words)\n",
    "        print('<', output_sentence)\n",
    "        print('')"
   ]
  },
  {
   "cell_type": "markdown",
   "metadata": {},
   "source": [
    "### Training and Evaluating\n"
   ]
  },
  {
   "cell_type": "code",
   "execution_count": 76,
   "metadata": {},
   "outputs": [
    {
     "name": "stdout",
     "output_type": "stream",
     "text": [
      "Opening Data\n",
      "Read 345244 sentence pairs\n",
      "Trimmed to 100000 sentence pairs\n",
      "Counting words...\n",
      "Counted words:\n",
      "ita 17133\n",
      "eng 9449\n",
      "Epoch: 1, Train Loss: 2.7459, Val Loss: 2.0487, Time: 0m 58s (- 8m 42s)\n",
      "Epoch: 2, Train Loss: 1.7682, Val Loss: 1.5512, Time: 1m 55s (- 7m 40s)\n",
      "Epoch: 3, Train Loss: 1.3647, Val Loss: 1.2822, Time: 2m 55s (- 6m 48s)\n",
      "Epoch: 4, Train Loss: 1.1057, Val Loss: 1.1189, Time: 3m 53s (- 5m 50s)\n",
      "Epoch: 5, Train Loss: 0.9240, Val Loss: 1.0096, Time: 4m 52s (- 4m 52s)\n",
      "Epoch: 6, Train Loss: 0.7943, Val Loss: 0.9421, Time: 5m 50s (- 3m 53s)\n",
      "Epoch: 7, Train Loss: 0.6953, Val Loss: 0.8880, Time: 6m 51s (- 2m 56s)\n",
      "Epoch: 8, Train Loss: 0.6163, Val Loss: 0.8514, Time: 7m 51s (- 1m 57s)\n",
      "Epoch: 9, Train Loss: 0.5550, Val Loss: 0.8225, Time: 8m 51s (- 0m 59s)\n",
      "Epoch: 10, Train Loss: 0.5037, Val Loss: 0.8012, Time: 9m 49s (- 0m 0s)\n"
     ]
    }
   ],
   "source": [
    "# Train the model\n",
    "\n",
    "hidden_size = 128\n",
    "batch_size = 64\n",
    "\n",
    "input_lang, output_lang, train_dataloader, test_dataloader, val_dataloader = get_dataloaders(batch_size)\n",
    "\n",
    "encoder = EncoderRNN(input_lang.n_words, hidden_size).to(device)\n",
    "decoder = AttnDecoderRNN(hidden_size, output_lang.n_words).to(device)\n",
    "\n",
    "train(train_dataloader, val_dataloader, encoder, decoder, n_epochs=10, learning_rate=0.001, log_wandb=True, save_models=True)\n"
   ]
  },
  {
   "cell_type": "markdown",
   "metadata": {},
   "source": [
    "Set dropout layers to `eval` mode\n"
   ]
  },
  {
   "cell_type": "code",
   "execution_count": null,
   "metadata": {
    "collapsed": false
   },
   "outputs": [],
   "source": [
    "encoder.eval()\n",
    "decoder.eval()\n",
    "evaluateRandomly(encoder, decoder)"
   ]
  },
  {
   "cell_type": "markdown",
   "metadata": {},
   "source": [
    "Visualizing Attention\n",
    "=====================\n",
    "\n",
    "A useful property of the attention mechanism is its highly interpretable\n",
    "outputs. Because it is used to weight specific encoder outputs of the\n",
    "input sequence, we can imagine looking where the network is focused most\n",
    "at each time step.\n",
    "\n",
    "You could simply run `plt.matshow(attentions)` to see attention output\n",
    "displayed as a matrix. For a better viewing experience we will do the\n",
    "extra work of adding axes and labels:\n"
   ]
  },
  {
   "cell_type": "code",
   "execution_count": null,
   "metadata": {
    "collapsed": false
   },
   "outputs": [],
   "source": [
    "def showAttention(input_sentence, output_words, attentions):\n",
    "    fig = plt.figure()\n",
    "    ax = fig.add_subplot(111)\n",
    "    cax = ax.matshow(attentions.cpu().numpy(), cmap='bone')\n",
    "    fig.colorbar(cax)\n",
    "\n",
    "    # Set up axes\n",
    "    ax.set_xticklabels([''] + input_sentence.split(' ') +\n",
    "                       ['<EOS>'], rotation=90)\n",
    "    ax.set_yticklabels([''] + output_words)\n",
    "\n",
    "    # Show label at every tick\n",
    "    ax.xaxis.set_major_locator(ticker.MultipleLocator(1))\n",
    "    ax.yaxis.set_major_locator(ticker.MultipleLocator(1))\n",
    "\n",
    "    plt.show()\n",
    "\n",
    "\n",
    "def evaluateAndShowAttention(input_sentence):\n",
    "    output_words, attentions = evaluate(encoder, decoder, input_sentence, input_lang, output_lang)\n",
    "    print('input =', input_sentence)\n",
    "    print('output =', ' '.join(output_words))\n",
    "    showAttention(input_sentence, output_words, attentions[0, :len(output_words), :])\n",
    "\n",
    "\n",
    "evaluateAndShowAttention('io sono troppo stanco per guidare')\n",
    "\n",
    "evaluateAndShowAttention('tu sei un bravo ragazzo')\n",
    "\n",
    "evaluateAndShowAttention('ci sono facendo gli spaghetti')\n",
    "\n",
    "evaluateAndShowAttention('lui e molto carino')"
   ]
  },
  {
   "cell_type": "markdown",
   "metadata": {},
   "source": [
    "Exercises\n",
    "=========\n",
    "\n",
    "-   Try with a different dataset\n",
    "    -   Another language pair\n",
    "    -   Human → Machine (e.g. IOT commands)\n",
    "    -   Chat → Response\n",
    "    -   Question → Answer\n",
    "-   Replace the embeddings with pretrained word embeddings such as\n",
    "    `word2vec` or `GloVe`\n",
    "-   Try with more layers, more hidden units, and more sentences. Compare\n",
    "    the training time and results.\n",
    "-   If you use a translation file where pairs have two of the same\n",
    "    phrase (`I am test \\t I am test`), you can use this as an\n",
    "    autoencoder. Try this:\n",
    "    -   Train as an autoencoder\n",
    "    -   Save only the Encoder network\n",
    "    -   Train a new Decoder for translation from there\n"
   ]
  }
 ],
 "metadata": {
  "kernelspec": {
   "display_name": "Python 3",
   "language": "python",
   "name": "python3"
  },
  "language_info": {
   "codemirror_mode": {
    "name": "ipython",
    "version": 3
   },
   "file_extension": ".py",
   "mimetype": "text/x-python",
   "name": "python",
   "nbconvert_exporter": "python",
   "pygments_lexer": "ipython3",
   "version": "3.11.5"
  }
 },
 "nbformat": 4,
 "nbformat_minor": 0
}
